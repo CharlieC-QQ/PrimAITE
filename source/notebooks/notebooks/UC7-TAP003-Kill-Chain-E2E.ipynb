{
 "cells": [
  {
   "cell_type": "markdown",
   "metadata": {},
   "source": [
    "# TAP003 - Malicious Insider Kill Chain\n",
    "\n",
    "© Crown-owned copyright 2025, Defence Science and Technology Laboratory UK\n",
    "\n",
    "**Threat Actor Profile (TAP):** 003 <br/>\n",
    "**Kill Chain**: Insider"
   ]
  },
  {
   "cell_type": "markdown",
   "metadata": {},
   "source": [
    "This notebook demonstrates the new TAP003 red agent which simulates a malicious insider which performs an internal cyber attack. In this scenario an malicious `some_tech` admin leverages their legitimate credentials and permissions to create purposeful backdoors, establish footholds and use other legitimate features in malicious ways.\n",
    "<br/>\n",
    "\n",
    "In this version of PrimAITE, TAP003 opts to alter user accounts and implement malicious ACL rule by using the ``terminal`` service to SSH into target routers. These ACLs block green traffic which trigger a negative reward.\n",
    "<br/>\n",
    "\n",
    "This TAP was designed to be both realistic but also dissimilar to the more traditional red agents such as [TAP001](./UC7-TAP001-Kill-Chain-E2E.ipynb) or use case 2's [data_manipulation_bot](./Data-Manipulation-Customising-Red-Agent.ipynb)."
   ]
  },
  {
   "cell_type": "code",
   "execution_count": 1,
   "metadata": {
    "execution": {
     "iopub.execute_input": "2025-03-24T09:57:05.743280Z",
     "iopub.status.busy": "2025-03-24T09:57:05.743077Z",
     "iopub.status.idle": "2025-03-24T09:57:06.167743Z",
     "shell.execute_reply": "2025-03-24T09:57:06.166903Z"
    }
   },
   "outputs": [
    {
     "name": "stdout",
     "output_type": "stream",
     "text": [
      "2025-03-24 09:57:06,010: Performing the PrimAITE first-time setup...\r\n",
      "2025-03-24 09:57:06,010: Building the PrimAITE app directories...\r\n",
      "2025-03-24 09:57:06,010: Building primaite_config.yaml...\r\n",
      "2025-03-24 09:57:06,010: Rebuilding the demo notebooks...\r\n",
      "2025-03-24 09:57:06,033: Rebuilding the example notebooks...\r\n",
      "2025-03-24 09:57:06,035: PrimAITE setup complete!\r\n"
     ]
    }
   ],
   "source": [
    "!primaite setup"
   ]
  },
  {
   "cell_type": "code",
   "execution_count": 2,
   "metadata": {
    "execution": {
     "iopub.execute_input": "2025-03-24T09:57:06.171149Z",
     "iopub.status.busy": "2025-03-24T09:57:06.170697Z",
     "iopub.status.idle": "2025-03-24T09:57:09.813681Z",
     "shell.execute_reply": "2025-03-24T09:57:09.813030Z"
    },
    "metadata": {}
   },
   "outputs": [],
   "source": [
    "# Importing the necessary primAITE libraries\n",
    "from primaite.session.environment import PrimaiteGymEnv\n",
    "from primaite.simulator.system.applications.database_client import DatabaseClient\n",
    "from primaite.simulator.system.services.dns.dns_client import DNSClient\n",
    "from primaite.simulator.network.hardware.nodes.host.computer import Computer\n",
    "from primaite.simulator.system.applications.web_browser import WebBrowser\n",
    "from primaite.simulator.network.hardware.nodes.network.router import Router\n",
    "from primaite.game.agent.scripted_agents.TAP003 import TAP003, InsiderKillChain, InsiderKillChainOptions\n",
    "from primaite.config.load import load, _EXAMPLE_CFG\n",
    "from pprint import pprint\n",
    "from deepdiff.diff import DeepDiff\n",
    "from prettytable import PrettyTable\n",
    "import yaml"
   ]
  },
  {
   "cell_type": "code",
   "execution_count": 3,
   "metadata": {
    "execution": {
     "iopub.execute_input": "2025-03-24T09:57:09.816779Z",
     "iopub.status.busy": "2025-03-24T09:57:09.816435Z",
     "iopub.status.idle": "2025-03-24T09:57:09.824353Z",
     "shell.execute_reply": "2025-03-24T09:57:09.823767Z"
    }
   },
   "outputs": [],
   "source": [
    "# Utility functions.\n",
    "\n",
    "def print_agent_actions_except_do_nothing(agent_name):\n",
    "    \"\"\"Get the agent's action history, filter out `do-nothing` actions, print relevant data in a table.\"\"\"\n",
    "    table = PrettyTable()\n",
    "    table.field_names = [\"Step\", \"Action\", \"Node\", \"Application\", \"Target IP\", \"Response\"]\n",
    "    print(f\"Episode: {env.episode_counter}, Actions for '{agent_name}':\")\n",
    "    for item in env.game.agents[agent_name].history:\n",
    "        if item.action == \"do-nothing\":\n",
    "            continue\n",
    "\n",
    "        node, application, target_ip = \"N/A\", \"N/A\", \"N/A\",\n",
    "\n",
    "        if item.action.startswith(\"node-nmap\"):\n",
    "            node = item.parameters['source_node']\n",
    "            application = \"nmap\"\n",
    "            target_ip = str(item.parameters['target_ip_address'])\n",
    "            target_ip = (target_ip[:25]+'...') if len(target_ip)>25 else target_ip # truncate long string\n",
    "\n",
    "        elif item.action == \"router-acl-add-rule\":\n",
    "            node = item.parameters.get(\"router_name\")\n",
    "        elif item.action == \"node-send-remote-command\":\n",
    "            node = item.parameters.get(\"node_name\")\n",
    "            target_ip = item.parameters.get(\"remote_ip\")\n",
    "            application = item.parameters.get(\"command\")\n",
    "        elif item.action == \"node-session-remote-login\":\n",
    "            node = item.parameters.get(\"node_name\")\n",
    "            target_ip = item.parameters.get(\"remote_ip\")\n",
    "            application = \"user-manager\"\n",
    "        elif item.action.startswith(\"c2-server\"):\n",
    "            application = \"c2-server\"\n",
    "            node = item.parameters.get('node_name')\n",
    "        elif item.action == \"configure-c2-beacon\":\n",
    "            application = \"c2-beacon\"\n",
    "            node = item.parameters.get('node_name')\n",
    "\n",
    "        else:\n",
    "            if (item.parameters.get('node_name')) is not None:\n",
    "                node = item.parameters.get('node_name')\n",
    "            if (item.parameters.get('application_name')) is not None:\n",
    "                application = item.parameters.get('application_name')\n",
    "            if (application_name := item.parameters.get('application_name')) is not None:\n",
    "                application = application_name\n",
    "\n",
    "        table.add_row([item.timestep, item.action, node, application, target_ip, item.response.status])\n",
    "\n",
    "    print(table)\n",
    "    print(\"(Any do-nothing actions are omitted)\")\n"
   ]
  },
  {
   "cell_type": "code",
   "execution_count": 4,
   "metadata": {
    "execution": {
     "iopub.execute_input": "2025-03-24T09:57:09.826592Z",
     "iopub.status.busy": "2025-03-24T09:57:09.826390Z",
     "iopub.status.idle": "2025-03-24T09:57:09.830068Z",
     "shell.execute_reply": "2025-03-24T09:57:09.829464Z"
    }
   },
   "outputs": [],
   "source": [
    "def display_obs_diffs(old, new, step_counter):\n",
    "    \"\"\"\n",
    "    Use DeepDiff to extract and display differences in old and new instances of\n",
    "    the observation space.\n",
    "\n",
    "    :param old: observation space instance.\n",
    "    :param new: observation space instance.\n",
    "    :param step_counter: current step counter.\n",
    "    \"\"\"\n",
    "    print(\"\\nObservation space differences\")\n",
    "    print(\"-----------------------------\")\n",
    "    diff = DeepDiff(old, new)\n",
    "    print(f\"Step {step_counter}\")\n",
    "    for d,v in diff.get('values_changed', {}).items():\n",
    "        print(f\"{d}: {v['old_value']} -> {v['new_value']}\")\n",
    "\n",
    "\n"
   ]
  },
  {
   "cell_type": "markdown",
   "metadata": {},
   "source": [
    "### **Notebook Sections:**\n",
    "1. Notebook Intro\n",
    "2. Notebook Setup\n",
    "3. Prior To Attack\n",
    "4. Kill Chain Stage Demonstration\n",
    "5. Attack Configurations"
   ]
  },
  {
   "cell_type": "markdown",
   "metadata": {},
   "source": [
    "### **Notebook Intro** | **Backdoor & Vulnerability Creation Kill Chain Intro** \n",
    "\n",
    "TAP003's kill chain is comprised of a variety of blue actions which are leveraged in unusual ways. This includes introducing malicious ACL's which block green traffic. The rest of this notebook will go through each step in more detail whilst demonstrating the impacts that each step has on both observation and simulation behaviour.\n",
    "\n",
    "_Reconnaissance_\n",
    "\n",
    "|Index | Action Stage| OBS Impact | Narrative |action(s)|\n",
    "|-----|-------------|-------------|-----------|---|\n",
    "|1|Reconnaissance|*No Direct Impact*|TAP003 is passively investigating sensitive systems, data and access control mechanisms.|`do-nothing`|\n",
    "\n",
    "_Planning_\n",
    "\n",
    "|Index| Action Stage| OBS Impact | Narrative |action(s)|\n",
    "|-----|-------------|------------|-----------|---|\n",
    "|2|Planning| **No current impact**|TAP003 is devising a plan to exploit their elevated privileges.|`do-nothing`|\n",
    "\n",
    " _Access_\n",
    "\n",
    "|Index| Action Stage| OBS Impact | Narrative |action(s)|\n",
    "|-----|-------------|------------|-----------|---|\n",
    "|3|Access|**No current impact** |TAP003 uses their legitimate credentials to access the access control settings.|`do-nothing`|\n",
    "\n",
    " _Manipulation_\n",
    " \n",
    "|Index| Action Stage| OBS Impact | Narrative |action(s)|\n",
    "|-----|-------------|------------|-----------|---|\n",
    "|4|Manipulation| **Target Host(s)** HOST::SESSIONS:REMOTE |TAP003 exploits their insider knowledge/privilege to implement changes for sabotage.| - `node-session-remote-login` & `sessions-send-remote-command` (`node-account-change-password`)|\n",
    "\n",
    "_Exploit_\n",
    "\n",
    "|Index| Action Stage| OBS Impact | Narrative |action(s)|\n",
    "|-----|-------------|------------|-----------|---|\n",
    "|5|Exploit| **Target Host(s)** ROUTER:ACL:INTERNAL/EXTERNAL:*|TAP003 exploits their insider knowledge/privilege to implement changes for sabotage.| `node-session-remote-login` & `node-session-send-remote-command` (`router-acl-addrule`) |\n",
    "\n"
   ]
  },
  {
   "cell_type": "markdown",
   "metadata": {},
   "source": [
    "## **Notebook Setup** | **Network Configuration:**\n",
    "\n",
    "Any readers unfamiliar with UC7 can refer to the main [UC7-E2E-Demo notebook for further reference](./UC7-E2E-Demo.ipynb)."
   ]
  },
  {
   "cell_type": "markdown",
   "metadata": {},
   "source": [
    "<p align=\"center\">\n",
    "    <a href=\"./_package_data/uc7/uc7_tap003/uc7_tap003_main.png\" target=\"_blank\">\n",
    "        <img src=\"./_package_data/uc7/uc7_tap003/uc7_tap003_main.png\" alt=\"Image\" style=\"width:1000px;\">\n",
    "    </a>  \n",
    "    \n",
    "</p>\n",
    "\n",
    "_(Click to enlarge)_"
   ]
  },
  {
   "cell_type": "code",
   "execution_count": 5,
   "metadata": {
    "execution": {
     "iopub.execute_input": "2025-03-24T09:57:09.832613Z",
     "iopub.status.busy": "2025-03-24T09:57:09.832414Z",
     "iopub.status.idle": "2025-03-24T09:57:10.355746Z",
     "shell.execute_reply": "2025-03-24T09:57:10.355087Z"
    },
    "metadata": {}
   },
   "outputs": [
    {
     "name": "stderr",
     "output_type": "stream",
     "text": [
      "2025-03-24 09:57:10,334: PrimaiteGymEnv RNG seed = None\n"
     ]
    },
    {
     "name": "stdout",
     "output_type": "stream",
     "text": [
      "+------------------------------------------------------+\n",
      "|                        Nodes                         |\n",
      "+-------------------------+----------+-----------------+\n",
      "| Node                    | Type     | Operating State |\n",
      "+-------------------------+----------+-----------------+\n",
      "| HOME-PUB-RT-DR          | router   | ON              |\n",
      "| HOME-PUB-SW-AS          | switch   | ON              |\n",
      "| HOME-PUB-PC-1           | computer | ON              |\n",
      "| HOME-PUB-PC-2           | computer | ON              |\n",
      "| HOME-PUB-SRV            | server   | ON              |\n",
      "| ISP-PUB-RT-BR           | router   | ON              |\n",
      "| ISP-PUB-SRV-DNS         | server   | ON              |\n",
      "| REM-PUB-FW              | firewall | ON              |\n",
      "| REM-PUB-RT-DR           | router   | ON              |\n",
      "| REM-PUB-SW-AS           | switch   | ON              |\n",
      "| REM-PUB-PC-1            | computer | ON              |\n",
      "| REM-PUB-PC-2            | computer | ON              |\n",
      "| REM-PUB-SRV             | server   | ON              |\n",
      "| ST_PUB-FW               | firewall | ON              |\n",
      "| ST_DMZ-PUB-SRV-WEB      | server   | ON              |\n",
      "| ST_INTRA-PRV-RT-CR      | router   | ON              |\n",
      "| ST_INTRA-PRV-RT-DR-1    | router   | ON              |\n",
      "| ST_INTRA-PRV-RT-DR-2    | router   | ON              |\n",
      "| ST_HO-PRV-SW-AS         | switch   | ON              |\n",
      "| ST_HO-PRV-PC-1          | computer | ON              |\n",
      "| ST_HO-PRV-PC-2          | computer | ON              |\n",
      "| ST_HO-PRV-PC-3          | computer | ON              |\n",
      "| ST_HR-PRV-SW-AS         | switch   | ON              |\n",
      "| ST_HR-PRV-PC-1          | computer | ON              |\n",
      "| ST_HR-PRV-PC-2          | computer | ON              |\n",
      "| ST_HR-PRV-PC-3          | computer | ON              |\n",
      "| ST_DATA-PRV-SW-AS       | switch   | ON              |\n",
      "| ST_DATA-PRV-SRV-STORAGE | server   | ON              |\n",
      "| ST_DATA-PRV-SRV-DB      | server   | ON              |\n",
      "| ST_PROJ-A-PRV-SW-AS     | switch   | ON              |\n",
      "| ST_PROJ-A-PRV-PC-1      | computer | ON              |\n",
      "| ST_PROJ-A-PRV-PC-2      | computer | ON              |\n",
      "| ST_PROJ-A-PRV-PC-3      | computer | ON              |\n",
      "| ST_PROJ-B-PRV-SW-AS     | switch   | ON              |\n",
      "| ST_PROJ-B-PRV-PC-1      | computer | ON              |\n",
      "| ST_PROJ-B-PRV-PC-2      | computer | ON              |\n",
      "| ST_PROJ-B-PRV-PC-3      | computer | ON              |\n",
      "| ST_PROJ-C-PRV-SW-AS     | switch   | ON              |\n",
      "| ST_PROJ-C-PRV-PC-1      | computer | ON              |\n",
      "| ST_PROJ-C-PRV-PC-2      | computer | ON              |\n",
      "| ST_PROJ-C-PRV-PC-3      | computer | ON              |\n",
      "+-------------------------+----------+-----------------+\n",
      "+----------------------------------------------------------------------------------------+\n",
      "|                                      IP Addresses                                      |\n",
      "+-------------------------+----------+---------------+-----------------+-----------------+\n",
      "| Node                    | Port     | IP Address    | Subnet Mask     | Default Gateway |\n",
      "+-------------------------+----------+---------------+-----------------+-----------------+\n",
      "| HOME-PUB-RT-DR          | 1        | 192.168.1.1   | 255.255.255.0   | 10.1.0.1        |\n",
      "| HOME-PUB-RT-DR          | 2        | 10.1.0.2      | 255.255.255.252 | 10.1.0.1        |\n",
      "| HOME-PUB-PC-1           | 1        | 192.168.1.2   | 255.255.255.0   | 192.168.1.1     |\n",
      "| HOME-PUB-PC-2           | 1        | 192.168.1.3   | 255.255.255.0   | 192.168.1.1     |\n",
      "| HOME-PUB-SRV            | 1        | 192.168.1.4   | 255.255.255.0   | 192.168.1.1     |\n",
      "| ISP-PUB-RT-BR           | 1        | 10.1.0.1      | 255.255.255.252 | None            |\n",
      "| ISP-PUB-RT-BR           | 2        | 8.8.8.1       | 255.255.255.240 | None            |\n",
      "| ISP-PUB-RT-BR           | 3        | 10.1.10.1     | 255.255.255.252 | None            |\n",
      "| ISP-PUB-RT-BR           | 4        | 10.1.100.1    | 255.255.255.252 | None            |\n",
      "| ISP-PUB-SRV-DNS         | 1        | 8.8.8.8       | 255.255.255.240 | 8.8.8.1         |\n",
      "| REM-PUB-FW              | external | 10.1.10.2     | 255.255.255.252 | None            |\n",
      "| REM-PUB-FW              | internal | 192.168.10.1  | 255.255.255.252 | None            |\n",
      "| REM-PUB-RT-DR           | 1        | 192.168.10.2  | 255.255.255.252 | 192.168.10.1    |\n",
      "| REM-PUB-RT-DR           | 2        | 192.168.20.1  | 255.255.255.240 | 192.168.10.1    |\n",
      "| REM-PUB-PC-1            | 1        | 192.168.20.2  | 255.255.255.0   | 192.168.20.1    |\n",
      "| REM-PUB-PC-2            | 1        | 192.168.20.3  | 255.255.255.0   | 192.168.20.1    |\n",
      "| REM-PUB-SRV             | 1        | 192.168.20.4  | 255.255.255.0   | 192.168.20.1    |\n",
      "| ST_PUB-FW               | external | 10.1.100.2    | 255.255.255.252 | None            |\n",
      "| ST_PUB-FW               | internal | 192.168.150.1 | 255.255.255.240 | None            |\n",
      "| ST_PUB-FW               | dmz      | 192.168.100.1 | 255.255.255.252 | None            |\n",
      "| ST_DMZ-PUB-SRV-WEB      | 1        | 192.168.100.2 | 255.255.255.252 | 192.168.100.1   |\n",
      "| ST_INTRA-PRV-RT-CR      | 1        | 192.168.150.2 | 255.255.255.240 | None            |\n",
      "| ST_INTRA-PRV-RT-CR      | 2        | 192.168.160.1 | 255.255.255.252 | None            |\n",
      "| ST_INTRA-PRV-RT-CR      | 3        | 192.168.170.1 | 255.255.255.252 | None            |\n",
      "| ST_INTRA-PRV-RT-CR      | 4        | 192.168.220.1 | 255.255.255.248 | None            |\n",
      "| ST_INTRA-PRV-RT-DR-1    | 1        | 192.168.160.2 | 255.255.255.252 | None            |\n",
      "| ST_INTRA-PRV-RT-DR-1    | 2        | 192.168.230.1 | 255.255.255.248 | None            |\n",
      "| ST_INTRA-PRV-RT-DR-1    | 3        | 192.168.240.1 | 255.255.255.248 | None            |\n",
      "| ST_INTRA-PRV-RT-DR-1    | 4        | 192.168.250.1 | 255.255.255.248 | None            |\n",
      "| ST_INTRA-PRV-RT-DR-2    | 1        | 192.168.170.2 | 255.255.255.252 | 192.168.170.1   |\n",
      "| ST_INTRA-PRV-RT-DR-2    | 2        | 192.168.200.1 | 255.255.255.248 | 192.168.170.1   |\n",
      "| ST_INTRA-PRV-RT-DR-2    | 3        | 192.168.210.1 | 255.255.255.248 | 192.168.170.1   |\n",
      "| ST_HO-PRV-PC-1          | 1        | 192.168.200.2 | 255.255.255.0   | 192.168.200.1   |\n",
      "| ST_HO-PRV-PC-2          | 1        | 192.168.200.3 | 255.255.255.0   | 192.168.200.1   |\n",
      "| ST_HO-PRV-PC-3          | 1        | 192.168.200.4 | 255.255.255.0   | 192.168.200.1   |\n",
      "| ST_HR-PRV-PC-1          | 1        | 192.168.210.2 | 255.255.255.0   | 192.168.210.1   |\n",
      "| ST_HR-PRV-PC-2          | 1        | 192.168.210.3 | 255.255.255.0   | 192.168.210.1   |\n",
      "| ST_HR-PRV-PC-3          | 1        | 192.168.210.4 | 255.255.255.0   | 192.168.210.1   |\n",
      "| ST_DATA-PRV-SRV-STORAGE | 1        | 192.168.220.2 | 255.255.255.248 | 192.168.220.1   |\n",
      "| ST_DATA-PRV-SRV-DB      | 1        | 192.168.220.3 | 255.255.255.248 | 192.168.220.1   |\n",
      "| ST_PROJ-A-PRV-PC-1      | 1        | 192.168.230.2 | 255.255.255.0   | 192.168.230.1   |\n",
      "| ST_PROJ-A-PRV-PC-2      | 1        | 192.168.230.3 | 255.255.255.0   | 192.168.230.1   |\n",
      "| ST_PROJ-A-PRV-PC-3      | 1        | 192.168.230.4 | 255.255.255.0   | 192.168.230.1   |\n",
      "| ST_PROJ-B-PRV-PC-1      | 1        | 192.168.240.2 | 255.255.255.0   | 192.168.240.1   |\n",
      "| ST_PROJ-B-PRV-PC-2      | 1        | 192.168.240.3 | 255.255.255.0   | 192.168.240.1   |\n",
      "| ST_PROJ-B-PRV-PC-3      | 1        | 192.168.240.4 | 255.255.255.0   | 192.168.240.1   |\n",
      "| ST_PROJ-C-PRV-PC-1      | 1        | 192.168.250.2 | 255.255.255.0   | 192.168.250.1   |\n",
      "| ST_PROJ-C-PRV-PC-2      | 1        | 192.168.250.3 | 255.255.255.0   | 192.168.250.1   |\n",
      "| ST_PROJ-C-PRV-PC-3      | 1        | 192.168.250.4 | 255.255.255.0   | 192.168.250.1   |\n",
      "+-------------------------+----------+---------------+-----------------+-----------------+\n",
      "+--------------------------------------------------------------------------------------------------------------------------------------------------------------------------------------------+\n",
      "|                                                                                           Links                                                                                            |\n",
      "+----------------------+-----------------------------------------------+-------------------------+------------------------------------------------+-------+-------------------+--------------+\n",
      "| Endpoint A           | A Port                                        | Endpoint B              | B Port                                         | is Up | Bandwidth (MBits) | Current Load |\n",
      "+----------------------+-----------------------------------------------+-------------------------+------------------------------------------------+-------+-------------------+--------------+\n",
      "| ISP-PUB-RT-BR        | Port 1: 13:48:30:95:9c:42/10.1.0.1            | HOME-PUB-RT-DR          | Port 2: aa:98:35:02:a3:2b/10.1.0.2             | True  | 100.0             | 0.00000%     |\n",
      "| HOME-PUB-SW-AS       | Port 1: 82:8c:70:3b:da:4c                     | HOME-PUB-RT-DR          | Port 1: 7d:3a:eb:ba:90:88/192.168.1.1          | True  | 100.0             | 0.00035%     |\n",
      "| HOME-PUB-SW-AS       | Port 4: b0:ae:19:84:6d:b5                     | HOME-PUB-SRV            | Port 1: e5:5f:f1:d7:e8:0d/192.168.1.4          | True  | 100.0             | 0.00012%     |\n",
      "| HOME-PUB-SW-AS       | Port 3: 6f:71:0d:81:a2:63                     | HOME-PUB-PC-2           | Port 1: da:13:b6:a0:6d:53/192.168.1.3          | True  | 100.0             | 0.00012%     |\n",
      "| HOME-PUB-SW-AS       | Port 2: 31:d2:82:74:ee:5e                     | HOME-PUB-PC-1           | Port 1: 15:47:a1:d4:71:a7/192.168.1.2          | True  | 100.0             | 0.00012%     |\n",
      "| ISP-PUB-RT-BR        | Port 4: 88:8e:2c:4e:b7:14/10.1.100.1          | ST_PUB-FW               | Port external: 76:ef:fe:0c:75:4c/10.1.100.2    | True  | 100.0             | 0.00000%     |\n",
      "| ISP-PUB-RT-BR        | Port 3: 74:18:df:3c:3d:5f/10.1.10.1           | REM-PUB-FW              | Port external: 6c:c3:e0:9f:3b:11/10.1.10.2     | True  | 100.0             | 0.00000%     |\n",
      "| ISP-PUB-RT-BR        | Port 2: 67:a1:d9:8b:70:e9/8.8.8.1             | ISP-PUB-SRV-DNS         | Port 1: e1:fa:51:25:9a:39/8.8.8.8              | True  | 100.0             | 0.00011%     |\n",
      "| REM-PUB-FW           | Port internal: a9:88:a5:d1:f6:0c/192.168.10.1 | REM-PUB-RT-DR           | Port 1: 16:d6:ed:65:d0:82/192.168.10.2         | True  | 100.0             | 0.00000%     |\n",
      "| REM-PUB-RT-DR        | Port 2: 4f:78:83:9b:e7:79/192.168.20.1        | REM-PUB-SW-AS           | Port 1: f9:a4:cc:dc:69:0d                      | True  | 100.0             | 0.00036%     |\n",
      "| REM-PUB-SW-AS        | Port 4: 53:bf:ef:1e:18:4d                     | REM-PUB-SRV             | Port 1: 92:38:c5:d7:24:4a/192.168.20.4         | True  | 100.0             | 0.00012%     |\n",
      "| REM-PUB-SW-AS        | Port 3: c2:fc:93:6a:5b:99                     | REM-PUB-PC-2            | Port 1: 69:11:bf:22:67:19/192.168.20.3         | True  | 100.0             | 0.00012%     |\n",
      "| REM-PUB-SW-AS        | Port 2: 04:9e:e6:19:f6:50                     | REM-PUB-PC-1            | Port 1: 00:d3:9b:24:0a:bb/192.168.20.2         | True  | 100.0             | 0.00012%     |\n",
      "| ST_INTRA-PRV-RT-CR   | Port 1: b4:1a:42:34:bb:45/192.168.150.2       | ST_PUB-FW               | Port internal: 17:54:26:dc:a7:6b/192.168.150.1 | True  | 100.0             | 0.00000%     |\n",
      "| ST_PUB-FW            | Port dmz: c6:43:cb:74:f3:9d/192.168.100.1     | ST_DMZ-PUB-SRV-WEB      | Port 1: 2b:da:52:e9:d3:04/192.168.100.2        | True  | 100.0             | 0.00012%     |\n",
      "| ST_INTRA-PRV-RT-CR   | Port 4: f9:c4:e5:11:b3:43/192.168.220.1       | ST_DATA-PRV-SW-AS       | Port 1: da:b6:3f:47:f0:f8                      | True  | 100.0             | 0.00024%     |\n",
      "| ST_INTRA-PRV-RT-CR   | Port 3: b8:eb:a5:65:08:1c/192.168.170.1       | ST_INTRA-PRV-RT-DR-2    | Port 1: 24:23:bb:75:aa:19/192.168.170.2        | True  | 100.0             | 0.00000%     |\n",
      "| ST_INTRA-PRV-RT-CR   | Port 2: c8:b3:95:d2:88:7a/192.168.160.1       | ST_INTRA-PRV-RT-DR-1    | Port 1: 9e:c9:36:22:b6:5e/192.168.160.2        | True  | 100.0             | 0.00000%     |\n",
      "| ST_INTRA-PRV-RT-DR-1 | Port 4: ff:f0:c0:55:3d:cb/192.168.250.1       | ST_PROJ-C-PRV-SW-AS     | Port 1: e0:ba:d3:04:e2:4f                      | True  | 100.0             | 0.00036%     |\n",
      "| ST_INTRA-PRV-RT-DR-1 | Port 3: 9b:03:bc:64:ca:30/192.168.240.1       | ST_PROJ-B-PRV-SW-AS     | Port 1: 08:46:b8:28:40:ad                      | True  | 100.0             | 0.00036%     |\n",
      "| ST_INTRA-PRV-RT-DR-1 | Port 2: c4:fe:53:10:b0:f9/192.168.230.1       | ST_PROJ-A-PRV-SW-AS     | Port 1: f4:f2:bc:2f:9f:52                      | True  | 100.0             | 0.00036%     |\n",
      "| ST_HR-PRV-SW-AS      | Port 1: 87:c2:90:5e:24:c0                     | ST_INTRA-PRV-RT-DR-2    | Port 3: f2:72:4c:ce:08:7c/192.168.210.1        | True  | 100.0             | 0.00036%     |\n",
      "| ST_HO-PRV-SW-AS      | Port 1: 3b:7c:95:15:eb:5f                     | ST_INTRA-PRV-RT-DR-2    | Port 2: ee:21:ed:f9:54:a4/192.168.200.1        | True  | 100.0             | 0.00036%     |\n",
      "| ST_HO-PRV-SW-AS      | Port 4: a8:12:c8:25:06:a8                     | ST_HO-PRV-PC-3          | Port 1: ef:03:ab:10:ed:82/192.168.200.4        | True  | 100.0             | 0.00012%     |\n",
      "| ST_HO-PRV-SW-AS      | Port 3: 37:e5:84:e2:a3:be                     | ST_HO-PRV-PC-2          | Port 1: ba:17:06:e4:3a:49/192.168.200.3        | True  | 100.0             | 0.00012%     |\n",
      "| ST_HO-PRV-SW-AS      | Port 2: a6:28:40:85:bb:3e                     | ST_HO-PRV-PC-1          | Port 1: 9c:11:9c:2f:ec:1a/192.168.200.2        | True  | 100.0             | 0.00012%     |\n",
      "| ST_HR-PRV-SW-AS      | Port 4: 33:cd:72:46:ab:27                     | ST_HR-PRV-PC-3          | Port 1: ff:93:c0:6a:85:08/192.168.210.4        | True  | 100.0             | 0.00012%     |\n",
      "| ST_HR-PRV-SW-AS      | Port 3: 38:a4:9f:8a:c0:4a                     | ST_HR-PRV-PC-2          | Port 1: 66:70:df:12:b6:d2/192.168.210.3        | True  | 100.0             | 0.00012%     |\n",
      "| ST_HR-PRV-SW-AS      | Port 2: 7b:9d:c8:e6:8c:59                     | ST_HR-PRV-PC-1          | Port 1: 8b:fe:76:81:f8:fa/192.168.210.2        | True  | 100.0             | 0.00012%     |\n",
      "| ST_DATA-PRV-SW-AS    | Port 3: 25:d7:07:f6:3c:96                     | ST_DATA-PRV-SRV-DB      | Port 1: ac:c7:8e:3a:a2:cc/192.168.220.3        | True  | 100.0             | 0.00012%     |\n",
      "| ST_DATA-PRV-SW-AS    | Port 2: 0f:30:63:60:4b:b9                     | ST_DATA-PRV-SRV-STORAGE | Port 1: 12:91:45:cd:fb:b2/192.168.220.2        | True  | 100.0             | 0.00012%     |\n",
      "| ST_PROJ-A-PRV-SW-AS  | Port 4: 67:a2:2a:7a:89:d7                     | ST_PROJ-A-PRV-PC-3      | Port 1: 33:08:2b:d0:75:96/192.168.230.4        | True  | 100.0             | 0.00012%     |\n",
      "| ST_PROJ-A-PRV-SW-AS  | Port 3: 55:35:aa:c7:7f:b5                     | ST_PROJ-A-PRV-PC-2      | Port 1: 1a:34:72:cf:34:ea/192.168.230.3        | True  | 100.0             | 0.00012%     |\n",
      "| ST_PROJ-A-PRV-SW-AS  | Port 2: 29:a5:de:9f:40:84                     | ST_PROJ-A-PRV-PC-1      | Port 1: a6:b1:52:33:7b:3c/192.168.230.2        | True  | 100.0             | 0.00012%     |\n",
      "| ST_PROJ-B-PRV-SW-AS  | Port 4: f3:21:ea:92:39:a1                     | ST_PROJ-B-PRV-PC-3      | Port 1: 29:1f:79:de:15:d7/192.168.240.4        | True  | 100.0             | 0.00012%     |\n",
      "| ST_PROJ-B-PRV-SW-AS  | Port 3: b4:49:df:f7:fe:1f                     | ST_PROJ-B-PRV-PC-2      | Port 1: 64:57:65:b0:a8:c8/192.168.240.3        | True  | 100.0             | 0.00012%     |\n",
      "| ST_PROJ-B-PRV-SW-AS  | Port 2: 1c:25:26:2d:1d:00                     | ST_PROJ-B-PRV-PC-1      | Port 1: 6c:21:82:13:bb:f5/192.168.240.2        | True  | 100.0             | 0.00012%     |\n",
      "| ST_PROJ-C-PRV-SW-AS  | Port 4: 23:b5:f6:b1:39:90                     | ST_PROJ-C-PRV-PC-3      | Port 1: 74:4b:a5:43:07:e5/192.168.250.4        | True  | 100.0             | 0.00012%     |\n",
      "| ST_PROJ-C-PRV-SW-AS  | Port 3: f9:70:59:92:69:43                     | ST_PROJ-C-PRV-PC-2      | Port 1: 1f:c6:c6:a3:af:d9/192.168.250.3        | True  | 100.0             | 0.00012%     |\n",
      "| ST_PROJ-C-PRV-SW-AS  | Port 2: a3:73:9c:40:65:1a                     | ST_PROJ-C-PRV-PC-1      | Port 1: e6:c1:b1:f9:ee:38/192.168.250.2        | True  | 100.0             | 0.00012%     |\n",
      "+----------------------+-----------------------------------------------+-------------------------+------------------------------------------------+-------+-------------------+--------------+\n"
     ]
    }
   ],
   "source": [
    "with open(_EXAMPLE_CFG/\"uc7_config_tap003.yaml\", mode=\"r\") as uc7_config:\n",
    "    cfg = yaml.safe_load(uc7_config)\n",
    "    cfg[\"agents\"][33][\"agent_settings\"][\"flatten_obs\"] = False\n",
    "    cfg['io_settings']['save_agent_logs'] = True\n",
    "    cfg['io_settings']['save_sys_logs'] = True # Saving syslogs\n",
    "env = PrimaiteGymEnv(env_config=cfg)\n",
    "env.game.simulation.network.show()"
   ]
  },
  {
   "cell_type": "markdown",
   "metadata": {},
   "source": [
    "### **Notebook Setup** | Instantiating Relevant Simulation Objects\n",
    "The cell below sets up the relevant simulation and agent objects for the kill chain demonstration.\n",
    "\n",
    "\n",
    "The following cell resets the environment, instantiates TAP003 and it's selected starting/target hosts."
   ]
  },
  {
   "cell_type": "code",
   "execution_count": 6,
   "metadata": {
    "execution": {
     "iopub.execute_input": "2025-03-24T09:57:10.358787Z",
     "iopub.status.busy": "2025-03-24T09:57:10.358362Z",
     "iopub.status.idle": "2025-03-24T09:57:10.784606Z",
     "shell.execute_reply": "2025-03-24T09:57:10.783945Z"
    },
    "metadata": {}
   },
   "outputs": [
    {
     "name": "stderr",
     "output_type": "stream",
     "text": [
      "2025-03-24 09:57:10,359: Resetting environment, episode 0, avg. reward: 0.0\n"
     ]
    }
   ],
   "source": [
    "env.reset() # resetting the environment\n",
    "# The TAP003 Agent\n",
    "tap003: TAP003 = env.game.agents['attacker']\n",
    "tap003.logger.logger.setLevel(\"INFO\")"
   ]
  },
  {
   "cell_type": "markdown",
   "metadata": {},
   "source": [
    "## **Prior To Attack** | Initial States:"
   ]
  },
  {
   "cell_type": "markdown",
   "metadata": {},
   "source": [
    "The first section of this notebook displays the initial simulation state of TAP003's starting and target nodes."
   ]
  },
  {
   "cell_type": "markdown",
   "metadata": {},
   "source": [
    "#### **Initial State** | Starting Host:\n",
    "TAP003's initial starting point.\n",
    "\n",
    "TAP003's starting host does not cause any MNE (Malicious Network Events) in it's current implementation."
   ]
  },
  {
   "cell_type": "code",
   "execution_count": 7,
   "metadata": {
    "execution": {
     "iopub.execute_input": "2025-03-24T09:57:10.788072Z",
     "iopub.status.busy": "2025-03-24T09:57:10.787605Z",
     "iopub.status.idle": "2025-03-24T09:57:10.793790Z",
     "shell.execute_reply": "2025-03-24T09:57:10.793142Z"
    },
    "metadata": {}
   },
   "outputs": [
    {
     "name": "stdout",
     "output_type": "stream",
     "text": [
      "Starting host:\n",
      "+-----------------------------------------------------------------------------+\n",
      "|                  ST_PROJ-A-PRV-PC-1 Network Interface Cards                 |\n",
      "+------+------+-------------------+------------------+-------+---------+------+\n",
      "| Port | Type | MAC Address       | Address          | Speed | Status  | NMNE |\n",
      "+------+------+-------------------+------------------+-------+---------+------+\n",
      "| 1    | NIC  | 9c:51:17:26:60:89 | 192.168.230.2/24 | 100.0 | Enabled | {}   |\n",
      "+------+------+-------------------+------------------+-------+---------+------+\n",
      "+-------------------------------+\n",
      "| ST_PROJ-A-PRV-PC-1 Open Ports |\n",
      "+-------------------------------+\n",
      "| Port                          |\n",
      "+-------------------------------+\n",
      "| 21                            |\n",
      "| 22                            |\n",
      "| 53                            |\n",
      "| 80                            |\n",
      "| 123                           |\n",
      "| 219                           |\n",
      "| 5432                          |\n",
      "+-------------------------------+\n",
      "+---------------------------------------------------------------------------------------+\n",
      "|                          ST_PROJ-A-PRV-PC-1 Software Manager                          |\n",
      "+----------------------+-------------+-----------------+--------------+------+----------+\n",
      "| Name                 | Type        | Operating State | Health State | Port | Protocol |\n",
      "+----------------------+-------------+-----------------+--------------+------+----------+\n",
      "| arp                  | Service     | RUNNING         | GOOD         | 219  | udp      |\n",
      "| icmp                 | Service     | RUNNING         | GOOD         | None | icmp     |\n",
      "| dns-client           | Service     | RUNNING         | GOOD         | 53   | tcp      |\n",
      "| ntp-client           | Service     | RUNNING         | GOOD         | 123  | udp      |\n",
      "| web-browser          | Application | RUNNING         | GOOD         | 80   | tcp      |\n",
      "| nmap                 | Application | RUNNING         | GOOD         | None | none     |\n",
      "| user-session-manager | Service     | RUNNING         | GOOD         | None | none     |\n",
      "| user-manager         | Service     | RUNNING         | GOOD         | None | none     |\n",
      "| terminal             | Service     | RUNNING         | GOOD         | 22   | tcp      |\n",
      "| ftp-client           | Service     | RUNNING         | GOOD         | 21   | tcp      |\n",
      "| database-client      | Application | RUNNING         | GOOD         | 5432 | tcp      |\n",
      "+----------------------+-------------+-----------------+--------------+------+----------+\n"
     ]
    }
   ],
   "source": [
    "# TAP003's Starting Client:\n",
    "starting_host = env.game.simulation.network.get_node_by_hostname(tap003.starting_node)\n",
    "print(f\"Starting host:\")\n",
    "starting_host.show()\n",
    "starting_host.software_manager.show()"
   ]
  },
  {
   "cell_type": "markdown",
   "metadata": {},
   "source": [
    "#### **Initial State** | Target Hosts\n",
    "\n",
    "TAP003's selected target hosts at current the only valid targets for TAP003 are Router/Firewall type nodes\n",
    "\n",
    "Code snippet below shows the default OBS of the target routers"
   ]
  },
  {
   "cell_type": "code",
   "execution_count": 8,
   "metadata": {
    "execution": {
     "iopub.execute_input": "2025-03-24T09:57:10.796419Z",
     "iopub.status.busy": "2025-03-24T09:57:10.796051Z",
     "iopub.status.idle": "2025-03-24T09:57:10.802473Z",
     "shell.execute_reply": "2025-03-24T09:57:10.801836Z"
    },
    "metadata": {}
   },
   "outputs": [
    {
     "name": "stdout",
     "output_type": "stream",
     "text": [
      "+-----------------------------------------------------------------------------------------------------------+\n",
      "|                                   ST_INTRA-PRV-RT-CR Access Control List                                  |\n",
      "+-------+--------+----------+--------+--------------+----------+--------+--------------+----------+---------+\n",
      "| Index | Action | Protocol | Src IP | Src Wildcard | Src Port | Dst IP | Dst Wildcard | Dst Port | Matched |\n",
      "+-------+--------+----------+--------+--------------+----------+--------+--------------+----------+---------+\n",
      "| 5     | PERMIT | ANY      | ANY    | ANY          | ANY      | ANY    | ANY          | ANY      | 0       |\n",
      "| 22    | PERMIT | ANY      | ANY    | ANY          | 219      | ANY    | ANY          | 219      | 0       |\n",
      "| 23    | PERMIT | icmp     | ANY    | ANY          | ANY      | ANY    | ANY          | ANY      | 0       |\n",
      "| 24    | DENY   | ANY      | ANY    | ANY          | ANY      | ANY    | ANY          | ANY      | 0       |\n",
      "+-------+--------+----------+--------+--------------+----------+--------+--------------+----------+---------+\n",
      "+-----------------------------------------------------------------------------------------------------------+\n",
      "|                                  ST_INTRA-PRV-RT-DR-1 Access Control List                                 |\n",
      "+-------+--------+----------+--------+--------------+----------+--------+--------------+----------+---------+\n",
      "| Index | Action | Protocol | Src IP | Src Wildcard | Src Port | Dst IP | Dst Wildcard | Dst Port | Matched |\n",
      "+-------+--------+----------+--------+--------------+----------+--------+--------------+----------+---------+\n",
      "| 5     | PERMIT | ANY      | ANY    | ANY          | ANY      | ANY    | ANY          | ANY      | 0       |\n",
      "| 22    | PERMIT | ANY      | ANY    | ANY          | 219      | ANY    | ANY          | 219      | 0       |\n",
      "| 23    | PERMIT | icmp     | ANY    | ANY          | ANY      | ANY    | ANY          | ANY      | 0       |\n",
      "| 24    | DENY   | ANY      | ANY    | ANY          | ANY      | ANY    | ANY          | ANY      | 0       |\n",
      "+-------+--------+----------+--------+--------------+----------+--------+--------------+----------+---------+\n",
      "+-----------------------------------------------------------------------------------------------------------+\n",
      "|                                     REM-PUB-RT-DR Access Control List                                     |\n",
      "+-------+--------+----------+--------+--------------+----------+--------+--------------+----------+---------+\n",
      "| Index | Action | Protocol | Src IP | Src Wildcard | Src Port | Dst IP | Dst Wildcard | Dst Port | Matched |\n",
      "+-------+--------+----------+--------+--------------+----------+--------+--------------+----------+---------+\n",
      "| 5     | PERMIT | ANY      | ANY    | ANY          | ANY      | ANY    | ANY          | ANY      | 0       |\n",
      "| 22    | PERMIT | ANY      | ANY    | ANY          | 219      | ANY    | ANY          | 219      | 0       |\n",
      "| 23    | PERMIT | icmp     | ANY    | ANY          | ANY      | ANY    | ANY          | ANY      | 0       |\n",
      "| 24    | DENY   | ANY      | ANY    | ANY          | ANY      | ANY    | ANY          | ANY      | 0       |\n",
      "+-------+--------+----------+--------+--------------+----------+--------+--------------+----------+---------+\n"
     ]
    }
   ],
   "source": [
    "# TAP003's target routers\n",
    "\n",
    "st_intra_prv_rt_cr: Router = env.game.simulation.network.get_node_by_hostname(\"ST_INTRA-PRV-RT-CR\")\n",
    "st_intra_prv_rt_dr_1: Router = env.game.simulation.network.get_node_by_hostname(\"ST_INTRA-PRV-RT-DR-1\")\n",
    "rem_pub_rt_dr: Router = env.game.simulation.network.get_node_by_hostname(\"REM-PUB-RT-DR\")\n",
    "\n",
    "st_intra_prv_rt_cr.acl.show()\n",
    "st_intra_prv_rt_dr_1.acl.show()\n",
    "rem_pub_rt_dr.acl.show()"
   ]
  },
  {
   "cell_type": "markdown",
   "metadata": {},
   "source": [
    "## **Kill Chain** | Kill Chain Stage Demonstration \n",
    "\n",
    "For the initial kill chain demonstration, TAP003 is configured with the following yaml snippet:\n",
    "\n",
    "```yaml\n",
    "  - ref: attacker\n",
    "    team: RED\n",
    "    type: tap-003\n",
    "    observation_space: {}\n",
    "    action_space: {}\n",
    "    agent_settings:\n",
    "      start_step: 1\n",
    "      frequency: 3\n",
    "      variance: 0\n",
    "      repeat_kill_chain: false\n",
    "      repeat_kill_chain_stages: true\n",
    "      default_starting_node: \"ST_PROJ-A-PRV-PC-1\"\n",
    "      starting_nodes:\n",
    "      # starting_nodes: [\"ST_PROJ-A-PRV-PC-1\", \"ST_PROJ-B-PRV-PC-2\", \"ST_PROJ-C-PRV-PC-3\"]\n",
    "      kill_chain:\n",
    "        PLANNING:\n",
    "          probability: 1\n",
    "          starting_network_knowledge:\n",
    "            credentials:\n",
    "              ST_PROJ-A-PRV-PC-1:\n",
    "                username: admin\n",
    "                password: admin\n",
    "              ST_PROJ-B-PRV-PC-2:\n",
    "                username: admin\n",
    "                password: admin\n",
    "              ST_PROJ-C-PRV-PC-3:\n",
    "                username: admin\n",
    "                password: admin\n",
    "              ST_INTRA-PRV-RT-DR-1:\n",
    "                ip_address: 192.168.230.1\n",
    "                username: admin\n",
    "                password: admin\n",
    "              ST_INTRA-PRV-RT-CR:\n",
    "                ip_address: 192.168.160.1\n",
    "                username: admin\n",
    "                password: admin\n",
    "              REM-PUB-RT-DR:\n",
    "                ip_address: 192.168.10.2\n",
    "                username: admin\n",
    "                password: admin\n",
    "        ACCESS:\n",
    "          probability: 1\n",
    "        MANIPULATION:\n",
    "          probability: 1\n",
    "          account_changes:\n",
    "            - host: ST_INTRA-PRV-RT-DR-1\n",
    "              ip_address: 192.168.230.1 # ST_INTRA-PRV-RT-DR-1\n",
    "              action: change_password\n",
    "              username: admin\n",
    "              new_password: \"red_pass\"\n",
    "            - host: ST_INTRA-PRV-RT-CR\n",
    "              ip_address: 192.168.160.1 # ST_INTRA-PRV-RT-CR\n",
    "              action: change_password\n",
    "              username: \"admin\"\n",
    "              new_password: \"red_pass\"\n",
    "            - host: REM-PUB-RT-DR\n",
    "              ip_address: 192.168.10.2 # REM-PUB-RT-DR\n",
    "              action: change_password\n",
    "              username: \"admin\"\n",
    "              new_password: \"red_pass\"\n",
    "        EXPLOIT:\n",
    "          probability: 1\n",
    "          malicious_acls:\n",
    "            - target_router: ST_INTRA-PRV-RT-DR-1\n",
    "              position: 1\n",
    "              permission: DENY\n",
    "              src_ip: ALL\n",
    "              src_wildcard: 0.0.255.255\n",
    "              dst_ip: ALL\n",
    "              dst_wildcard: 0.0.255.255\n",
    "              src_port: POSTGRES_SERVER\n",
    "              dst_port: POSTGRES_SERVER\n",
    "              protocol_name_name: TCP\n",
    "            - target_router: ST_INTRA-PRV-RT-CR\n",
    "              position: 1\n",
    "              permission: DENY\n",
    "              src_ip: ALL\n",
    "              src_wildcard: 0.0.255.255\n",
    "              dst_ip: ALL\n",
    "              dst_wildcard: 0.0.255.255\n",
    "              src_port: HTTP\n",
    "              dst_port: HTTP\n",
    "              protocol_name_name: TCP\n",
    "            - target_router: REM-PUB-RT-DR\n",
    "              position: 1\n",
    "              permission: DENY\n",
    "              src_ip: ALL\n",
    "              src_wildcard: 0.0.255.255\n",
    "              dst_ip: ALL\n",
    "              dst_wildcard: 0.0.255.255\n",
    "              src_port: DNS\n",
    "              dst_port: DNS\n",
    "              protocol_name_name: TCP\n",
    "\n",
    "```\n",
    "_Further information & guidance around configuring TAP003 can be found within the last section of this notebook._"
   ]
  },
  {
   "cell_type": "markdown",
   "metadata": {},
   "source": [
    "### **Kill Chain** | NOT STARTED\n",
    "This is the default state of the TAP003 Agent. This stage indicates that the TAP003 agent has not begun it's kill chain.\n",
    "If TAP003 is in this stage then on the next execution step the kill chain will begin."
   ]
  },
  {
   "cell_type": "code",
   "execution_count": 9,
   "metadata": {
    "execution": {
     "iopub.execute_input": "2025-03-24T09:57:10.805216Z",
     "iopub.status.busy": "2025-03-24T09:57:10.804813Z",
     "iopub.status.idle": "2025-03-24T09:57:11.007292Z",
     "shell.execute_reply": "2025-03-24T09:57:11.006650Z"
    }
   },
   "outputs": [
    {
     "name": "stdout",
     "output_type": "stream",
     "text": [
      "Current Environment Step: 0\n",
      "Current Kill Chain Stage: NOT_STARTED\n",
      "Next Execution Step: 1\n",
      "Next Kill Chain Stage RECONNAISSANCE\n",
      "+---------------------------------------------------------------------------------------+\n",
      "|                          ST_PROJ-A-PRV-PC-1 Software Manager                          |\n",
      "+----------------------+-------------+-----------------+--------------+------+----------+\n",
      "| Name                 | Type        | Operating State | Health State | Port | Protocol |\n",
      "+----------------------+-------------+-----------------+--------------+------+----------+\n",
      "| arp                  | Service     | RUNNING         | GOOD         | 219  | udp      |\n",
      "| icmp                 | Service     | RUNNING         | GOOD         | None | icmp     |\n",
      "| dns-client           | Service     | RUNNING         | GOOD         | 53   | tcp      |\n",
      "| ntp-client           | Service     | RUNNING         | GOOD         | 123  | udp      |\n",
      "| web-browser          | Application | RUNNING         | GOOD         | 80   | tcp      |\n",
      "| nmap                 | Application | RUNNING         | GOOD         | None | none     |\n",
      "| user-session-manager | Service     | RUNNING         | GOOD         | None | none     |\n",
      "| user-manager         | Service     | RUNNING         | GOOD         | None | none     |\n",
      "| terminal             | Service     | RUNNING         | GOOD         | 22   | tcp      |\n",
      "| ftp-client           | Service     | RUNNING         | GOOD         | 21   | tcp      |\n",
      "| database-client      | Application | RUNNING         | GOOD         | 5432 | tcp      |\n",
      "+----------------------+-------------+-----------------+--------------+------+----------+\n"
     ]
    }
   ],
   "source": [
    "tap003 = env.game.agents['attacker']\n",
    "\n",
    "\n",
    "print(f\"Current Environment Step: {env.game.step_counter}\")\n",
    "print(f\"Current Kill Chain Stage: {tap003.current_kill_chain_stage.name}\")\n",
    "print(f\"Next Execution Step: {tap003.next_execution_timestep}\")\n",
    "print(f\"Next Kill Chain Stage {tap003.next_kill_chain_stage.name}\")\n",
    "while(tap003.current_kill_chain_stage == InsiderKillChain.NOT_STARTED):\n",
    "    default_obs, _, _, _, _ = env.step(0)\n",
    "starting_host.software_manager.show()\n",
    "\n",
    "env.step(0);"
   ]
  },
  {
   "cell_type": "code",
   "execution_count": 10,
   "metadata": {
    "execution": {
     "iopub.execute_input": "2025-03-24T09:57:11.009990Z",
     "iopub.status.busy": "2025-03-24T09:57:11.009748Z",
     "iopub.status.idle": "2025-03-24T09:57:11.013904Z",
     "shell.execute_reply": "2025-03-24T09:57:11.013345Z"
    }
   },
   "outputs": [
    {
     "name": "stdout",
     "output_type": "stream",
     "text": [
      "+-----------------------------------------------------+\n",
      "|                attacker Behaviour Log               |\n",
      "+-----------+-------+---------------------------------+\n",
      "| Time Step | Level | Message                         |\n",
      "+-----------+-------+---------------------------------+\n",
      "| 1         | INFO  | attacker has begun it's attack! |\n",
      "+-----------+-------+---------------------------------+\n"
     ]
    }
   ],
   "source": [
    "tap003.logger.show()"
   ]
  },
  {
   "cell_type": "markdown",
   "metadata": {},
   "source": [
    "### **Kill Chain** | RECONNAISSANCE\n",
    "\n",
    "|Index| Action Stage| OBS Impact | Narrative |\n",
    "|-----|-------------|------------|-----------|\n",
    "|1|RECONNAISSANCE|*No Direct Impact*|TAP003 is identifying Sensitive systems, data and access control mechanisms in legitimate ways.|\n",
    "\n",
    "Currently, this stage in the kill chain is implemented via the 'do-nothing' CAOS action."
   ]
  },
  {
   "cell_type": "code",
   "execution_count": 11,
   "metadata": {
    "execution": {
     "iopub.execute_input": "2025-03-24T09:57:11.016679Z",
     "iopub.status.busy": "2025-03-24T09:57:11.016298Z",
     "iopub.status.idle": "2025-03-24T09:57:11.146645Z",
     "shell.execute_reply": "2025-03-24T09:57:11.145930Z"
    },
    "metadata": {}
   },
   "outputs": [
    {
     "name": "stdout",
     "output_type": "stream",
     "text": [
      "Current Environment Step: 3\n",
      "Current Kill Chain Stage: RECONNAISSANCE\n",
      "Next Execution Step: 4\n",
      "Next Kill Chain Stage PLANNING\n",
      "+---------------------------------------------------------------------------------------+\n",
      "|                          ST_PROJ-A-PRV-PC-1 Software Manager                          |\n",
      "+----------------------+-------------+-----------------+--------------+------+----------+\n",
      "| Name                 | Type        | Operating State | Health State | Port | Protocol |\n",
      "+----------------------+-------------+-----------------+--------------+------+----------+\n",
      "| arp                  | Service     | RUNNING         | GOOD         | 219  | udp      |\n",
      "| icmp                 | Service     | RUNNING         | GOOD         | None | icmp     |\n",
      "| dns-client           | Service     | RUNNING         | GOOD         | 53   | tcp      |\n",
      "| ntp-client           | Service     | RUNNING         | GOOD         | 123  | udp      |\n",
      "| web-browser          | Application | RUNNING         | GOOD         | 80   | tcp      |\n",
      "| nmap                 | Application | RUNNING         | GOOD         | None | none     |\n",
      "| user-session-manager | Service     | RUNNING         | GOOD         | None | none     |\n",
      "| user-manager         | Service     | RUNNING         | GOOD         | None | none     |\n",
      "| terminal             | Service     | RUNNING         | GOOD         | 22   | tcp      |\n",
      "| ftp-client           | Service     | RUNNING         | GOOD         | 21   | tcp      |\n",
      "| database-client      | Application | RUNNING         | GOOD         | 5432 | tcp      |\n",
      "+----------------------+-------------+-----------------+--------------+------+----------+\n",
      "\n",
      "Observation space differences\n",
      "-----------------------------\n",
      "Step 5\n",
      "root['NODES']['HOST0']['NICS'][1]['TRAFFIC']['tcp'][80]['inbound']: 1 -> 0\n",
      "root['NODES']['HOST0']['NICS'][1]['TRAFFIC']['tcp'][80]['outbound']: 1 -> 0\n",
      "root['NODES']['HOST1']['APPLICATIONS'][2]['num_executions']: 0 -> 1\n",
      "root['NODES']['HOST1']['NICS'][1]['TRAFFIC']['tcp'][80]['inbound']: 0 -> 1\n",
      "root['NODES']['HOST1']['NICS'][1]['TRAFFIC']['tcp'][80]['outbound']: 0 -> 1\n",
      "root['NODES']['HOST1']['NICS'][1]['TRAFFIC']['tcp'][5432]['inbound']: 0 -> 1\n",
      "root['NODES']['HOST1']['NICS'][1]['TRAFFIC']['tcp'][5432]['outbound']: 0 -> 1\n",
      "root['NODES']['HOST2']['APPLICATIONS'][2]['num_executions']: 1 -> 0\n",
      "root['NODES']['HOST2']['NICS'][1]['TRAFFIC']['tcp'][5432]['inbound']: 1 -> 0\n",
      "root['NODES']['HOST2']['NICS'][1]['TRAFFIC']['tcp'][5432]['outbound']: 1 -> 0\n",
      "root['LINKS'][21]['PROTOCOLS']['ALL']: 1 -> 0\n",
      "root['LINKS'][24]['PROTOCOLS']['ALL']: 1 -> 0\n",
      "root['LINKS'][26]['PROTOCOLS']['ALL']: 0 -> 1\n",
      "root['LINKS'][37]['PROTOCOLS']['ALL']: 1 -> 0\n"
     ]
    }
   ],
   "source": [
    "print(f\"Current Environment Step: {env.game.step_counter}\")\n",
    "print(f\"Current Kill Chain Stage: {tap003.current_kill_chain_stage.name}\")\n",
    "print(f\"Next Execution Step: {tap003.next_execution_timestep}\")\n",
    "print(f\"Next Kill Chain Stage {tap003.next_kill_chain_stage.name}\")\n",
    "\n",
    "while(tap003.current_kill_chain_stage == InsiderKillChain.RECONNAISSANCE):\n",
    "    reconnaissance_obs_impact, _, _, _, _ = env.step(0)\n",
    "\n",
    "current_host = env.game.simulation.network.get_node_by_hostname(tap003.current_host)\n",
    "current_host.software_manager.show()\n",
    "display_obs_diffs(default_obs, reconnaissance_obs_impact, env.game.step_counter)"
   ]
  },
  {
   "cell_type": "code",
   "execution_count": 12,
   "metadata": {
    "execution": {
     "iopub.execute_input": "2025-03-24T09:57:11.149350Z",
     "iopub.status.busy": "2025-03-24T09:57:11.149137Z",
     "iopub.status.idle": "2025-03-24T09:57:11.153466Z",
     "shell.execute_reply": "2025-03-24T09:57:11.152950Z"
    }
   },
   "outputs": [
    {
     "name": "stdout",
     "output_type": "stream",
     "text": [
      "+-----------------------------------------------------+\n",
      "|                attacker Behaviour Log               |\n",
      "+-----------+-------+---------------------------------+\n",
      "| Time Step | Level | Message                         |\n",
      "+-----------+-------+---------------------------------+\n",
      "| 1         | INFO  | attacker has begun it's attack! |\n",
      "+-----------+-------+---------------------------------+\n"
     ]
    }
   ],
   "source": [
    "tap003.logger.show()"
   ]
  },
  {
   "cell_type": "markdown",
   "metadata": {},
   "source": [
    "### **Kill Chain** | PLANNING\n",
    "\n",
    "|Index| Action Stage| OBS Impact | Narrative |\n",
    "|-----|-------------|------------|-----------|\n",
    "|2|PLANNING| *No Direct Impact*| HOST:APPLICATION|TAP003 is devising a plan to exploit their elevated privileges.|\n",
    "\n",
    "Currently, the TAP003 agent does not perform any actions at this stage of the kill chain."
   ]
  },
  {
   "cell_type": "code",
   "execution_count": 13,
   "metadata": {
    "execution": {
     "iopub.execute_input": "2025-03-24T09:57:11.156144Z",
     "iopub.status.busy": "2025-03-24T09:57:11.155742Z",
     "iopub.status.idle": "2025-03-24T09:57:11.315662Z",
     "shell.execute_reply": "2025-03-24T09:57:11.314995Z"
    },
    "metadata": {}
   },
   "outputs": [
    {
     "name": "stdout",
     "output_type": "stream",
     "text": [
      "\"---TAP003's Current State---\"\n",
      "Current Environment Step: 5\n",
      "Current Kill Chain Stage: PLANNING\n",
      "Next Execution Step: 7\n",
      "Next Kill Chain Stage ACCESS\n",
      "'---Starting Client State----'\n"
     ]
    },
    {
     "name": "stdout",
     "output_type": "stream",
     "text": [
      "+---------------------------------------------------------------------------------------+\n",
      "|                          ST_PROJ-A-PRV-PC-1 Software Manager                          |\n",
      "+----------------------+-------------+-----------------+--------------+------+----------+\n",
      "| Name                 | Type        | Operating State | Health State | Port | Protocol |\n",
      "+----------------------+-------------+-----------------+--------------+------+----------+\n",
      "| arp                  | Service     | RUNNING         | GOOD         | 219  | udp      |\n",
      "| icmp                 | Service     | RUNNING         | GOOD         | None | icmp     |\n",
      "| dns-client           | Service     | RUNNING         | GOOD         | 53   | tcp      |\n",
      "| ntp-client           | Service     | RUNNING         | GOOD         | 123  | udp      |\n",
      "| web-browser          | Application | RUNNING         | GOOD         | 80   | tcp      |\n",
      "| nmap                 | Application | RUNNING         | GOOD         | None | none     |\n",
      "| user-session-manager | Service     | RUNNING         | GOOD         | None | none     |\n",
      "| user-manager         | Service     | RUNNING         | GOOD         | None | none     |\n",
      "| terminal             | Service     | RUNNING         | GOOD         | 22   | tcp      |\n",
      "| ftp-client           | Service     | RUNNING         | GOOD         | 21   | tcp      |\n",
      "| database-client      | Application | RUNNING         | GOOD         | 5432 | tcp      |\n",
      "+----------------------+-------------+-----------------+--------------+------+----------+\n",
      "\n",
      "Observation space differences\n",
      "-----------------------------\n",
      "Step 8\n",
      "root['NODES']['HOST0']['APPLICATIONS'][2]['num_executions']: 0 -> 1\n",
      "root['NODES']['HOST0']['NICS'][1]['TRAFFIC']['tcp'][5432]['inbound']: 0 -> 1\n",
      "root['NODES']['HOST0']['NICS'][1]['TRAFFIC']['tcp'][5432]['outbound']: 0 -> 1\n",
      "root['NODES']['HOST1']['NICS'][1]['TRAFFIC']['tcp'][80]['inbound']: 1 -> 0\n",
      "root['NODES']['HOST1']['NICS'][1]['TRAFFIC']['tcp'][80]['outbound']: 1 -> 0\n",
      "root['LINKS'][1]['PROTOCOLS']['ALL']: 0 -> 1\n",
      "root['LINKS'][5]['PROTOCOLS']['ALL']: 0 -> 1\n",
      "root['LINKS'][6]['PROTOCOLS']['ALL']: 1 -> 0\n",
      "root['LINKS'][19]['PROTOCOLS']['ALL']: 1 -> 0\n",
      "root['LINKS'][20]['PROTOCOLS']['ALL']: 1 -> 0\n",
      "root['LINKS'][22]['PROTOCOLS']['ALL']: 1 -> 0\n",
      "root['LINKS'][24]['PROTOCOLS']['ALL']: 0 -> 1\n",
      "root['LINKS'][25]['PROTOCOLS']['ALL']: 0 -> 1\n",
      "root['LINKS'][37]['PROTOCOLS']['ALL']: 0 -> 1\n"
     ]
    }
   ],
   "source": [
    "pprint(\"---TAP003's Current State---\")\n",
    "print(f\"Current Environment Step: {env.game.step_counter}\")\n",
    "print(f\"Current Kill Chain Stage: {tap003.current_kill_chain_stage.name}\")\n",
    "print(f\"Next Execution Step: {tap003.next_execution_timestep}\")\n",
    "print(f\"Next Kill Chain Stage {tap003.next_kill_chain_stage.name}\")\n",
    "pprint(\"---Starting Client State----\")\n",
    "while(tap003.current_kill_chain_stage == InsiderKillChain.PLANNING):\n",
    "    planning_obs_impact, _, _, _, info = env.step(0);\n",
    "current_host.software_manager.show()\n",
    "display_obs_diffs(reconnaissance_obs_impact, planning_obs_impact, env.game.step_counter)"
   ]
  },
  {
   "cell_type": "code",
   "execution_count": 14,
   "metadata": {
    "execution": {
     "iopub.execute_input": "2025-03-24T09:57:11.318525Z",
     "iopub.status.busy": "2025-03-24T09:57:11.318117Z",
     "iopub.status.idle": "2025-03-24T09:57:11.322382Z",
     "shell.execute_reply": "2025-03-24T09:57:11.321727Z"
    }
   },
   "outputs": [
    {
     "name": "stdout",
     "output_type": "stream",
     "text": [
      "+-----------------------------------------------------+\n",
      "|                attacker Behaviour Log               |\n",
      "+-----------+-------+---------------------------------+\n",
      "| Time Step | Level | Message                         |\n",
      "+-----------+-------+---------------------------------+\n",
      "| 1         | INFO  | attacker has begun it's attack! |\n",
      "| 7         | INFO  | Resolving starting knowledge.   |\n",
      "| 7         | INFO  | TAP003 reached the ACCESS       |\n",
      "+-----------+-------+---------------------------------+\n"
     ]
    }
   ],
   "source": [
    "tap003.logger.show()"
   ]
  },
  {
   "cell_type": "markdown",
   "metadata": {},
   "source": [
    "### **Kill Chain** | ACCESS\n",
    "\n",
    "|Index| Action Stage| OBS Impact | Narrative |\n",
    "|-----|-------------|------------|-----------|\n",
    "|3|Access|_do-nothing CAOS Action_|TAP003 uses their legitimate credentials to access the access control settings.|\n",
    "\n",
    "Currently, at this point of the kill chain stage the TAP003 does not perform any simulations actions. Future versions of TAP003 aim to leverage more of the simulation to create and remove accounts at this stage."
   ]
  },
  {
   "cell_type": "code",
   "execution_count": 15,
   "metadata": {
    "execution": {
     "iopub.execute_input": "2025-03-24T09:57:11.324813Z",
     "iopub.status.busy": "2025-03-24T09:57:11.324612Z",
     "iopub.status.idle": "2025-03-24T09:57:11.452046Z",
     "shell.execute_reply": "2025-03-24T09:57:11.451438Z"
    },
    "metadata": {}
   },
   "outputs": [
    {
     "name": "stdout",
     "output_type": "stream",
     "text": [
      "\"---TAP003's Current State---\"\n",
      "Current Environment Step: 8\n",
      "Current Kill Chain Stage: ACCESS\n",
      "Next Execution Step: 10\n",
      "Next Kill Chain Stage MANIPULATION\n",
      "'---Starting Client State----'\n"
     ]
    }
   ],
   "source": [
    "pprint(\"---TAP003's Current State---\")\n",
    "print(f\"Current Environment Step: {env.game.step_counter}\")\n",
    "print(f\"Current Kill Chain Stage: {tap003.current_kill_chain_stage.name}\")\n",
    "print(f\"Next Execution Step: {tap003.next_execution_timestep}\")\n",
    "print(f\"Next Kill Chain Stage {tap003.next_kill_chain_stage.name}\")\n",
    "pprint(\"---Starting Client State----\")\n",
    "while(tap003.current_kill_chain_stage == InsiderKillChain.ACCESS):\n",
    "    access_obs_impact, _, _, _, info = env.step(0)\n",
    "\n"
   ]
  },
  {
   "cell_type": "code",
   "execution_count": 16,
   "metadata": {
    "execution": {
     "iopub.execute_input": "2025-03-24T09:57:11.454933Z",
     "iopub.status.busy": "2025-03-24T09:57:11.454694Z",
     "iopub.status.idle": "2025-03-24T09:57:11.482659Z",
     "shell.execute_reply": "2025-03-24T09:57:11.482085Z"
    }
   },
   "outputs": [
    {
     "name": "stdout",
     "output_type": "stream",
     "text": [
      "\n",
      "Observation space differences\n",
      "-----------------------------\n",
      "Step 11\n",
      "root['NODES']['HOST0']['APPLICATIONS'][2]['num_executions']: 1 -> 0\n",
      "root['NODES']['HOST0']['NICS'][1]['TRAFFIC']['tcp'][5432]['inbound']: 1 -> 0\n",
      "root['NODES']['HOST0']['NICS'][1]['TRAFFIC']['tcp'][5432]['outbound']: 1 -> 0\n",
      "root['NODES']['HOST1']['APPLICATIONS'][2]['num_executions']: 1 -> 0\n",
      "root['NODES']['HOST1']['NICS'][1]['TRAFFIC']['tcp'][5432]['inbound']: 1 -> 0\n",
      "root['NODES']['HOST1']['NICS'][1]['TRAFFIC']['tcp'][5432]['outbound']: 1 -> 0\n",
      "root['LINKS'][19]['PROTOCOLS']['ALL']: 0 -> 1\n",
      "root['LINKS'][21]['PROTOCOLS']['ALL']: 0 -> 1\n",
      "root['LINKS'][22]['PROTOCOLS']['ALL']: 0 -> 1\n",
      "+---------------------------------------------------------------------------------------+\n",
      "|                          ST_PROJ-A-PRV-PC-1 Software Manager                          |\n",
      "+----------------------+-------------+-----------------+--------------+------+----------+\n",
      "| Name                 | Type        | Operating State | Health State | Port | Protocol |\n",
      "+----------------------+-------------+-----------------+--------------+------+----------+\n",
      "| arp                  | Service     | RUNNING         | GOOD         | 219  | udp      |\n",
      "| icmp                 | Service     | RUNNING         | GOOD         | None | icmp     |\n",
      "| dns-client           | Service     | RUNNING         | GOOD         | 53   | tcp      |\n",
      "| ntp-client           | Service     | RUNNING         | GOOD         | 123  | udp      |\n",
      "| web-browser          | Application | RUNNING         | GOOD         | 80   | tcp      |\n",
      "| nmap                 | Application | RUNNING         | GOOD         | None | none     |\n",
      "| user-session-manager | Service     | RUNNING         | GOOD         | None | none     |\n",
      "| user-manager         | Service     | RUNNING         | GOOD         | None | none     |\n",
      "| terminal             | Service     | RUNNING         | GOOD         | 22   | tcp      |\n",
      "| ftp-client           | Service     | RUNNING         | GOOD         | 21   | tcp      |\n",
      "| database-client      | Application | RUNNING         | GOOD         | 5432 | tcp      |\n",
      "+----------------------+-------------+-----------------+--------------+------+----------+\n",
      "Episode: 1, Actions for 'attacker':\n",
      "+------+--------+------+-------------+-----------+----------+\n",
      "| Step | Action | Node | Application | Target IP | Response |\n",
      "+------+--------+------+-------------+-----------+----------+\n",
      "+------+--------+------+-------------+-----------+----------+\n",
      "(Any do-nothing actions are omitted)\n"
     ]
    }
   ],
   "source": [
    "\n",
    "# Compare observation space before and after ACCESS stage.\n",
    "display_obs_diffs(planning_obs_impact, access_obs_impact, env.game.step_counter)\n",
    "\n",
    "starting_host.software_manager.show()\n",
    "print_agent_actions_except_do_nothing(tap003.config.ref)"
   ]
  },
  {
   "cell_type": "code",
   "execution_count": 17,
   "metadata": {
    "execution": {
     "iopub.execute_input": "2025-03-24T09:57:11.485134Z",
     "iopub.status.busy": "2025-03-24T09:57:11.484917Z",
     "iopub.status.idle": "2025-03-24T09:57:11.489082Z",
     "shell.execute_reply": "2025-03-24T09:57:11.488532Z"
    }
   },
   "outputs": [
    {
     "name": "stdout",
     "output_type": "stream",
     "text": [
      "+-----------------------------------------------------+\n",
      "|                attacker Behaviour Log               |\n",
      "+-----------+-------+---------------------------------+\n",
      "| Time Step | Level | Message                         |\n",
      "+-----------+-------+---------------------------------+\n",
      "| 1         | INFO  | attacker has begun it's attack! |\n",
      "| 7         | INFO  | Resolving starting knowledge.   |\n",
      "| 7         | INFO  | TAP003 reached the ACCESS       |\n",
      "+-----------+-------+---------------------------------+\n"
     ]
    }
   ],
   "source": [
    "tap003.logger.show()"
   ]
  },
  {
   "cell_type": "markdown",
   "metadata": {},
   "source": [
    "### **Kill Chain** | MANIPULATION\n",
    "\n",
    "|Index| Action Stage| OBS Impact | Narrative |\n",
    "|-----|-------------|------------|-----------|\n",
    "|4|Manipulation| **Target Host(s)** HOST::SESSIONS:REMOTE |TAP003 exploits their insider knowledge/privilege to implement changes for sabotage.|\n",
    "\n",
    "In the ``MANIPULATION`` kill chain stage the TAP003 agent creates new and alters pre-existing user accounts based on user given settings. \n",
    "\n",
    "_For more information please refer to the later TAP003 customisation section of the notebook._"
   ]
  },
  {
   "cell_type": "code",
   "execution_count": 18,
   "metadata": {
    "execution": {
     "iopub.execute_input": "2025-03-24T09:57:11.491764Z",
     "iopub.status.busy": "2025-03-24T09:57:11.491377Z",
     "iopub.status.idle": "2025-03-24T09:57:12.291953Z",
     "shell.execute_reply": "2025-03-24T09:57:12.291281Z"
    }
   },
   "outputs": [
    {
     "name": "stdout",
     "output_type": "stream",
     "text": [
      "(\"Agent action: timestep=10 action='do-nothing' parameters={} \"\n",
      " \"request=['do-nothing'] response=RequestResponse(status='success', data={}) \"\n",
      " 'reward=0.0 reward_info={} observation=0')\n",
      "\"---TAP003's Current State---\"\n",
      "Current Environment Step: 12\n",
      "Current Kill Chain Stage: MANIPULATION\n",
      "Next Execution Step: 13\n",
      "Next Kill Chain Stage EXPLOIT\n",
      "'---Target Client State----'\n"
     ]
    },
    {
     "name": "stdout",
     "output_type": "stream",
     "text": [
      "+-----------------------------+\n",
      "|  REM-PUB-RT-DR User Manager |\n",
      "+----------+-------+----------+\n",
      "| Username | Admin | Disabled |\n",
      "+----------+-------+----------+\n",
      "| admin    | True  | False    |\n",
      "+----------+-------+----------+\n",
      "\n",
      "Observation space differences\n",
      "-----------------------------\n",
      "Step 29\n",
      "root['NODES']['HOST1']['APPLICATIONS'][2]['num_executions']: 1 -> 0\n",
      "root['NODES']['HOST1']['NICS'][1]['TRAFFIC']['tcp'][80]['inbound']: 0 -> 1\n",
      "root['NODES']['HOST1']['NICS'][1]['TRAFFIC']['tcp'][80]['outbound']: 0 -> 1\n",
      "root['NODES']['HOST1']['NICS'][1]['TRAFFIC']['tcp'][5432]['inbound']: 1 -> 0\n",
      "root['NODES']['HOST1']['NICS'][1]['TRAFFIC']['tcp'][5432]['outbound']: 1 -> 0\n",
      "root['NODES']['HOST2']['APPLICATIONS'][2]['num_executions']: 1 -> 0\n",
      "root['NODES']['HOST2']['NICS'][1]['TRAFFIC']['tcp'][5432]['inbound']: 1 -> 0\n",
      "root['NODES']['HOST2']['NICS'][1]['TRAFFIC']['tcp'][5432]['outbound']: 1 -> 0\n",
      "root['LINKS'][1]['PROTOCOLS']['ALL']: 0 -> 1\n",
      "root['LINKS'][5]['PROTOCOLS']['ALL']: 0 -> 1\n",
      "root['LINKS'][7]['PROTOCOLS']['ALL']: 0 -> 1\n",
      "root['LINKS'][8]['PROTOCOLS']['ALL']: 0 -> 1\n",
      "root['LINKS'][13]['PROTOCOLS']['ALL']: 0 -> 1\n",
      "root['LINKS'][20]['PROTOCOLS']['ALL']: 0 -> 1\n",
      "root['LINKS'][24]['PROTOCOLS']['ALL']: 0 -> 1\n",
      "Episode: 1, Actions for 'attacker':\n",
      "+------+---------------------------+--------------------+------------------------------------------------------------------------------+---------------+----------+\n",
      "| Step |           Action          |        Node        |                                 Application                                  |   Target IP   | Response |\n",
      "+------+---------------------------+--------------------+------------------------------------------------------------------------------+---------------+----------+\n",
      "|  13  | node-session-remote-login | ST_PROJ-A-PRV-PC-1 |                                 user-manager                                 | 192.168.230.1 | success  |\n",
      "|  16  |  node-send-remote-command | ST_PROJ-A-PRV-PC-1 | ['service', 'user-manager', 'change_password', 'admin', 'admin', 'red_pass'] | 192.168.230.1 | success  |\n",
      "|  19  | node-session-remote-login | ST_PROJ-A-PRV-PC-1 |                                 user-manager                                 | 192.168.160.1 | success  |\n",
      "|  22  |  node-send-remote-command | ST_PROJ-A-PRV-PC-1 | ['service', 'user-manager', 'change_password', 'admin', 'admin', 'red_pass'] | 192.168.160.1 | success  |\n",
      "|  25  | node-session-remote-login | ST_PROJ-A-PRV-PC-1 |                                 user-manager                                 |  192.168.10.2 | success  |\n",
      "|  28  |  node-send-remote-command | ST_PROJ-A-PRV-PC-1 | ['service', 'user-manager', 'change_password', 'admin', 'admin', 'red_pass'] |  192.168.10.2 | success  |\n",
      "+------+---------------------------+--------------------+------------------------------------------------------------------------------+---------------+----------+\n",
      "(Any do-nothing actions are omitted)\n"
     ]
    }
   ],
   "source": [
    "access_obs_impact, _, _, _, _ = env.step(0)\n",
    "pprint(f\"Agent action: {info['agent_actions']['attacker']}\")\n",
    "\n",
    "pprint(\"---TAP003's Current State---\")\n",
    "print(f\"Current Environment Step: {env.game.step_counter}\")\n",
    "print(f\"Current Kill Chain Stage: {tap003.current_kill_chain_stage.name}\")\n",
    "print(f\"Next Execution Step: {tap003.next_execution_timestep}\")\n",
    "print(f\"Next Kill Chain Stage {tap003.next_kill_chain_stage.name}\")\n",
    "pprint(\"---Target Client State----\")\n",
    "while(tap003.current_kill_chain_stage == InsiderKillChain.MANIPULATION):\n",
    "    manipulation_obs_impact, _, _, _, info = env.step(0)\n",
    "\n",
    "\n",
    "# Example host\n",
    "rem_pub_rt_dr.user_manager.show()\n",
    "# rem_pub_rt_dr.user_session_manager.show()\n",
    "\n",
    "# Compare observation space before and after MANIPULATION stage.\n",
    "display_obs_diffs(access_obs_impact, manipulation_obs_impact, env.game.step_counter)\n",
    "print_agent_actions_except_do_nothing(tap003.config.ref)"
   ]
  },
  {
   "cell_type": "code",
   "execution_count": 19,
   "metadata": {
    "execution": {
     "iopub.execute_input": "2025-03-24T09:57:12.294435Z",
     "iopub.status.busy": "2025-03-24T09:57:12.294241Z",
     "iopub.status.idle": "2025-03-24T09:57:12.299340Z",
     "shell.execute_reply": "2025-03-24T09:57:12.298798Z"
    }
   },
   "outputs": [
    {
     "name": "stdout",
     "output_type": "stream",
     "text": [
      "+------------------------------------------------------------------------------------+\n",
      "|                               attacker Behaviour Log                               |\n",
      "+-----------+-------+----------------------------------------------------------------+\n",
      "| Time Step | Level | Message                                                        |\n",
      "+-----------+-------+----------------------------------------------------------------+\n",
      "| 7         | INFO  | TAP003 reached the ACCESS                                      |\n",
      "| 13        | INFO  | TAP003 reached the MANIPULATION.                               |\n",
      "| 13        | INFO  | Logging into ST_INTRA-PRV-RT-DR-1 in order to change password. |\n",
      "| 16        | INFO  | Changing password on remote node ST_INTRA-PRV-RT-DR-1          |\n",
      "| 19        | INFO  | Logging into ST_INTRA-PRV-RT-CR in order to change password.   |\n",
      "| 22        | INFO  | Changing password on remote node ST_INTRA-PRV-RT-CR            |\n",
      "| 25        | INFO  | Logging into REM-PUB-RT-DR in order to change password.        |\n",
      "| 28        | INFO  | Changing password on remote node REM-PUB-RT-DR                 |\n",
      "| 28        | INFO  | No further account changes required.                           |\n",
      "| 28        | INFO  | Manipulation complete. Progressing to exploit...               |\n",
      "+-----------+-------+----------------------------------------------------------------+\n"
     ]
    }
   ],
   "source": [
    "tap003.logger.show()"
   ]
  },
  {
   "cell_type": "markdown",
   "metadata": {},
   "source": [
    "### **Kill Chain** | EXPLOITATION\n",
    "\n",
    "|Index| Action Stage| OBS Impact | Narrative |\n",
    "|-----|-------------|------------|-----------|\n",
    "|5|EXPLOITATION| **Target Host(s)** ROUTER_ACL_ADDRULE |TAP003 exploiting their insider knowledge/privilege to implement changes for sabotage|\n",
    "\n",
    "In the final attack stage the TAP003 agent insert a malicious ACL rule(s) which blocks specific traffic, therefore triggering negative rewards for the green agents.\n",
    "\n",
    "The table below shows the impacts:\n",
    "\n",
    "|Target Router         | Impact |\n",
    "|----------------------|--------|\n",
    "|`ST_INTRA-PRV-RT-DR-1`| Blocks all `POSTGRES_SERVER` that arrives at the `ST_INTRA-PRV-RT-DR-1` router. This rule will prevent all ST_PROJ_* hosts from accessing the database (`ST_DATA-PRV-SRV-DB`).|\n",
    "|`ST_INTRA-PRV-RT-CR`| Blocks all `HTTP` traffic that arrives at the`ST_INTRA-PRV-RT-CR` router. This rule will prevent all SOME_TECH hosts from accessing the webserver (`ST_DMZ-PUB-SRV-WEB`)|\n",
    "|`REM-PUB-RT-DR`| Blocks all `DNS` traffic that arrives at the `REM-PUB-RT-DR` router. This rule prevents any remote site works from accessing the DNS Server (`ISP-PUB-SRV-DNS`).|\n",
    "\n",
    "\n",
    "<p align=\"center\">\n",
    "    <a href=\"./_package_data/uc7/uc7_tap003/uc7_tap003_main.png\" target=\"_blank\">\n",
    "        <img src=\"./_package_data/uc7/uc7_tap003/uc7_tap003_main.png\" alt=\"Image\" style=\"width:1000px;\">\n",
    "    </a>  \n",
    "    \n",
    "</p>\n",
    "\n",
    "_(Click to enlarge)_"
   ]
  },
  {
   "cell_type": "code",
   "execution_count": 20,
   "metadata": {
    "execution": {
     "iopub.execute_input": "2025-03-24T09:57:12.301910Z",
     "iopub.status.busy": "2025-03-24T09:57:12.301502Z",
     "iopub.status.idle": "2025-03-24T09:57:13.072409Z",
     "shell.execute_reply": "2025-03-24T09:57:13.071615Z"
    },
    "metadata": {}
   },
   "outputs": [
    {
     "name": "stdout",
     "output_type": "stream",
     "text": [
      "(\"Agent action: timestep=28 action='node-send-remote-command' \"\n",
      " \"parameters={'node_name': 'ST_PROJ-A-PRV-PC-1', 'remote_ip': '192.168.10.2', \"\n",
      " \"'command': ['service', 'user-manager', 'change_password', 'admin', 'admin', \"\n",
      " \"'red_pass']} request=['network', 'node', 'ST_PROJ-A-PRV-PC-1', 'service', \"\n",
      " \"'terminal', 'send_remote_command', '192.168.10.2', {'command': ['service', \"\n",
      " \"'user-manager', 'change_password', 'admin', 'admin', 'red_pass']}] \"\n",
      " \"response=RequestResponse(status='success', data={}) reward=0.0 \"\n",
      " 'reward_info={} observation=0')\n",
      "\"---TAP003's Current State---\"\n",
      "Current Environment Step: 30\n",
      "Current Kill Chain Stage: EXPLOIT\n",
      "Next Execution Step: 31\n",
      "Next Kill Chain Stage SUCCEEDED\n",
      "'---Target Client State----'\n"
     ]
    },
    {
     "name": "stdout",
     "output_type": "stream",
     "text": [
      "+-----------------------------------------------------------------------------------------------------------+\n",
      "|                                   ST_INTRA-PRV-RT-CR Access Control List                                  |\n",
      "+-------+--------+----------+--------+--------------+----------+--------+--------------+----------+---------+\n",
      "| Index | Action | Protocol | Src IP | Src Wildcard | Src Port | Dst IP | Dst Wildcard | Dst Port | Matched |\n",
      "+-------+--------+----------+--------+--------------+----------+--------+--------------+----------+---------+\n",
      "| 1     | DENY   | tcp      | ANY    | 0.0.255.255  | 80       | ANY    | 0.0.255.255  | 80       | 42      |\n",
      "| 5     | PERMIT | ANY      | ANY    | ANY          | ANY      | ANY    | ANY          | ANY      | 854     |\n",
      "| 22    | PERMIT | ANY      | ANY    | ANY          | 219      | ANY    | ANY          | 219      | 0       |\n",
      "| 23    | PERMIT | icmp     | ANY    | ANY          | ANY      | ANY    | ANY          | ANY      | 0       |\n",
      "| 24    | DENY   | ANY      | ANY    | ANY          | ANY      | ANY    | ANY          | ANY      | 0       |\n",
      "+-------+--------+----------+--------+--------------+----------+--------+--------------+----------+---------+\n",
      "+-----------------------------------------------------------------------------------------------------------+\n",
      "|                                  ST_INTRA-PRV-RT-DR-1 Access Control List                                 |\n",
      "+-------+--------+----------+--------+--------------+----------+--------+--------------+----------+---------+\n",
      "| Index | Action | Protocol | Src IP | Src Wildcard | Src Port | Dst IP | Dst Wildcard | Dst Port | Matched |\n",
      "+-------+--------+----------+--------+--------------+----------+--------+--------------+----------+---------+\n",
      "| 1     | DENY   | tcp      | ANY    | 0.0.255.255  | 5432     | ANY    | 0.0.255.255  | 5432     | 29      |\n",
      "| 5     | PERMIT | ANY      | ANY    | ANY          | ANY      | ANY    | ANY          | ANY      | 458     |\n",
      "| 22    | PERMIT | ANY      | ANY    | ANY          | 219      | ANY    | ANY          | 219      | 0       |\n",
      "| 23    | PERMIT | icmp     | ANY    | ANY          | ANY      | ANY    | ANY          | ANY      | 0       |\n",
      "| 24    | DENY   | ANY      | ANY    | ANY          | ANY      | ANY    | ANY          | ANY      | 0       |\n",
      "+-------+--------+----------+--------+--------------+----------+--------+--------------+----------+---------+\n",
      "+-----------------------------------------------------------------------------------------------------------+\n",
      "|                                     REM-PUB-RT-DR Access Control List                                     |\n",
      "+-------+--------+----------+--------+--------------+----------+--------+--------------+----------+---------+\n",
      "| Index | Action | Protocol | Src IP | Src Wildcard | Src Port | Dst IP | Dst Wildcard | Dst Port | Matched |\n",
      "+-------+--------+----------+--------+--------------+----------+--------+--------------+----------+---------+\n",
      "| 1     | DENY   | tcp      | ANY    | 0.0.255.255  | 53       | ANY    | 0.0.255.255  | 53       | 0       |\n",
      "| 5     | PERMIT | ANY      | ANY    | ANY          | ANY      | ANY    | ANY          | ANY      | 77      |\n",
      "| 22    | PERMIT | ANY      | ANY    | ANY          | 219      | ANY    | ANY          | 219      | 0       |\n",
      "| 23    | PERMIT | icmp     | ANY    | ANY          | ANY      | ANY    | ANY          | ANY      | 0       |\n",
      "| 24    | DENY   | ANY      | ANY    | ANY          | ANY      | ANY    | ANY          | ANY      | 0       |\n",
      "+-------+--------+----------+--------+--------------+----------+--------+--------------+----------+---------+\n",
      "\n",
      "Observation space differences\n",
      "-----------------------------\n",
      "Step 48\n",
      "root['NODES']['HOST0']['APPLICATIONS'][2]['num_executions']: 0 -> 1\n",
      "root['NODES']['HOST0']['NICS'][1]['TRAFFIC']['tcp'][5432]['outbound']: 0 -> 1\n",
      "root['NODES']['HOST1']['NICS'][1]['TRAFFIC']['tcp'][80]['inbound']: 1 -> 0\n",
      "root['NODES']['HOST2']['APPLICATIONS'][2]['num_executions']: 1 -> 0\n",
      "root['NODES']['HOST2']['NICS'][1]['TRAFFIC']['tcp'][80]['inbound']: 1 -> 0\n",
      "root['NODES']['HOST2']['NICS'][1]['TRAFFIC']['tcp'][80]['outbound']: 1 -> 0\n",
      "root['NODES']['HOST2']['NICS'][1]['TRAFFIC']['tcp'][5432]['inbound']: 1 -> 0\n",
      "root['NODES']['HOST2']['NICS'][1]['TRAFFIC']['tcp'][5432]['outbound']: 1 -> 0\n",
      "root['NODES']['ROUTER0']['ACL'][1]['permission']: 0 -> 2\n",
      "root['NODES']['ROUTER0']['ACL'][1]['source_ip_id']: 0 -> 1\n",
      "root['NODES']['ROUTER0']['ACL'][1]['source_wildcard_id']: 0 -> 4\n",
      "root['NODES']['ROUTER0']['ACL'][1]['source_port_id']: 0 -> 4\n",
      "root['NODES']['ROUTER0']['ACL'][1]['dest_ip_id']: 0 -> 1\n",
      "root['NODES']['ROUTER0']['ACL'][1]['dest_wildcard_id']: 0 -> 4\n",
      "root['NODES']['ROUTER0']['ACL'][1]['dest_port_id']: 0 -> 4\n",
      "root['NODES']['ROUTER0']['ACL'][1]['protocol_id']: 0 -> 3\n",
      "root['NODES']['ROUTER0']['users']['remote_sessions']: 0 -> 1\n",
      "root['NODES']['ROUTER1']['ACL'][1]['permission']: 0 -> 2\n",
      "root['NODES']['ROUTER1']['ACL'][1]['source_ip_id']: 0 -> 1\n",
      "root['NODES']['ROUTER1']['ACL'][1]['source_wildcard_id']: 0 -> 4\n",
      "root['NODES']['ROUTER1']['ACL'][1]['source_port_id']: 0 -> 6\n",
      "root['NODES']['ROUTER1']['ACL'][1]['dest_ip_id']: 0 -> 1\n",
      "root['NODES']['ROUTER1']['ACL'][1]['dest_wildcard_id']: 0 -> 4\n",
      "root['NODES']['ROUTER1']['ACL'][1]['dest_port_id']: 0 -> 6\n",
      "root['NODES']['ROUTER1']['ACL'][1]['protocol_id']: 0 -> 3\n",
      "root['NODES']['ROUTER1']['users']['remote_sessions']: 0 -> 1\n",
      "root['NODES']['ROUTER2']['ACL'][1]['permission']: 0 -> 2\n",
      "root['NODES']['ROUTER2']['ACL'][1]['source_ip_id']: 0 -> 1\n",
      "root['NODES']['ROUTER2']['ACL'][1]['source_wildcard_id']: 0 -> 4\n",
      "root['NODES']['ROUTER2']['ACL'][1]['source_port_id']: 0 -> 3\n",
      "root['NODES']['ROUTER2']['ACL'][1]['dest_ip_id']: 0 -> 1\n",
      "root['NODES']['ROUTER2']['ACL'][1]['dest_wildcard_id']: 0 -> 4\n",
      "root['NODES']['ROUTER2']['ACL'][1]['dest_port_id']: 0 -> 3\n",
      "root['NODES']['ROUTER2']['ACL'][1]['protocol_id']: 0 -> 3\n",
      "root['NODES']['ROUTER2']['users']['remote_sessions']: 0 -> 1\n",
      "root['LINKS'][10]['PROTOCOLS']['ALL']: 1 -> 0\n",
      "root['LINKS'][14]['PROTOCOLS']['ALL']: 1 -> 0\n",
      "root['LINKS'][22]['PROTOCOLS']['ALL']: 1 -> 0\n",
      "root['LINKS'][25]['PROTOCOLS']['ALL']: 0 -> 1\n",
      "root['LINKS'][29]['PROTOCOLS']['ALL']: 0 -> 1\n",
      "Episode: 1, Actions for 'attacker':\n",
      "+------+---------------------------+--------------------+-----------------------------------------------------------------------------------------------+---------------+----------+\n",
      "| Step |           Action          |        Node        |                                          Application                                          |   Target IP   | Response |\n",
      "+------+---------------------------+--------------------+-----------------------------------------------------------------------------------------------+---------------+----------+\n",
      "|  13  | node-session-remote-login | ST_PROJ-A-PRV-PC-1 |                                          user-manager                                         | 192.168.230.1 | success  |\n",
      "|  16  |  node-send-remote-command | ST_PROJ-A-PRV-PC-1 |          ['service', 'user-manager', 'change_password', 'admin', 'admin', 'red_pass']         | 192.168.230.1 | success  |\n",
      "|  19  | node-session-remote-login | ST_PROJ-A-PRV-PC-1 |                                          user-manager                                         | 192.168.160.1 | success  |\n",
      "|  22  |  node-send-remote-command | ST_PROJ-A-PRV-PC-1 |          ['service', 'user-manager', 'change_password', 'admin', 'admin', 'red_pass']         | 192.168.160.1 | success  |\n",
      "|  25  | node-session-remote-login | ST_PROJ-A-PRV-PC-1 |                                          user-manager                                         |  192.168.10.2 | success  |\n",
      "|  28  |  node-send-remote-command | ST_PROJ-A-PRV-PC-1 |          ['service', 'user-manager', 'change_password', 'admin', 'admin', 'red_pass']         |  192.168.10.2 | success  |\n",
      "|  31  | node-session-remote-login | ST_PROJ-A-PRV-PC-1 |                                          user-manager                                         | 192.168.230.1 | success  |\n",
      "|  34  |  node-send-remote-command | ST_PROJ-A-PRV-PC-1 | ['acl', 'add_rule', 'DENY', 'tcp', 'ALL', '0.0.255.255', 5432, 'ALL', '0.0.255.255', 5432, 1] | 192.168.230.1 | success  |\n",
      "|  37  | node-session-remote-login | ST_PROJ-A-PRV-PC-1 |                                          user-manager                                         | 192.168.160.1 | success  |\n",
      "|  40  |  node-send-remote-command | ST_PROJ-A-PRV-PC-1 |   ['acl', 'add_rule', 'DENY', 'tcp', 'ALL', '0.0.255.255', 80, 'ALL', '0.0.255.255', 80, 1]   | 192.168.160.1 | success  |\n",
      "|  43  | node-session-remote-login | ST_PROJ-A-PRV-PC-1 |                                          user-manager                                         |  192.168.10.2 | success  |\n",
      "|  46  |  node-send-remote-command | ST_PROJ-A-PRV-PC-1 |   ['acl', 'add_rule', 'DENY', 'tcp', 'ALL', '0.0.255.255', 53, 'ALL', '0.0.255.255', 53, 1]   |  192.168.10.2 | success  |\n",
      "+------+---------------------------+--------------------+-----------------------------------------------------------------------------------------------+---------------+----------+\n",
      "(Any do-nothing actions are omitted)\n"
     ]
    }
   ],
   "source": [
    "manipulation_obs_impact, _, _, _, _ = env.step(0)\n",
    "pprint(f\"Agent action: {info['agent_actions']['attacker']}\")\n",
    "\n",
    "pprint(\"---TAP003's Current State---\")\n",
    "print(f\"Current Environment Step: {env.game.step_counter}\")\n",
    "print(f\"Current Kill Chain Stage: {tap003.current_kill_chain_stage.name}\")\n",
    "print(f\"Next Execution Step: {tap003.next_execution_timestep}\")\n",
    "print(f\"Next Kill Chain Stage {tap003.next_kill_chain_stage.name}\")\n",
    "pprint(\"---Target Client State----\")\n",
    "while(tap003.current_kill_chain_stage == InsiderKillChain.EXPLOIT):\n",
    "    exploit_obs_impact, _, _, _, info = env.step(0)\n",
    "    \n",
    "st_intra_prv_rt_cr.acl.show()\n",
    "st_intra_prv_rt_dr_1.acl.show()\n",
    "rem_pub_rt_dr.acl.show()\n",
    "\n",
    "# Stepping once more to allow the malicious acl to appear in the simulation.\n",
    "exploit_obs_impact, _, _, _, _ = env.step(0)\n",
    "\n",
    "# Compare observation space before and after MANIPULATION stage.\n",
    "display_obs_diffs(manipulation_obs_impact, exploit_obs_impact, env.game.step_counter)\n",
    "print_agent_actions_except_do_nothing(tap003.config.ref)"
   ]
  },
  {
   "cell_type": "code",
   "execution_count": 21,
   "metadata": {
    "execution": {
     "iopub.execute_input": "2025-03-24T09:57:13.075255Z",
     "iopub.status.busy": "2025-03-24T09:57:13.075045Z",
     "iopub.status.idle": "2025-03-24T09:57:13.080158Z",
     "shell.execute_reply": "2025-03-24T09:57:13.079526Z"
    }
   },
   "outputs": [
    {
     "name": "stdout",
     "output_type": "stream",
     "text": [
      "+----------------------------------------------------------------------------------+\n",
      "|                              attacker Behaviour Log                              |\n",
      "+-----------+-------+--------------------------------------------------------------+\n",
      "| Time Step | Level | Message                                                      |\n",
      "+-----------+-------+--------------------------------------------------------------+\n",
      "| 28        | INFO  | Changing password on remote node REM-PUB-RT-DR               |\n",
      "| 28        | INFO  | No further account changes required.                         |\n",
      "| 28        | INFO  | Manipulation complete. Progressing to exploit...             |\n",
      "| 31        | INFO  | Logging into ST_INTRA-PRV-RT-DR-1 in order to add ACL rules. |\n",
      "| 34        | INFO  | Adding ACL rule to ST_INTRA-PRV-RT-DR-1                      |\n",
      "| 37        | INFO  | Logging into ST_INTRA-PRV-RT-CR in order to add ACL rules.   |\n",
      "| 40        | INFO  | Adding ACL rule to ST_INTRA-PRV-RT-CR                        |\n",
      "| 43        | INFO  | Logging into REM-PUB-RT-DR in order to add ACL rules.        |\n",
      "| 46        | INFO  | Adding ACL rule to REM-PUB-RT-DR                             |\n",
      "| 46        | INFO  | Finished adding ACL rules.                                   |\n",
      "+-----------+-------+--------------------------------------------------------------+\n"
     ]
    }
   ],
   "source": [
    "tap003.logger.show()"
   ]
  },
  {
   "cell_type": "markdown",
   "metadata": {},
   "source": [
    "#### Demonstration of the ACL Rule blocking traffic\n",
    "\n",
    "As an example of the malicious ACL Rule affecting traffic across the network, attempting to query the database server (ST_DATA-PRV-SRV-DB) from any of the `ST_PROJECT_*` networks should fail because it is must route through the `ST_INTRA-PRV-RT-DR-1` router which TAP003 has configured to block all `POSTGRES_SERVER` traffic."
   ]
  },
  {
   "cell_type": "code",
   "execution_count": 22,
   "metadata": {
    "execution": {
     "iopub.execute_input": "2025-03-24T09:57:13.082790Z",
     "iopub.status.busy": "2025-03-24T09:57:13.082417Z",
     "iopub.status.idle": "2025-03-24T09:57:13.088655Z",
     "shell.execute_reply": "2025-03-24T09:57:13.088017Z"
    }
   },
   "outputs": [
    {
     "name": "stdout",
     "output_type": "stream",
     "text": [
      "+-----------------------------------------------------------------------------------------------------------+\n",
      "|                                  ST_INTRA-PRV-RT-DR-1 Access Control List                                 |\n",
      "+-------+--------+----------+--------+--------------+----------+--------+--------------+----------+---------+\n",
      "| Index | Action | Protocol | Src IP | Src Wildcard | Src Port | Dst IP | Dst Wildcard | Dst Port | Matched |\n",
      "+-------+--------+----------+--------+--------------+----------+--------+--------------+----------+---------+\n",
      "| 1     | DENY   | tcp      | ANY    | 0.0.255.255  | 5432     | ANY    | 0.0.255.255  | 5432     | 30      |\n",
      "| 5     | PERMIT | ANY      | ANY    | ANY          | ANY      | ANY    | ANY          | ANY      | 461     |\n",
      "| 22    | PERMIT | ANY      | ANY    | ANY          | 219      | ANY    | ANY          | 219      | 0       |\n",
      "| 23    | PERMIT | icmp     | ANY    | ANY          | ANY      | ANY    | ANY          | ANY      | 0       |\n",
      "| 24    | DENY   | ANY      | ANY    | ANY          | ANY      | ANY    | ANY          | ANY      | 0       |\n",
      "+-------+--------+----------+--------+--------------+----------+--------+--------------+----------+---------+\n",
      "False\n"
     ]
    }
   ],
   "source": [
    "affected_node = env.game.simulation.network.get_node_by_hostname(\"ST_PROJ-A-PRV-PC-1\")\n",
    "database_server = env.game.simulation.network.get_node_by_hostname(\"ST_DATA-PRV-SRV-DB\")\n",
    "\n",
    "st_intra_prv_rt_dr_1 = env.game.simulation.network.get_node_by_hostname(\"ST_INTRA-PRV-RT-DR-1\")\n",
    "\n",
    "database_client: DatabaseClient = affected_node.software_manager.software.get(\"database-client\")\n",
    "st_intra_prv_rt_dr_1.acl.show()\n",
    "\n",
    "# should be False\n",
    "print(database_client.query(sql=\"SELECT\"))"
   ]
  },
  {
   "cell_type": "markdown",
   "metadata": {},
   "source": [
    "However, ACL rules will not stop ICMP traffic, allowing us to still ping the target nodes as shown below."
   ]
  },
  {
   "cell_type": "code",
   "execution_count": 23,
   "metadata": {
    "execution": {
     "iopub.execute_input": "2025-03-24T09:57:13.091342Z",
     "iopub.status.busy": "2025-03-24T09:57:13.090944Z",
     "iopub.status.idle": "2025-03-24T09:57:13.103488Z",
     "shell.execute_reply": "2025-03-24T09:57:13.102749Z"
    }
   },
   "outputs": [
    {
     "name": "stdout",
     "output_type": "stream",
     "text": [
      "True\n"
     ]
    }
   ],
   "source": [
    "# should be true\n",
    "print(affected_node.ping(database_server.network_interface[1].ip_address))"
   ]
  },
  {
   "cell_type": "markdown",
   "metadata": {},
   "source": [
    "Additionally, by default, TAP003 is configured to add two more ACLs on the UC7 network as shown in the table previously."
   ]
  },
  {
   "cell_type": "code",
   "execution_count": 24,
   "metadata": {
    "execution": {
     "iopub.execute_input": "2025-03-24T09:57:13.106134Z",
     "iopub.status.busy": "2025-03-24T09:57:13.105725Z",
     "iopub.status.idle": "2025-03-24T09:57:13.113687Z",
     "shell.execute_reply": "2025-03-24T09:57:13.113124Z"
    }
   },
   "outputs": [
    {
     "name": "stdout",
     "output_type": "stream",
     "text": [
      "+-----------------------------------------------------------------------------------------------------------+\n",
      "|                                   ST_INTRA-PRV-RT-CR Access Control List                                  |\n",
      "+-------+--------+----------+--------+--------------+----------+--------+--------------+----------+---------+\n",
      "| Index | Action | Protocol | Src IP | Src Wildcard | Src Port | Dst IP | Dst Wildcard | Dst Port | Matched |\n",
      "+-------+--------+----------+--------+--------------+----------+--------+--------------+----------+---------+\n",
      "| 1     | DENY   | tcp      | ANY    | 0.0.255.255  | 80       | ANY    | 0.0.255.255  | 80       | 50      |\n",
      "| 5     | PERMIT | ANY      | ANY    | ANY          | ANY      | ANY    | ANY          | ANY      | 864     |\n",
      "| 22    | PERMIT | ANY      | ANY    | ANY          | 219      | ANY    | ANY          | 219      | 0       |\n",
      "| 23    | PERMIT | icmp     | ANY    | ANY          | ANY      | ANY    | ANY          | ANY      | 0       |\n",
      "| 24    | DENY   | ANY      | ANY    | ANY          | ANY      | ANY    | ANY          | ANY      | 0       |\n",
      "+-------+--------+----------+--------+--------------+----------+--------+--------------+----------+---------+\n",
      "+--------------------------------------------------------------------------------------------------------------------+\n",
      "|                                               ST_HO-PRV-PC-1 Sys Log                                               |\n",
      "+-------------------------+-------+----------------------------------------------------------------------------------+\n",
      "| Timestamp               | Level | Message                                                                          |\n",
      "+-------------------------+-------+----------------------------------------------------------------------------------+\n",
      "| 2025-03-24 09:57:12,933 | INFO  | web-browser: Received HTTP GET Response http://some_tech.com - 404               |\n",
      "| 2025-03-24 09:57:12,957 | INFO  | dns-client: Domain lookup for some_tech.com successful,resolves to 192.168.100.2 |\n",
      "| 2025-03-24 09:57:12,957 | INFO  | web-browser: Sending HTTP GET http://some_tech.com                               |\n",
      "| 2025-03-24 09:57:12,958 | INFO  | web-browser: Received HTTP GET Response http://some_tech.com - 404               |\n",
      "| 2025-03-24 09:57:13,021 | INFO  | dns-client: Domain lookup for some_tech.com successful,resolves to 192.168.100.2 |\n",
      "| 2025-03-24 09:57:13,021 | INFO  | web-browser: Sending HTTP GET http://some_tech.com                               |\n",
      "| 2025-03-24 09:57:13,022 | INFO  | web-browser: Received HTTP GET Response http://some_tech.com - 404               |\n",
      "| 2025-03-24 09:57:13,108 | INFO  | dns-client: Domain lookup for some_tech.com successful,resolves to 192.168.100.2 |\n",
      "| 2025-03-24 09:57:13,108 | INFO  | web-browser: Sending HTTP GET http://some_tech.com                               |\n",
      "| 2025-03-24 09:57:13,109 | INFO  | web-browser: Received HTTP GET Response http://some_tech.com - 404               |\n",
      "+-------------------------+-------+----------------------------------------------------------------------------------+\n"
     ]
    }
   ],
   "source": [
    "# This ACL blocks all web_server traffic from within the main `SOME_TECH` office. Thus leading to every SOME_TECH host unable to access the web-server\n",
    "st_intra_prv_rt_cr = env.game.simulation.network.get_node_by_hostname(\"ST_INTRA-PRV-RT-CR\")\n",
    "st_intra_prv_rt_cr.acl.show()\n",
    "\n",
    "st_head_office_private_pc_1: Computer = env.game.simulation.network.get_node_by_hostname(\"ST_HO-PRV-PC-1\")\n",
    "st_head_office_private_pc_1_web_browser: WebBrowser = st_head_office_private_pc_1.software_manager.software[\"web-browser\"]\n",
    "st_head_office_private_pc_1_web_browser.get_webpage(url=\"http://some_tech.com\")\n",
    "st_head_office_private_pc_1_web_browser.sys_log.show()"
   ]
  },
  {
   "cell_type": "code",
   "execution_count": 25,
   "metadata": {
    "execution": {
     "iopub.execute_input": "2025-03-24T09:57:13.115987Z",
     "iopub.status.busy": "2025-03-24T09:57:13.115756Z",
     "iopub.status.idle": "2025-03-24T09:57:13.121533Z",
     "shell.execute_reply": "2025-03-24T09:57:13.120979Z"
    }
   },
   "outputs": [
    {
     "name": "stdout",
     "output_type": "stream",
     "text": [
      "+-----------------------------------------------------------------------------------------------------------+\n",
      "|                                     REM-PUB-RT-DR Access Control List                                     |\n",
      "+-------+--------+----------+--------+--------------+----------+--------+--------------+----------+---------+\n",
      "| Index | Action | Protocol | Src IP | Src Wildcard | Src Port | Dst IP | Dst Wildcard | Dst Port | Matched |\n",
      "+-------+--------+----------+--------+--------------+----------+--------+--------------+----------+---------+\n",
      "| 1     | DENY   | tcp      | ANY    | 0.0.255.255  | 53       | ANY    | 0.0.255.255  | 53       | 1       |\n",
      "| 5     | PERMIT | ANY      | ANY    | ANY          | ANY      | ANY    | ANY          | ANY      | 79      |\n",
      "| 22    | PERMIT | ANY      | ANY    | ANY          | 219      | ANY    | ANY          | 219      | 0       |\n",
      "| 23    | PERMIT | icmp     | ANY    | ANY          | ANY      | ANY    | ANY          | ANY      | 0       |\n",
      "| 24    | DENY   | ANY      | ANY    | ANY          | ANY      | ANY    | ANY          | ANY      | 0       |\n",
      "+-------+--------+----------+--------+--------------+----------+--------+--------------+----------+---------+\n"
     ]
    }
   ],
   "source": [
    "# This ACL blocks all DNS traffic from exiting the SOME_TECH remote site.\n",
    "rem_pub_pc_1: Computer = env.game.simulation.network.get_node_by_hostname(hostname=\"REM-PUB-PC-1\")\n",
    "rem_pub_rt_dr = env.game.simulation.network.get_node_by_hostname(\"REM-PUB-RT-DR\")\n",
    "dns_client: DNSClient = rem_pub_pc_1.software_manager.software[\"dns-client\"]\n",
    "dns_client.dns_cache.clear()\n",
    "dns_client.check_domain_exists(target_domain=\"some_tech.com\")\n",
    "rem_pub_rt_dr.acl.show()"
   ]
  },
  {
   "cell_type": "markdown",
   "metadata": {},
   "source": [
    "## **Kill Chain Configurations** | Overview:"
   ]
  },
  {
   "cell_type": "markdown",
   "metadata": {},
   "source": [
    "The following sections cover the TAP003's settings & configurations. \n",
    "Each section contains code cells which directly demonstrate each option and it's effect on TAP003."
   ]
  },
  {
   "cell_type": "markdown",
   "metadata": {},
   "source": [
    "### **Attack Configurations** | Threat Actor Profile (TAP) wide Agent Settings\n",
    "\n",
    "<summary> Threat Actor Profile Agent Settings </summary>\n",
    "\n",
    "<details>\n",
    "\n",
    "|Option Field|Meaning|Expected Type|Required/Optional|\n",
    "|------------|-------|-------------|-----------------|\n",
    "|start_step|The initial kill chain starting step.|Int|_Required_|\n",
    "|frequency|The frequency of each kill chains starting steps.|Int|_Required_|\n",
    "|variance| The timestep variance between frequency|Int|_Required_|\n",
    "|repeat_kill_chain|Indicates whether the attack is repeated throughout the episode.|Bool|_Required_|\n",
    "|repeat_kill_chain_stages|Indicates if the kill_chain stage should reset upon failure or retry.|Bool|_Required_|\n",
    "|default_target_node|The Target Host|Str|_Required_|\n",
    "|starting_nodes|A list of Potential Targets|List|_Optional_|\n",
    "|kill_chain|_See the next notebook section_|Dict|_Required_||\n",
    "\n",
    "</details>"
   ]
  },
  {
   "cell_type": "markdown",
   "metadata": {},
   "source": [
    "_Example kill chain setting configuration_\n",
    "```yaml\n",
    "      start_step: 1\n",
    "      frequency: 3\n",
    "      variance: 0\n",
    "      repeat_kill_chain: false\n",
    "      repeat_kill_chain_stages: true\n",
    "      default_starting_node: \"ST_PROJ-A-PRV-PC-1\"\n",
    "      starting_nodes:\n",
    "      # starting_nodes: [\"ST_PROJ-A-PRV-PC-1\", \"ST_PROJ-B-PRV-PC-2\", \"ST_PROJ-C-PRV-PC-3\"]\n",
    "```"
   ]
  },
  {
   "cell_type": "markdown",
   "metadata": {},
   "source": [
    "### **Attack Configurations** | Kill Chain Settings Overview\n",
    "Currently, each kill chain stage has a probability of success option.\n",
    "Additionally the manipulation kill stage offers an additional configuration of the malicious ACL.\n",
    "\n",
    "<summary> TAP003's Kill Chain Settings </summary>\n",
    "\n",
    "<details> \n",
    "\n",
    "Kill Chain Stage 1 - _PLANNING_\n",
    "\n",
    "|Option Field|Meaning|Expected Type|Required/Optional|\n",
    "|------------|-------|-------------|-----------------|\n",
    "|probability|Probability Of Success - The chance of successfully carrying out this stage in the kill_chain.|float|_Required_|\n",
    "|starting_network_knowledge| User Account details | dict |_required_|\n",
    "\n",
    "Kill Chain Stage 2 - _ACCESS_\n",
    "\n",
    "|Option Field|Meaning|Expected Type|Required/Optional|\n",
    "|------------|-------|-------------|-----------------|\n",
    "|probability|Probability Of Success - The chance of successfully carrying out this stage in the kill_chain.|float|_Required_|\n",
    "\n",
    "Kill Chain Stage 3 - _MANIPULATION_\n",
    "\n",
    "|Option Field|Meaning|Expected Type|Required/Optional|\n",
    "|------------|-------|-------------|-----------------|\n",
    "|probability|Probability Of Success - The chance of successfully carrying out this stage in the kill_chain.|float|_Required_|\n",
    "|account_changes| User Accounts hijacked - Must be the same targets as `malicious_acl` used in next kill chain stage | dict | _Required_|\n",
    "\n",
    "Kill Chain Stage 4 - _EXPLOIT_\n",
    "\n",
    "|Option Field|Meaning|Expected Type|Required/Optional|\n",
    "|------------|-------|-------------|-----------------|\n",
    "|malicious_acl|The configurable ACL that the TAP003 agent adds to the target node.|dict|_Required_|\n",
    "\n",
    "</details>"
   ]
  },
  {
   "cell_type": "markdown",
   "metadata": {},
   "source": [
    "_An example of a kill chain setting configuration_ \n",
    "```yaml\n",
    "        kill_chain:\n",
    "          PLANNING:\n",
    "            probability: 1\n",
    "            starting_network_knowledge:\n",
    "              credentials:\n",
    "                ST_PROJ-A-PRV-PC-1:\n",
    "                  username: admin\n",
    "                  password: admin\n",
    "                ST_PROJ-B-PRV-PC-2:\n",
    "                  username: admin\n",
    "                  password: admin\n",
    "                ST_PROJ-C-PRV-PC-3:\n",
    "                  username: admin\n",
    "                  password: admin\n",
    "                ST_INTRA-PRV-RT-DR-1:\n",
    "                  ip_address: 192.168.230.1\n",
    "                  username: admin\n",
    "                  password: admin\n",
    "                ST_INTRA-PRV-RT-CR:\n",
    "                  ip_address: 192.168.160.1\n",
    "                  username: admin\n",
    "                  password: admin\n",
    "                REM-PUB-RT-DR:\n",
    "                  ip_address: 192.168.10.2\n",
    "                  username: admin\n",
    "                  password: admin\n",
    "          ACCESS:\n",
    "            probability: 1\n",
    "          MANIPULATION:\n",
    "            probability: 1\n",
    "            account_changes:\n",
    "              - host: ST_INTRA-PRV-RT-DR-1\n",
    "                ip_address: 192.168.230.1 # ST_INTRA-PRV-RT-DR-1\n",
    "                action: change_password\n",
    "                username: admin\n",
    "                new_password: \"red_pass\"\n",
    "              - host: ST_INTRA-PRV-RT-CR\n",
    "                ip_address: 192.168.160.1 # ST_INTRA-PRV-RT-CR\n",
    "                action: change_password\n",
    "                username: \"admin\"\n",
    "                new_password: \"red_pass\"\n",
    "              - host: REM-PUB-RT-DR\n",
    "                ip_address: 192.168.10.2 # REM-PUB-RT-DR\n",
    "                action: change_password\n",
    "                username: \"admin\"\n",
    "                new_password: \"red_pass\"\n",
    "          EXPLOIT:\n",
    "            probability: 1\n",
    "            malicious_acls:\n",
    "              - target_router: ST_INTRA-PRV-RT-DR-1\n",
    "                ip_address: 192.168.230.1 \n",
    "                position: 1\n",
    "                permission: DENY\n",
    "                src_ip: ALL\n",
    "                src_wildcard_mask: 0.0.255.255\n",
    "                dst_ip: ALL\n",
    "                dst_wildcard_mask: 0.0.255.255\n",
    "                src_port: POSTGRES_SERVER\n",
    "                dst_port: POSTGRES_SERVER\n",
    "                protocol_name: TCP\n",
    "\n",
    "```"
   ]
  },
  {
   "cell_type": "markdown",
   "metadata": {},
   "source": [
    "### **Attack Configurations** | Configuration Examples \n",
    "The following notebook section demonstrates a few potential examples of different TAP003 configurations and their expected behaviour within an episode."
   ]
  },
  {
   "cell_type": "code",
   "execution_count": 26,
   "metadata": {
    "execution": {
     "iopub.execute_input": "2025-03-24T09:57:13.124684Z",
     "iopub.status.busy": "2025-03-24T09:57:13.124280Z",
     "iopub.status.idle": "2025-03-24T09:57:13.128149Z",
     "shell.execute_reply": "2025-03-24T09:57:13.127489Z"
    },
    "metadata": {}
   },
   "outputs": [
    {
     "name": "stdout",
     "output_type": "stream",
     "text": [
      "start_step : 1\n",
      "frequency : 3\n",
      "variance : 0\n",
      "repeat_kill_chain : False\n",
      "repeat_kill_chain_stages : True\n",
      "starting_nodes : None\n",
      "default_starting_node : ST_PROJ-A-PRV-PC-1\n"
     ]
    }
   ],
   "source": [
    "tap003 = env.game.agents['attacker']\n",
    "for key,value in tap003.config.agent_settings:\n",
    "    if key == 'kill_chain':\n",
    "        pass\n",
    "    else:\n",
    "        print(f\"{key} : {value}\")"
   ]
  },
  {
   "cell_type": "markdown",
   "metadata": {},
   "source": [
    "#### **Attack Configurations** | Start Step, Frequency & Variance\n",
    "\n",
    "In this section, the code cells below demonstrate the following options:\n",
    "\n",
    "|Option Field|Meaning|Expected Type|Required/Optional|\n",
    "|------------|-------|-------------|-----------------|\n",
    "|start_step|The initial kill chain starting step.|Int|_Required_|\n",
    "|frequency|The frequency of each kill chains starting steps.|Str|_Required_|\n",
    "|variance|The timestep variance between frequency.|Str|_Required_|\n"
   ]
  },
  {
   "cell_type": "markdown",
   "metadata": {},
   "source": [
    "The code cell below alters the start_step, frequency and variance to 20, 10 and 5 respectively.\n",
    "Additionally, the probability of the kill chain stages are set to guarantee success. "
   ]
  },
  {
   "cell_type": "code",
   "execution_count": 27,
   "metadata": {
    "execution": {
     "iopub.execute_input": "2025-03-24T09:57:13.130822Z",
     "iopub.status.busy": "2025-03-24T09:57:13.130463Z",
     "iopub.status.idle": "2025-03-24T09:57:13.785018Z",
     "shell.execute_reply": "2025-03-24T09:57:13.784423Z"
    },
    "metadata": {}
   },
   "outputs": [
    {
     "name": "stderr",
     "output_type": "stream",
     "text": [
      "2025-03-24 09:57:13,781: PrimaiteGymEnv RNG seed = None\n"
     ]
    }
   ],
   "source": [
    "with open(_EXAMPLE_CFG/\"uc7_config_tap003.yaml\", mode=\"r\") as uc7_config:\n",
    "    cfg = yaml.safe_load(uc7_config)\n",
    "    cfg[\"agents\"][33][\"agent_settings\"][\"flatten_obs\"] = False\n",
    "    cfg['io_settings']['save_sys_logs'] = True # Saving syslogs\n",
    "    cfg['agents'][32]['agent_settings']['start_step'] = 20\n",
    "    cfg['agents'][32]['agent_settings']['frequency'] = 10\n",
    "    cfg['agents'][32]['agent_settings']['variance'] = 5\n",
    "    cfg['agents'][32]['agent_settings']['kill_chain']['MANIPULATION']['probability'] = 1\n",
    "    cfg['agents'][32]['agent_settings']['kill_chain']['ACCESS']['probability'] = 1\n",
    "    cfg['agents'][32]['agent_settings']['kill_chain']['PLANNING']['probability'] = 1\n",
    "env = PrimaiteGymEnv(env_config = cfg)"
   ]
  },
  {
   "cell_type": "markdown",
   "metadata": {},
   "source": [
    "The cell below demonstrates how the frequency & variance options affect TAP003's next execution step."
   ]
  },
  {
   "cell_type": "code",
   "execution_count": 28,
   "metadata": {
    "execution": {
     "iopub.execute_input": "2025-03-24T09:57:13.787878Z",
     "iopub.status.busy": "2025-03-24T09:57:13.787485Z",
     "iopub.status.idle": "2025-03-24T09:57:13.791563Z",
     "shell.execute_reply": "2025-03-24T09:57:13.790931Z"
    },
    "metadata": {}
   },
   "outputs": [
    {
     "name": "stdout",
     "output_type": "stream",
     "text": [
      "---TAP003's Current State---\n",
      "Current Environment Step: 0\n",
      "Current Kill Chain Stage: NOT_STARTED\n",
      "Next Execution Step: 23\n",
      "Next Kill Chain Stage RECONNAISSANCE\n"
     ]
    }
   ],
   "source": [
    "tap003 = env.game.agents['attacker']\n",
    "print(\"---TAP003's Current State---\")\n",
    "print(f\"Current Environment Step: {env.game.step_counter}\")\n",
    "print(f\"Current Kill Chain Stage: {tap003.current_kill_chain_stage.name}\")\n",
    "print(f\"Next Execution Step: {tap003.next_execution_timestep}\")\n",
    "print(f\"Next Kill Chain Stage {tap003.next_kill_chain_stage.name}\")"
   ]
  },
  {
   "cell_type": "markdown",
   "metadata": {},
   "source": [
    "#### **Attack Configurations** | repeat_kill_chain & repeat_kill_chain_stages\n",
    "\n",
    "This section demonstrate how the different repeat options may affect a 100 step length episode.\n",
    "\n",
    "|Option Field|Meaning|Expected Type|Required/Optional|\n",
    "|------------|-------|-------------|-----------------|\n",
    "|repeat_kill_chain|Indicates whether the attack is repeated throughout the episode.|Str|_Required_|\n",
    "|repeat_kill_chain_stages|Indicates if the kill_chain stage should reset upon failure or retry.|Str|_Required_|\n"
   ]
  },
  {
   "cell_type": "code",
   "execution_count": 29,
   "metadata": {
    "execution": {
     "iopub.execute_input": "2025-03-24T09:57:13.794187Z",
     "iopub.status.busy": "2025-03-24T09:57:13.793794Z",
     "iopub.status.idle": "2025-03-24T09:57:14.241462Z",
     "shell.execute_reply": "2025-03-24T09:57:14.240908Z"
    },
    "metadata": {}
   },
   "outputs": [
    {
     "name": "stderr",
     "output_type": "stream",
     "text": [
      "2025-03-24 09:57:14,238: PrimaiteGymEnv RNG seed = None\n"
     ]
    }
   ],
   "source": [
    "with open(_EXAMPLE_CFG/\"uc7_config_tap003.yaml\", mode=\"r\") as f:\n",
    "    cfg = yaml.safe_load(f)\n",
    "    cfg['io_settings']['save_sys_logs'] = True # Saving syslogs\n",
    "    cfg['agents'][32]['agent_settings']['repeat_kill_chain'] = False\n",
    "    cfg['agents'][32]['agent_settings']['repeat_kill_chain_stages'] = False\n",
    "env = PrimaiteGymEnv(env_config = cfg)"
   ]
  },
  {
   "cell_type": "code",
   "execution_count": 30,
   "metadata": {
    "execution": {
     "iopub.execute_input": "2025-03-24T09:57:14.244189Z",
     "iopub.status.busy": "2025-03-24T09:57:14.243755Z",
     "iopub.status.idle": "2025-03-24T09:57:14.857809Z",
     "shell.execute_reply": "2025-03-24T09:57:14.857137Z"
    },
    "metadata": {}
   },
   "outputs": [
    {
     "name": "stderr",
     "output_type": "stream",
     "text": [
      "2025-03-24 09:57:14,854: PrimaiteGymEnv RNG seed = None\n"
     ]
    }
   ],
   "source": [
    "with open(_EXAMPLE_CFG/\"uc7_config_tap003.yaml\", mode=\"r\") as f:\n",
    "    cfg = yaml.safe_load(f)\n",
    "    cfg['agents'][32]['agent_settings']['repeat_kill_chain'] = True\n",
    "    cfg['agents'][32]['agent_settings']['repeat_kill_chain_stages'] = True\n",
    "env = PrimaiteGymEnv(env_config = cfg)"
   ]
  },
  {
   "cell_type": "code",
   "execution_count": 31,
   "metadata": {
    "execution": {
     "iopub.execute_input": "2025-03-24T09:57:14.860560Z",
     "iopub.status.busy": "2025-03-24T09:57:14.860350Z",
     "iopub.status.idle": "2025-03-24T09:57:18.110969Z",
     "shell.execute_reply": "2025-03-24T09:57:18.110271Z"
    },
    "metadata": {}
   },
   "outputs": [],
   "source": [
    "while(env.game.step_counter != 100):\n",
    "    env.step(0)"
   ]
  },
  {
   "cell_type": "markdown",
   "metadata": {},
   "source": [
    "#### **Attack Configurations** | Starting Node\n",
    "\n",
    "The code cells below demonstrate how to configure TAP003's different options for selecting starting hosts.\n",
    "\n",
    "|Option Field|Meaning|Expected Type|Required/Optional|\n",
    "|------------|-------|-------------|-----------------|\n",
    "|default_starting_node|The default starting host.|Str|_Required_|\n",
    "|starting_nodes|A list of potential targets|List|_Optional_|\n"
   ]
  },
  {
   "cell_type": "code",
   "execution_count": 32,
   "metadata": {
    "execution": {
     "iopub.execute_input": "2025-03-24T09:57:18.115055Z",
     "iopub.status.busy": "2025-03-24T09:57:18.114565Z",
     "iopub.status.idle": "2025-03-24T09:57:18.758927Z",
     "shell.execute_reply": "2025-03-24T09:57:18.758362Z"
    },
    "metadata": {}
   },
   "outputs": [
    {
     "name": "stderr",
     "output_type": "stream",
     "text": [
      "2025-03-24 09:57:18,755: PrimaiteGymEnv RNG seed = None\n"
     ]
    },
    {
     "name": "stdout",
     "output_type": "stream",
     "text": [
      "TA003's Selected Starting Host: ST_PROJ-A-PRV-PC-1\n"
     ]
    }
   ],
   "source": [
    "with open(_EXAMPLE_CFG/\"uc7_config_tap003.yaml\", mode=\"r\") as f:\n",
    "    cfg = yaml.safe_load(f)\n",
    "    cfg[\"agents\"][32][\"agent_settings\"][\"default_starting_node\"] = \"ST_PROJ-A-PRV-PC-1\"\n",
    "env = PrimaiteGymEnv(env_config = cfg)\n",
    "tap003 = env.game.agents[\"attacker\"]\n",
    "print(f\"TA003's Selected Starting Host: {tap003.starting_node}\")"
   ]
  },
  {
   "cell_type": "markdown",
   "metadata": {},
   "source": [
    "The code cell below demonstrates how starting node lists overrule the default start node options:"
   ]
  },
  {
   "cell_type": "code",
   "execution_count": 33,
   "metadata": {
    "execution": {
     "iopub.execute_input": "2025-03-24T09:57:18.761684Z",
     "iopub.status.busy": "2025-03-24T09:57:18.761275Z",
     "iopub.status.idle": "2025-03-24T09:57:18.957366Z",
     "shell.execute_reply": "2025-03-24T09:57:18.956589Z"
    },
    "metadata": {}
   },
   "outputs": [],
   "source": [
    "with open(_EXAMPLE_CFG/\"uc7_config_tap003.yaml\", mode=\"r\") as f:\n",
    "    cfg = yaml.safe_load(f)\n",
    "    cfg[\"agents\"][32][\"agent_settings\"][\"default_starting_node\"] = \"ST_PROJ-A-PRV-PC-1\"\n",
    "    cfg[\"agents\"][32][\"agent_settings\"][\"starting_nodes\"] = [\"ST_PROJ-A-PRV-PC-1\",\"ST_PROJ-B-PRV-PC-2\"]"
   ]
  },
  {
   "cell_type": "code",
   "execution_count": 34,
   "metadata": {
    "execution": {
     "iopub.execute_input": "2025-03-24T09:57:18.960691Z",
     "iopub.status.busy": "2025-03-24T09:57:18.960282Z",
     "iopub.status.idle": "2025-03-24T09:57:19.134637Z",
     "shell.execute_reply": "2025-03-24T09:57:19.133970Z"
    },
    "metadata": {}
   },
   "outputs": [
    {
     "name": "stderr",
     "output_type": "stream",
     "text": [
      "2025-03-24 09:57:19,130: PrimaiteGymEnv RNG seed = None\n"
     ]
    },
    {
     "name": "stdout",
     "output_type": "stream",
     "text": [
      "TA003's Selected Starting Host: ST_PROJ-B-PRV-PC-2\n"
     ]
    }
   ],
   "source": [
    "env = PrimaiteGymEnv(env_config = cfg)\n",
    "tap003 = env.game.agents[\"attacker\"]\n",
    "print(f\"TA003's Selected Starting Host: {tap003.starting_node}\")"
   ]
  },
  {
   "cell_type": "markdown",
   "metadata": {},
   "source": [
    "#### **Attack Configurations** | kill_chain_settings | probability\n",
    "\n",
    "The code cells below configure each kill chain's probability of success. \n",
    "The cells also demonstrate how TAP003 handles failure within an episode.\n",
    "\n",
    "|Option Field|Meaning|Expected Type|Required/Optional|\n",
    "|------------|-------|-------------|-----------------|\n",
    "|probability | The chance of successfully carrying out this stage in the kill chain.|float|_Required_|\n"
   ]
  },
  {
   "cell_type": "markdown",
   "metadata": {},
   "source": [
    "The code cell below directly sets each probability of success to 0.25. <Br/>\n",
    "Additionally the repeat kill chain and kill chain stage configuration options are set to false."
   ]
  },
  {
   "cell_type": "code",
   "execution_count": 35,
   "metadata": {
    "execution": {
     "iopub.execute_input": "2025-03-24T09:57:19.137676Z",
     "iopub.status.busy": "2025-03-24T09:57:19.137210Z",
     "iopub.status.idle": "2025-03-24T09:57:19.914421Z",
     "shell.execute_reply": "2025-03-24T09:57:19.913717Z"
    },
    "metadata": {}
   },
   "outputs": [
    {
     "name": "stderr",
     "output_type": "stream",
     "text": [
      "2025-03-24 09:57:19,910: PrimaiteGymEnv RNG seed = None\n"
     ]
    }
   ],
   "source": [
    "with open(_EXAMPLE_CFG/\"uc7_config_tap003.yaml\", mode=\"r\") as f:\n",
    "    cfg = yaml.safe_load(f)\n",
    "    cfg['io_settings']['save_sys_logs'] = True # Saving syslogs\n",
    "    cfg['agents'][32]['agent_settings']['repeat_kill_chain'] = False\n",
    "    cfg['agents'][32]['agent_settings']['repeat_kill_chain_stages'] = False\n",
    "    cfg['agents'][32]['agent_settings']['kill_chain']['EXPLOIT']['probability'] = 0.25\n",
    "    cfg['agents'][32]['agent_settings']['kill_chain']['ACCESS']['probability'] = 0.25\n",
    "    cfg['agents'][32]['agent_settings']['kill_chain']['PLANNING']['probability'] = 0.25\n",
    "env = PrimaiteGymEnv(env_config = cfg)"
   ]
  },
  {
   "cell_type": "code",
   "execution_count": 36,
   "metadata": {
    "execution": {
     "iopub.execute_input": "2025-03-24T09:57:19.917404Z",
     "iopub.status.busy": "2025-03-24T09:57:19.917064Z",
     "iopub.status.idle": "2025-03-24T09:57:24.562204Z",
     "shell.execute_reply": "2025-03-24T09:57:24.561492Z"
    },
    "metadata": {}
   },
   "outputs": [
    {
     "name": "stdout",
     "output_type": "stream",
     "text": [
      "\"---TAP003's Current State---\"\n",
      "Current Environment Step: 100\n",
      "Current Kill Chain Stage: FAILED\n",
      "Next Execution Step: 13\n",
      "Next Kill Chain Stage ACCESS\n"
     ]
    }
   ],
   "source": [
    "while(env.game.step_counter != 100):\n",
    "    env.step(0)\n",
    "tap003 = env.game.agents['attacker']\n",
    "pprint(\"---TAP003's Current State---\")\n",
    "print(f\"Current Environment Step: {env.game.step_counter}\")\n",
    "print(f\"Current Kill Chain Stage: {tap003.current_kill_chain_stage.name}\")\n",
    "print(f\"Next Execution Step: {tap003.next_execution_timestep}\")\n",
    "print(f\"Next Kill Chain Stage {tap003.next_kill_chain_stage.name}\")"
   ]
  },
  {
   "cell_type": "markdown",
   "metadata": {},
   "source": [
    "The code cell below performs the same episode but with the repeat_kill_chain and repeat_kill_chain_stages to true."
   ]
  },
  {
   "cell_type": "code",
   "execution_count": 37,
   "metadata": {
    "execution": {
     "iopub.execute_input": "2025-03-24T09:57:24.565269Z",
     "iopub.status.busy": "2025-03-24T09:57:24.564854Z",
     "iopub.status.idle": "2025-03-24T09:57:24.929749Z",
     "shell.execute_reply": "2025-03-24T09:57:24.929079Z"
    },
    "metadata": {}
   },
   "outputs": [
    {
     "name": "stderr",
     "output_type": "stream",
     "text": [
      "2025-03-24 09:57:24,926: PrimaiteGymEnv RNG seed = None\n"
     ]
    }
   ],
   "source": [
    "with open(_EXAMPLE_CFG/\"uc7_config_tap003.yaml\", mode=\"r\") as f:\n",
    "    cfg = yaml.safe_load(f)\n",
    "    cfg['agents'][32]['agent_settings']['repeat_kill_chain'] = True\n",
    "    cfg['agents'][32]['agent_settings']['repeat_kill_chain_stages'] = True\n",
    "    cfg['agents'][32]['agent_settings']['kill_chain']['MANIPULATION']['probability'] = 0.25\n",
    "    cfg['agents'][32]['agent_settings']['kill_chain']['ACCESS']['probability'] = 0.25\n",
    "    cfg['agents'][32]['agent_settings']['kill_chain']['PLANNING']['probability'] = 0.25\n",
    "env = PrimaiteGymEnv(env_config = cfg)"
   ]
  },
  {
   "cell_type": "code",
   "execution_count": 38,
   "metadata": {
    "execution": {
     "iopub.execute_input": "2025-03-24T09:57:24.932496Z",
     "iopub.status.busy": "2025-03-24T09:57:24.932086Z",
     "iopub.status.idle": "2025-03-24T09:57:29.113712Z",
     "shell.execute_reply": "2025-03-24T09:57:29.113072Z"
    },
    "metadata": {}
   },
   "outputs": [
    {
     "name": "stdout",
     "output_type": "stream",
     "text": [
      "\"---TAP003's Current State---\"\n",
      "Current Environment Step: 100\n",
      "Current Kill Chain Stage: MANIPULATION\n",
      "Next Execution Step: 100\n",
      "Next Kill Chain Stage EXPLOIT\n"
     ]
    }
   ],
   "source": [
    "while(env.game.step_counter != 100):\n",
    "    env.step(0)\n",
    "tap003 = env.game.agents['attacker']\n",
    "pprint(\"---TAP003's Current State---\")\n",
    "print(f\"Current Environment Step: {env.game.step_counter}\")\n",
    "print(f\"Current Kill Chain Stage: {tap003.current_kill_chain_stage.name}\")\n",
    "print(f\"Next Execution Step: {tap003.next_execution_timestep}\")\n",
    "print(f\"Next Kill Chain Stage {tap003.next_kill_chain_stage.name}\")"
   ]
  },
  {
   "cell_type": "markdown",
   "metadata": {},
   "source": [
    "#### **Attack Configurations** | kill_chain_settings | ACCESS - Starting Network Knowledge\n",
    "\n",
    "|Option Field |Meaning|Expected Type|Required/Optional|\n",
    "|-------------|-------|-------------|-----------------|\n",
    "|probability  |Action Probability - The chance of successfully carrying out this stage in the kill_chain.|str|_Required_|\n",
    "|starting_network_knowledge|TAP003's starting knowledge. Used to login into the target accounts in the ``MANIPULATION`` stage.|dict|_Required_|"
   ]
  },
  {
   "cell_type": "markdown",
   "metadata": {},
   "source": [
    "``starting_network_knowledge``\n",
    "\n",
    "***\n",
    "\n",
    "The ``starting_network_knowledge`` options uses the following schema:\n",
    "\n",
    "|Option Field |Meaning|Expected Type|Required/Optional|\n",
    "|-------------|-------|-------------|-----------------|\n",
    "|credentials|The credential knowledge does TAP003 starts the episode with.|dict|_Required_|\n",
    "\n",
    "```yaml\n",
    "    kill_chain:\n",
    "        PLANNING:\n",
    "        probability: 1\n",
    "        starting_network_knowledge:\n",
    "            credentials:\n",
    "```"
   ]
  },
  {
   "cell_type": "markdown",
   "metadata": {},
   "source": [
    "``credentials``\n",
    "\n",
    "***\n",
    "\n",
    "The ``credentials`` options uses the following schema:\n",
    "\n",
    "|Option Field |Meaning|Expected Type|Required/Optional|\n",
    "|-------------|-------|-------------|-----------------|\n",
    "|ip_address   |The IP Address of the target host.|str|_Required_|\n",
    "|username     |A username of a valid user account. Defaults to ``Admin``.|str|_Optional_|\n",
    "|password     |The corresponding valid password of the given username. Defaults to ``Admin``.|str|_Optional_|\n",
    "\n",
    "These credentials will are used in the ``MANIPULATION`` kill chain stage to login into the target accounts. Therefore the ``credentials`` options needs contain the same hosts that the the ``ACCOUNT_CHANGES`` option\n",
    "\n",
    "```yaml\n",
    "\n",
    "    kill_chain:\n",
    "        PLANNING:\n",
    "          probability: 1\n",
    "          starting_network_knowledge:\n",
    "            credentials:\n",
    "              ST_PROJ-A-PRV-PC-1:\n",
    "                username: admin\n",
    "                password: admin\n",
    "              ST_PROJ-B-PRV-PC-2:\n",
    "                username: admin\n",
    "                password: admin\n",
    "              ST_PROJ-C-PRV-PC-3:\n",
    "                username: admin\n",
    "                password: admin\n",
    "              ST_INTRA-PRV-RT-DR-1:\n",
    "                ip_address: 192.168.230.1\n",
    "                username: admin\n",
    "                password: admin\n",
    "              ST_INTRA-PRV-RT-CR:\n",
    "                ip_address: 192.168.160.1\n",
    "                username: admin\n",
    "                password: admin\n",
    "              REM-PUB-RT-DR:\n",
    "                ip_address: 192.168.10.2\n",
    "                username: admin\n",
    "                password: admin\n",
    "\n",
    "```"
   ]
  },
  {
   "cell_type": "code",
   "execution_count": 39,
   "metadata": {
    "execution": {
     "iopub.execute_input": "2025-03-24T09:57:29.116982Z",
     "iopub.status.busy": "2025-03-24T09:57:29.116533Z",
     "iopub.status.idle": "2025-03-24T09:57:30.201637Z",
     "shell.execute_reply": "2025-03-24T09:57:30.200926Z"
    }
   },
   "outputs": [
    {
     "name": "stderr",
     "output_type": "stream",
     "text": [
      "2025-03-24 09:57:29,118: Resetting environment, episode 0, avg. reward: 133.16874999999976\n"
     ]
    },
    {
     "name": "stdout",
     "output_type": "stream",
     "text": [
      "----ST_PROJ-A-PRV-PC-1---\n",
      "'username: admin'\n",
      "'password: admin'\n",
      "----ST_PROJ-B-PRV-PC-2---\n",
      "'username: admin'\n",
      "'password: admin'\n",
      "----ST_PROJ-C-PRV-PC-3---\n",
      "'username: admin'\n",
      "'password: admin'\n",
      "----ST_INTRA-PRV-RT-DR-1---\n",
      "'ip_address: 192.168.230.1'\n",
      "'username: admin'\n",
      "'password: admin'\n",
      "----ST_INTRA-PRV-RT-CR---\n",
      "'ip_address: 192.168.160.1'\n",
      "'username: admin'\n",
      "'password: admin'\n",
      "----REM-PUB-RT-DR---\n",
      "'ip_address: 192.168.10.2'\n",
      "'username: admin'\n",
      "'password: admin'\n"
     ]
    }
   ],
   "source": [
    "env.reset()\n",
    "tap003 = env.game.agents['attacker']\n",
    "# This while loop will run TAP003 until it hits TAP003 reaches ``ACCESS`` (Therefore passing PLANNING)\n",
    "while(tap003.current_kill_chain_stage != InsiderKillChain.ACCESS):\n",
    "    env.step(0)\n",
    "for account in tap003.network_knowledge['credentials']:\n",
    "    print(f\"----{account}---\")\n",
    "    for key in tap003.network_knowledge['credentials'][account]:\n",
    "        pprint(f\"{key}: {tap003.network_knowledge['credentials'][account][key]}\")"
   ]
  },
  {
   "cell_type": "markdown",
   "metadata": {},
   "source": [
    "#### **Attack Configurations** | kill_chain_settings | Manipulation - Account Changes\n",
    "\n",
    "|Option Field |Meaning|Expected Type|Required/Optional|\n",
    "|------------|-------|-------------|-----------------|\n",
    "|probability|Action Probability - The chance of successfully carrying out this stage in the kill_chain.|str|_Required_|\n",
    "|account_changes|List of dictionaries containing the target hostnames, ip and account configuration changes.|list[dict]|_Required_|\n",
    "\n",
    "```yaml\n",
    "    kill_chain:\n",
    "      MANIPULATION:\n",
    "        probability: 1\n",
    "        account_changes:\n",
    "          - host: ST_INTRA-PRV-RT-DR-1\n",
    "            ip_address: 192.168.230.1 # ST_INTRA-PRV-RT-DR-1\n",
    "            action: change_password\n",
    "            username: admin\n",
    "            new_password: \"red_pass\"\n",
    "          - host: ST_INTRA-PRV-RT-CR\n",
    "            ip_address: 192.168.160.1 # ST_INTRA-PRV-RT-CR\n",
    "            action: change_password\n",
    "            username: \"admin\"\n",
    "            new_password: \"red_pass\"\n",
    "          - host: REM-PUB-RT-DR\n",
    "            ip_address: 192.168.10.2 # REM-PUB-RT-DR\n",
    "            action: change_password\n",
    "            username: \"admin\"\n",
    "            new_password: \"red_pass\"\n",
    "\n",
    "```\n"
   ]
  },
  {
   "cell_type": "markdown",
   "metadata": {},
   "source": [
    "``account_changes``\n",
    "\n",
    "***\n",
    "\n",
    "The ``account_changes`` options uses the following schema:\n",
    "\n",
    "|Option Field |Meaning|Expected Type|Required/Optional|\n",
    "|-------------|-------|-------------|-----------------|\n",
    "|host|The hostname of the target host.|str|_Required_|\n",
    "|ip_address|The IP Address of the target host.|str|_Required_|\n",
    "|action|The user account manager action. Currently only ``change_password`` is available.|str|_Required_|\n",
    "|username|The username of the account that TAP003 will target.|str|_Required_|\n",
    "|new_password|The new password that TAP003 will set.|str|_Required_|\n",
    "\n",
    "_For further information around the simulation implementation of user sessions please consult the ``user_session_manager`` primAITE API documentation page within PrimAITE's user guide documentation._"
   ]
  },
  {
   "cell_type": "markdown",
   "metadata": {},
   "source": [
    "#### **Attack Configurations** | kill_chain_settings | Manipulation - Sandbox \n",
    "\n",
    "The code cells below can be used as a sandbox to trial out different configuration options and their impact on the simulation. Additionally, if users wish to alter an account other than admin on this sandbox they can alter the ``new_users`` dictionary in the code cell below."
   ]
  },
  {
   "cell_type": "code",
   "execution_count": 40,
   "metadata": {
    "execution": {
     "iopub.execute_input": "2025-03-24T09:57:30.205046Z",
     "iopub.status.busy": "2025-03-24T09:57:30.204521Z",
     "iopub.status.idle": "2025-03-24T09:57:30.207662Z",
     "shell.execute_reply": "2025-03-24T09:57:30.207089Z"
    }
   },
   "outputs": [],
   "source": [
    "# New ST_PROJ-B-PRV-PC-2 user account\n",
    "user_username = \"example_user_1\"\n",
    "user_password = \"example_pass_1\"\n",
    "user_admin = \"False\""
   ]
  },
  {
   "cell_type": "code",
   "execution_count": 41,
   "metadata": {
    "execution": {
     "iopub.execute_input": "2025-03-24T09:57:30.209856Z",
     "iopub.status.busy": "2025-03-24T09:57:30.209652Z",
     "iopub.status.idle": "2025-03-24T09:57:30.212677Z",
     "shell.execute_reply": "2025-03-24T09:57:30.212095Z"
    }
   },
   "outputs": [],
   "source": [
    "new_users = {\"username\": user_username, \"password\": user_password, \"is_admin\": user_admin }"
   ]
  },
  {
   "cell_type": "code",
   "execution_count": 42,
   "metadata": {
    "execution": {
     "iopub.execute_input": "2025-03-24T09:57:30.214975Z",
     "iopub.status.busy": "2025-03-24T09:57:30.214746Z",
     "iopub.status.idle": "2025-03-24T09:57:30.217593Z",
     "shell.execute_reply": "2025-03-24T09:57:30.217075Z"
    }
   },
   "outputs": [],
   "source": [
    "# Changing the password\n",
    "tap003_new_password = \"tap003_password\""
   ]
  },
  {
   "cell_type": "code",
   "execution_count": 43,
   "metadata": {
    "execution": {
     "iopub.execute_input": "2025-03-24T09:57:30.219880Z",
     "iopub.status.busy": "2025-03-24T09:57:30.219681Z",
     "iopub.status.idle": "2025-03-24T09:57:30.222704Z",
     "shell.execute_reply": "2025-03-24T09:57:30.222156Z"
    }
   },
   "outputs": [],
   "source": [
    "account_changes = [{\"host\":\"ST_PROJ-A-PRV-PC-2\", \"ip_address\": \"192.168.230.2\", \"username\": user_username, \"old_password\": user_password, \"new_password\": tap003_new_password}]"
   ]
  },
  {
   "cell_type": "markdown",
   "metadata": {},
   "source": [
    "Now we update the UC7 config and implement the new user accounts and run through an episode."
   ]
  },
  {
   "cell_type": "code",
   "execution_count": 44,
   "metadata": {
    "execution": {
     "iopub.execute_input": "2025-03-24T09:57:30.225114Z",
     "iopub.status.busy": "2025-03-24T09:57:30.224913Z",
     "iopub.status.idle": "2025-03-24T09:57:34.749643Z",
     "shell.execute_reply": "2025-03-24T09:57:34.748944Z"
    }
   },
   "outputs": [
    {
     "name": "stderr",
     "output_type": "stream",
     "text": [
      "2025-03-24 09:57:30,584: PrimaiteGymEnv RNG seed = None\n"
     ]
    },
    {
     "name": "stderr",
     "output_type": "stream",
     "text": [
      "2025-03-24 09:57:30,585: Resetting environment, episode 0, avg. reward: 0.0\n"
     ]
    },
    {
     "name": "stdout",
     "output_type": "stream",
     "text": [
      "+-----------------------------------+\n",
      "|  ST_PROJ-A-PRV-PC-2 User Manager  |\n",
      "+----------------+-------+----------+\n",
      "| Username       | Admin | Disabled |\n",
      "+----------------+-------+----------+\n",
      "| admin          | True  | False    |\n",
      "| example_user_1 | False | False    |\n",
      "+----------------+-------+----------+\n"
     ]
    }
   ],
   "source": [
    "with open(_EXAMPLE_CFG/\"uc7_config_tap003.yaml\", mode=\"r\") as f:\n",
    "    cfg = yaml.safe_load(f)\n",
    "    cfg['agents'][32]['agent_settings']['repeat_kill_chain'] = False\n",
    "    cfg['simulation']['network']['nodes'][31].update({'users':[]})\n",
    "    cfg['simulation']['network']['nodes'][31]['users'].append(new_users)\n",
    "    cfg['agents'][32]['agent_settings']['start_step'] = 1\n",
    "    cfg['agents'][32]['agent_settings']['frequency'] = 3\n",
    "    cfg['agents'][32]['agent_settings']['variance'] = 0\n",
    "    starting_creds = {\"username\": \"admin\",\"password\":\"admin\", \"ip_address\":\"192.168.230.2\"} # Adding \"ST_PROJ-A-PRV-PC-2\" to TAP003's starting_network_knowledge\n",
    "    cfg['agents'][32]['agent_settings']['kill_chain']['PLANNING']['starting_network_knowledge']['credentials'].update({\"ST_PROJ-A-PRV-PC-2\": starting_creds})\n",
    "    cfg['agents'][32]['agent_settings']['kill_chain']['MANIPULATION']['account_changes'] = account_changes\n",
    "env = PrimaiteGymEnv(env_config = cfg)\n",
    "env.reset()\n",
    "while(env.game.step_counter != 90): # 20 Red Actions (frequency of 3)\n",
    "    env.step(0)\n",
    "tap003 = env.game.agents['attacker']\n",
    "target_host = env.game.simulation.network.get_node_by_hostname(\"ST_PROJ-A-PRV-PC-2\")\n",
    "target_host.user_manager.show()\n"
   ]
  },
  {
   "cell_type": "markdown",
   "metadata": {},
   "source": [
    "#### **Attack Configurations** | kill_chain_settings | Exploit - Malicious ACL\n",
    "\n",
    "|Option Field |Meaning|Expected Type|Required/Optional|\n",
    "|------------|-------|-------------|-----------------|\n",
    "|probability|Action Probability - The chance of successfully carrying out this stage in the kill_chain.|str|_Required_|\n",
    "|malicious_acls|The configurable ACL that the TAP003 agent adds to the target node.|dict|_Required_|\n",
    "\n",
    "The malicious ACL is configured identically to the other ACLs except from the target router/firewall. \n",
    "This option is set to the TAP003's configured target host automatically.\n",
    "\n",
    "TAP003 intends to leverage these ACL's for malicious purposes. The default configuration is to deny all traffic from and towards the 0.0.0.255 subnet. \n",
    "The configurability of the malicious ACL will allow for future releases of TAP type agents itself to perform more complex attacks. Currently, the TAP003 aims to block green agent traffic."
   ]
  },
  {
   "cell_type": "markdown",
   "metadata": {},
   "source": [
    "``malicious_acl``\n",
    "\n",
    "***\n",
    "\n",
    "The ``malicious_acl`` options uses the following schema:\n",
    "\n",
    "|Option Field |Meaning|Expected Type|Required/Optional|\n",
    "|-------------|-------|-------------|-----------------|\n",
    "|target_router|The hostname of target router.|str|_Required_|\n",
    "|ip_address|The ip_address of target router.|str|_Required_|\n",
    "|position|The position that the malicious ACL is placed.|str|_Required_|\n",
    "|permission|The implicit action. Should the ACL ``DENY`` or ``PERMIT``.|str|_Required_|\n",
    "|src_ip|The source IP address to be targeted by the ``ACL``.|str|_Required_|\n",
    "|src_wildcard_mask|The wildcard mask for the source ip address.|str|_Required_|\n",
    "|dst_ip|The destination IP address to be targeted by the ``ACL``.|str|_Required_|\n",
    "|dst_wildcard_mask|The wildcard mask for the destination ip address.|str|_Required_|\n",
    "|src_port|The source port to be targeted by the ``ACL``.|str|_Required_|\n",
    "|dst_port|The destination port to be targeted by the ``ACL``.|str|_Required_|\n",
    "|protocol_name|The transport layer protocol_name to be targeted.|str|_Required_|\n",
    "\n",
    "_For further information please consult the simulation ACL documentation within PrimAITE's Sphinx documentation._"
   ]
  },
  {
   "cell_type": "markdown",
   "metadata": {},
   "source": [
    "The code cell below demonstrates the default ACL's added by TAP003:"
   ]
  },
  {
   "cell_type": "code",
   "execution_count": 45,
   "metadata": {
    "execution": {
     "iopub.execute_input": "2025-03-24T09:57:34.752980Z",
     "iopub.status.busy": "2025-03-24T09:57:34.752404Z",
     "iopub.status.idle": "2025-03-24T09:57:37.725235Z",
     "shell.execute_reply": "2025-03-24T09:57:37.724546Z"
    },
    "metadata": {}
   },
   "outputs": [
    {
     "name": "stderr",
     "output_type": "stream",
     "text": [
      "2025-03-24 09:57:35,116: PrimaiteGymEnv RNG seed = None\n"
     ]
    }
   ],
   "source": [
    "with open(_EXAMPLE_CFG/\"uc7_config_tap003.yaml\", mode=\"r\") as f:\n",
    "    cfg = yaml.safe_load(f)\n",
    "    cfg['agents'][32]['agent_settings']['start_step'] = 1\n",
    "    cfg['agents'][32]['agent_settings']['frequency'] = 3 # Install action takes multiple timesteps.\n",
    "    cfg['agents'][32]['agent_settings']['variance'] = 0\n",
    "    cfg['agents'][32]['agent_settings']['kill_chain']['EXPLOIT']['probability'] = 1\n",
    "    cfg['agents'][32]['agent_settings']['kill_chain']['MANIPULATION']['probability'] = 1\n",
    "    cfg['agents'][32]['agent_settings']['kill_chain']['ACCESS']['probability'] = 1\n",
    "    cfg['agents'][32]['agent_settings']['kill_chain']['PLANNING']['probability'] = 1\n",
    "env = PrimaiteGymEnv(env_config = cfg)\n",
    "while(env.game.step_counter != 70):\n",
    "    env.step(0)\n",
    "tap003 = env.game.agents['attacker']\n",
    "for key,value in tap003.config.agent_settings:\n",
    "    if key != 'kill_chain':\n",
    "        pass\n",
    "    else:\n",
    "        for kill_chain_setting_key in value:\n",
    "                if kill_chain_setting_key == 'EXPLOIT':\n",
    "                    pprint(value[kill_chain_setting_key]['malicious_acls'][0])\n",
    "                    pprint(value[kill_chain_setting_key]['malicious_acls'][1])\n",
    "                    pprint(value[kill_chain_setting_key]['malicious_acls'][2])\n"
   ]
  },
  {
   "cell_type": "code",
   "execution_count": 46,
   "metadata": {
    "execution": {
     "iopub.execute_input": "2025-03-24T09:57:37.728298Z",
     "iopub.status.busy": "2025-03-24T09:57:37.728079Z",
     "iopub.status.idle": "2025-03-24T09:57:37.734828Z",
     "shell.execute_reply": "2025-03-24T09:57:37.734187Z"
    }
   },
   "outputs": [
    {
     "name": "stdout",
     "output_type": "stream",
     "text": [
      "+-----------------------------------------------------------------------------------------------------------+\n",
      "|                                  ST_INTRA-PRV-RT-DR-1 Access Control List                                 |\n",
      "+-------+--------+----------+--------+--------------+----------+--------+--------------+----------+---------+\n",
      "| Index | Action | Protocol | Src IP | Src Wildcard | Src Port | Dst IP | Dst Wildcard | Dst Port | Matched |\n",
      "+-------+--------+----------+--------+--------------+----------+--------+--------------+----------+---------+\n",
      "| 1     | DENY   | tcp      | ANY    | 0.0.255.255  | 5432     | ANY    | 0.0.255.255  | 5432     | 76      |\n",
      "| 5     | PERMIT | ANY      | ANY    | ANY          | ANY      | ANY    | ANY          | ANY      | 487     |\n",
      "| 22    | PERMIT | ANY      | ANY    | ANY          | 219      | ANY    | ANY          | 219      | 0       |\n",
      "| 23    | PERMIT | icmp     | ANY    | ANY          | ANY      | ANY    | ANY          | ANY      | 0       |\n",
      "| 24    | DENY   | ANY      | ANY    | ANY          | ANY      | ANY    | ANY          | ANY      | 0       |\n",
      "+-------+--------+----------+--------+--------------+----------+--------+--------------+----------+---------+\n",
      "+-----------------------------------------------------------------------------------------------------------+\n",
      "|                                     REM-PUB-RT-DR Access Control List                                     |\n",
      "+-------+--------+----------+--------+--------------+----------+--------+--------------+----------+---------+\n",
      "| Index | Action | Protocol | Src IP | Src Wildcard | Src Port | Dst IP | Dst Wildcard | Dst Port | Matched |\n",
      "+-------+--------+----------+--------+--------------+----------+--------+--------------+----------+---------+\n",
      "| 1     | DENY   | tcp      | ANY    | 0.0.255.255  | 53       | ANY    | 0.0.255.255  | 53       | 0       |\n",
      "| 5     | PERMIT | ANY      | ANY    | ANY          | ANY      | ANY    | ANY          | ANY      | 131     |\n",
      "| 22    | PERMIT | ANY      | ANY    | ANY          | 219      | ANY    | ANY          | 219      | 0       |\n",
      "| 23    | PERMIT | icmp     | ANY    | ANY          | ANY      | ANY    | ANY          | ANY      | 0       |\n",
      "| 24    | DENY   | ANY      | ANY    | ANY          | ANY      | ANY    | ANY          | ANY      | 0       |\n",
      "+-------+--------+----------+--------+--------------+----------+--------+--------------+----------+---------+\n",
      "+-----------------------------------------------------------------------------------------------------------+\n",
      "|                                   ST_INTRA-PRV-RT-CR Access Control List                                  |\n",
      "+-------+--------+----------+--------+--------------+----------+--------+--------------+----------+---------+\n",
      "| Index | Action | Protocol | Src IP | Src Wildcard | Src Port | Dst IP | Dst Wildcard | Dst Port | Matched |\n",
      "+-------+--------+----------+--------+--------------+----------+--------+--------------+----------+---------+\n",
      "| 1     | DENY   | tcp      | ANY    | 0.0.255.255  | 80       | ANY    | 0.0.255.255  | 80       | 149     |\n",
      "| 5     | PERMIT | ANY      | ANY    | ANY          | ANY      | ANY    | ANY          | ANY      | 840     |\n",
      "| 22    | PERMIT | ANY      | ANY    | ANY          | 219      | ANY    | ANY          | 219      | 0       |\n",
      "| 23    | PERMIT | icmp     | ANY    | ANY          | ANY      | ANY    | ANY          | ANY      | 0       |\n",
      "| 24    | DENY   | ANY      | ANY    | ANY          | ANY      | ANY    | ANY          | ANY      | 0       |\n",
      "+-------+--------+----------+--------+--------------+----------+--------+--------------+----------+---------+\n"
     ]
    }
   ],
   "source": [
    "st_intra_prv_rt_dr_1 = env.game.simulation.network.get_node_by_hostname(\"ST_INTRA-PRV-RT-DR-1\")\n",
    "st_intra_prv_rt_dr_1.acl.show()\n",
    "\n",
    "rem_pub_rt_dr = env.game.simulation.network.get_node_by_hostname(\"REM-PUB-RT-DR\")\n",
    "rem_pub_rt_dr.acl.show()\n",
    "\n",
    "st_intra_prv_rt_cr = env.game.simulation.network.get_node_by_hostname(\"ST_INTRA-PRV-RT-CR\")\n",
    "st_intra_prv_rt_cr.acl.show()"
   ]
  },
  {
   "cell_type": "markdown",
   "metadata": {},
   "source": [
    "Unlike the blue agent, TAP003 does not need to use its action space options for indexing different options, meaning that ACLs are a lot easier to configure.\n",
    "\n",
    "The sandbox below can be used to try out different configuration options and their impact on the simulation."
   ]
  },
  {
   "cell_type": "markdown",
   "metadata": {},
   "source": [
    "#### **Attack Configurations** | kill_chain_settings | Exploit - Sandbox "
   ]
  },
  {
   "cell_type": "code",
   "execution_count": 47,
   "metadata": {
    "execution": {
     "iopub.execute_input": "2025-03-24T09:57:37.737427Z",
     "iopub.status.busy": "2025-03-24T09:57:37.737223Z",
     "iopub.status.idle": "2025-03-24T09:57:39.987278Z",
     "shell.execute_reply": "2025-03-24T09:57:39.986655Z"
    },
    "metadata": {}
   },
   "outputs": [
    {
     "name": "stderr",
     "output_type": "stream",
     "text": [
      "2025-03-24 09:57:38,101: PrimaiteGymEnv RNG seed = None\n"
     ]
    },
    {
     "name": "stdout",
     "output_type": "stream",
     "text": [
      "+-----------------------------------------------------------------------------------------------------------+\n",
      "|                                  ST_INTRA-PRV-RT-DR-1 Access Control List                                 |\n",
      "+-------+--------+----------+--------+--------------+----------+--------+--------------+----------+---------+\n",
      "| Index | Action | Protocol | Src IP | Src Wildcard | Src Port | Dst IP | Dst Wildcard | Dst Port | Matched |\n",
      "+-------+--------+----------+--------+--------------+----------+--------+--------------+----------+---------+\n",
      "| 1     | DENY   | ANY      | ANY    | 0.0.255.255  | 5432     | ANY    | 0.0.255.255  | 5432     | 33      |\n",
      "| 5     | PERMIT | ANY      | ANY    | ANY          | ANY      | ANY    | ANY          | ANY      | 432     |\n",
      "| 22    | PERMIT | ANY      | ANY    | ANY          | 219      | ANY    | ANY          | 219      | 0       |\n",
      "| 23    | PERMIT | icmp     | ANY    | ANY          | ANY      | ANY    | ANY          | ANY      | 0       |\n",
      "| 24    | DENY   | ANY      | ANY    | ANY          | ANY      | ANY    | ANY          | ANY      | 0       |\n",
      "+-------+--------+----------+--------+--------------+----------+--------+--------------+----------+---------+\n"
     ]
    }
   ],
   "source": [
    "# please ensure that the source/dest ip_addresses are within the blue agent's observation space ip_list option.\n",
    "with open(_EXAMPLE_CFG/\"uc7_config_tap003.yaml\", mode=\"r\") as f:\n",
    "    cfg = yaml.safe_load(f)\n",
    "    cfg['agents'][32]['agent_settings']['repeat_kill_chain'] = False\n",
    "    cfg['agents'][32]['agent_settings']['start_step'] = 1\n",
    "    cfg['agents'][32]['agent_settings']['frequency'] = 3\n",
    "    cfg['agents'][32]['agent_settings']['variance'] = 0\n",
    "    cfg['agents'][32]['agent_settings']['kill_chain']['EXPLOIT']['malicious_acls'][0]['position'] = 1\n",
    "    cfg['agents'][32]['agent_settings']['kill_chain']['EXPLOIT']['malicious_acls'][0]['permission'] = \"DENY\"\n",
    "    cfg['agents'][32]['agent_settings']['kill_chain']['EXPLOIT']['malicious_acls'][0]['src_ip'] = \"ALL\"\n",
    "    cfg['agents'][32]['agent_settings']['kill_chain']['EXPLOIT']['malicious_acls'][0]['src_wildcard'] = '0.0.255.255'\n",
    "    cfg['agents'][32]['agent_settings']['kill_chain']['EXPLOIT']['malicious_acls'][0]['dst_ip'] = 'ALL'\n",
    "    cfg['agents'][32]['agent_settings']['kill_chain']['EXPLOIT']['malicious_acls'][0]['dst_wildcard'] = \"0.0.255.255\"\n",
    "    # Please refer to the ``PORT`` class in the primAITE API for more information around the different supported ports\n",
    "    cfg['agents'][32]['agent_settings']['kill_chain']['EXPLOIT']['malicious_acls'][0]['src_port'] = 'POSTGRES_SERVER'\n",
    "    cfg['agents'][32]['agent_settings']['kill_chain']['EXPLOIT']['malicious_acls'][0]['dst_port'] = \"POSTGRES_SERVER\"\n",
    "    cfg['agents'][32]['agent_settings']['kill_chain']['EXPLOIT']['malicious_acls'][0]['protocol_name'] = 'ALL'\n",
    "env = PrimaiteGymEnv(env_config = cfg)\n",
    "while(env.game.step_counter != 50):\n",
    "    env.step(0)\n",
    "tap003 = env.game.agents['attacker']\n",
    "target_host = env.game.simulation.network.get_node_by_hostname(\"ST_INTRA-PRV-RT-DR-1\")\n",
    "target_host.acl.show()"
   ]
  }
 ],
 "metadata": {
  "kernelspec": {
   "display_name": "Python 3 (ipykernel)",
   "language": "python",
   "name": "python3"
  },
  "language_info": {
   "codemirror_mode": {
    "name": "ipython",
    "version": 3
   },
   "file_extension": ".py",
   "mimetype": "text/x-python",
   "name": "python",
   "nbconvert_exporter": "python",
   "pygments_lexer": "ipython3",
   "version": "3.10.16"
  }
 },
 "nbformat": 4,
 "nbformat_minor": 2
}
