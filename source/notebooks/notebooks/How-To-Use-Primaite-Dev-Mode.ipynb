{
 "cells": [
  {
   "cell_type": "markdown",
   "metadata": {},
   "source": [
    "# PrimAITE Developer mode\n",
    "\n",
    "© Crown-owned copyright 2025, Defence Science and Technology Laboratory UK\n",
    "\n",
    "`NOTE: For the purposes of the notebook, the commands are preceded by \"!\". When running the commands, remove the \"!\".`\n",
    "\n",
    "PrimAITE has built in developer tools which are designed to aid in PrimAITE development.\n",
    "\n",
    "To display the available dev-mode options, run the command below:"
   ]
  },
  {
   "cell_type": "code",
   "execution_count": 1,
   "metadata": {
    "execution": {
     "iopub.execute_input": "2025-03-24T09:52:04.987663Z",
     "iopub.status.busy": "2025-03-24T09:52:04.987090Z",
     "iopub.status.idle": "2025-03-24T09:52:05.400956Z",
     "shell.execute_reply": "2025-03-24T09:52:05.400235Z"
    }
   },
   "outputs": [
    {
     "name": "stdout",
     "output_type": "stream",
     "text": [
      "\u001b[1m                                                                                \u001b[0m\r\n",
      "\u001b[1m \u001b[0m\u001b[1;33mUsage: \u001b[0m\u001b[1mprimaite dev-mode [OPTIONS] COMMAND [ARGS]...\u001b[0m\u001b[1m                          \u001b[0m\u001b[1m \u001b[0m\r\n",
      "\u001b[1m                                                                                \u001b[0m\r\n",
      "\u001b[2m╭─\u001b[0m\u001b[2m Options \u001b[0m\u001b[2m───────────────────────────────────────────────────────────────────\u001b[0m\u001b[2m─╮\u001b[0m\r\n",
      "\u001b[2m│\u001b[0m \u001b[1;36m-\u001b[0m\u001b[1;36m-help\u001b[0m          Show this message and exit.                                  \u001b[2m│\u001b[0m\r\n",
      "\u001b[2m╰──────────────────────────────────────────────────────────────────────────────╯\u001b[0m\r\n",
      "\u001b[2m╭─\u001b[0m\u001b[2m Commands \u001b[0m\u001b[2m──────────────────────────────────────────────────────────────────\u001b[0m\u001b[2m─╮\u001b[0m\r\n",
      "\u001b[2m│\u001b[0m \u001b[1;36mshow    \u001b[0m\u001b[1;36m \u001b[0m Show if PrimAITE is in development mode or production mode.        \u001b[2m│\u001b[0m\r\n",
      "\u001b[2m│\u001b[0m \u001b[1;36menable  \u001b[0m\u001b[1;36m \u001b[0m Enable the development mode for PrimAITE.                          \u001b[2m│\u001b[0m\r\n",
      "\u001b[2m│\u001b[0m \u001b[1;36mdisable \u001b[0m\u001b[1;36m \u001b[0m Disable the development mode for PrimAITE.                         \u001b[2m│\u001b[0m\r\n",
      "\u001b[2m│\u001b[0m \u001b[1;36mconfig  \u001b[0m\u001b[1;36m \u001b[0m Configure the development tools and environment.                   \u001b[2m│\u001b[0m\r\n",
      "\u001b[2m╰──────────────────────────────────────────────────────────────────────────────╯\u001b[0m\r\n",
      "\r\n"
     ]
    }
   ],
   "source": [
    "!primaite dev-mode --help"
   ]
  },
  {
   "cell_type": "code",
   "execution_count": 2,
   "metadata": {
    "execution": {
     "iopub.execute_input": "2025-03-24T09:52:05.404263Z",
     "iopub.status.busy": "2025-03-24T09:52:05.403810Z",
     "iopub.status.idle": "2025-03-24T09:52:05.487474Z",
     "shell.execute_reply": "2025-03-24T09:52:05.486926Z"
    }
   },
   "outputs": [],
   "source": [
    "# Save the current PRIMAITE_CONFIG to restore after the notebook runs\n",
    "\n",
    "from primaite import PRIMAITE_CONFIG\n",
    "\n",
    "temp_config = PRIMAITE_CONFIG.copy()"
   ]
  },
  {
   "cell_type": "markdown",
   "metadata": {},
   "source": [
    "## PrimAITE developer mode CLI options"
   ]
  },
  {
   "cell_type": "markdown",
   "metadata": {},
   "source": [
    "### ``enable``\n",
    "\n",
    "Enables the dev mode for PrimAITE.\n",
    "\n",
    "This will enable the developer mode for PrimAITE.\n",
    "\n",
    "By default, when developer mode is enabled, session logs will be generated in the PRIMAITE_ROOT/sessions folder unless configured to be generated in another location."
   ]
  },
  {
   "cell_type": "code",
   "execution_count": 3,
   "metadata": {
    "execution": {
     "iopub.execute_input": "2025-03-24T09:52:05.490677Z",
     "iopub.status.busy": "2025-03-24T09:52:05.490279Z",
     "iopub.status.idle": "2025-03-24T09:52:05.883612Z",
     "shell.execute_reply": "2025-03-24T09:52:05.882906Z"
    }
   },
   "outputs": [
    {
     "name": "stdout",
     "output_type": "stream",
     "text": [
      "\r\n",
      "\u001b[33m 🚧🚧🚧  PrimAITE is running in Development mode  🚧🚧🚧 \u001b[0m\r\n",
      "\r\n"
     ]
    }
   ],
   "source": [
    "!primaite dev-mode enable"
   ]
  },
  {
   "cell_type": "markdown",
   "metadata": {},
   "source": [
    "### ``disable``\n",
    "\n",
    "Disables the dev mode for PrimAITE.\n",
    "\n",
    "This will disable the developer mode for PrimAITE."
   ]
  },
  {
   "cell_type": "code",
   "execution_count": 4,
   "metadata": {
    "execution": {
     "iopub.execute_input": "2025-03-24T09:52:05.886934Z",
     "iopub.status.busy": "2025-03-24T09:52:05.886467Z",
     "iopub.status.idle": "2025-03-24T09:52:06.281156Z",
     "shell.execute_reply": "2025-03-24T09:52:06.280292Z"
    }
   },
   "outputs": [
    {
     "name": "stdout",
     "output_type": "stream",
     "text": [
      "\r\n",
      "\u001b[32m🚀🚀🚀  PrimAITE is running in Production mode  🚀🚀🚀 \u001b[0m\r\n",
      "\r\n"
     ]
    }
   ],
   "source": [
    "!primaite dev-mode disable"
   ]
  },
  {
   "cell_type": "markdown",
   "metadata": {},
   "source": [
    "### ``show``\n",
    "\n",
    "Shows if PrimAITE is running in dev mode or production mode.\n",
    "\n",
    "The command will also show the developer mode configuration."
   ]
  },
  {
   "cell_type": "code",
   "execution_count": 5,
   "metadata": {
    "execution": {
     "iopub.execute_input": "2025-03-24T09:52:06.284952Z",
     "iopub.status.busy": "2025-03-24T09:52:06.284387Z",
     "iopub.status.idle": "2025-03-24T09:52:06.683061Z",
     "shell.execute_reply": "2025-03-24T09:52:06.682208Z"
    }
   },
   "outputs": [
    {
     "name": "stdout",
     "output_type": "stream",
     "text": [
      "\r\n",
      "\u001b[32m🚀🚀🚀  PrimAITE is running in Production mode  🚀🚀🚀 \u001b[0m\r\n",
      "\r\n",
      "\u001b[3m  Current Dev-Mode Settings   \u001b[0m\r\n",
      "┏━━━━━━━━━━━━━━━━━━━━┳━━━━━━━┓\r\n",
      "┃\u001b[1m \u001b[0m\u001b[1mSetting           \u001b[0m\u001b[1m \u001b[0m┃\u001b[1m \u001b[0m\u001b[1mValue\u001b[0m\u001b[1m \u001b[0m┃\r\n",
      "┡━━━━━━━━━━━━━━━━━━━━╇━━━━━━━┩\r\n",
      "│\u001b[36m \u001b[0m\u001b[36magent_log_level   \u001b[0m\u001b[36m \u001b[0m│\u001b[39m \u001b[0m\u001b[39mDEBUG\u001b[0m\u001b[39m \u001b[0m│\r\n",
      "│\u001b[36m \u001b[0m\u001b[36menabled           \u001b[0m\u001b[36m \u001b[0m│\u001b[39m \u001b[0m\u001b[39mFalse\u001b[0m\u001b[39m \u001b[0m│\r\n",
      "│\u001b[36m \u001b[0m\u001b[36moutput_agent_logs \u001b[0m\u001b[36m \u001b[0m│\u001b[39m \u001b[0m\u001b[39mFalse\u001b[0m\u001b[39m \u001b[0m│\r\n",
      "│\u001b[36m \u001b[0m\u001b[36moutput_dir        \u001b[0m\u001b[36m \u001b[0m│\u001b[39m \u001b[0m\u001b[39mNone \u001b[0m\u001b[39m \u001b[0m│\r\n",
      "│\u001b[36m \u001b[0m\u001b[36moutput_pcap_logs  \u001b[0m\u001b[36m \u001b[0m│\u001b[39m \u001b[0m\u001b[39mFalse\u001b[0m\u001b[39m \u001b[0m│\r\n",
      "│\u001b[36m \u001b[0m\u001b[36moutput_sys_logs   \u001b[0m\u001b[36m \u001b[0m│\u001b[39m \u001b[0m\u001b[39mFalse\u001b[0m\u001b[39m \u001b[0m│\r\n",
      "│\u001b[36m \u001b[0m\u001b[36moutput_to_terminal\u001b[0m\u001b[36m \u001b[0m│\u001b[39m \u001b[0m\u001b[39mFalse\u001b[0m\u001b[39m \u001b[0m│\r\n",
      "│\u001b[36m \u001b[0m\u001b[36msys_log_level     \u001b[0m\u001b[36m \u001b[0m│\u001b[39m \u001b[0m\u001b[39mDEBUG\u001b[0m\u001b[39m \u001b[0m│\r\n",
      "└────────────────────┴───────┘\r\n",
      "\r\n",
      "To see available options, use \u001b[36m`primaite dev-mode --help`\u001b[0m\r\n",
      "\r\n"
     ]
    }
   ],
   "source": [
    "!primaite dev-mode show"
   ]
  },
  {
   "cell_type": "markdown",
   "metadata": {},
   "source": [
    "### ``config``\n",
    "\n",
    "Configure the PrimAITE developer mode"
   ]
  },
  {
   "cell_type": "code",
   "execution_count": 6,
   "metadata": {
    "execution": {
     "iopub.execute_input": "2025-03-24T09:52:06.686388Z",
     "iopub.status.busy": "2025-03-24T09:52:06.686153Z",
     "iopub.status.idle": "2025-03-24T09:52:07.089806Z",
     "shell.execute_reply": "2025-03-24T09:52:07.089055Z"
    }
   },
   "outputs": [
    {
     "name": "stdout",
     "output_type": "stream",
     "text": [
      "\u001b[1m                                                                                \u001b[0m\r\n",
      "\u001b[1m \u001b[0m\u001b[1;33mUsage: \u001b[0m\u001b[1mprimaite dev-mode config [OPTIONS] COMMAND [ARGS]...\u001b[0m\u001b[1m                   \u001b[0m\u001b[1m \u001b[0m\r\n",
      "\u001b[1m                                                                                \u001b[0m\r\n",
      " Configure the development tools and environment.                               \r\n",
      "                                                                                \r\n",
      "\u001b[2m╭─\u001b[0m\u001b[2m Options \u001b[0m\u001b[2m───────────────────────────────────────────────────────────────────\u001b[0m\u001b[2m─╮\u001b[0m\r\n",
      "\u001b[2m│\u001b[0m \u001b[1;36m-\u001b[0m\u001b[1;36m-sys\u001b[0m\u001b[1;36m-log-lev…\u001b[0m  \u001b[1;32m-slevel\u001b[0m                         \u001b[1;2;33m[\u001b[0m\u001b[1;33mDEBUG\u001b[0m\u001b[1;2;33m|\u001b[0m\u001b[1;33mINFO\u001b[0m\u001b[1;2;33m|\u001b[0m\u001b[1;33mW\u001b[0m  The level of  \u001b[2m│\u001b[0m\r\n",
      "\u001b[2m│\u001b[0m                                                 \u001b[1;33mARNING\u001b[0m\u001b[1;2;33m|\u001b[0m\u001b[1;33mERROR\u001b[0m\u001b[1;2;33m|\u001b[0m  system logs   \u001b[2m│\u001b[0m\r\n",
      "\u001b[2m│\u001b[0m                                                 \u001b[1;33mCRITICAL\u001b[0m\u001b[1;2;33m]\u001b[0m\u001b[1;33m    \u001b[0m  to output.    \u001b[2m│\u001b[0m\r\n",
      "\u001b[2m│\u001b[0m \u001b[1;36m-\u001b[0m\u001b[1;36m-agent\u001b[0m\u001b[1;36m-log-l…\u001b[0m  \u001b[1;32m-alevel\u001b[0m                         \u001b[1;2;33m[\u001b[0m\u001b[1;33mDEBUG\u001b[0m\u001b[1;2;33m|\u001b[0m\u001b[1;33mINFO\u001b[0m\u001b[1;2;33m|\u001b[0m\u001b[1;33mW\u001b[0m  The level of  \u001b[2m│\u001b[0m\r\n",
      "\u001b[2m│\u001b[0m                                                 \u001b[1;33mARNING\u001b[0m\u001b[1;2;33m|\u001b[0m\u001b[1;33mERROR\u001b[0m\u001b[1;2;33m|\u001b[0m  agent         \u001b[2m│\u001b[0m\r\n",
      "\u001b[2m│\u001b[0m                                                 \u001b[1;33mCRITICAL\u001b[0m\u001b[1;2;33m]\u001b[0m\u001b[1;33m    \u001b[0m  behaviour     \u001b[2m│\u001b[0m\r\n",
      "\u001b[2m│\u001b[0m                                                                logs to       \u001b[2m│\u001b[0m\r\n",
      "\u001b[2m│\u001b[0m                                                                output.       \u001b[2m│\u001b[0m\r\n",
      "\u001b[2m│\u001b[0m \u001b[1;36m-\u001b[0m\u001b[1;36m-output\u001b[0m\u001b[1;36m-sys-…\u001b[0m  \u001b[1;32m-sys\u001b[0m     \u001b[1;35m-\u001b[0m\u001b[1;35m-no\u001b[0m\u001b[1;35m-sys-lo…\u001b[0m  \u001b[1;31m-nsys\u001b[0m    \u001b[1;33m             \u001b[0m  Output system \u001b[2m│\u001b[0m\r\n",
      "\u001b[2m│\u001b[0m                                                                logs to file. \u001b[2m│\u001b[0m\r\n",
      "\u001b[2m│\u001b[0m \u001b[1;36m-\u001b[0m\u001b[1;36m-output\u001b[0m\u001b[1;36m-agen…\u001b[0m  \u001b[1;32m-agent\u001b[0m   \u001b[1;35m-\u001b[0m\u001b[1;35m-no\u001b[0m\u001b[1;35m-agent-…\u001b[0m  \u001b[1;31m-nagent\u001b[0m  \u001b[1;33m             \u001b[0m  Output agent  \u001b[2m│\u001b[0m\r\n",
      "\u001b[2m│\u001b[0m                                                                logs to file. \u001b[2m│\u001b[0m\r\n",
      "\u001b[2m│\u001b[0m \u001b[1;36m-\u001b[0m\u001b[1;36m-output\u001b[0m\u001b[1;36m-pcap…\u001b[0m  \u001b[1;32m-pcap\u001b[0m    \u001b[1;35m-\u001b[0m\u001b[1;35m-no\u001b[0m\u001b[1;35m-pcap-l…\u001b[0m  \u001b[1;31m-npcap\u001b[0m   \u001b[1;33m             \u001b[0m  Output        \u001b[2m│\u001b[0m\r\n",
      "\u001b[2m│\u001b[0m                                                                network       \u001b[2m│\u001b[0m\r\n",
      "\u001b[2m│\u001b[0m                                                                packet        \u001b[2m│\u001b[0m\r\n",
      "\u001b[2m│\u001b[0m                                                                capture logs  \u001b[2m│\u001b[0m\r\n",
      "\u001b[2m│\u001b[0m                                                                to file.      \u001b[2m│\u001b[0m\r\n",
      "\u001b[2m│\u001b[0m \u001b[1;36m-\u001b[0m\u001b[1;36m-output\u001b[0m\u001b[1;36m-to-t…\u001b[0m  \u001b[1;32m-t\u001b[0m       \u001b[1;35m-\u001b[0m\u001b[1;35m-no\u001b[0m\u001b[1;35m-termin…\u001b[0m  \u001b[1;31m-nt\u001b[0m      \u001b[1;33m             \u001b[0m  Output system \u001b[2m│\u001b[0m\r\n",
      "\u001b[2m│\u001b[0m                                                                logs to       \u001b[2m│\u001b[0m\r\n",
      "\u001b[2m│\u001b[0m                                                                terminal.     \u001b[2m│\u001b[0m\r\n",
      "\u001b[2m│\u001b[0m \u001b[1;36m-\u001b[0m\u001b[1;36m-help\u001b[0m                                          \u001b[1;33m             \u001b[0m  Show this     \u001b[2m│\u001b[0m\r\n",
      "\u001b[2m│\u001b[0m                                                                message and   \u001b[2m│\u001b[0m\r\n",
      "\u001b[2m│\u001b[0m                                                                exit.         \u001b[2m│\u001b[0m\r\n",
      "\u001b[2m╰──────────────────────────────────────────────────────────────────────────────╯\u001b[0m\r\n",
      "\u001b[2m╭─\u001b[0m\u001b[2m Commands \u001b[0m\u001b[2m──────────────────────────────────────────────────────────────────\u001b[0m\u001b[2m─╮\u001b[0m\r\n",
      "\u001b[2m│\u001b[0m \u001b[1;36mpath \u001b[0m\u001b[1;36m \u001b[0m Set the output directory for the PrimAITE system and PCAP logs.       \u001b[2m│\u001b[0m\r\n",
      "\u001b[2m╰──────────────────────────────────────────────────────────────────────────────╯\u001b[0m\r\n",
      "\r\n"
     ]
    }
   ],
   "source": [
    "!primaite dev-mode config --help"
   ]
  },
  {
   "cell_type": "markdown",
   "metadata": {},
   "source": [
    "#### ``path``\n",
    "\n",
    "Set the path where generated session files will be output.\n",
    "\n",
    "By default, this value will be in PRIMAITE_ROOT/sessions.\n",
    "\n",
    "To reset the path to default, run:"
   ]
  },
  {
   "cell_type": "code",
   "execution_count": 7,
   "metadata": {
    "execution": {
     "iopub.execute_input": "2025-03-24T09:52:07.093227Z",
     "iopub.status.busy": "2025-03-24T09:52:07.092799Z",
     "iopub.status.idle": "2025-03-24T09:52:07.887066Z",
     "shell.execute_reply": "2025-03-24T09:52:07.886263Z"
    }
   },
   "outputs": [
    {
     "name": "stdout",
     "output_type": "stream",
     "text": [
      "PrimAITE dev-mode output_dir \r\n",
      "\u001b[36m/home/runner/work/PrimAITE/PrimAITE/\u001b[0m\u001b[36msimulation_output\u001b[0m\r\n"
     ]
    },
    {
     "name": "stdout",
     "output_type": "stream",
     "text": [
      "PrimAITE dev-mode output_dir \r\n",
      "\u001b[36m/home/runner/work/PrimAITE/PrimAITE/\u001b[0m\u001b[36msimulation_output\u001b[0m\r\n"
     ]
    }
   ],
   "source": [
    "!primaite dev-mode config path -root\n",
    "\n",
    "# or\n",
    "\n",
    "!primaite dev-mode config path --default"
   ]
  },
  {
   "cell_type": "markdown",
   "metadata": {},
   "source": [
    "#### ``--sys-log-level`` or ``-slevel``\n",
    "\n",
    "Set the system log level.\n",
    "\n",
    "This will override the system log level in configurations and will make PrimAITE include the set log level and above.\n",
    "\n",
    "Available options are:\n",
    "- `DEBUG`\n",
    "- `INFO`\n",
    "- `WARNING`\n",
    "- `ERROR`\n",
    "- `CRITICAL`\n",
    "\n",
    "Default value is `DEBUG`\n",
    "\n",
    "Example:"
   ]
  },
  {
   "cell_type": "code",
   "execution_count": 8,
   "metadata": {
    "execution": {
     "iopub.execute_input": "2025-03-24T09:52:07.890556Z",
     "iopub.status.busy": "2025-03-24T09:52:07.890071Z",
     "iopub.status.idle": "2025-03-24T09:52:08.685047Z",
     "shell.execute_reply": "2025-03-24T09:52:08.684257Z"
    }
   },
   "outputs": [
    {
     "name": "stdout",
     "output_type": "stream",
     "text": [
      "PrimAITE dev-mode config updated \u001b[33msys_log_level\u001b[0m=\u001b[35mDEBUG\u001b[0m\r\n"
     ]
    },
    {
     "name": "stdout",
     "output_type": "stream",
     "text": [
      "PrimAITE dev-mode config updated \u001b[33msys_log_level\u001b[0m=\u001b[35mDEBUG\u001b[0m\r\n"
     ]
    }
   ],
   "source": [
    "!primaite dev-mode config --sys-log-level DEBUG\n",
    "\n",
    "# or\n",
    "\n",
    "!primaite dev-mode config -slevel DEBUG"
   ]
  },
  {
   "cell_type": "markdown",
   "metadata": {},
   "source": [
    "#### ``--agent-log-level`` or ``-alevel``\n",
    "\n",
    "Set the agent log level.\n",
    "\n",
    "This will override the agent log level in configurations and will make PrimAITE include the set log level and above.\n",
    "\n",
    "Available options are:\n",
    "- `DEBUG`\n",
    "- `INFO`\n",
    "- `WARNING`\n",
    "- `ERROR`\n",
    "- `CRITICAL`\n",
    "\n",
    "Default value is `DEBUG`\n",
    "\n",
    "Example:"
   ]
  },
  {
   "cell_type": "code",
   "execution_count": 9,
   "metadata": {
    "execution": {
     "iopub.execute_input": "2025-03-24T09:52:08.688443Z",
     "iopub.status.busy": "2025-03-24T09:52:08.688017Z",
     "iopub.status.idle": "2025-03-24T09:52:09.477443Z",
     "shell.execute_reply": "2025-03-24T09:52:09.476658Z"
    }
   },
   "outputs": [
    {
     "name": "stdout",
     "output_type": "stream",
     "text": [
      "PrimAITE dev-mode config updated \u001b[33magent_log_level\u001b[0m=\u001b[35mDEBUG\u001b[0m\r\n"
     ]
    },
    {
     "name": "stdout",
     "output_type": "stream",
     "text": [
      "PrimAITE dev-mode config updated \u001b[33magent_log_level\u001b[0m=\u001b[35mDEBUG\u001b[0m\r\n"
     ]
    }
   ],
   "source": [
    "!primaite dev-mode config --agent-log-level DEBUG\n",
    "\n",
    "# or\n",
    "\n",
    "!primaite dev-mode config -alevel DEBUG"
   ]
  },
  {
   "cell_type": "markdown",
   "metadata": {},
   "source": [
    "#### ``--output-sys-logs`` or ``-sys``\n",
    "\n",
    "If enabled, developer mode will output system logs.\n",
    "\n",
    "Example:"
   ]
  },
  {
   "cell_type": "code",
   "execution_count": 10,
   "metadata": {
    "execution": {
     "iopub.execute_input": "2025-03-24T09:52:09.480845Z",
     "iopub.status.busy": "2025-03-24T09:52:09.480340Z",
     "iopub.status.idle": "2025-03-24T09:52:10.270166Z",
     "shell.execute_reply": "2025-03-24T09:52:10.269417Z"
    }
   },
   "outputs": [
    {
     "name": "stdout",
     "output_type": "stream",
     "text": [
      "PrimAITE dev-mode config updated \u001b[33moutput_sys_logs\u001b[0m=\u001b[3;92mTrue\u001b[0m\r\n"
     ]
    },
    {
     "name": "stdout",
     "output_type": "stream",
     "text": [
      "PrimAITE dev-mode config updated \u001b[33moutput_sys_logs\u001b[0m=\u001b[3;92mTrue\u001b[0m\r\n"
     ]
    }
   ],
   "source": [
    "!primaite dev-mode config --output-sys-logs\n",
    "\n",
    "# or\n",
    "\n",
    "!primaite dev-mode config -sys"
   ]
  },
  {
   "cell_type": "markdown",
   "metadata": {},
   "source": [
    "To disable outputting sys logs:"
   ]
  },
  {
   "cell_type": "code",
   "execution_count": 11,
   "metadata": {
    "execution": {
     "iopub.execute_input": "2025-03-24T09:52:10.273397Z",
     "iopub.status.busy": "2025-03-24T09:52:10.273155Z",
     "iopub.status.idle": "2025-03-24T09:52:11.061826Z",
     "shell.execute_reply": "2025-03-24T09:52:11.060974Z"
    }
   },
   "outputs": [
    {
     "name": "stdout",
     "output_type": "stream",
     "text": [
      "PrimAITE dev-mode config updated \u001b[33moutput_sys_logs\u001b[0m=\u001b[3;91mFalse\u001b[0m\r\n"
     ]
    },
    {
     "name": "stdout",
     "output_type": "stream",
     "text": [
      "PrimAITE dev-mode config updated \u001b[33moutput_sys_logs\u001b[0m=\u001b[3;91mFalse\u001b[0m\r\n"
     ]
    }
   ],
   "source": [
    "!primaite dev-mode config --no-sys-logs\n",
    "\n",
    "# or\n",
    "\n",
    "!primaite dev-mode config -nsys"
   ]
  },
  {
   "cell_type": "markdown",
   "metadata": {},
   "source": [
    "#### ``--output-agent-logs`` or ``-agent``\n",
    "\n",
    "If enabled, developer mode will output agent action logs.\n",
    "\n",
    "Example:"
   ]
  },
  {
   "cell_type": "code",
   "execution_count": 12,
   "metadata": {
    "execution": {
     "iopub.execute_input": "2025-03-24T09:52:11.065328Z",
     "iopub.status.busy": "2025-03-24T09:52:11.065114Z",
     "iopub.status.idle": "2025-03-24T09:52:11.859127Z",
     "shell.execute_reply": "2025-03-24T09:52:11.858337Z"
    }
   },
   "outputs": [
    {
     "name": "stdout",
     "output_type": "stream",
     "text": [
      "PrimAITE dev-mode config updated \u001b[33moutput_agent_logs\u001b[0m=\u001b[3;92mTrue\u001b[0m\r\n"
     ]
    },
    {
     "name": "stdout",
     "output_type": "stream",
     "text": [
      "PrimAITE dev-mode config updated \u001b[33moutput_agent_logs\u001b[0m=\u001b[3;92mTrue\u001b[0m\r\n"
     ]
    }
   ],
   "source": [
    "!primaite dev-mode config --output-agent-logs\n",
    "\n",
    "# or\n",
    "\n",
    "!primaite dev-mode config -agent"
   ]
  },
  {
   "cell_type": "markdown",
   "metadata": {},
   "source": [
    "To disable outputting agent action logs:"
   ]
  },
  {
   "cell_type": "code",
   "execution_count": 13,
   "metadata": {
    "execution": {
     "iopub.execute_input": "2025-03-24T09:52:11.862487Z",
     "iopub.status.busy": "2025-03-24T09:52:11.862048Z",
     "iopub.status.idle": "2025-03-24T09:52:12.654556Z",
     "shell.execute_reply": "2025-03-24T09:52:12.653707Z"
    }
   },
   "outputs": [
    {
     "name": "stdout",
     "output_type": "stream",
     "text": [
      "PrimAITE dev-mode config updated \u001b[33moutput_agent_logs\u001b[0m=\u001b[3;91mFalse\u001b[0m\r\n"
     ]
    },
    {
     "name": "stdout",
     "output_type": "stream",
     "text": [
      "PrimAITE dev-mode config updated \u001b[33moutput_agent_logs\u001b[0m=\u001b[3;91mFalse\u001b[0m\r\n"
     ]
    }
   ],
   "source": [
    "!primaite dev-mode config --no-agent-logs\n",
    "\n",
    "# or\n",
    "\n",
    "!primaite dev-mode config -nagent"
   ]
  },
  {
   "cell_type": "markdown",
   "metadata": {},
   "source": [
    "#### ``--output-pcap-logs`` or ``-pcap``\n",
    "\n",
    "If enabled, developer mode will output PCAP logs.\n",
    "\n",
    "Example:"
   ]
  },
  {
   "cell_type": "code",
   "execution_count": 14,
   "metadata": {
    "execution": {
     "iopub.execute_input": "2025-03-24T09:52:12.657700Z",
     "iopub.status.busy": "2025-03-24T09:52:12.657472Z",
     "iopub.status.idle": "2025-03-24T09:52:13.457551Z",
     "shell.execute_reply": "2025-03-24T09:52:13.456816Z"
    }
   },
   "outputs": [
    {
     "name": "stdout",
     "output_type": "stream",
     "text": [
      "PrimAITE dev-mode config updated \u001b[33moutput_pcap_logs\u001b[0m=\u001b[3;92mTrue\u001b[0m\r\n"
     ]
    },
    {
     "name": "stdout",
     "output_type": "stream",
     "text": [
      "PrimAITE dev-mode config updated \u001b[33moutput_pcap_logs\u001b[0m=\u001b[3;92mTrue\u001b[0m\r\n"
     ]
    }
   ],
   "source": [
    "!primaite dev-mode config --output-pcap-logs\n",
    "\n",
    "# or\n",
    "\n",
    "!primaite dev-mode config -pcap"
   ]
  },
  {
   "cell_type": "markdown",
   "metadata": {},
   "source": [
    "To disable outputting PCAP logs:"
   ]
  },
  {
   "cell_type": "code",
   "execution_count": 15,
   "metadata": {
    "execution": {
     "iopub.execute_input": "2025-03-24T09:52:13.460869Z",
     "iopub.status.busy": "2025-03-24T09:52:13.460654Z",
     "iopub.status.idle": "2025-03-24T09:52:14.261137Z",
     "shell.execute_reply": "2025-03-24T09:52:14.260368Z"
    }
   },
   "outputs": [
    {
     "name": "stdout",
     "output_type": "stream",
     "text": [
      "PrimAITE dev-mode config updated \u001b[33moutput_pcap_logs\u001b[0m=\u001b[3;91mFalse\u001b[0m\r\n"
     ]
    },
    {
     "name": "stdout",
     "output_type": "stream",
     "text": [
      "PrimAITE dev-mode config updated \u001b[33moutput_pcap_logs\u001b[0m=\u001b[3;91mFalse\u001b[0m\r\n"
     ]
    }
   ],
   "source": [
    "!primaite dev-mode config --no-pcap-logs\n",
    "\n",
    "# or\n",
    "\n",
    "!primaite dev-mode config -npcap"
   ]
  },
  {
   "cell_type": "markdown",
   "metadata": {},
   "source": [
    "#### ``--output-to-terminal`` or ``-t``\n",
    "\n",
    "If enabled, developer mode will output logs to the terminal.\n",
    "\n",
    "Example:"
   ]
  },
  {
   "cell_type": "code",
   "execution_count": 16,
   "metadata": {
    "execution": {
     "iopub.execute_input": "2025-03-24T09:52:14.264370Z",
     "iopub.status.busy": "2025-03-24T09:52:14.264138Z",
     "iopub.status.idle": "2025-03-24T09:52:15.052079Z",
     "shell.execute_reply": "2025-03-24T09:52:15.051295Z"
    }
   },
   "outputs": [
    {
     "name": "stdout",
     "output_type": "stream",
     "text": [
      "PrimAITE dev-mode config updated \u001b[33moutput_to_terminal\u001b[0m=\u001b[3;92mTrue\u001b[0m\r\n"
     ]
    },
    {
     "name": "stdout",
     "output_type": "stream",
     "text": [
      "PrimAITE dev-mode config updated \u001b[33moutput_to_terminal\u001b[0m=\u001b[3;92mTrue\u001b[0m\r\n"
     ]
    }
   ],
   "source": [
    "!primaite dev-mode config --output-to-terminal\n",
    "\n",
    "# or\n",
    "\n",
    "!primaite dev-mode config -t"
   ]
  },
  {
   "cell_type": "markdown",
   "metadata": {},
   "source": [
    "To disable terminal outputs:"
   ]
  },
  {
   "cell_type": "code",
   "execution_count": 17,
   "metadata": {
    "execution": {
     "iopub.execute_input": "2025-03-24T09:52:15.055638Z",
     "iopub.status.busy": "2025-03-24T09:52:15.055179Z",
     "iopub.status.idle": "2025-03-24T09:52:15.845061Z",
     "shell.execute_reply": "2025-03-24T09:52:15.844279Z"
    }
   },
   "outputs": [
    {
     "name": "stdout",
     "output_type": "stream",
     "text": [
      "PrimAITE dev-mode config updated \u001b[33moutput_to_terminal\u001b[0m=\u001b[3;91mFalse\u001b[0m\r\n"
     ]
    },
    {
     "name": "stdout",
     "output_type": "stream",
     "text": [
      "PrimAITE dev-mode config updated \u001b[33moutput_to_terminal\u001b[0m=\u001b[3;91mFalse\u001b[0m\r\n"
     ]
    }
   ],
   "source": [
    "!primaite dev-mode config --no-terminal\n",
    "\n",
    "# or\n",
    "\n",
    "!primaite dev-mode config -nt"
   ]
  },
  {
   "cell_type": "markdown",
   "metadata": {},
   "source": [
    "## Combining commands\n",
    "\n",
    "It is possible to combine commands to set the configuration.\n",
    "\n",
    "This saves having to enter multiple commands and allows for a much more efficient setting of PrimAITE developer mode configurations."
   ]
  },
  {
   "cell_type": "markdown",
   "metadata": {},
   "source": [
    "Example of setting system log level and enabling the system logging:"
   ]
  },
  {
   "cell_type": "code",
   "execution_count": 18,
   "metadata": {
    "execution": {
     "iopub.execute_input": "2025-03-24T09:52:15.848599Z",
     "iopub.status.busy": "2025-03-24T09:52:15.848145Z",
     "iopub.status.idle": "2025-03-24T09:52:16.243460Z",
     "shell.execute_reply": "2025-03-24T09:52:16.242681Z"
    }
   },
   "outputs": [
    {
     "name": "stdout",
     "output_type": "stream",
     "text": [
      "PrimAITE dev-mode config updated \u001b[33msys_log_level\u001b[0m=\u001b[35mWARNING\u001b[0m\r\n",
      "PrimAITE dev-mode config updated \u001b[33moutput_sys_logs\u001b[0m=\u001b[3;92mTrue\u001b[0m\r\n"
     ]
    }
   ],
   "source": [
    "!primaite dev-mode config -slevel WARNING -sys"
   ]
  },
  {
   "cell_type": "markdown",
   "metadata": {},
   "source": [
    "Another example where the system log and agent action log levels are set and enabled and should be printed to terminal:"
   ]
  },
  {
   "cell_type": "code",
   "execution_count": 19,
   "metadata": {
    "execution": {
     "iopub.execute_input": "2025-03-24T09:52:16.246974Z",
     "iopub.status.busy": "2025-03-24T09:52:16.246518Z",
     "iopub.status.idle": "2025-03-24T09:52:16.645374Z",
     "shell.execute_reply": "2025-03-24T09:52:16.644617Z"
    }
   },
   "outputs": [
    {
     "name": "stdout",
     "output_type": "stream",
     "text": [
      "PrimAITE dev-mode config updated \u001b[33msys_log_level\u001b[0m=\u001b[35mERROR\u001b[0m\r\n",
      "PrimAITE dev-mode config updated \u001b[33magent_log_level\u001b[0m=\u001b[35mERROR\u001b[0m\r\n",
      "PrimAITE dev-mode config updated \u001b[33moutput_sys_logs\u001b[0m=\u001b[3;92mTrue\u001b[0m\r\n",
      "PrimAITE dev-mode config updated \u001b[33moutput_agent_logs\u001b[0m=\u001b[3;92mTrue\u001b[0m\r\n",
      "PrimAITE dev-mode config updated \u001b[33moutput_to_terminal\u001b[0m=\u001b[3;92mTrue\u001b[0m\r\n"
     ]
    }
   ],
   "source": [
    "!primaite dev-mode config -slevel ERROR -sys -alevel ERROR -agent -t"
   ]
  },
  {
   "cell_type": "code",
   "execution_count": 20,
   "metadata": {
    "execution": {
     "iopub.execute_input": "2025-03-24T09:52:16.648590Z",
     "iopub.status.busy": "2025-03-24T09:52:16.648144Z",
     "iopub.status.idle": "2025-03-24T09:52:16.654019Z",
     "shell.execute_reply": "2025-03-24T09:52:16.653498Z"
    }
   },
   "outputs": [],
   "source": [
    "# Restore PRIMAITE_CONFIG\n",
    "from primaite.utils.cli.primaite_config_utils import update_primaite_application_config\n",
    "\n",
    "\n",
    "global PRIMAITE_CONFIG\n",
    "PRIMAITE_CONFIG[\"developer_mode\"] = temp_config[\"developer_mode\"]\n",
    "update_primaite_application_config(config=PRIMAITE_CONFIG)"
   ]
  }
 ],
 "metadata": {
  "kernelspec": {
   "display_name": ".venv",
   "language": "python",
   "name": "python3"
  },
  "language_info": {
   "codemirror_mode": {
    "name": "ipython",
    "version": 3
   },
   "file_extension": ".py",
   "mimetype": "text/x-python",
   "name": "python",
   "nbconvert_exporter": "python",
   "pygments_lexer": "ipython3",
   "version": "3.10.16"
  }
 },
 "nbformat": 4,
 "nbformat_minor": 2
}
