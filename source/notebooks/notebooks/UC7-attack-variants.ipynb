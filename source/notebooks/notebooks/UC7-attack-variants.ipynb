{
 "cells": [
  {
   "cell_type": "markdown",
   "metadata": {},
   "source": [
    "# UC7 with Attack Variability\n",
    "\n",
    "© Crown-owned copyright 2025, Defence Science and Technology Laboratory UK"
   ]
  },
  {
   "cell_type": "markdown",
   "metadata": {
    "vscode": {
     "languageId": "plaintext"
    }
   },
   "source": [
    "This notebook demonstrates the PrimAITE environment with the UC7 network laydown and multiple attack personas. The first threat actor persona is **TAP001** which performs a ransomware attack against the database. The other one is **TAP003** which is able to maliciously add ACL rules that block green pattern of life.\n",
    "\n",
    "Any users unfamiliar with these red agents should take a look into the [TAP001 notebook](./UC7-TAP001-Kill-Chain-E2E.ipynb) and the [TAP003 notebook](./UC7-TAP003-Kill-Chain-E2E.ipynb) for further details.\n",
    "\n",
    "The environment switches between these two attacks on a pre-defined schedule which is defined in the `schedule.yaml` file of the scenario folder."
   ]
  },
  {
   "cell_type": "markdown",
   "metadata": {},
   "source": [
    "## Setup and Imports"
   ]
  },
  {
   "cell_type": "code",
   "execution_count": 1,
   "metadata": {
    "execution": {
     "iopub.execute_input": "2025-03-24T09:59:58.760254Z",
     "iopub.status.busy": "2025-03-24T09:59:58.760049Z",
     "iopub.status.idle": "2025-03-24T09:59:59.189825Z",
     "shell.execute_reply": "2025-03-24T09:59:59.189084Z"
    }
   },
   "outputs": [
    {
     "name": "stdout",
     "output_type": "stream",
     "text": [
      "2025-03-24 09:59:59,028: Performing the PrimAITE first-time setup...\r\n",
      "2025-03-24 09:59:59,029: Building the PrimAITE app directories...\r\n",
      "2025-03-24 09:59:59,029: Building primaite_config.yaml...\r\n",
      "2025-03-24 09:59:59,029: Rebuilding the demo notebooks...\r\n",
      "2025-03-24 09:59:59,052: Rebuilding the example notebooks...\r\n",
      "2025-03-24 09:59:59,054: PrimAITE setup complete!\r\n"
     ]
    }
   ],
   "source": [
    "!primaite setup"
   ]
  },
  {
   "cell_type": "code",
   "execution_count": 2,
   "metadata": {
    "execution": {
     "iopub.execute_input": "2025-03-24T09:59:59.192886Z",
     "iopub.status.busy": "2025-03-24T09:59:59.192668Z",
     "iopub.status.idle": "2025-03-24T10:00:02.919957Z",
     "shell.execute_reply": "2025-03-24T10:00:02.919250Z"
    }
   },
   "outputs": [],
   "source": [
    "from primaite.session.environment import PrimaiteGymEnv\n",
    "from primaite import PRIMAITE_PATHS\n",
    "from prettytable import PrettyTable\n",
    "from deepdiff.diff import DeepDiff\n",
    "from primaite.session.environment import PrimaiteGymEnv\n",
    "from primaite.simulator.network.hardware.nodes.host.server import Server\n",
    "from primaite.simulator.network.hardware.nodes.network.router import Router\n",
    "from primaite.simulator.network.hardware.nodes.host.server import Server\n",
    "from primaite.simulator.network.hardware.nodes.network.router import Router\n",
    "\n",
    "scenario_path = PRIMAITE_PATHS.user_config_path / \"example_config/uc7_multiple_attack_variants\""
   ]
  },
  {
   "cell_type": "code",
   "execution_count": 3,
   "metadata": {
    "execution": {
     "iopub.execute_input": "2025-03-24T10:00:02.923328Z",
     "iopub.status.busy": "2025-03-24T10:00:02.922708Z",
     "iopub.status.idle": "2025-03-24T10:00:04.158869Z",
     "shell.execute_reply": "2025-03-24T10:00:04.158296Z"
    }
   },
   "outputs": [
    {
     "name": "stderr",
     "output_type": "stream",
     "text": [
      "2025-03-24 10:00:04,155: PrimaiteGymEnv RNG seed = None\n"
     ]
    }
   ],
   "source": [
    "env = PrimaiteGymEnv(env_config=scenario_path)"
   ]
  },
  {
   "cell_type": "markdown",
   "metadata": {},
   "source": [
    "## Schedule\n",
    "\n",
    "Let's print the schedule so that we can see which attack we can expect on each episode.\n",
    "\n",
    "On episodes 0-4, the TAP001 agent will be used, and on episodes 5-9, the TAP003 agent will be used. Then, the environment will alternate between the two. Furthermore, the TAP001 agent will alternate between starting at `ST_PROJ-A-PRV-PC-1`, `ST_PROJ-B-PRV-PC-2`, `ST_PROJ-C-PRV-PC-3`."
   ]
  },
  {
   "cell_type": "code",
   "execution_count": 4,
   "metadata": {
    "execution": {
     "iopub.execute_input": "2025-03-24T10:00:04.161869Z",
     "iopub.status.busy": "2025-03-24T10:00:04.161473Z",
     "iopub.status.idle": "2025-03-24T10:00:04.165473Z",
     "shell.execute_reply": "2025-03-24T10:00:04.164812Z"
    }
   },
   "outputs": [
    {
     "name": "stdout",
     "output_type": "stream",
     "text": [
      "base_scenario: uc7_config_no_red.yaml\n",
      "schedule:\n",
      "  0:\n",
      "    - TAP001_PC1.yaml\n",
      "  1:\n",
      "    - TAP001_PC2.yaml\n",
      "  2:\n",
      "    - TAP001_PC3.yaml\n",
      "  3:\n",
      "    - TAP001_PC1.yaml\n",
      "  4:\n",
      "    - TAP001_PC2.yaml\n",
      "  5:\n",
      "    - TAP003.yaml\n",
      "  6:\n",
      "    - TAP003.yaml\n",
      "  7:\n",
      "    - TAP003.yaml\n",
      "  8:\n",
      "    - TAP003.yaml\n",
      "  9:\n",
      "    - TAP003.yaml\n",
      "  10:\n",
      "    - TAP001_PC1.yaml\n",
      "  11:\n",
      "    - TAP003.yaml\n",
      "  12:\n",
      "    - TAP001_PC1.yaml\n",
      "  13:\n",
      "    - TAP003.yaml\n",
      "  14:\n",
      "    - TAP001_PC2.yaml\n",
      "  15:\n",
      "    - TAP003.yaml\n",
      "  16:\n",
      "    - TAP001_PC3.yaml\n",
      "  17:\n",
      "    - TAP003.yaml\n",
      "  18:\n",
      "    - TAP001_PC1.yaml\n",
      "  19:\n",
      "    - TAP003.yaml\n",
      "\n"
     ]
    }
   ],
   "source": [
    "with open(scenario_path / \"schedule.yaml\",'r') as f:\n",
    "    print(f.read())"
   ]
  },
  {
   "cell_type": "markdown",
   "metadata": {},
   "source": [
    "## TAP001 attack\n",
    "\n",
    "Let's first demonstrate the TAP001 attack. We will let the environment run for 30 steps and print out the red agent's actions.\n"
   ]
  },
  {
   "cell_type": "code",
   "execution_count": 5,
   "metadata": {
    "execution": {
     "iopub.execute_input": "2025-03-24T10:00:04.168316Z",
     "iopub.status.busy": "2025-03-24T10:00:04.167915Z",
     "iopub.status.idle": "2025-03-24T10:00:04.177185Z",
     "shell.execute_reply": "2025-03-24T10:00:04.176620Z"
    }
   },
   "outputs": [],
   "source": [
    "#utils\n",
    "def run_green_and_red_pol(num_steps):\n",
    "    for i in range(num_steps): # perform steps\n",
    "        env.step(0)\n",
    "\n",
    "def print_agent_actions_except_do_nothing(agent_name):\n",
    "    \"\"\"Get the agent's action history, filter out `do-nothing` actions, print relevant data in a table.\"\"\"\n",
    "    table = PrettyTable()\n",
    "    table.field_names = [\"Step\", \"Action\", \"Node\", \"Application\", \"Target IP\", \"Response\"]\n",
    "    print(f\"Episode: {env.episode_counter}, Actions for '{agent_name}':\")\n",
    "    for item in env.game.agents[agent_name].history:\n",
    "        if item.action == \"do-nothing\":\n",
    "            continue\n",
    "\n",
    "        node, application, target_ip = \"N/A\", \"N/A\", \"N/A\",\n",
    "\n",
    "        if item.action.startswith(\"node-nmap\"):\n",
    "            node = item.parameters['source_node']\n",
    "            application = \"nmap\"\n",
    "            target_ip = str(item.parameters['target_ip_address'])\n",
    "            target_ip = (target_ip[:25]+'...') if len(target_ip)>25 else target_ip # truncate long string\n",
    "\n",
    "        elif item.action == \"router-acl-add-rule\":\n",
    "            node = item.parameters.get(\"router_name\")\n",
    "        elif item.action == \"node-send-remote-command\":\n",
    "            node = item.parameters.get(\"node_name\")\n",
    "            target_ip = item.parameters.get(\"remote_ip\")\n",
    "            application = item.parameters.get(\"command\")\n",
    "        elif item.action == \"node-session-remote-login\":\n",
    "            node = item.parameters.get(\"node_name\")\n",
    "            target_ip = item.parameters.get(\"remote_ip\")\n",
    "            application = \"user-manager\"\n",
    "        elif item.action.startswith(\"c2-server\"):\n",
    "            application = \"c2-server\"\n",
    "            node = item.parameters.get('node_name')\n",
    "        elif item.action == \"configure-c2-beacon\":\n",
    "            application = \"c2-beacon\"\n",
    "            node = item.parameters.get('node_name')\n",
    "\n",
    "        else:\n",
    "            if (node_id := item.parameters.get('node_id')) is not None:\n",
    "                node = env.game.agents[agent_name].action_manager.node_names[node_id]\n",
    "            if (application_id := item.parameters.get('application_id')) is not None:\n",
    "                application = env.game.agents[agent_name].action_manager.application_names[node_id][application_id]\n",
    "            if (application_name := item.parameters.get('application_name')) is not None:\n",
    "                application = application_name\n",
    "\n",
    "        table.add_row([item.timestep, item.action, node, application, target_ip, item.response.status])\n",
    "\n",
    "    print(table)\n",
    "    print(\"(Any do-nothing actions are omitted)\")\n",
    "\n",
    "def finish_episode_and_print_reward():\n",
    "    while env.game.step_counter < 128:\n",
    "        env.step(0)\n",
    "    print(f\"Total reward this episode: {env.agent.reward_function.total_reward:2f}\")\n",
    "\n"
   ]
  },
  {
   "cell_type": "code",
   "execution_count": 6,
   "metadata": {
    "execution": {
     "iopub.execute_input": "2025-03-24T10:00:04.179790Z",
     "iopub.status.busy": "2025-03-24T10:00:04.179325Z",
     "iopub.status.idle": "2025-03-24T10:00:15.128601Z",
     "shell.execute_reply": "2025-03-24T10:00:15.127940Z"
    }
   },
   "outputs": [
    {
     "name": "stdout",
     "output_type": "stream",
     "text": [
      "Episode: 0, Actions for 'attacker':\n",
      "+------+--------------------------------+--------------------+-------------------+------------------+----------+\n",
      "| Step |             Action             |        Node        |    Application    |    Target IP     | Response |\n",
      "+------+--------------------------------+--------------------+-------------------+------------------+----------+\n",
      "|  6   |       node-folder-create       |        N/A         |        N/A        |       N/A        | success  |\n",
      "|  11  |        node-file-create        |        N/A         |        N/A        |       N/A        | success  |\n",
      "|  16  |        node-file-access        |        N/A         |        N/A        |       N/A        | success  |\n",
      "|  21  |    node-application-install    |        N/A         | ransomware-script |       N/A        | success  |\n",
      "|  26  |      node-nmap-ping-scan       | ST_PROJ-C-PRV-PC-1 |        nmap       | 192.168.230.0/29 | success  |\n",
      "|  31  |   node-network-service-recon   |        N/A         |        N/A        |       N/A        | success  |\n",
      "|  36  |      node-nmap-ping-scan       | ST_PROJ-C-PRV-PC-1 |        nmap       | 192.168.10.0/26  | success  |\n",
      "|  41  |   node-network-service-recon   |        N/A         |        N/A        |       N/A        | success  |\n",
      "|  46  |      node-nmap-ping-scan       | ST_PROJ-C-PRV-PC-1 |        nmap       | 192.168.20.0/30  | success  |\n",
      "|  51  |   node-network-service-recon   |        N/A         |        N/A        |       N/A        | success  |\n",
      "|  56  |      node-nmap-ping-scan       | ST_PROJ-C-PRV-PC-1 |        nmap       | 192.168.220.0/29 | success  |\n",
      "|  61  |      node-nmap-port-scan       | ST_PROJ-C-PRV-PC-1 |        nmap       |  192.168.220.3   | success  |\n",
      "|  71  |    node-application-install    |        N/A         |     c2-beacon     |       N/A        | success  |\n",
      "|  76  |      configure-c2-beacon       | ST_PROJ-C-PRV-PC-1 |     c2-beacon     |       N/A        | success  |\n",
      "|  81  |    node-application-execute    |        N/A         |     c2-beacon     |       N/A        | success  |\n",
      "|  86  | c2-server-ransomware-configure |  ISP-PUB-SRV-DNS   |     c2-server     |       N/A        | success  |\n",
      "|  91  |   c2-server-data-exfiltrate    |  ISP-PUB-SRV-DNS   |     c2-server     |       N/A        | success  |\n",
      "|  96  |  c2-server-ransomware-launch   |  ISP-PUB-SRV-DNS   |     c2-server     |       N/A        | success  |\n",
      "+------+--------------------------------+--------------------+-------------------+------------------+----------+\n",
      "(Any do-nothing actions are omitted)\n"
     ]
    }
   ],
   "source": [
    "run_green_and_red_pol(110)\n",
    "print_agent_actions_except_do_nothing(\"attacker\")"
   ]
  },
  {
   "cell_type": "code",
   "execution_count": 7,
   "metadata": {
    "execution": {
     "iopub.execute_input": "2025-03-24T10:00:15.131199Z",
     "iopub.status.busy": "2025-03-24T10:00:15.130990Z",
     "iopub.status.idle": "2025-03-24T10:00:15.135531Z",
     "shell.execute_reply": "2025-03-24T10:00:15.134951Z"
    }
   },
   "outputs": [
    {
     "name": "stdout",
     "output_type": "stream",
     "text": [
      "+----------------------------------------------------------------------+\n",
      "|                    ST_DATA-PRV-SRV-DB File System                    |\n",
      "+----------+---------+---------------+-----------------------+---------+\n",
      "| Folder   | Size    | Health status | Visible health status | Deleted |\n",
      "+----------+---------+---------------+-----------------------+---------+\n",
      "| database | 4.77 MB | CORRUPT       | NONE                  | False   |\n",
      "| root     | 0 B     | GOOD          | NONE                  | False   |\n",
      "+----------+---------+---------------+-----------------------+---------+\n"
     ]
    }
   ],
   "source": [
    "st_data_prv_srv_db: Server = env.game.simulation.network.get_node_by_hostname(\"ST_DATA-PRV-SRV-DB\")\n",
    "st_data_prv_srv_db.file_system.show()"
   ]
  },
  {
   "cell_type": "code",
   "execution_count": 8,
   "metadata": {
    "execution": {
     "iopub.execute_input": "2025-03-24T10:00:15.137877Z",
     "iopub.status.busy": "2025-03-24T10:00:15.137685Z",
     "iopub.status.idle": "2025-03-24T10:00:16.485843Z",
     "shell.execute_reply": "2025-03-24T10:00:16.485240Z"
    }
   },
   "outputs": [
    {
     "name": "stdout",
     "output_type": "stream",
     "text": [
      "Total reward this episode: 140.284375\n"
     ]
    }
   ],
   "source": [
    "finish_episode_and_print_reward()"
   ]
  },
  {
   "cell_type": "markdown",
   "metadata": {},
   "source": [
    "## TAP001 Prevention"
   ]
  },
  {
   "cell_type": "markdown",
   "metadata": {},
   "source": [
    "The blue agent should be able to prevent the ransomware attack by blocking the red agent's access to the database. Let's run the environment until the observation space shows symptoms of the attack starting.\n",
    "\n",
    "Because we are in episode index 1, the red agent will use `ST_PROJ-A-PRV-PC-1` to start the attack. On step 25, the red agent installs `ransomware-script`."
   ]
  },
  {
   "cell_type": "code",
   "execution_count": 9,
   "metadata": {
    "execution": {
     "iopub.execute_input": "2025-03-24T10:00:16.488661Z",
     "iopub.status.busy": "2025-03-24T10:00:16.488434Z",
     "iopub.status.idle": "2025-03-24T10:00:18.839300Z",
     "shell.execute_reply": "2025-03-24T10:00:18.838660Z"
    }
   },
   "outputs": [
    {
     "name": "stderr",
     "output_type": "stream",
     "text": [
      "2025-03-24 10:00:16,490: Resetting environment, episode 0, avg. reward: 140.28437499999995\n"
     ]
    },
    {
     "name": "stderr",
     "output_type": "stream",
     "text": [
      "2025-03-24 10:00:16,493: Saving agent action log to /home/runner/primaite/4.0.0/sessions/2025-03-24/09-59-59/agent_actions/episode_0.json\n"
     ]
    },
    {
     "name": "stdout",
     "output_type": "stream",
     "text": [
      "Step 26\n",
      "root['NODES']['HOST0']['NICS'][1]['TRAFFIC']['tcp'][80]['inbound']: 0 -> 1\n",
      "root['NODES']['HOST0']['NICS'][1]['TRAFFIC']['tcp'][80]['outbound']: 0 -> 1\n",
      "root['NODES']['HOST2']['NICS'][1]['TRAFFIC']['tcp'][80]['inbound']: 1 -> 0\n",
      "root['NODES']['HOST2']['NICS'][1]['TRAFFIC']['tcp'][80]['outbound']: 1 -> 0\n",
      "root['LINKS'][1]['PROTOCOLS']['ALL']: 0 -> 1\n",
      "root['LINKS'][5]['PROTOCOLS']['ALL']: 0 -> 1\n",
      "root['LINKS'][20]['PROTOCOLS']['ALL']: 1 -> 0\n",
      "root['LINKS'][26]['PROTOCOLS']['ALL']: 1 -> 0\n"
     ]
    }
   ],
   "source": [
    "env.reset()\n",
    "obs, reward, term, trunc, info = env.step(0)\n",
    "for i in range(25): # we know that the ransomware install happens at step 25\n",
    "    old = obs\n",
    "    obs, reward, term, trunc, info = env.step(0)\n",
    "    new = obs\n",
    "\n",
    "diff = DeepDiff(old,new)\n",
    "print(f\"Step {env.game.step_counter}\") # it's step 26 now because the step counter is incremented after the step\n",
    "for d,v in diff.get('values_changed', {}).items():\n",
    "    print(f\"{d}: {v['old_value']} -> {v['new_value']}\")\n"
   ]
  },
  {
   "cell_type": "markdown",
   "metadata": {},
   "source": [
    "We can see that on HOST0, application index 1 has gone from `operating_status` 0 to 3, meaning there wasn't an application before, but now there is an application in the `INSTALLING` state. The blue agent should be able to detect this and block the red agent's access to the database. Action 43 will block `ST_PROJ-A-PRV-PC-1` from sending POSTGRES traffic to the DB server.\n",
    "\n",
    "If this were a different episode, it could have been `ST_PROJ-B-PRV-PC-2` or `ST_PROJ-C-PRV-PC-3` that are affected, and a different defensive action would be required."
   ]
  },
  {
   "cell_type": "markdown",
   "metadata": {},
   "source": [
    "\n",
    "```yaml\n",
    "\n",
    "# ST_INTRA-PRV-RT-CR | router-acl-add-rule | P2: ST_PROJ-A-PRV-PC-1 !==> ST_DATA-PRV-SRV-DB (TCP:POSTGRES_SERVER)\n",
    "43:\n",
    "    action: router-acl-add-rule\n",
    "    options:\n",
    "    target_router: ST_INTRA-PRV-RT-CR\n",
    "    position: 1\n",
    "    permission: DENY\n",
    "    src_ip: 192.168.230.2 # (ST_PROJ-A-PRV-PC-1)\n",
    "    src_wildcard: 0.0.255.255\n",
    "    src_port: POSTGRES_SERVER\n",
    "    dst_ip: 192.168.220.3 # (ST_DATA-PRV-SRV-DB)\n",
    "    dst_wildcard: 0.0.255.255\n",
    "    dst_port: POSTGRES_SERVER\n",
    "    protocol_name: TCP\n",
    "```"
   ]
  },
  {
   "cell_type": "code",
   "execution_count": 10,
   "metadata": {
    "execution": {
     "iopub.execute_input": "2025-03-24T10:00:18.842064Z",
     "iopub.status.busy": "2025-03-24T10:00:18.841818Z",
     "iopub.status.idle": "2025-03-24T10:00:18.983217Z",
     "shell.execute_reply": "2025-03-24T10:00:18.982521Z"
    }
   },
   "outputs": [],
   "source": [
    "env.step(43);"
   ]
  },
  {
   "cell_type": "markdown",
   "metadata": {},
   "source": [
    "```yaml\n",
    "\n",
    "# ST_INTRA-PRV-RT-CR | router-acl-add-rule | P3: ST_PROJ-B-PRV-PC-2 !==> ST_DATA-PRV-SRV-DB (TCP:POSTGRES_SERVER)\n",
    "45:\n",
    "  action: router-acl-add-rule\n",
    "  options:\n",
    "    target_router: ST_INTRA-PRV-RT-CR\n",
    "    position: 2\n",
    "    permission: DENY\n",
    "    src_ip: 192.168.240.3 # (ST_PROJ-B-PRV-PC-2)\n",
    "    src_wildcard: 0.0.255.255\n",
    "    src_port: POSTGRES_SERVER\n",
    "    dst_ip: 192.168.220.3 # (ST_DATA-PRV-SRV-DB)\n",
    "    dst_wildcard: 0.0.255.255\n",
    "    dst_port: POSTGRES_SERVER\n",
    "    protocol_name: TCP\n",
    "\n",
    "```"
   ]
  },
  {
   "cell_type": "code",
   "execution_count": 11,
   "metadata": {
    "execution": {
     "iopub.execute_input": "2025-03-24T10:00:18.986284Z",
     "iopub.status.busy": "2025-03-24T10:00:18.986055Z",
     "iopub.status.idle": "2025-03-24T10:00:19.040130Z",
     "shell.execute_reply": "2025-03-24T10:00:19.039506Z"
    }
   },
   "outputs": [],
   "source": [
    "env.step(45);"
   ]
  },
  {
   "cell_type": "markdown",
   "metadata": {},
   "source": [
    "```yaml\n",
    "\n",
    "# ST_INTRA-PRV-RT-CR | router-acl-add-rule | P4: ST_PROJ-C-PRV-PC-3 !==> ST_DATA-PRV-SRV-DB (TCP:POSTGRES_SERVER)\n",
    "47:\n",
    "  action: router-acl-add-rule\n",
    "  options:\n",
    "    target_router: ST_INTRA-PRV-RT-CR\n",
    "    position: 3\n",
    "    permission: DENY\n",
    "    src_ip: 192.168.250.4 # (ST_PROJ-C-PRV-PC-3)\n",
    "    src_wildcard: 0.0.255.255\n",
    "    src_port: POSTGRES_SERVER\n",
    "    dst_ip: 192.168.220.3 # (ST_DATA-PRV-SRV-DB)\n",
    "    dst_wildcard: 0.0.255.255\n",
    "    dst_port: POSTGRES_SERVER\n",
    "    protocol_name: TCP\n",
    "          \n",
    "```"
   ]
  },
  {
   "cell_type": "code",
   "execution_count": 12,
   "metadata": {
    "execution": {
     "iopub.execute_input": "2025-03-24T10:00:19.043330Z",
     "iopub.status.busy": "2025-03-24T10:00:19.043099Z",
     "iopub.status.idle": "2025-03-24T10:00:19.106042Z",
     "shell.execute_reply": "2025-03-24T10:00:19.105359Z"
    }
   },
   "outputs": [],
   "source": [
    "env.step(47);"
   ]
  },
  {
   "cell_type": "code",
   "execution_count": 13,
   "metadata": {
    "execution": {
     "iopub.execute_input": "2025-03-24T10:00:19.109238Z",
     "iopub.status.busy": "2025-03-24T10:00:19.108723Z",
     "iopub.status.idle": "2025-03-24T10:00:19.113945Z",
     "shell.execute_reply": "2025-03-24T10:00:19.113261Z"
    }
   },
   "outputs": [
    {
     "name": "stdout",
     "output_type": "stream",
     "text": [
      "+-------------------------------------------------------------------------------------------------------------------------+\n",
      "|                                          ST_INTRA-PRV-RT-CR Access Control List                                         |\n",
      "+-------+--------+----------+---------------+--------------+----------+---------------+--------------+----------+---------+\n",
      "| Index | Action | Protocol | Src IP        | Src Wildcard | Src Port | Dst IP        | Dst Wildcard | Dst Port | Matched |\n",
      "+-------+--------+----------+---------------+--------------+----------+---------------+--------------+----------+---------+\n",
      "| 1     | DENY   | tcp      | 192.168.230.2 | 0.0.255.255  | 5432     | 192.168.220.3 | 0.0.255.255  | 5432     | 5       |\n",
      "| 2     | DENY   | tcp      | 192.168.240.3 | 0.0.255.255  | 5432     | 192.168.220.3 | 0.0.255.255  | 5432     | 0       |\n",
      "| 3     | DENY   | tcp      | 192.168.250.4 | 0.0.255.255  | 5432     | 192.168.220.3 | 0.0.255.255  | 5432     | 0       |\n",
      "| 5     | PERMIT | ANY      | ANY           | ANY          | ANY      | ANY           | ANY          | ANY      | 603     |\n",
      "| 22    | PERMIT | ANY      | ANY           | ANY          | 219      | ANY           | ANY          | 219      | 0       |\n",
      "| 23    | PERMIT | icmp     | ANY           | ANY          | ANY      | ANY           | ANY          | ANY      | 0       |\n",
      "| 24    | DENY   | ANY      | ANY           | ANY          | ANY      | ANY           | ANY          | ANY      | 0       |\n",
      "+-------+--------+----------+---------------+--------------+----------+---------------+--------------+----------+---------+\n"
     ]
    }
   ],
   "source": [
    "st_intra_prv_rt_cr: Router = env.game.simulation.network.get_node_by_hostname(\"ST_INTRA-PRV-RT-CR\")\n",
    "st_intra_prv_rt_cr.acl.show()"
   ]
  },
  {
   "cell_type": "code",
   "execution_count": 14,
   "metadata": {
    "execution": {
     "iopub.execute_input": "2025-03-24T10:00:19.116598Z",
     "iopub.status.busy": "2025-03-24T10:00:19.116202Z",
     "iopub.status.idle": "2025-03-24T10:00:37.576399Z",
     "shell.execute_reply": "2025-03-24T10:00:37.575726Z"
    }
   },
   "outputs": [
    {
     "name": "stdout",
     "output_type": "stream",
     "text": [
      "Total reward this episode: 130.568750\n"
     ]
    }
   ],
   "source": [
    "finish_episode_and_print_reward()"
   ]
  },
  {
   "cell_type": "code",
   "execution_count": 15,
   "metadata": {
    "execution": {
     "iopub.execute_input": "2025-03-24T10:00:37.579309Z",
     "iopub.status.busy": "2025-03-24T10:00:37.578914Z",
     "iopub.status.idle": "2025-03-24T10:00:37.584048Z",
     "shell.execute_reply": "2025-03-24T10:00:37.583394Z"
    }
   },
   "outputs": [
    {
     "name": "stdout",
     "output_type": "stream",
     "text": [
      "+-------------------------------------------------------------------------------------------------------------------------+\n",
      "|                                          ST_INTRA-PRV-RT-CR Access Control List                                         |\n",
      "+-------+--------+----------+---------------+--------------+----------+---------------+--------------+----------+---------+\n",
      "| Index | Action | Protocol | Src IP        | Src Wildcard | Src Port | Dst IP        | Dst Wildcard | Dst Port | Matched |\n",
      "+-------+--------+----------+---------------+--------------+----------+---------------+--------------+----------+---------+\n",
      "| 1     | DENY   | tcp      | 192.168.230.2 | 0.0.255.255  | 5432     | 192.168.220.3 | 0.0.255.255  | 5432     | 336     |\n",
      "| 2     | DENY   | tcp      | 192.168.240.3 | 0.0.255.255  | 5432     | 192.168.220.3 | 0.0.255.255  | 5432     | 0       |\n",
      "| 3     | DENY   | tcp      | 192.168.250.4 | 0.0.255.255  | 5432     | 192.168.220.3 | 0.0.255.255  | 5432     | 0       |\n",
      "| 5     | PERMIT | ANY      | ANY           | ANY          | ANY      | ANY           | ANY          | ANY      | 12715   |\n",
      "| 22    | PERMIT | ANY      | ANY           | ANY          | 219      | ANY           | ANY          | 219      | 0       |\n",
      "| 23    | PERMIT | icmp     | ANY           | ANY          | ANY      | ANY           | ANY          | ANY      | 0       |\n",
      "| 24    | DENY   | ANY      | ANY           | ANY          | ANY      | ANY           | ANY          | ANY      | 0       |\n",
      "+-------+--------+----------+---------------+--------------+----------+---------------+--------------+----------+---------+\n"
     ]
    }
   ],
   "source": [
    "st_intra_prv_rt_cr.acl.show()"
   ]
  },
  {
   "cell_type": "markdown",
   "metadata": {},
   "source": [
    "Now TAP001 is unable to locate the database!"
   ]
  },
  {
   "cell_type": "code",
   "execution_count": 16,
   "metadata": {
    "execution": {
     "iopub.execute_input": "2025-03-24T10:00:37.586553Z",
     "iopub.status.busy": "2025-03-24T10:00:37.586351Z",
     "iopub.status.idle": "2025-03-24T10:00:37.592802Z",
     "shell.execute_reply": "2025-03-24T10:00:37.592203Z"
    }
   },
   "outputs": [
    {
     "name": "stdout",
     "output_type": "stream",
     "text": [
      "Episode: 1, Actions for 'attacker':\n",
      "+------+----------------------------+--------------------+-------------------+------------------+----------+\n",
      "| Step |           Action           |        Node        |    Application    |    Target IP     | Response |\n",
      "+------+----------------------------+--------------------+-------------------+------------------+----------+\n",
      "|  6   |     node-folder-create     |        N/A         |        N/A        |       N/A        | success  |\n",
      "|  11  |      node-file-create      |        N/A         |        N/A        |       N/A        | success  |\n",
      "|  16  |      node-file-access      |        N/A         |        N/A        |       N/A        | success  |\n",
      "|  21  |  node-application-install  |        N/A         | ransomware-script |       N/A        | success  |\n",
      "|  26  |    node-nmap-ping-scan     | ST_PROJ-B-PRV-PC-2 |        nmap       | 192.168.240.0/29 | success  |\n",
      "|  31  | node-network-service-recon |        N/A         |        N/A        |       N/A        | success  |\n",
      "|  36  |    node-nmap-ping-scan     | ST_PROJ-B-PRV-PC-2 |        nmap       | 192.168.10.0/26  | success  |\n",
      "|  41  | node-network-service-recon |        N/A         |        N/A        |       N/A        | success  |\n",
      "|  46  |    node-nmap-ping-scan     | ST_PROJ-B-PRV-PC-2 |        nmap       | 192.168.20.0/30  | success  |\n",
      "|  51  | node-network-service-recon |        N/A         |        N/A        |       N/A        | success  |\n",
      "|  56  |    node-nmap-ping-scan     | ST_PROJ-B-PRV-PC-2 |        nmap       | 192.168.220.0/29 | success  |\n",
      "|  61  |    node-nmap-port-scan     | ST_PROJ-B-PRV-PC-2 |        nmap       |  192.168.220.3   | success  |\n",
      "|  71  |    node-nmap-ping-scan     | ST_PROJ-B-PRV-PC-2 |        nmap       | 192.168.240.0/29 | success  |\n",
      "|  76  | node-network-service-recon |        N/A         |        N/A        |       N/A        | success  |\n",
      "|  81  |    node-nmap-ping-scan     | ST_PROJ-B-PRV-PC-2 |        nmap       | 192.168.10.0/26  | success  |\n",
      "|  86  | node-network-service-recon |        N/A         |        N/A        |       N/A        | success  |\n",
      "|  91  |    node-nmap-ping-scan     | ST_PROJ-B-PRV-PC-2 |        nmap       | 192.168.20.0/30  | success  |\n",
      "|  96  | node-network-service-recon |        N/A         |        N/A        |       N/A        | success  |\n",
      "| 101  |    node-nmap-ping-scan     | ST_PROJ-B-PRV-PC-2 |        nmap       | 192.168.220.0/29 | success  |\n",
      "| 106  |    node-nmap-port-scan     | ST_PROJ-B-PRV-PC-2 |        nmap       |  192.168.220.3   | success  |\n",
      "| 116  |    node-nmap-ping-scan     | ST_PROJ-B-PRV-PC-2 |        nmap       | 192.168.240.0/29 | success  |\n",
      "| 121  | node-network-service-recon |        N/A         |        N/A        |       N/A        | success  |\n",
      "| 126  |    node-nmap-ping-scan     | ST_PROJ-B-PRV-PC-2 |        nmap       | 192.168.10.0/26  | success  |\n",
      "+------+----------------------------+--------------------+-------------------+------------------+----------+\n",
      "(Any do-nothing actions are omitted)\n"
     ]
    }
   ],
   "source": [
    "print_agent_actions_except_do_nothing(\"attacker\")"
   ]
  },
  {
   "cell_type": "markdown",
   "metadata": {},
   "source": [
    "## TAP003 attack\n",
    "\n",
    "Let's skip until episode 5 and demonstrate the TAP003 attack. We will let the environment run and print out the red agent's actions.\n",
    "\n",
    "By default, TAP003 will add the following rules:\n",
    "\n",
    "|Target Router         | Impact |\n",
    "|----------------------|--------|\n",
    "|`ST_INTRA-PRV-RT-DR-1`| Blocks all `POSTGRES_SERVER` that arrives at the `ST_INTRA-PRV-RT-DR-1` router. This rule will prevent all ST_PROJ_* hosts from accessing the database (`ST_DATA-PRV-SRV-DB`).|\n",
    "|`ST_INTRA-PRV-RT-CR`| Blocks all `HTTP` traffic that arrives at the`ST_INTRA-PRV-RT-CR` router. This rule will prevent all SOME_TECH hosts from accessing the webserver (`ST_DMZ-PUB-SRV-WEB`)|\n",
    "|`REM-PUB-RT-DR`| Blocks all `DNS` traffic that arrives at the `REM-PUB-RT-DR` router. This rule prevents any remote site works from accessing the DNS Server (`ISP-PUB-SRV-DNS`).|"
   ]
  },
  {
   "cell_type": "code",
   "execution_count": 17,
   "metadata": {
    "execution": {
     "iopub.execute_input": "2025-03-24T10:00:37.595205Z",
     "iopub.status.busy": "2025-03-24T10:00:37.595004Z",
     "iopub.status.idle": "2025-03-24T10:00:40.270318Z",
     "shell.execute_reply": "2025-03-24T10:00:40.269653Z"
    }
   },
   "outputs": [
    {
     "name": "stderr",
     "output_type": "stream",
     "text": [
      "2025-03-24 10:00:37,595: Resetting environment, episode 1, avg. reward: 130.56874999999968\n"
     ]
    },
    {
     "name": "stderr",
     "output_type": "stream",
     "text": [
      "2025-03-24 10:00:37,598: Saving agent action log to /home/runner/primaite/4.0.0/sessions/2025-03-24/09-59-59/agent_actions/episode_1.json\n"
     ]
    },
    {
     "name": "stderr",
     "output_type": "stream",
     "text": [
      "2025-03-24 10:00:38,338: Resetting environment, episode 2, avg. reward: 0.0\n"
     ]
    },
    {
     "name": "stderr",
     "output_type": "stream",
     "text": [
      "2025-03-24 10:00:38,339: Saving agent action log to /home/runner/primaite/4.0.0/sessions/2025-03-24/09-59-59/agent_actions/episode_2.json\n"
     ]
    },
    {
     "name": "stderr",
     "output_type": "stream",
     "text": [
      "2025-03-24 10:00:39,057: Resetting environment, episode 3, avg. reward: 0.0\n"
     ]
    },
    {
     "name": "stderr",
     "output_type": "stream",
     "text": [
      "2025-03-24 10:00:39,058: Saving agent action log to /home/runner/primaite/4.0.0/sessions/2025-03-24/09-59-59/agent_actions/episode_3.json\n"
     ]
    },
    {
     "name": "stderr",
     "output_type": "stream",
     "text": [
      "2025-03-24 10:00:39,510: Resetting environment, episode 4, avg. reward: 0.0\n"
     ]
    },
    {
     "name": "stderr",
     "output_type": "stream",
     "text": [
      "2025-03-24 10:00:39,511: Saving agent action log to /home/runner/primaite/4.0.0/sessions/2025-03-24/09-59-59/agent_actions/episode_4.json\n"
     ]
    }
   ],
   "source": [
    "while env.episode_counter < 5:\n",
    "    env.reset()"
   ]
  },
  {
   "cell_type": "code",
   "execution_count": 18,
   "metadata": {
    "execution": {
     "iopub.execute_input": "2025-03-24T10:00:40.273647Z",
     "iopub.status.busy": "2025-03-24T10:00:40.273101Z",
     "iopub.status.idle": "2025-03-24T10:00:46.483719Z",
     "shell.execute_reply": "2025-03-24T10:00:46.482997Z"
    }
   },
   "outputs": [
    {
     "name": "stdout",
     "output_type": "stream",
     "text": [
      "Episode: 5, Actions for 'attacker':\n",
      "+------+---------------------------+--------------------+-----------------------------------------------------------------------------------------------+---------------+----------+\n",
      "| Step |           Action          |        Node        |                                          Application                                          |   Target IP   | Response |\n",
      "+------+---------------------------+--------------------+-----------------------------------------------------------------------------------------------+---------------+----------+\n",
      "|  13  | node-session-remote-login | ST_PROJ-A-PRV-PC-1 |                                          user-manager                                         | 192.168.230.1 | success  |\n",
      "|  16  |  node-send-remote-command | ST_PROJ-A-PRV-PC-1 |          ['service', 'user-manager', 'change_password', 'admin', 'admin', 'red_pass']         | 192.168.230.1 | success  |\n",
      "|  19  | node-session-remote-login | ST_PROJ-A-PRV-PC-1 |                                          user-manager                                         | 192.168.160.1 | success  |\n",
      "|  22  |  node-send-remote-command | ST_PROJ-A-PRV-PC-1 |          ['service', 'user-manager', 'change_password', 'admin', 'admin', 'red_pass']         | 192.168.160.1 | success  |\n",
      "|  25  | node-session-remote-login | ST_PROJ-A-PRV-PC-1 |                                          user-manager                                         |  192.168.10.2 | success  |\n",
      "|  28  |  node-send-remote-command | ST_PROJ-A-PRV-PC-1 |          ['service', 'user-manager', 'change_password', 'admin', 'admin', 'red_pass']         |  192.168.10.2 | success  |\n",
      "|  31  | node-session-remote-login | ST_PROJ-A-PRV-PC-1 |                                          user-manager                                         | 192.168.230.1 | success  |\n",
      "|  34  |  node-send-remote-command | ST_PROJ-A-PRV-PC-1 | ['acl', 'add_rule', 'DENY', 'tcp', 'ALL', '0.0.255.255', 5432, 'ALL', '0.0.255.255', 5432, 1] | 192.168.230.1 | success  |\n",
      "|  37  | node-session-remote-login | ST_PROJ-A-PRV-PC-1 |                                          user-manager                                         | 192.168.160.1 | success  |\n",
      "|  40  |  node-send-remote-command | ST_PROJ-A-PRV-PC-1 |   ['acl', 'add_rule', 'DENY', 'tcp', 'ALL', '0.0.255.255', 80, 'ALL', '0.0.255.255', 80, 1]   | 192.168.160.1 | success  |\n",
      "|  43  | node-session-remote-login | ST_PROJ-A-PRV-PC-1 |                                          user-manager                                         |  192.168.10.2 | success  |\n",
      "|  46  |  node-send-remote-command | ST_PROJ-A-PRV-PC-1 |   ['acl', 'add_rule', 'DENY', 'tcp', 'ALL', '0.0.255.255', 53, 'ALL', '0.0.255.255', 53, 1]   |  192.168.10.2 | success  |\n",
      "+------+---------------------------+--------------------+-----------------------------------------------------------------------------------------------+---------------+----------+\n",
      "(Any do-nothing actions are omitted)\n"
     ]
    }
   ],
   "source": [
    "run_green_and_red_pol(128)\n",
    "print_agent_actions_except_do_nothing(\"attacker\")\n",
    "obs, reward, term, trunc, info = env.step(0); # one more step so we can capture the value of `obs`"
   ]
  },
  {
   "cell_type": "markdown",
   "metadata": {},
   "source": [
    "The agent selected to add ACL rules that will prevent green pattern of life by blocking a variety of different traffic. This has a negative impact on reward. Let's view the ACL list on the affected router."
   ]
  },
  {
   "cell_type": "code",
   "execution_count": 19,
   "metadata": {
    "execution": {
     "iopub.execute_input": "2025-03-24T10:00:46.486848Z",
     "iopub.status.busy": "2025-03-24T10:00:46.486447Z",
     "iopub.status.idle": "2025-03-24T10:00:46.491426Z",
     "shell.execute_reply": "2025-03-24T10:00:46.490814Z"
    }
   },
   "outputs": [
    {
     "name": "stdout",
     "output_type": "stream",
     "text": [
      "+-----------------------------------------------------------------------------------------------------------+\n",
      "|                                  ST_INTRA-PRV-RT-DR-1 Access Control List                                 |\n",
      "+-------+--------+----------+--------+--------------+----------+--------+--------------+----------+---------+\n",
      "| Index | Action | Protocol | Src IP | Src Wildcard | Src Port | Dst IP | Dst Wildcard | Dst Port | Matched |\n",
      "+-------+--------+----------+--------+--------------+----------+--------+--------------+----------+---------+\n",
      "| 1     | DENY   | tcp      | ANY    | 0.0.255.255  | 5432     | ANY    | 0.0.255.255  | 5432     | 218     |\n",
      "| 5     | PERMIT | ANY      | ANY    | ANY          | ANY      | ANY    | ANY          | ANY      | 639     |\n",
      "| 22    | PERMIT | ANY      | ANY    | ANY          | 219      | ANY    | ANY          | 219      | 0       |\n",
      "| 23    | PERMIT | icmp     | ANY    | ANY          | ANY      | ANY    | ANY          | ANY      | 0       |\n",
      "| 24    | DENY   | ANY      | ANY    | ANY          | ANY      | ANY    | ANY          | ANY      | 0       |\n",
      "+-------+--------+----------+--------+--------------+----------+--------+--------------+----------+---------+\n"
     ]
    }
   ],
   "source": [
    "env.game.simulation.network.get_node_by_hostname(\"ST_INTRA-PRV-RT-DR-1\").acl.show()"
   ]
  },
  {
   "cell_type": "code",
   "execution_count": 20,
   "metadata": {
    "execution": {
     "iopub.execute_input": "2025-03-24T10:00:46.493667Z",
     "iopub.status.busy": "2025-03-24T10:00:46.493469Z",
     "iopub.status.idle": "2025-03-24T10:00:46.498203Z",
     "shell.execute_reply": "2025-03-24T10:00:46.497608Z"
    }
   },
   "outputs": [
    {
     "name": "stdout",
     "output_type": "stream",
     "text": [
      "+-----------------------------------------------------------------------------------------------------------+\n",
      "|                                   ST_INTRA-PRV-RT-CR Access Control List                                  |\n",
      "+-------+--------+----------+--------+--------------+----------+--------+--------------+----------+---------+\n",
      "| Index | Action | Protocol | Src IP | Src Wildcard | Src Port | Dst IP | Dst Wildcard | Dst Port | Matched |\n",
      "+-------+--------+----------+--------+--------------+----------+--------+--------------+----------+---------+\n",
      "| 1     | DENY   | tcp      | ANY    | 0.0.255.255  | 80       | ANY    | 0.0.255.255  | 80       | 557     |\n",
      "| 5     | PERMIT | ANY      | ANY    | ANY          | ANY      | ANY    | ANY          | ANY      | 933     |\n",
      "| 22    | PERMIT | ANY      | ANY    | ANY          | 219      | ANY    | ANY          | 219      | 0       |\n",
      "| 23    | PERMIT | icmp     | ANY    | ANY          | ANY      | ANY    | ANY          | ANY      | 0       |\n",
      "| 24    | DENY   | ANY      | ANY    | ANY          | ANY      | ANY    | ANY          | ANY      | 0       |\n",
      "+-------+--------+----------+--------+--------------+----------+--------+--------------+----------+---------+\n"
     ]
    }
   ],
   "source": [
    "env.game.simulation.network.get_node_by_hostname(\"ST_INTRA-PRV-RT-CR\").acl.show()"
   ]
  },
  {
   "cell_type": "code",
   "execution_count": 21,
   "metadata": {
    "execution": {
     "iopub.execute_input": "2025-03-24T10:00:46.500444Z",
     "iopub.status.busy": "2025-03-24T10:00:46.500251Z",
     "iopub.status.idle": "2025-03-24T10:00:46.504860Z",
     "shell.execute_reply": "2025-03-24T10:00:46.504201Z"
    }
   },
   "outputs": [
    {
     "name": "stdout",
     "output_type": "stream",
     "text": [
      "+-----------------------------------------------------------------------------------------------------------+\n",
      "|                                     REM-PUB-RT-DR Access Control List                                     |\n",
      "+-------+--------+----------+--------+--------------+----------+--------+--------------+----------+---------+\n",
      "| Index | Action | Protocol | Src IP | Src Wildcard | Src Port | Dst IP | Dst Wildcard | Dst Port | Matched |\n",
      "+-------+--------+----------+--------+--------------+----------+--------+--------------+----------+---------+\n",
      "| 1     | DENY   | tcp      | ANY    | 0.0.255.255  | 53       | ANY    | 0.0.255.255  | 53       | 0       |\n",
      "| 5     | PERMIT | ANY      | ANY    | ANY          | ANY      | ANY    | ANY          | ANY      | 235     |\n",
      "| 22    | PERMIT | ANY      | ANY    | ANY          | 219      | ANY    | ANY          | 219      | 0       |\n",
      "| 23    | PERMIT | icmp     | ANY    | ANY          | ANY      | ANY    | ANY          | ANY      | 0       |\n",
      "| 24    | DENY   | ANY      | ANY    | ANY          | ANY      | ANY    | ANY          | ANY      | 0       |\n",
      "+-------+--------+----------+--------+--------------+----------+--------+--------------+----------+---------+\n"
     ]
    }
   ],
   "source": [
    "env.game.simulation.network.get_node_by_hostname(\"REM-PUB-RT-DR\").acl.show()"
   ]
  },
  {
   "cell_type": "markdown",
   "metadata": {},
   "source": [
    "We can see that at indices 1-5, there are ACL rules that block all traffic. The blue agent can see this rule in the `ROUTERS` part of the observation space.\n"
   ]
  },
  {
   "cell_type": "code",
   "execution_count": 22,
   "metadata": {
    "execution": {
     "iopub.execute_input": "2025-03-24T10:00:46.507311Z",
     "iopub.status.busy": "2025-03-24T10:00:46.507116Z",
     "iopub.status.idle": "2025-03-24T10:00:46.513623Z",
     "shell.execute_reply": "2025-03-24T10:00:46.512983Z"
    }
   },
   "outputs": [
    {
     "data": {
      "text/plain": [
       "{'position': 1,\n",
       " 'permission': 2,\n",
       " 'source_ip_id': 1,\n",
       " 'source_wildcard_id': 4,\n",
       " 'source_port_id': 4,\n",
       " 'dest_ip_id': 1,\n",
       " 'dest_wildcard_id': 4,\n",
       " 'dest_port_id': 4,\n",
       " 'protocol_id': 3}"
      ]
     },
     "execution_count": 22,
     "metadata": {},
     "output_type": "execute_result"
    }
   ],
   "source": [
    "obs['NODES']['ROUTER0']['ACL'][1]"
   ]
  },
  {
   "cell_type": "code",
   "execution_count": 23,
   "metadata": {
    "execution": {
     "iopub.execute_input": "2025-03-24T10:00:46.516153Z",
     "iopub.status.busy": "2025-03-24T10:00:46.515759Z",
     "iopub.status.idle": "2025-03-24T10:00:46.520218Z",
     "shell.execute_reply": "2025-03-24T10:00:46.519649Z"
    }
   },
   "outputs": [
    {
     "data": {
      "text/plain": [
       "{'position': 1,\n",
       " 'permission': 2,\n",
       " 'source_ip_id': 1,\n",
       " 'source_wildcard_id': 4,\n",
       " 'source_port_id': 6,\n",
       " 'dest_ip_id': 1,\n",
       " 'dest_wildcard_id': 4,\n",
       " 'dest_port_id': 6,\n",
       " 'protocol_id': 3}"
      ]
     },
     "execution_count": 23,
     "metadata": {},
     "output_type": "execute_result"
    }
   ],
   "source": [
    "obs['NODES']['ROUTER1']['ACL'][1]"
   ]
  },
  {
   "cell_type": "code",
   "execution_count": 24,
   "metadata": {
    "execution": {
     "iopub.execute_input": "2025-03-24T10:00:46.522521Z",
     "iopub.status.busy": "2025-03-24T10:00:46.522322Z",
     "iopub.status.idle": "2025-03-24T10:00:46.526791Z",
     "shell.execute_reply": "2025-03-24T10:00:46.526251Z"
    }
   },
   "outputs": [
    {
     "data": {
      "text/plain": [
       "{'position': 1,\n",
       " 'permission': 2,\n",
       " 'source_ip_id': 1,\n",
       " 'source_wildcard_id': 4,\n",
       " 'source_port_id': 3,\n",
       " 'dest_ip_id': 1,\n",
       " 'dest_wildcard_id': 4,\n",
       " 'dest_port_id': 3,\n",
       " 'protocol_id': 3}"
      ]
     },
     "execution_count": 24,
     "metadata": {},
     "output_type": "execute_result"
    }
   ],
   "source": [
    "obs['NODES']['ROUTER2']['ACL'][1]"
   ]
  },
  {
   "cell_type": "markdown",
   "metadata": {},
   "source": [
    "## Preventing TAP003 attack\n",
    "\n",
    "TAP003 relies on connecting to the routers via SSH, and sending `add_rule` terminal commands. The blue agent can prevent this by pre-emptively changing the admin password on the affected routers or by blocking SSH traffic between the red agent's starting node and the target routers."
   ]
  },
  {
   "cell_type": "markdown",
   "metadata": {},
   "source": [
    "By printing the reward of each individual agent, we will see what green agents are affected the most. Of course, these green rewards count towards the blue reward so ultimately the blue agent should learn to remove the ACL rule."
   ]
  },
  {
   "cell_type": "code",
   "execution_count": 25,
   "metadata": {
    "execution": {
     "iopub.execute_input": "2025-03-24T10:00:46.529313Z",
     "iopub.status.busy": "2025-03-24T10:00:46.529113Z",
     "iopub.status.idle": "2025-03-24T10:00:53.684106Z",
     "shell.execute_reply": "2025-03-24T10:00:53.683375Z"
    }
   },
   "outputs": [
    {
     "name": "stderr",
     "output_type": "stream",
     "text": [
      "2025-03-24 10:00:46,530: Resetting environment, episode 5, avg. reward: 117.67656249999963\n"
     ]
    },
    {
     "name": "stderr",
     "output_type": "stream",
     "text": [
      "2025-03-24 10:00:46,532: Saving agent action log to /home/runner/primaite/4.0.0/sessions/2025-03-24/09-59-59/agent_actions/episode_5.json\n"
     ]
    },
    {
     "name": "stdout",
     "output_type": "stream",
     "text": [
      "Total reward this episode: 116.559375\n",
      "HOME_WORKER-1-DB 61.5\n",
      "HOME_WORKER-1-WEB 25.59999999999994\n",
      "HOME_WORKER-2-DB 60.5\n",
      "HOME_WORKER-2-WEB 25.39999999999994\n",
      "REMOTE_WORKER-1-DB 57.5\n",
      "REMOTE_WORKER-1-WEB 25.199999999999942\n",
      "REMOTE_WORKER-2-DB 56.0\n",
      "REMOTE_WORKER-2-WEB 24.999999999999943\n",
      "PROJ_A-SENIOR-DEV-DB -29.0\n",
      "PROJ_A-SENIOR-DEV-WEB -9.6\n",
      "PROJ_A-JUNIOR-DEV-1-DB -30.0\n",
      "PROJ_A-JUNIOR-DEV-1-WEB -9.200000000000001\n",
      "PROJ_A-JUNIOR-DEV-2-DB -29.0\n",
      "PROJ_A-JUNIOR-DEV-2-WEB -9.4\n",
      "PROJ_B-SENIOR-DEV-DB -29.0\n",
      "PROJ_B-SENIOR-DEV-WEB -10.199999999999998\n",
      "PROJ_B-JUNIOR-DEV-1-DB -28.0\n",
      "PROJ_B-JUNIOR-DEV-1-WEB -6.200000000000005\n",
      "PROJ_B-JUNIOR-DEV-2-DB -29.5\n",
      "PROJ_B-JUNIOR-DEV-2-WEB -10.799999999999995\n",
      "PROJ_C-SENIOR-DEV-DB -26.0\n",
      "PROJ_C-SENIOR-DEV-WEB -7.2000000000000055\n",
      "PROJ_C-JUNIOR-DEV-1-DB -26.5\n",
      "PROJ_C-JUNIOR-DEV-1-WEB -5.0000000000000036\n",
      "PROJ_C-JUNIOR-DEV-2-DB -28.0\n",
      "PROJ_C-JUNIOR-DEV-2-WEB -8.800000000000002\n",
      "CEO -39.900000000000006\n",
      "CTO -22.0\n",
      "CFO -22.5\n",
      "SENIOR_HR -23.5\n",
      "JUNIOR_HR-1 -23.0\n",
      "JUNIOR_HR-2 -23.5\n",
      "attacker 0.0\n",
      "defender 116.55937499999965\n"
     ]
    }
   ],
   "source": [
    "env.reset()\n",
    "finish_episode_and_print_reward()\n",
    "for ag in env.game.agents.values():\n",
    "    print(ag.config.ref, ag.reward_function.total_reward)"
   ]
  },
  {
   "cell_type": "markdown",
   "metadata": {},
   "source": [
    "The most effective option that the blue agent has against TAP003 is to prevent the red agent from ever adding the ACLs in the first place through blocking the SSH connection."
   ]
  },
  {
   "cell_type": "code",
   "execution_count": 26,
   "metadata": {
    "execution": {
     "iopub.execute_input": "2025-03-24T10:00:53.686938Z",
     "iopub.status.busy": "2025-03-24T10:00:53.686693Z",
     "iopub.status.idle": "2025-03-24T10:00:54.626572Z",
     "shell.execute_reply": "2025-03-24T10:00:54.625816Z"
    }
   },
   "outputs": [
    {
     "name": "stderr",
     "output_type": "stream",
     "text": [
      "2025-03-24 10:00:53,687: Resetting environment, episode 6, avg. reward: 116.55937499999965\n"
     ]
    },
    {
     "name": "stderr",
     "output_type": "stream",
     "text": [
      "2025-03-24 10:00:53,690: Saving agent action log to /home/runner/primaite/4.0.0/sessions/2025-03-24/09-59-59/agent_actions/episode_6.json\n"
     ]
    },
    {
     "data": {
      "text/plain": [
       "({'NODES': {'HOST0': {'SERVICES': {1: {'operating_status': 2,\n",
       "      'health_status': 0},\n",
       "     2: {'operating_status': 0, 'health_status': 0}},\n",
       "    'APPLICATIONS': {1: {'operating_status': 0,\n",
       "      'health_status': 0,\n",
       "      'num_executions': 0},\n",
       "     2: {'operating_status': 1, 'health_status': 0, 'num_executions': 1}},\n",
       "    'FOLDERS': {1: {'health_status': 0,\n",
       "      'FILES': {1: {'health_status': 0, 'num_access': 0}}},\n",
       "     2: {'health_status': 0,\n",
       "      'FILES': {1: {'health_status': 0, 'num_access': 0}}}},\n",
       "    'NICS': {1: {'nic_status': 1,\n",
       "      'TRAFFIC': {'tcp': {80: {'inbound': 1, 'outbound': 1},\n",
       "        5432: {'inbound': 1, 'outbound': 1}},\n",
       "       'icmp': {'inbound': 0, 'outbound': 0}},\n",
       "      'NMNE': {'inbound': 0, 'outbound': 0}}},\n",
       "    'num_file_creations': 0,\n",
       "    'num_file_deletions': 0,\n",
       "    'users': {'local_login': 0, 'remote_sessions': 0},\n",
       "    'operating_status': 1},\n",
       "   'HOST1': {'SERVICES': {1: {'operating_status': 2, 'health_status': 0},\n",
       "     2: {'operating_status': 0, 'health_status': 0}},\n",
       "    'APPLICATIONS': {1: {'operating_status': 0,\n",
       "      'health_status': 0,\n",
       "      'num_executions': 0},\n",
       "     2: {'operating_status': 1, 'health_status': 0, 'num_executions': 0}},\n",
       "    'FOLDERS': {1: {'health_status': 0,\n",
       "      'FILES': {1: {'health_status': 0, 'num_access': 0}}},\n",
       "     2: {'health_status': 0,\n",
       "      'FILES': {1: {'health_status': 0, 'num_access': 0}}}},\n",
       "    'NICS': {1: {'nic_status': 1,\n",
       "      'TRAFFIC': {'tcp': {80: {'inbound': 0, 'outbound': 0},\n",
       "        5432: {'inbound': 0, 'outbound': 0}},\n",
       "       'icmp': {'inbound': 0, 'outbound': 0}},\n",
       "      'NMNE': {'inbound': 0, 'outbound': 0}}},\n",
       "    'num_file_creations': 0,\n",
       "    'num_file_deletions': 0,\n",
       "    'users': {'local_login': 0, 'remote_sessions': 0},\n",
       "    'operating_status': 1},\n",
       "   'HOST2': {'SERVICES': {1: {'operating_status': 2, 'health_status': 0},\n",
       "     2: {'operating_status': 0, 'health_status': 0}},\n",
       "    'APPLICATIONS': {1: {'operating_status': 0,\n",
       "      'health_status': 0,\n",
       "      'num_executions': 0},\n",
       "     2: {'operating_status': 1, 'health_status': 0, 'num_executions': 1}},\n",
       "    'FOLDERS': {1: {'health_status': 0,\n",
       "      'FILES': {1: {'health_status': 0, 'num_access': 0}}},\n",
       "     2: {'health_status': 0,\n",
       "      'FILES': {1: {'health_status': 0, 'num_access': 0}}}},\n",
       "    'NICS': {1: {'nic_status': 1,\n",
       "      'TRAFFIC': {'tcp': {80: {'inbound': 1, 'outbound': 1},\n",
       "        5432: {'inbound': 1, 'outbound': 1}},\n",
       "       'icmp': {'inbound': 0, 'outbound': 0}},\n",
       "      'NMNE': {'inbound': 0, 'outbound': 0}}},\n",
       "    'num_file_creations': 0,\n",
       "    'num_file_deletions': 0,\n",
       "    'users': {'local_login': 0, 'remote_sessions': 0},\n",
       "    'operating_status': 1},\n",
       "   'HOST3': {'SERVICES': {1: {'operating_status': 0, 'health_status': 0},\n",
       "     2: {'operating_status': 0, 'health_status': 0}},\n",
       "    'APPLICATIONS': {1: {'operating_status': 0,\n",
       "      'health_status': 0,\n",
       "      'num_executions': 0},\n",
       "     2: {'operating_status': 0, 'health_status': 0, 'num_executions': 0}},\n",
       "    'FOLDERS': {1: {'health_status': 0,\n",
       "      'FILES': {1: {'health_status': 0, 'num_access': 0}}},\n",
       "     2: {'health_status': 0,\n",
       "      'FILES': {1: {'health_status': 0, 'num_access': 0}}}},\n",
       "    'NICS': {1: {'nic_status': 1,\n",
       "      'TRAFFIC': {'tcp': {80: {'inbound': 0, 'outbound': 0},\n",
       "        5432: {'inbound': 1, 'outbound': 1}},\n",
       "       'icmp': {'inbound': 0, 'outbound': 0}},\n",
       "      'NMNE': {'inbound': 0, 'outbound': 0}}},\n",
       "    'num_file_creations': 0,\n",
       "    'num_file_deletions': 0,\n",
       "    'users': {'local_login': 0, 'remote_sessions': 0},\n",
       "    'operating_status': 1},\n",
       "   'ROUTER0': {'ACL': {0: {'position': 0,\n",
       "      'permission': 0,\n",
       "      'source_ip_id': 0,\n",
       "      'source_wildcard_id': 0,\n",
       "      'source_port_id': 0,\n",
       "      'dest_ip_id': 0,\n",
       "      'dest_wildcard_id': 0,\n",
       "      'dest_port_id': 0,\n",
       "      'protocol_id': 0},\n",
       "     1: {'position': 1,\n",
       "      'permission': 0,\n",
       "      'source_ip_id': 0,\n",
       "      'source_wildcard_id': 0,\n",
       "      'source_port_id': 0,\n",
       "      'dest_ip_id': 0,\n",
       "      'dest_wildcard_id': 0,\n",
       "      'dest_port_id': 0,\n",
       "      'protocol_id': 0},\n",
       "     2: {'position': 2,\n",
       "      'permission': 0,\n",
       "      'source_ip_id': 0,\n",
       "      'source_wildcard_id': 0,\n",
       "      'source_port_id': 0,\n",
       "      'dest_ip_id': 0,\n",
       "      'dest_wildcard_id': 0,\n",
       "      'dest_port_id': 0,\n",
       "      'protocol_id': 0},\n",
       "     3: {'position': 3,\n",
       "      'permission': 0,\n",
       "      'source_ip_id': 0,\n",
       "      'source_wildcard_id': 0,\n",
       "      'source_port_id': 0,\n",
       "      'dest_ip_id': 0,\n",
       "      'dest_wildcard_id': 0,\n",
       "      'dest_port_id': 0,\n",
       "      'protocol_id': 0},\n",
       "     4: {'position': 4,\n",
       "      'permission': 0,\n",
       "      'source_ip_id': 0,\n",
       "      'source_wildcard_id': 0,\n",
       "      'source_port_id': 0,\n",
       "      'dest_ip_id': 0,\n",
       "      'dest_wildcard_id': 0,\n",
       "      'dest_port_id': 0,\n",
       "      'protocol_id': 0}},\n",
       "    'PORTS': {1: {'operating_status': 1},\n",
       "     2: {'operating_status': 1},\n",
       "     3: {'operating_status': 1},\n",
       "     4: {'operating_status': 1},\n",
       "     5: {'operating_status': 2}},\n",
       "    'users': {'local_login': 0, 'remote_sessions': 0}},\n",
       "   'ROUTER1': {'ACL': {0: {'position': 0,\n",
       "      'permission': 0,\n",
       "      'source_ip_id': 0,\n",
       "      'source_wildcard_id': 0,\n",
       "      'source_port_id': 0,\n",
       "      'dest_ip_id': 0,\n",
       "      'dest_wildcard_id': 0,\n",
       "      'dest_port_id': 0,\n",
       "      'protocol_id': 0},\n",
       "     1: {'position': 1,\n",
       "      'permission': 2,\n",
       "      'source_ip_id': 17,\n",
       "      'source_wildcard_id': 4,\n",
       "      'source_port_id': 7,\n",
       "      'dest_ip_id': 1,\n",
       "      'dest_wildcard_id': 4,\n",
       "      'dest_port_id': 7,\n",
       "      'protocol_id': 3},\n",
       "     2: {'position': 2,\n",
       "      'permission': 0,\n",
       "      'source_ip_id': 0,\n",
       "      'source_wildcard_id': 0,\n",
       "      'source_port_id': 0,\n",
       "      'dest_ip_id': 0,\n",
       "      'dest_wildcard_id': 0,\n",
       "      'dest_port_id': 0,\n",
       "      'protocol_id': 0},\n",
       "     3: {'position': 3,\n",
       "      'permission': 0,\n",
       "      'source_ip_id': 0,\n",
       "      'source_wildcard_id': 0,\n",
       "      'source_port_id': 0,\n",
       "      'dest_ip_id': 0,\n",
       "      'dest_wildcard_id': 0,\n",
       "      'dest_port_id': 0,\n",
       "      'protocol_id': 0},\n",
       "     4: {'position': 4,\n",
       "      'permission': 0,\n",
       "      'source_ip_id': 0,\n",
       "      'source_wildcard_id': 0,\n",
       "      'source_port_id': 0,\n",
       "      'dest_ip_id': 0,\n",
       "      'dest_wildcard_id': 0,\n",
       "      'dest_port_id': 0,\n",
       "      'protocol_id': 0}},\n",
       "    'PORTS': {1: {'operating_status': 1},\n",
       "     2: {'operating_status': 1},\n",
       "     3: {'operating_status': 1},\n",
       "     4: {'operating_status': 1},\n",
       "     5: {'operating_status': 2}},\n",
       "    'users': {'local_login': 0, 'remote_sessions': 0}},\n",
       "   'ROUTER2': {'ACL': {0: {'position': 0,\n",
       "      'permission': 0,\n",
       "      'source_ip_id': 0,\n",
       "      'source_wildcard_id': 0,\n",
       "      'source_port_id': 0,\n",
       "      'dest_ip_id': 0,\n",
       "      'dest_wildcard_id': 0,\n",
       "      'dest_port_id': 0,\n",
       "      'protocol_id': 0},\n",
       "     1: {'position': 1,\n",
       "      'permission': 0,\n",
       "      'source_ip_id': 0,\n",
       "      'source_wildcard_id': 0,\n",
       "      'source_port_id': 0,\n",
       "      'dest_ip_id': 0,\n",
       "      'dest_wildcard_id': 0,\n",
       "      'dest_port_id': 0,\n",
       "      'protocol_id': 0},\n",
       "     2: {'position': 2,\n",
       "      'permission': 0,\n",
       "      'source_ip_id': 0,\n",
       "      'source_wildcard_id': 0,\n",
       "      'source_port_id': 0,\n",
       "      'dest_ip_id': 0,\n",
       "      'dest_wildcard_id': 0,\n",
       "      'dest_port_id': 0,\n",
       "      'protocol_id': 0},\n",
       "     3: {'position': 3,\n",
       "      'permission': 0,\n",
       "      'source_ip_id': 0,\n",
       "      'source_wildcard_id': 0,\n",
       "      'source_port_id': 0,\n",
       "      'dest_ip_id': 0,\n",
       "      'dest_wildcard_id': 0,\n",
       "      'dest_port_id': 0,\n",
       "      'protocol_id': 0},\n",
       "     4: {'position': 4,\n",
       "      'permission': 0,\n",
       "      'source_ip_id': 0,\n",
       "      'source_wildcard_id': 0,\n",
       "      'source_port_id': 0,\n",
       "      'dest_ip_id': 0,\n",
       "      'dest_wildcard_id': 0,\n",
       "      'dest_port_id': 0,\n",
       "      'protocol_id': 0}},\n",
       "    'PORTS': {1: {'operating_status': 1},\n",
       "     2: {'operating_status': 1},\n",
       "     3: {'operating_status': 2},\n",
       "     4: {'operating_status': 2},\n",
       "     5: {'operating_status': 2}},\n",
       "    'users': {'local_login': 0, 'remote_sessions': 0}}},\n",
       "  'LINKS': {1: {'PROTOCOLS': {'ALL': 1}},\n",
       "   2: {'PROTOCOLS': {'ALL': 0}},\n",
       "   3: {'PROTOCOLS': {'ALL': 0}},\n",
       "   4: {'PROTOCOLS': {'ALL': 0}},\n",
       "   5: {'PROTOCOLS': {'ALL': 1}},\n",
       "   6: {'PROTOCOLS': {'ALL': 1}},\n",
       "   7: {'PROTOCOLS': {'ALL': 1}},\n",
       "   8: {'PROTOCOLS': {'ALL': 1}},\n",
       "   9: {'PROTOCOLS': {'ALL': 1}},\n",
       "   10: {'PROTOCOLS': {'ALL': 0}},\n",
       "   11: {'PROTOCOLS': {'ALL': 1}},\n",
       "   12: {'PROTOCOLS': {'ALL': 0}},\n",
       "   13: {'PROTOCOLS': {'ALL': 1}},\n",
       "   14: {'PROTOCOLS': {'ALL': 1}},\n",
       "   15: {'PROTOCOLS': {'ALL': 1}},\n",
       "   16: {'PROTOCOLS': {'ALL': 1}},\n",
       "   17: {'PROTOCOLS': {'ALL': 1}},\n",
       "   18: {'PROTOCOLS': {'ALL': 1}},\n",
       "   19: {'PROTOCOLS': {'ALL': 1}},\n",
       "   20: {'PROTOCOLS': {'ALL': 1}},\n",
       "   21: {'PROTOCOLS': {'ALL': 0}},\n",
       "   22: {'PROTOCOLS': {'ALL': 1}},\n",
       "   23: {'PROTOCOLS': {'ALL': 1}},\n",
       "   24: {'PROTOCOLS': {'ALL': 1}},\n",
       "   25: {'PROTOCOLS': {'ALL': 1}},\n",
       "   26: {'PROTOCOLS': {'ALL': 0}},\n",
       "   27: {'PROTOCOLS': {'ALL': 4}},\n",
       "   28: {'PROTOCOLS': {'ALL': 4}},\n",
       "   29: {'PROTOCOLS': {'ALL': 1}},\n",
       "   30: {'PROTOCOLS': {'ALL': 0}},\n",
       "   31: {'PROTOCOLS': {'ALL': 0}},\n",
       "   32: {'PROTOCOLS': {'ALL': 0}},\n",
       "   33: {'PROTOCOLS': {'ALL': 1}},\n",
       "   34: {'PROTOCOLS': {'ALL': 0}},\n",
       "   35: {'PROTOCOLS': {'ALL': 0}},\n",
       "   36: {'PROTOCOLS': {'ALL': 0}},\n",
       "   37: {'PROTOCOLS': {'ALL': 1}},\n",
       "   38: {'PROTOCOLS': {'ALL': 0}},\n",
       "   39: {'PROTOCOLS': {'ALL': 0}},\n",
       "   40: {'PROTOCOLS': {'ALL': 0}}}},\n",
       " 1.1078125000000003,\n",
       " False,\n",
       " False,\n",
       " {'agent_actions': {'HOME_WORKER-1-DB': AgentHistoryItem(timestep=0, action='do-nothing', parameters={}, request=['do-nothing'], response=RequestResponse(status='success', data={}), reward=0.0, reward_info={'connection_attempt_status': 'n/a'}, observation=0),\n",
       "   'HOME_WORKER-1-WEB': AgentHistoryItem(timestep=0, action='do-nothing', parameters={}, request=['do-nothing'], response=RequestResponse(status='success', data={}), reward=0.0, reward_info={}, observation=0),\n",
       "   'HOME_WORKER-2-DB': AgentHistoryItem(timestep=0, action='do-nothing', parameters={}, request=['do-nothing'], response=RequestResponse(status='success', data={}), reward=0.0, reward_info={'connection_attempt_status': 'n/a'}, observation=0),\n",
       "   'HOME_WORKER-2-WEB': AgentHistoryItem(timestep=0, action='node-application-execute', parameters={'node_name': 'HOME-PUB-PC-2', 'application_name': 'web-browser'}, request=['network', 'node', 'HOME-PUB-PC-2', 'application', 'web-browser', 'execute'], response=RequestResponse(status='success', data={}), reward=0.2, reward_info={}, observation=0),\n",
       "   'REMOTE_WORKER-1-DB': AgentHistoryItem(timestep=0, action='do-nothing', parameters={}, request=['do-nothing'], response=RequestResponse(status='success', data={}), reward=0.0, reward_info={'connection_attempt_status': 'n/a'}, observation=0),\n",
       "   'REMOTE_WORKER-1-WEB': AgentHistoryItem(timestep=0, action='do-nothing', parameters={}, request=['do-nothing'], response=RequestResponse(status='success', data={}), reward=0.0, reward_info={}, observation=0),\n",
       "   'REMOTE_WORKER-2-DB': AgentHistoryItem(timestep=0, action='do-nothing', parameters={}, request=['do-nothing'], response=RequestResponse(status='success', data={}), reward=0.0, reward_info={'connection_attempt_status': 'n/a'}, observation=0),\n",
       "   'REMOTE_WORKER-2-WEB': AgentHistoryItem(timestep=0, action='node-application-execute', parameters={'node_name': 'REM-PUB-PC-2', 'application_name': 'web-browser'}, request=['network', 'node', 'REM-PUB-PC-2', 'application', 'web-browser', 'execute'], response=RequestResponse(status='success', data={}), reward=0.2, reward_info={}, observation=0),\n",
       "   'PROJ_A-SENIOR-DEV-DB': AgentHistoryItem(timestep=0, action='node-application-execute', parameters={'node_name': 'ST_PROJ-A-PRV-PC-1', 'application_name': 'database-client'}, request=['network', 'node', 'ST_PROJ-A-PRV-PC-1', 'application', 'database-client', 'execute'], response=RequestResponse(status='success', data={}), reward=0.5, reward_info={'connection_attempt_status': 'success'}, observation=0),\n",
       "   'PROJ_A-SENIOR-DEV-WEB': AgentHistoryItem(timestep=0, action='node-application-execute', parameters={'node_name': 'ST_PROJ-A-PRV-PC-1', 'application_name': 'web-browser'}, request=['network', 'node', 'ST_PROJ-A-PRV-PC-1', 'application', 'web-browser', 'execute'], response=RequestResponse(status='success', data={}), reward=0.2, reward_info={}, observation=0),\n",
       "   'PROJ_A-JUNIOR-DEV-1-DB': AgentHistoryItem(timestep=0, action='node-application-execute', parameters={'node_name': 'ST_PROJ-A-PRV-PC-2', 'application_name': 'database-client'}, request=['network', 'node', 'ST_PROJ-A-PRV-PC-2', 'application', 'database-client', 'execute'], response=RequestResponse(status='success', data={}), reward=0.5, reward_info={'connection_attempt_status': 'success'}, observation=0),\n",
       "   'PROJ_A-JUNIOR-DEV-1-WEB': AgentHistoryItem(timestep=0, action='do-nothing', parameters={}, request=['do-nothing'], response=RequestResponse(status='success', data={}), reward=0.0, reward_info={}, observation=0),\n",
       "   'PROJ_A-JUNIOR-DEV-2-DB': AgentHistoryItem(timestep=0, action='do-nothing', parameters={}, request=['do-nothing'], response=RequestResponse(status='success', data={}), reward=0.0, reward_info={'connection_attempt_status': 'n/a'}, observation=0),\n",
       "   'PROJ_A-JUNIOR-DEV-2-WEB': AgentHistoryItem(timestep=0, action='node-application-execute', parameters={'node_name': 'ST_PROJ-A-PRV-PC-3', 'application_name': 'web-browser'}, request=['network', 'node', 'ST_PROJ-A-PRV-PC-3', 'application', 'web-browser', 'execute'], response=RequestResponse(status='success', data={}), reward=0.2, reward_info={}, observation=0),\n",
       "   'PROJ_B-SENIOR-DEV-DB': AgentHistoryItem(timestep=0, action='do-nothing', parameters={}, request=['do-nothing'], response=RequestResponse(status='success', data={}), reward=0.0, reward_info={'connection_attempt_status': 'n/a'}, observation=0),\n",
       "   'PROJ_B-SENIOR-DEV-WEB': AgentHistoryItem(timestep=0, action='node-application-execute', parameters={'node_name': 'ST_PROJ-B-PRV-PC-1', 'application_name': 'web-browser'}, request=['network', 'node', 'ST_PROJ-B-PRV-PC-1', 'application', 'web-browser', 'execute'], response=RequestResponse(status='success', data={}), reward=0.2, reward_info={}, observation=0),\n",
       "   'PROJ_B-JUNIOR-DEV-1-DB': AgentHistoryItem(timestep=0, action='do-nothing', parameters={}, request=['do-nothing'], response=RequestResponse(status='success', data={}), reward=0.0, reward_info={'connection_attempt_status': 'n/a'}, observation=0),\n",
       "   'PROJ_B-JUNIOR-DEV-1-WEB': AgentHistoryItem(timestep=0, action='do-nothing', parameters={}, request=['do-nothing'], response=RequestResponse(status='success', data={}), reward=0.0, reward_info={}, observation=0),\n",
       "   'PROJ_B-JUNIOR-DEV-2-DB': AgentHistoryItem(timestep=0, action='do-nothing', parameters={}, request=['do-nothing'], response=RequestResponse(status='success', data={}), reward=0.0, reward_info={'connection_attempt_status': 'n/a'}, observation=0),\n",
       "   'PROJ_B-JUNIOR-DEV-2-WEB': AgentHistoryItem(timestep=0, action='node-application-execute', parameters={'node_name': 'ST_PROJ-B-PRV-PC-3', 'application_name': 'web-browser'}, request=['network', 'node', 'ST_PROJ-B-PRV-PC-3', 'application', 'web-browser', 'execute'], response=RequestResponse(status='success', data={}), reward=0.2, reward_info={}, observation=0),\n",
       "   'PROJ_C-SENIOR-DEV-DB': AgentHistoryItem(timestep=0, action='do-nothing', parameters={}, request=['do-nothing'], response=RequestResponse(status='success', data={}), reward=0.0, reward_info={'connection_attempt_status': 'n/a'}, observation=0),\n",
       "   'PROJ_C-SENIOR-DEV-WEB': AgentHistoryItem(timestep=0, action='node-application-execute', parameters={'node_name': 'ST_PROJ-C-PRV-PC-1', 'application_name': 'web-browser'}, request=['network', 'node', 'ST_PROJ-C-PRV-PC-1', 'application', 'web-browser', 'execute'], response=RequestResponse(status='success', data={}), reward=0.2, reward_info={}, observation=0),\n",
       "   'PROJ_C-JUNIOR-DEV-1-DB': AgentHistoryItem(timestep=0, action='do-nothing', parameters={}, request=['do-nothing'], response=RequestResponse(status='success', data={}), reward=0.0, reward_info={'connection_attempt_status': 'n/a'}, observation=0),\n",
       "   'PROJ_C-JUNIOR-DEV-1-WEB': AgentHistoryItem(timestep=0, action='do-nothing', parameters={}, request=['do-nothing'], response=RequestResponse(status='success', data={}), reward=0.0, reward_info={}, observation=0),\n",
       "   'PROJ_C-JUNIOR-DEV-2-DB': AgentHistoryItem(timestep=0, action='node-application-execute', parameters={'node_name': 'ST_PROJ-C-PRV-PC-3', 'application_name': 'database-client'}, request=['network', 'node', 'ST_PROJ-C-PRV-PC-3', 'application', 'database-client', 'execute'], response=RequestResponse(status='success', data={}), reward=0.5, reward_info={'connection_attempt_status': 'success'}, observation=0),\n",
       "   'PROJ_C-JUNIOR-DEV-2-WEB': AgentHistoryItem(timestep=0, action='node-application-execute', parameters={'node_name': 'ST_PROJ-C-PRV-PC-3', 'application_name': 'web-browser'}, request=['network', 'node', 'ST_PROJ-C-PRV-PC-3', 'application', 'web-browser', 'execute'], response=RequestResponse(status='success', data={}), reward=0.2, reward_info={}, observation=0),\n",
       "   'CEO': AgentHistoryItem(timestep=0, action='node-application-execute', parameters={'node_name': 'ST_HO-PRV-PC-1', 'application_name': 'web-browser'}, request=['network', 'node', 'ST_HO-PRV-PC-1', 'application', 'web-browser', 'execute'], response=RequestResponse(status='success', data={}), reward=0.95, reward_info={}, observation=0),\n",
       "   'CTO': AgentHistoryItem(timestep=0, action='do-nothing', parameters={}, request=['do-nothing'], response=RequestResponse(status='success', data={}), reward=0.0, reward_info={}, observation=0),\n",
       "   'CFO': AgentHistoryItem(timestep=0, action='node-application-execute', parameters={'node_name': 'ST_HO-PRV-PC-3', 'application_name': 'web-browser'}, request=['network', 'node', 'ST_HO-PRV-PC-3', 'application', 'web-browser', 'execute'], response=RequestResponse(status='success', data={}), reward=0.5, reward_info={}, observation=0),\n",
       "   'SENIOR_HR': AgentHistoryItem(timestep=0, action='node-application-execute', parameters={'node_name': 'ST_HR-PRV-PC-1', 'application_name': 'web-browser'}, request=['network', 'node', 'ST_HR-PRV-PC-1', 'application', 'web-browser', 'execute'], response=RequestResponse(status='success', data={}), reward=0.5, reward_info={}, observation=0),\n",
       "   'JUNIOR_HR-1': AgentHistoryItem(timestep=0, action='node-application-execute', parameters={'node_name': 'ST_HR-PRV-PC-2', 'application_name': 'web-browser'}, request=['network', 'node', 'ST_HR-PRV-PC-2', 'application', 'web-browser', 'execute'], response=RequestResponse(status='success', data={}), reward=0.5, reward_info={}, observation=0),\n",
       "   'JUNIOR_HR-2': AgentHistoryItem(timestep=0, action='do-nothing', parameters={}, request=['do-nothing'], response=RequestResponse(status='success', data={}), reward=0.0, reward_info={}, observation=0),\n",
       "   'attacker': AgentHistoryItem(timestep=0, action='do-nothing', parameters={}, request=['do-nothing'], response=RequestResponse(status='success', data={}), reward=0.0, reward_info={}, observation=0),\n",
       "   'defender': AgentHistoryItem(timestep=0, action='router-acl-add-rule', parameters={'target_router': 'ST_INTRA-PRV-RT-DR-1', 'position': 1, 'permission': 'DENY', 'src_ip': '192.168.230.2', 'src_wildcard': '0.0.255.255', 'src_port': 'SSH', 'dst_ip': 'ALL', 'dst_wildcard': '0.0.255.255', 'dst_port': 'SSH', 'protocol_name': 'TCP'}, request=['network', 'node', 'ST_INTRA-PRV-RT-DR-1', 'acl', 'add_rule', 'DENY', 'tcp', '192.168.230.2', '0.0.255.255', 22, 'ALL', '0.0.255.255', 22, 1], response=RequestResponse(status='success', data={}), reward=1.1078125000000003, reward_info={}, observation={'NODES': {'HOST0': {'SERVICES': {1: {'operating_status': 2, 'health_status': 0}, 2: {'operating_status': 0, 'health_status': 0}}, 'APPLICATIONS': {1: {'operating_status': 0, 'health_status': 0, 'num_executions': 0}, 2: {'operating_status': 1, 'health_status': 0, 'num_executions': 0}}, 'FOLDERS': {1: {'health_status': 0, 'FILES': {1: {'health_status': 0, 'num_access': 0}}}, 2: {'health_status': 0, 'FILES': {1: {'health_status': 0, 'num_access': 0}}}}, 'NICS': {1: {'nic_status': 1, 'TRAFFIC': {'tcp': {80: {'inbound': 0, 'outbound': 0}, 5432: {'inbound': 0, 'outbound': 0}}, 'icmp': {'inbound': 0, 'outbound': 0}}, 'NMNE': {'inbound': 0, 'outbound': 0}}}, 'num_file_creations': 0, 'num_file_deletions': 0, 'users': {'local_login': 0, 'remote_sessions': 0}, 'operating_status': 1}, 'HOST1': {'SERVICES': {1: {'operating_status': 2, 'health_status': 0}, 2: {'operating_status': 0, 'health_status': 0}}, 'APPLICATIONS': {1: {'operating_status': 0, 'health_status': 0, 'num_executions': 0}, 2: {'operating_status': 1, 'health_status': 0, 'num_executions': 0}}, 'FOLDERS': {1: {'health_status': 0, 'FILES': {1: {'health_status': 0, 'num_access': 0}}}, 2: {'health_status': 0, 'FILES': {1: {'health_status': 0, 'num_access': 0}}}}, 'NICS': {1: {'nic_status': 1, 'TRAFFIC': {'tcp': {80: {'inbound': 0, 'outbound': 0}, 5432: {'inbound': 0, 'outbound': 0}}, 'icmp': {'inbound': 0, 'outbound': 0}}, 'NMNE': {'inbound': 0, 'outbound': 0}}}, 'num_file_creations': 0, 'num_file_deletions': 0, 'users': {'local_login': 0, 'remote_sessions': 0}, 'operating_status': 1}, 'HOST2': {'SERVICES': {1: {'operating_status': 2, 'health_status': 0}, 2: {'operating_status': 0, 'health_status': 0}}, 'APPLICATIONS': {1: {'operating_status': 0, 'health_status': 0, 'num_executions': 0}, 2: {'operating_status': 1, 'health_status': 0, 'num_executions': 0}}, 'FOLDERS': {1: {'health_status': 0, 'FILES': {1: {'health_status': 0, 'num_access': 0}}}, 2: {'health_status': 0, 'FILES': {1: {'health_status': 0, 'num_access': 0}}}}, 'NICS': {1: {'nic_status': 1, 'TRAFFIC': {'tcp': {80: {'inbound': 0, 'outbound': 0}, 5432: {'inbound': 0, 'outbound': 0}}, 'icmp': {'inbound': 0, 'outbound': 0}}, 'NMNE': {'inbound': 0, 'outbound': 0}}}, 'num_file_creations': 0, 'num_file_deletions': 0, 'users': {'local_login': 0, 'remote_sessions': 0}, 'operating_status': 1}, 'HOST3': {'SERVICES': {1: {'operating_status': 0, 'health_status': 0}, 2: {'operating_status': 0, 'health_status': 0}}, 'APPLICATIONS': {1: {'operating_status': 0, 'health_status': 0, 'num_executions': 0}, 2: {'operating_status': 0, 'health_status': 0, 'num_executions': 0}}, 'FOLDERS': {1: {'health_status': 0, 'FILES': {1: {'health_status': 0, 'num_access': 0}}}, 2: {'health_status': 0, 'FILES': {1: {'health_status': 0, 'num_access': 0}}}}, 'NICS': {1: {'nic_status': 1, 'TRAFFIC': {'tcp': {80: {'inbound': 0, 'outbound': 0}, 5432: {'inbound': 0, 'outbound': 0}}, 'icmp': {'inbound': 0, 'outbound': 0}}, 'NMNE': {'inbound': 0, 'outbound': 0}}}, 'num_file_creations': 1, 'num_file_deletions': 0, 'users': {'local_login': 0, 'remote_sessions': 0}, 'operating_status': 1}, 'ROUTER0': {'ACL': {0: {'position': 0, 'permission': 0, 'source_ip_id': 0, 'source_wildcard_id': 0, 'source_port_id': 0, 'dest_ip_id': 0, 'dest_wildcard_id': 0, 'dest_port_id': 0, 'protocol_id': 0}, 1: {'position': 1, 'permission': 0, 'source_ip_id': 0, 'source_wildcard_id': 0, 'source_port_id': 0, 'dest_ip_id': 0, 'dest_wildcard_id': 0, 'dest_port_id': 0, 'protocol_id': 0}, 2: {'position': 2, 'permission': 0, 'source_ip_id': 0, 'source_wildcard_id': 0, 'source_port_id': 0, 'dest_ip_id': 0, 'dest_wildcard_id': 0, 'dest_port_id': 0, 'protocol_id': 0}, 3: {'position': 3, 'permission': 0, 'source_ip_id': 0, 'source_wildcard_id': 0, 'source_port_id': 0, 'dest_ip_id': 0, 'dest_wildcard_id': 0, 'dest_port_id': 0, 'protocol_id': 0}, 4: {'position': 4, 'permission': 0, 'source_ip_id': 0, 'source_wildcard_id': 0, 'source_port_id': 0, 'dest_ip_id': 0, 'dest_wildcard_id': 0, 'dest_port_id': 0, 'protocol_id': 0}}, 'PORTS': {1: {'operating_status': 1}, 2: {'operating_status': 1}, 3: {'operating_status': 1}, 4: {'operating_status': 1}, 5: {'operating_status': 2}}, 'users': {'local_login': 0, 'remote_sessions': 0}}, 'ROUTER1': {'ACL': {0: {'position': 0, 'permission': 0, 'source_ip_id': 0, 'source_wildcard_id': 0, 'source_port_id': 0, 'dest_ip_id': 0, 'dest_wildcard_id': 0, 'dest_port_id': 0, 'protocol_id': 0}, 1: {'position': 1, 'permission': 0, 'source_ip_id': 0, 'source_wildcard_id': 0, 'source_port_id': 0, 'dest_ip_id': 0, 'dest_wildcard_id': 0, 'dest_port_id': 0, 'protocol_id': 0}, 2: {'position': 2, 'permission': 0, 'source_ip_id': 0, 'source_wildcard_id': 0, 'source_port_id': 0, 'dest_ip_id': 0, 'dest_wildcard_id': 0, 'dest_port_id': 0, 'protocol_id': 0}, 3: {'position': 3, 'permission': 0, 'source_ip_id': 0, 'source_wildcard_id': 0, 'source_port_id': 0, 'dest_ip_id': 0, 'dest_wildcard_id': 0, 'dest_port_id': 0, 'protocol_id': 0}, 4: {'position': 4, 'permission': 0, 'source_ip_id': 0, 'source_wildcard_id': 0, 'source_port_id': 0, 'dest_ip_id': 0, 'dest_wildcard_id': 0, 'dest_port_id': 0, 'protocol_id': 0}}, 'PORTS': {1: {'operating_status': 1}, 2: {'operating_status': 1}, 3: {'operating_status': 1}, 4: {'operating_status': 1}, 5: {'operating_status': 2}}, 'users': {'local_login': 0, 'remote_sessions': 0}}, 'ROUTER2': {'ACL': {0: {'position': 0, 'permission': 0, 'source_ip_id': 0, 'source_wildcard_id': 0, 'source_port_id': 0, 'dest_ip_id': 0, 'dest_wildcard_id': 0, 'dest_port_id': 0, 'protocol_id': 0}, 1: {'position': 1, 'permission': 0, 'source_ip_id': 0, 'source_wildcard_id': 0, 'source_port_id': 0, 'dest_ip_id': 0, 'dest_wildcard_id': 0, 'dest_port_id': 0, 'protocol_id': 0}, 2: {'position': 2, 'permission': 0, 'source_ip_id': 0, 'source_wildcard_id': 0, 'source_port_id': 0, 'dest_ip_id': 0, 'dest_wildcard_id': 0, 'dest_port_id': 0, 'protocol_id': 0}, 3: {'position': 3, 'permission': 0, 'source_ip_id': 0, 'source_wildcard_id': 0, 'source_port_id': 0, 'dest_ip_id': 0, 'dest_wildcard_id': 0, 'dest_port_id': 0, 'protocol_id': 0}, 4: {'position': 4, 'permission': 0, 'source_ip_id': 0, 'source_wildcard_id': 0, 'source_port_id': 0, 'dest_ip_id': 0, 'dest_wildcard_id': 0, 'dest_port_id': 0, 'protocol_id': 0}}, 'PORTS': {1: {'operating_status': 1}, 2: {'operating_status': 1}, 3: {'operating_status': 2}, 4: {'operating_status': 2}, 5: {'operating_status': 2}}, 'users': {'local_login': 0, 'remote_sessions': 0}}}, 'LINKS': {1: {'PROTOCOLS': {'ALL': 1}}, 2: {'PROTOCOLS': {'ALL': 0}}, 3: {'PROTOCOLS': {'ALL': 0}}, 4: {'PROTOCOLS': {'ALL': 0}}, 5: {'PROTOCOLS': {'ALL': 0}}, 6: {'PROTOCOLS': {'ALL': 1}}, 7: {'PROTOCOLS': {'ALL': 0}}, 8: {'PROTOCOLS': {'ALL': 0}}, 9: {'PROTOCOLS': {'ALL': 1}}, 10: {'PROTOCOLS': {'ALL': 1}}, 11: {'PROTOCOLS': {'ALL': 1}}, 12: {'PROTOCOLS': {'ALL': 1}}, 13: {'PROTOCOLS': {'ALL': 0}}, 14: {'PROTOCOLS': {'ALL': 1}}, 15: {'PROTOCOLS': {'ALL': 0}}, 16: {'PROTOCOLS': {'ALL': 0}}, 17: {'PROTOCOLS': {'ALL': 0}}, 18: {'PROTOCOLS': {'ALL': 1}}, 19: {'PROTOCOLS': {'ALL': 1}}, 20: {'PROTOCOLS': {'ALL': 1}}, 21: {'PROTOCOLS': {'ALL': 1}}, 22: {'PROTOCOLS': {'ALL': 1}}, 23: {'PROTOCOLS': {'ALL': 1}}, 24: {'PROTOCOLS': {'ALL': 1}}, 25: {'PROTOCOLS': {'ALL': 1}}, 26: {'PROTOCOLS': {'ALL': 1}}, 27: {'PROTOCOLS': {'ALL': 1}}, 28: {'PROTOCOLS': {'ALL': 1}}, 29: {'PROTOCOLS': {'ALL': 1}}, 30: {'PROTOCOLS': {'ALL': 0}}, 31: {'PROTOCOLS': {'ALL': 0}}, 32: {'PROTOCOLS': {'ALL': 0}}, 33: {'PROTOCOLS': {'ALL': 1}}, 34: {'PROTOCOLS': {'ALL': 0}}, 35: {'PROTOCOLS': {'ALL': 0}}, 36: {'PROTOCOLS': {'ALL': 0}}, 37: {'PROTOCOLS': {'ALL': 1}}, 38: {'PROTOCOLS': {'ALL': 0}}, 39: {'PROTOCOLS': {'ALL': 0}}, 40: {'PROTOCOLS': {'ALL': 0}}}})}})"
      ]
     },
     "execution_count": 26,
     "metadata": {},
     "output_type": "execute_result"
    }
   ],
   "source": [
    "env.reset()\n",
    "env.step(51) # SSH Blocking ACL on ST_INRA-PRV-RT-R1"
   ]
  },
  {
   "cell_type": "markdown",
   "metadata": {},
   "source": [
    "```yaml\n",
    "\n",
    "# ST_INTRA-PRV-RT-DR-1 | router-acl-add-rule | P1: ST_INTRA-PRV-RT-DR-1 !==> ANY (TCP:SSH)\n",
    "51:\n",
    "  action: router-acl-add-rule\n",
    "  options:\n",
    "    target_router: ST_INTRA-PRV-RT-DR-1\n",
    "    position: 1\n",
    "    permission: DENY\n",
    "    src_ip: 192.168.230.2 # (ST_PROJ-A-PRV-PC-1)\n",
    "    src_wildcard: 0.0.255.255\n",
    "    src_port: SSH\n",
    "    dst_ip: ALL\n",
    "    dst_wildcard: 0.0.255.255\n",
    "    dst_port: SSH\n",
    "    protocol_name: TCP\n",
    "\n",
    "```"
   ]
  },
  {
   "cell_type": "code",
   "execution_count": 27,
   "metadata": {
    "execution": {
     "iopub.execute_input": "2025-03-24T10:00:54.629450Z",
     "iopub.status.busy": "2025-03-24T10:00:54.629048Z",
     "iopub.status.idle": "2025-03-24T10:01:02.672155Z",
     "shell.execute_reply": "2025-03-24T10:01:02.671386Z"
    }
   },
   "outputs": [
    {
     "name": "stdout",
     "output_type": "stream",
     "text": [
      "Total reward this episode: 170.906250\n",
      "HOME_WORKER-1-DB 62.0\n",
      "HOME_WORKER-1-WEB 24.999999999999943\n",
      "HOME_WORKER-2-DB 59.5\n",
      "HOME_WORKER-2-WEB 25.59999999999994\n",
      "REMOTE_WORKER-1-DB 58.5\n",
      "REMOTE_WORKER-1-WEB 25.39999999999994\n",
      "REMOTE_WORKER-2-DB 56.0\n",
      "REMOTE_WORKER-2-WEB 25.59999999999994\n",
      "PROJ_A-SENIOR-DEV-DB 64.0\n",
      "PROJ_A-SENIOR-DEV-WEB 25.59999999999994\n",
      "PROJ_A-JUNIOR-DEV-1-DB 64.0\n",
      "PROJ_A-JUNIOR-DEV-1-WEB 24.599999999999945\n",
      "PROJ_A-JUNIOR-DEV-2-DB 63.0\n",
      "PROJ_A-JUNIOR-DEV-2-WEB 25.59999999999994\n",
      "PROJ_B-SENIOR-DEV-DB 63.5\n",
      "PROJ_B-SENIOR-DEV-WEB 25.59999999999994\n",
      "PROJ_B-JUNIOR-DEV-1-DB 63.5\n",
      "PROJ_B-JUNIOR-DEV-1-WEB 25.199999999999942\n",
      "PROJ_B-JUNIOR-DEV-2-DB 63.5\n",
      "PROJ_B-JUNIOR-DEV-2-WEB 25.59999999999994\n",
      "PROJ_C-SENIOR-DEV-DB 63.0\n",
      "PROJ_C-SENIOR-DEV-WEB 25.59999999999994\n",
      "PROJ_C-JUNIOR-DEV-1-DB 63.5\n",
      "PROJ_C-JUNIOR-DEV-1-WEB 24.799999999999944\n",
      "PROJ_C-JUNIOR-DEV-2-DB 64.0\n",
      "PROJ_C-JUNIOR-DEV-2-WEB 25.59999999999994\n",
      "CEO 121.60000000000025\n",
      "CTO 62.5\n",
      "CFO 64.0\n",
      "SENIOR_HR 64.0\n",
      "JUNIOR_HR-1 64.0\n",
      "JUNIOR_HR-2 63.5\n",
      "attacker 0.0\n",
      "defender 170.9062499999996\n"
     ]
    }
   ],
   "source": [
    "finish_episode_and_print_reward()\n",
    "\n",
    "for ag in env.game.agents.values():\n",
    "    print(ag.config.ref, ag.reward_function.total_reward)"
   ]
  },
  {
   "cell_type": "markdown",
   "metadata": {},
   "source": [
    "Additionally, another option the blue agent can take is to change the passwords of the different target routers that TAP003 will attack through the `node-account-change-password` action."
   ]
  },
  {
   "cell_type": "code",
   "execution_count": 28,
   "metadata": {
    "execution": {
     "iopub.execute_input": "2025-03-24T10:01:02.675049Z",
     "iopub.status.busy": "2025-03-24T10:01:02.674816Z",
     "iopub.status.idle": "2025-03-24T10:01:03.463138Z",
     "shell.execute_reply": "2025-03-24T10:01:03.462368Z"
    }
   },
   "outputs": [
    {
     "name": "stderr",
     "output_type": "stream",
     "text": [
      "2025-03-24 10:01:02,675: Resetting environment, episode 7, avg. reward: 170.9062499999996\n"
     ]
    },
    {
     "name": "stderr",
     "output_type": "stream",
     "text": [
      "2025-03-24 10:01:02,678: Saving agent action log to /home/runner/primaite/4.0.0/sessions/2025-03-24/09-59-59/agent_actions/episode_7.json\n"
     ]
    },
    {
     "data": {
      "text/plain": [
       "({'NODES': {'HOST0': {'SERVICES': {1: {'operating_status': 2,\n",
       "      'health_status': 0},\n",
       "     2: {'operating_status': 0, 'health_status': 0}},\n",
       "    'APPLICATIONS': {1: {'operating_status': 0,\n",
       "      'health_status': 0,\n",
       "      'num_executions': 0},\n",
       "     2: {'operating_status': 1, 'health_status': 0, 'num_executions': 0}},\n",
       "    'FOLDERS': {1: {'health_status': 0,\n",
       "      'FILES': {1: {'health_status': 0, 'num_access': 0}}},\n",
       "     2: {'health_status': 0,\n",
       "      'FILES': {1: {'health_status': 0, 'num_access': 0}}}},\n",
       "    'NICS': {1: {'nic_status': 1,\n",
       "      'TRAFFIC': {'tcp': {80: {'inbound': 0, 'outbound': 0},\n",
       "        5432: {'inbound': 0, 'outbound': 0}},\n",
       "       'icmp': {'inbound': 0, 'outbound': 0}},\n",
       "      'NMNE': {'inbound': 0, 'outbound': 0}}},\n",
       "    'num_file_creations': 0,\n",
       "    'num_file_deletions': 0,\n",
       "    'users': {'local_login': 0, 'remote_sessions': 0},\n",
       "    'operating_status': 1},\n",
       "   'HOST1': {'SERVICES': {1: {'operating_status': 2, 'health_status': 0},\n",
       "     2: {'operating_status': 0, 'health_status': 0}},\n",
       "    'APPLICATIONS': {1: {'operating_status': 0,\n",
       "      'health_status': 0,\n",
       "      'num_executions': 0},\n",
       "     2: {'operating_status': 1, 'health_status': 0, 'num_executions': 0}},\n",
       "    'FOLDERS': {1: {'health_status': 0,\n",
       "      'FILES': {1: {'health_status': 0, 'num_access': 0}}},\n",
       "     2: {'health_status': 0,\n",
       "      'FILES': {1: {'health_status': 0, 'num_access': 0}}}},\n",
       "    'NICS': {1: {'nic_status': 1,\n",
       "      'TRAFFIC': {'tcp': {80: {'inbound': 0, 'outbound': 0},\n",
       "        5432: {'inbound': 0, 'outbound': 0}},\n",
       "       'icmp': {'inbound': 0, 'outbound': 0}},\n",
       "      'NMNE': {'inbound': 0, 'outbound': 0}}},\n",
       "    'num_file_creations': 0,\n",
       "    'num_file_deletions': 0,\n",
       "    'users': {'local_login': 0, 'remote_sessions': 0},\n",
       "    'operating_status': 1},\n",
       "   'HOST2': {'SERVICES': {1: {'operating_status': 2, 'health_status': 0},\n",
       "     2: {'operating_status': 0, 'health_status': 0}},\n",
       "    'APPLICATIONS': {1: {'operating_status': 0,\n",
       "      'health_status': 0,\n",
       "      'num_executions': 0},\n",
       "     2: {'operating_status': 1, 'health_status': 0, 'num_executions': 0}},\n",
       "    'FOLDERS': {1: {'health_status': 0,\n",
       "      'FILES': {1: {'health_status': 0, 'num_access': 0}}},\n",
       "     2: {'health_status': 0,\n",
       "      'FILES': {1: {'health_status': 0, 'num_access': 0}}}},\n",
       "    'NICS': {1: {'nic_status': 1,\n",
       "      'TRAFFIC': {'tcp': {80: {'inbound': 0, 'outbound': 0},\n",
       "        5432: {'inbound': 0, 'outbound': 0}},\n",
       "       'icmp': {'inbound': 0, 'outbound': 0}},\n",
       "      'NMNE': {'inbound': 0, 'outbound': 0}}},\n",
       "    'num_file_creations': 0,\n",
       "    'num_file_deletions': 0,\n",
       "    'users': {'local_login': 0, 'remote_sessions': 0},\n",
       "    'operating_status': 1},\n",
       "   'HOST3': {'SERVICES': {1: {'operating_status': 0, 'health_status': 0},\n",
       "     2: {'operating_status': 0, 'health_status': 0}},\n",
       "    'APPLICATIONS': {1: {'operating_status': 0,\n",
       "      'health_status': 0,\n",
       "      'num_executions': 0},\n",
       "     2: {'operating_status': 0, 'health_status': 0, 'num_executions': 0}},\n",
       "    'FOLDERS': {1: {'health_status': 0,\n",
       "      'FILES': {1: {'health_status': 0, 'num_access': 0}}},\n",
       "     2: {'health_status': 0,\n",
       "      'FILES': {1: {'health_status': 0, 'num_access': 0}}}},\n",
       "    'NICS': {1: {'nic_status': 1,\n",
       "      'TRAFFIC': {'tcp': {80: {'inbound': 0, 'outbound': 0},\n",
       "        5432: {'inbound': 0, 'outbound': 0}},\n",
       "       'icmp': {'inbound': 0, 'outbound': 0}},\n",
       "      'NMNE': {'inbound': 0, 'outbound': 0}}},\n",
       "    'num_file_creations': 1,\n",
       "    'num_file_deletions': 0,\n",
       "    'users': {'local_login': 0, 'remote_sessions': 0},\n",
       "    'operating_status': 1},\n",
       "   'ROUTER0': {'ACL': {0: {'position': 0,\n",
       "      'permission': 0,\n",
       "      'source_ip_id': 0,\n",
       "      'source_wildcard_id': 0,\n",
       "      'source_port_id': 0,\n",
       "      'dest_ip_id': 0,\n",
       "      'dest_wildcard_id': 0,\n",
       "      'dest_port_id': 0,\n",
       "      'protocol_id': 0},\n",
       "     1: {'position': 1,\n",
       "      'permission': 0,\n",
       "      'source_ip_id': 0,\n",
       "      'source_wildcard_id': 0,\n",
       "      'source_port_id': 0,\n",
       "      'dest_ip_id': 0,\n",
       "      'dest_wildcard_id': 0,\n",
       "      'dest_port_id': 0,\n",
       "      'protocol_id': 0},\n",
       "     2: {'position': 2,\n",
       "      'permission': 0,\n",
       "      'source_ip_id': 0,\n",
       "      'source_wildcard_id': 0,\n",
       "      'source_port_id': 0,\n",
       "      'dest_ip_id': 0,\n",
       "      'dest_wildcard_id': 0,\n",
       "      'dest_port_id': 0,\n",
       "      'protocol_id': 0},\n",
       "     3: {'position': 3,\n",
       "      'permission': 0,\n",
       "      'source_ip_id': 0,\n",
       "      'source_wildcard_id': 0,\n",
       "      'source_port_id': 0,\n",
       "      'dest_ip_id': 0,\n",
       "      'dest_wildcard_id': 0,\n",
       "      'dest_port_id': 0,\n",
       "      'protocol_id': 0},\n",
       "     4: {'position': 4,\n",
       "      'permission': 0,\n",
       "      'source_ip_id': 0,\n",
       "      'source_wildcard_id': 0,\n",
       "      'source_port_id': 0,\n",
       "      'dest_ip_id': 0,\n",
       "      'dest_wildcard_id': 0,\n",
       "      'dest_port_id': 0,\n",
       "      'protocol_id': 0}},\n",
       "    'PORTS': {1: {'operating_status': 1},\n",
       "     2: {'operating_status': 1},\n",
       "     3: {'operating_status': 1},\n",
       "     4: {'operating_status': 1},\n",
       "     5: {'operating_status': 2}},\n",
       "    'users': {'local_login': 0, 'remote_sessions': 0}},\n",
       "   'ROUTER1': {'ACL': {0: {'position': 0,\n",
       "      'permission': 0,\n",
       "      'source_ip_id': 0,\n",
       "      'source_wildcard_id': 0,\n",
       "      'source_port_id': 0,\n",
       "      'dest_ip_id': 0,\n",
       "      'dest_wildcard_id': 0,\n",
       "      'dest_port_id': 0,\n",
       "      'protocol_id': 0},\n",
       "     1: {'position': 1,\n",
       "      'permission': 0,\n",
       "      'source_ip_id': 0,\n",
       "      'source_wildcard_id': 0,\n",
       "      'source_port_id': 0,\n",
       "      'dest_ip_id': 0,\n",
       "      'dest_wildcard_id': 0,\n",
       "      'dest_port_id': 0,\n",
       "      'protocol_id': 0},\n",
       "     2: {'position': 2,\n",
       "      'permission': 0,\n",
       "      'source_ip_id': 0,\n",
       "      'source_wildcard_id': 0,\n",
       "      'source_port_id': 0,\n",
       "      'dest_ip_id': 0,\n",
       "      'dest_wildcard_id': 0,\n",
       "      'dest_port_id': 0,\n",
       "      'protocol_id': 0},\n",
       "     3: {'position': 3,\n",
       "      'permission': 0,\n",
       "      'source_ip_id': 0,\n",
       "      'source_wildcard_id': 0,\n",
       "      'source_port_id': 0,\n",
       "      'dest_ip_id': 0,\n",
       "      'dest_wildcard_id': 0,\n",
       "      'dest_port_id': 0,\n",
       "      'protocol_id': 0},\n",
       "     4: {'position': 4,\n",
       "      'permission': 0,\n",
       "      'source_ip_id': 0,\n",
       "      'source_wildcard_id': 0,\n",
       "      'source_port_id': 0,\n",
       "      'dest_ip_id': 0,\n",
       "      'dest_wildcard_id': 0,\n",
       "      'dest_port_id': 0,\n",
       "      'protocol_id': 0}},\n",
       "    'PORTS': {1: {'operating_status': 1},\n",
       "     2: {'operating_status': 1},\n",
       "     3: {'operating_status': 1},\n",
       "     4: {'operating_status': 1},\n",
       "     5: {'operating_status': 2}},\n",
       "    'users': {'local_login': 0, 'remote_sessions': 0}},\n",
       "   'ROUTER2': {'ACL': {0: {'position': 0,\n",
       "      'permission': 0,\n",
       "      'source_ip_id': 0,\n",
       "      'source_wildcard_id': 0,\n",
       "      'source_port_id': 0,\n",
       "      'dest_ip_id': 0,\n",
       "      'dest_wildcard_id': 0,\n",
       "      'dest_port_id': 0,\n",
       "      'protocol_id': 0},\n",
       "     1: {'position': 1,\n",
       "      'permission': 0,\n",
       "      'source_ip_id': 0,\n",
       "      'source_wildcard_id': 0,\n",
       "      'source_port_id': 0,\n",
       "      'dest_ip_id': 0,\n",
       "      'dest_wildcard_id': 0,\n",
       "      'dest_port_id': 0,\n",
       "      'protocol_id': 0},\n",
       "     2: {'position': 2,\n",
       "      'permission': 0,\n",
       "      'source_ip_id': 0,\n",
       "      'source_wildcard_id': 0,\n",
       "      'source_port_id': 0,\n",
       "      'dest_ip_id': 0,\n",
       "      'dest_wildcard_id': 0,\n",
       "      'dest_port_id': 0,\n",
       "      'protocol_id': 0},\n",
       "     3: {'position': 3,\n",
       "      'permission': 0,\n",
       "      'source_ip_id': 0,\n",
       "      'source_wildcard_id': 0,\n",
       "      'source_port_id': 0,\n",
       "      'dest_ip_id': 0,\n",
       "      'dest_wildcard_id': 0,\n",
       "      'dest_port_id': 0,\n",
       "      'protocol_id': 0},\n",
       "     4: {'position': 4,\n",
       "      'permission': 0,\n",
       "      'source_ip_id': 0,\n",
       "      'source_wildcard_id': 0,\n",
       "      'source_port_id': 0,\n",
       "      'dest_ip_id': 0,\n",
       "      'dest_wildcard_id': 0,\n",
       "      'dest_port_id': 0,\n",
       "      'protocol_id': 0}},\n",
       "    'PORTS': {1: {'operating_status': 1},\n",
       "     2: {'operating_status': 1},\n",
       "     3: {'operating_status': 2},\n",
       "     4: {'operating_status': 2},\n",
       "     5: {'operating_status': 2}},\n",
       "    'users': {'local_login': 0, 'remote_sessions': 0}}},\n",
       "  'LINKS': {1: {'PROTOCOLS': {'ALL': 1}},\n",
       "   2: {'PROTOCOLS': {'ALL': 0}},\n",
       "   3: {'PROTOCOLS': {'ALL': 0}},\n",
       "   4: {'PROTOCOLS': {'ALL': 0}},\n",
       "   5: {'PROTOCOLS': {'ALL': 0}},\n",
       "   6: {'PROTOCOLS': {'ALL': 1}},\n",
       "   7: {'PROTOCOLS': {'ALL': 0}},\n",
       "   8: {'PROTOCOLS': {'ALL': 0}},\n",
       "   9: {'PROTOCOLS': {'ALL': 1}},\n",
       "   10: {'PROTOCOLS': {'ALL': 1}},\n",
       "   11: {'PROTOCOLS': {'ALL': 1}},\n",
       "   12: {'PROTOCOLS': {'ALL': 1}},\n",
       "   13: {'PROTOCOLS': {'ALL': 0}},\n",
       "   14: {'PROTOCOLS': {'ALL': 1}},\n",
       "   15: {'PROTOCOLS': {'ALL': 0}},\n",
       "   16: {'PROTOCOLS': {'ALL': 0}},\n",
       "   17: {'PROTOCOLS': {'ALL': 0}},\n",
       "   18: {'PROTOCOLS': {'ALL': 1}},\n",
       "   19: {'PROTOCOLS': {'ALL': 1}},\n",
       "   20: {'PROTOCOLS': {'ALL': 1}},\n",
       "   21: {'PROTOCOLS': {'ALL': 1}},\n",
       "   22: {'PROTOCOLS': {'ALL': 1}},\n",
       "   23: {'PROTOCOLS': {'ALL': 1}},\n",
       "   24: {'PROTOCOLS': {'ALL': 1}},\n",
       "   25: {'PROTOCOLS': {'ALL': 1}},\n",
       "   26: {'PROTOCOLS': {'ALL': 1}},\n",
       "   27: {'PROTOCOLS': {'ALL': 1}},\n",
       "   28: {'PROTOCOLS': {'ALL': 1}},\n",
       "   29: {'PROTOCOLS': {'ALL': 1}},\n",
       "   30: {'PROTOCOLS': {'ALL': 0}},\n",
       "   31: {'PROTOCOLS': {'ALL': 0}},\n",
       "   32: {'PROTOCOLS': {'ALL': 0}},\n",
       "   33: {'PROTOCOLS': {'ALL': 1}},\n",
       "   34: {'PROTOCOLS': {'ALL': 0}},\n",
       "   35: {'PROTOCOLS': {'ALL': 0}},\n",
       "   36: {'PROTOCOLS': {'ALL': 0}},\n",
       "   37: {'PROTOCOLS': {'ALL': 1}},\n",
       "   38: {'PROTOCOLS': {'ALL': 0}},\n",
       "   39: {'PROTOCOLS': {'ALL': 0}},\n",
       "   40: {'PROTOCOLS': {'ALL': 0}}}},\n",
       " {})"
      ]
     },
     "execution_count": 28,
     "metadata": {},
     "output_type": "execute_result"
    }
   ],
   "source": [
    "env.reset()"
   ]
  },
  {
   "cell_type": "markdown",
   "metadata": {},
   "source": [
    "```yaml\n",
    "\n",
    "# ST_DATA-PRV-SRV-DB | node-account-change-password | Changes the password of a user account\n",
    "50:\n",
    "    action: node-account-change-password\n",
    "    options:\n",
    "    node_name: ST_DATA-PRV-SRV-DB\n",
    "    username: admin   # default account\n",
    "    current_password: admin   # default password\n",
    "    new_password: thr33_alert_wolv3z # A more 'secure' password\n",
    "    \n",
    "```\n"
   ]
  },
  {
   "cell_type": "code",
   "execution_count": 29,
   "metadata": {
    "execution": {
     "iopub.execute_input": "2025-03-24T10:01:03.466017Z",
     "iopub.status.busy": "2025-03-24T10:01:03.465663Z",
     "iopub.status.idle": "2025-03-24T10:01:03.587613Z",
     "shell.execute_reply": "2025-03-24T10:01:03.586872Z"
    }
   },
   "outputs": [],
   "source": [
    "env.step(50); "
   ]
  },
  {
   "cell_type": "markdown",
   "metadata": {},
   "source": [
    "```yaml\n",
    "\n",
    "# ST_INTRA-PRV-RT-DR-1 | node-account-change-password\n",
    "52:\n",
    "    action: node-account-change-password\n",
    "    options:\n",
    "    node_name: ST_INTRA-PRV-RT-DR-1\n",
    "    username: admin\n",
    "    current_password: admin\n",
    "    new_password: secure_password\n",
    "\n",
    "```"
   ]
  },
  {
   "cell_type": "code",
   "execution_count": 30,
   "metadata": {
    "execution": {
     "iopub.execute_input": "2025-03-24T10:01:03.590828Z",
     "iopub.status.busy": "2025-03-24T10:01:03.590610Z",
     "iopub.status.idle": "2025-03-24T10:01:03.674490Z",
     "shell.execute_reply": "2025-03-24T10:01:03.673920Z"
    }
   },
   "outputs": [],
   "source": [
    "env.step(52);"
   ]
  },
  {
   "cell_type": "markdown",
   "metadata": {},
   "source": [
    "```yaml\n",
    "\n",
    "# REM-PUB-RT-DR | node-account-change-password\n",
    "54:\n",
    "    action: node-account-change-password\n",
    "    options:\n",
    "    node_name: REM-PUB-RT-DR\n",
    "    username: admin\n",
    "    current_password: admin\n",
    "    new_password: secure_password\n",
    "\n",
    "```"
   ]
  },
  {
   "cell_type": "code",
   "execution_count": 31,
   "metadata": {
    "execution": {
     "iopub.execute_input": "2025-03-24T10:01:03.677518Z",
     "iopub.status.busy": "2025-03-24T10:01:03.677297Z",
     "iopub.status.idle": "2025-03-24T10:01:03.749856Z",
     "shell.execute_reply": "2025-03-24T10:01:03.749265Z"
    }
   },
   "outputs": [],
   "source": [
    "env.step(54); "
   ]
  },
  {
   "cell_type": "code",
   "execution_count": 32,
   "metadata": {
    "execution": {
     "iopub.execute_input": "2025-03-24T10:01:03.753259Z",
     "iopub.status.busy": "2025-03-24T10:01:03.752633Z",
     "iopub.status.idle": "2025-03-24T10:01:11.535318Z",
     "shell.execute_reply": "2025-03-24T10:01:11.534582Z"
    }
   },
   "outputs": [
    {
     "name": "stdout",
     "output_type": "stream",
     "text": [
      "Total reward this episode: 170.606250\n",
      "HOME_WORKER-1-DB 61.5\n",
      "HOME_WORKER-1-WEB 24.199999999999946\n",
      "HOME_WORKER-2-DB 60.5\n",
      "HOME_WORKER-2-WEB 25.59999999999994\n",
      "REMOTE_WORKER-1-DB 58.5\n",
      "REMOTE_WORKER-1-WEB 24.599999999999945\n",
      "REMOTE_WORKER-2-DB 56.5\n",
      "REMOTE_WORKER-2-WEB 25.39999999999994\n",
      "PROJ_A-SENIOR-DEV-DB 63.0\n",
      "PROJ_A-SENIOR-DEV-WEB 25.39999999999994\n",
      "PROJ_A-JUNIOR-DEV-1-DB 64.0\n",
      "PROJ_A-JUNIOR-DEV-1-WEB 24.799999999999944\n",
      "PROJ_A-JUNIOR-DEV-2-DB 64.0\n",
      "PROJ_A-JUNIOR-DEV-2-WEB 25.39999999999994\n",
      "PROJ_B-SENIOR-DEV-DB 63.0\n",
      "PROJ_B-SENIOR-DEV-WEB 24.999999999999943\n",
      "PROJ_B-JUNIOR-DEV-1-DB 63.0\n",
      "PROJ_B-JUNIOR-DEV-1-WEB 25.59999999999994\n",
      "PROJ_B-JUNIOR-DEV-2-DB 63.0\n",
      "PROJ_B-JUNIOR-DEV-2-WEB 22.99999999999995\n",
      "PROJ_C-SENIOR-DEV-DB 63.5\n",
      "PROJ_C-SENIOR-DEV-WEB 25.59999999999994\n",
      "PROJ_C-JUNIOR-DEV-1-DB 64.0\n",
      "PROJ_C-JUNIOR-DEV-1-WEB 25.59999999999994\n",
      "PROJ_C-JUNIOR-DEV-2-DB 64.0\n",
      "PROJ_C-JUNIOR-DEV-2-WEB 22.99999999999995\n",
      "CEO 121.60000000000025\n",
      "CTO 63.5\n",
      "CFO 63.0\n",
      "SENIOR_HR 64.0\n",
      "JUNIOR_HR-1 64.0\n",
      "JUNIOR_HR-2 63.5\n",
      "attacker 0.0\n",
      "defender 170.60624999999962\n"
     ]
    }
   ],
   "source": [
    "finish_episode_and_print_reward()\n",
    "\n",
    "for ag in env.game.agents.values():\n",
    "    print(ag.config.ref, ag.reward_function.total_reward)"
   ]
  },
  {
   "cell_type": "markdown",
   "metadata": {},
   "source": [
    "Lastly, the blue agent can remedy the impacts of TAP003 through removing the malicious ACLs that TAP003 adds."
   ]
  },
  {
   "cell_type": "code",
   "execution_count": 33,
   "metadata": {
    "execution": {
     "iopub.execute_input": "2025-03-24T10:01:11.538294Z",
     "iopub.status.busy": "2025-03-24T10:01:11.538077Z",
     "iopub.status.idle": "2025-03-24T10:01:14.941198Z",
     "shell.execute_reply": "2025-03-24T10:01:14.940464Z"
    }
   },
   "outputs": [
    {
     "name": "stderr",
     "output_type": "stream",
     "text": [
      "2025-03-24 10:01:11,539: Resetting environment, episode 8, avg. reward: 170.60624999999962\n"
     ]
    },
    {
     "name": "stderr",
     "output_type": "stream",
     "text": [
      "2025-03-24 10:01:11,542: Saving agent action log to /home/runner/primaite/4.0.0/sessions/2025-03-24/09-59-59/agent_actions/episode_8.json\n"
     ]
    },
    {
     "name": "stdout",
     "output_type": "stream",
     "text": [
      "+-----------------------------------------------------------------------------------------------------------+\n",
      "|                                   ST_INTRA-PRV-RT-CR Access Control List                                  |\n",
      "+-------+--------+----------+--------+--------------+----------+--------+--------------+----------+---------+\n",
      "| Index | Action | Protocol | Src IP | Src Wildcard | Src Port | Dst IP | Dst Wildcard | Dst Port | Matched |\n",
      "+-------+--------+----------+--------+--------------+----------+--------+--------------+----------+---------+\n",
      "| 1     | DENY   | tcp      | ANY    | 0.0.255.255  | 80       | ANY    | 0.0.255.255  | 80       | 21      |\n",
      "| 5     | PERMIT | ANY      | ANY    | ANY          | ANY      | ANY    | ANY          | ANY      | 758     |\n",
      "| 22    | PERMIT | ANY      | ANY    | ANY          | 219      | ANY    | ANY          | 219      | 0       |\n",
      "| 23    | PERMIT | icmp     | ANY    | ANY          | ANY      | ANY    | ANY          | ANY      | 0       |\n",
      "| 24    | DENY   | ANY      | ANY    | ANY          | ANY      | ANY    | ANY          | ANY      | 0       |\n",
      "+-------+--------+----------+--------+--------------+----------+--------+--------------+----------+---------+\n",
      "+-----------------------------------------------------------------------------------------------------------+\n",
      "|                                  ST_INTRA-PRV-RT-DR-1 Access Control List                                 |\n",
      "+-------+--------+----------+--------+--------------+----------+--------+--------------+----------+---------+\n",
      "| Index | Action | Protocol | Src IP | Src Wildcard | Src Port | Dst IP | Dst Wildcard | Dst Port | Matched |\n",
      "+-------+--------+----------+--------+--------------+----------+--------+--------------+----------+---------+\n",
      "| 1     | DENY   | tcp      | ANY    | 0.0.255.255  | 5432     | ANY    | 0.0.255.255  | 5432     | 24      |\n",
      "| 5     | PERMIT | ANY      | ANY    | ANY          | ANY      | ANY    | ANY          | ANY      | 395     |\n",
      "| 22    | PERMIT | ANY      | ANY    | ANY          | 219      | ANY    | ANY          | 219      | 0       |\n",
      "| 23    | PERMIT | icmp     | ANY    | ANY          | ANY      | ANY    | ANY          | ANY      | 0       |\n",
      "| 24    | DENY   | ANY      | ANY    | ANY          | ANY      | ANY    | ANY          | ANY      | 0       |\n",
      "+-------+--------+----------+--------+--------------+----------+--------+--------------+----------+---------+\n",
      "+-----------------------------------------------------------------------------------------------------------+\n",
      "|                                     REM-PUB-RT-DR Access Control List                                     |\n",
      "+-------+--------+----------+--------+--------------+----------+--------+--------------+----------+---------+\n",
      "| Index | Action | Protocol | Src IP | Src Wildcard | Src Port | Dst IP | Dst Wildcard | Dst Port | Matched |\n",
      "+-------+--------+----------+--------+--------------+----------+--------+--------------+----------+---------+\n",
      "| 5     | PERMIT | ANY      | ANY    | ANY          | ANY      | ANY    | ANY          | ANY      | 72      |\n",
      "| 22    | PERMIT | ANY      | ANY    | ANY          | 219      | ANY    | ANY          | 219      | 0       |\n",
      "| 23    | PERMIT | icmp     | ANY    | ANY          | ANY      | ANY    | ANY          | ANY      | 0       |\n",
      "| 24    | DENY   | ANY      | ANY    | ANY          | ANY      | ANY    | ANY          | ANY      | 0       |\n",
      "+-------+--------+----------+--------+--------------+----------+--------+--------------+----------+---------+\n"
     ]
    }
   ],
   "source": [
    "env.reset()\n",
    "\n",
    "# Allow TAP003 to add it's malicious rules\n",
    "for _ in range(45):\n",
    "    env.step(0)\n",
    "\n",
    "env.game.simulation.network.get_node_by_hostname(\"ST_INTRA-PRV-RT-CR\").acl.show()\n",
    "env.game.simulation.network.get_node_by_hostname(\"ST_INTRA-PRV-RT-DR-1\").acl.show()\n",
    "env.game.simulation.network.get_node_by_hostname(\"REM-PUB-RT-DR\").acl.show()"
   ]
  },
  {
   "cell_type": "markdown",
   "metadata": {},
   "source": [
    "```yaml\n",
    "\n",
    "```"
   ]
  },
  {
   "cell_type": "code",
   "execution_count": 34,
   "metadata": {
    "execution": {
     "iopub.execute_input": "2025-03-24T10:01:14.944024Z",
     "iopub.status.busy": "2025-03-24T10:01:14.943768Z",
     "iopub.status.idle": "2025-03-24T10:01:14.995113Z",
     "shell.execute_reply": "2025-03-24T10:01:14.994460Z"
    }
   },
   "outputs": [],
   "source": [
    "env.step(44);"
   ]
  },
  {
   "cell_type": "markdown",
   "metadata": {},
   "source": [
    "```yaml\n",
    "\n",
    "# ST_INTRA-PRV-RT-CR | REMOVE_ACL_ADDRULE | Removes a given ACL at position 1\n",
    "44:\n",
    "    action: router-acl-remove-rule\n",
    "    options:\n",
    "        target_router: ST_INTRA-PRV-RT-CR\n",
    "        position: 1\n",
    "\n",
    "```"
   ]
  },
  {
   "cell_type": "code",
   "execution_count": 35,
   "metadata": {
    "execution": {
     "iopub.execute_input": "2025-03-24T10:01:14.998447Z",
     "iopub.status.busy": "2025-03-24T10:01:14.998163Z",
     "iopub.status.idle": "2025-03-24T10:01:15.065141Z",
     "shell.execute_reply": "2025-03-24T10:01:15.064354Z"
    }
   },
   "outputs": [],
   "source": [
    "env.step(53);"
   ]
  },
  {
   "cell_type": "markdown",
   "metadata": {},
   "source": [
    "```yaml\n",
    "\n",
    "# ST_INTRA-PRV-RT-DR-1 | router-acl-remove-rule | Removes the given ACL at position 1\n",
    "53:\n",
    "    action: router-acl-remove-rule\n",
    "    options:\n",
    "        target_router: ST_INTRA-PRV-RT-DR-1\n",
    "        position: 1\n",
    "\n",
    "```"
   ]
  },
  {
   "cell_type": "code",
   "execution_count": 36,
   "metadata": {
    "execution": {
     "iopub.execute_input": "2025-03-24T10:01:15.068597Z",
     "iopub.status.busy": "2025-03-24T10:01:15.068143Z",
     "iopub.status.idle": "2025-03-24T10:01:15.143535Z",
     "shell.execute_reply": "2025-03-24T10:01:15.142760Z"
    }
   },
   "outputs": [],
   "source": [
    "env.step(55);"
   ]
  },
  {
   "cell_type": "markdown",
   "metadata": {},
   "source": [
    "```yaml\n",
    "\n",
    "# REM-PUB-RT-DR | router-acl-remove-rule | Removes the given ACL at position 1\n",
    "55:\n",
    "    action: router-acl-remove-rule\n",
    "    options:\n",
    "        target_router: REM-PUB-RT-DR\n",
    "        position: 1\n",
    "\n",
    "```"
   ]
  },
  {
   "cell_type": "code",
   "execution_count": 37,
   "metadata": {
    "execution": {
     "iopub.execute_input": "2025-03-24T10:01:15.146778Z",
     "iopub.status.busy": "2025-03-24T10:01:15.146532Z",
     "iopub.status.idle": "2025-03-24T10:01:15.153095Z",
     "shell.execute_reply": "2025-03-24T10:01:15.152422Z"
    }
   },
   "outputs": [
    {
     "name": "stdout",
     "output_type": "stream",
     "text": [
      "+-----------------------------------------------------------------------------------------------------------+\n",
      "|                                   ST_INTRA-PRV-RT-CR Access Control List                                  |\n",
      "+-------+--------+----------+--------+--------------+----------+--------+--------------+----------+---------+\n",
      "| Index | Action | Protocol | Src IP | Src Wildcard | Src Port | Dst IP | Dst Wildcard | Dst Port | Matched |\n",
      "+-------+--------+----------+--------+--------------+----------+--------+--------------+----------+---------+\n",
      "| 5     | PERMIT | ANY      | ANY    | ANY          | ANY      | ANY    | ANY          | ANY      | 802     |\n",
      "| 22    | PERMIT | ANY      | ANY    | ANY          | 219      | ANY    | ANY          | 219      | 0       |\n",
      "| 23    | PERMIT | icmp     | ANY    | ANY          | ANY      | ANY    | ANY          | ANY      | 0       |\n",
      "| 24    | DENY   | ANY      | ANY    | ANY          | ANY      | ANY    | ANY          | ANY      | 0       |\n",
      "+-------+--------+----------+--------+--------------+----------+--------+--------------+----------+---------+\n",
      "+-----------------------------------------------------------------------------------------------------------+\n",
      "|                                  ST_INTRA-PRV-RT-DR-1 Access Control List                                 |\n",
      "+-------+--------+----------+--------+--------------+----------+--------+--------------+----------+---------+\n",
      "| Index | Action | Protocol | Src IP | Src Wildcard | Src Port | Dst IP | Dst Wildcard | Dst Port | Matched |\n",
      "+-------+--------+----------+--------+--------------+----------+--------+--------------+----------+---------+\n",
      "| 5     | PERMIT | ANY      | ANY    | ANY          | ANY      | ANY    | ANY          | ANY      | 413     |\n",
      "| 22    | PERMIT | ANY      | ANY    | ANY          | 219      | ANY    | ANY          | 219      | 0       |\n",
      "| 23    | PERMIT | icmp     | ANY    | ANY          | ANY      | ANY    | ANY          | ANY      | 0       |\n",
      "| 24    | DENY   | ANY      | ANY    | ANY          | ANY      | ANY    | ANY          | ANY      | 0       |\n",
      "+-------+--------+----------+--------+--------------+----------+--------+--------------+----------+---------+\n",
      "+-----------------------------------------------------------------------------------------------------------+\n",
      "|                                     REM-PUB-RT-DR Access Control List                                     |\n",
      "+-------+--------+----------+--------+--------------+----------+--------+--------------+----------+---------+\n",
      "| Index | Action | Protocol | Src IP | Src Wildcard | Src Port | Dst IP | Dst Wildcard | Dst Port | Matched |\n",
      "+-------+--------+----------+--------+--------------+----------+--------+--------------+----------+---------+\n",
      "| 5     | PERMIT | ANY      | ANY    | ANY          | ANY      | ANY    | ANY          | ANY      | 81      |\n",
      "| 22    | PERMIT | ANY      | ANY    | ANY          | 219      | ANY    | ANY          | 219      | 0       |\n",
      "| 23    | PERMIT | icmp     | ANY    | ANY          | ANY      | ANY    | ANY          | ANY      | 0       |\n",
      "| 24    | DENY   | ANY      | ANY    | ANY          | ANY      | ANY    | ANY          | ANY      | 0       |\n",
      "+-------+--------+----------+--------+--------------+----------+--------+--------------+----------+---------+\n"
     ]
    }
   ],
   "source": [
    "env.game.simulation.network.get_node_by_hostname(\"ST_INTRA-PRV-RT-CR\").acl.show()\n",
    "env.game.simulation.network.get_node_by_hostname(\"ST_INTRA-PRV-RT-DR-1\").acl.show()\n",
    "env.game.simulation.network.get_node_by_hostname(\"REM-PUB-RT-DR\").acl.show()"
   ]
  },
  {
   "cell_type": "code",
   "execution_count": 38,
   "metadata": {
    "execution": {
     "iopub.execute_input": "2025-03-24T10:01:15.155770Z",
     "iopub.status.busy": "2025-03-24T10:01:15.155309Z",
     "iopub.status.idle": "2025-03-24T10:01:20.154059Z",
     "shell.execute_reply": "2025-03-24T10:01:20.153321Z"
    }
   },
   "outputs": [
    {
     "name": "stdout",
     "output_type": "stream",
     "text": [
      "Total reward this episode: 165.715625\n",
      "HOME_WORKER-1-DB 62.5\n",
      "HOME_WORKER-1-WEB 25.39999999999994\n",
      "HOME_WORKER-2-DB 60.0\n",
      "HOME_WORKER-2-WEB 25.199999999999942\n",
      "REMOTE_WORKER-1-DB 57.5\n",
      "REMOTE_WORKER-1-WEB 24.999999999999943\n",
      "REMOTE_WORKER-2-DB 56.5\n",
      "REMOTE_WORKER-2-WEB 24.599999999999945\n",
      "PROJ_A-SENIOR-DEV-DB 52.5\n",
      "PROJ_A-SENIOR-DEV-WEB 22.399999999999952\n",
      "PROJ_A-JUNIOR-DEV-1-DB 51.5\n",
      "PROJ_A-JUNIOR-DEV-1-WEB 21.399999999999956\n",
      "PROJ_A-JUNIOR-DEV-2-DB 50.5\n",
      "PROJ_A-JUNIOR-DEV-2-WEB 24.599999999999945\n",
      "PROJ_B-SENIOR-DEV-DB 51.0\n",
      "PROJ_B-SENIOR-DEV-WEB 22.79999999999995\n",
      "PROJ_B-JUNIOR-DEV-1-DB 47.5\n",
      "PROJ_B-JUNIOR-DEV-1-WEB 25.39999999999994\n",
      "PROJ_B-JUNIOR-DEV-2-DB 54.0\n",
      "PROJ_B-JUNIOR-DEV-2-WEB 20.799999999999958\n",
      "PROJ_C-SENIOR-DEV-DB 47.5\n",
      "PROJ_C-SENIOR-DEV-WEB 23.999999999999947\n",
      "PROJ_C-JUNIOR-DEV-1-DB 52.0\n",
      "PROJ_C-JUNIOR-DEV-1-WEB 23.39999999999995\n",
      "PROJ_C-JUNIOR-DEV-2-DB 54.0\n",
      "PROJ_C-JUNIOR-DEV-2-WEB 21.799999999999955\n",
      "CEO 112.10000000000022\n",
      "CTO 58.5\n",
      "CFO 60.0\n",
      "SENIOR_HR 59.0\n",
      "JUNIOR_HR-1 60.0\n",
      "JUNIOR_HR-2 59.5\n",
      "attacker 0.0\n",
      "defender 165.71562499999965\n"
     ]
    }
   ],
   "source": [
    "finish_episode_and_print_reward()\n",
    "\n",
    "for ag in env.game.agents.values():\n",
    "    print(ag.config.ref, ag.reward_function.total_reward)"
   ]
  }
 ],
 "metadata": {
  "kernelspec": {
   "display_name": "Python 3 (ipykernel)",
   "language": "python",
   "name": "python3"
  },
  "language_info": {
   "codemirror_mode": {
    "name": "ipython",
    "version": 3
   },
   "file_extension": ".py",
   "mimetype": "text/x-python",
   "name": "python",
   "nbconvert_exporter": "python",
   "pygments_lexer": "ipython3",
   "version": "3.10.16"
  }
 },
 "nbformat": 4,
 "nbformat_minor": 2
}
