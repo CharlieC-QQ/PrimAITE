{
 "cells": [
  {
   "cell_type": "markdown",
   "metadata": {},
   "source": [
    "# Using Episode Schedules\n",
    "\n",
    "© Crown-owned copyright 2025, Defence Science and Technology Laboratory UK\n",
    "\n",
    "PrimAITE supports the ability to use different variations on a scenario at different episodes. This can be used to increase \n",
    "domain randomisation to prevent overfitting, or to set up curriculum learning to train agents to perform more complicated tasks.\n",
    "\n",
    "When using a fixed scenario, a single yaml config file is used. However, to use episode schedules, PrimAITE uses a \n",
    "directory with several config files that work together."
   ]
  },
  {
   "cell_type": "markdown",
   "metadata": {},
   "source": [
    "## Demonstration"
   ]
  },
  {
   "cell_type": "markdown",
   "metadata": {},
   "source": [
    "Run `primaite setup` to copy the example config files into the correct directory. Then, import and define config location."
   ]
  },
  {
   "cell_type": "code",
   "execution_count": 1,
   "metadata": {
    "execution": {
     "iopub.execute_input": "2025-03-24T10:01:41.043942Z",
     "iopub.status.busy": "2025-03-24T10:01:41.043729Z",
     "iopub.status.idle": "2025-03-24T10:01:41.467884Z",
     "shell.execute_reply": "2025-03-24T10:01:41.467049Z"
    }
   },
   "outputs": [
    {
     "name": "stdout",
     "output_type": "stream",
     "text": [
      "2025-03-24 10:01:41,310: Performing the PrimAITE first-time setup...\r\n",
      "2025-03-24 10:01:41,310: Building the PrimAITE app directories...\r\n",
      "2025-03-24 10:01:41,310: Building primaite_config.yaml...\r\n",
      "2025-03-24 10:01:41,310: Rebuilding the demo notebooks...\r\n",
      "2025-03-24 10:01:41,333: Rebuilding the example notebooks...\r\n",
      "2025-03-24 10:01:41,335: PrimAITE setup complete!\r\n"
     ]
    }
   ],
   "source": [
    "!primaite setup"
   ]
  },
  {
   "cell_type": "code",
   "execution_count": 2,
   "metadata": {
    "execution": {
     "iopub.execute_input": "2025-03-24T10:01:41.471183Z",
     "iopub.status.busy": "2025-03-24T10:01:41.470948Z",
     "iopub.status.idle": "2025-03-24T10:01:44.744667Z",
     "shell.execute_reply": "2025-03-24T10:01:44.744012Z"
    }
   },
   "outputs": [],
   "source": [
    "import yaml\n",
    "from primaite.session.environment import PrimaiteGymEnv\n",
    "from primaite import PRIMAITE_PATHS\n",
    "from prettytable import PrettyTable\n",
    "scenario_path = PRIMAITE_PATHS.user_config_path / \"example_config/scenario_with_placeholders\""
   ]
  },
  {
   "cell_type": "markdown",
   "metadata": {},
   "source": [
    "### Base Scenario File\n",
    "Let's view the contents of the base scenario file:\n",
    "\n",
    "It contains all the base settings that stay fixed throughout all episodes, including the `io_settings`, `game` settings, the network layout and the blue agent definition. There are two placeholders: `*greens` and `*reds`."
   ]
  },
  {
   "cell_type": "code",
   "execution_count": 3,
   "metadata": {
    "execution": {
     "iopub.execute_input": "2025-03-24T10:01:44.747957Z",
     "iopub.status.busy": "2025-03-24T10:01:44.747531Z",
     "iopub.status.idle": "2025-03-24T10:01:44.751681Z",
     "shell.execute_reply": "2025-03-24T10:01:44.751068Z"
    }
   },
   "outputs": [
    {
     "name": "stdout",
     "output_type": "stream",
     "text": [
      "metadata:\n",
      "    version: 3.0\n",
      "\n",
      "io_settings:\n",
      "  save_agent_actions: true\n",
      "  save_step_metadata: false\n",
      "  save_pcap_logs: false\n",
      "  save_sys_logs: false\n",
      "\n",
      "\n",
      "game:\n",
      "  max_episode_length: 128\n",
      "  ports:\n",
      "  - HTTP\n",
      "  - POSTGRES_SERVER\n",
      "  protocols:\n",
      "  - ICMP\n",
      "  - TCP\n",
      "  - UDP\n",
      "  thresholds:\n",
      "    nmne:\n",
      "      high: 10\n",
      "      medium: 5\n",
      "      low: 0\n",
      "\n",
      "agents:\n",
      "  - *greens\n",
      "  - *reds\n",
      "\n",
      "  - ref: defender\n",
      "    team: BLUE\n",
      "    type: proxy-agent\n",
      "    observation_space:\n",
      "      type: custom\n",
      "      options:\n",
      "        components:\n",
      "          - type: nodes\n",
      "            label: NODES\n",
      "            options:\n",
      "              routers: []\n",
      "              hosts:\n",
      "                - hostname: client\n",
      "                - hostname: server\n",
      "              num_services: 1\n",
      "              num_applications: 1\n",
      "              num_folders: 1\n",
      "              num_files: 1\n",
      "              num_nics: 1\n",
      "              include_num_access: false\n",
      "              include_nmne: true\n",
      "\n",
      "          - type: links\n",
      "            label: LINKS\n",
      "            options:\n",
      "              link_references:\n",
      "                - client:eth-1<->switch_1:eth-1\n",
      "                - server:eth-1<->switch_1:eth-2\n",
      "\n",
      "    action_space:\n",
      "      action_map:\n",
      "        0:\n",
      "          action: do-nothing\n",
      "          options: {}\n",
      "        1:\n",
      "          action: node-shutdown\n",
      "          options:\n",
      "            node_name: client_1\n",
      "        2:\n",
      "          action: node-shutdown\n",
      "          options:\n",
      "            node_name: server\n",
      "        3:\n",
      "          action: node-startup\n",
      "          options:\n",
      "            node_name: client_1\n",
      "        4:\n",
      "          action: node-startup\n",
      "          options:\n",
      "            node_name: server\n",
      "        5:\n",
      "          action: host-nic-disable\n",
      "          options:\n",
      "            node_name: client_1\n",
      "            nic_num: 1\n",
      "        6:\n",
      "          action: host-nic-disable\n",
      "          options:\n",
      "            node_name: server\n",
      "            nic_num: 1\n",
      "        7:\n",
      "          action: host-nic-enable\n",
      "          options:\n",
      "            node_name: client_1\n",
      "            nic_num: 1\n",
      "        8:\n",
      "          action: host-nic-enable\n",
      "          options:\n",
      "            node_name: server\n",
      "            nic_num: 1\n",
      "\n",
      "    reward_function:\n",
      "      reward_components:\n",
      "        - type: database-file-integrity\n",
      "          weight: 0.40\n",
      "          options:\n",
      "            node_hostname: database_server\n",
      "            folder_name: database\n",
      "            file_name: database.db\n",
      "\n",
      "    agent_settings:\n",
      "      flatten_obs: false\n",
      "\n",
      "\n",
      "simulation:\n",
      "  network:\n",
      "    nmne_config:\n",
      "      capture_nmne: true\n",
      "      nmne_capture_keywords:\n",
      "        - DELETE\n",
      "    nodes:\n",
      "    - hostname: client\n",
      "      type: computer\n",
      "      ip_address: 192.168.1.2\n",
      "      subnet_mask: 255.255.255.0\n",
      "      default_gateway: 192.168.1.1\n",
      "      applications:\n",
      "        - type: database-client\n",
      "          options:\n",
      "            db_server_ip: 192.168.1.3\n",
      "        - type: data-manipulation-bot\n",
      "          options:\n",
      "            server_ip: 192.168.1.3\n",
      "            payload: \"DELETE\"\n",
      "\n",
      "    - hostname: switch_1\n",
      "      type: switch\n",
      "      num_ports: 2\n",
      "\n",
      "    - hostname: server\n",
      "      type: server\n",
      "      ip_address: 192.168.1.3\n",
      "      subnet_mask: 255.255.255.0\n",
      "      default_gateway: 192.168.1.1\n",
      "      services:\n",
      "        - type: database-service\n",
      "\n",
      "    links:\n",
      "    - endpoint_a_hostname: client\n",
      "      endpoint_a_port: 1\n",
      "      endpoint_b_hostname: switch_1\n",
      "      endpoint_b_port: 1\n",
      "\n",
      "    - endpoint_a_hostname: server\n",
      "      endpoint_a_port: 1\n",
      "      endpoint_b_hostname: switch_1\n",
      "      endpoint_b_port: 2\n",
      "\n"
     ]
    }
   ],
   "source": [
    "with open(scenario_path/\"scenario.yaml\") as f:\n",
    "    print(f.read())"
   ]
  },
  {
   "cell_type": "markdown",
   "metadata": {},
   "source": [
    "### Schedule File\n",
    "Let's view the contents of the schedule file:\n",
    "\n",
    "This file references the base scenario file and defines which variations should be loaded in at each episode. In this instance, there are four episodes, during the first episode `greens_0` and `reds_0` is used, during the second episode `greens_0` and `reds_1` is used, and so on."
   ]
  },
  {
   "cell_type": "code",
   "execution_count": 4,
   "metadata": {
    "execution": {
     "iopub.execute_input": "2025-03-24T10:01:44.754183Z",
     "iopub.status.busy": "2025-03-24T10:01:44.753972Z",
     "iopub.status.idle": "2025-03-24T10:01:44.757763Z",
     "shell.execute_reply": "2025-03-24T10:01:44.757219Z"
    }
   },
   "outputs": [
    {
     "name": "stdout",
     "output_type": "stream",
     "text": [
      "base_scenario: scenario.yaml\n",
      "schedule:\n",
      "  0:\n",
      "    - greens_0.yaml\n",
      "    - reds_0.yaml\n",
      "  1:\n",
      "    - greens_0.yaml\n",
      "    - reds_1.yaml\n",
      "  2:\n",
      "    - greens_1.yaml\n",
      "    - reds_1.yaml\n",
      "  3:\n",
      "    - greens_2.yaml\n",
      "    - reds_2.yaml\n",
      "\n"
     ]
    }
   ],
   "source": [
    "with open(scenario_path/\"schedule.yaml\") as f:\n",
    "    print(f.read())"
   ]
  },
  {
   "cell_type": "markdown",
   "metadata": {},
   "source": [
    "### Green Agent Variation Files\n",
    "\n",
    "There are three different variants of the green agent setup. In `greens_0`, there are no green agents, in `greens_1` there is a green agent that executes the database client application 80% of the time, and in `greens_2` there is a green agent that executes the database client application 5% of the time.\n",
    "\n",
    "(the difference between `greens_1` and `greens_2` is in the agent name and action probabilities)"
   ]
  },
  {
   "cell_type": "code",
   "execution_count": 5,
   "metadata": {
    "execution": {
     "iopub.execute_input": "2025-03-24T10:01:44.760616Z",
     "iopub.status.busy": "2025-03-24T10:01:44.760158Z",
     "iopub.status.idle": "2025-03-24T10:01:44.764091Z",
     "shell.execute_reply": "2025-03-24T10:01:44.763402Z"
    }
   },
   "outputs": [
    {
     "name": "stdout",
     "output_type": "stream",
     "text": [
      "# No green agents present\n",
      "greens: &greens []\n",
      "\n"
     ]
    }
   ],
   "source": [
    "with open(scenario_path/\"greens_0.yaml\") as f:\n",
    "    print(f.read())"
   ]
  },
  {
   "cell_type": "code",
   "execution_count": 6,
   "metadata": {
    "execution": {
     "iopub.execute_input": "2025-03-24T10:01:44.766647Z",
     "iopub.status.busy": "2025-03-24T10:01:44.766277Z",
     "iopub.status.idle": "2025-03-24T10:01:44.769989Z",
     "shell.execute_reply": "2025-03-24T10:01:44.769319Z"
    }
   },
   "outputs": [
    {
     "name": "stdout",
     "output_type": "stream",
     "text": [
      "agents: &greens\n",
      "  - ref: green_A\n",
      "    team: GREEN\n",
      "    type: probabilistic-agent\n",
      "    agent_settings:\n",
      "      action_probabilities:\n",
      "        0: 0.2\n",
      "        1: 0.8\n",
      "\n",
      "    action_space:\n",
      "      action_map:\n",
      "        0:\n",
      "          action: do-nothing\n",
      "          options: {}\n",
      "        1:\n",
      "          action: node-application-execute\n",
      "          options:\n",
      "            node_name: client\n",
      "            application_name: database-client\n",
      "\n",
      "    reward_function:\n",
      "      reward_components:\n",
      "        - type: green-admin-database-unreachable-penalty\n",
      "          weight: 1.0\n",
      "          options:\n",
      "            node_hostname: client\n",
      "\n"
     ]
    }
   ],
   "source": [
    "with open(scenario_path/\"greens_1.yaml\") as f:\n",
    "    print(f.read())"
   ]
  },
  {
   "cell_type": "code",
   "execution_count": 7,
   "metadata": {
    "execution": {
     "iopub.execute_input": "2025-03-24T10:01:44.772544Z",
     "iopub.status.busy": "2025-03-24T10:01:44.772346Z",
     "iopub.status.idle": "2025-03-24T10:01:44.776250Z",
     "shell.execute_reply": "2025-03-24T10:01:44.775683Z"
    }
   },
   "outputs": [
    {
     "name": "stdout",
     "output_type": "stream",
     "text": [
      "agents: &greens\n",
      "  - ref: green_B\n",
      "    team: GREEN\n",
      "    type: probabilistic-agent\n",
      "    agent_settings:\n",
      "      action_probabilities:\n",
      "        0: 0.95\n",
      "        1: 0.05\n",
      "\n",
      "    action_space:\n",
      "      action_map:\n",
      "        0:\n",
      "          action: do-nothing\n",
      "          options: {}\n",
      "        1:\n",
      "          action: node-application-execute\n",
      "          options:\n",
      "            node_name: client\n",
      "            application_name: database-client\n",
      "\n",
      "    reward_function:\n",
      "      reward_components:\n",
      "        - type: green-admin-database-unreachable-penalty\n",
      "          weight: 1.0\n",
      "          options:\n",
      "            node_hostname: client\n",
      "\n"
     ]
    }
   ],
   "source": [
    "with open(scenario_path/\"greens_2.yaml\") as f:\n",
    "    print(f.read())"
   ]
  },
  {
   "cell_type": "markdown",
   "metadata": {},
   "source": [
    "### Red Agent Variation Files\n",
    "\n",
    "There are three different variants of the red agent setup. In `reds_0`, there are no red agents, in `reds_1` there is a red agent that executes every 20 steps, but in `reds_2` there is a red agent that executes every 2 steps."
   ]
  },
  {
   "cell_type": "code",
   "execution_count": 8,
   "metadata": {
    "execution": {
     "iopub.execute_input": "2025-03-24T10:01:44.778808Z",
     "iopub.status.busy": "2025-03-24T10:01:44.778433Z",
     "iopub.status.idle": "2025-03-24T10:01:44.781872Z",
     "shell.execute_reply": "2025-03-24T10:01:44.781237Z"
    }
   },
   "outputs": [
    {
     "name": "stdout",
     "output_type": "stream",
     "text": [
      "# No red agents present\n",
      "reds: &reds []\n",
      "\n"
     ]
    }
   ],
   "source": [
    "with open(scenario_path/\"reds_0.yaml\") as f:\n",
    "    print(f.read())"
   ]
  },
  {
   "cell_type": "code",
   "execution_count": 9,
   "metadata": {
    "execution": {
     "iopub.execute_input": "2025-03-24T10:01:44.784330Z",
     "iopub.status.busy": "2025-03-24T10:01:44.783932Z",
     "iopub.status.idle": "2025-03-24T10:01:44.787498Z",
     "shell.execute_reply": "2025-03-24T10:01:44.786855Z"
    }
   },
   "outputs": [
    {
     "name": "stdout",
     "output_type": "stream",
     "text": [
      "reds: &reds\n",
      "  - ref: red_A\n",
      "    team: RED\n",
      "    type: red-database-corrupting-agent\n",
      "\n",
      "    agent_settings:\n",
      "      possible_start_nodes: [client,]\n",
      "      target_application: data-manipulation-bot\n",
      "      start_step: 10\n",
      "      frequency: 10\n",
      "      variance: 0\n",
      "\n"
     ]
    }
   ],
   "source": [
    "with open(scenario_path/\"reds_1.yaml\") as f:\n",
    "    print(f.read())"
   ]
  },
  {
   "cell_type": "code",
   "execution_count": 10,
   "metadata": {
    "execution": {
     "iopub.execute_input": "2025-03-24T10:01:44.790088Z",
     "iopub.status.busy": "2025-03-24T10:01:44.789697Z",
     "iopub.status.idle": "2025-03-24T10:01:44.793261Z",
     "shell.execute_reply": "2025-03-24T10:01:44.792610Z"
    }
   },
   "outputs": [
    {
     "name": "stdout",
     "output_type": "stream",
     "text": [
      "reds: &reds\n",
      "  - ref: red_B\n",
      "    team: RED\n",
      "    type: red-database-corrupting-agent\n",
      "\n",
      "    agent_settings:\n",
      "      possible_start_nodes: [client_1]\n",
      "      target_application: data-manipulation-bot\n",
      "      start_step: 3\n",
      "      frequency: 2\n",
      "      variance: 1\n",
      "\n"
     ]
    }
   ],
   "source": [
    "with open(scenario_path/\"reds_2.yaml\") as f:\n",
    "    print(f.read())"
   ]
  },
  {
   "cell_type": "markdown",
   "metadata": {},
   "source": [
    "## Running the simulation"
   ]
  },
  {
   "cell_type": "markdown",
   "metadata": {},
   "source": [
    "Create the environment using the variable config."
   ]
  },
  {
   "cell_type": "code",
   "execution_count": 11,
   "metadata": {
    "execution": {
     "iopub.execute_input": "2025-03-24T10:01:44.795847Z",
     "iopub.status.busy": "2025-03-24T10:01:44.795455Z",
     "iopub.status.idle": "2025-03-24T10:01:44.894381Z",
     "shell.execute_reply": "2025-03-24T10:01:44.893801Z"
    }
   },
   "outputs": [
    {
     "name": "stderr",
     "output_type": "stream",
     "text": [
      "2025-03-24 10:01:44,891: PrimaiteGymEnv RNG seed = None\n"
     ]
    }
   ],
   "source": [
    "env = PrimaiteGymEnv(env_config=scenario_path)"
   ]
  },
  {
   "cell_type": "markdown",
   "metadata": {},
   "source": [
    "### Episode 0\n",
    "Let's run the episodes to verify that the agents are changing as expected. In episode 0, there should be no green or red agents, just the defender blue agent."
   ]
  },
  {
   "cell_type": "code",
   "execution_count": 12,
   "metadata": {
    "execution": {
     "iopub.execute_input": "2025-03-24T10:01:44.897092Z",
     "iopub.status.busy": "2025-03-24T10:01:44.896739Z",
     "iopub.status.idle": "2025-03-24T10:01:44.900515Z",
     "shell.execute_reply": "2025-03-24T10:01:44.899846Z"
    }
   },
   "outputs": [
    {
     "name": "stdout",
     "output_type": "stream",
     "text": [
      "Current episode number: 0\n",
      "Agents present: ['defender']\n"
     ]
    }
   ],
   "source": [
    "print(f\"Current episode number: {env.episode_counter}\")\n",
    "print(f\"Agents present: {list(env.game.agents.keys())}\")"
   ]
  },
  {
   "cell_type": "markdown",
   "metadata": {},
   "source": [
    "### Episode 1\n",
    "When we reset the environment, it moves onto episode 1, where it will bring in reds_1 for red agent definition.\n"
   ]
  },
  {
   "cell_type": "code",
   "execution_count": 13,
   "metadata": {
    "execution": {
     "iopub.execute_input": "2025-03-24T10:01:44.903336Z",
     "iopub.status.busy": "2025-03-24T10:01:44.902941Z",
     "iopub.status.idle": "2025-03-24T10:01:44.936134Z",
     "shell.execute_reply": "2025-03-24T10:01:44.935530Z"
    }
   },
   "outputs": [
    {
     "name": "stderr",
     "output_type": "stream",
     "text": [
      "2025-03-24 10:01:44,904: Resetting environment, episode 0, avg. reward: 0.0\n"
     ]
    },
    {
     "name": "stderr",
     "output_type": "stream",
     "text": [
      "2025-03-24 10:01:44,905: Saving agent action log to /home/runner/primaite/4.0.0/sessions/2025-03-24/10-01-41/agent_actions/episode_0.json\n"
     ]
    },
    {
     "name": "stdout",
     "output_type": "stream",
     "text": [
      "Current episode number: 1\n",
      "Agents present: ['red_A', 'defender']\n"
     ]
    }
   ],
   "source": [
    "env.reset()\n",
    "print(f\"Current episode number: {env.episode_counter}\")\n",
    "print(f\"Agents present: {list(env.game.agents.keys())}\")"
   ]
  },
  {
   "cell_type": "markdown",
   "metadata": {},
   "source": [
    "### Episode 2\n",
    "When we reset the environment again, it moves onto episode 2, where it will bring in greens_1 and reds_1 for green and red agent definitions. Let's verify the agent names and that they take actions at the defined frequency.\n",
    "\n",
    "Most green actions will be `node-application-execute` while red will `do-nothing` except at steps 10 and 20."
   ]
  },
  {
   "cell_type": "code",
   "execution_count": 14,
   "metadata": {
    "execution": {
     "iopub.execute_input": "2025-03-24T10:01:44.939080Z",
     "iopub.status.busy": "2025-03-24T10:01:44.938605Z",
     "iopub.status.idle": "2025-03-24T10:01:45.010348Z",
     "shell.execute_reply": "2025-03-24T10:01:45.009632Z"
    }
   },
   "outputs": [
    {
     "name": "stderr",
     "output_type": "stream",
     "text": [
      "2025-03-24 10:01:44,941: Resetting environment, episode 1, avg. reward: 0.0\n"
     ]
    },
    {
     "name": "stderr",
     "output_type": "stream",
     "text": [
      "2025-03-24 10:01:44,942: Saving agent action log to /home/runner/primaite/4.0.0/sessions/2025-03-24/10-01-41/agent_actions/episode_1.json\n"
     ]
    },
    {
     "name": "stdout",
     "output_type": "stream",
     "text": [
      "Current episode number: 2\n",
      "Agents present: ['green_A', 'red_A', 'defender']\n"
     ]
    },
    {
     "name": "stdout",
     "output_type": "stream",
     "text": [
      "+------+--------------------------+--------------------------+\n",
      "| step |       Green Action       |        Red Action        |\n",
      "+------+--------------------------+--------------------------+\n",
      "|  0   | node-application-execute |        do-nothing        |\n",
      "|  1   | node-application-execute |        do-nothing        |\n",
      "|  2   | node-application-execute |        do-nothing        |\n",
      "|  3   | node-application-execute |        do-nothing        |\n",
      "|  4   |        do-nothing        |        do-nothing        |\n",
      "|  5   |        do-nothing        |        do-nothing        |\n",
      "|  6   | node-application-execute |        do-nothing        |\n",
      "|  7   | node-application-execute |        do-nothing        |\n",
      "|  8   | node-application-execute |        do-nothing        |\n",
      "|  9   | node-application-execute |        do-nothing        |\n",
      "|  10  | node-application-execute | node-application-execute |\n",
      "|  11  | node-application-execute |        do-nothing        |\n",
      "|  12  | node-application-execute |        do-nothing        |\n",
      "|  13  | node-application-execute |        do-nothing        |\n",
      "|  14  | node-application-execute |        do-nothing        |\n",
      "|  15  | node-application-execute |        do-nothing        |\n",
      "|  16  | node-application-execute |        do-nothing        |\n",
      "|  17  | node-application-execute |        do-nothing        |\n",
      "|  18  |        do-nothing        |        do-nothing        |\n",
      "|  19  |        do-nothing        |        do-nothing        |\n",
      "|  20  |        do-nothing        | node-application-execute |\n",
      "+------+--------------------------+--------------------------+\n"
     ]
    }
   ],
   "source": [
    "env.reset()\n",
    "print(f\"Current episode number: {env.episode_counter}\")\n",
    "print(f\"Agents present: {list(env.game.agents.keys())}\")\n",
    "for i in range(21):\n",
    "    env.step(0)\n",
    "\n",
    "table = PrettyTable()\n",
    "table.field_names = [\"step\", \"Green Action\", \"Red Action\"]\n",
    "for i in range(21):\n",
    "    green_action = env.game.agents['green_A'].history[i].action\n",
    "    red_action = env.game.agents['red_A'].history[i].action\n",
    "    table.add_row([i, green_action, red_action])\n",
    "print(table)"
   ]
  },
  {
   "cell_type": "markdown",
   "metadata": {},
   "source": [
    "### Episode 3\n",
    "When we reset the environment again, it moves onto episode 3, where it will bring in greens_2 and reds_2 for green and red agent definitions. Let's verify the agent names and that they take actions at the defined frequency.\n",
    "\n",
    "Now, green will perform `node-application-execute` only 5% of the time, while red will perform `node-application-execute` more frequently than before."
   ]
  },
  {
   "cell_type": "code",
   "execution_count": 15,
   "metadata": {
    "execution": {
     "iopub.execute_input": "2025-03-24T10:01:45.013400Z",
     "iopub.status.busy": "2025-03-24T10:01:45.012983Z",
     "iopub.status.idle": "2025-03-24T10:01:45.072305Z",
     "shell.execute_reply": "2025-03-24T10:01:45.071636Z"
    }
   },
   "outputs": [
    {
     "name": "stderr",
     "output_type": "stream",
     "text": [
      "2025-03-24 10:01:45,015: Resetting environment, episode 2, avg. reward: 0.0\n"
     ]
    },
    {
     "name": "stderr",
     "output_type": "stream",
     "text": [
      "2025-03-24 10:01:45,016: Saving agent action log to /home/runner/primaite/4.0.0/sessions/2025-03-24/10-01-41/agent_actions/episode_2.json\n"
     ]
    },
    {
     "name": "stdout",
     "output_type": "stream",
     "text": [
      "Current episode number: 3\n",
      "Agents present: ['green_B', 'red_B', 'defender']\n",
      "+------+--------------+--------------------------+\n",
      "| step | Green Action |        Red Action        |\n",
      "+------+--------------+--------------------------+\n",
      "|  0   |  do-nothing  |        do-nothing        |\n",
      "|  1   |  do-nothing  |        do-nothing        |\n",
      "|  2   |  do-nothing  |        do-nothing        |\n",
      "|  3   |  do-nothing  | node-application-execute |\n",
      "|  4   |  do-nothing  | node-application-execute |\n",
      "|  5   |  do-nothing  |        do-nothing        |\n",
      "|  6   |  do-nothing  |        do-nothing        |\n",
      "|  7   |  do-nothing  | node-application-execute |\n",
      "|  8   |  do-nothing  |        do-nothing        |\n",
      "|  9   |  do-nothing  | node-application-execute |\n",
      "|  10  |  do-nothing  | node-application-execute |\n",
      "|  11  |  do-nothing  |        do-nothing        |\n",
      "|  12  |  do-nothing  | node-application-execute |\n",
      "|  13  |  do-nothing  |        do-nothing        |\n",
      "|  14  |  do-nothing  |        do-nothing        |\n",
      "|  15  |  do-nothing  | node-application-execute |\n",
      "|  16  |  do-nothing  | node-application-execute |\n",
      "|  17  |  do-nothing  | node-application-execute |\n",
      "|  18  |  do-nothing  |        do-nothing        |\n",
      "|  19  |  do-nothing  | node-application-execute |\n",
      "|  20  |  do-nothing  |        do-nothing        |\n",
      "+------+--------------+--------------------------+\n"
     ]
    }
   ],
   "source": [
    "env.reset()\n",
    "print(f\"Current episode number: {env.episode_counter}\")\n",
    "print(f\"Agents present: {list(env.game.agents.keys())}\")\n",
    "for i in range(21):\n",
    "    env.step(0)\n",
    "\n",
    "table = PrettyTable()\n",
    "table.field_names = [\"step\", \"Green Action\", \"Red Action\"]\n",
    "for i in range(21):\n",
    "    green_action = env.game.agents['green_B'].history[i].action\n",
    "    red_action = env.game.agents['red_B'].history[i].action\n",
    "    table.add_row([i, green_action, red_action])\n",
    "print(table)"
   ]
  },
  {
   "cell_type": "markdown",
   "metadata": {},
   "source": [
    "### Further Episodes\n",
    "\n",
    "Since the schedule definition only goes up to episode 3, if we reset the environment again, we run out of episodes. The environment will simply loop back to the beginning, but it produces a warning message to make users aware that the episodes are being repeated."
   ]
  },
  {
   "cell_type": "code",
   "execution_count": 16,
   "metadata": {
    "execution": {
     "iopub.execute_input": "2025-03-24T10:01:45.075378Z",
     "iopub.status.busy": "2025-03-24T10:01:45.074864Z",
     "iopub.status.idle": "2025-03-24T10:01:45.111624Z",
     "shell.execute_reply": "2025-03-24T10:01:45.111043Z"
    }
   },
   "outputs": [
    {
     "name": "stderr",
     "output_type": "stream",
     "text": [
      "2025-03-24 10:01:45,076: Resetting environment, episode 3, avg. reward: 0.0\n"
     ]
    },
    {
     "name": "stderr",
     "output_type": "stream",
     "text": [
      "2025-03-24 10:01:45,077: Saving agent action log to /home/runner/primaite/4.0.0/sessions/2025-03-24/10-01-41/agent_actions/episode_3.json\n"
     ]
    },
    {
     "name": "stderr",
     "output_type": "stream",
     "text": [
      "2025-03-24 10:01:45,084::WARNING::primaite.session.episode_schedule::62::Running episode 4 but the schedule only defines 4 episodes. Looping back to the beginning\n"
     ]
    }
   ],
   "source": [
    "env.reset(); # semicolon suppresses jupyter outputting the observation space.\n"
   ]
  },
  {
   "cell_type": "markdown",
   "metadata": {},
   "source": [
    "## Other uses\n",
    "\n",
    "Since the episode schedules make use of yaml aliases and anchors, it's possible to use them in any part of the config, not just agent definitions. For instance, we can vary the simulation setup by changing what software is installed on hosts, how that software is configured, or even change the nodes themselves.\n",
    "\n",
    "As an example, we will vary what software is installed on nodes in a basic test network."
   ]
  },
  {
   "cell_type": "code",
   "execution_count": 17,
   "metadata": {
    "execution": {
     "iopub.execute_input": "2025-03-24T10:01:45.114835Z",
     "iopub.status.busy": "2025-03-24T10:01:45.114408Z",
     "iopub.status.idle": "2025-03-24T10:01:45.117632Z",
     "shell.execute_reply": "2025-03-24T10:01:45.117089Z"
    }
   },
   "outputs": [],
   "source": [
    "mini_scenario_path = PRIMAITE_PATHS.user_config_path / \"example_config/mini_scenario_with_simulation_variation\"\n"
   ]
  },
  {
   "cell_type": "markdown",
   "metadata": {},
   "source": [
    "Let's open the base scenario to see the placeholders. client_1 and server both have placeholders in the software installed on them. The server has a placeholder called `*server_services` and the client has `*client_applications`."
   ]
  },
  {
   "cell_type": "code",
   "execution_count": 18,
   "metadata": {
    "execution": {
     "iopub.execute_input": "2025-03-24T10:01:45.120228Z",
     "iopub.status.busy": "2025-03-24T10:01:45.119832Z",
     "iopub.status.idle": "2025-03-24T10:01:45.123455Z",
     "shell.execute_reply": "2025-03-24T10:01:45.122823Z"
    }
   },
   "outputs": [
    {
     "name": "stdout",
     "output_type": "stream",
     "text": [
      "metadata:\n",
      "    version: 3.0\n",
      "\n",
      "game:\n",
      "  max_episode_length: 128\n",
      "  ports: []\n",
      "  protocols: []\n",
      "\n",
      "agents:\n",
      "  - ref: RL_Agent\n",
      "    type: proxy-agent\n",
      "\n",
      "    action_space:\n",
      "      action_map:\n",
      "        0:\n",
      "          action: do-nothing\n",
      "          options: {}\n",
      "        1:\n",
      "          action: node-shutdown\n",
      "          options:\n",
      "            node_name: client_1\n",
      "        2:\n",
      "          action: node-shutdown\n",
      "          options:\n",
      "            node_name: server\n",
      "        3:\n",
      "          action: node-startup\n",
      "          options:\n",
      "            node_name: client_1\n",
      "        4:\n",
      "          action: node-startup\n",
      "          options:\n",
      "            node_name: server\n",
      "        5:\n",
      "          action: host-nic-disable\n",
      "          options:\n",
      "            node_name: client_1\n",
      "            nic_num: 1\n",
      "        6:\n",
      "          action: host-nic-disable\n",
      "          options:\n",
      "            node_name: server\n",
      "            nic_num: 1\n",
      "        7:\n",
      "          action: host-nic-enable\n",
      "          options:\n",
      "            node_name: client_1\n",
      "            nic_num: 1\n",
      "        8:\n",
      "          action: host-nic-enable\n",
      "          options:\n",
      "            node_name: server\n",
      "            nic_num: 1\n",
      "\n",
      "simulation:\n",
      "  network:\n",
      "    nodes:\n",
      "      - hostname: server\n",
      "        type: server\n",
      "        ip_address: 192.168.1.2\n",
      "        subnet_mask: 255.255.255.0\n",
      "        default_gateway: 192.168.1.1\n",
      "        services: *server_services\n",
      "      - hostname: client_1\n",
      "        type: computer\n",
      "        ip_address: 192.168.1.3\n",
      "        subnet_mask: 255.255.255.0\n",
      "        default_gateway: 192.168.1.1\n",
      "        applications: *client_applications\n",
      "\n"
     ]
    }
   ],
   "source": [
    "with open(mini_scenario_path/\"base_scenario.yaml\") as f:\n",
    "    print(f.read())"
   ]
  },
  {
   "cell_type": "markdown",
   "metadata": {},
   "source": [
    "In the 0th episode, `simulation_variant_1.yaml` is loaded in and the server gets a `database-service`, while client_1 gets `database-client`."
   ]
  },
  {
   "cell_type": "code",
   "execution_count": 19,
   "metadata": {
    "execution": {
     "iopub.execute_input": "2025-03-24T10:01:45.125731Z",
     "iopub.status.busy": "2025-03-24T10:01:45.125527Z",
     "iopub.status.idle": "2025-03-24T10:01:45.129414Z",
     "shell.execute_reply": "2025-03-24T10:01:45.128838Z"
    }
   },
   "outputs": [
    {
     "name": "stdout",
     "output_type": "stream",
     "text": [
      "server_services: &server_services\n",
      "  - type: database-service\n",
      "\n",
      "client_applications: &client_applications\n",
      "  - type: database-client\n",
      "\n"
     ]
    }
   ],
   "source": [
    "with open(mini_scenario_path/\"simulation_variant_1.yaml\") as f:\n",
    "    print(f.read())"
   ]
  },
  {
   "cell_type": "code",
   "execution_count": 20,
   "metadata": {
    "execution": {
     "iopub.execute_input": "2025-03-24T10:01:45.131627Z",
     "iopub.status.busy": "2025-03-24T10:01:45.131424Z",
     "iopub.status.idle": "2025-03-24T10:01:45.176478Z",
     "shell.execute_reply": "2025-03-24T10:01:45.175882Z"
    }
   },
   "outputs": [
    {
     "name": "stderr",
     "output_type": "stream",
     "text": [
      "2025-03-24 10:01:45,170: PrimaiteGymEnv RNG seed = None\n"
     ]
    },
    {
     "name": "stdout",
     "output_type": "stream",
     "text": [
      "Episode: 0\n",
      "+---------------------------------------------------------------------------------------+\n",
      "|                                server Software Manager                                |\n",
      "+----------------------+-------------+-----------------+--------------+------+----------+\n",
      "| Name                 | Type        | Operating State | Health State | Port | Protocol |\n",
      "+----------------------+-------------+-----------------+--------------+------+----------+\n",
      "| arp                  | Service     | RUNNING         | GOOD         | 219  | udp      |\n",
      "| icmp                 | Service     | RUNNING         | GOOD         | None | icmp     |\n",
      "| dns-client           | Service     | RUNNING         | GOOD         | 53   | tcp      |\n",
      "| ntp-client           | Service     | RUNNING         | GOOD         | 123  | udp      |\n",
      "| web-browser          | Application | RUNNING         | GOOD         | 80   | tcp      |\n",
      "| nmap                 | Application | RUNNING         | GOOD         | None | none     |\n",
      "| user-session-manager | Service     | RUNNING         | GOOD         | None | none     |\n",
      "| user-manager         | Service     | RUNNING         | GOOD         | None | none     |\n",
      "| terminal             | Service     | RUNNING         | GOOD         | 22   | tcp      |\n",
      "| ftp-client           | Service     | RUNNING         | GOOD         | 21   | tcp      |\n",
      "| database-service     | Service     | RUNNING         | GOOD         | 5432 | tcp      |\n",
      "+----------------------+-------------+-----------------+--------------+------+----------+\n",
      "+---------------------------------------------------------------------------------------+\n",
      "|                               client_1 Software Manager                               |\n",
      "+----------------------+-------------+-----------------+--------------+------+----------+\n",
      "| Name                 | Type        | Operating State | Health State | Port | Protocol |\n",
      "+----------------------+-------------+-----------------+--------------+------+----------+\n",
      "| arp                  | Service     | RUNNING         | GOOD         | 219  | udp      |\n",
      "| icmp                 | Service     | RUNNING         | GOOD         | None | icmp     |\n",
      "| dns-client           | Service     | RUNNING         | GOOD         | 53   | tcp      |\n",
      "| ntp-client           | Service     | RUNNING         | GOOD         | 123  | udp      |\n",
      "| web-browser          | Application | RUNNING         | GOOD         | 80   | tcp      |\n",
      "| nmap                 | Application | RUNNING         | GOOD         | None | none     |\n",
      "| user-session-manager | Service     | RUNNING         | GOOD         | None | none     |\n",
      "| user-manager         | Service     | RUNNING         | GOOD         | None | none     |\n",
      "| terminal             | Service     | RUNNING         | GOOD         | 22   | tcp      |\n",
      "| ftp-client           | Service     | RUNNING         | GOOD         | 21   | tcp      |\n",
      "| database-client      | Application | RUNNING         | GOOD         | 5432 | tcp      |\n",
      "+----------------------+-------------+-----------------+--------------+------+----------+\n"
     ]
    }
   ],
   "source": [
    "env = PrimaiteGymEnv(env_config=mini_scenario_path)\n",
    "print(f\"Episode: {env.episode_counter}\")\n",
    "env.game.simulation.network.get_node_by_hostname('server').software_manager.show()\n",
    "env.game.simulation.network.get_node_by_hostname('client_1').software_manager.show()"
   ]
  },
  {
   "cell_type": "markdown",
   "metadata": {},
   "source": [
    "In the 1st episode, `simulation_variant_2.yaml` is loaded in, therefore the server gets a `ftp-server` and client_1 gets a `ransomware-script`."
   ]
  },
  {
   "cell_type": "code",
   "execution_count": 21,
   "metadata": {
    "execution": {
     "iopub.execute_input": "2025-03-24T10:01:45.179153Z",
     "iopub.status.busy": "2025-03-24T10:01:45.178935Z",
     "iopub.status.idle": "2025-03-24T10:01:45.183125Z",
     "shell.execute_reply": "2025-03-24T10:01:45.182538Z"
    }
   },
   "outputs": [
    {
     "name": "stdout",
     "output_type": "stream",
     "text": [
      "server_services: &server_services\n",
      "  - type: ftp-server\n",
      "\n",
      "client_applications: &client_applications\n",
      "  - type: ransomware-script\n",
      "\n"
     ]
    }
   ],
   "source": [
    "with open(mini_scenario_path/\"simulation_variant_2.yaml\") as f:\n",
    "    print(f.read())"
   ]
  },
  {
   "cell_type": "code",
   "execution_count": 22,
   "metadata": {
    "execution": {
     "iopub.execute_input": "2025-03-24T10:01:45.185469Z",
     "iopub.status.busy": "2025-03-24T10:01:45.185256Z",
     "iopub.status.idle": "2025-03-24T10:01:45.211966Z",
     "shell.execute_reply": "2025-03-24T10:01:45.211288Z"
    }
   },
   "outputs": [
    {
     "name": "stderr",
     "output_type": "stream",
     "text": [
      "2025-03-24 10:01:45,186: Resetting environment, episode 0, avg. reward: 0.0\n"
     ]
    },
    {
     "name": "stderr",
     "output_type": "stream",
     "text": [
      "2025-03-24 10:01:45,188: Saving agent action log to /home/runner/primaite/4.0.0/sessions/2025-03-24/10-01-41/agent_actions/episode_0.json\n"
     ]
    },
    {
     "name": "stdout",
     "output_type": "stream",
     "text": [
      "Episode: 1\n",
      "+---------------------------------------------------------------------------------------+\n",
      "|                                server Software Manager                                |\n",
      "+----------------------+-------------+-----------------+--------------+------+----------+\n",
      "| Name                 | Type        | Operating State | Health State | Port | Protocol |\n",
      "+----------------------+-------------+-----------------+--------------+------+----------+\n",
      "| arp                  | Service     | RUNNING         | GOOD         | 219  | udp      |\n",
      "| icmp                 | Service     | RUNNING         | GOOD         | None | icmp     |\n",
      "| dns-client           | Service     | RUNNING         | GOOD         | 53   | tcp      |\n",
      "| ntp-client           | Service     | RUNNING         | GOOD         | 123  | udp      |\n",
      "| web-browser          | Application | RUNNING         | GOOD         | 80   | tcp      |\n",
      "| nmap                 | Application | RUNNING         | GOOD         | None | none     |\n",
      "| user-session-manager | Service     | RUNNING         | GOOD         | None | none     |\n",
      "| user-manager         | Service     | RUNNING         | GOOD         | None | none     |\n",
      "| terminal             | Service     | RUNNING         | GOOD         | 22   | tcp      |\n",
      "| ftp-server           | Service     | RUNNING         | GOOD         | 21   | tcp      |\n",
      "+----------------------+-------------+-----------------+--------------+------+----------+\n",
      "+---------------------------------------------------------------------------------------+\n",
      "|                               client_1 Software Manager                               |\n",
      "+----------------------+-------------+-----------------+--------------+------+----------+\n",
      "| Name                 | Type        | Operating State | Health State | Port | Protocol |\n",
      "+----------------------+-------------+-----------------+--------------+------+----------+\n",
      "| arp                  | Service     | RUNNING         | GOOD         | 219  | udp      |\n",
      "| icmp                 | Service     | RUNNING         | GOOD         | None | icmp     |\n",
      "| dns-client           | Service     | RUNNING         | GOOD         | 53   | tcp      |\n",
      "| ntp-client           | Service     | RUNNING         | GOOD         | 123  | udp      |\n",
      "| web-browser          | Application | RUNNING         | GOOD         | 80   | tcp      |\n",
      "| nmap                 | Application | RUNNING         | GOOD         | None | none     |\n",
      "| user-session-manager | Service     | RUNNING         | GOOD         | None | none     |\n",
      "| user-manager         | Service     | RUNNING         | GOOD         | None | none     |\n",
      "| terminal             | Service     | RUNNING         | GOOD         | 22   | tcp      |\n",
      "| ftp-client           | Service     | RUNNING         | GOOD         | 21   | tcp      |\n",
      "| ransomware-script    | Application | RUNNING         | GOOD         | None | none     |\n",
      "+----------------------+-------------+-----------------+--------------+------+----------+\n"
     ]
    }
   ],
   "source": [
    "env.reset()\n",
    "print(f\"Episode: {env.episode_counter}\")\n",
    "env.game.simulation.network.get_node_by_hostname('server').software_manager.show()\n",
    "env.game.simulation.network.get_node_by_hostname('client_1').software_manager.show()"
   ]
  }
 ],
 "metadata": {
  "kernelspec": {
   "display_name": "Python 3 (ipykernel)",
   "language": "python",
   "name": "python3"
  },
  "language_info": {
   "codemirror_mode": {
    "name": "ipython",
    "version": 3
   },
   "file_extension": ".py",
   "mimetype": "text/x-python",
   "name": "python",
   "nbconvert_exporter": "python",
   "pygments_lexer": "ipython3",
   "version": "3.10.16"
  }
 },
 "nbformat": 4,
 "nbformat_minor": 2
}
