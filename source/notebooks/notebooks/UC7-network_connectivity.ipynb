{
 "cells": [
  {
   "cell_type": "markdown",
   "metadata": {},
   "source": [
    "# UC7 Network Connectivity\n",
    "\n",
    "© Crown-owned copyright 2025, Defence Science and Technology Laboratory UK\n"
   ]
  },
  {
   "cell_type": "markdown",
   "metadata": {},
   "source": [
    "This notebook is meant as supplementary material to the more expansive [UC7 E2E notebook](./UC7-E2E-Demo.ipynb).\n",
    "\n",
    "Focusing on the simulation components of UC7, this notebook primarily intends to demonstrate the default connectivity and prove that the simulation is operating as expected. Additionally, this notebook assumes that the reader is familiar with both UC7 and PrimAITE's networking simulation as no supplementary text cells to explain specific output are provided."
   ]
  },
  {
   "cell_type": "markdown",
   "metadata": {},
   "source": [
    "## Network Description\n",
    "\n",
    "<p align=\"center\">\n",
    "    <a href=\"./_package_data/uc7/uc7_network_detailed_svg.svg\" target=\"_blank\">\n",
    "        <img src=\"./_package_data/uc7/uc7_network_detailed_svg.svg\" alt=\"Image\">\n",
    "    </a>  \n",
    "    \n",
    "</p>\n"
   ]
  },
  {
   "cell_type": "code",
   "execution_count": 1,
   "metadata": {
    "execution": {
     "iopub.execute_input": "2025-03-24T10:01:23.637141Z",
     "iopub.status.busy": "2025-03-24T10:01:23.636592Z",
     "iopub.status.idle": "2025-03-24T10:01:24.064126Z",
     "shell.execute_reply": "2025-03-24T10:01:24.063297Z"
    }
   },
   "outputs": [
    {
     "name": "stdout",
     "output_type": "stream",
     "text": [
      "2025-03-24 10:01:23,904: Performing the PrimAITE first-time setup...\r\n",
      "2025-03-24 10:01:23,904: Building the PrimAITE app directories...\r\n",
      "2025-03-24 10:01:23,904: Building primaite_config.yaml...\r\n",
      "2025-03-24 10:01:23,904: Rebuilding the demo notebooks...\r\n",
      "2025-03-24 10:01:23,928: Rebuilding the example notebooks...\r\n",
      "2025-03-24 10:01:23,930: PrimAITE setup complete!\r\n"
     ]
    }
   ],
   "source": [
    "!primaite setup"
   ]
  },
  {
   "cell_type": "code",
   "execution_count": 2,
   "metadata": {
    "execution": {
     "iopub.execute_input": "2025-03-24T10:01:24.067624Z",
     "iopub.status.busy": "2025-03-24T10:01:24.067185Z",
     "iopub.status.idle": "2025-03-24T10:01:27.332502Z",
     "shell.execute_reply": "2025-03-24T10:01:27.331795Z"
    }
   },
   "outputs": [],
   "source": [
    "from primaite.session.environment import PrimaiteGymEnv\n",
    "from primaite.simulator.network.hardware.nodes.host.computer import Computer\n",
    "from primaite.simulator.network.hardware.nodes.host.server import Server\n",
    "from primaite.simulator.network.hardware.nodes.network.router import Router\n",
    "from primaite.simulator.network.hardware.nodes.network.switch import Switch\n",
    "from primaite.simulator.network.container import Network\n",
    "from primaite.simulator.network.hardware.nodes.network.firewall import Firewall\n",
    "from primaite.game.game import PrimaiteGame\n",
    "from primaite.simulator.system.services.dns.dns_client import DNSClient\n",
    "from primaite.simulator.sim_container import Simulation\n",
    "import yaml\n",
    "from pprint import pprint\n",
    "from primaite.config.load import load, _EXAMPLE_CFG"
   ]
  },
  {
   "cell_type": "code",
   "execution_count": 3,
   "metadata": {
    "execution": {
     "iopub.execute_input": "2025-03-24T10:01:27.335530Z",
     "iopub.status.busy": "2025-03-24T10:01:27.335198Z",
     "iopub.status.idle": "2025-03-24T10:01:27.973109Z",
     "shell.execute_reply": "2025-03-24T10:01:27.972526Z"
    }
   },
   "outputs": [
    {
     "name": "stderr",
     "output_type": "stream",
     "text": [
      "2025-03-24 10:01:27,970: PrimaiteGymEnv RNG seed = None\n"
     ]
    }
   ],
   "source": [
    "with open(file=_EXAMPLE_CFG/\"uc7_config.yaml\", mode=\"r\") as uc7_config:\n",
    "    cfg = yaml.safe_load(uc7_config)\n",
    "    cfg['io_settings']['save_sys_logs'] = True # Saving syslogs\n",
    "    cfg['io_settings']['save_agent_logs'] = True # Save agent logs\n",
    "env = PrimaiteGymEnv(env_config=cfg)"
   ]
  },
  {
   "cell_type": "code",
   "execution_count": 4,
   "metadata": {
    "execution": {
     "iopub.execute_input": "2025-03-24T10:01:27.975674Z",
     "iopub.status.busy": "2025-03-24T10:01:27.975469Z",
     "iopub.status.idle": "2025-03-24T10:01:27.997028Z",
     "shell.execute_reply": "2025-03-24T10:01:27.996398Z"
    }
   },
   "outputs": [
    {
     "name": "stdout",
     "output_type": "stream",
     "text": [
      "+------------------------------------------------------+\n",
      "|                        Nodes                         |\n",
      "+-------------------------+----------+-----------------+\n",
      "| Node                    | Type     | Operating State |\n",
      "+-------------------------+----------+-----------------+\n",
      "| HOME-PUB-RT-DR          | router   | ON              |\n",
      "| HOME-PUB-SW-AS          | switch   | ON              |\n",
      "| HOME-PUB-PC-1           | computer | ON              |\n",
      "| HOME-PUB-PC-2           | computer | ON              |\n",
      "| HOME-PUB-SRV            | server   | ON              |\n",
      "| ISP-PUB-RT-BR           | router   | ON              |\n",
      "| ISP-PUB-SRV-DNS         | server   | ON              |\n",
      "| REM-PUB-FW              | firewall | ON              |\n",
      "| REM-PUB-RT-DR           | router   | ON              |\n",
      "| REM-PUB-SW-AS           | switch   | ON              |\n",
      "| REM-PUB-PC-1            | computer | ON              |\n",
      "| REM-PUB-PC-2            | computer | ON              |\n",
      "| REM-PUB-SRV             | server   | ON              |\n",
      "| ST_PUB-FW               | firewall | ON              |\n",
      "| ST_DMZ-PUB-SRV-WEB      | server   | ON              |\n",
      "| ST_INTRA-PRV-RT-CR      | router   | ON              |\n",
      "| ST_INTRA-PRV-RT-DR-1    | router   | ON              |\n",
      "| ST_INTRA-PRV-RT-DR-2    | router   | ON              |\n",
      "| ST_HO-PRV-SW-AS         | switch   | ON              |\n",
      "| ST_HO-PRV-PC-1          | computer | ON              |\n",
      "| ST_HO-PRV-PC-2          | computer | ON              |\n",
      "| ST_HO-PRV-PC-3          | computer | ON              |\n",
      "| ST_HR-PRV-SW-AS         | switch   | ON              |\n",
      "| ST_HR-PRV-PC-1          | computer | ON              |\n",
      "| ST_HR-PRV-PC-2          | computer | ON              |\n",
      "| ST_HR-PRV-PC-3          | computer | ON              |\n",
      "| ST_DATA-PRV-SW-AS       | switch   | ON              |\n",
      "| ST_DATA-PRV-SRV-STORAGE | server   | ON              |\n",
      "| ST_DATA-PRV-SRV-DB      | server   | ON              |\n",
      "| ST_PROJ-A-PRV-SW-AS     | switch   | ON              |\n",
      "| ST_PROJ-A-PRV-PC-1      | computer | ON              |\n",
      "| ST_PROJ-A-PRV-PC-2      | computer | ON              |\n",
      "| ST_PROJ-A-PRV-PC-3      | computer | ON              |\n",
      "| ST_PROJ-B-PRV-SW-AS     | switch   | ON              |\n",
      "| ST_PROJ-B-PRV-PC-1      | computer | ON              |\n",
      "| ST_PROJ-B-PRV-PC-2      | computer | ON              |\n",
      "| ST_PROJ-B-PRV-PC-3      | computer | ON              |\n",
      "| ST_PROJ-C-PRV-SW-AS     | switch   | ON              |\n",
      "| ST_PROJ-C-PRV-PC-1      | computer | ON              |\n",
      "| ST_PROJ-C-PRV-PC-2      | computer | ON              |\n",
      "| ST_PROJ-C-PRV-PC-3      | computer | ON              |\n",
      "+-------------------------+----------+-----------------+\n",
      "+----------------------------------------------------------------------------------------+\n",
      "|                                      IP Addresses                                      |\n",
      "+-------------------------+----------+---------------+-----------------+-----------------+\n",
      "| Node                    | Port     | IP Address    | Subnet Mask     | Default Gateway |\n",
      "+-------------------------+----------+---------------+-----------------+-----------------+\n",
      "| HOME-PUB-RT-DR          | 1        | 192.168.1.1   | 255.255.255.0   | 10.1.0.1        |\n",
      "| HOME-PUB-RT-DR          | 2        | 10.1.0.2      | 255.255.255.252 | 10.1.0.1        |\n",
      "| HOME-PUB-PC-1           | 1        | 192.168.1.2   | 255.255.255.0   | 192.168.1.1     |\n",
      "| HOME-PUB-PC-2           | 1        | 192.168.1.3   | 255.255.255.0   | 192.168.1.1     |\n",
      "| HOME-PUB-SRV            | 1        | 192.168.1.4   | 255.255.255.0   | 192.168.1.1     |\n",
      "| ISP-PUB-RT-BR           | 1        | 10.1.0.1      | 255.255.255.252 | None            |\n",
      "| ISP-PUB-RT-BR           | 2        | 8.8.8.1       | 255.255.255.240 | None            |\n",
      "| ISP-PUB-RT-BR           | 3        | 10.1.10.1     | 255.255.255.252 | None            |\n",
      "| ISP-PUB-RT-BR           | 4        | 10.1.100.1    | 255.255.255.252 | None            |\n",
      "| ISP-PUB-SRV-DNS         | 1        | 8.8.8.8       | 255.255.255.240 | 8.8.8.1         |\n",
      "| REM-PUB-FW              | external | 10.1.10.2     | 255.255.255.252 | None            |\n",
      "| REM-PUB-FW              | internal | 192.168.10.1  | 255.255.255.252 | None            |\n",
      "| REM-PUB-RT-DR           | 1        | 192.168.10.2  | 255.255.255.252 | 192.168.10.1    |\n",
      "| REM-PUB-RT-DR           | 2        | 192.168.20.1  | 255.255.255.240 | 192.168.10.1    |\n",
      "| REM-PUB-PC-1            | 1        | 192.168.20.2  | 255.255.255.0   | 192.168.20.1    |\n",
      "| REM-PUB-PC-2            | 1        | 192.168.20.3  | 255.255.255.0   | 192.168.20.1    |\n",
      "| REM-PUB-SRV             | 1        | 192.168.20.4  | 255.255.255.0   | 192.168.20.1    |\n",
      "| ST_PUB-FW               | external | 10.1.100.2    | 255.255.255.252 | None            |\n",
      "| ST_PUB-FW               | internal | 192.168.150.1 | 255.255.255.240 | None            |\n",
      "| ST_PUB-FW               | dmz      | 192.168.100.1 | 255.255.255.252 | None            |\n",
      "| ST_DMZ-PUB-SRV-WEB      | 1        | 192.168.100.2 | 255.255.255.252 | 192.168.100.1   |\n",
      "| ST_INTRA-PRV-RT-CR      | 1        | 192.168.150.2 | 255.255.255.240 | None            |\n",
      "| ST_INTRA-PRV-RT-CR      | 2        | 192.168.160.1 | 255.255.255.252 | None            |\n",
      "| ST_INTRA-PRV-RT-CR      | 3        | 192.168.170.1 | 255.255.255.252 | None            |\n",
      "| ST_INTRA-PRV-RT-CR      | 4        | 192.168.220.1 | 255.255.255.248 | None            |\n",
      "| ST_INTRA-PRV-RT-DR-1    | 1        | 192.168.160.2 | 255.255.255.252 | None            |\n",
      "| ST_INTRA-PRV-RT-DR-1    | 2        | 192.168.230.1 | 255.255.255.248 | None            |\n",
      "| ST_INTRA-PRV-RT-DR-1    | 3        | 192.168.240.1 | 255.255.255.248 | None            |\n",
      "| ST_INTRA-PRV-RT-DR-1    | 4        | 192.168.250.1 | 255.255.255.248 | None            |\n",
      "| ST_INTRA-PRV-RT-DR-2    | 1        | 192.168.170.2 | 255.255.255.252 | 192.168.170.1   |\n",
      "| ST_INTRA-PRV-RT-DR-2    | 2        | 192.168.200.1 | 255.255.255.248 | 192.168.170.1   |\n",
      "| ST_INTRA-PRV-RT-DR-2    | 3        | 192.168.210.1 | 255.255.255.248 | 192.168.170.1   |\n",
      "| ST_HO-PRV-PC-1          | 1        | 192.168.200.2 | 255.255.255.0   | 192.168.200.1   |\n",
      "| ST_HO-PRV-PC-2          | 1        | 192.168.200.3 | 255.255.255.0   | 192.168.200.1   |\n",
      "| ST_HO-PRV-PC-3          | 1        | 192.168.200.4 | 255.255.255.0   | 192.168.200.1   |\n",
      "| ST_HR-PRV-PC-1          | 1        | 192.168.210.2 | 255.255.255.0   | 192.168.210.1   |\n",
      "| ST_HR-PRV-PC-2          | 1        | 192.168.210.3 | 255.255.255.0   | 192.168.210.1   |\n",
      "| ST_HR-PRV-PC-3          | 1        | 192.168.210.4 | 255.255.255.0   | 192.168.210.1   |\n",
      "| ST_DATA-PRV-SRV-STORAGE | 1        | 192.168.220.2 | 255.255.255.248 | 192.168.220.1   |\n",
      "| ST_DATA-PRV-SRV-DB      | 1        | 192.168.220.3 | 255.255.255.248 | 192.168.220.1   |\n",
      "| ST_PROJ-A-PRV-PC-1      | 1        | 192.168.230.2 | 255.255.255.0   | 192.168.230.1   |\n",
      "| ST_PROJ-A-PRV-PC-2      | 1        | 192.168.230.3 | 255.255.255.0   | 192.168.230.1   |\n",
      "| ST_PROJ-A-PRV-PC-3      | 1        | 192.168.230.4 | 255.255.255.0   | 192.168.230.1   |\n",
      "| ST_PROJ-B-PRV-PC-1      | 1        | 192.168.240.2 | 255.255.255.0   | 192.168.240.1   |\n",
      "| ST_PROJ-B-PRV-PC-2      | 1        | 192.168.240.3 | 255.255.255.0   | 192.168.240.1   |\n",
      "| ST_PROJ-B-PRV-PC-3      | 1        | 192.168.240.4 | 255.255.255.0   | 192.168.240.1   |\n",
      "| ST_PROJ-C-PRV-PC-1      | 1        | 192.168.250.2 | 255.255.255.0   | 192.168.250.1   |\n",
      "| ST_PROJ-C-PRV-PC-2      | 1        | 192.168.250.3 | 255.255.255.0   | 192.168.250.1   |\n",
      "| ST_PROJ-C-PRV-PC-3      | 1        | 192.168.250.4 | 255.255.255.0   | 192.168.250.1   |\n",
      "+-------------------------+----------+---------------+-----------------+-----------------+\n",
      "+--------------------------------------------------------------------------------------------------------------------------------------------------------------------------------------------+\n",
      "|                                                                                           Links                                                                                            |\n",
      "+----------------------+-----------------------------------------------+-------------------------+------------------------------------------------+-------+-------------------+--------------+\n",
      "| Endpoint A           | A Port                                        | Endpoint B              | B Port                                         | is Up | Bandwidth (MBits) | Current Load |\n",
      "+----------------------+-----------------------------------------------+-------------------------+------------------------------------------------+-------+-------------------+--------------+\n",
      "| ISP-PUB-RT-BR        | Port 1: e3:f0:95:01:56:10/10.1.0.1            | HOME-PUB-RT-DR          | Port 2: 89:15:f1:73:5a:e7/10.1.0.2             | True  | 100.0             | 0.00000%     |\n",
      "| HOME-PUB-SW-AS       | Port 1: bd:0c:49:55:ba:b2                     | HOME-PUB-RT-DR          | Port 1: df:b6:04:c9:08:af/192.168.1.1          | True  | 100.0             | 0.00035%     |\n",
      "| HOME-PUB-SW-AS       | Port 4: 5b:a5:ff:65:9c:58                     | HOME-PUB-SRV            | Port 1: 65:85:a1:f5:f6:4d/192.168.1.4          | True  | 100.0             | 0.00012%     |\n",
      "| HOME-PUB-SW-AS       | Port 3: 2b:3f:d2:e2:90:76                     | HOME-PUB-PC-2           | Port 1: 36:9a:d8:99:e0:9a/192.168.1.3          | True  | 100.0             | 0.00012%     |\n",
      "| HOME-PUB-SW-AS       | Port 2: 26:fa:fc:d4:77:d7                     | HOME-PUB-PC-1           | Port 1: f6:d9:cf:42:ba:6f/192.168.1.2          | True  | 100.0             | 0.00012%     |\n",
      "| ISP-PUB-RT-BR        | Port 4: 17:ee:76:7e:b0:5e/10.1.100.1          | ST_PUB-FW               | Port external: 76:fd:c5:bb:16:44/10.1.100.2    | True  | 100.0             | 0.00000%     |\n",
      "| ISP-PUB-RT-BR        | Port 3: 1a:f4:88:18:46:37/10.1.10.1           | REM-PUB-FW              | Port external: ce:29:8d:5d:7a:35/10.1.10.2     | True  | 100.0             | 0.00000%     |\n",
      "| ISP-PUB-RT-BR        | Port 2: 2b:56:78:3d:f0:55/8.8.8.1             | ISP-PUB-SRV-DNS         | Port 1: 8d:59:7c:83:98:e5/8.8.8.8              | True  | 100.0             | 0.00011%     |\n",
      "| REM-PUB-FW           | Port internal: 51:2e:d4:db:b0:43/192.168.10.1 | REM-PUB-RT-DR           | Port 1: 54:53:8f:6b:99:41/192.168.10.2         | True  | 100.0             | 0.00000%     |\n",
      "| REM-PUB-RT-DR        | Port 2: 81:9d:5a:16:9f:30/192.168.20.1        | REM-PUB-SW-AS           | Port 1: 85:6b:17:d3:2f:af                      | True  | 100.0             | 0.00036%     |\n",
      "| REM-PUB-SW-AS        | Port 4: a4:19:a2:02:f4:df                     | REM-PUB-SRV             | Port 1: f0:b8:52:75:7b:86/192.168.20.4         | True  | 100.0             | 0.00012%     |\n",
      "| REM-PUB-SW-AS        | Port 3: 0b:8b:68:4b:09:c6                     | REM-PUB-PC-2            | Port 1: fc:f7:09:68:13:6f/192.168.20.3         | True  | 100.0             | 0.00012%     |\n",
      "| REM-PUB-SW-AS        | Port 2: e1:13:0c:17:54:bb                     | REM-PUB-PC-1            | Port 1: 74:d4:fa:7d:b3:c1/192.168.20.2         | True  | 100.0             | 0.00012%     |\n",
      "| ST_INTRA-PRV-RT-CR   | Port 1: a0:cb:de:28:d6:dd/192.168.150.2       | ST_PUB-FW               | Port internal: 88:8c:69:85:03:f4/192.168.150.1 | True  | 100.0             | 0.00000%     |\n",
      "| ST_PUB-FW            | Port dmz: ef:c5:74:40:ab:d4/192.168.100.1     | ST_DMZ-PUB-SRV-WEB      | Port 1: 10:7a:5c:d9:09:e3/192.168.100.2        | True  | 100.0             | 0.00012%     |\n",
      "| ST_INTRA-PRV-RT-CR   | Port 4: 81:43:18:a6:e7:fe/192.168.220.1       | ST_DATA-PRV-SW-AS       | Port 1: 41:35:d2:cd:5b:da                      | True  | 100.0             | 0.00024%     |\n",
      "| ST_INTRA-PRV-RT-CR   | Port 3: 03:02:8f:2d:11:d4/192.168.170.1       | ST_INTRA-PRV-RT-DR-2    | Port 1: a9:f4:a5:24:dc:8b/192.168.170.2        | True  | 100.0             | 0.00000%     |\n",
      "| ST_INTRA-PRV-RT-CR   | Port 2: fc:4e:fb:90:b7:8e/192.168.160.1       | ST_INTRA-PRV-RT-DR-1    | Port 1: f3:3f:08:cb:4e:5e/192.168.160.2        | True  | 100.0             | 0.00000%     |\n",
      "| ST_INTRA-PRV-RT-DR-1 | Port 4: b9:7f:28:e8:c7:ed/192.168.250.1       | ST_PROJ-C-PRV-SW-AS     | Port 1: 81:28:4c:b3:44:94                      | True  | 100.0             | 0.00036%     |\n",
      "| ST_INTRA-PRV-RT-DR-1 | Port 3: 35:fb:b3:06:5a:bb/192.168.240.1       | ST_PROJ-B-PRV-SW-AS     | Port 1: b9:d2:69:aa:2d:ac                      | True  | 100.0             | 0.00036%     |\n",
      "| ST_INTRA-PRV-RT-DR-1 | Port 2: 46:fb:3d:ed:c0:15/192.168.230.1       | ST_PROJ-A-PRV-SW-AS     | Port 1: 13:d9:55:88:15:6c                      | True  | 100.0             | 0.00036%     |\n",
      "| ST_HR-PRV-SW-AS      | Port 1: d5:11:b5:02:6e:5d                     | ST_INTRA-PRV-RT-DR-2    | Port 3: 86:3d:56:89:e9:21/192.168.210.1        | True  | 100.0             | 0.00036%     |\n",
      "| ST_HO-PRV-SW-AS      | Port 1: be:99:57:5f:56:d4                     | ST_INTRA-PRV-RT-DR-2    | Port 2: 4a:8f:4c:2a:84:9a/192.168.200.1        | True  | 100.0             | 0.00036%     |\n",
      "| ST_HO-PRV-SW-AS      | Port 4: d2:16:53:34:cc:39                     | ST_HO-PRV-PC-3          | Port 1: 9d:61:4d:22:de:94/192.168.200.4        | True  | 100.0             | 0.00012%     |\n",
      "| ST_HO-PRV-SW-AS      | Port 3: a6:38:50:d1:81:06                     | ST_HO-PRV-PC-2          | Port 1: 96:df:db:b0:d3:9f/192.168.200.3        | True  | 100.0             | 0.00012%     |\n",
      "| ST_HO-PRV-SW-AS      | Port 2: 16:0c:6f:8e:ab:e6                     | ST_HO-PRV-PC-1          | Port 1: 67:0c:95:c2:08:b8/192.168.200.2        | True  | 100.0             | 0.00012%     |\n",
      "| ST_HR-PRV-SW-AS      | Port 4: f5:46:af:74:5b:9b                     | ST_HR-PRV-PC-3          | Port 1: 66:b5:ff:d9:b0:a1/192.168.210.4        | True  | 100.0             | 0.00012%     |\n",
      "| ST_HR-PRV-SW-AS      | Port 3: eb:83:2a:64:06:fc                     | ST_HR-PRV-PC-2          | Port 1: 10:09:9d:32:57:2e/192.168.210.3        | True  | 100.0             | 0.00012%     |\n",
      "| ST_HR-PRV-SW-AS      | Port 2: 03:03:26:40:ca:17                     | ST_HR-PRV-PC-1          | Port 1: c3:24:d2:96:c5:ae/192.168.210.2        | True  | 100.0             | 0.00012%     |\n",
      "| ST_DATA-PRV-SW-AS    | Port 3: 07:68:c0:6b:ea:48                     | ST_DATA-PRV-SRV-DB      | Port 1: 0f:bf:ca:f2:f9:80/192.168.220.3        | True  | 100.0             | 0.00012%     |\n",
      "| ST_DATA-PRV-SW-AS    | Port 2: c6:b1:67:30:03:a4                     | ST_DATA-PRV-SRV-STORAGE | Port 1: e8:50:df:b4:22:39/192.168.220.2        | True  | 100.0             | 0.00012%     |\n",
      "| ST_PROJ-A-PRV-SW-AS  | Port 4: c9:e3:ed:fb:14:84                     | ST_PROJ-A-PRV-PC-3      | Port 1: d3:29:fd:c3:f5:d0/192.168.230.4        | True  | 100.0             | 0.00012%     |\n",
      "| ST_PROJ-A-PRV-SW-AS  | Port 3: 71:d2:7d:2d:6d:3c                     | ST_PROJ-A-PRV-PC-2      | Port 1: b6:3d:2e:1c:47:88/192.168.230.3        | True  | 100.0             | 0.00012%     |\n",
      "| ST_PROJ-A-PRV-SW-AS  | Port 2: 5b:14:81:d6:97:46                     | ST_PROJ-A-PRV-PC-1      | Port 1: 3a:bc:62:5c:15:d4/192.168.230.2        | True  | 100.0             | 0.00012%     |\n",
      "| ST_PROJ-B-PRV-SW-AS  | Port 4: 29:60:2f:b0:1b:c1                     | ST_PROJ-B-PRV-PC-3      | Port 1: 9b:8a:ee:ec:68:47/192.168.240.4        | True  | 100.0             | 0.00012%     |\n",
      "| ST_PROJ-B-PRV-SW-AS  | Port 3: 6d:fd:84:d1:51:4d                     | ST_PROJ-B-PRV-PC-2      | Port 1: ae:62:03:64:73:3f/192.168.240.3        | True  | 100.0             | 0.00012%     |\n",
      "| ST_PROJ-B-PRV-SW-AS  | Port 2: a8:5e:6d:a5:83:2a                     | ST_PROJ-B-PRV-PC-1      | Port 1: d7:d2:2a:e4:ec:10/192.168.240.2        | True  | 100.0             | 0.00012%     |\n",
      "| ST_PROJ-C-PRV-SW-AS  | Port 4: 3d:6d:ec:09:7e:d9                     | ST_PROJ-C-PRV-PC-3      | Port 1: fb:eb:48:68:4c:c1/192.168.250.4        | True  | 100.0             | 0.00012%     |\n",
      "| ST_PROJ-C-PRV-SW-AS  | Port 3: c9:27:fe:7f:66:7f                     | ST_PROJ-C-PRV-PC-2      | Port 1: a2:93:45:ba:16:ea/192.168.250.3        | True  | 100.0             | 0.00012%     |\n",
      "| ST_PROJ-C-PRV-SW-AS  | Port 2: 1b:94:1c:90:33:cd                     | ST_PROJ-C-PRV-PC-1      | Port 1: c2:0c:2a:ea:1c:66/192.168.250.2        | True  | 100.0             | 0.00012%     |\n",
      "+----------------------+-----------------------------------------------+-------------------------+------------------------------------------------+-------+-------------------+--------------+\n"
     ]
    }
   ],
   "source": [
    "uc7_network = env.game.simulation.network\n",
    "uc7_network.show()"
   ]
  },
  {
   "cell_type": "markdown",
   "metadata": {},
   "source": [
    "## UC7 Network | Home Office Subnet"
   ]
  },
  {
   "cell_type": "code",
   "execution_count": 5,
   "metadata": {
    "execution": {
     "iopub.execute_input": "2025-03-24T10:01:27.999761Z",
     "iopub.status.busy": "2025-03-24T10:01:27.999386Z",
     "iopub.status.idle": "2025-03-24T10:01:28.003174Z",
     "shell.execute_reply": "2025-03-24T10:01:28.002483Z"
    }
   },
   "outputs": [],
   "source": [
    "home_pub_pc_1: Computer = env.game.simulation.network.get_node_by_hostname(\"HOME-PUB-PC-1\")\n",
    "home_pub_pc_2: Computer = env.game.simulation.network.get_node_by_hostname(\"HOME-PUB-PC-2\")\n",
    "home_pub_pc_srv: Server = env.game.simulation.network.get_node_by_hostname(\"HOME-PUB-SRV\")\n",
    "home_pub_rt_dr: Router = env.game.simulation.network.get_node_by_hostname(\"HOME-PUB-RT-DR\")"
   ]
  },
  {
   "cell_type": "code",
   "execution_count": 6,
   "metadata": {
    "execution": {
     "iopub.execute_input": "2025-03-24T10:01:28.005810Z",
     "iopub.status.busy": "2025-03-24T10:01:28.005445Z",
     "iopub.status.idle": "2025-03-24T10:01:28.020804Z",
     "shell.execute_reply": "2025-03-24T10:01:28.020165Z"
    }
   },
   "outputs": [
    {
     "data": {
      "text/plain": [
       "True"
      ]
     },
     "execution_count": 6,
     "metadata": {},
     "output_type": "execute_result"
    }
   ],
   "source": [
    "# HOME PC 1 --> HOME PC 2\n",
    "home_pub_pc_1.ping(home_pub_pc_2.network_interface[1].ip_address)"
   ]
  },
  {
   "cell_type": "code",
   "execution_count": 7,
   "metadata": {
    "execution": {
     "iopub.execute_input": "2025-03-24T10:01:28.023626Z",
     "iopub.status.busy": "2025-03-24T10:01:28.023228Z",
     "iopub.status.idle": "2025-03-24T10:01:28.035716Z",
     "shell.execute_reply": "2025-03-24T10:01:28.035062Z"
    }
   },
   "outputs": [
    {
     "data": {
      "text/plain": [
       "True"
      ]
     },
     "execution_count": 7,
     "metadata": {},
     "output_type": "execute_result"
    }
   ],
   "source": [
    "# HOME PC 2 --> HOME SERVER\n",
    "home_pub_pc_2.ping(home_pub_pc_srv.network_interface[1].ip_address)"
   ]
  },
  {
   "cell_type": "code",
   "execution_count": 8,
   "metadata": {
    "execution": {
     "iopub.execute_input": "2025-03-24T10:01:28.038442Z",
     "iopub.status.busy": "2025-03-24T10:01:28.038022Z",
     "iopub.status.idle": "2025-03-24T10:01:28.045963Z",
     "shell.execute_reply": "2025-03-24T10:01:28.045306Z"
    }
   },
   "outputs": [
    {
     "data": {
      "text/plain": [
       "True"
      ]
     },
     "execution_count": 8,
     "metadata": {},
     "output_type": "execute_result"
    }
   ],
   "source": [
    "# HOME SERVER --> HOME ROUTER\n",
    "home_pub_pc_srv.ping(home_pub_rt_dr.network_interface[1].ip_address)"
   ]
  },
  {
   "cell_type": "markdown",
   "metadata": {},
   "source": [
    "## UC7 Network | Internet"
   ]
  },
  {
   "cell_type": "code",
   "execution_count": 9,
   "metadata": {
    "execution": {
     "iopub.execute_input": "2025-03-24T10:01:28.048490Z",
     "iopub.status.busy": "2025-03-24T10:01:28.048133Z",
     "iopub.status.idle": "2025-03-24T10:01:28.051407Z",
     "shell.execute_reply": "2025-03-24T10:01:28.050737Z"
    }
   },
   "outputs": [],
   "source": [
    "isp_pub_rt_br: Router = env.game.simulation.network.get_node_by_hostname(\"ISP-PUB-RT-BR\")\n",
    "isp_pub_srv_dns: Server = env.game.simulation.network.get_node_by_hostname(\"ISP-PUB-SRV-DNS\")"
   ]
  },
  {
   "cell_type": "code",
   "execution_count": 10,
   "metadata": {
    "execution": {
     "iopub.execute_input": "2025-03-24T10:01:28.053880Z",
     "iopub.status.busy": "2025-03-24T10:01:28.053520Z",
     "iopub.status.idle": "2025-03-24T10:01:28.068142Z",
     "shell.execute_reply": "2025-03-24T10:01:28.067453Z"
    }
   },
   "outputs": [
    {
     "data": {
      "text/plain": [
       "True"
      ]
     },
     "execution_count": 10,
     "metadata": {},
     "output_type": "execute_result"
    }
   ],
   "source": [
    "home_pub_pc_1.ping(isp_pub_srv_dns.network_interface[1].ip_address)"
   ]
  },
  {
   "cell_type": "code",
   "execution_count": 11,
   "metadata": {
    "execution": {
     "iopub.execute_input": "2025-03-24T10:01:28.070756Z",
     "iopub.status.busy": "2025-03-24T10:01:28.070441Z",
     "iopub.status.idle": "2025-03-24T10:01:28.078014Z",
     "shell.execute_reply": "2025-03-24T10:01:28.077373Z"
    }
   },
   "outputs": [
    {
     "data": {
      "text/plain": [
       "True"
      ]
     },
     "execution_count": 11,
     "metadata": {},
     "output_type": "execute_result"
    }
   ],
   "source": [
    "# HOME ROUTER --> INTERNET ROUTER\n",
    "home_pub_rt_dr.ping(isp_pub_rt_br.network_interface[1].ip_address)"
   ]
  },
  {
   "cell_type": "code",
   "execution_count": 12,
   "metadata": {
    "execution": {
     "iopub.execute_input": "2025-03-24T10:01:28.080641Z",
     "iopub.status.busy": "2025-03-24T10:01:28.080260Z",
     "iopub.status.idle": "2025-03-24T10:01:28.083954Z",
     "shell.execute_reply": "2025-03-24T10:01:28.083267Z"
    }
   },
   "outputs": [
    {
     "name": "stdout",
     "output_type": "stream",
     "text": [
      "+-------------------------------------+\n",
      "|      HOME-PUB-RT-DR Route Table     |\n",
      "+-------+---------+----------+--------+\n",
      "| Index | Address | Next Hop | Metric |\n",
      "+-------+---------+----------+--------+\n",
      "+-------+---------+----------+--------+\n"
     ]
    }
   ],
   "source": [
    "home_pub_rt_dr.route_table.show()"
   ]
  },
  {
   "cell_type": "code",
   "execution_count": 13,
   "metadata": {
    "execution": {
     "iopub.execute_input": "2025-03-24T10:01:28.086452Z",
     "iopub.status.busy": "2025-03-24T10:01:28.086088Z",
     "iopub.status.idle": "2025-03-24T10:01:28.096351Z",
     "shell.execute_reply": "2025-03-24T10:01:28.095679Z"
    }
   },
   "outputs": [
    {
     "data": {
      "text/plain": [
       "True"
      ]
     },
     "execution_count": 13,
     "metadata": {},
     "output_type": "execute_result"
    }
   ],
   "source": [
    "# HOME ROUTER --> INTERNET ISP\n",
    "home_pub_rt_dr.ping(isp_pub_srv_dns.network_interface[1].ip_address)"
   ]
  },
  {
   "cell_type": "code",
   "execution_count": 14,
   "metadata": {
    "execution": {
     "iopub.execute_input": "2025-03-24T10:01:28.098759Z",
     "iopub.status.busy": "2025-03-24T10:01:28.098557Z",
     "iopub.status.idle": "2025-03-24T10:01:28.106321Z",
     "shell.execute_reply": "2025-03-24T10:01:28.105755Z"
    }
   },
   "outputs": [
    {
     "data": {
      "text/plain": [
       "True"
      ]
     },
     "execution_count": 14,
     "metadata": {},
     "output_type": "execute_result"
    }
   ],
   "source": [
    "# INTERNET ROUTER --> INTERNET DNS\n",
    "isp_pub_rt_br.ping(target_ip_address=isp_pub_srv_dns.network_interface[1].ip_address)"
   ]
  },
  {
   "cell_type": "code",
   "execution_count": 15,
   "metadata": {
    "execution": {
     "iopub.execute_input": "2025-03-24T10:01:28.108635Z",
     "iopub.status.busy": "2025-03-24T10:01:28.108313Z",
     "iopub.status.idle": "2025-03-24T10:01:28.118189Z",
     "shell.execute_reply": "2025-03-24T10:01:28.117634Z"
    }
   },
   "outputs": [
    {
     "data": {
      "text/plain": [
       "True"
      ]
     },
     "execution_count": 15,
     "metadata": {},
     "output_type": "execute_result"
    }
   ],
   "source": [
    "# HOME ROUTER --> INTERNET DNS\n",
    "home_pub_rt_dr.ping(target_ip_address=isp_pub_srv_dns.network_interface[1].ip_address)"
   ]
  },
  {
   "cell_type": "code",
   "execution_count": 16,
   "metadata": {
    "execution": {
     "iopub.execute_input": "2025-03-24T10:01:28.120461Z",
     "iopub.status.busy": "2025-03-24T10:01:28.120263Z",
     "iopub.status.idle": "2025-03-24T10:01:28.132310Z",
     "shell.execute_reply": "2025-03-24T10:01:28.131613Z"
    }
   },
   "outputs": [
    {
     "data": {
      "text/plain": [
       "True"
      ]
     },
     "execution_count": 16,
     "metadata": {},
     "output_type": "execute_result"
    }
   ],
   "source": [
    "# PC 1 --> INTERNET DNS\n",
    "\n",
    "home_pub_pc_1.ping(target_ip_address=isp_pub_srv_dns.network_interface[1].ip_address)"
   ]
  },
  {
   "cell_type": "markdown",
   "metadata": {},
   "source": [
    "## UC7 Network | Remote Site Subnet"
   ]
  },
  {
   "cell_type": "code",
   "execution_count": 17,
   "metadata": {
    "execution": {
     "iopub.execute_input": "2025-03-24T10:01:28.135022Z",
     "iopub.status.busy": "2025-03-24T10:01:28.134679Z",
     "iopub.status.idle": "2025-03-24T10:01:28.138799Z",
     "shell.execute_reply": "2025-03-24T10:01:28.138136Z"
    }
   },
   "outputs": [],
   "source": [
    "network: Network = env.game.simulation.network\n",
    "\n",
    "\n",
    "rem_pub_fw: Firewall = network.get_node_by_hostname(hostname=\"REM-PUB-FW\")\n",
    "rem_pub_rt_dr: Router = network.get_node_by_hostname(hostname=\"REM-PUB-RT-DR\")\n",
    "rem_pub_sw_as: Switch = network.get_node_by_hostname(hostname=\"REM-PUB-SW-AS\")\n",
    "rem_pub_pc_1: Computer = network.get_node_by_hostname(hostname=\"REM-PUB-PC-1\")\n",
    "rem_pub_pc_2: Computer = network.get_node_by_hostname(hostname=\"REM-PUB-PC-2\")\n",
    "rem_pub_srv: Computer = network.get_node_by_hostname(hostname=\"REM-PUB-SRV\")"
   ]
  },
  {
   "cell_type": "code",
   "execution_count": 18,
   "metadata": {
    "execution": {
     "iopub.execute_input": "2025-03-24T10:01:28.141474Z",
     "iopub.status.busy": "2025-03-24T10:01:28.141107Z",
     "iopub.status.idle": "2025-03-24T10:01:28.154103Z",
     "shell.execute_reply": "2025-03-24T10:01:28.153529Z"
    }
   },
   "outputs": [
    {
     "data": {
      "text/plain": [
       "True"
      ]
     },
     "execution_count": 18,
     "metadata": {},
     "output_type": "execute_result"
    }
   ],
   "source": [
    "# Remote PC 1 --> Remote PC_2\n",
    "\n",
    "rem_pub_pc_1.ping(rem_pub_pc_2.network_interface[1].ip_address)"
   ]
  },
  {
   "cell_type": "code",
   "execution_count": 19,
   "metadata": {
    "execution": {
     "iopub.execute_input": "2025-03-24T10:01:28.156807Z",
     "iopub.status.busy": "2025-03-24T10:01:28.156332Z",
     "iopub.status.idle": "2025-03-24T10:01:28.168576Z",
     "shell.execute_reply": "2025-03-24T10:01:28.167929Z"
    }
   },
   "outputs": [
    {
     "data": {
      "text/plain": [
       "True"
      ]
     },
     "execution_count": 19,
     "metadata": {},
     "output_type": "execute_result"
    }
   ],
   "source": [
    "# Remote PC 2 --> Remote Server\n",
    "\n",
    "rem_pub_pc_2.ping(rem_pub_srv.network_interface[1].ip_address)"
   ]
  },
  {
   "cell_type": "code",
   "execution_count": 20,
   "metadata": {
    "execution": {
     "iopub.execute_input": "2025-03-24T10:01:28.171235Z",
     "iopub.status.busy": "2025-03-24T10:01:28.170809Z",
     "iopub.status.idle": "2025-03-24T10:01:28.178697Z",
     "shell.execute_reply": "2025-03-24T10:01:28.178142Z"
    }
   },
   "outputs": [
    {
     "data": {
      "text/plain": [
       "True"
      ]
     },
     "execution_count": 20,
     "metadata": {},
     "output_type": "execute_result"
    }
   ],
   "source": [
    "# Remote Server --> Remote Site Router\n",
    "\n",
    "rem_pub_srv.ping(rem_pub_rt_dr.network_interface[1].ip_address)"
   ]
  },
  {
   "cell_type": "code",
   "execution_count": 21,
   "metadata": {
    "execution": {
     "iopub.execute_input": "2025-03-24T10:01:28.180944Z",
     "iopub.status.busy": "2025-03-24T10:01:28.180741Z",
     "iopub.status.idle": "2025-03-24T10:01:28.189973Z",
     "shell.execute_reply": "2025-03-24T10:01:28.189446Z"
    }
   },
   "outputs": [
    {
     "data": {
      "text/plain": [
       "True"
      ]
     },
     "execution_count": 21,
     "metadata": {},
     "output_type": "execute_result"
    }
   ],
   "source": [
    "# Remote Site Router --> Remote Pub Firewall (Internal)\n",
    "\n",
    "rem_pub_rt_dr.ping(rem_pub_fw.network_interface[1].ip_address)"
   ]
  },
  {
   "cell_type": "code",
   "execution_count": 22,
   "metadata": {
    "execution": {
     "iopub.execute_input": "2025-03-24T10:01:28.192567Z",
     "iopub.status.busy": "2025-03-24T10:01:28.192113Z",
     "iopub.status.idle": "2025-03-24T10:01:28.200383Z",
     "shell.execute_reply": "2025-03-24T10:01:28.199727Z"
    }
   },
   "outputs": [
    {
     "data": {
      "text/plain": [
       "True"
      ]
     },
     "execution_count": 22,
     "metadata": {},
     "output_type": "execute_result"
    }
   ],
   "source": [
    "# Remote Site Router --> Remote Pub Firewall (External)\n",
    "\n",
    "rem_pub_rt_dr.ping(rem_pub_fw.network_interface[2].ip_address)"
   ]
  },
  {
   "cell_type": "code",
   "execution_count": 23,
   "metadata": {
    "execution": {
     "iopub.execute_input": "2025-03-24T10:01:28.202862Z",
     "iopub.status.busy": "2025-03-24T10:01:28.202486Z",
     "iopub.status.idle": "2025-03-24T10:01:28.211740Z",
     "shell.execute_reply": "2025-03-24T10:01:28.211074Z"
    }
   },
   "outputs": [
    {
     "data": {
      "text/plain": [
       "True"
      ]
     },
     "execution_count": 23,
     "metadata": {},
     "output_type": "execute_result"
    }
   ],
   "source": [
    "# Remote Pub Firewall (external) --> Public Internet\n",
    "\n",
    "rem_pub_fw.ping(isp_pub_rt_br.network_interface[1].ip_address)"
   ]
  },
  {
   "cell_type": "code",
   "execution_count": 24,
   "metadata": {
    "execution": {
     "iopub.execute_input": "2025-03-24T10:01:28.214359Z",
     "iopub.status.busy": "2025-03-24T10:01:28.213968Z",
     "iopub.status.idle": "2025-03-24T10:01:28.229048Z",
     "shell.execute_reply": "2025-03-24T10:01:28.228474Z"
    }
   },
   "outputs": [
    {
     "data": {
      "text/plain": [
       "True"
      ]
     },
     "execution_count": 24,
     "metadata": {},
     "output_type": "execute_result"
    }
   ],
   "source": [
    "# Remote Site PC 1 --> Public DNS\n",
    "\n",
    "rem_pub_pc_1.ping(target_ip_address=isp_pub_srv_dns.network_interface[1].ip_address)"
   ]
  },
  {
   "cell_type": "code",
   "execution_count": 25,
   "metadata": {
    "execution": {
     "iopub.execute_input": "2025-03-24T10:01:28.231573Z",
     "iopub.status.busy": "2025-03-24T10:01:28.231172Z",
     "iopub.status.idle": "2025-03-24T10:01:28.248283Z",
     "shell.execute_reply": "2025-03-24T10:01:28.247690Z"
    }
   },
   "outputs": [
    {
     "data": {
      "text/plain": [
       "True"
      ]
     },
     "execution_count": 25,
     "metadata": {},
     "output_type": "execute_result"
    }
   ],
   "source": [
    "# Remote Site PC 1 --> Home Office PC 1\n",
    "\n",
    "rem_pub_pc_1.ping(target_ip_address=home_pub_pc_1.network_interface[1].ip_address)"
   ]
  },
  {
   "cell_type": "markdown",
   "metadata": {},
   "source": [
    "## UC7 Network | SOME_TECH_DMZ"
   ]
  },
  {
   "cell_type": "code",
   "execution_count": 26,
   "metadata": {
    "execution": {
     "iopub.execute_input": "2025-03-24T10:01:28.251086Z",
     "iopub.status.busy": "2025-03-24T10:01:28.250693Z",
     "iopub.status.idle": "2025-03-24T10:01:28.253989Z",
     "shell.execute_reply": "2025-03-24T10:01:28.253420Z"
    }
   },
   "outputs": [],
   "source": [
    "st_pub_fw: Firewall = network.get_node_by_hostname(hostname=\"ST_PUB-FW\")\n",
    "st_dmz_pub_srv_web: Server = network.get_node_by_hostname(hostname=\"ST_DMZ-PUB-SRV-WEB\")"
   ]
  },
  {
   "cell_type": "code",
   "execution_count": 27,
   "metadata": {
    "execution": {
     "iopub.execute_input": "2025-03-24T10:01:28.256568Z",
     "iopub.status.busy": "2025-03-24T10:01:28.256117Z",
     "iopub.status.idle": "2025-03-24T10:01:28.264189Z",
     "shell.execute_reply": "2025-03-24T10:01:28.263623Z"
    }
   },
   "outputs": [
    {
     "data": {
      "text/plain": [
       "True"
      ]
     },
     "execution_count": 27,
     "metadata": {},
     "output_type": "execute_result"
    }
   ],
   "source": [
    "# Some Tech Firewall --> Some Tech DMZ public web server\n",
    "\n",
    "st_pub_fw.ping(st_dmz_pub_srv_web.network_interface[1].ip_address)"
   ]
  },
  {
   "cell_type": "code",
   "execution_count": 28,
   "metadata": {
    "execution": {
     "iopub.execute_input": "2025-03-24T10:01:28.266601Z",
     "iopub.status.busy": "2025-03-24T10:01:28.266230Z",
     "iopub.status.idle": "2025-03-24T10:01:28.278202Z",
     "shell.execute_reply": "2025-03-24T10:01:28.277531Z"
    }
   },
   "outputs": [
    {
     "data": {
      "text/plain": [
       "True"
      ]
     },
     "execution_count": 28,
     "metadata": {},
     "output_type": "execute_result"
    }
   ],
   "source": [
    "# Some Tech Firewall --> Public DNS Server\n",
    "\n",
    "st_pub_fw.ping(isp_pub_srv_dns.network_interface[1].ip_address)"
   ]
  },
  {
   "cell_type": "code",
   "execution_count": 29,
   "metadata": {
    "execution": {
     "iopub.execute_input": "2025-03-24T10:01:28.280848Z",
     "iopub.status.busy": "2025-03-24T10:01:28.280460Z",
     "iopub.status.idle": "2025-03-24T10:01:28.288257Z",
     "shell.execute_reply": "2025-03-24T10:01:28.287583Z"
    }
   },
   "outputs": [
    {
     "data": {
      "text/plain": [
       "True"
      ]
     },
     "execution_count": 29,
     "metadata": {},
     "output_type": "execute_result"
    }
   ],
   "source": [
    "# Some Tech Firewall --> Internet Router (Port 4)\n",
    "\n",
    "st_pub_fw.ping(isp_pub_rt_br.network_interface[4].ip_address)"
   ]
  },
  {
   "cell_type": "markdown",
   "metadata": {},
   "source": [
    "## UC7 Network | SOME_TECH_INTRANET"
   ]
  },
  {
   "cell_type": "code",
   "execution_count": 30,
   "metadata": {
    "execution": {
     "iopub.execute_input": "2025-03-24T10:01:28.290829Z",
     "iopub.status.busy": "2025-03-24T10:01:28.290389Z",
     "iopub.status.idle": "2025-03-24T10:01:28.293751Z",
     "shell.execute_reply": "2025-03-24T10:01:28.293146Z"
    }
   },
   "outputs": [],
   "source": [
    "st_intra_prv_rt_cr: Router = network.get_node_by_hostname(hostname=\"ST_INTRA-PRV-RT-CR\")\n",
    "st_intra_prv_rt_dr_1: Router = network.get_node_by_hostname(hostname=\"ST_INTRA-PRV-RT-DR-1\")\n",
    "st_intra_prv_rt_dr_2: Router = network.get_node_by_hostname(hostname=\"ST_INTRA-PRV-RT-DR-2\")"
   ]
  },
  {
   "cell_type": "code",
   "execution_count": 31,
   "metadata": {
    "execution": {
     "iopub.execute_input": "2025-03-24T10:01:28.296272Z",
     "iopub.status.busy": "2025-03-24T10:01:28.295774Z",
     "iopub.status.idle": "2025-03-24T10:01:28.305607Z",
     "shell.execute_reply": "2025-03-24T10:01:28.304959Z"
    }
   },
   "outputs": [
    {
     "data": {
      "text/plain": [
       "True"
      ]
     },
     "execution_count": 31,
     "metadata": {},
     "output_type": "execute_result"
    }
   ],
   "source": [
    "# Some Tech Intranet Private Router CR --> Some Tech Public Firewall\n",
    "\n",
    "st_intra_prv_rt_cr.ping(st_pub_fw.network_interface[3].ip_address)"
   ]
  },
  {
   "cell_type": "code",
   "execution_count": 32,
   "metadata": {
    "execution": {
     "iopub.execute_input": "2025-03-24T10:01:28.308057Z",
     "iopub.status.busy": "2025-03-24T10:01:28.307657Z",
     "iopub.status.idle": "2025-03-24T10:01:28.316978Z",
     "shell.execute_reply": "2025-03-24T10:01:28.316324Z"
    }
   },
   "outputs": [
    {
     "data": {
      "text/plain": [
       "True"
      ]
     },
     "execution_count": 32,
     "metadata": {},
     "output_type": "execute_result"
    }
   ],
   "source": [
    "# Some tech intranet router DR 1 --> Some Tech Intranet Router CR\n",
    "\n",
    "st_intra_prv_rt_dr_1.ping(st_intra_prv_rt_cr.network_interface[1].ip_address)"
   ]
  },
  {
   "cell_type": "code",
   "execution_count": 33,
   "metadata": {
    "execution": {
     "iopub.execute_input": "2025-03-24T10:01:28.319180Z",
     "iopub.status.busy": "2025-03-24T10:01:28.318995Z",
     "iopub.status.idle": "2025-03-24T10:01:28.328021Z",
     "shell.execute_reply": "2025-03-24T10:01:28.327458Z"
    }
   },
   "outputs": [
    {
     "data": {
      "text/plain": [
       "True"
      ]
     },
     "execution_count": 33,
     "metadata": {},
     "output_type": "execute_result"
    }
   ],
   "source": [
    "# Some tech intranet router DR 2 --> Some Tech Intranet Router CR\n",
    "\n",
    "st_intra_prv_rt_dr_2.ping(st_intra_prv_rt_cr.network_interface[1].ip_address)"
   ]
  },
  {
   "cell_type": "code",
   "execution_count": 34,
   "metadata": {
    "execution": {
     "iopub.execute_input": "2025-03-24T10:01:28.330447Z",
     "iopub.status.busy": "2025-03-24T10:01:28.330062Z",
     "iopub.status.idle": "2025-03-24T10:01:28.339807Z",
     "shell.execute_reply": "2025-03-24T10:01:28.339282Z"
    }
   },
   "outputs": [
    {
     "data": {
      "text/plain": [
       "True"
      ]
     },
     "execution_count": 34,
     "metadata": {},
     "output_type": "execute_result"
    }
   ],
   "source": [
    "# Some tech intranet router DR 1 --> Some tech intranet router DR 2\n",
    "\n",
    "st_intra_prv_rt_dr_1.ping(st_intra_prv_rt_dr_2.network_interface[1].ip_address)"
   ]
  },
  {
   "cell_type": "code",
   "execution_count": 35,
   "metadata": {
    "execution": {
     "iopub.execute_input": "2025-03-24T10:01:28.342298Z",
     "iopub.status.busy": "2025-03-24T10:01:28.341932Z",
     "iopub.status.idle": "2025-03-24T10:01:28.354065Z",
     "shell.execute_reply": "2025-03-24T10:01:28.353389Z"
    }
   },
   "outputs": [
    {
     "data": {
      "text/plain": [
       "True"
      ]
     },
     "execution_count": 35,
     "metadata": {},
     "output_type": "execute_result"
    }
   ],
   "source": [
    "# Some tech intranet router DR 1 --> Some Tech Firewall (Internal Port)\n",
    "\n",
    "st_intra_prv_rt_dr_1.ping(st_pub_fw.network_interface[3].ip_address)"
   ]
  },
  {
   "cell_type": "code",
   "execution_count": 36,
   "metadata": {
    "execution": {
     "iopub.execute_input": "2025-03-24T10:01:28.356684Z",
     "iopub.status.busy": "2025-03-24T10:01:28.356312Z",
     "iopub.status.idle": "2025-03-24T10:01:28.367604Z",
     "shell.execute_reply": "2025-03-24T10:01:28.367062Z"
    }
   },
   "outputs": [
    {
     "data": {
      "text/plain": [
       "True"
      ]
     },
     "execution_count": 36,
     "metadata": {},
     "output_type": "execute_result"
    }
   ],
   "source": [
    "# Some tech intranet router DR 1 --> Some Tech Firewall (DMZ Port)\n",
    "\n",
    "st_intra_prv_rt_dr_1.ping(st_pub_fw.network_interface[2].ip_address)"
   ]
  },
  {
   "cell_type": "code",
   "execution_count": 37,
   "metadata": {
    "execution": {
     "iopub.execute_input": "2025-03-24T10:01:28.370098Z",
     "iopub.status.busy": "2025-03-24T10:01:28.369709Z",
     "iopub.status.idle": "2025-03-24T10:01:28.381331Z",
     "shell.execute_reply": "2025-03-24T10:01:28.380649Z"
    }
   },
   "outputs": [
    {
     "data": {
      "text/plain": [
       "True"
      ]
     },
     "execution_count": 37,
     "metadata": {},
     "output_type": "execute_result"
    }
   ],
   "source": [
    "# Some tech intranet router DR 1 --> Some Tech Firewall (External Port)\n",
    "\n",
    "st_intra_prv_rt_dr_1.ping(st_pub_fw.network_interface[1].ip_address)"
   ]
  },
  {
   "cell_type": "code",
   "execution_count": 38,
   "metadata": {
    "execution": {
     "iopub.execute_input": "2025-03-24T10:01:28.383991Z",
     "iopub.status.busy": "2025-03-24T10:01:28.383515Z",
     "iopub.status.idle": "2025-03-24T10:01:28.396982Z",
     "shell.execute_reply": "2025-03-24T10:01:28.396408Z"
    }
   },
   "outputs": [
    {
     "data": {
      "text/plain": [
       "True"
      ]
     },
     "execution_count": 38,
     "metadata": {},
     "output_type": "execute_result"
    }
   ],
   "source": [
    "# Some Tech Intranet Router DR 1 --> Some Tech DMZ web-server\n",
    "\n",
    "st_intra_prv_rt_dr_1.ping(target_ip_address=st_dmz_pub_srv_web.network_interface[1].ip_address)"
   ]
  },
  {
   "cell_type": "code",
   "execution_count": 39,
   "metadata": {
    "execution": {
     "iopub.execute_input": "2025-03-24T10:01:28.399484Z",
     "iopub.status.busy": "2025-03-24T10:01:28.399112Z",
     "iopub.status.idle": "2025-03-24T10:01:28.415053Z",
     "shell.execute_reply": "2025-03-24T10:01:28.414404Z"
    }
   },
   "outputs": [
    {
     "data": {
      "text/plain": [
       "True"
      ]
     },
     "execution_count": 39,
     "metadata": {},
     "output_type": "execute_result"
    }
   ],
   "source": [
    "# Some tech intranet router DR 1 --> Public Internet\n",
    "\n",
    "st_intra_prv_rt_dr_1.ping(isp_pub_rt_br.network_interface[3].ip_address)"
   ]
  },
  {
   "cell_type": "code",
   "execution_count": 40,
   "metadata": {
    "execution": {
     "iopub.execute_input": "2025-03-24T10:01:28.417653Z",
     "iopub.status.busy": "2025-03-24T10:01:28.417298Z",
     "iopub.status.idle": "2025-03-24T10:01:28.433126Z",
     "shell.execute_reply": "2025-03-24T10:01:28.432567Z"
    }
   },
   "outputs": [
    {
     "data": {
      "text/plain": [
       "True"
      ]
     },
     "execution_count": 40,
     "metadata": {},
     "output_type": "execute_result"
    }
   ],
   "source": [
    "# Some tech intranet router DR 1 --> Public DNS\n",
    "\n",
    "st_intra_prv_rt_dr_1.ping(isp_pub_srv_dns.network_interface[1].ip_address)"
   ]
  },
  {
   "cell_type": "code",
   "execution_count": 41,
   "metadata": {
    "execution": {
     "iopub.execute_input": "2025-03-24T10:01:28.435526Z",
     "iopub.status.busy": "2025-03-24T10:01:28.435323Z",
     "iopub.status.idle": "2025-03-24T10:01:28.453312Z",
     "shell.execute_reply": "2025-03-24T10:01:28.452638Z"
    }
   },
   "outputs": [
    {
     "data": {
      "text/plain": [
       "True"
      ]
     },
     "execution_count": 41,
     "metadata": {},
     "output_type": "execute_result"
    }
   ],
   "source": [
    "# Some Tech Intranet Router DR 1 --> Home Office PC 1\n",
    "\n",
    "st_intra_prv_rt_dr_1.ping(target_ip_address=home_pub_pc_1.network_interface[1].ip_address)"
   ]
  },
  {
   "cell_type": "code",
   "execution_count": 42,
   "metadata": {
    "execution": {
     "iopub.execute_input": "2025-03-24T10:01:28.455699Z",
     "iopub.status.busy": "2025-03-24T10:01:28.455495Z",
     "iopub.status.idle": "2025-03-24T10:01:28.476553Z",
     "shell.execute_reply": "2025-03-24T10:01:28.475798Z"
    }
   },
   "outputs": [
    {
     "data": {
      "text/plain": [
       "True"
      ]
     },
     "execution_count": 42,
     "metadata": {},
     "output_type": "execute_result"
    }
   ],
   "source": [
    "# Some Tech Intranet Router DR 1 --> Remote Site PC 1\n",
    "\n",
    "st_intra_prv_rt_dr_1.ping(target_ip_address=rem_pub_pc_1.network_interface[1].ip_address)"
   ]
  },
  {
   "cell_type": "markdown",
   "metadata": {},
   "source": [
    "## UC7 Network | Some Tech Head Office"
   ]
  },
  {
   "cell_type": "code",
   "execution_count": 43,
   "metadata": {
    "execution": {
     "iopub.execute_input": "2025-03-24T10:01:28.479231Z",
     "iopub.status.busy": "2025-03-24T10:01:28.479018Z",
     "iopub.status.idle": "2025-03-24T10:01:28.482533Z",
     "shell.execute_reply": "2025-03-24T10:01:28.481972Z"
    }
   },
   "outputs": [],
   "source": [
    "st_head_office_private_pc_1: Computer = network.get_node_by_hostname(\"ST_HO-PRV-PC-1\")\n",
    "st_head_office_private_pc_2: Computer = network.get_node_by_hostname(\"ST_HO-PRV-PC-2\")\n",
    "st_head_office_private_pc_3: Computer = network.get_node_by_hostname(\"ST_HO-PRV-PC-3\")"
   ]
  },
  {
   "cell_type": "code",
   "execution_count": 44,
   "metadata": {
    "execution": {
     "iopub.execute_input": "2025-03-24T10:01:28.485099Z",
     "iopub.status.busy": "2025-03-24T10:01:28.484607Z",
     "iopub.status.idle": "2025-03-24T10:01:28.523762Z",
     "shell.execute_reply": "2025-03-24T10:01:28.523065Z"
    }
   },
   "outputs": [
    {
     "data": {
      "text/plain": [
       "True"
      ]
     },
     "execution_count": 44,
     "metadata": {},
     "output_type": "execute_result"
    }
   ],
   "source": [
    "# ST Home office PC 1 --> ST Home Office PC 2\n",
    "\n",
    "st_head_office_private_pc_1.ping(st_head_office_private_pc_1.network_interface[1].ip_address)"
   ]
  },
  {
   "cell_type": "code",
   "execution_count": 45,
   "metadata": {
    "execution": {
     "iopub.execute_input": "2025-03-24T10:01:28.526482Z",
     "iopub.status.busy": "2025-03-24T10:01:28.526154Z",
     "iopub.status.idle": "2025-03-24T10:01:28.534843Z",
     "shell.execute_reply": "2025-03-24T10:01:28.534210Z"
    }
   },
   "outputs": [
    {
     "data": {
      "text/plain": [
       "True"
      ]
     },
     "execution_count": 45,
     "metadata": {},
     "output_type": "execute_result"
    }
   ],
   "source": [
    "# ST Home office PC 3 --> ST Router DR 2\n",
    "\n",
    "st_head_office_private_pc_1.ping(st_intra_prv_rt_dr_2.network_interface[1].ip_address)"
   ]
  },
  {
   "cell_type": "code",
   "execution_count": 46,
   "metadata": {
    "execution": {
     "iopub.execute_input": "2025-03-24T10:01:28.537560Z",
     "iopub.status.busy": "2025-03-24T10:01:28.537194Z",
     "iopub.status.idle": "2025-03-24T10:01:28.556015Z",
     "shell.execute_reply": "2025-03-24T10:01:28.555359Z"
    }
   },
   "outputs": [
    {
     "data": {
      "text/plain": [
       "True"
      ]
     },
     "execution_count": 46,
     "metadata": {},
     "output_type": "execute_result"
    }
   ],
   "source": [
    "# ST Home office PC 1 --> Public DNS\n",
    "\n",
    "st_head_office_private_pc_1.ping(isp_pub_srv_dns.network_interface[1].ip_address)"
   ]
  },
  {
   "cell_type": "markdown",
   "metadata": {},
   "source": [
    "## UC7 Network | Some Tech Human Resources"
   ]
  },
  {
   "cell_type": "code",
   "execution_count": 47,
   "metadata": {
    "execution": {
     "iopub.execute_input": "2025-03-24T10:01:28.558975Z",
     "iopub.status.busy": "2025-03-24T10:01:28.558481Z",
     "iopub.status.idle": "2025-03-24T10:01:28.561990Z",
     "shell.execute_reply": "2025-03-24T10:01:28.561415Z"
    }
   },
   "outputs": [],
   "source": [
    "st_human_resources_private_pc_1: Computer = network.get_node_by_hostname(\"ST_HR-PRV-PC-1\")\n",
    "st_human_resources_private_pc_2: Computer = network.get_node_by_hostname(\"ST_HR-PRV-PC-2\")\n",
    "st_human_resources_private_pc_3: Computer = network.get_node_by_hostname(\"ST_HR-PRV-PC-3\")"
   ]
  },
  {
   "cell_type": "code",
   "execution_count": 48,
   "metadata": {
    "execution": {
     "iopub.execute_input": "2025-03-24T10:01:28.564279Z",
     "iopub.status.busy": "2025-03-24T10:01:28.564066Z",
     "iopub.status.idle": "2025-03-24T10:01:28.576370Z",
     "shell.execute_reply": "2025-03-24T10:01:28.575720Z"
    }
   },
   "outputs": [
    {
     "data": {
      "text/plain": [
       "True"
      ]
     },
     "execution_count": 48,
     "metadata": {},
     "output_type": "execute_result"
    }
   ],
   "source": [
    "# ST Human Resources PC 1 --> ST Human Resources PC 2\n",
    "\n",
    "st_human_resources_private_pc_1.ping(st_human_resources_private_pc_2.network_interface[1].ip_address)"
   ]
  },
  {
   "cell_type": "code",
   "execution_count": 49,
   "metadata": {
    "execution": {
     "iopub.execute_input": "2025-03-24T10:01:28.578640Z",
     "iopub.status.busy": "2025-03-24T10:01:28.578444Z",
     "iopub.status.idle": "2025-03-24T10:01:28.590204Z",
     "shell.execute_reply": "2025-03-24T10:01:28.589641Z"
    }
   },
   "outputs": [
    {
     "data": {
      "text/plain": [
       "True"
      ]
     },
     "execution_count": 49,
     "metadata": {},
     "output_type": "execute_result"
    }
   ],
   "source": [
    "# ST Human Resources PC 2 --> # ST Human Resources PC 3\n",
    "\n",
    "st_human_resources_private_pc_2.ping(st_human_resources_private_pc_3.network_interface[1].ip_address)"
   ]
  },
  {
   "cell_type": "code",
   "execution_count": 50,
   "metadata": {
    "execution": {
     "iopub.execute_input": "2025-03-24T10:01:28.592733Z",
     "iopub.status.busy": "2025-03-24T10:01:28.592358Z",
     "iopub.status.idle": "2025-03-24T10:01:28.600822Z",
     "shell.execute_reply": "2025-03-24T10:01:28.600295Z"
    }
   },
   "outputs": [
    {
     "data": {
      "text/plain": [
       "True"
      ]
     },
     "execution_count": 50,
     "metadata": {},
     "output_type": "execute_result"
    }
   ],
   "source": [
    "# ST Human Resources PC 1 --> ST Intranet Router DR 2\n",
    "\n",
    "st_human_resources_private_pc_1.ping(st_intra_prv_rt_dr_2.network_interface[1].ip_address)"
   ]
  },
  {
   "cell_type": "code",
   "execution_count": 51,
   "metadata": {
    "execution": {
     "iopub.execute_input": "2025-03-24T10:01:28.603310Z",
     "iopub.status.busy": "2025-03-24T10:01:28.602911Z",
     "iopub.status.idle": "2025-03-24T10:01:28.619796Z",
     "shell.execute_reply": "2025-03-24T10:01:28.619254Z"
    }
   },
   "outputs": [
    {
     "data": {
      "text/plain": [
       "True"
      ]
     },
     "execution_count": 51,
     "metadata": {},
     "output_type": "execute_result"
    }
   ],
   "source": [
    "# ST Human Resources PC 1 --> Public DNS\n",
    "\n",
    "st_human_resources_private_pc_1.ping(isp_pub_srv_dns.network_interface[1].ip_address)"
   ]
  },
  {
   "cell_type": "markdown",
   "metadata": {},
   "source": [
    "## UC7 Network | Some Tech Data (Database / Database Backup)"
   ]
  },
  {
   "cell_type": "code",
   "execution_count": 52,
   "metadata": {
    "execution": {
     "iopub.execute_input": "2025-03-24T10:01:28.622172Z",
     "iopub.status.busy": "2025-03-24T10:01:28.621974Z",
     "iopub.status.idle": "2025-03-24T10:01:28.625197Z",
     "shell.execute_reply": "2025-03-24T10:01:28.624629Z"
    }
   },
   "outputs": [],
   "source": [
    "st_data_private_server_database: Server = network.get_node_by_hostname(\"ST_DATA-PRV-SRV-DB\")\n",
    "st_data_private_server_storage: Server = network.get_node_by_hostname(\"ST_DATA-PRV-SRV-STORAGE\")"
   ]
  },
  {
   "cell_type": "code",
   "execution_count": 53,
   "metadata": {
    "execution": {
     "iopub.execute_input": "2025-03-24T10:01:28.627345Z",
     "iopub.status.busy": "2025-03-24T10:01:28.627150Z",
     "iopub.status.idle": "2025-03-24T10:01:28.638863Z",
     "shell.execute_reply": "2025-03-24T10:01:28.638334Z"
    }
   },
   "outputs": [
    {
     "data": {
      "text/plain": [
       "True"
      ]
     },
     "execution_count": 53,
     "metadata": {},
     "output_type": "execute_result"
    }
   ],
   "source": [
    "# ST Data Private Database --> ST Data Private Storage\n",
    "\n",
    "st_data_private_server_database.ping(st_data_private_server_storage.network_interface[1].ip_address)"
   ]
  },
  {
   "cell_type": "code",
   "execution_count": 54,
   "metadata": {
    "execution": {
     "iopub.execute_input": "2025-03-24T10:01:28.641282Z",
     "iopub.status.busy": "2025-03-24T10:01:28.640869Z",
     "iopub.status.idle": "2025-03-24T10:01:28.655850Z",
     "shell.execute_reply": "2025-03-24T10:01:28.655195Z"
    }
   },
   "outputs": [
    {
     "data": {
      "text/plain": [
       "True"
      ]
     },
     "execution_count": 54,
     "metadata": {},
     "output_type": "execute_result"
    }
   ],
   "source": [
    "# ST Data Private Storage --> Public DNS\n",
    "\n",
    "st_data_private_server_storage.ping(isp_pub_srv_dns.network_interface[1].ip_address)"
   ]
  },
  {
   "cell_type": "markdown",
   "metadata": {},
   "source": [
    "## UC7 Network | Some Tech Project A "
   ]
  },
  {
   "cell_type": "code",
   "execution_count": 55,
   "metadata": {
    "execution": {
     "iopub.execute_input": "2025-03-24T10:01:28.658250Z",
     "iopub.status.busy": "2025-03-24T10:01:28.658053Z",
     "iopub.status.idle": "2025-03-24T10:01:28.661268Z",
     "shell.execute_reply": "2025-03-24T10:01:28.660670Z"
    }
   },
   "outputs": [],
   "source": [
    "st_project_a_private_pc_1: Computer = network.get_node_by_hostname(\"ST_PROJ-A-PRV-PC-1\")\n",
    "st_project_a_private_pc_2: Computer = network.get_node_by_hostname(\"ST_PROJ-A-PRV-PC-2\")\n",
    "st_project_a_private_pc_3: Computer = network.get_node_by_hostname(\"ST_PROJ-A-PRV-PC-3\")"
   ]
  },
  {
   "cell_type": "code",
   "execution_count": 56,
   "metadata": {
    "execution": {
     "iopub.execute_input": "2025-03-24T10:01:28.663712Z",
     "iopub.status.busy": "2025-03-24T10:01:28.663358Z",
     "iopub.status.idle": "2025-03-24T10:01:28.675941Z",
     "shell.execute_reply": "2025-03-24T10:01:28.675369Z"
    }
   },
   "outputs": [
    {
     "data": {
      "text/plain": [
       "True"
      ]
     },
     "execution_count": 56,
     "metadata": {},
     "output_type": "execute_result"
    }
   ],
   "source": [
    "# ST Private Project A PC 1 --> ST Private Project A PC 2\n",
    "\n",
    "st_project_a_private_pc_1.ping(st_project_a_private_pc_2.network_interface[1].ip_address)"
   ]
  },
  {
   "cell_type": "code",
   "execution_count": 57,
   "metadata": {
    "execution": {
     "iopub.execute_input": "2025-03-24T10:01:28.678537Z",
     "iopub.status.busy": "2025-03-24T10:01:28.677997Z",
     "iopub.status.idle": "2025-03-24T10:01:28.717100Z",
     "shell.execute_reply": "2025-03-24T10:01:28.716445Z"
    }
   },
   "outputs": [
    {
     "data": {
      "text/plain": [
       "True"
      ]
     },
     "execution_count": 57,
     "metadata": {},
     "output_type": "execute_result"
    }
   ],
   "source": [
    "# ST Private Project A PC 2 --> ST Private Project A PC 3\n",
    "\n",
    "st_project_a_private_pc_3.ping(st_project_a_private_pc_3.network_interface[1].ip_address)"
   ]
  },
  {
   "cell_type": "code",
   "execution_count": 58,
   "metadata": {
    "execution": {
     "iopub.execute_input": "2025-03-24T10:01:28.719478Z",
     "iopub.status.busy": "2025-03-24T10:01:28.719289Z",
     "iopub.status.idle": "2025-03-24T10:01:28.736556Z",
     "shell.execute_reply": "2025-03-24T10:01:28.735992Z"
    }
   },
   "outputs": [
    {
     "data": {
      "text/plain": [
       "True"
      ]
     },
     "execution_count": 58,
     "metadata": {},
     "output_type": "execute_result"
    }
   ],
   "source": [
    "# ST Private Project A PC 3 --> Public DNS\n",
    "\n",
    "st_project_a_private_pc_3.ping(isp_pub_srv_dns.network_interface[1].ip_address)"
   ]
  },
  {
   "cell_type": "code",
   "execution_count": 59,
   "metadata": {
    "execution": {
     "iopub.execute_input": "2025-03-24T10:01:28.739231Z",
     "iopub.status.busy": "2025-03-24T10:01:28.738810Z",
     "iopub.status.idle": "2025-03-24T10:01:28.751373Z",
     "shell.execute_reply": "2025-03-24T10:01:28.750754Z"
    }
   },
   "outputs": [
    {
     "data": {
      "text/plain": [
       "True"
      ]
     },
     "execution_count": 59,
     "metadata": {},
     "output_type": "execute_result"
    }
   ],
   "source": [
    "# ST Private Project A PC 1 --> ST_INTRA-PRV-RT-CR\n",
    "\n",
    "st_project_a_private_pc_1.ping(st_intra_prv_rt_cr.network_interface[1].ip_address)"
   ]
  },
  {
   "cell_type": "code",
   "execution_count": 60,
   "metadata": {
    "execution": {
     "iopub.execute_input": "2025-03-24T10:01:28.754187Z",
     "iopub.status.busy": "2025-03-24T10:01:28.753775Z",
     "iopub.status.idle": "2025-03-24T10:01:28.767177Z",
     "shell.execute_reply": "2025-03-24T10:01:28.766499Z"
    }
   },
   "outputs": [
    {
     "data": {
      "text/plain": [
       "True"
      ]
     },
     "execution_count": 60,
     "metadata": {},
     "output_type": "execute_result"
    }
   ],
   "source": [
    "# ST Private Project A PC 1 --> ST_INTRA-PRV-RT-DR-2\n",
    "\n",
    "st_project_a_private_pc_1.ping(\"192.168.170.2\")"
   ]
  },
  {
   "cell_type": "markdown",
   "metadata": {},
   "source": [
    "## UC7 Network | Some Tech Project B"
   ]
  },
  {
   "cell_type": "code",
   "execution_count": 61,
   "metadata": {
    "execution": {
     "iopub.execute_input": "2025-03-24T10:01:28.770078Z",
     "iopub.status.busy": "2025-03-24T10:01:28.769622Z",
     "iopub.status.idle": "2025-03-24T10:01:28.773538Z",
     "shell.execute_reply": "2025-03-24T10:01:28.772937Z"
    }
   },
   "outputs": [],
   "source": [
    "st_project_b_private_pc_1: Computer = network.get_node_by_hostname(\"ST_PROJ-B-PRV-PC-1\")\n",
    "st_project_b_private_pc_2: Computer = network.get_node_by_hostname(\"ST_PROJ-B-PRV-PC-2\")\n",
    "st_project_b_private_pc_3: Computer = network.get_node_by_hostname(\"ST_PROJ-B-PRV-PC-3\")"
   ]
  },
  {
   "cell_type": "code",
   "execution_count": 62,
   "metadata": {
    "execution": {
     "iopub.execute_input": "2025-03-24T10:01:28.776287Z",
     "iopub.status.busy": "2025-03-24T10:01:28.775831Z",
     "iopub.status.idle": "2025-03-24T10:01:28.788982Z",
     "shell.execute_reply": "2025-03-24T10:01:28.788322Z"
    }
   },
   "outputs": [
    {
     "data": {
      "text/plain": [
       "True"
      ]
     },
     "execution_count": 62,
     "metadata": {},
     "output_type": "execute_result"
    }
   ],
   "source": [
    "# ST Private Project B PC 1 --> ST Private Project B PC 2\n",
    "\n",
    "st_project_b_private_pc_1.ping(st_project_b_private_pc_2.network_interface[1].ip_address)"
   ]
  },
  {
   "cell_type": "code",
   "execution_count": 63,
   "metadata": {
    "execution": {
     "iopub.execute_input": "2025-03-24T10:01:28.791615Z",
     "iopub.status.busy": "2025-03-24T10:01:28.791252Z",
     "iopub.status.idle": "2025-03-24T10:01:28.803721Z",
     "shell.execute_reply": "2025-03-24T10:01:28.803064Z"
    }
   },
   "outputs": [
    {
     "data": {
      "text/plain": [
       "True"
      ]
     },
     "execution_count": 63,
     "metadata": {},
     "output_type": "execute_result"
    }
   ],
   "source": [
    "# ST Private Project B PC 2 --> ST Private Project B PC 3\n",
    "\n",
    "st_project_b_private_pc_2.ping(st_project_b_private_pc_3.network_interface[1].ip_address)"
   ]
  },
  {
   "cell_type": "code",
   "execution_count": 64,
   "metadata": {
    "execution": {
     "iopub.execute_input": "2025-03-24T10:01:28.806005Z",
     "iopub.status.busy": "2025-03-24T10:01:28.805788Z",
     "iopub.status.idle": "2025-03-24T10:01:28.823777Z",
     "shell.execute_reply": "2025-03-24T10:01:28.823215Z"
    }
   },
   "outputs": [
    {
     "data": {
      "text/plain": [
       "True"
      ]
     },
     "execution_count": 64,
     "metadata": {},
     "output_type": "execute_result"
    }
   ],
   "source": [
    "# ST Private Project B PC 3 --> Public DNS\n",
    "\n",
    "st_project_b_private_pc_3.ping(isp_pub_srv_dns.network_interface[1].ip_address)"
   ]
  },
  {
   "cell_type": "markdown",
   "metadata": {},
   "source": [
    "## UC7 Network | Some Tech Project C"
   ]
  },
  {
   "cell_type": "code",
   "execution_count": 65,
   "metadata": {
    "execution": {
     "iopub.execute_input": "2025-03-24T10:01:28.826341Z",
     "iopub.status.busy": "2025-03-24T10:01:28.826133Z",
     "iopub.status.idle": "2025-03-24T10:01:28.829552Z",
     "shell.execute_reply": "2025-03-24T10:01:28.829001Z"
    }
   },
   "outputs": [],
   "source": [
    "st_project_c_private_pc_1: Computer = network.get_node_by_hostname(\"ST_PROJ-C-PRV-PC-1\")\n",
    "st_project_c_private_pc_2: Computer = network.get_node_by_hostname(\"ST_PROJ-C-PRV-PC-2\")\n",
    "st_project_c_private_pc_3: Computer = network.get_node_by_hostname(\"ST_PROJ-C-PRV-PC-3\")"
   ]
  },
  {
   "cell_type": "code",
   "execution_count": 66,
   "metadata": {
    "execution": {
     "iopub.execute_input": "2025-03-24T10:01:28.831818Z",
     "iopub.status.busy": "2025-03-24T10:01:28.831624Z",
     "iopub.status.idle": "2025-03-24T10:01:28.843624Z",
     "shell.execute_reply": "2025-03-24T10:01:28.843084Z"
    }
   },
   "outputs": [
    {
     "data": {
      "text/plain": [
       "True"
      ]
     },
     "execution_count": 66,
     "metadata": {},
     "output_type": "execute_result"
    }
   ],
   "source": [
    "# ST Private Project C PC 1 --> ST Private Project C PC 2\n",
    "\n",
    "st_project_c_private_pc_1.ping(st_project_c_private_pc_2.network_interface[1].ip_address)"
   ]
  },
  {
   "cell_type": "code",
   "execution_count": 67,
   "metadata": {
    "execution": {
     "iopub.execute_input": "2025-03-24T10:01:28.845853Z",
     "iopub.status.busy": "2025-03-24T10:01:28.845655Z",
     "iopub.status.idle": "2025-03-24T10:01:28.857764Z",
     "shell.execute_reply": "2025-03-24T10:01:28.857223Z"
    }
   },
   "outputs": [
    {
     "data": {
      "text/plain": [
       "True"
      ]
     },
     "execution_count": 67,
     "metadata": {},
     "output_type": "execute_result"
    }
   ],
   "source": [
    "# ST Private Project C PC 2 --> ST Private Project C PC 3\n",
    "\n",
    "st_project_c_private_pc_2.ping(st_project_c_private_pc_3.network_interface[1].ip_address)"
   ]
  },
  {
   "cell_type": "code",
   "execution_count": 68,
   "metadata": {
    "execution": {
     "iopub.execute_input": "2025-03-24T10:01:28.860147Z",
     "iopub.status.busy": "2025-03-24T10:01:28.859945Z",
     "iopub.status.idle": "2025-03-24T10:01:28.877619Z",
     "shell.execute_reply": "2025-03-24T10:01:28.876958Z"
    }
   },
   "outputs": [
    {
     "data": {
      "text/plain": [
       "True"
      ]
     },
     "execution_count": 68,
     "metadata": {},
     "output_type": "execute_result"
    }
   ],
   "source": [
    "# ST Private Project C PC 3 --> Public DNS\n",
    "\n",
    "st_project_c_private_pc_3.ping(isp_pub_srv_dns.network_interface[1].ip_address)"
   ]
  },
  {
   "cell_type": "code",
   "execution_count": 69,
   "metadata": {
    "execution": {
     "iopub.execute_input": "2025-03-24T10:01:28.880397Z",
     "iopub.status.busy": "2025-03-24T10:01:28.880037Z",
     "iopub.status.idle": "2025-03-24T10:01:28.891685Z",
     "shell.execute_reply": "2025-03-24T10:01:28.891034Z"
    }
   },
   "outputs": [
    {
     "data": {
      "text/plain": [
       "True"
      ]
     },
     "execution_count": 69,
     "metadata": {},
     "output_type": "execute_result"
    }
   ],
   "source": [
    "# ST Private Project C PC 1 --> ST Private Project B PC 1\n",
    "\n",
    "st_project_c_private_pc_1.ping(st_project_b_private_pc_1.network_interface[1].ip_address)"
   ]
  },
  {
   "cell_type": "code",
   "execution_count": 70,
   "metadata": {
    "execution": {
     "iopub.execute_input": "2025-03-24T10:01:28.894270Z",
     "iopub.status.busy": "2025-03-24T10:01:28.894067Z",
     "iopub.status.idle": "2025-03-24T10:01:28.904908Z",
     "shell.execute_reply": "2025-03-24T10:01:28.904258Z"
    }
   },
   "outputs": [
    {
     "data": {
      "text/plain": [
       "True"
      ]
     },
     "execution_count": 70,
     "metadata": {},
     "output_type": "execute_result"
    }
   ],
   "source": [
    "# ST Private Project B PC 1 --> ST Private Project A PC 1\n",
    "\n",
    "st_project_b_private_pc_1.ping(st_project_a_private_pc_1.network_interface[1].ip_address)"
   ]
  },
  {
   "cell_type": "code",
   "execution_count": 71,
   "metadata": {
    "execution": {
     "iopub.execute_input": "2025-03-24T10:01:28.907366Z",
     "iopub.status.busy": "2025-03-24T10:01:28.907016Z",
     "iopub.status.idle": "2025-03-24T10:01:28.922734Z",
     "shell.execute_reply": "2025-03-24T10:01:28.922090Z"
    }
   },
   "outputs": [
    {
     "data": {
      "text/plain": [
       "True"
      ]
     },
     "execution_count": 71,
     "metadata": {},
     "output_type": "execute_result"
    }
   ],
   "source": [
    "# ST Private Project A PC 1 --> ST Head Office Private PC 1\n",
    "\n",
    "st_project_a_private_pc_1.ping(st_head_office_private_pc_1.network_interface[1].ip_address)"
   ]
  },
  {
   "cell_type": "code",
   "execution_count": 72,
   "metadata": {
    "execution": {
     "iopub.execute_input": "2025-03-24T10:01:28.925337Z",
     "iopub.status.busy": "2025-03-24T10:01:28.924980Z",
     "iopub.status.idle": "2025-03-24T10:01:28.940915Z",
     "shell.execute_reply": "2025-03-24T10:01:28.940247Z"
    }
   },
   "outputs": [
    {
     "data": {
      "text/plain": [
       "True"
      ]
     },
     "execution_count": 72,
     "metadata": {},
     "output_type": "execute_result"
    }
   ],
   "source": [
    "# ST Private Project A PC 1 --> ST Human Resources Private PC 1\n",
    "\n",
    "st_project_a_private_pc_1.ping(st_human_resources_private_pc_1.network_interface[1].ip_address)"
   ]
  },
  {
   "cell_type": "markdown",
   "metadata": {},
   "source": [
    "## UC7 Network | Applications & Services"
   ]
  },
  {
   "cell_type": "code",
   "execution_count": 73,
   "metadata": {
    "execution": {
     "iopub.execute_input": "2025-03-24T10:01:28.943447Z",
     "iopub.status.busy": "2025-03-24T10:01:28.943240Z",
     "iopub.status.idle": "2025-03-24T10:01:28.947947Z",
     "shell.execute_reply": "2025-03-24T10:01:28.947295Z"
    }
   },
   "outputs": [
    {
     "name": "stdout",
     "output_type": "stream",
     "text": [
      "+---------------------------------------------------------------------------------------+\n",
      "|                            ISP-PUB-SRV-DNS Software Manager                           |\n",
      "+----------------------+-------------+-----------------+--------------+------+----------+\n",
      "| Name                 | Type        | Operating State | Health State | Port | Protocol |\n",
      "+----------------------+-------------+-----------------+--------------+------+----------+\n",
      "| arp                  | Service     | RUNNING         | GOOD         | 219  | udp      |\n",
      "| icmp                 | Service     | RUNNING         | GOOD         | None | icmp     |\n",
      "| dns-client           | Service     | RUNNING         | GOOD         | 53   | tcp      |\n",
      "| ntp-client           | Service     | RUNNING         | GOOD         | 123  | udp      |\n",
      "| web-browser          | Application | RUNNING         | GOOD         | 80   | tcp      |\n",
      "| nmap                 | Application | RUNNING         | GOOD         | None | none     |\n",
      "| user-session-manager | Service     | RUNNING         | GOOD         | None | none     |\n",
      "| user-manager         | Service     | RUNNING         | GOOD         | None | none     |\n",
      "| terminal             | Service     | RUNNING         | GOOD         | 22   | tcp      |\n",
      "| dns-server           | Service     | RUNNING         | GOOD         | 53   | tcp      |\n",
      "| c2-server            | Application | RUNNING         | GOOD         | None | tcp      |\n",
      "+----------------------+-------------+-----------------+--------------+------+----------+\n"
     ]
    }
   ],
   "source": [
    "# dns-server\n",
    "\n",
    "isp_pub_srv_dns.software_manager.show()"
   ]
  },
  {
   "cell_type": "code",
   "execution_count": 74,
   "metadata": {
    "execution": {
     "iopub.execute_input": "2025-03-24T10:01:28.950407Z",
     "iopub.status.busy": "2025-03-24T10:01:28.950022Z",
     "iopub.status.idle": "2025-03-24T10:01:28.962479Z",
     "shell.execute_reply": "2025-03-24T10:01:28.961795Z"
    }
   },
   "outputs": [
    {
     "data": {
      "text/plain": [
       "True"
      ]
     },
     "execution_count": 74,
     "metadata": {},
     "output_type": "execute_result"
    }
   ],
   "source": [
    "# web-browser\n",
    "\n",
    "st_project_a_web_browser = st_project_a_private_pc_1.software_manager.software[\"web-browser\"]\n",
    "st_project_a_web_browser.get_webpage()"
   ]
  },
  {
   "cell_type": "code",
   "execution_count": 75,
   "metadata": {
    "execution": {
     "iopub.execute_input": "2025-03-24T10:01:28.965177Z",
     "iopub.status.busy": "2025-03-24T10:01:28.964773Z",
     "iopub.status.idle": "2025-03-24T10:01:28.969806Z",
     "shell.execute_reply": "2025-03-24T10:01:28.969225Z"
    }
   },
   "outputs": [
    {
     "name": "stdout",
     "output_type": "stream",
     "text": [
      "+----------------------------------------------------------------------------------------------------------------------------------------------+\n",
      "|                                                          ST_DMZ-PUB-SRV-WEB Sys Log                                                          |\n",
      "+-------------------------+-------+------------------------------------------------------------------------------------------------------------+\n",
      "| Timestamp               | Level | Message                                                                                                    |\n",
      "+-------------------------+-------+------------------------------------------------------------------------------------------------------------+\n",
      "| 2025-03-24 10:01:28,386 | INFO  | Sending echo reply to 192.168.100.2                                                                        |\n",
      "| 2025-03-24 10:01:28,388 | INFO  | Received echo request from 192.168.160.2                                                                   |\n",
      "| 2025-03-24 10:01:28,388 | INFO  | Sending echo reply to 192.168.100.2                                                                        |\n",
      "| 2025-03-24 10:01:28,390 | INFO  | Received echo request from 192.168.160.2                                                                   |\n",
      "| 2025-03-24 10:01:28,390 | INFO  | Sending echo reply to 192.168.100.2                                                                        |\n",
      "| 2025-03-24 10:01:28,392 | INFO  | Received echo request from 192.168.160.2                                                                   |\n",
      "| 2025-03-24 10:01:28,392 | INFO  | Sending echo reply to 192.168.100.2                                                                        |\n",
      "| 2025-03-24 10:01:28,957 | INFO  | Adding ARP cache entry for ef:c5:74:40:ab:d4/192.168.230.2 via NIC Port 1: 10:7a:5c:d9:09:e3/192.168.100.2 |\n",
      "| 2025-03-24 10:01:28,957 | INFO  | web-server: Received HTTP GET http://some_tech.com                                                         |\n",
      "| 2025-03-24 10:01:28,957 | INFO  | web-server: Sending HTTP Response 200                                                                      |\n",
      "+-------------------------+-------+------------------------------------------------------------------------------------------------------------+\n"
     ]
    }
   ],
   "source": [
    "# web-server\n",
    "\n",
    "st_web_server = st_dmz_pub_srv_web.software_manager.software[\"web-server\"]\n",
    "st_web_server.sys_log.show()"
   ]
  },
  {
   "cell_type": "code",
   "execution_count": 76,
   "metadata": {
    "execution": {
     "iopub.execute_input": "2025-03-24T10:01:28.972469Z",
     "iopub.status.busy": "2025-03-24T10:01:28.972038Z",
     "iopub.status.idle": "2025-03-24T10:01:28.979652Z",
     "shell.execute_reply": "2025-03-24T10:01:28.979108Z"
    }
   },
   "outputs": [
    {
     "data": {
      "text/plain": [
       "True"
      ]
     },
     "execution_count": 76,
     "metadata": {},
     "output_type": "execute_result"
    }
   ],
   "source": [
    "# database-client\n",
    "\n",
    "st_database_client = st_project_a_private_pc_1.software_manager.software[\"database-client\"]\n",
    "st_database_client.connect()"
   ]
  },
  {
   "cell_type": "code",
   "execution_count": 77,
   "metadata": {
    "execution": {
     "iopub.execute_input": "2025-03-24T10:01:28.982164Z",
     "iopub.status.busy": "2025-03-24T10:01:28.981755Z",
     "iopub.status.idle": "2025-03-24T10:01:28.987239Z",
     "shell.execute_reply": "2025-03-24T10:01:28.986662Z"
    }
   },
   "outputs": [
    {
     "name": "stdout",
     "output_type": "stream",
     "text": [
      "+----------------------------------------------------------------------------------------------------------------------------------------------------------------+\n",
      "|                                                                   ST_DATA-PRV-SRV-DB Sys Log                                                                   |\n",
      "+-------------------------+-------+------------------------------------------------------------------------------------------------------------------------------+\n",
      "| Timestamp               | Level | Message                                                                                                                      |\n",
      "+-------------------------+-------+------------------------------------------------------------------------------------------------------------------------------+\n",
      "| 2025-03-24 10:01:28,630 | INFO  | Received ARP response for 192.168.220.2 from e8:50:df:b4:22:39 via Network Interface Port 1: 0f:bf:ca:f2:f9:80/192.168.220.3 |\n",
      "| 2025-03-24 10:01:28,631 | INFO  | Received ARP response for 192.168.220.2 from e8:50:df:b4:22:39 via Network Interface Port 1: 0f:bf:ca:f2:f9:80/192.168.220.3 |\n",
      "| 2025-03-24 10:01:28,632 | INFO  | Reply from 192.168.220.2: bytes=32, time=<1ms, TTL=59                                                                        |\n",
      "| 2025-03-24 10:01:28,633 | INFO  | Reply from 192.168.220.2: bytes=32, time=<1ms, TTL=59                                                                        |\n",
      "| 2025-03-24 10:01:28,634 | INFO  | Reply from 192.168.220.2: bytes=32, time=<1ms, TTL=59                                                                        |\n",
      "| 2025-03-24 10:01:28,635 | INFO  | Reply from 192.168.220.2: bytes=32, time=<1ms, TTL=59                                                                        |\n",
      "| 2025-03-24 10:01:28,635 | INFO  | Ping statistics for 192.168.220.2: Packets: Sent = 4, Received = 4, Lost = 0 (0.0% loss)                                     |\n",
      "| 2025-03-24 10:01:28,974 | INFO  | Adding ARP cache entry for 81:43:18:a6:e7:fe/192.168.230.2 via NIC Port 1: 0f:bf:ca:f2:f9:80/192.168.220.3                   |\n",
      "| 2025-03-24 10:01:28,974 | INFO  | database-service: Processing new connection request (2d4cb547-5e86-4f48-90e5-8fd92fe53e14) from 192.168.230.2                |\n",
      "| 2025-03-24 10:01:28,975 | INFO  | database-service: Connection request (1269b14d-03e7-4b91-b4e4-c6c4e11bbef4) authorised                                       |\n",
      "+-------------------------+-------+------------------------------------------------------------------------------------------------------------------------------+\n"
     ]
    }
   ],
   "source": [
    "# database-service\n",
    "\n",
    "st_database = st_data_private_server_database.software_manager.software[\"database-service\"]\n",
    "st_database.sys_log.show()"
   ]
  },
  {
   "cell_type": "code",
   "execution_count": 78,
   "metadata": {
    "execution": {
     "iopub.execute_input": "2025-03-24T10:01:28.989720Z",
     "iopub.status.busy": "2025-03-24T10:01:28.989328Z",
     "iopub.status.idle": "2025-03-24T10:01:28.994127Z",
     "shell.execute_reply": "2025-03-24T10:01:28.993570Z"
    }
   },
   "outputs": [
    {
     "name": "stdout",
     "output_type": "stream",
     "text": [
      "+----------------------------------------------------------------------------------------------------------------------------------------+\n",
      "|                                                    ST_DATA-PRV-SRV-STORAGE Sys Log                                                     |\n",
      "+-------------------------+-------+------------------------------------------------------------------------------------------------------+\n",
      "| Timestamp               | Level | Message                                                                                              |\n",
      "+-------------------------+-------+------------------------------------------------------------------------------------------------------+\n",
      "| 2025-03-24 10:01:28,633 | INFO  | Sending echo reply to 192.168.220.2                                                                  |\n",
      "| 2025-03-24 10:01:28,634 | INFO  | Received echo request from 192.168.220.3                                                             |\n",
      "| 2025-03-24 10:01:28,635 | INFO  | Sending echo reply to 192.168.220.2                                                                  |\n",
      "| 2025-03-24 10:01:28,641 | INFO  | Pinging 8.8.8.8:                                                                                     |\n",
      "| 2025-03-24 10:01:28,644 | INFO  | Adding ARP cache entry for 81:43:18:a6:e7:fe/8.8.8.8 via NIC Port 1: e8:50:df:b4:22:39/192.168.220.2 |\n",
      "| 2025-03-24 10:01:28,645 | INFO  | Reply from 8.8.8.8: bytes=32, time=<1ms, TTL=56                                                      |\n",
      "| 2025-03-24 10:01:28,647 | INFO  | Reply from 8.8.8.8: bytes=32, time=<1ms, TTL=56                                                      |\n",
      "| 2025-03-24 10:01:28,650 | INFO  | Reply from 8.8.8.8: bytes=32, time=<1ms, TTL=56                                                      |\n",
      "| 2025-03-24 10:01:28,652 | INFO  | Reply from 8.8.8.8: bytes=32, time=<1ms, TTL=56                                                      |\n",
      "| 2025-03-24 10:01:28,652 | INFO  | Ping statistics for 8.8.8.8: Packets: Sent = 4, Received = 4, Lost = 0 (0.0% loss)                   |\n",
      "+-------------------------+-------+------------------------------------------------------------------------------------------------------+\n"
     ]
    }
   ],
   "source": [
    "# ftp-server\n",
    "\n",
    "st_ftp_server = st_data_private_server_storage.software_manager.software[\"ftp-server\"]\n",
    "\n",
    "st_ftp_server.sys_log.show()"
   ]
  },
  {
   "cell_type": "code",
   "execution_count": 79,
   "metadata": {
    "execution": {
     "iopub.execute_input": "2025-03-24T10:01:28.996482Z",
     "iopub.status.busy": "2025-03-24T10:01:28.996135Z",
     "iopub.status.idle": "2025-03-24T10:01:29.004282Z",
     "shell.execute_reply": "2025-03-24T10:01:29.003609Z"
    }
   },
   "outputs": [
    {
     "data": {
      "text/plain": [
       "True"
      ]
     },
     "execution_count": 79,
     "metadata": {},
     "output_type": "execute_result"
    }
   ],
   "source": [
    "# dns-client \n",
    "\n",
    "home_pub_pc_1: Computer = network.get_node_by_hostname(\"HOME-PUB-PC-1\")\n",
    "dns_client: DNSClient = home_pub_pc_1.software_manager.software[\"dns-client\"]\n",
    "\n",
    "dns_client.check_domain_exists(target_domain=\"some_tech.com\")\n",
    "dns_client.dns_cache.get(\"some_tech.com\", None)\n",
    "len(dns_client.dns_cache) == 1\n"
   ]
  },
  {
   "cell_type": "markdown",
   "metadata": {},
   "source": [
    "## UC7 Network | Green & Red Agent (TAP001) default behaviour"
   ]
  },
  {
   "cell_type": "code",
   "execution_count": 80,
   "metadata": {
    "execution": {
     "iopub.execute_input": "2025-03-24T10:01:29.006996Z",
     "iopub.status.busy": "2025-03-24T10:01:29.006481Z",
     "iopub.status.idle": "2025-03-24T10:01:38.206365Z",
     "shell.execute_reply": "2025-03-24T10:01:38.205579Z"
    }
   },
   "outputs": [],
   "source": [
    "for _ in range(100):\n",
    "    env.step(0)"
   ]
  },
  {
   "cell_type": "code",
   "execution_count": 81,
   "metadata": {
    "execution": {
     "iopub.execute_input": "2025-03-24T10:01:38.209770Z",
     "iopub.status.busy": "2025-03-24T10:01:38.209272Z",
     "iopub.status.idle": "2025-03-24T10:01:38.214812Z",
     "shell.execute_reply": "2025-03-24T10:01:38.214141Z"
    }
   },
   "outputs": [
    {
     "name": "stdout",
     "output_type": "stream",
     "text": [
      "\n",
      "HOME_WORKER-1-DB actions this episode:\n",
      "Step: 4, action: node-application-execute, node: HOME-PUB-PC-1, application: database-client, response: success\n",
      "Step: 8, action: node-application-execute, node: HOME-PUB-PC-1, application: database-client, response: success\n",
      "Step: 13, action: node-application-execute, node: HOME-PUB-PC-1, application: database-client, response: success\n",
      "Step: 18, action: node-application-execute, node: HOME-PUB-PC-1, application: database-client, response: success\n",
      "Step: 21, action: node-application-execute, node: HOME-PUB-PC-1, application: database-client, response: success\n",
      "Step: 25, action: node-application-execute, node: HOME-PUB-PC-1, application: database-client, response: success\n",
      "Step: 30, action: node-application-execute, node: HOME-PUB-PC-1, application: database-client, response: success\n",
      "Step: 35, action: node-application-execute, node: HOME-PUB-PC-1, application: database-client, response: success\n",
      "Step: 39, action: node-application-execute, node: HOME-PUB-PC-1, application: database-client, response: success\n",
      "Step: 44, action: node-application-execute, node: HOME-PUB-PC-1, application: database-client, response: success\n",
      "Step: 48, action: node-application-execute, node: HOME-PUB-PC-1, application: database-client, response: success\n",
      "Step: 52, action: node-application-execute, node: HOME-PUB-PC-1, application: database-client, response: success\n",
      "Step: 56, action: node-application-execute, node: HOME-PUB-PC-1, application: database-client, response: success\n",
      "Step: 59, action: node-application-execute, node: HOME-PUB-PC-1, application: database-client, response: success\n",
      "Step: 64, action: node-application-execute, node: HOME-PUB-PC-1, application: database-client, response: success\n",
      "Step: 68, action: node-application-execute, node: HOME-PUB-PC-1, application: database-client, response: success\n",
      "Step: 71, action: node-application-execute, node: HOME-PUB-PC-1, application: database-client, response: success\n",
      "Step: 76, action: node-application-execute, node: HOME-PUB-PC-1, application: database-client, response: success\n",
      "Step: 80, action: node-application-execute, node: HOME-PUB-PC-1, application: database-client, response: success\n",
      "Step: 84, action: node-application-execute, node: HOME-PUB-PC-1, application: database-client, response: success\n",
      "Step: 88, action: node-application-execute, node: HOME-PUB-PC-1, application: database-client, response: success\n",
      "Step: 91, action: node-application-execute, node: HOME-PUB-PC-1, application: database-client, response: success\n",
      "Step: 95, action: node-application-execute, node: HOME-PUB-PC-1, application: database-client, response: success\n"
     ]
    }
   ],
   "source": [
    "def print_agent_actions_except_do_nothing(agent_name):\n",
    "    print(f\"\\n{agent_name} actions this episode:\")\n",
    "    for item in env.game.agents[agent_name].history:\n",
    "        if item.action != \"do-nothing\":\n",
    "            node, application = 'unknown', 'unknown'\n",
    "            if (item.parameters.get('node_name')) is not None:\n",
    "                node = item.parameters.get('node_name')\n",
    "            if (item.parameters.get('application_name')) is not None:\n",
    "                application = item.parameters.get('application_name')\n",
    "            print(f\"Step: {item.timestep}, action: {item.action}, node: {node}, application: {application}, response: {item.response.status}\")\n",
    "\n",
    "print_agent_actions_except_do_nothing(\"HOME_WORKER-1-DB\")"
   ]
  },
  {
   "cell_type": "code",
   "execution_count": 82,
   "metadata": {
    "execution": {
     "iopub.execute_input": "2025-03-24T10:01:38.217430Z",
     "iopub.status.busy": "2025-03-24T10:01:38.217225Z",
     "iopub.status.idle": "2025-03-24T10:01:38.220983Z",
     "shell.execute_reply": "2025-03-24T10:01:38.220328Z"
    }
   },
   "outputs": [
    {
     "name": "stdout",
     "output_type": "stream",
     "text": [
      "Green Agent Ref: HOME_WORKER-1-DB Reward: 48.0\n"
     ]
    }
   ],
   "source": [
    "green_agent = env.game.agents.get(\"HOME_WORKER-1-DB\")\n",
    "print(f\"Green Agent Ref: {green_agent.config.ref} Reward: {green_agent.reward_function.total_reward}\")"
   ]
  },
  {
   "cell_type": "code",
   "execution_count": 83,
   "metadata": {
    "execution": {
     "iopub.execute_input": "2025-03-24T10:01:38.223172Z",
     "iopub.status.busy": "2025-03-24T10:01:38.222976Z",
     "iopub.status.idle": "2025-03-24T10:01:38.226666Z",
     "shell.execute_reply": "2025-03-24T10:01:38.226061Z"
    }
   },
   "outputs": [
    {
     "name": "stdout",
     "output_type": "stream",
     "text": [
      "\n",
      "HOME_WORKER-1-WEB actions this episode:\n",
      "Step: 2, action: node-application-execute, node: HOME-PUB-PC-1, application: web-browser, response: success\n",
      "Step: 3, action: node-application-execute, node: HOME-PUB-PC-1, application: web-browser, response: success\n",
      "Step: 6, action: node-application-execute, node: HOME-PUB-PC-1, application: web-browser, response: success\n",
      "Step: 15, action: node-application-execute, node: HOME-PUB-PC-1, application: web-browser, response: success\n",
      "Step: 17, action: node-application-execute, node: HOME-PUB-PC-1, application: web-browser, response: success\n",
      "Step: 19, action: node-application-execute, node: HOME-PUB-PC-1, application: web-browser, response: success\n",
      "Step: 26, action: node-application-execute, node: HOME-PUB-PC-1, application: web-browser, response: success\n",
      "Step: 28, action: node-application-execute, node: HOME-PUB-PC-1, application: web-browser, response: success\n",
      "Step: 48, action: node-application-execute, node: HOME-PUB-PC-1, application: web-browser, response: success\n",
      "Step: 55, action: node-application-execute, node: HOME-PUB-PC-1, application: web-browser, response: success\n",
      "Step: 62, action: node-application-execute, node: HOME-PUB-PC-1, application: web-browser, response: success\n",
      "Step: 63, action: node-application-execute, node: HOME-PUB-PC-1, application: web-browser, response: success\n",
      "Step: 69, action: node-application-execute, node: HOME-PUB-PC-1, application: web-browser, response: success\n",
      "Step: 91, action: node-application-execute, node: HOME-PUB-PC-1, application: web-browser, response: success\n",
      "Step: 92, action: node-application-execute, node: HOME-PUB-PC-1, application: web-browser, response: success\n",
      "Step: 93, action: node-application-execute, node: HOME-PUB-PC-1, application: web-browser, response: success\n"
     ]
    }
   ],
   "source": [
    "print_agent_actions_except_do_nothing(\"HOME_WORKER-1-WEB\")"
   ]
  },
  {
   "cell_type": "code",
   "execution_count": 84,
   "metadata": {
    "execution": {
     "iopub.execute_input": "2025-03-24T10:01:38.229166Z",
     "iopub.status.busy": "2025-03-24T10:01:38.228685Z",
     "iopub.status.idle": "2025-03-24T10:01:38.232341Z",
     "shell.execute_reply": "2025-03-24T10:01:38.231684Z"
    }
   },
   "outputs": [
    {
     "name": "stdout",
     "output_type": "stream",
     "text": [
      "Green Agent Ref: HOME_WORKER-1-WEB Reward: 19.599999999999962\n"
     ]
    }
   ],
   "source": [
    "green_agent = env.game.agents.get(\"HOME_WORKER-1-WEB\")\n",
    "print(f\"Green Agent Ref: {green_agent.config.ref} Reward: {green_agent.reward_function.total_reward}\")"
   ]
  },
  {
   "cell_type": "code",
   "execution_count": 85,
   "metadata": {
    "execution": {
     "iopub.execute_input": "2025-03-24T10:01:38.234855Z",
     "iopub.status.busy": "2025-03-24T10:01:38.234402Z",
     "iopub.status.idle": "2025-03-24T10:01:38.239547Z",
     "shell.execute_reply": "2025-03-24T10:01:38.238997Z"
    }
   },
   "outputs": [
    {
     "name": "stdout",
     "output_type": "stream",
     "text": [
      "+--------------------------------------------------------------------------------------------------------+\n",
      "|                                         attacker Behaviour Log                                         |\n",
      "+-----------+-------+------------------------------------------------------------------------------------+\n",
      "| Time Step | Level | Message                                                                            |\n",
      "+-----------+-------+------------------------------------------------------------------------------------+\n",
      "| 61        | INFO  | TAP001 attacker has opted for a Port scan!                                         |\n",
      "| 61        | INFO  | TAP001 attacker located the target but not yet confirmed a valid database service. |\n",
      "| 66        | INFO  | Found a valid target on 192.168.220.3!                                             |\n",
      "| 66        | INFO  | TAP001 attacker has opted for a Port scan!                                         |\n",
      "| 66        | INFO  | TAP001 attacker located the target and confirmed a valid database service!         |\n",
      "| 71        | INFO  | TAP001 reached the COMMAND_AND_CONTROL stage.                                      |\n",
      "| 71        | INFO  | Attempting to install C2 Beacon on starting host.                                  |\n",
      "| 76        | INFO  | Attempting to configure C2 Beacon.                                                 |\n",
      "| 81        | INFO  | Attempting to connect C2 Beacon to C2 Server.                                      |\n",
      "| 86        | INFO  | TAP001 reached the PAYLOAD stage.                                                  |\n",
      "+-----------+-------+------------------------------------------------------------------------------------+\n"
     ]
    }
   ],
   "source": [
    "red_agent = env.game.agents.get(\"attacker\")\n",
    "red_agent.logger.show()"
   ]
  },
  {
   "cell_type": "code",
   "execution_count": 86,
   "metadata": {
    "execution": {
     "iopub.execute_input": "2025-03-24T10:01:38.241991Z",
     "iopub.status.busy": "2025-03-24T10:01:38.241594Z",
     "iopub.status.idle": "2025-03-24T10:01:38.245726Z",
     "shell.execute_reply": "2025-03-24T10:01:38.245091Z"
    }
   },
   "outputs": [
    {
     "name": "stdout",
     "output_type": "stream",
     "text": [
      "+---------------------------------------------------------------------------------------------+\n",
      "|                                ST_PROJ-A-PRV-PC-1 File System                               |\n",
      "+---------------------------------+---------+---------------+-----------------------+---------+\n",
      "| File Path                       | Size    | Health status | Visible health status | Deleted |\n",
      "+---------------------------------+---------+---------------+-----------------------+---------+\n",
      "| downloads/malware_dropper.ps1   | 0 B     | GOOD          | NONE                  | False   |\n",
      "| exfiltration_folder/database.db | 4.77 MB | GOOD          | NONE                  | False   |\n",
      "| root                            | 0 B     | GOOD          | NONE                  | False   |\n",
      "+---------------------------------+---------+---------------+-----------------------+---------+\n",
      "+----------------------------------------------------------------------------------+\n",
      "|                          ST_DATA-PRV-SRV-DB File System                          |\n",
      "+----------------------+---------+---------------+-----------------------+---------+\n",
      "| File Path            | Size    | Health status | Visible health status | Deleted |\n",
      "+----------------------+---------+---------------+-----------------------+---------+\n",
      "| database/database.db | 4.77 MB | CORRUPT       | NONE                  | False   |\n",
      "| root                 | 0 B     | GOOD          | NONE                  | False   |\n",
      "+----------------------+---------+---------------+-----------------------+---------+\n"
     ]
    }
   ],
   "source": [
    "# successful TAP001 kill chain\n",
    "\n",
    "st_project_a_private_pc_1.file_system.show(full=True)\n",
    "\n",
    "st_data_private_server_database.file_system.show(full=True)"
   ]
  }
 ],
 "metadata": {
  "kernelspec": {
   "display_name": "Python 3 (ipykernel)",
   "language": "python",
   "name": "python3"
  },
  "language_info": {
   "codemirror_mode": {
    "name": "ipython",
    "version": 3
   },
   "file_extension": ".py",
   "mimetype": "text/x-python",
   "name": "python",
   "nbconvert_exporter": "python",
   "pygments_lexer": "ipython3",
   "version": "3.10.16"
  }
 },
 "nbformat": 4,
 "nbformat_minor": 2
}
