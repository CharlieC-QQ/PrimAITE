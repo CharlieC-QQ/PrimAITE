{
 "cells": [
  {
   "cell_type": "markdown",
   "metadata": {},
   "source": [
    "# Training an SB3 Agent\n",
    "\n",
    "© Crown-owned copyright 2025, Defence Science and Technology Laboratory UK\n",
    "\n",
    "This notebook will demonstrate how to use primaite to create and train a PPO agent, using a pre-defined configuration file using the [UC2 scenario](./Data-Manipulation-E2E-Demonstration.ipynb)."
   ]
  },
  {
   "cell_type": "markdown",
   "metadata": {},
   "source": [
    "#### First, we import the inital packages and read in our configuration file."
   ]
  },
  {
   "cell_type": "code",
   "execution_count": 1,
   "metadata": {
    "execution": {
     "iopub.execute_input": "2025-03-24T09:53:20.214327Z",
     "iopub.status.busy": "2025-03-24T09:53:20.214124Z",
     "iopub.status.idle": "2025-03-24T09:53:20.637778Z",
     "shell.execute_reply": "2025-03-24T09:53:20.637031Z"
    }
   },
   "outputs": [
    {
     "name": "stdout",
     "output_type": "stream",
     "text": [
      "2025-03-24 09:53:20,481: Performing the PrimAITE first-time setup...\r\n",
      "2025-03-24 09:53:20,482: Building the PrimAITE app directories...\r\n",
      "2025-03-24 09:53:20,482: Building primaite_config.yaml...\r\n",
      "2025-03-24 09:53:20,482: Rebuilding the demo notebooks...\r\n",
      "2025-03-24 09:53:20,504: Rebuilding the example notebooks...\r\n",
      "2025-03-24 09:53:20,506: PrimAITE setup complete!\r\n"
     ]
    }
   ],
   "source": [
    "!primaite setup"
   ]
  },
  {
   "cell_type": "code",
   "execution_count": 2,
   "metadata": {
    "execution": {
     "iopub.execute_input": "2025-03-24T09:53:20.640954Z",
     "iopub.status.busy": "2025-03-24T09:53:20.640501Z",
     "iopub.status.idle": "2025-03-24T09:53:23.899657Z",
     "shell.execute_reply": "2025-03-24T09:53:23.899002Z"
    }
   },
   "outputs": [],
   "source": [
    "from primaite.session.environment import PrimaiteGymEnv\n",
    "from primaite.config.load import data_manipulation_config_path\n",
    "import yaml"
   ]
  },
  {
   "cell_type": "code",
   "execution_count": 3,
   "metadata": {
    "execution": {
     "iopub.execute_input": "2025-03-24T09:53:23.902627Z",
     "iopub.status.busy": "2025-03-24T09:53:23.902297Z",
     "iopub.status.idle": "2025-03-24T09:53:23.977584Z",
     "shell.execute_reply": "2025-03-24T09:53:23.976921Z"
    }
   },
   "outputs": [],
   "source": [
    "with open(data_manipulation_config_path(), 'r') as f:\n",
    "    cfg = yaml.safe_load(f)\n",
    "for agent in cfg['agents']:\n",
    "    if agent['ref'] == 'defender':\n",
    "        agent['agent_settings']['flatten_obs']=True"
   ]
  },
  {
   "cell_type": "markdown",
   "metadata": {},
   "source": [
    "Using the given configuration, we generate the environment our agent will train in."
   ]
  },
  {
   "cell_type": "code",
   "execution_count": 4,
   "metadata": {
    "execution": {
     "iopub.execute_input": "2025-03-24T09:53:23.980644Z",
     "iopub.status.busy": "2025-03-24T09:53:23.980383Z",
     "iopub.status.idle": "2025-03-24T09:53:24.086029Z",
     "shell.execute_reply": "2025-03-24T09:53:24.085386Z"
    }
   },
   "outputs": [
    {
     "name": "stderr",
     "output_type": "stream",
     "text": [
      "2025-03-24 09:53:24,082: PrimaiteGymEnv RNG seed = None\n"
     ]
    }
   ],
   "source": [
    "gym = PrimaiteGymEnv(env_config=cfg)"
   ]
  },
  {
   "cell_type": "markdown",
   "metadata": {},
   "source": [
    "Lets define training parameters for the agent."
   ]
  },
  {
   "cell_type": "code",
   "execution_count": 5,
   "metadata": {
    "execution": {
     "iopub.execute_input": "2025-03-24T09:53:24.088684Z",
     "iopub.status.busy": "2025-03-24T09:53:24.088468Z",
     "iopub.status.idle": "2025-03-24T09:53:26.577260Z",
     "shell.execute_reply": "2025-03-24T09:53:26.576468Z"
    }
   },
   "outputs": [
    {
     "name": "stderr",
     "output_type": "stream",
     "text": [
      "WARNING: All log messages before absl::InitializeLog() is called are written to STDERR\n",
      "E0000 00:00:1742810004.534146    7457 cuda_dnn.cc:8579] Unable to register cuDNN factory: Attempting to register factory for plugin cuDNN when one has already been registered\n",
      "E0000 00:00:1742810004.538558    7457 cuda_blas.cc:1407] Unable to register cuBLAS factory: Attempting to register factory for plugin cuBLAS when one has already been registered\n",
      "W0000 00:00:1742810004.550850    7457 computation_placer.cc:177] computation placer already registered. Please check linkage and avoid linking the same target more than once.\n",
      "W0000 00:00:1742810004.550862    7457 computation_placer.cc:177] computation placer already registered. Please check linkage and avoid linking the same target more than once.\n",
      "W0000 00:00:1742810004.550864    7457 computation_placer.cc:177] computation placer already registered. Please check linkage and avoid linking the same target more than once.\n",
      "W0000 00:00:1742810004.550866    7457 computation_placer.cc:177] computation placer already registered. Please check linkage and avoid linking the same target more than once.\n"
     ]
    }
   ],
   "source": [
    "from stable_baselines3 import PPO\n",
    "\n",
    "EPISODE_LEN = 128\n",
    "NUM_EPISODES = 5\n",
    "NO_STEPS = EPISODE_LEN * NUM_EPISODES\n",
    "BATCH_SIZE = 32\n",
    "LEARNING_RATE = 3e-4"
   ]
  },
  {
   "cell_type": "code",
   "execution_count": 6,
   "metadata": {
    "execution": {
     "iopub.execute_input": "2025-03-24T09:53:26.580783Z",
     "iopub.status.busy": "2025-03-24T09:53:26.580021Z",
     "iopub.status.idle": "2025-03-24T09:53:27.611140Z",
     "shell.execute_reply": "2025-03-24T09:53:27.610348Z"
    }
   },
   "outputs": [],
   "source": [
    "model = PPO('MlpPolicy', gym, learning_rate=LEARNING_RATE,  n_steps=NO_STEPS, batch_size=BATCH_SIZE, verbose=0, tensorboard_log=\"./PPO_UC2/\")"
   ]
  },
  {
   "cell_type": "markdown",
   "metadata": {},
   "source": [
    "With the agent configured, let's train for our defined number of episodes."
   ]
  },
  {
   "cell_type": "code",
   "execution_count": 7,
   "metadata": {
    "execution": {
     "iopub.execute_input": "2025-03-24T09:53:27.614597Z",
     "iopub.status.busy": "2025-03-24T09:53:27.614159Z",
     "iopub.status.idle": "2025-03-24T09:53:34.394076Z",
     "shell.execute_reply": "2025-03-24T09:53:34.393289Z"
    }
   },
   "outputs": [
    {
     "name": "stderr",
     "output_type": "stream",
     "text": [
      "2025-03-24 09:53:27,615: Resetting environment, episode 0, avg. reward: 0.0\n"
     ]
    },
    {
     "name": "stderr",
     "output_type": "stream",
     "text": [
      "2025-03-24 09:53:27,617: Saving agent action log to /home/runner/primaite/4.0.0/sessions/2025-03-24/09-53-21/agent_actions/episode_0.json\n"
     ]
    },
    {
     "name": "stderr",
     "output_type": "stream",
     "text": [
      "2025-03-24 09:53:28,877: Resetting environment, episode 1, avg. reward: -28.5\n"
     ]
    },
    {
     "name": "stderr",
     "output_type": "stream",
     "text": [
      "2025-03-24 09:53:28,879: Saving agent action log to /home/runner/primaite/4.0.0/sessions/2025-03-24/09-53-21/agent_actions/episode_1.json\n"
     ]
    },
    {
     "name": "stderr",
     "output_type": "stream",
     "text": [
      "2025-03-24 09:53:30,061: Resetting environment, episode 2, avg. reward: -24.499999999999947\n"
     ]
    },
    {
     "name": "stderr",
     "output_type": "stream",
     "text": [
      "2025-03-24 09:53:30,063: Saving agent action log to /home/runner/primaite/4.0.0/sessions/2025-03-24/09-53-21/agent_actions/episode_2.json\n"
     ]
    },
    {
     "name": "stderr",
     "output_type": "stream",
     "text": [
      "2025-03-24 09:53:31,222: Resetting environment, episode 3, avg. reward: -24.49999999999998\n"
     ]
    },
    {
     "name": "stderr",
     "output_type": "stream",
     "text": [
      "2025-03-24 09:53:31,224: Saving agent action log to /home/runner/primaite/4.0.0/sessions/2025-03-24/09-53-21/agent_actions/episode_3.json\n"
     ]
    },
    {
     "name": "stderr",
     "output_type": "stream",
     "text": [
      "2025-03-24 09:53:32,364: Resetting environment, episode 4, avg. reward: -21.499999999999957\n"
     ]
    },
    {
     "name": "stderr",
     "output_type": "stream",
     "text": [
      "2025-03-24 09:53:32,366: Saving agent action log to /home/runner/primaite/4.0.0/sessions/2025-03-24/09-53-21/agent_actions/episode_4.json\n"
     ]
    },
    {
     "name": "stderr",
     "output_type": "stream",
     "text": [
      "2025-03-24 09:53:33,541: Resetting environment, episode 5, avg. reward: -55.85000000000007\n"
     ]
    },
    {
     "name": "stderr",
     "output_type": "stream",
     "text": [
      "2025-03-24 09:53:33,543: Saving agent action log to /home/runner/primaite/4.0.0/sessions/2025-03-24/09-53-21/agent_actions/episode_5.json\n"
     ]
    },
    {
     "data": {
      "text/plain": [
       "<stable_baselines3.ppo.ppo.PPO at 0x7f350cab6ad0>"
      ]
     },
     "execution_count": 7,
     "metadata": {},
     "output_type": "execute_result"
    }
   ],
   "source": [
    "model.learn(total_timesteps=NO_STEPS)"
   ]
  },
  {
   "cell_type": "markdown",
   "metadata": {},
   "source": [
    "Next, let's save the agent to a zip file that can be used in future evaluation."
   ]
  },
  {
   "cell_type": "code",
   "execution_count": 8,
   "metadata": {
    "execution": {
     "iopub.execute_input": "2025-03-24T09:53:34.397237Z",
     "iopub.status.busy": "2025-03-24T09:53:34.396795Z",
     "iopub.status.idle": "2025-03-24T09:53:34.409349Z",
     "shell.execute_reply": "2025-03-24T09:53:34.408789Z"
    }
   },
   "outputs": [],
   "source": [
    "model.save(\"PrimAITE-PPO-example-agent\")"
   ]
  },
  {
   "cell_type": "markdown",
   "metadata": {},
   "source": [
    "Now, we load the saved agent and run it in evaluation mode."
   ]
  },
  {
   "cell_type": "code",
   "execution_count": 9,
   "metadata": {
    "execution": {
     "iopub.execute_input": "2025-03-24T09:53:34.411959Z",
     "iopub.status.busy": "2025-03-24T09:53:34.411724Z",
     "iopub.status.idle": "2025-03-24T09:53:34.569024Z",
     "shell.execute_reply": "2025-03-24T09:53:34.568267Z"
    }
   },
   "outputs": [],
   "source": [
    "eval_model = PPO(\"MlpPolicy\", gym)\n",
    "eval_model = PPO.load(\"PrimAITE-PPO-example-agent\", gym)"
   ]
  },
  {
   "cell_type": "markdown",
   "metadata": {},
   "source": [
    "Finally, evaluate the agent."
   ]
  },
  {
   "cell_type": "code",
   "execution_count": 10,
   "metadata": {
    "execution": {
     "iopub.execute_input": "2025-03-24T09:53:34.572426Z",
     "iopub.status.busy": "2025-03-24T09:53:34.571999Z",
     "iopub.status.idle": "2025-03-24T09:53:50.715857Z",
     "shell.execute_reply": "2025-03-24T09:53:50.715161Z"
    }
   },
   "outputs": [
    {
     "name": "stderr",
     "output_type": "stream",
     "text": [
      "/opt/hostedtoolcache/Python/3.10.16/x64/lib/python3.10/site-packages/stable_baselines3/common/evaluation.py:67: UserWarning: Evaluation environment is not wrapped with a ``Monitor`` wrapper. This may result in reporting modified episode lengths and rewards, if other wrappers happen to modify these. Consider wrapping environment first with ``Monitor`` wrapper.\n",
      "  warnings.warn(\n",
      "2025-03-24 09:53:34,629: Resetting environment, episode 6, avg. reward: 0.0\n"
     ]
    },
    {
     "name": "stderr",
     "output_type": "stream",
     "text": [
      "2025-03-24 09:53:34,630: Saving agent action log to /home/runner/primaite/4.0.0/sessions/2025-03-24/09-53-21/agent_actions/episode_6.json\n"
     ]
    },
    {
     "name": "stderr",
     "output_type": "stream",
     "text": [
      "2025-03-24 09:53:36,260: Resetting environment, episode 7, avg. reward: -57.39999999999994\n"
     ]
    },
    {
     "name": "stderr",
     "output_type": "stream",
     "text": [
      "2025-03-24 09:53:36,261: Saving agent action log to /home/runner/primaite/4.0.0/sessions/2025-03-24/09-53-21/agent_actions/episode_7.json\n"
     ]
    },
    {
     "name": "stderr",
     "output_type": "stream",
     "text": [
      "2025-03-24 09:53:37,774: Resetting environment, episode 8, avg. reward: -22.999999999999986\n"
     ]
    },
    {
     "name": "stderr",
     "output_type": "stream",
     "text": [
      "2025-03-24 09:53:37,775: Saving agent action log to /home/runner/primaite/4.0.0/sessions/2025-03-24/09-53-21/agent_actions/episode_8.json\n"
     ]
    },
    {
     "name": "stderr",
     "output_type": "stream",
     "text": [
      "2025-03-24 09:53:39,251: Resetting environment, episode 9, avg. reward: 13.550000000000097\n"
     ]
    },
    {
     "name": "stderr",
     "output_type": "stream",
     "text": [
      "2025-03-24 09:53:39,252: Saving agent action log to /home/runner/primaite/4.0.0/sessions/2025-03-24/09-53-21/agent_actions/episode_9.json\n"
     ]
    },
    {
     "name": "stderr",
     "output_type": "stream",
     "text": [
      "2025-03-24 09:53:40,745: Resetting environment, episode 10, avg. reward: -58.54999999999994\n"
     ]
    },
    {
     "name": "stderr",
     "output_type": "stream",
     "text": [
      "2025-03-24 09:53:40,747: Saving agent action log to /home/runner/primaite/4.0.0/sessions/2025-03-24/09-53-21/agent_actions/episode_10.json\n"
     ]
    },
    {
     "name": "stderr",
     "output_type": "stream",
     "text": [
      "2025-03-24 09:53:42,580: Resetting environment, episode 11, avg. reward: -57.04999999999994\n"
     ]
    },
    {
     "name": "stderr",
     "output_type": "stream",
     "text": [
      "2025-03-24 09:53:42,581: Saving agent action log to /home/runner/primaite/4.0.0/sessions/2025-03-24/09-53-21/agent_actions/episode_11.json\n"
     ]
    },
    {
     "name": "stderr",
     "output_type": "stream",
     "text": [
      "2025-03-24 09:53:44,088: Resetting environment, episode 12, avg. reward: 22.250000000000124\n"
     ]
    },
    {
     "name": "stderr",
     "output_type": "stream",
     "text": [
      "2025-03-24 09:53:44,089: Saving agent action log to /home/runner/primaite/4.0.0/sessions/2025-03-24/09-53-21/agent_actions/episode_12.json\n"
     ]
    },
    {
     "name": "stderr",
     "output_type": "stream",
     "text": [
      "2025-03-24 09:53:45,593: Resetting environment, episode 13, avg. reward: -14.599999999999982\n"
     ]
    },
    {
     "name": "stderr",
     "output_type": "stream",
     "text": [
      "2025-03-24 09:53:45,594: Saving agent action log to /home/runner/primaite/4.0.0/sessions/2025-03-24/09-53-21/agent_actions/episode_13.json\n"
     ]
    },
    {
     "name": "stderr",
     "output_type": "stream",
     "text": [
      "2025-03-24 09:53:47,103: Resetting environment, episode 14, avg. reward: -22.399999999999988\n"
     ]
    },
    {
     "name": "stderr",
     "output_type": "stream",
     "text": [
      "2025-03-24 09:53:47,104: Saving agent action log to /home/runner/primaite/4.0.0/sessions/2025-03-24/09-53-21/agent_actions/episode_14.json\n"
     ]
    },
    {
     "name": "stderr",
     "output_type": "stream",
     "text": [
      "2025-03-24 09:53:48,617: Resetting environment, episode 15, avg. reward: -56.29999999999995\n"
     ]
    },
    {
     "name": "stderr",
     "output_type": "stream",
     "text": [
      "2025-03-24 09:53:48,618: Saving agent action log to /home/runner/primaite/4.0.0/sessions/2025-03-24/09-53-21/agent_actions/episode_15.json\n"
     ]
    },
    {
     "name": "stderr",
     "output_type": "stream",
     "text": [
      "2025-03-24 09:53:50,491: Resetting environment, episode 16, avg. reward: -19.699999999999974\n"
     ]
    },
    {
     "name": "stderr",
     "output_type": "stream",
     "text": [
      "2025-03-24 09:53:50,493: Saving agent action log to /home/runner/primaite/4.0.0/sessions/2025-03-24/09-53-21/agent_actions/episode_16.json\n"
     ]
    },
    {
     "data": {
      "text/plain": [
       "(-27.320001342892645, 28.273850241009196)"
      ]
     },
     "execution_count": 10,
     "metadata": {},
     "output_type": "execute_result"
    }
   ],
   "source": [
    "from stable_baselines3.common.evaluation import evaluate_policy\n",
    "\n",
    "evaluate_policy(eval_model, gym, n_eval_episodes=10)"
   ]
  }
 ],
 "metadata": {
  "kernelspec": {
   "display_name": "Python 3 (ipykernel)",
   "language": "python",
   "name": "python3"
  },
  "language_info": {
   "codemirror_mode": {
    "name": "ipython",
    "version": 3
   },
   "file_extension": ".py",
   "mimetype": "text/x-python",
   "name": "python",
   "nbconvert_exporter": "python",
   "pygments_lexer": "ipython3",
   "version": "3.10.16"
  }
 },
 "nbformat": 4,
 "nbformat_minor": 4
}
