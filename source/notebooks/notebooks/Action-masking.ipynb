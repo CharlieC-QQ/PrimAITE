{
 "cells": [
  {
   "cell_type": "markdown",
   "metadata": {},
   "source": [
    "# Action Masking\n",
    "\n",
    "© Crown-owned copyright 2025, Defence Science and Technology Laboratory UK\n",
    "\n",
    "PrimAITE environments support action masking. The action mask shows which of the agent's actions are applicable with the current environment state. For example, a node can only be turned on if it is currently turned off. Please refer to the action masking configuration user guide page for more information."
   ]
  },
  {
   "cell_type": "code",
   "execution_count": 1,
   "metadata": {
    "execution": {
     "iopub.execute_input": "2025-03-24T09:50:33.810408Z",
     "iopub.status.busy": "2025-03-24T09:50:33.810212Z",
     "iopub.status.idle": "2025-03-24T09:50:34.269666Z",
     "shell.execute_reply": "2025-03-24T09:50:34.268954Z"
    }
   },
   "outputs": [
    {
     "name": "stdout",
     "output_type": "stream",
     "text": [
      "2025-03-24 09:50:34,098: Performing the PrimAITE first-time setup...\r\n",
      "2025-03-24 09:50:34,099: Building the PrimAITE app directories...\r\n",
      "2025-03-24 09:50:34,099: Building primaite_config.yaml...\r\n",
      "2025-03-24 09:50:34,099: Rebuilding the demo notebooks...\r\n",
      "/home/runner/primaite/4.0.0/notebooks/example_notebooks/Data-Manipulation-Customising-Red-Agent.ipynb\r\n",
      "2025-03-24 09:50:34,100: Reset example notebook: /home/runner/primaite/4.0.0/notebooks/example_notebooks/Data-Manipulation-Customising-Red-Agent.ipynb\r\n",
      "/home/runner/primaite/4.0.0/notebooks/example_notebooks/Command-and-Control-E2E-Demonstration.ipynb\r\n",
      "2025-03-24 09:50:34,100: Reset example notebook: /home/runner/primaite/4.0.0/notebooks/example_notebooks/Command-and-Control-E2E-Demonstration.ipynb\r\n",
      "/home/runner/primaite/4.0.0/notebooks/example_notebooks/Data-Manipulation-E2E-Demonstration.ipynb\r\n",
      "2025-03-24 09:50:34,100: Reset example notebook: /home/runner/primaite/4.0.0/notebooks/example_notebooks/Data-Manipulation-E2E-Demonstration.ipynb\r\n",
      "/home/runner/primaite/4.0.0/notebooks/example_notebooks/How-To-Use-Primaite-Dev-Mode.ipynb\r\n",
      "2025-03-24 09:50:34,101: Reset example notebook: /home/runner/primaite/4.0.0/notebooks/example_notebooks/How-To-Use-Primaite-Dev-Mode.ipynb\r\n",
      "/home/runner/primaite/4.0.0/notebooks/example_notebooks/Action-masking.ipynb\r\n",
      "2025-03-24 09:50:34,101: Reset example notebook: /home/runner/primaite/4.0.0/notebooks/example_notebooks/Action-masking.ipynb\r\n",
      "/home/runner/primaite/4.0.0/notebooks/example_notebooks/create-simulation_demo.ipynb\r\n",
      "2025-03-24 09:50:34,101: Reset example notebook: /home/runner/primaite/4.0.0/notebooks/example_notebooks/create-simulation_demo.ipynb\r\n",
      "/home/runner/primaite/4.0.0/notebooks/example_notebooks/Using-Episode-Schedules.ipynb\r\n",
      "2025-03-24 09:50:34,102: Reset example notebook: /home/runner/primaite/4.0.0/notebooks/example_notebooks/Using-Episode-Schedules.ipynb\r\n",
      "/home/runner/primaite/4.0.0/notebooks/example_notebooks/UC7-E2E-Demo.ipynb\r\n",
      "2025-03-24 09:50:34,102: Reset example notebook: /home/runner/primaite/4.0.0/notebooks/example_notebooks/UC7-E2E-Demo.ipynb\r\n",
      "/home/runner/primaite/4.0.0/notebooks/example_notebooks/UC7-Training.ipynb\r\n",
      "2025-03-24 09:50:34,102: Reset example notebook: /home/runner/primaite/4.0.0/notebooks/example_notebooks/UC7-Training.ipynb\r\n",
      "/home/runner/primaite/4.0.0/notebooks/example_notebooks/multi-processing.ipynb\r\n",
      "2025-03-24 09:50:34,103: Reset example notebook: /home/runner/primaite/4.0.0/notebooks/example_notebooks/multi-processing.ipynb\r\n",
      "/home/runner/primaite/4.0.0/notebooks/example_notebooks/network_simulator_demo.ipynb\r\n",
      "2025-03-24 09:50:34,103: Reset example notebook: /home/runner/primaite/4.0.0/notebooks/example_notebooks/network_simulator_demo.ipynb\r\n",
      "/home/runner/primaite/4.0.0/notebooks/example_notebooks/Requests-and-Responses.ipynb\r\n",
      "2025-03-24 09:50:34,103: Reset example notebook: /home/runner/primaite/4.0.0/notebooks/example_notebooks/Requests-and-Responses.ipynb\r\n",
      "/home/runner/primaite/4.0.0/notebooks/example_notebooks/UC7-TAP003-Kill-Chain-E2E.ipynb\r\n",
      "2025-03-24 09:50:34,104: Reset example notebook: /home/runner/primaite/4.0.0/notebooks/example_notebooks/UC7-TAP003-Kill-Chain-E2E.ipynb\r\n",
      "/home/runner/primaite/4.0.0/notebooks/example_notebooks/UC7-TAP001-Kill-Chain-E2E.ipynb\r\n",
      "2025-03-24 09:50:34,104: Reset example notebook: /home/runner/primaite/4.0.0/notebooks/example_notebooks/UC7-TAP001-Kill-Chain-E2E.ipynb\r\n",
      "/home/runner/primaite/4.0.0/notebooks/example_notebooks/UC7-attack-variants.ipynb\r\n",
      "2025-03-24 09:50:34,104: Reset example notebook: /home/runner/primaite/4.0.0/notebooks/example_notebooks/UC7-attack-variants.ipynb\r\n",
      "/home/runner/primaite/4.0.0/notebooks/example_notebooks/Training-an-SB3-Agent.ipynb\r\n",
      "2025-03-24 09:50:34,105: Reset example notebook: /home/runner/primaite/4.0.0/notebooks/example_notebooks/Training-an-SB3-Agent.ipynb\r\n",
      "/home/runner/primaite/4.0.0/notebooks/example_notebooks/Training-an-RLLib-Agent.ipynb\r\n",
      "2025-03-24 09:50:34,105: Reset example notebook: /home/runner/primaite/4.0.0/notebooks/example_notebooks/Training-an-RLLib-Agent.ipynb\r\n",
      "/home/runner/primaite/4.0.0/notebooks/example_notebooks/Training-an-RLLIB-MARL-System.ipynb\r\n",
      "2025-03-24 09:50:34,105: Reset example notebook: /home/runner/primaite/4.0.0/notebooks/example_notebooks/Training-an-RLLIB-MARL-System.ipynb\r\n",
      "/home/runner/primaite/4.0.0/notebooks/example_notebooks/UC7-network_connectivity.ipynb\r\n",
      "2025-03-24 09:50:34,105: Reset example notebook: /home/runner/primaite/4.0.0/notebooks/example_notebooks/UC7-network_connectivity.ipynb\r\n",
      "/home/runner/primaite/4.0.0/notebooks/example_notebooks/Privilege-Escalation-and-Data-Loss-Example.ipynb\r\n",
      "2025-03-24 09:50:34,106: Reset example notebook: /home/runner/primaite/4.0.0/notebooks/example_notebooks/Privilege-Escalation-and-Data-Loss-Example.ipynb\r\n",
      "/home/runner/primaite/4.0.0/notebooks/example_notebooks/Getting-Information-Out-Of-PrimAITE.ipynb\r\n",
      "2025-03-24 09:50:34,106: Reset example notebook: /home/runner/primaite/4.0.0/notebooks/example_notebooks/Getting-Information-Out-Of-PrimAITE.ipynb\r\n",
      "/home/runner/primaite/4.0.0/notebooks/example_notebooks/Terminal-Processing.ipynb\r\n",
      "2025-03-24 09:50:34,106: Reset example notebook: /home/runner/primaite/4.0.0/notebooks/example_notebooks/Terminal-Processing.ipynb\r\n",
      "2025-03-24 09:50:34,122: Rebuilding the example notebooks...\r\n",
      "2025-03-24 09:50:34,123: Reset example config: /home/runner/primaite/4.0.0/config/example_config/data_manipulation.yaml\r\n",
      "2025-03-24 09:50:34,123: Reset example config: /home/runner/primaite/4.0.0/config/example_config/client_server_p2p_network_example.yaml\r\n",
      "2025-03-24 09:50:34,124: Reset example config: /home/runner/primaite/4.0.0/config/example_config/basic_lan_network_example.yaml\r\n",
      "2025-03-24 09:50:34,124: Reset example config: /home/runner/primaite/4.0.0/config/example_config/multi_lan_internet_network_example.yaml\r\n",
      "2025-03-24 09:50:34,125: Reset example config: /home/runner/primaite/4.0.0/config/example_config/uc7_config.yaml\r\n",
      "2025-03-24 09:50:34,126: Reset example config: /home/runner/primaite/4.0.0/config/example_config/data_manipulation_marl.yaml\r\n",
      "2025-03-24 09:50:34,126: Reset example config: /home/runner/primaite/4.0.0/config/example_config/uc7_config_tap003.yaml\r\n",
      "2025-03-24 09:50:34,127: Reset example config: /home/runner/primaite/4.0.0/config/example_config/scenario_with_placeholders/greens_1.yaml\r\n",
      "2025-03-24 09:50:34,127: Reset example config: /home/runner/primaite/4.0.0/config/example_config/scenario_with_placeholders/greens_2.yaml\r\n",
      "2025-03-24 09:50:34,128: Reset example config: /home/runner/primaite/4.0.0/config/example_config/scenario_with_placeholders/greens_0.yaml\r\n",
      "2025-03-24 09:50:34,128: Reset example config: /home/runner/primaite/4.0.0/config/example_config/scenario_with_placeholders/reds_0.yaml\r\n",
      "2025-03-24 09:50:34,129: Reset example config: /home/runner/primaite/4.0.0/config/example_config/scenario_with_placeholders/schedule.yaml\r\n",
      "2025-03-24 09:50:34,129: Reset example config: /home/runner/primaite/4.0.0/config/example_config/scenario_with_placeholders/scenario.yaml\r\n",
      "2025-03-24 09:50:34,130: Reset example config: /home/runner/primaite/4.0.0/config/example_config/scenario_with_placeholders/reds_2.yaml\r\n",
      "2025-03-24 09:50:34,130: Reset example config: /home/runner/primaite/4.0.0/config/example_config/scenario_with_placeholders/reds_1.yaml\r\n",
      "2025-03-24 09:50:34,131: Reset example config: /home/runner/primaite/4.0.0/config/example_config/mini_scenario_with_simulation_variation/simulation_variant_2.yaml\r\n",
      "2025-03-24 09:50:34,131: Reset example config: /home/runner/primaite/4.0.0/config/example_config/mini_scenario_with_simulation_variation/base_scenario.yaml\r\n",
      "2025-03-24 09:50:34,132: Reset example config: /home/runner/primaite/4.0.0/config/example_config/mini_scenario_with_simulation_variation/schedule.yaml\r\n",
      "2025-03-24 09:50:34,132: Reset example config: /home/runner/primaite/4.0.0/config/example_config/mini_scenario_with_simulation_variation/simulation_variant_1.yaml\r\n",
      "2025-03-24 09:50:34,132: Reset example config: /home/runner/primaite/4.0.0/config/example_config/uc7_multiple_attack_variants/TAP001_PC2.yaml\r\n",
      "2025-03-24 09:50:34,133: Reset example config: /home/runner/primaite/4.0.0/config/example_config/uc7_multiple_attack_variants/schedule.yaml\r\n",
      "2025-03-24 09:50:34,133: Reset example config: /home/runner/primaite/4.0.0/config/example_config/uc7_multiple_attack_variants/TAP001_PC1.yaml\r\n",
      "2025-03-24 09:50:34,134: Reset example config: /home/runner/primaite/4.0.0/config/example_config/uc7_multiple_attack_variants/TAP003.yaml\r\n",
      "2025-03-24 09:50:34,134: Reset example config: /home/runner/primaite/4.0.0/config/example_config/uc7_multiple_attack_variants/uc7_config_no_red.yaml\r\n",
      "2025-03-24 09:50:34,135: Reset example config: /home/runner/primaite/4.0.0/config/example_config/uc7_multiple_attack_variants/TAP001_PC3.yaml\r\n",
      "2025-03-24 09:50:34,135: PrimAITE setup complete!\r\n"
     ]
    }
   ],
   "source": [
    "!primaite setup"
   ]
  },
  {
   "cell_type": "code",
   "execution_count": 2,
   "metadata": {
    "execution": {
     "iopub.execute_input": "2025-03-24T09:50:34.272872Z",
     "iopub.status.busy": "2025-03-24T09:50:34.272651Z",
     "iopub.status.idle": "2025-03-24T09:50:37.537334Z",
     "shell.execute_reply": "2025-03-24T09:50:37.536709Z"
    }
   },
   "outputs": [],
   "source": [
    "from primaite.session.environment import PrimaiteGymEnv\n",
    "from primaite.config.load import data_manipulation_config_path\n",
    "from prettytable import PrettyTable"
   ]
  },
  {
   "cell_type": "code",
   "execution_count": 3,
   "metadata": {
    "execution": {
     "iopub.execute_input": "2025-03-24T09:50:37.540659Z",
     "iopub.status.busy": "2025-03-24T09:50:37.540126Z",
     "iopub.status.idle": "2025-03-24T09:50:37.714562Z",
     "shell.execute_reply": "2025-03-24T09:50:37.713859Z"
    }
   },
   "outputs": [
    {
     "name": "stderr",
     "output_type": "stream",
     "text": [
      "2025-03-24 09:50:37,711: PrimaiteGymEnv RNG seed = None\n"
     ]
    }
   ],
   "source": [
    "env = PrimaiteGymEnv(data_manipulation_config_path())\n",
    "env.action_masking = True"
   ]
  },
  {
   "cell_type": "markdown",
   "metadata": {},
   "source": [
    "The action mask is a list of booleans that specifies whether each action in the agent's action map is currently possible. Demonstrated here:"
   ]
  },
  {
   "cell_type": "code",
   "execution_count": 4,
   "metadata": {
    "execution": {
     "iopub.execute_input": "2025-03-24T09:50:37.717485Z",
     "iopub.status.busy": "2025-03-24T09:50:37.717275Z",
     "iopub.status.idle": "2025-03-24T09:50:37.731194Z",
     "shell.execute_reply": "2025-03-24T09:50:37.730527Z"
    }
   },
   "outputs": [
    {
     "name": "stdout",
     "output_type": "stream",
     "text": [
      "+--------+------------------------+------------------------------------------------------------------------+------+\n",
      "| number |         action         |                               parameters                               | mask |\n",
      "+--------+------------------------+------------------------------------------------------------------------+------+\n",
      "|   0    |       do-nothing       |                                   {}                                   |  1   |\n",
      "|   1    |   node-service-scan    |       {'node_name': 'web_server', 'service_name': 'web-server'}        |  1   |\n",
      "|   2    |   node-service-stop    |       {'node_name': 'web_server', 'service_name': 'web-server'}        |  1   |\n",
      "|   3    |   node-service-start   |       {'node_name': 'web_server', 'service_name': 'web-server'}        |  0   |\n",
      "|   4    |   node-service-pause   |       {'node_name': 'web_server', 'service_name': 'web-server'}        |  1   |\n",
      "|   5    |  node-service-resume   |       {'node_name': 'web_server', 'service_name': 'web-server'}        |  0   |\n",
      "|   6    |  node-service-restart  |       {'node_name': 'web_server', 'service_name': 'web-server'}        |  1   |\n",
      "|   7    |  node-service-disable  |       {'node_name': 'web_server', 'service_name': 'web-server'}        |  1   |\n",
      "|   8    |  node-service-enable   |       {'node_name': 'web_server', 'service_name': 'web-server'}        |  0   |\n",
      "|   9    |     node-file-scan     | {'node_name': 'database_server', 'folder_name': 'database', 'file_n... |  1   |\n",
      "|   10   |     node-file-scan     | {'node_name': 'database_server', 'folder_name': 'database', 'file_n... |  1   |\n",
      "|   11   |    node-file-delete    | {'node_name': 'database_server', 'folder_name': 'database', 'file_n... |  1   |\n",
      "|   12   |    node-file-repair    | {'node_name': 'database_server', 'folder_name': 'database', 'file_n... |  1   |\n",
      "|   13   |    node-service-fix    |  {'node_name': 'database_server', 'service_name': 'database-service'}  |  1   |\n",
      "|   14   |    node-folder-scan    |      {'node_name': 'database_server', 'folder_name': 'database'}       |  1   |\n",
      "|   15   |    node-folder-scan    |      {'node_name': 'database_server', 'folder_name': 'database'}       |  1   |\n",
      "|   16   |   node-folder-repair   |      {'node_name': 'database_server', 'folder_name': 'database'}       |  1   |\n",
      "|   17   |  node-folder-restore   |      {'node_name': 'database_server', 'folder_name': 'database'}       |  1   |\n",
      "|   18   |      node-os-scan      |                   {'node_name': 'domain_controller'}                   |  1   |\n",
      "|   19   |     node-shutdown      |                   {'node_name': 'domain_controller'}                   |  1   |\n",
      "|   20   |      node-startup      |                   {'node_name': 'domain_controller'}                   |  0   |\n",
      "|   21   |       node-reset       |                   {'node_name': 'domain_controller'}                   |  1   |\n",
      "|   22   |      node-os-scan      |                      {'node_name': 'web_server'}                       |  1   |\n",
      "|   23   |     node-shutdown      |                      {'node_name': 'web_server'}                       |  1   |\n",
      "|   24   |      node-startup      |                      {'node_name': 'web_server'}                       |  0   |\n",
      "|   25   |       node-reset       |                      {'node_name': 'web_server'}                       |  1   |\n",
      "|   26   |      node-os-scan      |                    {'node_name': 'database_server'}                    |  1   |\n",
      "|   27   |     node-shutdown      |                    {'node_name': 'database_server'}                    |  1   |\n",
      "|   28   |      node-startup      |                    {'node_name': 'database_server'}                    |  0   |\n",
      "|   29   |       node-reset       |                    {'node_name': 'database_server'}                    |  1   |\n",
      "|   30   |      node-os-scan      |                     {'node_name': 'backup_server'}                     |  1   |\n",
      "|   31   |     node-shutdown      |                     {'node_name': 'backup_server'}                     |  1   |\n",
      "|   32   |      node-startup      |                     {'node_name': 'backup_server'}                     |  0   |\n",
      "|   33   |       node-reset       |                     {'node_name': 'backup_server'}                     |  1   |\n",
      "|   34   |      node-os-scan      |                    {'node_name': 'security_suite'}                     |  1   |\n",
      "|   35   |     node-shutdown      |                    {'node_name': 'security_suite'}                     |  1   |\n",
      "|   36   |      node-startup      |                    {'node_name': 'security_suite'}                     |  0   |\n",
      "|   37   |       node-reset       |                    {'node_name': 'security_suite'}                     |  1   |\n",
      "|   38   |      node-os-scan      |                       {'node_name': 'client_1'}                        |  1   |\n",
      "|   39   |     node-shutdown      |                       {'node_name': 'client_1'}                        |  1   |\n",
      "|   40   |      node-startup      |                       {'node_name': 'client_1'}                        |  0   |\n",
      "|   41   |       node-reset       |                       {'node_name': 'client_1'}                        |  1   |\n",
      "|   42   |      node-os-scan      |                       {'node_name': 'client_2'}                        |  1   |\n",
      "|   43   |     node-shutdown      |                       {'node_name': 'client_2'}                        |  1   |\n",
      "|   44   |      node-startup      |                       {'node_name': 'client_2'}                        |  0   |\n",
      "|   45   |       node-reset       |                       {'node_name': 'client_2'}                        |  1   |\n",
      "|   46   |  router-acl-add-rule   | {'target_router': 'router_1', 'position': 0, 'permission': 'DENY', ... |  1   |\n",
      "|   47   |  router-acl-add-rule   | {'target_router': 'router_1', 'position': 1, 'permission': 'DENY', ... |  1   |\n",
      "|   48   |  router-acl-add-rule   | {'target_router': 'router_1', 'position': 2, 'permission': 'DENY', ... |  1   |\n",
      "|   49   |  router-acl-add-rule   | {'target_router': 'router_1', 'position': 3, 'permission': 'DENY', ... |  1   |\n",
      "|   50   |  router-acl-add-rule   | {'target_router': 'router_1', 'position': 4, 'permission': 'DENY', ... |  1   |\n",
      "|   51   |  router-acl-add-rule   | {'target_router': 'router_1', 'position': 5, 'permission': 'DENY', ... |  1   |\n",
      "|   52   | router-acl-remove-rule |              {'target_router': 'router_1', 'position': 0}              |  1   |\n",
      "|   53   | router-acl-remove-rule |              {'target_router': 'router_1', 'position': 1}              |  1   |\n",
      "|   54   | router-acl-remove-rule |              {'target_router': 'router_1', 'position': 2}              |  1   |\n",
      "|   55   | router-acl-remove-rule |              {'target_router': 'router_1', 'position': 3}              |  1   |\n",
      "|   56   | router-acl-remove-rule |              {'target_router': 'router_1', 'position': 4}              |  1   |\n",
      "|   57   | router-acl-remove-rule |              {'target_router': 'router_1', 'position': 5}              |  1   |\n",
      "|   58   | router-acl-remove-rule |              {'target_router': 'router_1', 'position': 6}              |  1   |\n",
      "|   59   | router-acl-remove-rule |              {'target_router': 'router_1', 'position': 7}              |  1   |\n",
      "|   60   | router-acl-remove-rule |              {'target_router': 'router_1', 'position': 8}              |  1   |\n",
      "|   61   | router-acl-remove-rule |              {'target_router': 'router_1', 'position': 9}              |  1   |\n",
      "|   62   |    host-nic-disable    |            {'node_name': 'domain_controller', 'nic_num': 1}            |  1   |\n",
      "|   63   |    host-nic-enable     |            {'node_name': 'domain_controller', 'nic_num': 1}            |  0   |\n",
      "|   64   |    host-nic-disable    |               {'node_name': 'web_server', 'nic_num': 1}                |  1   |\n",
      "|   65   |    host-nic-enable     |               {'node_name': 'web_server', 'nic_num': 1}                |  0   |\n",
      "|   66   |    host-nic-disable    |             {'node_name': 'database_server', 'nic_num': 1}             |  1   |\n",
      "|   67   |    host-nic-enable     |             {'node_name': 'database_server', 'nic_num': 1}             |  0   |\n",
      "|   68   |    host-nic-disable    |              {'node_name': 'backup_server', 'nic_num': 1}              |  1   |\n",
      "|   69   |    host-nic-enable     |              {'node_name': 'backup_server', 'nic_num': 1}              |  0   |\n",
      "|   70   |    host-nic-disable    |             {'node_name': 'security_suite', 'nic_num': 1}              |  1   |\n",
      "|   71   |    host-nic-enable     |             {'node_name': 'security_suite', 'nic_num': 1}              |  0   |\n",
      "|   72   |    host-nic-disable    |             {'node_name': 'security_suite', 'nic_num': 2}              |  1   |\n",
      "|   73   |    host-nic-enable     |             {'node_name': 'security_suite', 'nic_num': 2}              |  0   |\n",
      "|   74   |    host-nic-disable    |                {'node_name': 'client_1', 'nic_num': 1}                 |  1   |\n",
      "|   75   |    host-nic-enable     |                {'node_name': 'client_1', 'nic_num': 1}                 |  0   |\n",
      "|   76   |    host-nic-disable    |                {'node_name': 'client_2', 'nic_num': 1}                 |  1   |\n",
      "|   77   |    host-nic-enable     |                {'node_name': 'client_2', 'nic_num': 1}                 |  0   |\n",
      "+--------+------------------------+------------------------------------------------------------------------+------+\n"
     ]
    }
   ],
   "source": [
    "act_table = PrettyTable((\"number\", \"action\", \"parameters\", \"mask\"))\n",
    "mask = env.action_masks()\n",
    "actions = env.agent.action_manager.action_map\n",
    "max_str_len = 70\n",
    "for act,mask in zip(actions.items(), mask):\n",
    "    act_num, act_data = act\n",
    "    act_type, act_params = act_data\n",
    "    act_params = s if len(s:=str(act_params))<max_str_len else f\"{s[:max_str_len-3]}...\"\n",
    "    act_table.add_row((act_num, act_type, act_params, mask))\n",
    "print(act_table)"
   ]
  },
  {
   "cell_type": "markdown",
   "metadata": {},
   "source": [
    "## Action masking for Stable Baselines3 agents\n",
    "SB3 agents automatically use the action_masks method during the training loop"
   ]
  },
  {
   "cell_type": "code",
   "execution_count": 5,
   "metadata": {
    "execution": {
     "iopub.execute_input": "2025-03-24T09:50:37.734154Z",
     "iopub.status.busy": "2025-03-24T09:50:37.733667Z",
     "iopub.status.idle": "2025-03-24T09:50:40.254994Z",
     "shell.execute_reply": "2025-03-24T09:50:40.254306Z"
    }
   },
   "outputs": [
    {
     "name": "stderr",
     "output_type": "stream",
     "text": [
      "WARNING: All log messages before absl::InitializeLog() is called are written to STDERR\n",
      "E0000 00:00:1742809838.189955    4628 cuda_dnn.cc:8579] Unable to register cuDNN factory: Attempting to register factory for plugin cuDNN when one has already been registered\n",
      "E0000 00:00:1742809838.194378    4628 cuda_blas.cc:1407] Unable to register cuBLAS factory: Attempting to register factory for plugin cuBLAS when one has already been registered\n",
      "W0000 00:00:1742809838.206533    4628 computation_placer.cc:177] computation placer already registered. Please check linkage and avoid linking the same target more than once.\n",
      "W0000 00:00:1742809838.206546    4628 computation_placer.cc:177] computation placer already registered. Please check linkage and avoid linking the same target more than once.\n",
      "W0000 00:00:1742809838.206548    4628 computation_placer.cc:177] computation placer already registered. Please check linkage and avoid linking the same target more than once.\n",
      "W0000 00:00:1742809838.206550    4628 computation_placer.cc:177] computation placer already registered. Please check linkage and avoid linking the same target more than once.\n"
     ]
    }
   ],
   "source": [
    "from sb3_contrib import MaskablePPO\n"
   ]
  },
  {
   "cell_type": "code",
   "execution_count": 6,
   "metadata": {
    "execution": {
     "iopub.execute_input": "2025-03-24T09:50:40.258097Z",
     "iopub.status.busy": "2025-03-24T09:50:40.257632Z",
     "iopub.status.idle": "2025-03-24T09:51:04.906990Z",
     "shell.execute_reply": "2025-03-24T09:51:04.906217Z"
    }
   },
   "outputs": [
    {
     "name": "stderr",
     "output_type": "stream",
     "text": [
      "2025-03-24 09:50:41,329: Resetting environment, episode 0, avg. reward: 0.0\n"
     ]
    },
    {
     "name": "stderr",
     "output_type": "stream",
     "text": [
      "2025-03-24 09:50:41,332: Saving agent action log to /home/runner/primaite/4.0.0/sessions/2025-03-24/09-50-34/agent_actions/episode_0.json\n"
     ]
    },
    {
     "name": "stderr",
     "output_type": "stream",
     "text": [
      "2025-03-24 09:50:42,775: Resetting environment, episode 1, avg. reward: -41.00000000000006\n"
     ]
    },
    {
     "name": "stderr",
     "output_type": "stream",
     "text": [
      "2025-03-24 09:50:42,777: Saving agent action log to /home/runner/primaite/4.0.0/sessions/2025-03-24/09-50-34/agent_actions/episode_1.json\n"
     ]
    },
    {
     "name": "stderr",
     "output_type": "stream",
     "text": [
      "2025-03-24 09:50:44,019: Resetting environment, episode 2, avg. reward: -42.650000000000055\n"
     ]
    },
    {
     "name": "stderr",
     "output_type": "stream",
     "text": [
      "2025-03-24 09:50:44,021: Saving agent action log to /home/runner/primaite/4.0.0/sessions/2025-03-24/09-50-34/agent_actions/episode_2.json\n"
     ]
    },
    {
     "name": "stderr",
     "output_type": "stream",
     "text": [
      "2025-03-24 09:50:45,315: Resetting environment, episode 3, avg. reward: -17.69999999999997\n"
     ]
    },
    {
     "name": "stderr",
     "output_type": "stream",
     "text": [
      "2025-03-24 09:50:45,317: Saving agent action log to /home/runner/primaite/4.0.0/sessions/2025-03-24/09-50-34/agent_actions/episode_3.json\n"
     ]
    },
    {
     "name": "stderr",
     "output_type": "stream",
     "text": [
      "2025-03-24 09:50:46,639: Resetting environment, episode 4, avg. reward: -50.65000000000007\n"
     ]
    },
    {
     "name": "stderr",
     "output_type": "stream",
     "text": [
      "2025-03-24 09:50:46,640: Saving agent action log to /home/runner/primaite/4.0.0/sessions/2025-03-24/09-50-34/agent_actions/episode_4.json\n"
     ]
    },
    {
     "name": "stderr",
     "output_type": "stream",
     "text": [
      "2025-03-24 09:50:48,305: Resetting environment, episode 5, avg. reward: -17.099999999999977\n"
     ]
    },
    {
     "name": "stderr",
     "output_type": "stream",
     "text": [
      "2025-03-24 09:50:48,306: Saving agent action log to /home/runner/primaite/4.0.0/sessions/2025-03-24/09-50-34/agent_actions/episode_5.json\n"
     ]
    },
    {
     "name": "stderr",
     "output_type": "stream",
     "text": [
      "2025-03-24 09:50:49,668: Resetting environment, episode 6, avg. reward: -27.44999999999994\n"
     ]
    },
    {
     "name": "stderr",
     "output_type": "stream",
     "text": [
      "2025-03-24 09:50:49,670: Saving agent action log to /home/runner/primaite/4.0.0/sessions/2025-03-24/09-50-34/agent_actions/episode_6.json\n"
     ]
    },
    {
     "name": "stderr",
     "output_type": "stream",
     "text": [
      "2025-03-24 09:50:50,930: Resetting environment, episode 7, avg. reward: -40.65000000000004\n"
     ]
    },
    {
     "name": "stderr",
     "output_type": "stream",
     "text": [
      "2025-03-24 09:50:50,932: Saving agent action log to /home/runner/primaite/4.0.0/sessions/2025-03-24/09-50-34/agent_actions/episode_7.json\n"
     ]
    },
    {
     "name": "stderr",
     "output_type": "stream",
     "text": [
      "2025-03-24 09:50:52,260: Resetting environment, episode 8, avg. reward: -14.299999999999983\n"
     ]
    },
    {
     "name": "stderr",
     "output_type": "stream",
     "text": [
      "2025-03-24 09:50:52,261: Saving agent action log to /home/runner/primaite/4.0.0/sessions/2025-03-24/09-50-34/agent_actions/episode_8.json\n"
     ]
    },
    {
     "name": "stderr",
     "output_type": "stream",
     "text": [
      "2025-03-24 09:50:53,555: Resetting environment, episode 9, avg. reward: -19.500000000000018\n"
     ]
    },
    {
     "name": "stderr",
     "output_type": "stream",
     "text": [
      "2025-03-24 09:50:53,557: Saving agent action log to /home/runner/primaite/4.0.0/sessions/2025-03-24/09-50-34/agent_actions/episode_9.json\n"
     ]
    },
    {
     "name": "stderr",
     "output_type": "stream",
     "text": [
      "2025-03-24 09:50:55,291: Resetting environment, episode 10, avg. reward: -61.3500000000001\n"
     ]
    },
    {
     "name": "stderr",
     "output_type": "stream",
     "text": [
      "2025-03-24 09:50:55,293: Saving agent action log to /home/runner/primaite/4.0.0/sessions/2025-03-24/09-50-34/agent_actions/episode_10.json\n"
     ]
    },
    {
     "name": "stderr",
     "output_type": "stream",
     "text": [
      "2025-03-24 09:50:56,621: Resetting environment, episode 11, avg. reward: -50.00000000000007\n"
     ]
    },
    {
     "name": "stderr",
     "output_type": "stream",
     "text": [
      "2025-03-24 09:50:56,622: Saving agent action log to /home/runner/primaite/4.0.0/sessions/2025-03-24/09-50-34/agent_actions/episode_11.json\n"
     ]
    },
    {
     "name": "stderr",
     "output_type": "stream",
     "text": [
      "2025-03-24 09:50:57,905: Resetting environment, episode 12, avg. reward: -20.74999999999996\n"
     ]
    },
    {
     "name": "stderr",
     "output_type": "stream",
     "text": [
      "2025-03-24 09:50:57,906: Saving agent action log to /home/runner/primaite/4.0.0/sessions/2025-03-24/09-50-34/agent_actions/episode_12.json\n"
     ]
    },
    {
     "name": "stderr",
     "output_type": "stream",
     "text": [
      "2025-03-24 09:50:59,194: Resetting environment, episode 13, avg. reward: -17.64999999999997\n"
     ]
    },
    {
     "name": "stderr",
     "output_type": "stream",
     "text": [
      "2025-03-24 09:50:59,195: Saving agent action log to /home/runner/primaite/4.0.0/sessions/2025-03-24/09-50-34/agent_actions/episode_13.json\n"
     ]
    },
    {
     "name": "stderr",
     "output_type": "stream",
     "text": [
      "2025-03-24 09:51:00,820: Resetting environment, episode 14, avg. reward: -44.20000000000005\n"
     ]
    },
    {
     "name": "stderr",
     "output_type": "stream",
     "text": [
      "2025-03-24 09:51:00,821: Saving agent action log to /home/runner/primaite/4.0.0/sessions/2025-03-24/09-50-34/agent_actions/episode_14.json\n"
     ]
    },
    {
     "name": "stderr",
     "output_type": "stream",
     "text": [
      "2025-03-24 09:51:02,131: Resetting environment, episode 15, avg. reward: -61.050000000000104\n"
     ]
    },
    {
     "name": "stderr",
     "output_type": "stream",
     "text": [
      "2025-03-24 09:51:02,133: Saving agent action log to /home/runner/primaite/4.0.0/sessions/2025-03-24/09-50-34/agent_actions/episode_15.json\n"
     ]
    },
    {
     "name": "stderr",
     "output_type": "stream",
     "text": [
      "2025-03-24 09:51:03,427: Resetting environment, episode 16, avg. reward: -28.49999999999995\n"
     ]
    },
    {
     "name": "stderr",
     "output_type": "stream",
     "text": [
      "2025-03-24 09:51:03,429: Saving agent action log to /home/runner/primaite/4.0.0/sessions/2025-03-24/09-50-34/agent_actions/episode_16.json\n"
     ]
    },
    {
     "data": {
      "text/plain": [
       "<sb3_contrib.ppo_mask.ppo_mask.MaskablePPO at 0x7f12341af550>"
      ]
     },
     "execution_count": 6,
     "metadata": {},
     "output_type": "execute_result"
    }
   ],
   "source": [
    "model = MaskablePPO(\"MlpPolicy\", env, gamma=0.4, seed=32)\n",
    "model.learn(1024)"
   ]
  },
  {
   "cell_type": "markdown",
   "metadata": {},
   "source": [
    "## Action masking for Ray RLLib agents\n",
    "Ray uses a different API to obtain action masks, but this is handled by the PrimaiteRayEnv and PrimaiteRayMarlEnv classes"
   ]
  },
  {
   "cell_type": "code",
   "execution_count": 7,
   "metadata": {
    "execution": {
     "iopub.execute_input": "2025-03-24T09:51:04.910200Z",
     "iopub.status.busy": "2025-03-24T09:51:04.909722Z",
     "iopub.status.idle": "2025-03-24T09:51:05.713161Z",
     "shell.execute_reply": "2025-03-24T09:51:05.712453Z"
    }
   },
   "outputs": [],
   "source": [
    "from primaite.session.ray_envs import PrimaiteRayEnv\n",
    "from ray.rllib.algorithms.ppo import PPOConfig\n",
    "import yaml\n",
    "from ray.rllib.examples.rl_modules.classes.action_masking_rlm import ActionMaskingTorchRLModule\n",
    "from ray.rllib.core.rl_module.rl_module import SingleAgentRLModuleSpec\n"
   ]
  },
  {
   "cell_type": "code",
   "execution_count": 8,
   "metadata": {
    "execution": {
     "iopub.execute_input": "2025-03-24T09:51:05.716482Z",
     "iopub.status.busy": "2025-03-24T09:51:05.715908Z",
     "iopub.status.idle": "2025-03-24T09:51:06.158354Z",
     "shell.execute_reply": "2025-03-24T09:51:06.157535Z"
    }
   },
   "outputs": [],
   "source": [
    "with open(data_manipulation_config_path(), 'r') as f:\n",
    "    cfg = yaml.safe_load(f)\n",
    "for agent in cfg['agents']:\n",
    "    if agent[\"ref\"] == \"defender\":\n",
    "        agent['agent_settings']['flatten_obs'] = True\n",
    "env_config = cfg\n"
   ]
  },
  {
   "cell_type": "code",
   "execution_count": 9,
   "metadata": {
    "execution": {
     "iopub.execute_input": "2025-03-24T09:51:06.161677Z",
     "iopub.status.busy": "2025-03-24T09:51:06.161280Z",
     "iopub.status.idle": "2025-03-24T09:51:08.058461Z",
     "shell.execute_reply": "2025-03-24T09:51:08.057799Z"
    }
   },
   "outputs": [
    {
     "name": "stderr",
     "output_type": "stream",
     "text": [
      "2025-03-24 09:51:06,163\tWARNING deprecation.py:50 -- DeprecationWarning: `AlgorithmConfig.rl_module(_enable_rl_module_api=..)` has been deprecated. Use `AlgorithmConfig.api_stack(enable_rl_module_and_learner=..)` instead. This will raise an error in the future!\n"
     ]
    },
    {
     "name": "stderr",
     "output_type": "stream",
     "text": [
      "/opt/hostedtoolcache/Python/3.10.16/x64/lib/python3.10/site-packages/ray/rllib/algorithms/algorithm.py:516: RayDeprecationWarning: This API is deprecated and may be removed in future Ray releases. You could suppress this warning by setting env variable PYTHONWARNINGS=\"ignore::DeprecationWarning\"\n",
      "`UnifiedLogger` will be removed in Ray 2.7.\n",
      "  return UnifiedLogger(config, logdir, loggers=None)\n",
      "/opt/hostedtoolcache/Python/3.10.16/x64/lib/python3.10/site-packages/ray/tune/logger/unified.py:53: RayDeprecationWarning: This API is deprecated and may be removed in future Ray releases. You could suppress this warning by setting env variable PYTHONWARNINGS=\"ignore::DeprecationWarning\"\n",
      "The `JsonLogger interface is deprecated in favor of the `ray.tune.json.JsonLoggerCallback` interface and will be removed in Ray 2.7.\n",
      "  self._loggers.append(cls(self.config, self.logdir, self.trial))\n",
      "/opt/hostedtoolcache/Python/3.10.16/x64/lib/python3.10/site-packages/ray/tune/logger/unified.py:53: RayDeprecationWarning: This API is deprecated and may be removed in future Ray releases. You could suppress this warning by setting env variable PYTHONWARNINGS=\"ignore::DeprecationWarning\"\n",
      "The `CSVLogger interface is deprecated in favor of the `ray.tune.csv.CSVLoggerCallback` interface and will be removed in Ray 2.7.\n",
      "  self._loggers.append(cls(self.config, self.logdir, self.trial))\n",
      "/opt/hostedtoolcache/Python/3.10.16/x64/lib/python3.10/site-packages/ray/tune/logger/unified.py:53: RayDeprecationWarning: This API is deprecated and may be removed in future Ray releases. You could suppress this warning by setting env variable PYTHONWARNINGS=\"ignore::DeprecationWarning\"\n",
      "The `TBXLogger interface is deprecated in favor of the `ray.tune.tensorboardx.TBXLoggerCallback` interface and will be removed in Ray 2.7.\n",
      "  self._loggers.append(cls(self.config, self.logdir, self.trial))\n",
      "2025-03-24 09:51:06,261: PrimaiteGymEnv RNG seed = None\n"
     ]
    },
    {
     "name": "stderr",
     "output_type": "stream",
     "text": [
      "2025-03-24 09:51:06,324: Resetting environment, episode 0, avg. reward: 0.0\n"
     ]
    },
    {
     "name": "stderr",
     "output_type": "stream",
     "text": [
      "2025-03-24 09:51:06,326: Saving agent action log to /home/runner/primaite/4.0.0/sessions/2025-03-24/09-50-34/agent_actions/episode_0.json\n"
     ]
    },
    {
     "name": "stderr",
     "output_type": "stream",
     "text": [
      "2025-03-24 09:51:07,473: Resetting environment, episode 1, avg. reward: -74.79999999999993\n"
     ]
    },
    {
     "name": "stderr",
     "output_type": "stream",
     "text": [
      "2025-03-24 09:51:07,475: Saving agent action log to /home/runner/primaite/4.0.0/sessions/2025-03-24/09-50-34/agent_actions/episode_1.json\n"
     ]
    },
    {
     "name": "stderr",
     "output_type": "stream",
     "text": [
      "2025-03-24 09:51:08,038\tWARNING deprecation.py:50 -- DeprecationWarning: `set_weights` has been deprecated. Use `SingleAgentEnvRunner.set_state()` instead. This will raise an error in the future!\n"
     ]
    }
   ],
   "source": [
    "config = (\n",
    "    PPOConfig()\n",
    "    .api_stack(enable_rl_module_and_learner=True, enable_env_runner_and_connector_v2=True)\n",
    "    .environment(env=PrimaiteRayEnv, env_config=cfg, action_mask_key=\"action_mask\")\n",
    "    .rl_module(rl_module_spec=SingleAgentRLModuleSpec(module_class = ActionMaskingTorchRLModule))\n",
    "    .env_runners(num_env_runners=0)\n",
    "    .training(train_batch_size=128)\n",
    ")\n",
    "algo = config.build()\n",
    "results = algo.train()"
   ]
  },
  {
   "cell_type": "markdown",
   "metadata": {},
   "source": [
    "## Action masking with MARL in Ray RLLib\n",
    "\n",
    "Each agent has their own action mask which is useful for multi-agent environments where each agent are configured with different action spaces.\n",
    "\n",
    "The code snippets below demonstrate how users can use multiple agents with action masks using the [UC2 MARL example config](./Training-an-RLLIB-MARL-System.ipynb)."
   ]
  },
  {
   "cell_type": "code",
   "execution_count": 10,
   "metadata": {
    "execution": {
     "iopub.execute_input": "2025-03-24T09:51:08.061942Z",
     "iopub.status.busy": "2025-03-24T09:51:08.061453Z",
     "iopub.status.idle": "2025-03-24T09:51:08.065059Z",
     "shell.execute_reply": "2025-03-24T09:51:08.064483Z"
    }
   },
   "outputs": [],
   "source": [
    "from ray.rllib.core.rl_module.marl_module import MultiAgentRLModuleSpec\n",
    "from primaite.session.ray_envs import PrimaiteRayMARLEnv\n",
    "from primaite.config.load import data_manipulation_marl_config_path"
   ]
  },
  {
   "cell_type": "code",
   "execution_count": 11,
   "metadata": {
    "execution": {
     "iopub.execute_input": "2025-03-24T09:51:08.067658Z",
     "iopub.status.busy": "2025-03-24T09:51:08.067282Z",
     "iopub.status.idle": "2025-03-24T09:51:08.183921Z",
     "shell.execute_reply": "2025-03-24T09:51:08.183138Z"
    }
   },
   "outputs": [],
   "source": [
    "with open(data_manipulation_marl_config_path(), 'r') as f:\n",
    "    cfg = yaml.safe_load(f)\n",
    "env_config = cfg\n"
   ]
  },
  {
   "cell_type": "code",
   "execution_count": 12,
   "metadata": {
    "execution": {
     "iopub.execute_input": "2025-03-24T09:51:08.187321Z",
     "iopub.status.busy": "2025-03-24T09:51:08.186908Z",
     "iopub.status.idle": "2025-03-24T09:51:11.173847Z",
     "shell.execute_reply": "2025-03-24T09:51:11.173220Z"
    }
   },
   "outputs": [
    {
     "name": "stderr",
     "output_type": "stream",
     "text": [
      "2025-03-24 09:51:08,189\tWARNING deprecation.py:50 -- DeprecationWarning: `AlgorithmConfig.rl_module(_enable_rl_module_api=..)` has been deprecated. Use `AlgorithmConfig.api_stack(enable_rl_module_and_learner=..)` instead. This will raise an error in the future!\n"
     ]
    },
    {
     "name": "stderr",
     "output_type": "stream",
     "text": [
      "/opt/hostedtoolcache/Python/3.10.16/x64/lib/python3.10/site-packages/ray/rllib/algorithms/algorithm.py:516: RayDeprecationWarning: This API is deprecated and may be removed in future Ray releases. You could suppress this warning by setting env variable PYTHONWARNINGS=\"ignore::DeprecationWarning\"\n",
      "`UnifiedLogger` will be removed in Ray 2.7.\n",
      "  return UnifiedLogger(config, logdir, loggers=None)\n",
      "/opt/hostedtoolcache/Python/3.10.16/x64/lib/python3.10/site-packages/ray/tune/logger/unified.py:53: RayDeprecationWarning: This API is deprecated and may be removed in future Ray releases. You could suppress this warning by setting env variable PYTHONWARNINGS=\"ignore::DeprecationWarning\"\n",
      "The `JsonLogger interface is deprecated in favor of the `ray.tune.json.JsonLoggerCallback` interface and will be removed in Ray 2.7.\n",
      "  self._loggers.append(cls(self.config, self.logdir, self.trial))\n",
      "/opt/hostedtoolcache/Python/3.10.16/x64/lib/python3.10/site-packages/ray/tune/logger/unified.py:53: RayDeprecationWarning: This API is deprecated and may be removed in future Ray releases. You could suppress this warning by setting env variable PYTHONWARNINGS=\"ignore::DeprecationWarning\"\n",
      "The `CSVLogger interface is deprecated in favor of the `ray.tune.csv.CSVLoggerCallback` interface and will be removed in Ray 2.7.\n",
      "  self._loggers.append(cls(self.config, self.logdir, self.trial))\n",
      "/opt/hostedtoolcache/Python/3.10.16/x64/lib/python3.10/site-packages/ray/tune/logger/unified.py:53: RayDeprecationWarning: This API is deprecated and may be removed in future Ray releases. You could suppress this warning by setting env variable PYTHONWARNINGS=\"ignore::DeprecationWarning\"\n",
      "The `TBXLogger interface is deprecated in favor of the `ray.tune.tensorboardx.TBXLoggerCallback` interface and will be removed in Ray 2.7.\n",
      "  self._loggers.append(cls(self.config, self.logdir, self.trial))\n"
     ]
    },
    {
     "name": "stderr",
     "output_type": "stream",
     "text": [
      "2025-03-24 09:51:08,313: Resetting environment, episode 0, avg. reward: {'defender_1': 0.0, 'defender_2': 0.0}\n"
     ]
    },
    {
     "name": "stderr",
     "output_type": "stream",
     "text": [
      "2025-03-24 09:51:08,314: Saving agent action log to /home/runner/primaite/4.0.0/sessions/2025-03-24/09-50-34/agent_actions/episode_0.json\n"
     ]
    },
    {
     "name": "stderr",
     "output_type": "stream",
     "text": [
      "2025-03-24 09:51:08,426: step: 1, Rewards: {'defender_1': 0.65, 'defender_2': 0.65}\n"
     ]
    },
    {
     "name": "stderr",
     "output_type": "stream",
     "text": [
      "2025-03-24 09:51:08,458: Saving agent action log to /home/runner/primaite/4.0.0/sessions/2025-03-24/09-50-34/agent_actions/episode_2.json\n"
     ]
    },
    {
     "name": "stderr",
     "output_type": "stream",
     "text": [
      "2025-03-24 09:51:08,461: Resetting environment, episode 1, avg. reward: {'defender_1': 0.65, 'defender_2': 0.65}\n"
     ]
    },
    {
     "name": "stderr",
     "output_type": "stream",
     "text": [
      "2025-03-24 09:51:08,462: Saving agent action log to /home/runner/primaite/4.0.0/sessions/2025-03-24/09-50-34/agent_actions/episode_1.json\n"
     ]
    },
    {
     "name": "stderr",
     "output_type": "stream",
     "text": [
      "2025-03-24 09:51:08,584: step: 1, Rewards: {'defender_1': 0.7000000000000001, 'defender_2': 0.7000000000000001}\n"
     ]
    },
    {
     "name": "stderr",
     "output_type": "stream",
     "text": [
      "2025-03-24 09:51:08,598: step: 2, Rewards: {'defender_1': 0.7000000000000001, 'defender_2': 0.7000000000000001}\n"
     ]
    },
    {
     "name": "stderr",
     "output_type": "stream",
     "text": [
      "2025-03-24 09:51:08,614: step: 3, Rewards: {'defender_1': 0.45, 'defender_2': 0.45}\n"
     ]
    },
    {
     "name": "stderr",
     "output_type": "stream",
     "text": [
      "2025-03-24 09:51:08,628: step: 4, Rewards: {'defender_1': 0.45, 'defender_2': 0.45}\n"
     ]
    },
    {
     "name": "stderr",
     "output_type": "stream",
     "text": [
      "2025-03-24 09:51:08,640: step: 5, Rewards: {'defender_1': -0.14999999999999997, 'defender_2': -0.14999999999999997}\n"
     ]
    },
    {
     "name": "stderr",
     "output_type": "stream",
     "text": [
      "2025-03-24 09:51:08,655: step: 6, Rewards: {'defender_1': -0.14999999999999997, 'defender_2': -0.14999999999999997}\n"
     ]
    },
    {
     "name": "stderr",
     "output_type": "stream",
     "text": [
      "2025-03-24 09:51:08,668: step: 7, Rewards: {'defender_1': -0.14999999999999997, 'defender_2': -0.14999999999999997}\n"
     ]
    },
    {
     "name": "stderr",
     "output_type": "stream",
     "text": [
      "2025-03-24 09:51:08,680: step: 8, Rewards: {'defender_1': -0.14999999999999997, 'defender_2': -0.14999999999999997}\n"
     ]
    },
    {
     "name": "stderr",
     "output_type": "stream",
     "text": [
      "2025-03-24 09:51:08,694: step: 9, Rewards: {'defender_1': -0.14999999999999997, 'defender_2': -0.14999999999999997}\n"
     ]
    },
    {
     "name": "stderr",
     "output_type": "stream",
     "text": [
      "2025-03-24 09:51:08,707: step: 10, Rewards: {'defender_1': -0.14999999999999997, 'defender_2': -0.14999999999999997}\n"
     ]
    },
    {
     "name": "stderr",
     "output_type": "stream",
     "text": [
      "2025-03-24 09:51:08,720: step: 11, Rewards: {'defender_1': -0.14999999999999997, 'defender_2': -0.14999999999999997}\n"
     ]
    },
    {
     "name": "stderr",
     "output_type": "stream",
     "text": [
      "2025-03-24 09:51:08,733: step: 12, Rewards: {'defender_1': -0.14999999999999997, 'defender_2': -0.14999999999999997}\n"
     ]
    },
    {
     "name": "stderr",
     "output_type": "stream",
     "text": [
      "2025-03-24 09:51:08,746: step: 13, Rewards: {'defender_1': -0.14999999999999997, 'defender_2': -0.14999999999999997}\n"
     ]
    },
    {
     "name": "stderr",
     "output_type": "stream",
     "text": [
      "2025-03-24 09:51:08,759: step: 14, Rewards: {'defender_1': -0.14999999999999997, 'defender_2': -0.14999999999999997}\n"
     ]
    },
    {
     "name": "stderr",
     "output_type": "stream",
     "text": [
      "2025-03-24 09:51:08,772: step: 15, Rewards: {'defender_1': -0.14999999999999997, 'defender_2': -0.14999999999999997}\n"
     ]
    },
    {
     "name": "stderr",
     "output_type": "stream",
     "text": [
      "2025-03-24 09:51:08,785: step: 16, Rewards: {'defender_1': -0.14999999999999997, 'defender_2': -0.14999999999999997}\n"
     ]
    },
    {
     "name": "stderr",
     "output_type": "stream",
     "text": [
      "2025-03-24 09:51:08,798: step: 17, Rewards: {'defender_1': -0.14999999999999997, 'defender_2': -0.14999999999999997}\n"
     ]
    },
    {
     "name": "stderr",
     "output_type": "stream",
     "text": [
      "2025-03-24 09:51:08,810: step: 18, Rewards: {'defender_1': -0.14999999999999997, 'defender_2': -0.14999999999999997}\n"
     ]
    },
    {
     "name": "stderr",
     "output_type": "stream",
     "text": [
      "2025-03-24 09:51:08,822: step: 19, Rewards: {'defender_1': -0.14999999999999997, 'defender_2': -0.14999999999999997}\n"
     ]
    },
    {
     "name": "stderr",
     "output_type": "stream",
     "text": [
      "2025-03-24 09:51:08,836: step: 20, Rewards: {'defender_1': -0.14999999999999997, 'defender_2': -0.14999999999999997}\n"
     ]
    },
    {
     "name": "stderr",
     "output_type": "stream",
     "text": [
      "2025-03-24 09:51:08,848: step: 21, Rewards: {'defender_1': -0.14999999999999997, 'defender_2': -0.14999999999999997}\n"
     ]
    },
    {
     "name": "stderr",
     "output_type": "stream",
     "text": [
      "2025-03-24 09:51:08,860: step: 22, Rewards: {'defender_1': -0.14999999999999997, 'defender_2': -0.14999999999999997}\n"
     ]
    },
    {
     "name": "stderr",
     "output_type": "stream",
     "text": [
      "2025-03-24 09:51:08,873: step: 23, Rewards: {'defender_1': -0.14999999999999997, 'defender_2': -0.14999999999999997}\n"
     ]
    },
    {
     "name": "stderr",
     "output_type": "stream",
     "text": [
      "2025-03-24 09:51:08,885: step: 24, Rewards: {'defender_1': -0.14999999999999997, 'defender_2': -0.14999999999999997}\n"
     ]
    },
    {
     "name": "stderr",
     "output_type": "stream",
     "text": [
      "2025-03-24 09:51:08,898: step: 25, Rewards: {'defender_1': -0.14999999999999997, 'defender_2': -0.14999999999999997}\n"
     ]
    },
    {
     "name": "stderr",
     "output_type": "stream",
     "text": [
      "2025-03-24 09:51:08,913: step: 26, Rewards: {'defender_1': -0.14999999999999997, 'defender_2': -0.14999999999999997}\n"
     ]
    },
    {
     "name": "stderr",
     "output_type": "stream",
     "text": [
      "2025-03-24 09:51:08,928: step: 27, Rewards: {'defender_1': -0.14999999999999997, 'defender_2': -0.14999999999999997}\n"
     ]
    },
    {
     "name": "stderr",
     "output_type": "stream",
     "text": [
      "2025-03-24 09:51:08,942: step: 28, Rewards: {'defender_1': -0.14999999999999997, 'defender_2': -0.14999999999999997}\n"
     ]
    },
    {
     "name": "stderr",
     "output_type": "stream",
     "text": [
      "2025-03-24 09:51:08,956: step: 29, Rewards: {'defender_1': -0.14999999999999997, 'defender_2': -0.14999999999999997}\n"
     ]
    },
    {
     "name": "stderr",
     "output_type": "stream",
     "text": [
      "2025-03-24 09:51:08,969: step: 30, Rewards: {'defender_1': -0.14999999999999997, 'defender_2': -0.14999999999999997}\n"
     ]
    },
    {
     "name": "stderr",
     "output_type": "stream",
     "text": [
      "2025-03-24 09:51:08,983: step: 31, Rewards: {'defender_1': -0.14999999999999997, 'defender_2': -0.14999999999999997}\n"
     ]
    },
    {
     "name": "stderr",
     "output_type": "stream",
     "text": [
      "2025-03-24 09:51:08,995: step: 32, Rewards: {'defender_1': -0.14999999999999997, 'defender_2': -0.14999999999999997}\n"
     ]
    },
    {
     "name": "stderr",
     "output_type": "stream",
     "text": [
      "2025-03-24 09:51:09,009: step: 33, Rewards: {'defender_1': -0.14999999999999997, 'defender_2': -0.14999999999999997}\n"
     ]
    },
    {
     "name": "stderr",
     "output_type": "stream",
     "text": [
      "2025-03-24 09:51:09,022: step: 34, Rewards: {'defender_1': -0.14999999999999997, 'defender_2': -0.14999999999999997}\n"
     ]
    },
    {
     "name": "stderr",
     "output_type": "stream",
     "text": [
      "2025-03-24 09:51:09,036: step: 35, Rewards: {'defender_1': -0.14999999999999997, 'defender_2': -0.14999999999999997}\n"
     ]
    },
    {
     "name": "stderr",
     "output_type": "stream",
     "text": [
      "2025-03-24 09:51:09,048: step: 36, Rewards: {'defender_1': -0.14999999999999997, 'defender_2': -0.14999999999999997}\n"
     ]
    },
    {
     "name": "stderr",
     "output_type": "stream",
     "text": [
      "2025-03-24 09:51:09,065: step: 37, Rewards: {'defender_1': 0.35000000000000003, 'defender_2': 0.35000000000000003}\n"
     ]
    },
    {
     "name": "stderr",
     "output_type": "stream",
     "text": [
      "2025-03-24 09:51:09,081: step: 38, Rewards: {'defender_1': -0.14999999999999997, 'defender_2': -0.14999999999999997}\n"
     ]
    },
    {
     "name": "stderr",
     "output_type": "stream",
     "text": [
      "2025-03-24 09:51:09,098: step: 39, Rewards: {'defender_1': -0.14999999999999997, 'defender_2': -0.14999999999999997}\n"
     ]
    },
    {
     "name": "stderr",
     "output_type": "stream",
     "text": [
      "2025-03-24 09:51:09,113: step: 40, Rewards: {'defender_1': -0.14999999999999997, 'defender_2': -0.14999999999999997}\n"
     ]
    },
    {
     "name": "stderr",
     "output_type": "stream",
     "text": [
      "2025-03-24 09:51:09,127: step: 41, Rewards: {'defender_1': -0.55, 'defender_2': -0.55}\n"
     ]
    },
    {
     "name": "stderr",
     "output_type": "stream",
     "text": [
      "2025-03-24 09:51:09,142: step: 42, Rewards: {'defender_1': -0.55, 'defender_2': -0.55}\n"
     ]
    },
    {
     "name": "stderr",
     "output_type": "stream",
     "text": [
      "2025-03-24 09:51:09,155: step: 43, Rewards: {'defender_1': -0.55, 'defender_2': -0.55}\n"
     ]
    },
    {
     "name": "stderr",
     "output_type": "stream",
     "text": [
      "2025-03-24 09:51:09,171: step: 44, Rewards: {'defender_1': -0.55, 'defender_2': -0.55}\n"
     ]
    },
    {
     "name": "stderr",
     "output_type": "stream",
     "text": [
      "2025-03-24 09:51:09,190: step: 45, Rewards: {'defender_1': -0.55, 'defender_2': -0.55}\n"
     ]
    },
    {
     "name": "stderr",
     "output_type": "stream",
     "text": [
      "2025-03-24 09:51:09,206: step: 46, Rewards: {'defender_1': -0.55, 'defender_2': -0.55}\n"
     ]
    },
    {
     "name": "stderr",
     "output_type": "stream",
     "text": [
      "2025-03-24 09:51:09,221: step: 47, Rewards: {'defender_1': -0.55, 'defender_2': -0.55}\n"
     ]
    },
    {
     "name": "stderr",
     "output_type": "stream",
     "text": [
      "2025-03-24 09:51:09,235: step: 48, Rewards: {'defender_1': -0.55, 'defender_2': -0.55}\n"
     ]
    },
    {
     "name": "stderr",
     "output_type": "stream",
     "text": [
      "2025-03-24 09:51:09,248: step: 49, Rewards: {'defender_1': -0.55, 'defender_2': -0.55}\n"
     ]
    },
    {
     "name": "stderr",
     "output_type": "stream",
     "text": [
      "2025-03-24 09:51:09,262: step: 50, Rewards: {'defender_1': -0.55, 'defender_2': -0.55}\n"
     ]
    },
    {
     "name": "stderr",
     "output_type": "stream",
     "text": [
      "2025-03-24 09:51:09,274: step: 51, Rewards: {'defender_1': -0.55, 'defender_2': -0.55}\n"
     ]
    },
    {
     "name": "stderr",
     "output_type": "stream",
     "text": [
      "2025-03-24 09:51:09,286: step: 52, Rewards: {'defender_1': -0.14999999999999997, 'defender_2': -0.14999999999999997}\n"
     ]
    },
    {
     "name": "stderr",
     "output_type": "stream",
     "text": [
      "2025-03-24 09:51:09,299: step: 53, Rewards: {'defender_1': -0.14999999999999997, 'defender_2': -0.14999999999999997}\n"
     ]
    },
    {
     "name": "stderr",
     "output_type": "stream",
     "text": [
      "2025-03-24 09:51:09,314: step: 54, Rewards: {'defender_1': -0.14999999999999997, 'defender_2': -0.14999999999999997}\n"
     ]
    },
    {
     "name": "stderr",
     "output_type": "stream",
     "text": [
      "2025-03-24 09:51:09,328: step: 55, Rewards: {'defender_1': -0.14999999999999997, 'defender_2': -0.14999999999999997}\n"
     ]
    },
    {
     "name": "stderr",
     "output_type": "stream",
     "text": [
      "2025-03-24 09:51:09,343: step: 56, Rewards: {'defender_1': -0.14999999999999997, 'defender_2': -0.14999999999999997}\n"
     ]
    },
    {
     "name": "stderr",
     "output_type": "stream",
     "text": [
      "2025-03-24 09:51:09,356: step: 57, Rewards: {'defender_1': -0.14999999999999997, 'defender_2': -0.14999999999999997}\n"
     ]
    },
    {
     "name": "stderr",
     "output_type": "stream",
     "text": [
      "2025-03-24 09:51:09,370: step: 58, Rewards: {'defender_1': -0.14999999999999997, 'defender_2': -0.14999999999999997}\n"
     ]
    },
    {
     "name": "stderr",
     "output_type": "stream",
     "text": [
      "2025-03-24 09:51:09,382: step: 59, Rewards: {'defender_1': -0.14999999999999997, 'defender_2': -0.14999999999999997}\n"
     ]
    },
    {
     "name": "stderr",
     "output_type": "stream",
     "text": [
      "2025-03-24 09:51:09,396: step: 60, Rewards: {'defender_1': -0.14999999999999997, 'defender_2': -0.14999999999999997}\n"
     ]
    },
    {
     "name": "stderr",
     "output_type": "stream",
     "text": [
      "2025-03-24 09:51:09,410: step: 61, Rewards: {'defender_1': -0.14999999999999997, 'defender_2': -0.14999999999999997}\n"
     ]
    },
    {
     "name": "stderr",
     "output_type": "stream",
     "text": [
      "2025-03-24 09:51:09,424: step: 62, Rewards: {'defender_1': -0.14999999999999997, 'defender_2': -0.14999999999999997}\n"
     ]
    },
    {
     "name": "stderr",
     "output_type": "stream",
     "text": [
      "2025-03-24 09:51:09,436: step: 63, Rewards: {'defender_1': -0.14999999999999997, 'defender_2': -0.14999999999999997}\n"
     ]
    },
    {
     "name": "stderr",
     "output_type": "stream",
     "text": [
      "2025-03-24 09:51:09,449: step: 64, Rewards: {'defender_1': -0.14999999999999997, 'defender_2': -0.14999999999999997}\n"
     ]
    },
    {
     "name": "stderr",
     "output_type": "stream",
     "text": [
      "2025-03-24 09:51:09,462: step: 65, Rewards: {'defender_1': -0.14999999999999997, 'defender_2': -0.14999999999999997}\n"
     ]
    },
    {
     "name": "stderr",
     "output_type": "stream",
     "text": [
      "2025-03-24 09:51:09,475: step: 66, Rewards: {'defender_1': -0.14999999999999997, 'defender_2': -0.14999999999999997}\n"
     ]
    },
    {
     "name": "stderr",
     "output_type": "stream",
     "text": [
      "2025-03-24 09:51:09,487: step: 67, Rewards: {'defender_1': -0.14999999999999997, 'defender_2': -0.14999999999999997}\n"
     ]
    },
    {
     "name": "stderr",
     "output_type": "stream",
     "text": [
      "2025-03-24 09:51:09,500: step: 68, Rewards: {'defender_1': -0.14999999999999997, 'defender_2': -0.14999999999999997}\n"
     ]
    },
    {
     "name": "stderr",
     "output_type": "stream",
     "text": [
      "2025-03-24 09:51:09,512: step: 69, Rewards: {'defender_1': -0.14999999999999997, 'defender_2': -0.14999999999999997}\n"
     ]
    },
    {
     "name": "stderr",
     "output_type": "stream",
     "text": [
      "2025-03-24 09:51:09,525: step: 70, Rewards: {'defender_1': -0.14999999999999997, 'defender_2': -0.14999999999999997}\n"
     ]
    },
    {
     "name": "stderr",
     "output_type": "stream",
     "text": [
      "2025-03-24 09:51:09,539: step: 71, Rewards: {'defender_1': -0.14999999999999997, 'defender_2': -0.14999999999999997}\n"
     ]
    },
    {
     "name": "stderr",
     "output_type": "stream",
     "text": [
      "2025-03-24 09:51:09,552: step: 72, Rewards: {'defender_1': -0.14999999999999997, 'defender_2': -0.14999999999999997}\n"
     ]
    },
    {
     "name": "stderr",
     "output_type": "stream",
     "text": [
      "2025-03-24 09:51:09,564: step: 73, Rewards: {'defender_1': -0.14999999999999997, 'defender_2': -0.14999999999999997}\n"
     ]
    },
    {
     "name": "stderr",
     "output_type": "stream",
     "text": [
      "2025-03-24 09:51:09,577: step: 74, Rewards: {'defender_1': -0.14999999999999997, 'defender_2': -0.14999999999999997}\n"
     ]
    },
    {
     "name": "stderr",
     "output_type": "stream",
     "text": [
      "2025-03-24 09:51:09,589: step: 75, Rewards: {'defender_1': -0.14999999999999997, 'defender_2': -0.14999999999999997}\n"
     ]
    },
    {
     "name": "stderr",
     "output_type": "stream",
     "text": [
      "2025-03-24 09:51:09,602: step: 76, Rewards: {'defender_1': -0.14999999999999997, 'defender_2': -0.14999999999999997}\n"
     ]
    },
    {
     "name": "stderr",
     "output_type": "stream",
     "text": [
      "2025-03-24 09:51:09,614: step: 77, Rewards: {'defender_1': -0.14999999999999997, 'defender_2': -0.14999999999999997}\n"
     ]
    },
    {
     "name": "stderr",
     "output_type": "stream",
     "text": [
      "2025-03-24 09:51:09,627: step: 78, Rewards: {'defender_1': -0.14999999999999997, 'defender_2': -0.14999999999999997}\n"
     ]
    },
    {
     "name": "stderr",
     "output_type": "stream",
     "text": [
      "2025-03-24 09:51:09,640: step: 79, Rewards: {'defender_1': -0.14999999999999997, 'defender_2': -0.14999999999999997}\n"
     ]
    },
    {
     "name": "stderr",
     "output_type": "stream",
     "text": [
      "2025-03-24 09:51:09,654: step: 80, Rewards: {'defender_1': -0.14999999999999997, 'defender_2': -0.14999999999999997}\n"
     ]
    },
    {
     "name": "stderr",
     "output_type": "stream",
     "text": [
      "2025-03-24 09:51:09,668: step: 81, Rewards: {'defender_1': -0.14999999999999997, 'defender_2': -0.14999999999999997}\n"
     ]
    },
    {
     "name": "stderr",
     "output_type": "stream",
     "text": [
      "2025-03-24 09:51:09,680: step: 82, Rewards: {'defender_1': -0.14999999999999997, 'defender_2': -0.14999999999999997}\n"
     ]
    },
    {
     "name": "stderr",
     "output_type": "stream",
     "text": [
      "2025-03-24 09:51:09,693: step: 83, Rewards: {'defender_1': -0.14999999999999997, 'defender_2': -0.14999999999999997}\n"
     ]
    },
    {
     "name": "stderr",
     "output_type": "stream",
     "text": [
      "2025-03-24 09:51:09,707: step: 84, Rewards: {'defender_1': -0.14999999999999997, 'defender_2': -0.14999999999999997}\n"
     ]
    },
    {
     "name": "stderr",
     "output_type": "stream",
     "text": [
      "2025-03-24 09:51:09,720: step: 85, Rewards: {'defender_1': -0.14999999999999997, 'defender_2': -0.14999999999999997}\n"
     ]
    },
    {
     "name": "stderr",
     "output_type": "stream",
     "text": [
      "2025-03-24 09:51:09,734: step: 86, Rewards: {'defender_1': -0.14999999999999997, 'defender_2': -0.14999999999999997}\n"
     ]
    },
    {
     "name": "stderr",
     "output_type": "stream",
     "text": [
      "2025-03-24 09:51:09,746: step: 87, Rewards: {'defender_1': -0.14999999999999997, 'defender_2': -0.14999999999999997}\n"
     ]
    },
    {
     "name": "stderr",
     "output_type": "stream",
     "text": [
      "2025-03-24 09:51:09,760: step: 88, Rewards: {'defender_1': -0.14999999999999997, 'defender_2': -0.14999999999999997}\n"
     ]
    },
    {
     "name": "stderr",
     "output_type": "stream",
     "text": [
      "2025-03-24 09:51:09,773: step: 89, Rewards: {'defender_1': -0.14999999999999997, 'defender_2': -0.14999999999999997}\n"
     ]
    },
    {
     "name": "stderr",
     "output_type": "stream",
     "text": [
      "2025-03-24 09:51:09,787: step: 90, Rewards: {'defender_1': -0.14999999999999997, 'defender_2': -0.14999999999999997}\n"
     ]
    },
    {
     "name": "stderr",
     "output_type": "stream",
     "text": [
      "2025-03-24 09:51:09,799: step: 91, Rewards: {'defender_1': -0.14999999999999997, 'defender_2': -0.14999999999999997}\n"
     ]
    },
    {
     "name": "stderr",
     "output_type": "stream",
     "text": [
      "2025-03-24 09:51:09,813: step: 92, Rewards: {'defender_1': -0.14999999999999997, 'defender_2': -0.14999999999999997}\n"
     ]
    },
    {
     "name": "stderr",
     "output_type": "stream",
     "text": [
      "2025-03-24 09:51:09,825: step: 93, Rewards: {'defender_1': -0.14999999999999997, 'defender_2': -0.14999999999999997}\n"
     ]
    },
    {
     "name": "stderr",
     "output_type": "stream",
     "text": [
      "2025-03-24 09:51:09,838: step: 94, Rewards: {'defender_1': -0.14999999999999997, 'defender_2': -0.14999999999999997}\n"
     ]
    },
    {
     "name": "stderr",
     "output_type": "stream",
     "text": [
      "2025-03-24 09:51:09,854: step: 95, Rewards: {'defender_1': -0.14999999999999997, 'defender_2': -0.14999999999999997}\n"
     ]
    },
    {
     "name": "stderr",
     "output_type": "stream",
     "text": [
      "2025-03-24 09:51:09,867: step: 96, Rewards: {'defender_1': -0.14999999999999997, 'defender_2': -0.14999999999999997}\n"
     ]
    },
    {
     "name": "stderr",
     "output_type": "stream",
     "text": [
      "2025-03-24 09:51:09,881: step: 97, Rewards: {'defender_1': -0.14999999999999997, 'defender_2': -0.14999999999999997}\n"
     ]
    },
    {
     "name": "stderr",
     "output_type": "stream",
     "text": [
      "2025-03-24 09:51:09,895: step: 98, Rewards: {'defender_1': -0.14999999999999997, 'defender_2': -0.14999999999999997}\n"
     ]
    },
    {
     "name": "stderr",
     "output_type": "stream",
     "text": [
      "2025-03-24 09:51:09,907: step: 99, Rewards: {'defender_1': -0.14999999999999997, 'defender_2': -0.14999999999999997}\n"
     ]
    },
    {
     "name": "stderr",
     "output_type": "stream",
     "text": [
      "2025-03-24 09:51:09,921: step: 100, Rewards: {'defender_1': -0.14999999999999997, 'defender_2': -0.14999999999999997}\n"
     ]
    },
    {
     "name": "stderr",
     "output_type": "stream",
     "text": [
      "2025-03-24 09:51:09,933: step: 101, Rewards: {'defender_1': -0.14999999999999997, 'defender_2': -0.14999999999999997}\n"
     ]
    },
    {
     "name": "stderr",
     "output_type": "stream",
     "text": [
      "2025-03-24 09:51:09,947: step: 102, Rewards: {'defender_1': -0.14999999999999997, 'defender_2': -0.14999999999999997}\n"
     ]
    },
    {
     "name": "stderr",
     "output_type": "stream",
     "text": [
      "2025-03-24 09:51:09,960: step: 103, Rewards: {'defender_1': -0.14999999999999997, 'defender_2': -0.14999999999999997}\n"
     ]
    },
    {
     "name": "stderr",
     "output_type": "stream",
     "text": [
      "2025-03-24 09:51:09,973: step: 104, Rewards: {'defender_1': -0.14999999999999997, 'defender_2': -0.14999999999999997}\n"
     ]
    },
    {
     "name": "stderr",
     "output_type": "stream",
     "text": [
      "2025-03-24 09:51:09,985: step: 105, Rewards: {'defender_1': -0.14999999999999997, 'defender_2': -0.14999999999999997}\n"
     ]
    },
    {
     "name": "stderr",
     "output_type": "stream",
     "text": [
      "2025-03-24 09:51:09,997: step: 106, Rewards: {'defender_1': -0.14999999999999997, 'defender_2': -0.14999999999999997}\n"
     ]
    },
    {
     "name": "stderr",
     "output_type": "stream",
     "text": [
      "2025-03-24 09:51:10,008: step: 107, Rewards: {'defender_1': -0.14999999999999997, 'defender_2': -0.14999999999999997}\n"
     ]
    },
    {
     "name": "stderr",
     "output_type": "stream",
     "text": [
      "2025-03-24 09:51:10,020: step: 108, Rewards: {'defender_1': -0.14999999999999997, 'defender_2': -0.14999999999999997}\n"
     ]
    },
    {
     "name": "stderr",
     "output_type": "stream",
     "text": [
      "2025-03-24 09:51:10,033: step: 109, Rewards: {'defender_1': -0.14999999999999997, 'defender_2': -0.14999999999999997}\n"
     ]
    },
    {
     "name": "stderr",
     "output_type": "stream",
     "text": [
      "2025-03-24 09:51:10,044: step: 110, Rewards: {'defender_1': -0.14999999999999997, 'defender_2': -0.14999999999999997}\n"
     ]
    },
    {
     "name": "stderr",
     "output_type": "stream",
     "text": [
      "2025-03-24 09:51:10,056: step: 111, Rewards: {'defender_1': -0.14999999999999997, 'defender_2': -0.14999999999999997}\n"
     ]
    },
    {
     "name": "stderr",
     "output_type": "stream",
     "text": [
      "2025-03-24 09:51:10,070: step: 112, Rewards: {'defender_1': -0.14999999999999997, 'defender_2': -0.14999999999999997}\n"
     ]
    },
    {
     "name": "stderr",
     "output_type": "stream",
     "text": [
      "2025-03-24 09:51:10,084: step: 113, Rewards: {'defender_1': -0.14999999999999997, 'defender_2': -0.14999999999999997}\n"
     ]
    },
    {
     "name": "stderr",
     "output_type": "stream",
     "text": [
      "2025-03-24 09:51:10,099: step: 114, Rewards: {'defender_1': -0.14999999999999997, 'defender_2': -0.14999999999999997}\n"
     ]
    },
    {
     "name": "stderr",
     "output_type": "stream",
     "text": [
      "2025-03-24 09:51:10,112: step: 115, Rewards: {'defender_1': -0.14999999999999997, 'defender_2': -0.14999999999999997}\n"
     ]
    },
    {
     "name": "stderr",
     "output_type": "stream",
     "text": [
      "2025-03-24 09:51:10,124: step: 116, Rewards: {'defender_1': -0.14999999999999997, 'defender_2': -0.14999999999999997}\n"
     ]
    },
    {
     "name": "stderr",
     "output_type": "stream",
     "text": [
      "2025-03-24 09:51:10,137: step: 117, Rewards: {'defender_1': -0.14999999999999997, 'defender_2': -0.14999999999999997}\n"
     ]
    },
    {
     "name": "stderr",
     "output_type": "stream",
     "text": [
      "2025-03-24 09:51:10,152: step: 118, Rewards: {'defender_1': -0.14999999999999997, 'defender_2': -0.14999999999999997}\n"
     ]
    },
    {
     "name": "stderr",
     "output_type": "stream",
     "text": [
      "2025-03-24 09:51:10,165: step: 119, Rewards: {'defender_1': -0.14999999999999997, 'defender_2': -0.14999999999999997}\n"
     ]
    },
    {
     "name": "stderr",
     "output_type": "stream",
     "text": [
      "2025-03-24 09:51:10,179: step: 120, Rewards: {'defender_1': -0.14999999999999997, 'defender_2': -0.14999999999999997}\n"
     ]
    },
    {
     "name": "stderr",
     "output_type": "stream",
     "text": [
      "2025-03-24 09:51:10,192: step: 121, Rewards: {'defender_1': -0.14999999999999997, 'defender_2': -0.14999999999999997}\n"
     ]
    },
    {
     "name": "stderr",
     "output_type": "stream",
     "text": [
      "2025-03-24 09:51:10,206: step: 122, Rewards: {'defender_1': -0.14999999999999997, 'defender_2': -0.14999999999999997}\n"
     ]
    },
    {
     "name": "stderr",
     "output_type": "stream",
     "text": [
      "2025-03-24 09:51:10,220: step: 123, Rewards: {'defender_1': -0.14999999999999997, 'defender_2': -0.14999999999999997}\n"
     ]
    },
    {
     "name": "stderr",
     "output_type": "stream",
     "text": [
      "2025-03-24 09:51:10,235: step: 124, Rewards: {'defender_1': -0.14999999999999997, 'defender_2': -0.14999999999999997}\n"
     ]
    },
    {
     "name": "stderr",
     "output_type": "stream",
     "text": [
      "2025-03-24 09:51:10,250: step: 125, Rewards: {'defender_1': -0.14999999999999997, 'defender_2': -0.14999999999999997}\n"
     ]
    },
    {
     "name": "stderr",
     "output_type": "stream",
     "text": [
      "2025-03-24 09:51:10,265: step: 126, Rewards: {'defender_1': -0.14999999999999997, 'defender_2': -0.14999999999999997}\n"
     ]
    },
    {
     "name": "stderr",
     "output_type": "stream",
     "text": [
      "2025-03-24 09:51:10,279: step: 127, Rewards: {'defender_1': -0.55, 'defender_2': -0.55}\n"
     ]
    },
    {
     "name": "stderr",
     "output_type": "stream",
     "text": [
      "2025-03-24 09:51:10,291: step: 128, Rewards: {'defender_1': -0.55, 'defender_2': -0.55}\n"
     ]
    },
    {
     "name": "stderr",
     "output_type": "stream",
     "text": [
      "2025-03-24 09:51:10,296: Resetting environment, episode 2, avg. reward: {'defender_1': -20.99999999999998, 'defender_2': -20.99999999999998}\n"
     ]
    },
    {
     "name": "stderr",
     "output_type": "stream",
     "text": [
      "2025-03-24 09:51:10,297: Saving agent action log to /home/runner/primaite/4.0.0/sessions/2025-03-24/09-50-34/agent_actions/episode_2.json\n"
     ]
    }
   ],
   "source": [
    "config = (\n",
    "    PPOConfig()\n",
    "    .multi_agent(\n",
    "        policies={'defender_1','defender_2'}, # These names are the same as the agents defined in the example config.\n",
    "        policy_mapping_fn=lambda agent_id, *args, **kwargs: agent_id,\n",
    "        )\n",
    "    .api_stack(enable_rl_module_and_learner=True, enable_env_runner_and_connector_v2=True)\n",
    "    .environment(env=PrimaiteRayMARLEnv, env_config=cfg, action_mask_key=\"action_mask\")\n",
    "    .rl_module(rl_module_spec=MultiAgentRLModuleSpec(module_specs={\n",
    "        \"defender_1\":SingleAgentRLModuleSpec(module_class=ActionMaskingTorchRLModule),\n",
    "        \"defender_2\":SingleAgentRLModuleSpec(module_class=ActionMaskingTorchRLModule),\n",
    "        }))\n",
    "    .env_runners(num_env_runners=0)\n",
    "    .training(train_batch_size=128)\n",
    ")\n",
    "algo = config.build()\n",
    "results = algo.train()"
   ]
  }
 ],
 "metadata": {
  "kernelspec": {
   "display_name": "Python 3 (ipykernel)",
   "language": "python",
   "name": "python3"
  },
  "language_info": {
   "codemirror_mode": {
    "name": "ipython",
    "version": 3
   },
   "file_extension": ".py",
   "mimetype": "text/x-python",
   "name": "python",
   "nbconvert_exporter": "python",
   "pygments_lexer": "ipython3",
   "version": "3.10.16"
  }
 },
 "nbformat": 4,
 "nbformat_minor": 2
}
