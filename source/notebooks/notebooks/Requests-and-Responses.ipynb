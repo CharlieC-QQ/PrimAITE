{
 "cells": [
  {
   "cell_type": "markdown",
   "metadata": {},
   "source": [
    "# Requests and Responses\n",
    "\n",
    "© Crown-owned copyright 2025, Defence Science and Technology Laboratory UK\n",
    "\n",
    "This notebook demonstrates how agents interact with the PrimAITE simulation via the Request system.\n"
   ]
  },
  {
   "cell_type": "code",
   "execution_count": 1,
   "metadata": {
    "execution": {
     "iopub.execute_input": "2025-03-24T09:52:23.532491Z",
     "iopub.status.busy": "2025-03-24T09:52:23.532287Z",
     "iopub.status.idle": "2025-03-24T09:52:23.962233Z",
     "shell.execute_reply": "2025-03-24T09:52:23.961462Z"
    }
   },
   "outputs": [
    {
     "name": "stdout",
     "output_type": "stream",
     "text": [
      "2025-03-24 09:52:23,803: Performing the PrimAITE first-time setup...\r\n",
      "2025-03-24 09:52:23,803: Building the PrimAITE app directories...\r\n",
      "2025-03-24 09:52:23,803: Building primaite_config.yaml...\r\n",
      "2025-03-24 09:52:23,803: Rebuilding the demo notebooks...\r\n",
      "2025-03-24 09:52:23,826: Rebuilding the example notebooks...\r\n",
      "2025-03-24 09:52:23,827: PrimAITE setup complete!\r\n"
     ]
    }
   ],
   "source": [
    "!primaite setup"
   ]
  },
  {
   "cell_type": "code",
   "execution_count": 2,
   "metadata": {
    "execution": {
     "iopub.execute_input": "2025-03-24T09:52:23.965529Z",
     "iopub.status.busy": "2025-03-24T09:52:23.965005Z",
     "iopub.status.idle": "2025-03-24T09:52:25.019434Z",
     "shell.execute_reply": "2025-03-24T09:52:25.018614Z"
    }
   },
   "outputs": [],
   "source": [
    "from primaite.simulator.network.hardware.node_operating_state import NodeOperatingState\n",
    "from primaite.simulator.network.hardware.nodes.host.host_node import HostNode\n",
    "from primaite.simulator.sim_container import Simulation\n"
   ]
  },
  {
   "cell_type": "markdown",
   "metadata": {},
   "source": [
    "## Sending a request"
   ]
  },
  {
   "cell_type": "markdown",
   "metadata": {},
   "source": [
    "Before we can send some requests we need to set up a minimal network simulation. The code snippet below creates a PrimAITE simulation with a singular generic host called `client`."
   ]
  },
  {
   "cell_type": "code",
   "execution_count": 3,
   "metadata": {
    "execution": {
     "iopub.execute_input": "2025-03-24T09:52:25.023039Z",
     "iopub.status.busy": "2025-03-24T09:52:25.022502Z",
     "iopub.status.idle": "2025-03-24T09:52:25.060945Z",
     "shell.execute_reply": "2025-03-24T09:52:25.060355Z"
    }
   },
   "outputs": [],
   "source": [
    "sim = Simulation()\n",
    "\n",
    "sim.network.add_node(\n",
    "    HostNode.from_config(\n",
    "        config = {\n",
    "                'type': \"host-node\",\n",
    "                'hostname': \"client\",\n",
    "                'ip_address': '10.0.0.1',\n",
    "                'subnet_mask': '255.255.255.0',\n",
    "                'operating_state': \"ON\",\n",
    "                }\n",
    "    )\n",
    ")\n",
    "client = sim.network.get_node_by_hostname('client')\n"
   ]
  },
  {
   "cell_type": "markdown",
   "metadata": {},
   "source": [
    "Now we can simulation component to interact with, we can start sending some requests."
   ]
  },
  {
   "cell_type": "markdown",
   "metadata": {},
   "source": [
    "A request is structured in a similar way to a command line interface - a list of strings with positional args. It's also possible to supply an optional `context` dictionary. We will craft a request that stops the pre-installed `dns-client` service on the client node.\n",
    "\n",
    "First let's verify that the `dns-client` is running on the client."
   ]
  },
  {
   "cell_type": "code",
   "execution_count": 4,
   "metadata": {
    "execution": {
     "iopub.execute_input": "2025-03-24T09:52:25.063905Z",
     "iopub.status.busy": "2025-03-24T09:52:25.063479Z",
     "iopub.status.idle": "2025-03-24T09:52:25.071594Z",
     "shell.execute_reply": "2025-03-24T09:52:25.070932Z"
    }
   },
   "outputs": [
    {
     "name": "stdout",
     "output_type": "stream",
     "text": [
      "+---------------------------------------------------------------------------------------+\n",
      "|                                client Software Manager                                |\n",
      "+----------------------+-------------+-----------------+--------------+------+----------+\n",
      "| Name                 | Type        | Operating State | Health State | Port | Protocol |\n",
      "+----------------------+-------------+-----------------+--------------+------+----------+\n",
      "| arp                  | Service     | RUNNING         | GOOD         | 219  | udp      |\n",
      "| icmp                 | Service     | RUNNING         | GOOD         | None | icmp     |\n",
      "| dns-client           | Service     | RUNNING         | GOOD         | 53   | tcp      |\n",
      "| ntp-client           | Service     | RUNNING         | GOOD         | 123  | udp      |\n",
      "| web-browser          | Application | CLOSED          | GOOD         | 80   | tcp      |\n",
      "| nmap                 | Application | CLOSED          | GOOD         | None | none     |\n",
      "| user-session-manager | Service     | RUNNING         | GOOD         | None | none     |\n",
      "| user-manager         | Service     | RUNNING         | GOOD         | None | none     |\n",
      "| terminal             | Service     | RUNNING         | GOOD         | 22   | tcp      |\n",
      "+----------------------+-------------+-----------------+--------------+------+----------+\n"
     ]
    },
    {
     "data": {
      "text/plain": [
       "'RUNNING'"
      ]
     },
     "execution_count": 4,
     "metadata": {},
     "output_type": "execute_result"
    }
   ],
   "source": [
    "client.software_manager.show()\n",
    "client.software_manager.software['dns-client'].operating_state.name"
   ]
  },
  {
   "cell_type": "markdown",
   "metadata": {},
   "source": [
    "Send a request to the simulator to stop the `dns-client`."
   ]
  },
  {
   "cell_type": "code",
   "execution_count": 5,
   "metadata": {
    "execution": {
     "iopub.execute_input": "2025-03-24T09:52:25.074480Z",
     "iopub.status.busy": "2025-03-24T09:52:25.073926Z",
     "iopub.status.idle": "2025-03-24T09:52:25.077962Z",
     "shell.execute_reply": "2025-03-24T09:52:25.077299Z"
    }
   },
   "outputs": [
    {
     "name": "stdout",
     "output_type": "stream",
     "text": [
      "status='success' data={}\n"
     ]
    }
   ],
   "source": [
    "response = sim.apply_request(\n",
    "    request=[\"network\", \"node\", \"client\", \"service\", \"dns-client\", \"stop\"],\n",
    "    context={}\n",
    "    )\n",
    "print(response)"
   ]
  },
  {
   "cell_type": "markdown",
   "metadata": {},
   "source": [
    "\n",
    "The request returns a `RequestResponse` object which tells us that the request was successfully executed. Let's verify that the `dns-client` is in a stopped state now."
   ]
  },
  {
   "cell_type": "code",
   "execution_count": 6,
   "metadata": {
    "execution": {
     "iopub.execute_input": "2025-03-24T09:52:25.080504Z",
     "iopub.status.busy": "2025-03-24T09:52:25.080146Z",
     "iopub.status.idle": "2025-03-24T09:52:25.083641Z",
     "shell.execute_reply": "2025-03-24T09:52:25.082994Z"
    }
   },
   "outputs": [
    {
     "name": "stdout",
     "output_type": "stream",
     "text": [
      "DNS Client state: STOPPED\n"
     ]
    }
   ],
   "source": [
    "print(f\"DNS Client state: {client.software_manager.software.get('dns-client').operating_state.name}\")"
   ]
  },
  {
   "cell_type": "markdown",
   "metadata": {},
   "source": [
    "## Unreachable requests"
   ]
  },
  {
   "cell_type": "markdown",
   "metadata": {},
   "source": [
    "If we attempt to send a request to something that doesn't exist, we will get an unreachable request status."
   ]
  },
  {
   "cell_type": "code",
   "execution_count": 7,
   "metadata": {
    "execution": {
     "iopub.execute_input": "2025-03-24T09:52:25.086239Z",
     "iopub.status.busy": "2025-03-24T09:52:25.085993Z",
     "iopub.status.idle": "2025-03-24T09:52:25.089814Z",
     "shell.execute_reply": "2025-03-24T09:52:25.089181Z"
    }
   },
   "outputs": [
    {
     "name": "stdout",
     "output_type": "stream",
     "text": [
      "status='unreachable' data={'reason': (\"Request ['non-existent-application', 'stop'] could not be processed because non-existent-application is not a valid request name\", 'within this RequestManager')}\n"
     ]
    }
   ],
   "source": [
    "response = sim.apply_request(\n",
    "    request=[\"network\", \"node\", \"client\", \"service\", \"non-existent-application\", \"stop\"],\n",
    "    context={}\n",
    "    )\n",
    "print(response)"
   ]
  },
  {
   "cell_type": "markdown",
   "metadata": {},
   "source": [
    "## Failed requests\n",
    "\n",
    "Sometimes requests cannot be executed by the simulation. For example if we turn off the client node, we cannot execute the software that is running on it."
   ]
  },
  {
   "cell_type": "code",
   "execution_count": 8,
   "metadata": {
    "execution": {
     "iopub.execute_input": "2025-03-24T09:52:25.092251Z",
     "iopub.status.busy": "2025-03-24T09:52:25.092052Z",
     "iopub.status.idle": "2025-03-24T09:52:25.095849Z",
     "shell.execute_reply": "2025-03-24T09:52:25.095237Z"
    }
   },
   "outputs": [
    {
     "name": "stdout",
     "output_type": "stream",
     "text": [
      "status='success' data={}\n"
     ]
    }
   ],
   "source": [
    "response = sim.apply_request(\n",
    "    request = [\"network\", \"node\", \"client\", \"shutdown\"],\n",
    "    context = {}\n",
    ")\n",
    "print(response)"
   ]
  },
  {
   "cell_type": "markdown",
   "metadata": {},
   "source": [
    "We need to apply timestep a few times for the client to go from `SHUTTING_DOWN` to `OFF` state."
   ]
  },
  {
   "cell_type": "code",
   "execution_count": 9,
   "metadata": {
    "execution": {
     "iopub.execute_input": "2025-03-24T09:52:25.098481Z",
     "iopub.status.busy": "2025-03-24T09:52:25.098121Z",
     "iopub.status.idle": "2025-03-24T09:52:25.102328Z",
     "shell.execute_reply": "2025-03-24T09:52:25.101704Z"
    }
   },
   "outputs": [
    {
     "name": "stdout",
     "output_type": "stream",
     "text": [
      "client is in state: SHUTTING_DOWN\n",
      "client is in state: OFF\n"
     ]
    }
   ],
   "source": [
    "print(f\"client is in state: {client.operating_state.name}\")\n",
    "sim.apply_timestep(1)\n",
    "sim.apply_timestep(2)\n",
    "sim.apply_timestep(3)\n",
    "sim.apply_timestep(4)\n",
    "print(f\"client is in state: {client.operating_state.name}\")"
   ]
  },
  {
   "cell_type": "markdown",
   "metadata": {},
   "source": [
    "Now, if we try to start the `dns-client` back up, we get a failure because we cannot start software on a node that is turned off."
   ]
  },
  {
   "cell_type": "code",
   "execution_count": 10,
   "metadata": {
    "execution": {
     "iopub.execute_input": "2025-03-24T09:52:25.104928Z",
     "iopub.status.busy": "2025-03-24T09:52:25.104546Z",
     "iopub.status.idle": "2025-03-24T09:52:25.108178Z",
     "shell.execute_reply": "2025-03-24T09:52:25.107510Z"
    }
   },
   "outputs": [
    {
     "name": "stdout",
     "output_type": "stream",
     "text": [
      "status='failure' data={'reason': \"Cannot perform request on node 'client' because it is not powered on.\"}\n"
     ]
    }
   ],
   "source": [
    "response = sim.apply_request(\n",
    "    request=[\"network\", \"node\", \"client\", \"service\", \"dns-client\", \"start\"],\n",
    "    context={}\n",
    "    )\n",
    "print(response)"
   ]
  }
 ],
 "metadata": {
  "kernelspec": {
   "display_name": "Python 3 (ipykernel)",
   "language": "python",
   "name": "python3"
  },
  "language_info": {
   "codemirror_mode": {
    "name": "ipython",
    "version": 3
   },
   "file_extension": ".py",
   "mimetype": "text/x-python",
   "name": "python",
   "nbconvert_exporter": "python",
   "pygments_lexer": "ipython3",
   "version": "3.10.16"
  }
 },
 "nbformat": 4,
 "nbformat_minor": 2
}
