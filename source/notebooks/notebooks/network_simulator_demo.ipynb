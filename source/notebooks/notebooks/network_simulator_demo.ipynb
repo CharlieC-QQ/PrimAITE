{
 "cells": [
  {
   "cell_type": "markdown",
   "id": "0",
   "metadata": {},
   "source": [
    "# PrimAITE Router Simulation Demo\n",
    "\n",
    "© Crown-owned copyright 2025, Defence Science and Technology Laboratory UK\n",
    "\n",
    "This demo uses a modified version of the ARCD Use Case 2 Network (seen below) to demonstrate the capabilities of the Network simulator in PrimAITE."
   ]
  },
  {
   "cell_type": "markdown",
   "id": "1",
   "metadata": {},
   "source": [
    "``` text\n",
    "                                                                                +------------+\n",
    "                                                                                |  domain_   |\n",
    "                                                                   +------------+ controller |\n",
    "                                                                   |            |            |\n",
    "                                                                   |            +------------+\n",
    "                                                                   |\n",
    "                                                                   |\n",
    "+------------+                                                     |            +------------+\n",
    "|            |                                                     |            |            |\n",
    "|  client_1  +---------+                                           |  +---------+ web_server |\n",
    "|            |         |                                           |  |         |            |\n",
    "+------------+         |                                           |  |         +------------+\n",
    "                    +--+---------+      +------------+      +------+--+--+\n",
    "                    |            |      |            |      |            |\n",
    "                    |  switch_2  +------+  router_1  +------+  switch_1  |\n",
    "                    |            |      |            |      |            |\n",
    "                    +--+------+--+      +------------+      +--+---+--+--+\n",
    "+------------+         |      |                                |   |  |         +------------+\n",
    "|            |         |      |                                |   |  |         |  database  |\n",
    "|  client_2  +---------+      |                                |   |  +---------+  _server   |\n",
    "|            |                |                                |   |            |            |\n",
    "+------------+                |                                |   |            +------------+\n",
    "                              |         +------------+         |   |\n",
    "                              |         |  security  |         |   |\n",
    "                              +---------+   _suite   +---------+   |            +------------+\n",
    "                                        |            |             |            |  backup_   |\n",
    "                                        +------------+             +------------+  server    |\n",
    "                                                                                |            |\n",
    "                                                                                +------------+\n",
    "```"
   ]
  },
  {
   "cell_type": "markdown",
   "id": "2",
   "metadata": {},
   "source": [
    "## The Network\n",
    "First let's create our network. The network comes 'pre-packaged' with PrimAITE in the `primaite.simulator.network.networks` module.\n",
    "\n",
    "> ℹ️ You'll see a bunch of logs associated with parts of the Network that aren't an 'electronic' device on the Network and thus don't have a stream to log to. Soon these logs are going to be pushed to a Network Logger so we're not clogging up the PrimAITE application logs."
   ]
  },
  {
   "cell_type": "code",
   "execution_count": 1,
   "id": "3",
   "metadata": {
    "execution": {
     "iopub.execute_input": "2025-03-24T10:02:23.623180Z",
     "iopub.status.busy": "2025-03-24T10:02:23.622977Z",
     "iopub.status.idle": "2025-03-24T10:02:25.473930Z",
     "shell.execute_reply": "2025-03-24T10:02:25.473169Z"
    },
    "tags": []
   },
   "outputs": [],
   "source": [
    "from primaite.simulator.network.networks import network_simulator_demo_example"
   ]
  },
  {
   "cell_type": "code",
   "execution_count": 2,
   "id": "4",
   "metadata": {
    "execution": {
     "iopub.execute_input": "2025-03-24T10:02:25.477109Z",
     "iopub.status.busy": "2025-03-24T10:02:25.476755Z",
     "iopub.status.idle": "2025-03-24T10:02:25.681921Z",
     "shell.execute_reply": "2025-03-24T10:02:25.681240Z"
    },
    "tags": []
   },
   "outputs": [],
   "source": [
    "network = network_simulator_demo_example()"
   ]
  },
  {
   "cell_type": "markdown",
   "id": "5",
   "metadata": {},
   "source": [
    "Most of the Network components have a `.show()` function that prints a table of information about that object. We can view the Nodes and Links on the Network by calling `network.show()`."
   ]
  },
  {
   "cell_type": "code",
   "execution_count": 3,
   "id": "6",
   "metadata": {
    "execution": {
     "iopub.execute_input": "2025-03-24T10:02:25.685131Z",
     "iopub.status.busy": "2025-03-24T10:02:25.684884Z",
     "iopub.status.idle": "2025-03-24T10:02:25.692765Z",
     "shell.execute_reply": "2025-03-24T10:02:25.692106Z"
    },
    "tags": []
   },
   "outputs": [
    {
     "name": "stdout",
     "output_type": "stream",
     "text": [
      "+------------------------------------------------+\n",
      "|                     Nodes                      |\n",
      "+-------------------+----------+-----------------+\n",
      "| Node              | Type     | Operating State |\n",
      "+-------------------+----------+-----------------+\n",
      "| router_1          | router   | ON              |\n",
      "| switch_1          | switch   | ON              |\n",
      "| switch_2          | switch   | ON              |\n",
      "| client_1          | computer | ON              |\n",
      "| client_2          | computer | ON              |\n",
      "| domain_controller | server   | ON              |\n",
      "| database_server   | server   | ON              |\n",
      "| web_server        | server   | ON              |\n",
      "| backup_server     | server   | ON              |\n",
      "| security_suite    | server   | ON              |\n",
      "+-------------------+----------+-----------------+\n",
      "+-----------------------------------------------------------------------------+\n",
      "|                                 IP Addresses                                |\n",
      "+-------------------+------+----------------+---------------+-----------------+\n",
      "| Node              | Port | IP Address     | Subnet Mask   | Default Gateway |\n",
      "+-------------------+------+----------------+---------------+-----------------+\n",
      "| router_1          | 1    | 192.168.1.1    | 255.255.255.0 | None            |\n",
      "| router_1          | 2    | 192.168.10.1   | 255.255.255.0 | None            |\n",
      "| client_1          | 1    | 192.168.10.21  | 255.255.255.0 | 192.168.10.1    |\n",
      "| client_2          | 1    | 192.168.10.22  | 255.255.255.0 | 192.168.10.1    |\n",
      "| domain_controller | 1    | 192.168.1.10   | 255.255.255.0 | 192.168.1.1     |\n",
      "| database_server   | 1    | 192.168.1.14   | 255.255.255.0 | 192.168.1.1     |\n",
      "| web_server        | 1    | 192.168.1.11   | 255.255.255.0 | 192.168.1.1     |\n",
      "| backup_server     | 1    | 192.168.1.16   | 255.255.255.0 | 192.168.1.1     |\n",
      "| security_suite    | 1    | 192.168.1.110  | 255.255.255.0 | 192.168.1.1     |\n",
      "| security_suite    | 2    | 192.168.10.110 | 255.255.255.0 | 192.168.1.1     |\n",
      "+-------------------+------+----------------+---------------+-----------------+\n",
      "+---------------------------------------------------------------------------------------------------------------------------------------------------------------+\n",
      "|                                                                             Links                                                                             |\n",
      "+------------+----------------------------------------+-------------------+------------------------------------------+-------+-------------------+--------------+\n",
      "| Endpoint A | A Port                                 | Endpoint B        | B Port                                   | is Up | Bandwidth (MBits) | Current Load |\n",
      "+------------+----------------------------------------+-------------------+------------------------------------------+-------+-------------------+--------------+\n",
      "| router_1   | Port 2: 81:d0:be:ff:72:ea/192.168.10.1 | switch_2          | Port 8: 92:46:82:01:1d:aa                | True  | 100.0             | 0.00024%     |\n",
      "| router_1   | Port 1: 29:65:23:1a:e7:de/192.168.1.1  | switch_1          | Port 8: c4:54:95:f2:6b:4a                | True  | 100.0             | 0.00072%     |\n",
      "| switch_1   | Port 7: e9:05:71:ae:ee:96              | security_suite    | Port 1: d0:69:9e:88:12:3a/192.168.1.110  | True  | 100.0             | 0.00012%     |\n",
      "| switch_1   | Port 4: 7e:d6:98:1e:52:c2              | backup_server     | Port 1: fc:a2:ad:82:e9:b2/192.168.1.16   | True  | 100.0             | 0.00012%     |\n",
      "| switch_1   | Port 2: 3c:38:cd:9c:b8:8e              | web_server        | Port 1: dc:7a:05:64:03:b5/192.168.1.11   | True  | 100.0             | 0.00038%     |\n",
      "| switch_1   | Port 3: c2:58:a8:4f:c7:f2              | database_server   | Port 1: 85:73:f5:59:04:97/192.168.1.14   | True  | 100.0             | 0.00044%     |\n",
      "| switch_1   | Port 1: 66:aa:87:82:d5:0f              | domain_controller | Port 1: 91:91:d4:6e:a9:b7/192.168.1.10   | True  | 100.0             | 0.00012%     |\n",
      "| switch_2   | Port 7: 1f:ec:73:08:2c:5a              | security_suite    | Port 2: b7:17:c2:8a:0e:e3/192.168.10.110 | True  | 100.0             | 0.00000%     |\n",
      "| switch_2   | Port 2: ae:f9:35:b9:03:e8              | client_2          | Port 1: a3:1e:2f:ff:f1:c2/192.168.10.22  | True  | 100.0             | 0.00012%     |\n",
      "| switch_2   | Port 1: 52:6a:00:f9:03:7a              | client_1          | Port 1: c9:80:02:9f:79:dd/192.168.10.21  | True  | 100.0             | 0.00012%     |\n",
      "+------------+----------------------------------------+-------------------+------------------------------------------+-------+-------------------+--------------+\n"
     ]
    }
   ],
   "source": [
    "network.show()"
   ]
  },
  {
   "cell_type": "markdown",
   "id": "7",
   "metadata": {
    "tags": []
   },
   "source": [
    "## Nodes\n",
    "\n",
    "Now let's inspect some of the nodes. We can directly access a node on the Network by calling .`get_node_by_hostname`. Like Network, a Node, along with some core services like ARP, have a `.show()` method."
   ]
  },
  {
   "cell_type": "markdown",
   "id": "8",
   "metadata": {},
   "source": [
    "### Router Nodes\n",
    "\n",
    "First we'll inspect the Router node and some of it's core services."
   ]
  },
  {
   "cell_type": "markdown",
   "id": "9",
   "metadata": {},
   "source": [
    "Calling `router.show()` displays the Ethernet interfaces on the Router. If you need a table in markdown format, pass `markdown=True`."
   ]
  },
  {
   "cell_type": "code",
   "execution_count": 4,
   "id": "10",
   "metadata": {
    "execution": {
     "iopub.execute_input": "2025-03-24T10:02:25.695407Z",
     "iopub.status.busy": "2025-03-24T10:02:25.695199Z",
     "iopub.status.idle": "2025-03-24T10:02:25.699256Z",
     "shell.execute_reply": "2025-03-24T10:02:25.698575Z"
    },
    "tags": []
   },
   "outputs": [
    {
     "name": "stdout",
     "output_type": "stream",
     "text": [
      "+---------------------------------------------------------------+\n",
      "|                  router_1 Network Interfaces                  |\n",
      "+------+-------------------+-----------------+-------+----------+\n",
      "| Port | MAC Address       | Address         | Speed | Status   |\n",
      "+------+-------------------+-----------------+-------+----------+\n",
      "| 1    | 29:65:23:1a:e7:de | 192.168.1.1/24  | 100.0 | Enabled  |\n",
      "| 2    | 81:d0:be:ff:72:ea | 192.168.10.1/24 | 100.0 | Enabled  |\n",
      "| 3    | 87:a7:66:a3:2a:f5 | 127.0.0.1/8     | 100.0 | Disabled |\n",
      "| 4    | 46:5e:8f:17:cc:23 | 127.0.0.1/8     | 100.0 | Disabled |\n",
      "| 5    | a0:ff:5d:4d:d7:f9 | 127.0.0.1/8     | 100.0 | Disabled |\n",
      "+------+-------------------+-----------------+-------+----------+\n"
     ]
    }
   ],
   "source": [
    "network.get_node_by_hostname(\"router_1\").show()"
   ]
  },
  {
   "cell_type": "markdown",
   "id": "11",
   "metadata": {},
   "source": [
    "Calling `router.arp.show()` displays the Router ARP Cache."
   ]
  },
  {
   "cell_type": "code",
   "execution_count": 5,
   "id": "12",
   "metadata": {
    "execution": {
     "iopub.execute_input": "2025-03-24T10:02:25.701872Z",
     "iopub.status.busy": "2025-03-24T10:02:25.701472Z",
     "iopub.status.idle": "2025-03-24T10:02:25.706057Z",
     "shell.execute_reply": "2025-03-24T10:02:25.705439Z"
    },
    "tags": []
   },
   "outputs": [
    {
     "name": "stdout",
     "output_type": "stream",
     "text": [
      "+--------------------------------------------------------------+\n",
      "|                      router_1 ARP Cache                      |\n",
      "+---------------+-------------------+-------------------+------+\n",
      "| IP Address    | MAC Address       | Via               | Port |\n",
      "+---------------+-------------------+-------------------+------+\n",
      "| 192.168.10.21 | c9:80:02:9f:79:dd | 81:d0:be:ff:72:ea | 2    |\n",
      "| 192.168.10.22 | a3:1e:2f:ff:f1:c2 | 81:d0:be:ff:72:ea | 2    |\n",
      "| 192.168.1.10  | 91:91:d4:6e:a9:b7 | 29:65:23:1a:e7:de | 1    |\n",
      "| 192.168.1.14  | 85:73:f5:59:04:97 | 29:65:23:1a:e7:de | 1    |\n",
      "| 192.168.1.11  | dc:7a:05:64:03:b5 | 29:65:23:1a:e7:de | 1    |\n",
      "| 192.168.1.16  | fc:a2:ad:82:e9:b2 | 29:65:23:1a:e7:de | 1    |\n",
      "| 192.168.1.110 | d0:69:9e:88:12:3a | 29:65:23:1a:e7:de | 1    |\n",
      "+---------------+-------------------+-------------------+------+\n"
     ]
    }
   ],
   "source": [
    "network.get_node_by_hostname(\"router_1\").arp.show()"
   ]
  },
  {
   "cell_type": "markdown",
   "id": "13",
   "metadata": {},
   "source": [
    "Calling `router.acl.show()` displays the Access Control List."
   ]
  },
  {
   "cell_type": "code",
   "execution_count": 6,
   "id": "14",
   "metadata": {
    "execution": {
     "iopub.execute_input": "2025-03-24T10:02:25.708340Z",
     "iopub.status.busy": "2025-03-24T10:02:25.708137Z",
     "iopub.status.idle": "2025-03-24T10:02:25.712747Z",
     "shell.execute_reply": "2025-03-24T10:02:25.712178Z"
    },
    "tags": []
   },
   "outputs": [
    {
     "name": "stdout",
     "output_type": "stream",
     "text": [
      "+-----------------------------------------------------------------------------------------------------------+\n",
      "|                                        router_1 Access Control List                                       |\n",
      "+-------+--------+----------+--------+--------------+----------+--------+--------------+----------+---------+\n",
      "| Index | Action | Protocol | Src IP | Src Wildcard | Src Port | Dst IP | Dst Wildcard | Dst Port | Matched |\n",
      "+-------+--------+----------+--------+--------------+----------+--------+--------------+----------+---------+\n",
      "| 0     | PERMIT | ANY      | ANY    | ANY          | 5432     | ANY    | ANY          | 5432     | 0       |\n",
      "| 1     | PERMIT | ANY      | ANY    | ANY          | 53       | ANY    | ANY          | 53       | 0       |\n",
      "| 2     | PERMIT | ANY      | ANY    | ANY          | 21       | ANY    | ANY          | 21       | 0       |\n",
      "| 3     | PERMIT | ANY      | ANY    | ANY          | 80       | ANY    | ANY          | 80       | 0       |\n",
      "| 22    | PERMIT | ANY      | ANY    | ANY          | 219      | ANY    | ANY          | 219      | 0       |\n",
      "| 23    | PERMIT | icmp     | ANY    | ANY          | ANY      | ANY    | ANY          | ANY      | 0       |\n",
      "| 24    | DENY   | ANY      | ANY    | ANY          | ANY      | ANY    | ANY          | ANY      | 0       |\n",
      "+-------+--------+----------+--------+--------------+----------+--------+--------------+----------+---------+\n"
     ]
    }
   ],
   "source": [
    "network.get_node_by_hostname(\"router_1\").acl.show()"
   ]
  },
  {
   "cell_type": "markdown",
   "id": "15",
   "metadata": {},
   "source": [
    "Calling `router.router_table.show()` displays the static routes the Router provides. "
   ]
  },
  {
   "cell_type": "code",
   "execution_count": 7,
   "id": "16",
   "metadata": {
    "execution": {
     "iopub.execute_input": "2025-03-24T10:02:25.721123Z",
     "iopub.status.busy": "2025-03-24T10:02:25.720706Z",
     "iopub.status.idle": "2025-03-24T10:02:25.724355Z",
     "shell.execute_reply": "2025-03-24T10:02:25.723700Z"
    },
    "tags": []
   },
   "outputs": [
    {
     "name": "stdout",
     "output_type": "stream",
     "text": [
      "+------------------------------------------------+\n",
      "|              router_1 Route Table              |\n",
      "+-------+-----------------+-------------+--------+\n",
      "| Index | Address         | Next Hop    | Metric |\n",
      "+-------+-----------------+-------------+--------+\n",
      "| 0     | 192.168.10.0/24 | 192.168.1.2 | 0.0    |\n",
      "+-------+-----------------+-------------+--------+\n"
     ]
    }
   ],
   "source": [
    "network.get_node_by_hostname(\"router_1\").route_table.show()"
   ]
  },
  {
   "cell_type": "markdown",
   "id": "17",
   "metadata": {},
   "source": [
    "Calling `router.sys_log.show()` displays the Router system log. By default, only the last 10 log entries are displayed, this can be changed by passing `last_n=<number of log entries>`.\n",
    "\n",
    "NB: For `sys_log.show()` to work correctly log files need to be created with a sys_log level of INFO or below."
   ]
  },
  {
   "cell_type": "code",
   "execution_count": 8,
   "id": "18",
   "metadata": {
    "execution": {
     "iopub.execute_input": "2025-03-24T10:02:25.726943Z",
     "iopub.status.busy": "2025-03-24T10:02:25.726536Z",
     "iopub.status.idle": "2025-03-24T10:02:25.731675Z",
     "shell.execute_reply": "2025-03-24T10:02:25.731052Z"
    },
    "tags": []
   },
   "outputs": [
    {
     "name": "stdout",
     "output_type": "stream",
     "text": [
      "+--------------------------------------------------------------------------------------------------------------------------------------------+\n",
      "|                                                              router_1 Sys Log                                                              |\n",
      "+-------------------------+-------+----------------------------------------------------------------------------------------------------------+\n",
      "| Timestamp               | Level | Message                                                                                                  |\n",
      "+-------------------------+-------+----------------------------------------------------------------------------------------------------------+\n",
      "| 2025-03-24 10:02:25,661 | INFO  | Sending ARP reply from 29:65:23:1a:e7:de/192.168.1.1 to 192.168.1.11/dc:7a:05:64:03:b5                   |\n",
      "| 2025-03-24 10:02:25,663 | INFO  | Forwarding frame to internally from port 1 to port 1                                                     |\n",
      "| 2025-03-24 10:02:25,672 | INFO  | Adding ARP cache entry for fc:a2:ad:82:e9:b2/192.168.1.16 via NIC Port 1: 29:65:23:1a:e7:de/192.168.1.1  |\n",
      "| 2025-03-24 10:02:25,672 | INFO  | Received ARP request for 192.168.1.1 from fc:a2:ad:82:e9:b2/192.168.1.16                                 |\n",
      "| 2025-03-24 10:02:25,672 | INFO  | Sending ARP reply from 29:65:23:1a:e7:de/192.168.1.1 to 192.168.1.16/fc:a2:ad:82:e9:b2                   |\n",
      "| 2025-03-24 10:02:25,678 | INFO  | Adding ARP cache entry for d0:69:9e:88:12:3a/192.168.1.110 via NIC Port 1: 29:65:23:1a:e7:de/192.168.1.1 |\n",
      "| 2025-03-24 10:02:25,678 | INFO  | Received ARP request for 192.168.1.1 from d0:69:9e:88:12:3a/192.168.1.110                                |\n",
      "| 2025-03-24 10:02:25,678 | INFO  | Sending ARP reply from 29:65:23:1a:e7:de/192.168.1.1 to 192.168.1.110/d0:69:9e:88:12:3a                  |\n",
      "| 2025-03-24 10:02:25,679 | INFO  | Overwriting ACL rule at position 22                                                                      |\n",
      "| 2025-03-24 10:02:25,679 | INFO  | Overwriting ACL rule at position 23                                                                      |\n",
      "+-------------------------+-------+----------------------------------------------------------------------------------------------------------+\n"
     ]
    }
   ],
   "source": [
    "network.get_node_by_hostname(\"router_1\").sys_log.show()"
   ]
  },
  {
   "cell_type": "markdown",
   "id": "19",
   "metadata": {},
   "source": [
    "### Switch Nodes\n",
    "\n",
    "Next we'll inspect the Switch node and some of its core services."
   ]
  },
  {
   "cell_type": "markdown",
   "id": "20",
   "metadata": {},
   "source": [
    "Calling `switch.show()` displays the Switch ports on the Switch."
   ]
  },
  {
   "cell_type": "code",
   "execution_count": 9,
   "id": "21",
   "metadata": {
    "execution": {
     "iopub.execute_input": "2025-03-24T10:02:25.734651Z",
     "iopub.status.busy": "2025-03-24T10:02:25.734181Z",
     "iopub.status.idle": "2025-03-24T10:02:25.738152Z",
     "shell.execute_reply": "2025-03-24T10:02:25.737511Z"
    },
    "tags": []
   },
   "outputs": [
    {
     "name": "stdout",
     "output_type": "stream",
     "text": [
      "+---------------------------------------------+\n",
      "|            switch_1 Switch Ports            |\n",
      "+------+-------------------+-------+----------+\n",
      "| Port | MAC Address       | Speed | Status   |\n",
      "+------+-------------------+-------+----------+\n",
      "| 1    | 66:aa:87:82:d5:0f | 100.0 | Enabled  |\n",
      "| 2    | 3c:38:cd:9c:b8:8e | 100.0 | Enabled  |\n",
      "| 3    | c2:58:a8:4f:c7:f2 | 100.0 | Enabled  |\n",
      "| 4    | 7e:d6:98:1e:52:c2 | 100.0 | Enabled  |\n",
      "| 5    | d3:7a:d8:9a:b5:9d | 100.0 | Disabled |\n",
      "| 6    | df:23:39:db:52:c6 | 100.0 | Disabled |\n",
      "| 7    | e9:05:71:ae:ee:96 | 100.0 | Enabled  |\n",
      "| 8    | c4:54:95:f2:6b:4a | 100.0 | Enabled  |\n",
      "+------+-------------------+-------+----------+\n"
     ]
    }
   ],
   "source": [
    "network.get_node_by_hostname(\"switch_1\").show()"
   ]
  },
  {
   "cell_type": "markdown",
   "id": "22",
   "metadata": {},
   "source": [
    "Calling `switch.sys_log.show()` displays the Switch system log. By default, only the last 10 log entries are displayed, this can be changed by passing `last_n=<number of log entries>`."
   ]
  },
  {
   "cell_type": "code",
   "execution_count": 10,
   "id": "23",
   "metadata": {
    "execution": {
     "iopub.execute_input": "2025-03-24T10:02:25.740632Z",
     "iopub.status.busy": "2025-03-24T10:02:25.740260Z",
     "iopub.status.idle": "2025-03-24T10:02:25.745226Z",
     "shell.execute_reply": "2025-03-24T10:02:25.744566Z"
    },
    "tags": []
   },
   "outputs": [
    {
     "name": "stdout",
     "output_type": "stream",
     "text": [
      "+---------------------------------------------------------------------------------------+\n",
      "|                                    switch_1 Sys Log                                   |\n",
      "+-------------------------+-------+-----------------------------------------------------+\n",
      "| Timestamp               | Level | Message                                             |\n",
      "+-------------------------+-------+-----------------------------------------------------+\n",
      "| 2025-03-24 10:02:25,648 | INFO  | Added MAC table entry: Port 1 -> 91:91:d4:6e:a9:b7  |\n",
      "| 2025-03-24 10:02:25,649 | INFO  | Added MAC table entry: Port 8 -> 29:65:23:1a:e7:de  |\n",
      "| 2025-03-24 10:02:25,653 | INFO  | Network Interface Port 3: c2:58:a8:4f:c7:f2 enabled |\n",
      "| 2025-03-24 10:02:25,654 | INFO  | Added MAC table entry: Port 3 -> 85:73:f5:59:04:97  |\n",
      "| 2025-03-24 10:02:25,660 | INFO  | Network Interface Port 2: 3c:38:cd:9c:b8:8e enabled |\n",
      "| 2025-03-24 10:02:25,661 | INFO  | Added MAC table entry: Port 2 -> dc:7a:05:64:03:b5  |\n",
      "| 2025-03-24 10:02:25,671 | INFO  | Network Interface Port 4: 7e:d6:98:1e:52:c2 enabled |\n",
      "| 2025-03-24 10:02:25,671 | INFO  | Added MAC table entry: Port 4 -> fc:a2:ad:82:e9:b2  |\n",
      "| 2025-03-24 10:02:25,677 | INFO  | Network Interface Port 7: e9:05:71:ae:ee:96 enabled |\n",
      "| 2025-03-24 10:02:25,677 | INFO  | Added MAC table entry: Port 7 -> d0:69:9e:88:12:3a  |\n",
      "+-------------------------+-------+-----------------------------------------------------+\n"
     ]
    }
   ],
   "source": [
    "network.get_node_by_hostname(\"switch_1\").sys_log.show()"
   ]
  },
  {
   "cell_type": "markdown",
   "id": "24",
   "metadata": {},
   "source": [
    "### Computer/Server Nodes\n",
    "\n",
    "Finally, we'll inspect a Computer or Server Node and some of its core services."
   ]
  },
  {
   "cell_type": "markdown",
   "id": "25",
   "metadata": {
    "tags": []
   },
   "source": [
    "Calling `computer.show()` displays the NICs on the Computer/Server."
   ]
  },
  {
   "cell_type": "code",
   "execution_count": 11,
   "id": "26",
   "metadata": {
    "execution": {
     "iopub.execute_input": "2025-03-24T10:02:25.748018Z",
     "iopub.status.busy": "2025-03-24T10:02:25.747629Z",
     "iopub.status.idle": "2025-03-24T10:02:25.751842Z",
     "shell.execute_reply": "2025-03-24T10:02:25.751202Z"
    },
    "tags": []
   },
   "outputs": [
    {
     "name": "stdout",
     "output_type": "stream",
     "text": [
      "+----------------------------------------------------------------------------------+\n",
      "|                      security_suite Network Interface Cards                      |\n",
      "+------+------+-------------------+-------------------+-------+---------+----------+\n",
      "| Port | Type | MAC Address       | Address           | Speed | Status  | NMNE     |\n",
      "+------+------+-------------------+-------------------+-------+---------+----------+\n",
      "| 1    | NIC  | d0:69:9e:88:12:3a | 192.168.1.110/24  | 100.0 | Enabled | Disabled |\n",
      "| 2    | NIC  | b7:17:c2:8a:0e:e3 | 192.168.10.110/24 | 100.0 | Enabled | Disabled |\n",
      "+------+------+-------------------+-------------------+-------+---------+----------+\n",
      "+---------------------------+\n",
      "| security_suite Open Ports |\n",
      "+---------------------------+\n",
      "| Port                      |\n",
      "+---------------------------+\n",
      "| 22                        |\n",
      "| 53                        |\n",
      "| 80                        |\n",
      "| 123                       |\n",
      "| 219                       |\n",
      "+---------------------------+\n"
     ]
    }
   ],
   "source": [
    "network.get_node_by_hostname(\"security_suite\").show()"
   ]
  },
  {
   "cell_type": "markdown",
   "id": "27",
   "metadata": {},
   "source": [
    "Calling `computer.arp.show()` displays the Computer/Server ARP Cache."
   ]
  },
  {
   "cell_type": "code",
   "execution_count": 12,
   "id": "28",
   "metadata": {
    "execution": {
     "iopub.execute_input": "2025-03-24T10:02:25.754192Z",
     "iopub.status.busy": "2025-03-24T10:02:25.754003Z",
     "iopub.status.idle": "2025-03-24T10:02:25.757839Z",
     "shell.execute_reply": "2025-03-24T10:02:25.757263Z"
    },
    "tags": []
   },
   "outputs": [
    {
     "name": "stdout",
     "output_type": "stream",
     "text": [
      "+------------------------------------------------------------+\n",
      "|                  security_suite ARP Cache                  |\n",
      "+-------------+-------------------+-------------------+------+\n",
      "| IP Address  | MAC Address       | Via               | Port |\n",
      "+-------------+-------------------+-------------------+------+\n",
      "| 192.168.1.1 | 29:65:23:1a:e7:de | d0:69:9e:88:12:3a | 1    |\n",
      "+-------------+-------------------+-------------------+------+\n"
     ]
    }
   ],
   "source": [
    "network.get_node_by_hostname(\"security_suite\").arp.show()"
   ]
  },
  {
   "cell_type": "markdown",
   "id": "29",
   "metadata": {},
   "source": [
    "Calling `computer.sys_log.show()` displays the Computer/Server system log. By default, only the last 10 log entries are displayed; this can be changed by passing `last_n=<number of log entries>`."
   ]
  },
  {
   "cell_type": "code",
   "execution_count": 13,
   "id": "30",
   "metadata": {
    "execution": {
     "iopub.execute_input": "2025-03-24T10:02:25.760505Z",
     "iopub.status.busy": "2025-03-24T10:02:25.760123Z",
     "iopub.status.idle": "2025-03-24T10:02:25.767159Z",
     "shell.execute_reply": "2025-03-24T10:02:25.766576Z"
    },
    "tags": []
   },
   "outputs": [
    {
     "name": "stdout",
     "output_type": "stream",
     "text": [
      "+----------------------------------------------------------------------------------------------------------------------------------------------------------------+\n",
      "|                                                                     security_suite Sys Log                                                                     |\n",
      "+-------------------------+---------+----------------------------------------------------------------------------------------------------------------------------+\n",
      "| Timestamp               | Level   | Message                                                                                                                    |\n",
      "+-------------------------+---------+----------------------------------------------------------------------------------------------------------------------------+\n",
      "| 2025-03-24 10:02:25,675 | INFO    | Running Application web-browser                                                                                            |\n",
      "| 2025-03-24 10:02:25,675 | INFO    | Installed web-browser                                                                                                      |\n",
      "| 2025-03-24 10:02:25,675 | INFO    | Installed nmap                                                                                                             |\n",
      "| 2025-03-24 10:02:25,675 | INFO    | Starting service user-session-manager                                                                                      |\n",
      "| 2025-03-24 10:02:25,675 | INFO    | Installed user-session-manager                                                                                             |\n",
      "| 2025-03-24 10:02:25,675 | INFO    | Starting service user-manager                                                                                              |\n",
      "| 2025-03-24 10:02:25,676 | INFO    | user-manager: Added new admin: admin                                                                                       |\n",
      "| 2025-03-24 10:02:25,676 | INFO    | Installed user-manager                                                                                                     |\n",
      "| 2025-03-24 10:02:25,676 | INFO    | Starting service terminal                                                                                                  |\n",
      "| 2025-03-24 10:02:25,676 | INFO    | Installed terminal                                                                                                         |\n",
      "| 2025-03-24 10:02:25,676 | INFO    | Connected Network Interface Port 1: d0:69:9e:88:12:3a/192.168.1.110                                                        |\n",
      "| 2025-03-24 10:02:25,676 | WARNING | Interface Port 1: d0:69:9e:88:12:3a/192.168.1.110 cannot be enabled as there is no Link connected.                         |\n",
      "| 2025-03-24 10:02:25,676 | WARNING | Cannot send ARP request as there is no outbound Network Interface to use. Try configuring the default gateway.             |\n",
      "| 2025-03-24 10:02:25,676 | INFO    | Running Application web-browser                                                                                            |\n",
      "| 2025-03-24 10:02:25,676 | INFO    | Running Application nmap                                                                                                   |\n",
      "| 2025-03-24 10:02:25,676 | INFO    | Power on                                                                                                                   |\n",
      "| 2025-03-24 10:02:25,676 | WARNING | Interface Port 1: d0:69:9e:88:12:3a/192.168.1.110 cannot be enabled as there is no Link connected.                         |\n",
      "| 2025-03-24 10:02:25,676 | WARNING | Cannot send ARP request as there is no outbound Network Interface to use. Try configuring the default gateway.             |\n",
      "| 2025-03-24 10:02:25,677 | INFO    | Network Interface Port 1: d0:69:9e:88:12:3a/192.168.1.110 enabled                                                          |\n",
      "| 2025-03-24 10:02:25,677 | INFO    | Sending ARP request from NIC Port 1: d0:69:9e:88:12:3a/192.168.1.110 for ip 192.168.1.1                                    |\n",
      "| 2025-03-24 10:02:25,678 | INFO    | Adding ARP cache entry for 29:65:23:1a:e7:de/192.168.1.1 via NIC Port 1: d0:69:9e:88:12:3a/192.168.1.110                   |\n",
      "| 2025-03-24 10:02:25,678 | INFO    | Received ARP response for 192.168.1.1 from 29:65:23:1a:e7:de via Network Interface Port 1: d0:69:9e:88:12:3a/192.168.1.110 |\n",
      "| 2025-03-24 10:02:25,679 | INFO    | Connected Network Interface Port 2: b7:17:c2:8a:0e:e3/192.168.10.110                                                       |\n",
      "| 2025-03-24 10:02:25,679 | WARNING | Interface Port 2: b7:17:c2:8a:0e:e3/192.168.10.110 cannot be enabled as there is no Link connected.                        |\n",
      "| 2025-03-24 10:02:25,679 | INFO    | Network Interface Port 2: b7:17:c2:8a:0e:e3/192.168.10.110 enabled                                                         |\n",
      "+-------------------------+---------+----------------------------------------------------------------------------------------------------------------------------+\n"
     ]
    }
   ],
   "source": [
    "network.get_node_by_hostname(\"security_suite\").sys_log.show(last_n=25)"
   ]
  },
  {
   "cell_type": "markdown",
   "id": "31",
   "metadata": {},
   "source": [
    "## Basic Network Comms Check\n",
    "\n",
    "We can perform a good old ping to check that Nodes are able to communicate with each other."
   ]
  },
  {
   "cell_type": "code",
   "execution_count": 14,
   "id": "32",
   "metadata": {
    "execution": {
     "iopub.execute_input": "2025-03-24T10:02:25.769702Z",
     "iopub.status.busy": "2025-03-24T10:02:25.769309Z",
     "iopub.status.idle": "2025-03-24T10:02:25.774362Z",
     "shell.execute_reply": "2025-03-24T10:02:25.773756Z"
    },
    "tags": []
   },
   "outputs": [
    {
     "name": "stdout",
     "output_type": "stream",
     "text": [
      "+-----------------------------------------------------------------------------+\n",
      "|                                 IP Addresses                                |\n",
      "+-------------------+------+----------------+---------------+-----------------+\n",
      "| Node              | Port | IP Address     | Subnet Mask   | Default Gateway |\n",
      "+-------------------+------+----------------+---------------+-----------------+\n",
      "| router_1          | 1    | 192.168.1.1    | 255.255.255.0 | None            |\n",
      "| router_1          | 2    | 192.168.10.1   | 255.255.255.0 | None            |\n",
      "| client_1          | 1    | 192.168.10.21  | 255.255.255.0 | 192.168.10.1    |\n",
      "| client_2          | 1    | 192.168.10.22  | 255.255.255.0 | 192.168.10.1    |\n",
      "| domain_controller | 1    | 192.168.1.10   | 255.255.255.0 | 192.168.1.1     |\n",
      "| database_server   | 1    | 192.168.1.14   | 255.255.255.0 | 192.168.1.1     |\n",
      "| web_server        | 1    | 192.168.1.11   | 255.255.255.0 | 192.168.1.1     |\n",
      "| backup_server     | 1    | 192.168.1.16   | 255.255.255.0 | 192.168.1.1     |\n",
      "| security_suite    | 1    | 192.168.1.110  | 255.255.255.0 | 192.168.1.1     |\n",
      "| security_suite    | 2    | 192.168.10.110 | 255.255.255.0 | 192.168.1.1     |\n",
      "+-------------------+------+----------------+---------------+-----------------+\n"
     ]
    }
   ],
   "source": [
    "network.show(nodes=False, links=False)"
   ]
  },
  {
   "cell_type": "markdown",
   "id": "33",
   "metadata": {},
   "source": [
    "We'll first ping client_1's default gateway."
   ]
  },
  {
   "cell_type": "code",
   "execution_count": 15,
   "id": "34",
   "metadata": {
    "execution": {
     "iopub.execute_input": "2025-03-24T10:02:25.776843Z",
     "iopub.status.busy": "2025-03-24T10:02:25.776447Z",
     "iopub.status.idle": "2025-03-24T10:02:25.786951Z",
     "shell.execute_reply": "2025-03-24T10:02:25.786370Z"
    },
    "tags": []
   },
   "outputs": [
    {
     "data": {
      "text/plain": [
       "True"
      ]
     },
     "execution_count": 15,
     "metadata": {},
     "output_type": "execute_result"
    }
   ],
   "source": [
    "network.get_node_by_hostname(\"client_1\").ping(\"192.168.10.1\")"
   ]
  },
  {
   "cell_type": "code",
   "execution_count": 16,
   "id": "35",
   "metadata": {
    "execution": {
     "iopub.execute_input": "2025-03-24T10:02:25.789410Z",
     "iopub.status.busy": "2025-03-24T10:02:25.789021Z",
     "iopub.status.idle": "2025-03-24T10:02:25.795005Z",
     "shell.execute_reply": "2025-03-24T10:02:25.794417Z"
    },
    "tags": []
   },
   "outputs": [
    {
     "name": "stdout",
     "output_type": "stream",
     "text": [
      "+--------------------------------------------------------------------------------------------------------------------------------------------------------------------------------------------------------+\n",
      "|                                                                                            client_1 Sys Log                                                                                            |\n",
      "+-------------------------+-------+----------------------------------------------------------------------------------------------------------------------------------------------------------------------+\n",
      "| Timestamp               | Level | Message                                                                                                                                                              |\n",
      "+-------------------------+-------+----------------------------------------------------------------------------------------------------------------------------------------------------------------------+\n",
      "| 2025-03-24 10:02:25,634 | INFO  | Network Interface Port 1: c9:80:02:9f:79:dd/192.168.10.21 enabled                                                                                                    |\n",
      "| 2025-03-24 10:02:25,634 | INFO  | Sending ARP request from NIC Port 1: c9:80:02:9f:79:dd/192.168.10.21 for ip 192.168.10.1                                                                             |\n",
      "| 2025-03-24 10:02:25,635 | INFO  | Adding ARP cache entry for 81:d0:be:ff:72:ea/192.168.10.1 via NIC Port 1: c9:80:02:9f:79:dd/192.168.10.21                                                            |\n",
      "| 2025-03-24 10:02:25,636 | INFO  | Received ARP response for 192.168.10.1 from 81:d0:be:ff:72:ea via Network Interface Port 1: c9:80:02:9f:79:dd/192.168.10.21                                          |\n",
      "| 2025-03-24 10:02:25,636 | INFO  | Installed database-client                                                                                                                                            |\n",
      "| 2025-03-24 10:02:25,636 | INFO  | database-client: Configured the database-client with server_ip_address=IPv4Address('192.168.1.14'), server_password=None.                                            |\n",
      "| 2025-03-24 10:02:25,636 | INFO  | Running Application database-client                                                                                                                                  |\n",
      "| 2025-03-24 10:02:25,636 | INFO  | Installed data-manipulation-bot                                                                                                                                      |\n",
      "| 2025-03-24 10:02:25,636 | INFO  | data-manipulation-bot: Configured the data-manipulation-bot with server_ip_address=IPv4Address('192.168.1.14'), payload='DELETE', server_password=None, repeat=True. |\n",
      "| 2025-03-24 10:02:25,777 | INFO  | Pinging 192.168.10.1:                                                                                                                                                |\n",
      "| 2025-03-24 10:02:25,779 | INFO  | Reply from 192.168.10.1: bytes=32, time=<1ms, TTL=62                                                                                                                 |\n",
      "| 2025-03-24 10:02:25,779 | INFO  | Reply from 192.168.10.1: bytes=32, time=<1ms, TTL=62                                                                                                                 |\n",
      "| 2025-03-24 10:02:25,780 | INFO  | Reply from 192.168.10.1: bytes=32, time=<1ms, TTL=62                                                                                                                 |\n",
      "| 2025-03-24 10:02:25,781 | INFO  | Reply from 192.168.10.1: bytes=32, time=<1ms, TTL=62                                                                                                                 |\n",
      "| 2025-03-24 10:02:25,781 | INFO  | Ping statistics for 192.168.10.1: Packets: Sent = 4, Received = 4, Lost = 0 (0.0% loss)                                                                              |\n",
      "+-------------------------+-------+----------------------------------------------------------------------------------------------------------------------------------------------------------------------+\n"
     ]
    }
   ],
   "source": [
    "network.get_node_by_hostname(\"client_1\").sys_log.show(last_n=15)"
   ]
  },
  {
   "cell_type": "markdown",
   "id": "36",
   "metadata": {},
   "source": [
    "Next, we'll ping the interface of the 192.168.1.0/24 Network on the Router (port 1)."
   ]
  },
  {
   "cell_type": "code",
   "execution_count": 17,
   "id": "37",
   "metadata": {
    "execution": {
     "iopub.execute_input": "2025-03-24T10:02:25.797649Z",
     "iopub.status.busy": "2025-03-24T10:02:25.797140Z",
     "iopub.status.idle": "2025-03-24T10:02:25.805470Z",
     "shell.execute_reply": "2025-03-24T10:02:25.804832Z"
    },
    "tags": []
   },
   "outputs": [
    {
     "data": {
      "text/plain": [
       "True"
      ]
     },
     "execution_count": 17,
     "metadata": {},
     "output_type": "execute_result"
    }
   ],
   "source": [
    "network.get_node_by_hostname(\"client_1\").ping(\"192.168.1.1\")"
   ]
  },
  {
   "cell_type": "markdown",
   "id": "38",
   "metadata": {},
   "source": [
    "And finally, we'll ping the web server."
   ]
  },
  {
   "cell_type": "code",
   "execution_count": 18,
   "id": "39",
   "metadata": {
    "execution": {
     "iopub.execute_input": "2025-03-24T10:02:25.807997Z",
     "iopub.status.busy": "2025-03-24T10:02:25.807611Z",
     "iopub.status.idle": "2025-03-24T10:02:25.817635Z",
     "shell.execute_reply": "2025-03-24T10:02:25.817092Z"
    },
    "tags": []
   },
   "outputs": [
    {
     "data": {
      "text/plain": [
       "False"
      ]
     },
     "execution_count": 18,
     "metadata": {},
     "output_type": "execute_result"
    }
   ],
   "source": [
    "network.get_node_by_hostname(\"client_1\").ping(\"192.168.1.12\")"
   ]
  },
  {
   "cell_type": "markdown",
   "id": "40",
   "metadata": {},
   "source": [
    "To confirm that the ping was received and processed by the web_server, we can view the sys log"
   ]
  },
  {
   "cell_type": "code",
   "execution_count": 19,
   "id": "41",
   "metadata": {
    "execution": {
     "iopub.execute_input": "2025-03-24T10:02:25.819951Z",
     "iopub.status.busy": "2025-03-24T10:02:25.819720Z",
     "iopub.status.idle": "2025-03-24T10:02:25.825507Z",
     "shell.execute_reply": "2025-03-24T10:02:25.824831Z"
    },
    "tags": []
   },
   "outputs": [
    {
     "name": "stdout",
     "output_type": "stream",
     "text": [
      "+-----------------------------------------------------------------------------------------------------------------------------------------------------------------------------------------------------------------------------------------------------------------------------------------------------------------------------------------------------------------------------------------------------------------------------------------------------------------------------------------------------------------------------+\n",
      "|                                                                                                                                                                                                                                                      web_server Sys Log                                                                                                                                                                                                                                                     |\n",
      "+-------------------------+---------+-----------------------------------------------------------------------------------------------------------------------------------------------------------------------------------------------------------------------------------------------------------------------------------------------------------------------------------------------------------------------------------------------------------------------------------------------------------------------------------------+\n",
      "| Timestamp               | Level   | Message                                                                                                                                                                                                                                                                                                                                                                                                                                                                                 |\n",
      "+-------------------------+---------+-----------------------------------------------------------------------------------------------------------------------------------------------------------------------------------------------------------------------------------------------------------------------------------------------------------------------------------------------------------------------------------------------------------------------------------------------------------------------------------------+\n",
      "| 2025-03-24 10:02:25,662 | INFO    | Sending ARP request from NIC Port 1: dc:7a:05:64:03:b5/192.168.1.11 for ip 192.168.1.14                                                                                                                                                                                                                                                                                                                                                                                                 |\n",
      "| 2025-03-24 10:02:25,663 | INFO    | Adding ARP cache entry for 85:73:f5:59:04:97/192.168.1.14 via NIC Port 1: dc:7a:05:64:03:b5/192.168.1.11                                                                                                                                                                                                                                                                                                                                                                                |\n",
      "| 2025-03-24 10:02:25,663 | INFO    | Received ARP response for 192.168.1.14 from 85:73:f5:59:04:97 via Network Interface Port 1: dc:7a:05:64:03:b5/192.168.1.11                                                                                                                                                                                                                                                                                                                                                              |\n",
      "| 2025-03-24 10:02:25,664 | INFO    | Received ARP response for 192.168.1.14 from 85:73:f5:59:04:97 via Network Interface Port 1: dc:7a:05:64:03:b5/192.168.1.11                                                                                                                                                                                                                                                                                                                                                              |\n",
      "| 2025-03-24 10:02:25,665 | INFO    | database-client: Connection request (8ea142e6-f1ee-465c-ba38-d24f196d204c) to 192.168.1.14 authorised. Using connection id DatabaseClientConnection(connection_id='51e726d2-e0ec-4acf-a38e-82e5c9bee6e8', is_active=True)                                                                                                                                                                                                                                                               |\n",
      "| 2025-03-24 10:02:25,666 | INFO    | Created file /primaite (id: 7376748e-323e-4704-9528-a5cb1ceaa7e4)                                                                                                                                                                                                                                                                                                                                                                                                                       |\n",
      "| 2025-03-24 10:02:25,666 | WARNING | File not found /uuid='7376748e-323e-4704-9528-a5cb1ceaa7e4' name='primaite' health_status=<FileSystemItemHealthStatus.GOOD: 1> visible_health_status=<FileSystemItemHealthStatus.NONE: 0> previous_hash=None revealed_to_red=False sys_log=<primaite.simulator.system.core.sys_log.SysLog object at 0x7f54d5b07df0> deleted=False files={} deleted_files={} scan_duration=3 scan_countdown=0 red_scan_duration=3 red_scan_countdown=0 restore_duration=3 restore_countdown=0/index.html |\n",
      "| 2025-03-24 10:02:25,666 | INFO    | Created file /primaite/index.html (id: 0e7d00ed-066c-4f9f-90ef-1e8bee379897)                                                                                                                                                                                                                                                                                                                                                                                                            |\n",
      "| 2025-03-24 10:02:25,666 | INFO    | Starting service web-server                                                                                                                                                                                                                                                                                                                                                                                                                                                             |\n",
      "| 2025-03-24 10:02:25,666 | INFO    | Installed web-server                                                                                                                                                                                                                                                                                                                                                                                                                                                                    |\n",
      "+-------------------------+---------+-----------------------------------------------------------------------------------------------------------------------------------------------------------------------------------------------------------------------------------------------------------------------------------------------------------------------------------------------------------------------------------------------------------------------------------------------------------------------------------------+\n"
     ]
    }
   ],
   "source": [
    "network.get_node_by_hostname(\"web_server\").sys_log.show()"
   ]
  },
  {
   "cell_type": "markdown",
   "id": "42",
   "metadata": {},
   "source": [
    "## Advanced Network Usage\n",
    "\n",
    "We can now use the Network to perform some more advanced things."
   ]
  },
  {
   "cell_type": "markdown",
   "id": "43",
   "metadata": {},
   "source": [
    "Let's attempt to prevent client_2 from being able to ping the web server. First, we'll confirm that it can ping the server..."
   ]
  },
  {
   "cell_type": "code",
   "execution_count": 20,
   "id": "44",
   "metadata": {
    "execution": {
     "iopub.execute_input": "2025-03-24T10:02:25.828249Z",
     "iopub.status.busy": "2025-03-24T10:02:25.827869Z",
     "iopub.status.idle": "2025-03-24T10:02:25.838339Z",
     "shell.execute_reply": "2025-03-24T10:02:25.837666Z"
    },
    "tags": []
   },
   "outputs": [
    {
     "data": {
      "text/plain": [
       "False"
      ]
     },
     "execution_count": 20,
     "metadata": {},
     "output_type": "execute_result"
    }
   ],
   "source": [
    "network.get_node_by_hostname(\"client_2\").ping(\"192.168.1.12\")"
   ]
  },
  {
   "cell_type": "markdown",
   "id": "45",
   "metadata": {},
   "source": [
    "If we look at the client_2 sys log we can see that the four ICMP echo requests were sent and four ICMP each replies were received."
   ]
  },
  {
   "cell_type": "code",
   "execution_count": 21,
   "id": "46",
   "metadata": {
    "execution": {
     "iopub.execute_input": "2025-03-24T10:02:25.840787Z",
     "iopub.status.busy": "2025-03-24T10:02:25.840581Z",
     "iopub.status.idle": "2025-03-24T10:02:25.845624Z",
     "shell.execute_reply": "2025-03-24T10:02:25.845119Z"
    },
    "tags": []
   },
   "outputs": [
    {
     "name": "stdout",
     "output_type": "stream",
     "text": [
      "+-----------------------------------------------------------------------------------------------------------------------------------------------------------------+\n",
      "|                                                                         client_2 Sys Log                                                                        |\n",
      "+-------------------------+---------+-----------------------------------------------------------------------------------------------------------------------------+\n",
      "| Timestamp               | Level   | Message                                                                                                                     |\n",
      "+-------------------------+---------+-----------------------------------------------------------------------------------------------------------------------------+\n",
      "| 2025-03-24 10:02:25,640 | WARNING | Cannot send ARP request as there is no outbound Network Interface to use. Try configuring the default gateway.              |\n",
      "| 2025-03-24 10:02:25,641 | INFO    | Installed database-client                                                                                                   |\n",
      "| 2025-03-24 10:02:25,641 | INFO    | database-client: Configured the database-client with server_ip_address=IPv4Address('192.168.1.14'), server_password=None.   |\n",
      "| 2025-03-24 10:02:25,641 | INFO    | Running Application database-client                                                                                         |\n",
      "| 2025-03-24 10:02:25,641 | INFO    | Network Interface Port 1: a3:1e:2f:ff:f1:c2/192.168.10.22 enabled                                                           |\n",
      "| 2025-03-24 10:02:25,641 | INFO    | Sending ARP request from NIC Port 1: a3:1e:2f:ff:f1:c2/192.168.10.22 for ip 192.168.10.1                                    |\n",
      "| 2025-03-24 10:02:25,642 | INFO    | Adding ARP cache entry for 81:d0:be:ff:72:ea/192.168.10.1 via NIC Port 1: a3:1e:2f:ff:f1:c2/192.168.10.22                   |\n",
      "| 2025-03-24 10:02:25,642 | INFO    | Received ARP response for 192.168.10.1 from 81:d0:be:ff:72:ea via Network Interface Port 1: a3:1e:2f:ff:f1:c2/192.168.10.22 |\n",
      "| 2025-03-24 10:02:25,829 | INFO    | Pinging 192.168.1.12:                                                                                                       |\n",
      "| 2025-03-24 10:02:25,835 | INFO    | Ping statistics for 192.168.1.12: Packets: Sent = 4, Received = 0, Lost = 4 (100.0% loss)                                   |\n",
      "+-------------------------+---------+-----------------------------------------------------------------------------------------------------------------------------+\n"
     ]
    }
   ],
   "source": [
    "network.get_node_by_hostname(\"client_2\").sys_log.show()"
   ]
  },
  {
   "cell_type": "markdown",
   "id": "47",
   "metadata": {},
   "source": [
    "Now we'll add an ACL to block ICMP from 192.168.10.22."
   ]
  },
  {
   "cell_type": "code",
   "execution_count": 22,
   "id": "48",
   "metadata": {
    "execution": {
     "iopub.execute_input": "2025-03-24T10:02:25.848055Z",
     "iopub.status.busy": "2025-03-24T10:02:25.847711Z",
     "iopub.status.idle": "2025-03-24T10:02:25.852716Z",
     "shell.execute_reply": "2025-03-24T10:02:25.852206Z"
    },
    "tags": []
   },
   "outputs": [
    {
     "data": {
      "text/plain": [
       "True"
      ]
     },
     "execution_count": 22,
     "metadata": {},
     "output_type": "execute_result"
    }
   ],
   "source": [
    "from primaite.simulator.network.hardware.nodes.network.router import  ACLAction\n",
    "from primaite.utils.validation.ip_protocol import PROTOCOL_LOOKUP\n",
    "\n",
    "network.get_node_by_hostname(\"router_1\").acl.add_rule(\n",
    "    action=ACLAction.DENY,\n",
    "    protocol=PROTOCOL_LOOKUP[\"ICMP\"],\n",
    "    src_ip_address=\"192.168.10.22\",\n",
    "    position=1\n",
    ")"
   ]
  },
  {
   "cell_type": "code",
   "execution_count": 23,
   "id": "49",
   "metadata": {
    "execution": {
     "iopub.execute_input": "2025-03-24T10:02:25.855193Z",
     "iopub.status.busy": "2025-03-24T10:02:25.854718Z",
     "iopub.status.idle": "2025-03-24T10:02:25.859354Z",
     "shell.execute_reply": "2025-03-24T10:02:25.858685Z"
    },
    "tags": []
   },
   "outputs": [
    {
     "name": "stdout",
     "output_type": "stream",
     "text": [
      "+------------------------------------------------------------------------------------------------------------------+\n",
      "|                                           router_1 Access Control List                                           |\n",
      "+-------+--------+----------+---------------+--------------+----------+--------+--------------+----------+---------+\n",
      "| Index | Action | Protocol | Src IP        | Src Wildcard | Src Port | Dst IP | Dst Wildcard | Dst Port | Matched |\n",
      "+-------+--------+----------+---------------+--------------+----------+--------+--------------+----------+---------+\n",
      "| 0     | PERMIT | ANY      | ANY           | ANY          | 5432     | ANY    | ANY          | 5432     | 0       |\n",
      "| 1     | DENY   | icmp     | 192.168.10.22 | ANY          | ANY      | ANY    | ANY          | ANY      | 0       |\n",
      "| 2     | PERMIT | ANY      | ANY           | ANY          | 21       | ANY    | ANY          | 21       | 0       |\n",
      "| 3     | PERMIT | ANY      | ANY           | ANY          | 80       | ANY    | ANY          | 80       | 0       |\n",
      "| 22    | PERMIT | ANY      | ANY           | ANY          | 219      | ANY    | ANY          | 219      | 0       |\n",
      "| 23    | PERMIT | icmp     | ANY           | ANY          | ANY      | ANY    | ANY          | ANY      | 16      |\n",
      "| 24    | DENY   | ANY      | ANY           | ANY          | ANY      | ANY    | ANY          | ANY      | 0       |\n",
      "+-------+--------+----------+---------------+--------------+----------+--------+--------------+----------+---------+\n"
     ]
    }
   ],
   "source": [
    "network.get_node_by_hostname(\"router_1\").acl.show()"
   ]
  },
  {
   "cell_type": "markdown",
   "id": "50",
   "metadata": {},
   "source": [
    "Now we attempt (and fail) to ping the web server."
   ]
  },
  {
   "cell_type": "code",
   "execution_count": 24,
   "id": "51",
   "metadata": {
    "execution": {
     "iopub.execute_input": "2025-03-24T10:02:25.861841Z",
     "iopub.status.busy": "2025-03-24T10:02:25.861454Z",
     "iopub.status.idle": "2025-03-24T10:02:25.867723Z",
     "shell.execute_reply": "2025-03-24T10:02:25.867180Z"
    },
    "tags": []
   },
   "outputs": [
    {
     "data": {
      "text/plain": [
       "False"
      ]
     },
     "execution_count": 24,
     "metadata": {},
     "output_type": "execute_result"
    }
   ],
   "source": [
    "network.get_node_by_hostname(\"client_2\").ping(\"192.168.1.12\")"
   ]
  },
  {
   "cell_type": "markdown",
   "id": "52",
   "metadata": {},
   "source": [
    "We can check that the ping was actually sent by client_2 by viewing the sys log."
   ]
  },
  {
   "cell_type": "code",
   "execution_count": 25,
   "id": "53",
   "metadata": {
    "execution": {
     "iopub.execute_input": "2025-03-24T10:02:25.870033Z",
     "iopub.status.busy": "2025-03-24T10:02:25.869819Z",
     "iopub.status.idle": "2025-03-24T10:02:25.874912Z",
     "shell.execute_reply": "2025-03-24T10:02:25.874285Z"
    },
    "tags": []
   },
   "outputs": [
    {
     "name": "stdout",
     "output_type": "stream",
     "text": [
      "+---------------------------------------------------------------------------------------------------------------------------------------------------------------+\n",
      "|                                                                        client_2 Sys Log                                                                       |\n",
      "+-------------------------+-------+-----------------------------------------------------------------------------------------------------------------------------+\n",
      "| Timestamp               | Level | Message                                                                                                                     |\n",
      "+-------------------------+-------+-----------------------------------------------------------------------------------------------------------------------------+\n",
      "| 2025-03-24 10:02:25,641 | INFO  | database-client: Configured the database-client with server_ip_address=IPv4Address('192.168.1.14'), server_password=None.   |\n",
      "| 2025-03-24 10:02:25,641 | INFO  | Running Application database-client                                                                                         |\n",
      "| 2025-03-24 10:02:25,641 | INFO  | Network Interface Port 1: a3:1e:2f:ff:f1:c2/192.168.10.22 enabled                                                           |\n",
      "| 2025-03-24 10:02:25,641 | INFO  | Sending ARP request from NIC Port 1: a3:1e:2f:ff:f1:c2/192.168.10.22 for ip 192.168.10.1                                    |\n",
      "| 2025-03-24 10:02:25,642 | INFO  | Adding ARP cache entry for 81:d0:be:ff:72:ea/192.168.10.1 via NIC Port 1: a3:1e:2f:ff:f1:c2/192.168.10.22                   |\n",
      "| 2025-03-24 10:02:25,642 | INFO  | Received ARP response for 192.168.10.1 from 81:d0:be:ff:72:ea via Network Interface Port 1: a3:1e:2f:ff:f1:c2/192.168.10.22 |\n",
      "| 2025-03-24 10:02:25,829 | INFO  | Pinging 192.168.1.12:                                                                                                       |\n",
      "| 2025-03-24 10:02:25,835 | INFO  | Ping statistics for 192.168.1.12: Packets: Sent = 4, Received = 0, Lost = 4 (100.0% loss)                                   |\n",
      "| 2025-03-24 10:02:25,862 | INFO  | Pinging 192.168.1.12:                                                                                                       |\n",
      "| 2025-03-24 10:02:25,864 | INFO  | Ping statistics for 192.168.1.12: Packets: Sent = 4, Received = 0, Lost = 4 (100.0% loss)                                   |\n",
      "+-------------------------+-------+-----------------------------------------------------------------------------------------------------------------------------+\n"
     ]
    }
   ],
   "source": [
    "network.get_node_by_hostname(\"client_2\").sys_log.show()"
   ]
  },
  {
   "cell_type": "markdown",
   "id": "54",
   "metadata": {},
   "source": [
    "We can check the router sys log to see why the traffic was blocked."
   ]
  },
  {
   "cell_type": "code",
   "execution_count": 26,
   "id": "55",
   "metadata": {
    "execution": {
     "iopub.execute_input": "2025-03-24T10:02:25.877500Z",
     "iopub.status.busy": "2025-03-24T10:02:25.877079Z",
     "iopub.status.idle": "2025-03-24T10:02:25.882648Z",
     "shell.execute_reply": "2025-03-24T10:02:25.882094Z"
    },
    "tags": []
   },
   "outputs": [
    {
     "name": "stdout",
     "output_type": "stream",
     "text": [
      "+-----------------------------------------------------------------------------------------------------------------------------------------------------------------------------------------------------------------------------------------+\n",
      "|                                                                                                             router_1 Sys Log                                                                                                            |\n",
      "+-------------------------+-------+-------------------------------------------------------------------------------------------------------------------------------------------------------------------------------------------------------+\n",
      "| Timestamp               | Level | Message                                                                                                                                                                                               |\n",
      "+-------------------------+-------+-------------------------------------------------------------------------------------------------------------------------------------------------------------------------------------------------------+\n",
      "| 2025-03-24 10:02:25,832 | INFO  | Frame dropped as ARP cannot be resolved for 192.168.1.12                                                                                                                                              |\n",
      "| 2025-03-24 10:02:25,832 | INFO  | Sending ARP request from NIC Port 1: 29:65:23:1a:e7:de/192.168.1.1 for ip 192.168.1.12                                                                                                                |\n",
      "| 2025-03-24 10:02:25,833 | INFO  | Frame dropped as ARP cannot be resolved for 192.168.1.12                                                                                                                                              |\n",
      "| 2025-03-24 10:02:25,834 | INFO  | Sending ARP request from NIC Port 1: 29:65:23:1a:e7:de/192.168.1.1 for ip 192.168.1.12                                                                                                                |\n",
      "| 2025-03-24 10:02:25,835 | INFO  | Frame dropped as ARP cannot be resolved for 192.168.1.12                                                                                                                                              |\n",
      "| 2025-03-24 10:02:25,849 | INFO  | Overwriting ACL rule at position 1                                                                                                                                                                    |\n",
      "| 2025-03-24 10:02:25,863 | INFO  | Frame blocked at port 2 by rule action=DENY, protocol=icmp, src_ip_address=192.168.10.22, src_wildcard_mask=ANY, dst_ip_address=ANY, dst_wildcard_mask=ANY, src_port=ANY, dst_port=ANY, match_count=1 |\n",
      "| 2025-03-24 10:02:25,863 | INFO  | Frame blocked at port 2 by rule action=DENY, protocol=icmp, src_ip_address=192.168.10.22, src_wildcard_mask=ANY, dst_ip_address=ANY, dst_wildcard_mask=ANY, src_port=ANY, dst_port=ANY, match_count=2 |\n",
      "| 2025-03-24 10:02:25,864 | INFO  | Frame blocked at port 2 by rule action=DENY, protocol=icmp, src_ip_address=192.168.10.22, src_wildcard_mask=ANY, dst_ip_address=ANY, dst_wildcard_mask=ANY, src_port=ANY, dst_port=ANY, match_count=3 |\n",
      "| 2025-03-24 10:02:25,864 | INFO  | Frame blocked at port 2 by rule action=DENY, protocol=icmp, src_ip_address=192.168.10.22, src_wildcard_mask=ANY, dst_ip_address=ANY, dst_wildcard_mask=ANY, src_port=ANY, dst_port=ANY, match_count=4 |\n",
      "+-------------------------+-------+-------------------------------------------------------------------------------------------------------------------------------------------------------------------------------------------------------+\n"
     ]
    }
   ],
   "source": [
    "network.get_node_by_hostname(\"router_1\").sys_log.show()"
   ]
  },
  {
   "cell_type": "markdown",
   "id": "56",
   "metadata": {},
   "source": [
    "Now a final check to ensure that client_1 can still ping the web_server."
   ]
  },
  {
   "cell_type": "code",
   "execution_count": 27,
   "id": "57",
   "metadata": {
    "execution": {
     "iopub.execute_input": "2025-03-24T10:02:25.884962Z",
     "iopub.status.busy": "2025-03-24T10:02:25.884736Z",
     "iopub.status.idle": "2025-03-24T10:02:25.894515Z",
     "shell.execute_reply": "2025-03-24T10:02:25.893977Z"
    },
    "tags": []
   },
   "outputs": [
    {
     "data": {
      "text/plain": [
       "False"
      ]
     },
     "execution_count": 27,
     "metadata": {},
     "output_type": "execute_result"
    }
   ],
   "source": [
    "network.get_node_by_hostname(\"client_1\").ping(\"192.168.1.12\")"
   ]
  },
  {
   "cell_type": "code",
   "execution_count": 28,
   "id": "58",
   "metadata": {
    "execution": {
     "iopub.execute_input": "2025-03-24T10:02:25.896996Z",
     "iopub.status.busy": "2025-03-24T10:02:25.896599Z",
     "iopub.status.idle": "2025-03-24T10:02:25.901555Z",
     "shell.execute_reply": "2025-03-24T10:02:25.900924Z"
    },
    "tags": []
   },
   "outputs": [
    {
     "name": "stdout",
     "output_type": "stream",
     "text": [
      "+-----------------------------------------------------------------------------------------------------------------------------+\n",
      "|                                                       client_1 Sys Log                                                      |\n",
      "+-------------------------+-------+-------------------------------------------------------------------------------------------+\n",
      "| Timestamp               | Level | Message                                                                                   |\n",
      "+-------------------------+-------+-------------------------------------------------------------------------------------------+\n",
      "| 2025-03-24 10:02:25,798 | INFO  | Pinging 192.168.1.1:                                                                      |\n",
      "| 2025-03-24 10:02:25,799 | INFO  | Reply from 192.168.10.1: bytes=32, time=<1ms, TTL=62                                      |\n",
      "| 2025-03-24 10:02:25,800 | INFO  | Reply from 192.168.10.1: bytes=32, time=<1ms, TTL=62                                      |\n",
      "| 2025-03-24 10:02:25,801 | INFO  | Reply from 192.168.10.1: bytes=32, time=<1ms, TTL=62                                      |\n",
      "| 2025-03-24 10:02:25,802 | INFO  | Reply from 192.168.10.1: bytes=32, time=<1ms, TTL=62                                      |\n",
      "| 2025-03-24 10:02:25,802 | INFO  | Ping statistics for 192.168.1.1: Packets: Sent = 4, Received = 4, Lost = 0 (0.0% loss)    |\n",
      "| 2025-03-24 10:02:25,808 | INFO  | Pinging 192.168.1.12:                                                                     |\n",
      "| 2025-03-24 10:02:25,814 | INFO  | Ping statistics for 192.168.1.12: Packets: Sent = 4, Received = 0, Lost = 4 (100.0% loss) |\n",
      "| 2025-03-24 10:02:25,885 | INFO  | Pinging 192.168.1.12:                                                                     |\n",
      "| 2025-03-24 10:02:25,891 | INFO  | Ping statistics for 192.168.1.12: Packets: Sent = 4, Received = 0, Lost = 4 (100.0% loss) |\n",
      "+-------------------------+-------+-------------------------------------------------------------------------------------------+\n"
     ]
    }
   ],
   "source": [
    "network.get_node_by_hostname(\"client_1\").sys_log.show()"
   ]
  }
 ],
 "metadata": {
  "kernelspec": {
   "display_name": "Python 3 (ipykernel)",
   "language": "python",
   "name": "python3"
  },
  "language_info": {
   "codemirror_mode": {
    "name": "ipython",
    "version": 3
   },
   "file_extension": ".py",
   "mimetype": "text/x-python",
   "name": "python",
   "nbconvert_exporter": "python",
   "pygments_lexer": "ipython3",
   "version": "3.10.16"
  }
 },
 "nbformat": 4,
 "nbformat_minor": 5
}
