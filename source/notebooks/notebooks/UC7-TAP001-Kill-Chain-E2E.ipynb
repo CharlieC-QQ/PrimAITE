{
 "cells": [
  {
   "cell_type": "markdown",
   "metadata": {},
   "source": [
    "# TAP001 - Mobile Malware Kill Chain\n",
    "\n",
    "© Crown-owned copyright 2025, Defence Science and Technology Laboratory UK\n",
    "\n",
    "**Threat Actor Profile (TAP):** 001 <br/>\n",
    "**Kill Chain**: Mobile Malware - Ransomware Script Variant\n",
    "\n",
    "This notebook demonstrates the new threat actor profile (TAP) on the UC7 network infrastructure. In this scenario, a `some_tech` employee within the development project network plugs in his personal device. Whilst browsing, they encounter a ransomware virus which moves onto the host machine thus triggering the malware! \n",
    "\n",
    "\n",
    "This malware variant targets the database service's file directly, rather than the disrupting the service, hence why in this scenario the `data-service` is still functional after becoming corrupted.\n",
    "\n",
    "This new red agent intends to introduce more realistic impacts to the observation space, such as files created/removed and applications installing mid-episode whilst still providing the configurability needed for effective blue agent training."
   ]
  },
  {
   "cell_type": "code",
   "execution_count": 1,
   "metadata": {
    "execution": {
     "iopub.execute_input": "2025-03-24T09:54:48.246649Z",
     "iopub.status.busy": "2025-03-24T09:54:48.246172Z",
     "iopub.status.idle": "2025-03-24T09:54:48.668329Z",
     "shell.execute_reply": "2025-03-24T09:54:48.667439Z"
    }
   },
   "outputs": [
    {
     "name": "stdout",
     "output_type": "stream",
     "text": [
      "2025-03-24 09:54:48,510: Performing the PrimAITE first-time setup...\r\n",
      "2025-03-24 09:54:48,510: Building the PrimAITE app directories...\r\n",
      "2025-03-24 09:54:48,510: Building primaite_config.yaml...\r\n",
      "2025-03-24 09:54:48,510: Rebuilding the demo notebooks...\r\n"
     ]
    },
    {
     "name": "stdout",
     "output_type": "stream",
     "text": [
      "2025-03-24 09:54:48,533: Rebuilding the example notebooks...\r\n",
      "2025-03-24 09:54:48,535: PrimAITE setup complete!\r\n"
     ]
    }
   ],
   "source": [
    "!primaite setup"
   ]
  },
  {
   "cell_type": "code",
   "execution_count": 2,
   "metadata": {
    "execution": {
     "iopub.execute_input": "2025-03-24T09:54:48.671692Z",
     "iopub.status.busy": "2025-03-24T09:54:48.671466Z",
     "iopub.status.idle": "2025-03-24T09:54:52.396045Z",
     "shell.execute_reply": "2025-03-24T09:54:52.395299Z"
    }
   },
   "outputs": [],
   "source": [
    "# Importing the necessary PrimAITE libraries\n",
    "from primaite.session.environment import PrimaiteGymEnv\n",
    "import yaml\n",
    "from primaite.game.agent.scripted_agents.TAP001 import TAP001, MobileMalwareKillChain\n",
    "from primaite.config.load import load, _EXAMPLE_CFG\n",
    "from deepdiff.diff import DeepDiff"
   ]
  },
  {
   "cell_type": "code",
   "execution_count": 3,
   "metadata": {
    "execution": {
     "iopub.execute_input": "2025-03-24T09:54:52.399241Z",
     "iopub.status.busy": "2025-03-24T09:54:52.398877Z",
     "iopub.status.idle": "2025-03-24T09:54:52.403229Z",
     "shell.execute_reply": "2025-03-24T09:54:52.402646Z"
    }
   },
   "outputs": [],
   "source": [
    "# Utility functions\n",
    "\n",
    "def display_obs_diffs(old, new, step_counter):\n",
    "    \"\"\"\n",
    "    Use DeepDiff to extract and display differences in old and new instances of\n",
    "    the observation space.\n",
    "\n",
    "    :param old: observation space instance.\n",
    "    :param new: observation space instance.\n",
    "    :param step_counter: current step counter.\n",
    "    \"\"\"\n",
    "    print(\"\\nObservation space differences\")\n",
    "    print(\"-----------------------------\")\n",
    "    diff = DeepDiff(old, new)\n",
    "    print(f\"Step {step_counter}\")\n",
    "    for d,v in diff.get('values_changed', {}).items():\n",
    "        print(f\"{d}: {v['old_value']} -> {v['new_value']}\")\n",
    "\n"
   ]
  },
  {
   "cell_type": "markdown",
   "metadata": {},
   "source": [
    "### **Notebook Sections:**\n",
    "1. Notebook Intro\n",
    "2. Notebook Setup\n",
    "3. Initial States\n",
    "4. Attack Trigger\n",
    "5. Post Attack States\n",
    "6. Configurations"
   ]
  },
  {
   "cell_type": "markdown",
   "metadata": {},
   "source": [
    "### **Notebook Intro** | **TAP001 - Mobile Malware Kill Chain** \n",
    "\n",
    "The TAP001 kill chain is comprised of 6 different stages. <br> The table below describes the impact of the current TAP001 implementation as well as the attack stage order.\n",
    "\n",
    "_DOWNLOAD_\n",
    "\n",
    "|Index|Attack Stage|OBS Impact|Narrative|\n",
    "|-----|------------|----------|---------|\n",
    "|1|Download|**Starting Host** HOST:num_file_creations: HOST:FOLDER:FILES:* |The employee encounters a malicious payload through web browsing on his mobile phone, often disguised as legitimate content.|\n",
    "\n",
    "_INSTALL_\n",
    "\n",
    "|Index|Attack Stage|OBS Impact|Narrative|\n",
    "|-----|------------|----------|---------|\n",
    "|2|Install | **Starting Host** HOST:FOLDER:FILES:num_access:|The malware is activated, either by the employee opening the file or automatically upon download, initiating its malicious functions.|\n",
    "\n",
    "_ACTIVATE_\n",
    "\n",
    "|Index|Attack Stage|OBS Impact|Narrative|\n",
    "|-----|------------|----------|---------|\n",
    "|3|Activate | **Starting Host** HOST:APPLICATION:operating_status|The malware installs itself on the terminal, often seeking to gain persistence by embedding itself into system processes or startup routines.|\n",
    "\n",
    "_PROPAGATE_\n",
    "\n",
    "|Index|Attack Stage|OBS Impact|Narrative|\n",
    "|-----|------------|----------|---------|\n",
    "|4|Propagate| **Multiple Hosts** HOST:NICS:NIC:TRAFFIC:PROTOCOL:PORT:*|The malware attempts to spread to other systems or networks, looking for vulnerable services.|\n",
    "\n",
    "_COMMAND_AND_CONTROL_\n",
    "\n",
    "|Index|Attack Stage|OBS Impact|Narrative|\n",
    "|-----|------------|----------|---------|\n",
    "|5|Command and Control|**Starting Host** HOST:NICS:NIC:TRAFFIC:PROTOCOL:PORT:* HOST:APPLICATIONS:APPLICATION:*|The malware establishes a connection to an external command and control (C&C) server, receiving instructions and possibly exfiltrating data.|\n",
    "\n",
    "_PAYLOAD_\n",
    "\n",
    "|Index|Attack Stage|OBS Impact|Narrative|\n",
    "|-----|------------|----------|---------|\n",
    "|6A|Corruption| **Target Host** HOST:FOLDERS:FOLDER:FILES:FILE:num_access HOST:num_file_creations  HOST:num_file_deletions  HOST:FOLDERS:FOLDER:FILES:FILE:health_status | The attacker configures the ransomware script to target the IP address of the discovered database, then it performs its intended malicious activities, allowing it to corrupt the Database whilst leaving the database service operable|\n",
    "|6B|Exfiltration| **Starting Host** HOST:FOLDER:FILES:FILE HOST:NICS:NIC:TRAFFIC:PROTOCOL:PORT:* HOST:APPLICATIONS:APPLICATION:* | The attacker remotely logins into the target host and exfiltrates the database.db file onto the starting host which then relays this file back to the C2 Server.|\n",
    "\n"
   ]
  },
  {
   "cell_type": "markdown",
   "metadata": {},
   "source": [
    "## **Notebook Setup** | **Network Configuration:**\n",
    "\n",
    "This notebook uses the same network setup as UC7. Please refer to the main [UC7-E2E-Demo notebook for further reference](./UC7-E2E-Demo.ipynb)."
   ]
  },
  {
   "cell_type": "markdown",
   "metadata": {},
   "source": [
    "<p align=\"center\">\n",
    "    <a href=\"./_package_data/uc7/uc7_tap001/uc7_tap001_main.png\" target=\"_blank\">\n",
    "        <img src=\"./_package_data/uc7/uc7_tap001/uc7_tap001_main.png\" alt=\"Image\" style=\"width:1000px;\">\n",
    "    </a>  \n",
    "    \n",
    "</p>\n",
    "<p style=\"text-align: center;\"> TAP001 Mobile Malware Kill Chain Demonstration - Ransomware Variant</p>\n",
    "\n",
    "_(Click to enlarge)_"
   ]
  },
  {
   "cell_type": "code",
   "execution_count": 4,
   "metadata": {
    "execution": {
     "iopub.execute_input": "2025-03-24T09:54:52.406922Z",
     "iopub.status.busy": "2025-03-24T09:54:52.406394Z",
     "iopub.status.idle": "2025-03-24T09:54:52.931918Z",
     "shell.execute_reply": "2025-03-24T09:54:52.931225Z"
    }
   },
   "outputs": [
    {
     "name": "stderr",
     "output_type": "stream",
     "text": [
      "2025-03-24 09:54:52,911: PrimaiteGymEnv RNG seed = None\n"
     ]
    },
    {
     "name": "stdout",
     "output_type": "stream",
     "text": [
      "+------------------------------------------------------+\n",
      "|                        Nodes                         |\n",
      "+-------------------------+----------+-----------------+\n",
      "| Node                    | Type     | Operating State |\n",
      "+-------------------------+----------+-----------------+\n",
      "| HOME-PUB-RT-DR          | router   | ON              |\n",
      "| HOME-PUB-SW-AS          | switch   | ON              |\n",
      "| HOME-PUB-PC-1           | computer | ON              |\n",
      "| HOME-PUB-PC-2           | computer | ON              |\n",
      "| HOME-PUB-SRV            | server   | ON              |\n",
      "| ISP-PUB-RT-BR           | router   | ON              |\n",
      "| ISP-PUB-SRV-DNS         | server   | ON              |\n",
      "| REM-PUB-FW              | firewall | ON              |\n",
      "| REM-PUB-RT-DR           | router   | ON              |\n",
      "| REM-PUB-SW-AS           | switch   | ON              |\n",
      "| REM-PUB-PC-1            | computer | ON              |\n",
      "| REM-PUB-PC-2            | computer | ON              |\n",
      "| REM-PUB-SRV             | server   | ON              |\n",
      "| ST_PUB-FW               | firewall | ON              |\n",
      "| ST_DMZ-PUB-SRV-WEB      | server   | ON              |\n",
      "| ST_INTRA-PRV-RT-CR      | router   | ON              |\n",
      "| ST_INTRA-PRV-RT-DR-1    | router   | ON              |\n",
      "| ST_INTRA-PRV-RT-DR-2    | router   | ON              |\n",
      "| ST_HO-PRV-SW-AS         | switch   | ON              |\n",
      "| ST_HO-PRV-PC-1          | computer | ON              |\n",
      "| ST_HO-PRV-PC-2          | computer | ON              |\n",
      "| ST_HO-PRV-PC-3          | computer | ON              |\n",
      "| ST_HR-PRV-SW-AS         | switch   | ON              |\n",
      "| ST_HR-PRV-PC-1          | computer | ON              |\n",
      "| ST_HR-PRV-PC-2          | computer | ON              |\n",
      "| ST_HR-PRV-PC-3          | computer | ON              |\n",
      "| ST_DATA-PRV-SW-AS       | switch   | ON              |\n",
      "| ST_DATA-PRV-SRV-STORAGE | server   | ON              |\n",
      "| ST_DATA-PRV-SRV-DB      | server   | ON              |\n",
      "| ST_PROJ-A-PRV-SW-AS     | switch   | ON              |\n",
      "| ST_PROJ-A-PRV-PC-1      | computer | ON              |\n",
      "| ST_PROJ-A-PRV-PC-2      | computer | ON              |\n",
      "| ST_PROJ-A-PRV-PC-3      | computer | ON              |\n",
      "| ST_PROJ-B-PRV-SW-AS     | switch   | ON              |\n",
      "| ST_PROJ-B-PRV-PC-1      | computer | ON              |\n",
      "| ST_PROJ-B-PRV-PC-2      | computer | ON              |\n",
      "| ST_PROJ-B-PRV-PC-3      | computer | ON              |\n",
      "| ST_PROJ-C-PRV-SW-AS     | switch   | ON              |\n",
      "| ST_PROJ-C-PRV-PC-1      | computer | ON              |\n",
      "| ST_PROJ-C-PRV-PC-2      | computer | ON              |\n",
      "| ST_PROJ-C-PRV-PC-3      | computer | ON              |\n",
      "+-------------------------+----------+-----------------+\n",
      "+----------------------------------------------------------------------------------------+\n",
      "|                                      IP Addresses                                      |\n",
      "+-------------------------+----------+---------------+-----------------+-----------------+\n",
      "| Node                    | Port     | IP Address    | Subnet Mask     | Default Gateway |\n",
      "+-------------------------+----------+---------------+-----------------+-----------------+\n",
      "| HOME-PUB-RT-DR          | 1        | 192.168.1.1   | 255.255.255.0   | 10.1.0.1        |\n",
      "| HOME-PUB-RT-DR          | 2        | 10.1.0.2      | 255.255.255.252 | 10.1.0.1        |\n",
      "| HOME-PUB-PC-1           | 1        | 192.168.1.2   | 255.255.255.0   | 192.168.1.1     |\n",
      "| HOME-PUB-PC-2           | 1        | 192.168.1.3   | 255.255.255.0   | 192.168.1.1     |\n",
      "| HOME-PUB-SRV            | 1        | 192.168.1.4   | 255.255.255.0   | 192.168.1.1     |\n",
      "| ISP-PUB-RT-BR           | 1        | 10.1.0.1      | 255.255.255.252 | None            |\n",
      "| ISP-PUB-RT-BR           | 2        | 8.8.8.1       | 255.255.255.240 | None            |\n",
      "| ISP-PUB-RT-BR           | 3        | 10.1.10.1     | 255.255.255.252 | None            |\n",
      "| ISP-PUB-RT-BR           | 4        | 10.1.100.1    | 255.255.255.252 | None            |\n",
      "| ISP-PUB-SRV-DNS         | 1        | 8.8.8.8       | 255.255.255.240 | 8.8.8.1         |\n",
      "| REM-PUB-FW              | external | 10.1.10.2     | 255.255.255.252 | None            |\n",
      "| REM-PUB-FW              | internal | 192.168.10.1  | 255.255.255.252 | None            |\n",
      "| REM-PUB-RT-DR           | 1        | 192.168.10.2  | 255.255.255.252 | 192.168.10.1    |\n",
      "| REM-PUB-RT-DR           | 2        | 192.168.20.1  | 255.255.255.240 | 192.168.10.1    |\n",
      "| REM-PUB-PC-1            | 1        | 192.168.20.2  | 255.255.255.0   | 192.168.20.1    |\n",
      "| REM-PUB-PC-2            | 1        | 192.168.20.3  | 255.255.255.0   | 192.168.20.1    |\n",
      "| REM-PUB-SRV             | 1        | 192.168.20.4  | 255.255.255.0   | 192.168.20.1    |\n",
      "| ST_PUB-FW               | external | 10.1.100.2    | 255.255.255.252 | None            |\n",
      "| ST_PUB-FW               | internal | 192.168.150.1 | 255.255.255.240 | None            |\n",
      "| ST_PUB-FW               | dmz      | 192.168.100.1 | 255.255.255.252 | None            |\n",
      "| ST_DMZ-PUB-SRV-WEB      | 1        | 192.168.100.2 | 255.255.255.252 | 192.168.100.1   |\n",
      "| ST_INTRA-PRV-RT-CR      | 1        | 192.168.150.2 | 255.255.255.240 | None            |\n",
      "| ST_INTRA-PRV-RT-CR      | 2        | 192.168.160.1 | 255.255.255.252 | None            |\n",
      "| ST_INTRA-PRV-RT-CR      | 3        | 192.168.170.1 | 255.255.255.252 | None            |\n",
      "| ST_INTRA-PRV-RT-CR      | 4        | 192.168.220.1 | 255.255.255.248 | None            |\n",
      "| ST_INTRA-PRV-RT-DR-1    | 1        | 192.168.160.2 | 255.255.255.252 | None            |\n",
      "| ST_INTRA-PRV-RT-DR-1    | 2        | 192.168.230.1 | 255.255.255.248 | None            |\n",
      "| ST_INTRA-PRV-RT-DR-1    | 3        | 192.168.240.1 | 255.255.255.248 | None            |\n",
      "| ST_INTRA-PRV-RT-DR-1    | 4        | 192.168.250.1 | 255.255.255.248 | None            |\n",
      "| ST_INTRA-PRV-RT-DR-2    | 1        | 192.168.170.2 | 255.255.255.252 | 192.168.170.1   |\n",
      "| ST_INTRA-PRV-RT-DR-2    | 2        | 192.168.200.1 | 255.255.255.248 | 192.168.170.1   |\n",
      "| ST_INTRA-PRV-RT-DR-2    | 3        | 192.168.210.1 | 255.255.255.248 | 192.168.170.1   |\n",
      "| ST_HO-PRV-PC-1          | 1        | 192.168.200.2 | 255.255.255.0   | 192.168.200.1   |\n",
      "| ST_HO-PRV-PC-2          | 1        | 192.168.200.3 | 255.255.255.0   | 192.168.200.1   |\n",
      "| ST_HO-PRV-PC-3          | 1        | 192.168.200.4 | 255.255.255.0   | 192.168.200.1   |\n",
      "| ST_HR-PRV-PC-1          | 1        | 192.168.210.2 | 255.255.255.0   | 192.168.210.1   |\n",
      "| ST_HR-PRV-PC-2          | 1        | 192.168.210.3 | 255.255.255.0   | 192.168.210.1   |\n",
      "| ST_HR-PRV-PC-3          | 1        | 192.168.210.4 | 255.255.255.0   | 192.168.210.1   |\n",
      "| ST_DATA-PRV-SRV-STORAGE | 1        | 192.168.220.2 | 255.255.255.248 | 192.168.220.1   |\n",
      "| ST_DATA-PRV-SRV-DB      | 1        | 192.168.220.3 | 255.255.255.248 | 192.168.220.1   |\n",
      "| ST_PROJ-A-PRV-PC-1      | 1        | 192.168.230.2 | 255.255.255.0   | 192.168.230.1   |\n",
      "| ST_PROJ-A-PRV-PC-2      | 1        | 192.168.230.3 | 255.255.255.0   | 192.168.230.1   |\n",
      "| ST_PROJ-A-PRV-PC-3      | 1        | 192.168.230.4 | 255.255.255.0   | 192.168.230.1   |\n",
      "| ST_PROJ-B-PRV-PC-1      | 1        | 192.168.240.2 | 255.255.255.0   | 192.168.240.1   |\n",
      "| ST_PROJ-B-PRV-PC-2      | 1        | 192.168.240.3 | 255.255.255.0   | 192.168.240.1   |\n",
      "| ST_PROJ-B-PRV-PC-3      | 1        | 192.168.240.4 | 255.255.255.0   | 192.168.240.1   |\n",
      "| ST_PROJ-C-PRV-PC-1      | 1        | 192.168.250.2 | 255.255.255.0   | 192.168.250.1   |\n",
      "| ST_PROJ-C-PRV-PC-2      | 1        | 192.168.250.3 | 255.255.255.0   | 192.168.250.1   |\n",
      "| ST_PROJ-C-PRV-PC-3      | 1        | 192.168.250.4 | 255.255.255.0   | 192.168.250.1   |\n",
      "+-------------------------+----------+---------------+-----------------+-----------------+\n",
      "+--------------------------------------------------------------------------------------------------------------------------------------------------------------------------------------------+\n",
      "|                                                                                           Links                                                                                            |\n",
      "+----------------------+-----------------------------------------------+-------------------------+------------------------------------------------+-------+-------------------+--------------+\n",
      "| Endpoint A           | A Port                                        | Endpoint B              | B Port                                         | is Up | Bandwidth (MBits) | Current Load |\n",
      "+----------------------+-----------------------------------------------+-------------------------+------------------------------------------------+-------+-------------------+--------------+\n",
      "| ISP-PUB-RT-BR        | Port 1: 88:cd:88:e6:61:5b/10.1.0.1            | HOME-PUB-RT-DR          | Port 2: de:bc:d3:82:d7:1b/10.1.0.2             | True  | 100.0             | 0.00000%     |\n",
      "| HOME-PUB-SW-AS       | Port 1: f9:d9:f0:b1:1e:2a                     | HOME-PUB-RT-DR          | Port 1: 12:a2:fa:9f:10:e0/192.168.1.1          | True  | 100.0             | 0.00035%     |\n",
      "| HOME-PUB-SW-AS       | Port 4: fa:f9:2d:13:3b:e4                     | HOME-PUB-SRV            | Port 1: 63:e5:a5:3a:5f:b8/192.168.1.4          | True  | 100.0             | 0.00012%     |\n",
      "| HOME-PUB-SW-AS       | Port 3: 1a:2a:e4:93:6f:ee                     | HOME-PUB-PC-2           | Port 1: 16:4a:a0:16:d0:9a/192.168.1.3          | True  | 100.0             | 0.00012%     |\n",
      "| HOME-PUB-SW-AS       | Port 2: 1c:de:c4:ad:0e:a8                     | HOME-PUB-PC-1           | Port 1: 81:86:75:13:df:0a/192.168.1.2          | True  | 100.0             | 0.00012%     |\n",
      "| ISP-PUB-RT-BR        | Port 4: 19:35:d1:d4:40:0f/10.1.100.1          | ST_PUB-FW               | Port external: da:c3:4f:68:a1:25/10.1.100.2    | True  | 100.0             | 0.00000%     |\n",
      "| ISP-PUB-RT-BR        | Port 3: b7:2a:24:75:0c:64/10.1.10.1           | REM-PUB-FW              | Port external: 17:44:11:03:6f:93/10.1.10.2     | True  | 100.0             | 0.00000%     |\n",
      "| ISP-PUB-RT-BR        | Port 2: 1f:99:ea:61:73:00/8.8.8.1             | ISP-PUB-SRV-DNS         | Port 1: 2b:b9:d4:80:fd:de/8.8.8.8              | True  | 100.0             | 0.00011%     |\n",
      "| REM-PUB-FW           | Port internal: 24:1a:8a:d9:f6:4f/192.168.10.1 | REM-PUB-RT-DR           | Port 1: 79:31:15:c6:ca:9c/192.168.10.2         | True  | 100.0             | 0.00000%     |\n",
      "| REM-PUB-RT-DR        | Port 2: 52:ea:79:33:a0:3c/192.168.20.1        | REM-PUB-SW-AS           | Port 1: f2:c1:32:68:03:7b                      | True  | 100.0             | 0.00036%     |\n",
      "| REM-PUB-SW-AS        | Port 4: 94:f0:c0:f8:0f:24                     | REM-PUB-SRV             | Port 1: b8:ad:2f:e1:17:e1/192.168.20.4         | True  | 100.0             | 0.00012%     |\n",
      "| REM-PUB-SW-AS        | Port 3: 4b:70:5a:81:47:93                     | REM-PUB-PC-2            | Port 1: d0:1c:20:6d:6b:28/192.168.20.3         | True  | 100.0             | 0.00012%     |\n",
      "| REM-PUB-SW-AS        | Port 2: 64:61:1a:2c:96:ab                     | REM-PUB-PC-1            | Port 1: 88:1f:9b:2a:00:1d/192.168.20.2         | True  | 100.0             | 0.00012%     |\n",
      "| ST_INTRA-PRV-RT-CR   | Port 1: bb:4d:b1:d5:c1:ca/192.168.150.2       | ST_PUB-FW               | Port internal: 98:e1:d1:51:8f:0a/192.168.150.1 | True  | 100.0             | 0.00000%     |\n",
      "| ST_PUB-FW            | Port dmz: 5e:37:31:98:46:5a/192.168.100.1     | ST_DMZ-PUB-SRV-WEB      | Port 1: 40:c4:26:4c:91:be/192.168.100.2        | True  | 100.0             | 0.00012%     |\n",
      "| ST_INTRA-PRV-RT-CR   | Port 4: ab:25:ed:32:8a:13/192.168.220.1       | ST_DATA-PRV-SW-AS       | Port 1: a3:27:d2:22:98:af                      | True  | 100.0             | 0.00024%     |\n",
      "| ST_INTRA-PRV-RT-CR   | Port 3: 30:96:43:20:ad:34/192.168.170.1       | ST_INTRA-PRV-RT-DR-2    | Port 1: 8e:49:0e:d6:9a:39/192.168.170.2        | True  | 100.0             | 0.00000%     |\n",
      "| ST_INTRA-PRV-RT-CR   | Port 2: 2b:7e:32:3e:53:1b/192.168.160.1       | ST_INTRA-PRV-RT-DR-1    | Port 1: 1b:2c:7a:3c:29:fc/192.168.160.2        | True  | 100.0             | 0.00000%     |\n",
      "| ST_INTRA-PRV-RT-DR-1 | Port 4: 23:c0:d5:63:05:67/192.168.250.1       | ST_PROJ-C-PRV-SW-AS     | Port 1: bb:1b:f0:21:55:6b                      | True  | 100.0             | 0.00036%     |\n",
      "| ST_INTRA-PRV-RT-DR-1 | Port 3: d8:51:dd:e7:2b:f2/192.168.240.1       | ST_PROJ-B-PRV-SW-AS     | Port 1: 5f:f1:4c:ae:19:c8                      | True  | 100.0             | 0.00036%     |\n",
      "| ST_INTRA-PRV-RT-DR-1 | Port 2: 2f:2f:80:17:26:f4/192.168.230.1       | ST_PROJ-A-PRV-SW-AS     | Port 1: 7d:58:92:5c:52:e9                      | True  | 100.0             | 0.00036%     |\n",
      "| ST_HR-PRV-SW-AS      | Port 1: 6b:4d:48:91:b4:5f                     | ST_INTRA-PRV-RT-DR-2    | Port 3: 33:bc:e3:ec:80:02/192.168.210.1        | True  | 100.0             | 0.00036%     |\n",
      "| ST_HO-PRV-SW-AS      | Port 1: e0:b0:40:c9:60:fb                     | ST_INTRA-PRV-RT-DR-2    | Port 2: bf:bc:67:5c:f3:4e/192.168.200.1        | True  | 100.0             | 0.00036%     |\n",
      "| ST_HO-PRV-SW-AS      | Port 4: 06:a0:f8:45:5d:f1                     | ST_HO-PRV-PC-3          | Port 1: 23:e7:ae:40:68:de/192.168.200.4        | True  | 100.0             | 0.00012%     |\n",
      "| ST_HO-PRV-SW-AS      | Port 3: 4e:b3:0b:f7:73:dc                     | ST_HO-PRV-PC-2          | Port 1: 1b:f7:26:af:cf:58/192.168.200.3        | True  | 100.0             | 0.00012%     |\n",
      "| ST_HO-PRV-SW-AS      | Port 2: 87:3b:9f:03:69:2b                     | ST_HO-PRV-PC-1          | Port 1: e7:de:eb:25:a3:59/192.168.200.2        | True  | 100.0             | 0.00012%     |\n",
      "| ST_HR-PRV-SW-AS      | Port 4: 31:5d:77:21:9e:50                     | ST_HR-PRV-PC-3          | Port 1: 30:e6:b0:3f:02:3e/192.168.210.4        | True  | 100.0             | 0.00012%     |\n",
      "| ST_HR-PRV-SW-AS      | Port 3: ec:ee:aa:d8:c7:69                     | ST_HR-PRV-PC-2          | Port 1: d8:c7:c1:8b:93:50/192.168.210.3        | True  | 100.0             | 0.00012%     |\n",
      "| ST_HR-PRV-SW-AS      | Port 2: 29:5b:75:91:f0:86                     | ST_HR-PRV-PC-1          | Port 1: 7d:e5:26:21:58:64/192.168.210.2        | True  | 100.0             | 0.00012%     |\n",
      "| ST_DATA-PRV-SW-AS    | Port 3: 04:24:1f:60:1e:c8                     | ST_DATA-PRV-SRV-DB      | Port 1: 5a:a6:4a:3c:7c:05/192.168.220.3        | True  | 100.0             | 0.00012%     |\n",
      "| ST_DATA-PRV-SW-AS    | Port 2: 03:96:5c:80:8f:81                     | ST_DATA-PRV-SRV-STORAGE | Port 1: 1d:af:8e:75:2b:d7/192.168.220.2        | True  | 100.0             | 0.00012%     |\n",
      "| ST_PROJ-A-PRV-SW-AS  | Port 4: c3:d7:e0:66:41:64                     | ST_PROJ-A-PRV-PC-3      | Port 1: 85:67:65:23:b6:5b/192.168.230.4        | True  | 100.0             | 0.00012%     |\n",
      "| ST_PROJ-A-PRV-SW-AS  | Port 3: ee:9b:9b:8a:1a:23                     | ST_PROJ-A-PRV-PC-2      | Port 1: 2c:15:14:95:fa:57/192.168.230.3        | True  | 100.0             | 0.00012%     |\n",
      "| ST_PROJ-A-PRV-SW-AS  | Port 2: fd:d6:ac:f6:08:7c                     | ST_PROJ-A-PRV-PC-1      | Port 1: 0e:11:3f:7b:86:80/192.168.230.2        | True  | 100.0             | 0.00012%     |\n",
      "| ST_PROJ-B-PRV-SW-AS  | Port 4: 7d:9f:3f:75:a3:ef                     | ST_PROJ-B-PRV-PC-3      | Port 1: aa:50:2a:f7:31:95/192.168.240.4        | True  | 100.0             | 0.00012%     |\n",
      "| ST_PROJ-B-PRV-SW-AS  | Port 3: 82:ad:7e:d5:a3:75                     | ST_PROJ-B-PRV-PC-2      | Port 1: 3f:b7:2c:15:18:b9/192.168.240.3        | True  | 100.0             | 0.00012%     |\n",
      "| ST_PROJ-B-PRV-SW-AS  | Port 2: b7:d1:a9:df:7d:2b                     | ST_PROJ-B-PRV-PC-1      | Port 1: ab:90:14:c6:29:ce/192.168.240.2        | True  | 100.0             | 0.00012%     |\n",
      "| ST_PROJ-C-PRV-SW-AS  | Port 4: 66:c2:cd:e2:74:bc                     | ST_PROJ-C-PRV-PC-3      | Port 1: a3:ef:0d:6e:37:ca/192.168.250.4        | True  | 100.0             | 0.00012%     |\n",
      "| ST_PROJ-C-PRV-SW-AS  | Port 3: 15:95:1e:17:19:54                     | ST_PROJ-C-PRV-PC-2      | Port 1: 0f:89:cd:3f:55:a1/192.168.250.3        | True  | 100.0             | 0.00012%     |\n",
      "| ST_PROJ-C-PRV-SW-AS  | Port 2: f6:b2:de:a3:88:60                     | ST_PROJ-C-PRV-PC-1      | Port 1: 98:f1:34:56:46:88/192.168.250.2        | True  | 100.0             | 0.00012%     |\n",
      "+----------------------+-----------------------------------------------+-------------------------+------------------------------------------------+-------+-------------------+--------------+\n"
     ]
    }
   ],
   "source": [
    "with open(_EXAMPLE_CFG/\"uc7_config.yaml\", mode=\"r\") as uc7_config:\n",
    "    cfg = yaml.safe_load(uc7_config)\n",
    "    cfg[\"agents\"][33][\"agent_settings\"][\"flatten_obs\"] = False\n",
    "    cfg['io_settings']['save_sys_logs'] = True # Saving syslogs\n",
    "    cfg['io_settings']['save_agent_actions'] = True # Saving attacker logs\n",
    "env = PrimaiteGymEnv(env_config=cfg)\n",
    "env.game.simulation.network.show()"
   ]
  },
  {
   "cell_type": "markdown",
   "metadata": {},
   "source": [
    "### **Notebook Setup** | Instantiating Relevant Simulation Objects\n",
    "\n",
    "Simulation objects can be instantiated and called independently of agents via the environment.game.simulation (PrimAITE API) which is useful for demonstrating the simulation state at different points within an episode.\n",
    "\n",
    "Any readers unfamiliar with the UC7 scenario should refer to the [main UC7 notebook for further details](./UC7-E2E-Demo.ipynb)"
   ]
  },
  {
   "cell_type": "code",
   "execution_count": 5,
   "metadata": {
    "execution": {
     "iopub.execute_input": "2025-03-24T09:54:52.934965Z",
     "iopub.status.busy": "2025-03-24T09:54:52.934467Z",
     "iopub.status.idle": "2025-03-24T09:54:53.369802Z",
     "shell.execute_reply": "2025-03-24T09:54:53.369074Z"
    }
   },
   "outputs": [
    {
     "name": "stderr",
     "output_type": "stream",
     "text": [
      "2025-03-24 09:54:52,936: Resetting environment, episode 0, avg. reward: 0.0\n"
     ]
    },
    {
     "name": "stderr",
     "output_type": "stream",
     "text": [
      "2025-03-24 09:54:52,937: Saving agent action log to /home/runner/primaite/4.0.0/sessions/2025-03-24/09-54-49/agent_actions/episode_0.json\n"
     ]
    }
   ],
   "source": [
    "env.reset() # resetting the environment\n",
    "# The TAP001 Agent\n",
    "tap001 = env.game.agents.get(\"attacker\")\n",
    "# A potential starting client\n",
    "starting_host = env.game.simulation.network.get_node_by_hostname('ST_PROJ-A-PRV-PC-1')\n",
    "\n",
    "# The database server which acts as the initial target of the ransomware kill-chain\n",
    "database_server = env.game.simulation.network.get_node_by_hostname('ST_DATA-PRV-SRV-DB')"
   ]
  },
  {
   "cell_type": "markdown",
   "metadata": {},
   "source": [
    "## **Prior To Attack** | Initial States:"
   ]
  },
  {
   "cell_type": "markdown",
   "metadata": {},
   "source": [
    "The first section of this notebook displays the relevant initial `observation_space` (OBS) of effected nodes before the attack takes place."
   ]
  },
  {
   "cell_type": "markdown",
   "metadata": {},
   "source": [
    "#### **Initial State** | Starting Client:\n",
    "The starting point of the ransomware infection. This is where the kill chain attack originates from."
   ]
  },
  {
   "cell_type": "code",
   "execution_count": 6,
   "metadata": {
    "execution": {
     "iopub.execute_input": "2025-03-24T09:54:53.373380Z",
     "iopub.status.busy": "2025-03-24T09:54:53.372950Z",
     "iopub.status.idle": "2025-03-24T09:54:53.377829Z",
     "shell.execute_reply": "2025-03-24T09:54:53.377182Z"
    }
   },
   "outputs": [
    {
     "name": "stdout",
     "output_type": "stream",
     "text": [
      "+-----------------------------------------------------------------------------+\n",
      "|                  ST_PROJ-A-PRV-PC-1 Network Interface Cards                 |\n",
      "+------+------+-------------------+------------------+-------+---------+------+\n",
      "| Port | Type | MAC Address       | Address          | Speed | Status  | NMNE |\n",
      "+------+------+-------------------+------------------+-------+---------+------+\n",
      "| 1    | NIC  | 66:e9:ea:23:e9:01 | 192.168.230.2/24 | 100.0 | Enabled | {}   |\n",
      "+------+------+-------------------+------------------+-------+---------+------+\n",
      "+-------------------------------+\n",
      "| ST_PROJ-A-PRV-PC-1 Open Ports |\n",
      "+-------------------------------+\n",
      "| Port                          |\n",
      "+-------------------------------+\n",
      "| 21                            |\n",
      "| 22                            |\n",
      "| 53                            |\n",
      "| 80                            |\n",
      "| 123                           |\n",
      "| 219                           |\n",
      "| 5432                          |\n",
      "+-------------------------------+\n",
      "+-----------------------------------------------------------------+\n",
      "|                  ST_PROJ-A-PRV-PC-1 File System                 |\n",
      "+--------+------+---------------+-----------------------+---------+\n",
      "| Folder | Size | Health status | Visible health status | Deleted |\n",
      "+--------+------+---------------+-----------------------+---------+\n",
      "| root   | 0 B  | GOOD          | NONE                  | False   |\n",
      "+--------+------+---------------+-----------------------+---------+\n"
     ]
    }
   ],
   "source": [
    "starting_host.show()\n",
    "starting_host.file_system.show()"
   ]
  },
  {
   "cell_type": "code",
   "execution_count": 7,
   "metadata": {
    "execution": {
     "iopub.execute_input": "2025-03-24T09:54:53.380358Z",
     "iopub.status.busy": "2025-03-24T09:54:53.379994Z",
     "iopub.status.idle": "2025-03-24T09:54:53.384769Z",
     "shell.execute_reply": "2025-03-24T09:54:53.384139Z"
    }
   },
   "outputs": [
    {
     "name": "stdout",
     "output_type": "stream",
     "text": [
      "+---------------------------------------------------------------------------------------+\n",
      "|                          ST_PROJ-A-PRV-PC-1 Software Manager                          |\n",
      "+----------------------+-------------+-----------------+--------------+------+----------+\n",
      "| Name                 | Type        | Operating State | Health State | Port | Protocol |\n",
      "+----------------------+-------------+-----------------+--------------+------+----------+\n",
      "| arp                  | Service     | RUNNING         | GOOD         | 219  | udp      |\n",
      "| icmp                 | Service     | RUNNING         | GOOD         | None | icmp     |\n",
      "| dns-client           | Service     | RUNNING         | GOOD         | 53   | tcp      |\n",
      "| ntp-client           | Service     | RUNNING         | GOOD         | 123  | udp      |\n",
      "| web-browser          | Application | RUNNING         | GOOD         | 80   | tcp      |\n",
      "| nmap                 | Application | RUNNING         | GOOD         | None | none     |\n",
      "| user-session-manager | Service     | RUNNING         | GOOD         | None | none     |\n",
      "| user-manager         | Service     | RUNNING         | GOOD         | None | none     |\n",
      "| terminal             | Service     | RUNNING         | GOOD         | 22   | tcp      |\n",
      "| ftp-client           | Service     | RUNNING         | GOOD         | 21   | tcp      |\n",
      "| database-client      | Application | RUNNING         | GOOD         | 5432 | tcp      |\n",
      "+----------------------+-------------+-----------------+--------------+------+----------+\n"
     ]
    }
   ],
   "source": [
    "starting_host.software_manager.show()"
   ]
  },
  {
   "cell_type": "markdown",
   "metadata": {},
   "source": [
    "#### **Initial State** | Database Server:\n",
    "\n",
    "TAP001 opts to attack the UC7 database server (`ST_DATA-PRV-SRV-DB`):"
   ]
  },
  {
   "cell_type": "code",
   "execution_count": 8,
   "metadata": {
    "execution": {
     "iopub.execute_input": "2025-03-24T09:54:53.387165Z",
     "iopub.status.busy": "2025-03-24T09:54:53.386962Z",
     "iopub.status.idle": "2025-03-24T09:54:53.392819Z",
     "shell.execute_reply": "2025-03-24T09:54:53.392261Z"
    }
   },
   "outputs": [
    {
     "name": "stdout",
     "output_type": "stream",
     "text": [
      "+---------------------------------------------------------------------------------------+\n",
      "|                          ST_DATA-PRV-SRV-DB Software Manager                          |\n",
      "+----------------------+-------------+-----------------+--------------+------+----------+\n",
      "| Name                 | Type        | Operating State | Health State | Port | Protocol |\n",
      "+----------------------+-------------+-----------------+--------------+------+----------+\n",
      "| arp                  | Service     | RUNNING         | GOOD         | 219  | udp      |\n",
      "| icmp                 | Service     | RUNNING         | GOOD         | None | icmp     |\n",
      "| dns-client           | Service     | RUNNING         | GOOD         | 53   | tcp      |\n",
      "| ntp-client           | Service     | RUNNING         | GOOD         | 123  | udp      |\n",
      "| web-browser          | Application | RUNNING         | GOOD         | 80   | tcp      |\n",
      "| nmap                 | Application | RUNNING         | GOOD         | None | none     |\n",
      "| user-session-manager | Service     | RUNNING         | GOOD         | None | none     |\n",
      "| user-manager         | Service     | RUNNING         | GOOD         | None | none     |\n",
      "| terminal             | Service     | RUNNING         | GOOD         | 22   | tcp      |\n",
      "| ftp-client           | Service     | RUNNING         | GOOD         | 21   | tcp      |\n",
      "| database-service     | Service     | RUNNING         | GOOD         | 5432 | tcp      |\n",
      "+----------------------+-------------+-----------------+--------------+------+----------+\n",
      "+----------------------------------------------------------------------+\n",
      "|                    ST_DATA-PRV-SRV-DB File System                    |\n",
      "+----------+---------+---------------+-----------------------+---------+\n",
      "| Folder   | Size    | Health status | Visible health status | Deleted |\n",
      "+----------+---------+---------------+-----------------------+---------+\n",
      "| database | 4.77 MB | GOOD          | NONE                  | False   |\n",
      "| root     | 0 B     | GOOD          | NONE                  | False   |\n",
      "+----------+---------+---------------+-----------------------+---------+\n",
      "+-----------------------------------------------------------------------------+\n",
      "|                  ST_DATA-PRV-SRV-DB Network Interface Cards                 |\n",
      "+------+------+-------------------+------------------+-------+---------+------+\n",
      "| Port | Type | MAC Address       | Address          | Speed | Status  | NMNE |\n",
      "+------+------+-------------------+------------------+-------+---------+------+\n",
      "| 1    | NIC  | f8:70:7c:48:ca:c6 | 192.168.220.3/29 | 100.0 | Enabled | {}   |\n",
      "+------+------+-------------------+------------------+-------+---------+------+\n",
      "+-------------------------------+\n",
      "| ST_DATA-PRV-SRV-DB Open Ports |\n",
      "+-------------------------------+\n",
      "| Port                          |\n",
      "+-------------------------------+\n",
      "| 21                            |\n",
      "| 22                            |\n",
      "| 53                            |\n",
      "| 80                            |\n",
      "| 123                           |\n",
      "| 219                           |\n",
      "| 5432                          |\n",
      "+-------------------------------+\n"
     ]
    }
   ],
   "source": [
    "database_server.software_manager.show()\n",
    "database_server.file_system.show()\n",
    "database_server.show()"
   ]
  },
  {
   "cell_type": "markdown",
   "metadata": {},
   "source": [
    "## **Kill Chain** | Kill Chain Stage Demonstration"
   ]
  },
  {
   "cell_type": "markdown",
   "metadata": {},
   "source": [
    "### **Kill Chain** | NOT STARTED\n",
    "\n",
    "This stage indicates that the TAP001 hasn't begun it's kill chain. \n",
    "TAP001 will begin the Mobile Malware Kill chain on the next execution step."
   ]
  },
  {
   "cell_type": "code",
   "execution_count": 9,
   "metadata": {
    "execution": {
     "iopub.execute_input": "2025-03-24T09:54:53.395563Z",
     "iopub.status.busy": "2025-03-24T09:54:53.395173Z",
     "iopub.status.idle": "2025-03-24T09:54:53.665138Z",
     "shell.execute_reply": "2025-03-24T09:54:53.664374Z"
    }
   },
   "outputs": [
    {
     "name": "stderr",
     "output_type": "stream",
     "text": [
      "2025-03-24 09:54:53,396: Resetting environment, episode 1, avg. reward: 0.0\n"
     ]
    },
    {
     "name": "stderr",
     "output_type": "stream",
     "text": [
      "2025-03-24 09:54:53,398: Saving agent action log to /home/runner/primaite/4.0.0/sessions/2025-03-24/09-54-49/agent_actions/episode_1.json\n"
     ]
    }
   ],
   "source": [
    "env.reset();\n",
    "tap001 = env.game.agents.get(\"attacker\")\n",
    "# The TAP001's Starting Client:\n",
    "starting_host = env.game.simulation.network.get_node_by_hostname(tap001.starting_node)\n",
    "# The TAP001's Database Server:\n",
    "target_host = env.game.simulation.network.get_node_by_hostname('ST_DATA-PRV-SRV-DB')"
   ]
  },
  {
   "cell_type": "code",
   "execution_count": 10,
   "metadata": {
    "execution": {
     "iopub.execute_input": "2025-03-24T09:54:53.668353Z",
     "iopub.status.busy": "2025-03-24T09:54:53.668107Z",
     "iopub.status.idle": "2025-03-24T09:54:53.854301Z",
     "shell.execute_reply": "2025-03-24T09:54:53.853606Z"
    }
   },
   "outputs": [
    {
     "name": "stdout",
     "output_type": "stream",
     "text": [
      "Current Environment Step: 0\n",
      "Current Kill Chain Stage: NOT_STARTED\n",
      "Next Execution Step: 1\n",
      "Next Kill Chain Stage DOWNLOAD\n"
     ]
    }
   ],
   "source": [
    "print(f\"Current Environment Step: {env.game.step_counter}\")\n",
    "print(f\"Current Kill Chain Stage: {tap001.current_kill_chain_stage.name}\")\n",
    "print(f\"Next Execution Step: {tap001.next_execution_timestep}\")\n",
    "print(f\"Next Kill Chain Stage {tap001.next_kill_chain_stage.name}\")\n",
    "while(tap001.current_kill_chain_stage == MobileMalwareKillChain.NOT_STARTED):\n",
    "    default_obs, _, _, _, _ = env.step(0)"
   ]
  },
  {
   "cell_type": "markdown",
   "metadata": {},
   "source": [
    "### **Kill Chain** | DOWNLOAD\n",
    "\n",
    "|Index|Action Stage|OBS Impact|Narrative|\n",
    "|-----|------------|----------|---------|\n",
    "|1|DOWNLOAD|HOST:FOLDER:FILE:*|The `some_tech` employee encounters a malicious payload through web browsing on his mobile phone, often disguised as legitimate content.|\n",
    "\n",
    "<p align=\"center\">\n",
    "    <a href=\"./_package_data/uc7/uc7_tap001/uc7_tap001_download_install.png\" target=\"_blank\">\n",
    "        <img src=\"./_package_data/uc7/uc7_tap001/uc7_tap001_download_install.png\" alt=\"Image\" style=\"width:700px;\">\n",
    "    </a>  \n",
    "</p>\n",
    "\n",
    "In this stage, TAP001 uses the **node-folder-create** and **node-file-create** to create a file called ```\"malware_dropper.ps1\"``` within a ```\"Downloads\"``` folder. <br>\n",
    "These actions are intended to simulate the malicious payload creating a  ```ps1``` (A windows powershell script) malware dropper on the `SOME_TECH` employee's phone. \n",
    "\n",
    "Currently, PrimAITE cannot simulate hosts joining the simulation mid-episode thus we must treat `ST_PROJ-A-PRV-PC-1`'s as also including the employee's phone. <br>\n",
    "From a narrative perspective, this could be explained as the employee plugging his phone into the `ST_PROJ-A-PRV-PC-1`.\n",
    "\n",
    "Additionally, it's worth noting that in the real world, malware droppers (small scripts or executables which download/install the malware after initially entering a host) use a variety of obfuscation methods to avoid detection. <br> For example, some malware droppers are concealed within legitimate files such as word document macros in order to trick a user into running the dropper.\n",
    "\n",
    "Currently, PrimAITE's simulation does not operate a high enough fidelity to faithfully represent these techniques and their impacts to warrant their inclusion. Thus the file has been named as ```\"malware_dropper\"``` to prevent any potential confusion."
   ]
  },
  {
   "cell_type": "code",
   "execution_count": 11,
   "metadata": {
    "execution": {
     "iopub.execute_input": "2025-03-24T09:54:53.857349Z",
     "iopub.status.busy": "2025-03-24T09:54:53.856834Z",
     "iopub.status.idle": "2025-03-24T09:54:54.336263Z",
     "shell.execute_reply": "2025-03-24T09:54:54.335469Z"
    }
   },
   "outputs": [
    {
     "name": "stdout",
     "output_type": "stream",
     "text": [
      "Current Environment Step: 2\n",
      "Current Kill Chain Stage: DOWNLOAD\n",
      "Next Execution Step: 6\n",
      "Next Kill Chain Stage INSTALL\n"
     ]
    },
    {
     "name": "stdout",
     "output_type": "stream",
     "text": [
      "+----------------------------------------------------------------------------------------+\n",
      "|                             ST_PROJ-A-PRV-PC-1 File System                             |\n",
      "+-------------------------------+------+---------------+-----------------------+---------+\n",
      "| File Path                     | Size | Health status | Visible health status | Deleted |\n",
      "+-------------------------------+------+---------------+-----------------------+---------+\n",
      "| downloads/malware_dropper.ps1 | 0 B  | GOOD          | NONE                  | False   |\n",
      "| root                          | 0 B  | GOOD          | NONE                  | False   |\n",
      "+-------------------------------+------+---------------+-----------------------+---------+\n",
      "+----------------------------------------------------+\n",
      "| ST_PROJ-A-PRV-PC-1 Number of Creations & Deletions |\n",
      "+-------------------------+--------------------------+\n",
      "| File creations          | File deletions           |\n",
      "+-------------------------+--------------------------+\n",
      "| 1                       | 0                        |\n",
      "+-------------------------+--------------------------+\n",
      "\n",
      "Observation space differences\n",
      "-----------------------------\n",
      "Step 12\n",
      "root['NODES']['HOST0']['APPLICATIONS'][2]['num_executions']: 1 -> 0\n",
      "root['NODES']['HOST0']['NICS'][1]['TRAFFIC']['tcp'][5432]['inbound']: 1 -> 0\n",
      "root['NODES']['HOST0']['NICS'][1]['TRAFFIC']['tcp'][5432]['outbound']: 1 -> 0\n",
      "root['NODES']['HOST0']['num_file_creations']: 0 -> 1\n",
      "root['NODES']['HOST1']['APPLICATIONS'][2]['num_executions']: 0 -> 1\n",
      "root['NODES']['HOST1']['NICS'][1]['TRAFFIC']['tcp'][5432]['inbound']: 0 -> 1\n",
      "root['NODES']['HOST1']['NICS'][1]['TRAFFIC']['tcp'][5432]['outbound']: 0 -> 1\n",
      "root['NODES']['HOST2']['APPLICATIONS'][2]['num_executions']: 1 -> 0\n",
      "root['NODES']['HOST2']['NICS'][1]['TRAFFIC']['tcp'][5432]['inbound']: 1 -> 0\n",
      "root['NODES']['HOST2']['NICS'][1]['TRAFFIC']['tcp'][5432]['outbound']: 1 -> 0\n",
      "root['LINKS'][6]['PROTOCOLS']['ALL']: 1 -> 0\n",
      "root['LINKS'][22]['PROTOCOLS']['ALL']: 0 -> 1\n",
      "root['LINKS'][24]['PROTOCOLS']['ALL']: 1 -> 0\n",
      "root['LINKS'][25]['PROTOCOLS']['ALL']: 0 -> 1\n",
      "root['LINKS'][29]['PROTOCOLS']['ALL']: 1 -> 0\n",
      "root['LINKS'][33]['PROTOCOLS']['ALL']: 0 -> 1\n"
     ]
    }
   ],
   "source": [
    "print(f\"Current Environment Step: {env.game.step_counter}\")\n",
    "print(f\"Current Kill Chain Stage: {tap001.current_kill_chain_stage.name}\")\n",
    "print(f\"Next Execution Step: {tap001.next_execution_timestep}\")\n",
    "print(f\"Next Kill Chain Stage {tap001.next_kill_chain_stage.name}\")\n",
    "while(tap001.current_kill_chain_stage == MobileMalwareKillChain.DOWNLOAD):\n",
    "    download_obs_impact, _, _, _, _ = env.step(0)\n",
    "starting_host.file_system.show(full=True)\n",
    "starting_host.file_system.show_num_files()\n",
    "display_obs_diffs(default_obs, download_obs_impact, env.game.step_counter)"
   ]
  },
  {
   "cell_type": "code",
   "execution_count": 12,
   "metadata": {
    "execution": {
     "iopub.execute_input": "2025-03-24T09:54:54.339303Z",
     "iopub.status.busy": "2025-03-24T09:54:54.339055Z",
     "iopub.status.idle": "2025-03-24T09:54:54.344698Z",
     "shell.execute_reply": "2025-03-24T09:54:54.344083Z"
    }
   },
   "outputs": [
    {
     "name": "stdout",
     "output_type": "stream",
     "text": [
      "+-----------------------------+\n",
      "|    attacker Behaviour Log   |\n",
      "+-----------+-------+---------+\n",
      "| Time Step | Level | Message |\n",
      "+-----------+-------+---------+\n",
      "+-----------+-------+---------+\n",
      "Actions for 'attacker':\n",
      "+------+--------------------+--------------------------------+----------+--------------------------------+\n",
      "| Step |       Action       |             Params             | Response |         Response Data          |\n",
      "+------+--------------------+--------------------------------+----------+--------------------------------+\n",
      "|  6   | node-folder-create | node_name: ST_PROJ-A-PRV-PC-1  | success  |     folder_name: downloads     |\n",
      "|      |                    |     folder_name: downloads     |          |                                |\n",
      "|      |                    |                                |          |                                |\n",
      "|  11  |  node-file-create  | node_name: ST_PROJ-A-PRV-PC-1  | success  | file_name: malware_dropper.ps1 |\n",
      "|      |                    |     folder_name: downloads     |          |     folder_name: downloads     |\n",
      "|      |                    | file_name: malware_dropper.ps1 |          |         file_type: PS1         |\n",
      "|      |                    |          force: True           |          |          file_size: 0          |\n",
      "|      |                    |                                |          |                                |\n",
      "+------+--------------------+--------------------------------+----------+--------------------------------+\n"
     ]
    }
   ],
   "source": [
    "tap001.logger.show()\n",
    "tap001.show_history()"
   ]
  },
  {
   "cell_type": "markdown",
   "metadata": {},
   "source": [
    "### **Kill Chain** | INSTALL\n",
    "|Index|Attack Stage|OBS Impact|Narrative|\n",
    "|-----|------------|----------|---------|\n",
    "|2|Install | HOST:FOLDER:FILES:num_access |The malware is activated, either by the employee opening the file or automatically upon download, initiating its malicious functions.|\n",
    "\n",
    "<p align=\"center\">\n",
    "    <a href=\"./_package_data/uc7/uc7_tap001/uc7_tap001_download_install.png\" target=\"_blank\">\n",
    "        <img src=\"./_package_data/uc7/uc7_tap001/uc7_tap001_download_install.png\" alt=\"Image\" style=\"width:700px;\">\n",
    "    </a>  \n",
    "    \n",
    "</p>\n",
    "\n",
    "In this stage, TAP001 uses the **node-file-access** to increase the number of accesses of the ```\"malware_dropper.ps1\"```. <br>\n",
    "\n",
    "These actions represent the employee executing malware dropper created in the previous stage. "
   ]
  },
  {
   "cell_type": "code",
   "execution_count": 13,
   "metadata": {
    "execution": {
     "iopub.execute_input": "2025-03-24T09:54:54.347755Z",
     "iopub.status.busy": "2025-03-24T09:54:54.347268Z",
     "iopub.status.idle": "2025-03-24T09:54:54.603713Z",
     "shell.execute_reply": "2025-03-24T09:54:54.603040Z"
    }
   },
   "outputs": [
    {
     "name": "stdout",
     "output_type": "stream",
     "text": [
      "Current Environment Step: 12\n",
      "Current Kill Chain Stage: INSTALL\n",
      "Next Execution Step: 16\n",
      "Next Kill Chain Stage ACTIVATE\n"
     ]
    },
    {
     "name": "stdout",
     "output_type": "stream",
     "text": [
      "+------------------------------------------------------+\n",
      "|                 malware_dropper.ps1                  |\n",
      "+---------------------+-----------+--------------------+\n",
      "| File Name           | File Type | Number of Accesses |\n",
      "+---------------------+-----------+--------------------+\n",
      "| malware_dropper.ps1 | PS1       | 1                  |\n",
      "+---------------------+-----------+--------------------+\n",
      "\n",
      "Observation space differences\n",
      "-----------------------------\n"
     ]
    },
    {
     "name": "stdout",
     "output_type": "stream",
     "text": [
      "Step 17\n",
      "root['NODES']['HOST0']['FOLDERS'][1]['FILES'][1]['num_access']: 0 -> 1\n",
      "root['NODES']['HOST0']['num_file_creations']: 1 -> 0\n",
      "root['NODES']['HOST1']['NICS'][1]['TRAFFIC']['tcp'][80]['inbound']: 0 -> 1\n",
      "root['NODES']['HOST1']['NICS'][1]['TRAFFIC']['tcp'][80]['outbound']: 0 -> 1\n",
      "root['LINKS'][21]['PROTOCOLS']['ALL']: 0 -> 1\n",
      "root['LINKS'][24]['PROTOCOLS']['ALL']: 0 -> 1\n",
      "root['LINKS'][29]['PROTOCOLS']['ALL']: 0 -> 1\n",
      "root['LINKS'][37]['PROTOCOLS']['ALL']: 1 -> 0\n"
     ]
    }
   ],
   "source": [
    "print(f\"Current Environment Step: {env.game.step_counter}\")\n",
    "print(f\"Current Kill Chain Stage: {tap001.current_kill_chain_stage.name}\")\n",
    "print(f\"Next Execution Step: {tap001.next_execution_timestep}\")\n",
    "print(f\"Next Kill Chain Stage {tap001.next_kill_chain_stage.name}\")\n",
    "while(tap001.current_kill_chain_stage == MobileMalwareKillChain.INSTALL):\n",
    "    install_obs_impact, _, _, _, _ = env.step(0)\n",
    "\n",
    "malware_file = starting_host.file_system.get_file(\"downloads\",\"malware_dropper.ps1\")\n",
    "malware_file.show()\n",
    "\n",
    "display_obs_diffs(download_obs_impact, install_obs_impact, env.game.step_counter)"
   ]
  },
  {
   "cell_type": "code",
   "execution_count": 14,
   "metadata": {
    "execution": {
     "iopub.execute_input": "2025-03-24T09:54:54.606540Z",
     "iopub.status.busy": "2025-03-24T09:54:54.606049Z",
     "iopub.status.idle": "2025-03-24T09:54:54.611239Z",
     "shell.execute_reply": "2025-03-24T09:54:54.610557Z"
    }
   },
   "outputs": [
    {
     "name": "stdout",
     "output_type": "stream",
     "text": [
      "+-----------------------------+\n",
      "|    attacker Behaviour Log   |\n",
      "+-----------+-------+---------+\n",
      "| Time Step | Level | Message |\n",
      "+-----------+-------+---------+\n",
      "+-----------+-------+---------+\n",
      "Actions for 'attacker':\n",
      "+------+--------------------+--------------------------------+----------+--------------------------------+\n",
      "| Step |       Action       |             Params             | Response |         Response Data          |\n",
      "+------+--------------------+--------------------------------+----------+--------------------------------+\n",
      "|  6   | node-folder-create | node_name: ST_PROJ-A-PRV-PC-1  | success  |     folder_name: downloads     |\n",
      "|      |                    |     folder_name: downloads     |          |                                |\n",
      "|      |                    |                                |          |                                |\n",
      "|  11  |  node-file-create  | node_name: ST_PROJ-A-PRV-PC-1  | success  | file_name: malware_dropper.ps1 |\n",
      "|      |                    |     folder_name: downloads     |          |     folder_name: downloads     |\n",
      "|      |                    | file_name: malware_dropper.ps1 |          |         file_type: PS1         |\n",
      "|      |                    |          force: True           |          |          file_size: 0          |\n",
      "|      |                    |                                |          |                                |\n",
      "|  16  |  node-file-access  | node_name: ST_PROJ-A-PRV-PC-1  | success  | file_name: malware_dropper.ps1 |\n",
      "|      |                    |     folder_name: downloads     |          |     folder_name: downloads     |\n",
      "|      |                    | file_name: malware_dropper.ps1 |          |         file_type: PS1         |\n",
      "|      |                    |                                |          |          file_size: 0          |\n",
      "|      |                    |                                |          |       file_status: GOOD        |\n",
      "|      |                    |                                |          |                                |\n",
      "+------+--------------------+--------------------------------+----------+--------------------------------+\n"
     ]
    }
   ],
   "source": [
    "tap001.logger.show()\n",
    "tap001.show_history()"
   ]
  },
  {
   "cell_type": "markdown",
   "metadata": {},
   "source": [
    "### **Kill Chain** | ACTIVATE\n",
    "\n",
    "|Index|Attack Stage|OBS Impact|Narrative|\n",
    "|-----|------------|----------|---------|\n",
    "|3|Activate | HOST:APPLICATION:operating_status |The malware installs itself on the terminal, often seeking to gain persistence by embedding itself into system processes or startup routines.|\n",
    "\n",
    "<p align=\"center\">\n",
    "    <a href=\"./_package_data/uc7/uc7_tap001/uc7_tap001_activate.png\" target=\"_blank\">\n",
    "        <img src=\"./_package_data/uc7/uc7_tap001/uc7_tap001_activate.png\" alt=\"Image\" style=\"width:700px;\">\n",
    "    </a>  \n",
    "    \n",
    "</p>\n",
    "\n",
    "In this stage, TAP001 uses the **node-application-install** to install the ransomware application onto the starting host. <br>\n",
    "\n",
    "These actions represent the malware dropper successfully installing ransomware on the host machine. Similarly to the malware dropper, the ransomware currently implemented is intended to be a generic and OS agnostic ransomware which is not intended to represent any specific real world implementation. \n",
    "\n",
    "Future versions of PrimAITE intend to expand the capability of the ransomware application to more faithfully represent a real-world example; for example, a Trickbot variation such as Ryuk or Conti."
   ]
  },
  {
   "cell_type": "code",
   "execution_count": 15,
   "metadata": {
    "execution": {
     "iopub.execute_input": "2025-03-24T09:54:54.613909Z",
     "iopub.status.busy": "2025-03-24T09:54:54.613521Z",
     "iopub.status.idle": "2025-03-24T09:54:54.844131Z",
     "shell.execute_reply": "2025-03-24T09:54:54.843400Z"
    }
   },
   "outputs": [
    {
     "name": "stdout",
     "output_type": "stream",
     "text": [
      "Current Environment Step: 17\n",
      "Current Kill Chain Stage: ACTIVATE\n",
      "Next Execution Step: 21\n",
      "Next Kill Chain Stage PROPAGATE\n"
     ]
    },
    {
     "name": "stdout",
     "output_type": "stream",
     "text": [
      "+---------------------------------------------------------------------------------------+\n",
      "|                          ST_PROJ-A-PRV-PC-1 Software Manager                          |\n",
      "+----------------------+-------------+-----------------+--------------+------+----------+\n",
      "| Name                 | Type        | Operating State | Health State | Port | Protocol |\n",
      "+----------------------+-------------+-----------------+--------------+------+----------+\n",
      "| arp                  | Service     | RUNNING         | GOOD         | 219  | udp      |\n",
      "| icmp                 | Service     | RUNNING         | GOOD         | None | icmp     |\n",
      "| dns-client           | Service     | RUNNING         | GOOD         | 53   | tcp      |\n",
      "| ntp-client           | Service     | RUNNING         | GOOD         | 123  | udp      |\n",
      "| web-browser          | Application | RUNNING         | GOOD         | 80   | tcp      |\n",
      "| nmap                 | Application | RUNNING         | GOOD         | None | none     |\n",
      "| user-session-manager | Service     | RUNNING         | GOOD         | None | none     |\n",
      "| user-manager         | Service     | RUNNING         | GOOD         | None | none     |\n",
      "| terminal             | Service     | RUNNING         | GOOD         | 22   | tcp      |\n",
      "| ftp-client           | Service     | RUNNING         | GOOD         | 21   | tcp      |\n",
      "| database-client      | Application | RUNNING         | GOOD         | 5432 | tcp      |\n",
      "| ransomware-script    | Application | INSTALLING      | GOOD         | None | none     |\n",
      "+----------------------+-------------+-----------------+--------------+------+----------+\n",
      "\n",
      "Observation space differences\n",
      "-----------------------------\n"
     ]
    },
    {
     "name": "stdout",
     "output_type": "stream",
     "text": [
      "Step 22\n",
      "root['NODES']['HOST0']['APPLICATIONS'][1]['operating_status']: 0 -> 3\n",
      "root['NODES']['HOST0']['FOLDERS'][1]['FILES'][1]['num_access']: 1 -> 0\n",
      "root['NODES']['HOST1']['APPLICATIONS'][2]['num_executions']: 1 -> 0\n",
      "root['NODES']['HOST1']['NICS'][1]['TRAFFIC']['tcp'][80]['inbound']: 1 -> 0\n",
      "root['NODES']['HOST1']['NICS'][1]['TRAFFIC']['tcp'][80]['outbound']: 1 -> 0\n",
      "root['NODES']['HOST1']['NICS'][1]['TRAFFIC']['tcp'][5432]['inbound']: 1 -> 0\n",
      "root['NODES']['HOST1']['NICS'][1]['TRAFFIC']['tcp'][5432]['outbound']: 1 -> 0\n",
      "root['LINKS'][7]['PROTOCOLS']['ALL']: 0 -> 1\n",
      "root['LINKS'][8]['PROTOCOLS']['ALL']: 0 -> 1\n",
      "root['LINKS'][9]['PROTOCOLS']['ALL']: 0 -> 1\n",
      "root['LINKS'][10]['PROTOCOLS']['ALL']: 0 -> 1\n",
      "root['LINKS'][24]['PROTOCOLS']['ALL']: 1 -> 0\n",
      "root['LINKS'][29]['PROTOCOLS']['ALL']: 1 -> 0\n",
      "root['LINKS'][37]['PROTOCOLS']['ALL']: 0 -> 1\n"
     ]
    }
   ],
   "source": [
    "print(f\"Current Environment Step: {env.game.step_counter}\")\n",
    "print(f\"Current Kill Chain Stage: {tap001.current_kill_chain_stage.name}\")\n",
    "print(f\"Next Execution Step: {tap001.next_execution_timestep}\")\n",
    "print(f\"Next Kill Chain Stage {tap001.next_kill_chain_stage.name}\")\n",
    "while(tap001.current_kill_chain_stage == MobileMalwareKillChain.ACTIVATE):\n",
    "    activate_obs_impact, _, _, _, _ = env.step(0)\n",
    "starting_host.software_manager.show()\n",
    "display_obs_diffs(install_obs_impact, activate_obs_impact, env.game.step_counter)"
   ]
  },
  {
   "cell_type": "code",
   "execution_count": 16,
   "metadata": {
    "execution": {
     "iopub.execute_input": "2025-03-24T09:54:54.846819Z",
     "iopub.status.busy": "2025-03-24T09:54:54.846579Z",
     "iopub.status.idle": "2025-03-24T09:54:54.851025Z",
     "shell.execute_reply": "2025-03-24T09:54:54.850417Z"
    }
   },
   "outputs": [
    {
     "name": "stdout",
     "output_type": "stream",
     "text": [
      "+-----------------------------+\n",
      "|    attacker Behaviour Log   |\n",
      "+-----------+-------+---------+\n",
      "| Time Step | Level | Message |\n",
      "+-----------+-------+---------+\n",
      "+-----------+-------+---------+\n"
     ]
    }
   ],
   "source": [
    "tap001.logger.show()"
   ]
  },
  {
   "cell_type": "markdown",
   "metadata": {},
   "source": [
    "### **Kill Chain** | PROPAGATE\n",
    "\n",
    "|Index|Attack Stage|OBS Impact|Narrative|\n",
    "|-----|------------|----------|---------|\n",
    "|4|Propagate|HOST:NICS:NIC:TRAFFIC:PROTOCOL:PORT:*|The malware attempts to spread to other systems or networks, looking for vulnerable services.|\n",
    "\n",
    "In this stage, TAP001 uses **node-nmap-port-scan**, **node-nmap-ping-scan** and **node-nmap-network-service-recon** to scan the simulation in order to search for a valid database target.\n",
    "\n",
    "Unlike previous stages, the behaviour of this stage is dependant on the simulation and thus will perform differently dependant on the location of the target as well as the topology of the network. Specifically, the ```PROPAGATE``` stage uses three network enumeration actions and their action responses to populate its knowledge of the network.<br>\n",
    "These actions represent the now infected `ST_PROJ-A-PRV-PC-1` searching the UC7 network for valid targets ransomware. \n",
    "\n",
    "For more information around how agent requests and responses work then the [request-response notebook can provide some useful insights](./Requests-and-Responses.ipynb).\n",
    "\n",
    "It's worth noting that the implementation of the ```PROPAGATE``` stage does not class routers and switches as valid targets and thus will not scan them. <br>\n",
    "\n",
    "_Currently, red agents have no way of probing the routing information of the simulation so must be provided the network addresses of the network. <br> See the mobile malware configuration option section of this notebook for further information_"
   ]
  },
  {
   "cell_type": "markdown",
   "metadata": {},
   "source": [
    "#### **Kill Chain** | PROPAGATE | Scan walkthrough\n",
    "\n",
    "The next juypter cells of this notebook will go through each individual nmap action that the TAP001 leverages to reach the target host as well as the OBS each action impacts.\n",
    "\n",
    "This section uses the following ```PROPAGATE``` relevant TAP001 settings:\n",
    "```yaml\n",
    "    kill chain:\n",
    "        PROPAGATE:\n",
    "          probability: 1\n",
    "          scan_attempts: 20\n",
    "          repeat_scan: false\n",
    "          network_addresses:\n",
    "            - 192.168.230.0/29 # ST Project A\n",
    "            - 192.168.10.0/26  # Remote Site\n",
    "            - 192.168.20.0/30  # Remote DMZ\n",
    "            # - 192.168.240.0/29 # ST Project B\n",
    "            # - 192.168.250.0/29 # ST Project C\n",
    "            - 192.168.220.0/29 # ST Data (Contains Target)\n",
    "```\n"
   ]
  },
  {
   "cell_type": "code",
   "execution_count": 17,
   "metadata": {
    "execution": {
     "iopub.execute_input": "2025-03-24T09:54:54.853661Z",
     "iopub.status.busy": "2025-03-24T09:54:54.853446Z",
     "iopub.status.idle": "2025-03-24T09:54:54.857976Z",
     "shell.execute_reply": "2025-03-24T09:54:54.857357Z"
    }
   },
   "outputs": [
    {
     "name": "stdout",
     "output_type": "stream",
     "text": [
      "Current Environment Step: 22\n",
      "Current Kill Chain Stage: PROPAGATE\n",
      "Next Execution Step: 26\n",
      "Next Kill Chain Stage COMMAND_AND_CONTROL\n"
     ]
    }
   ],
   "source": [
    "print(f\"Current Environment Step: {env.game.step_counter}\")\n",
    "print(f\"Current Kill Chain Stage: {tap001.current_kill_chain_stage.name}\")\n",
    "print(f\"Next Execution Step: {tap001.next_execution_timestep}\")\n",
    "print(f\"Next Kill Chain Stage {tap001.next_kill_chain_stage.name}\")\n",
    "\n",
    "def propagate_obs_and_show(tap001: TAP001, previous_obs, propagate_obs_impact, timestep):\n",
    "    tap001._show_scan()\n",
    "    display_obs_diffs(previous_obs, propagate_obs_impact, timestep)"
   ]
  },
  {
   "cell_type": "code",
   "execution_count": 18,
   "metadata": {
    "execution": {
     "iopub.execute_input": "2025-03-24T09:54:54.860289Z",
     "iopub.status.busy": "2025-03-24T09:54:54.860082Z",
     "iopub.status.idle": "2025-03-24T09:54:54.864277Z",
     "shell.execute_reply": "2025-03-24T09:54:54.863681Z"
    }
   },
   "outputs": [
    {
     "name": "stdout",
     "output_type": "stream",
     "text": [
      "+-----------------------------+\n",
      "|    attacker Behaviour Log   |\n",
      "+-----------+-------+---------+\n",
      "| Time Step | Level | Message |\n",
      "+-----------+-------+---------+\n",
      "+-----------+-------+---------+\n"
     ]
    }
   ],
   "source": [
    "tap001.logger.show()"
   ]
  },
  {
   "cell_type": "markdown",
   "metadata": {},
   "source": [
    "#### **Kill Chain** | PROPAGATE | ST_PROJ-A-PRV-PC-1\n",
    "\n",
    "<p align=\"center\">\n",
    "    <a href=\"./_package_data/uc7/uc7_tap001/uc7_tap001_propagate_1.png\" target=\"_blank\">\n",
    "        <img src=\"./_package_data/uc7/uc7_tap001/uc7_tap001_propagate_1.png\" alt=\"Image\" style=\"width:700px;\">\n",
    "    </a>  \n",
    "    \n",
    "</p>"
   ]
  },
  {
   "cell_type": "code",
   "execution_count": 19,
   "metadata": {
    "execution": {
     "iopub.execute_input": "2025-03-24T09:54:54.866987Z",
     "iopub.status.busy": "2025-03-24T09:54:54.866608Z",
     "iopub.status.idle": "2025-03-24T09:54:55.136146Z",
     "shell.execute_reply": "2025-03-24T09:54:55.135438Z"
    }
   },
   "outputs": [],
   "source": [
    "# Ping Scan\n",
    "for _ in range(5):\n",
    "    PROJ_A_SITE_ping, *_ = env.step(0)"
   ]
  },
  {
   "cell_type": "code",
   "execution_count": 20,
   "metadata": {
    "execution": {
     "iopub.execute_input": "2025-03-24T09:54:55.139435Z",
     "iopub.status.busy": "2025-03-24T09:54:55.138998Z",
     "iopub.status.idle": "2025-03-24T09:54:55.167549Z",
     "shell.execute_reply": "2025-03-24T09:54:55.166935Z"
    }
   },
   "outputs": [
    {
     "name": "stdout",
     "output_type": "stream",
     "text": [
      "+--------------------------------------------------------------------------------------------------+\n",
      "|                           TAP001 attacker's Current Network Knowledge                            |\n",
      "+--------------+--------------------+---------------+----------------------+-----------------------+\n",
      "| Target Found |    Target Port     |   Target IP   | Previous Scan Target | Previous Scan Results |\n",
      "+--------------+--------------------+---------------+----------------------+-----------------------+\n",
      "|    False     | PortStatus.UNKNOWN | 192.168.220.3 |   192.168.230.0/29   |           {}          |\n",
      "+--------------+--------------------+---------------+----------------------+-----------------------+\n",
      "+---------------------------------------------------------------------------------------------------+\n",
      "|                              TAP001 attacker's Propagate Stage Status                             |\n",
      "+--------------------+----------------+----------------+------------------+-------------------------+\n",
      "| Last Scan Timestep | Last Scan Type | Scans Complete | Networks Scanned | Permitted Scan Attempts |\n",
      "+--------------------+----------------+----------------+------------------+-------------------------+\n",
      "|        [26]        |      Ping      |       1        |        0         |            20           |\n",
      "+--------------------+----------------+----------------+------------------+-------------------------+\n",
      "\n",
      "Observation space differences\n",
      "-----------------------------\n",
      "Step 27\n",
      "root['NODES']['HOST0']['APPLICATIONS'][1]['operating_status']: 3 -> 1\n",
      "root['NODES']['HOST0']['NICS'][1]['TRAFFIC']['tcp'][80]['inbound']: 0 -> 1\n",
      "root['NODES']['HOST0']['NICS'][1]['TRAFFIC']['tcp'][80]['outbound']: 0 -> 1\n",
      "root['NODES']['HOST0']['NICS'][1]['TRAFFIC']['icmp']['inbound']: 0 -> 1\n",
      "root['NODES']['HOST0']['NICS'][1]['TRAFFIC']['icmp']['outbound']: 0 -> 1\n",
      "root['NODES']['HOST1']['APPLICATIONS'][2]['num_executions']: 0 -> 1\n",
      "root['NODES']['HOST1']['NICS'][1]['TRAFFIC']['tcp'][5432]['inbound']: 0 -> 1\n",
      "root['NODES']['HOST1']['NICS'][1]['TRAFFIC']['tcp'][5432]['outbound']: 0 -> 1\n",
      "root['NODES']['HOST2']['NICS'][1]['TRAFFIC']['tcp'][80]['inbound']: 0 -> 1\n",
      "root['NODES']['HOST2']['NICS'][1]['TRAFFIC']['tcp'][80]['outbound']: 0 -> 1\n",
      "root['LINKS'][1]['PROTOCOLS']['ALL']: 1 -> 0\n",
      "root['LINKS'][5]['PROTOCOLS']['ALL']: 1 -> 0\n",
      "root['LINKS'][7]['PROTOCOLS']['ALL']: 1 -> 0\n",
      "root['LINKS'][8]['PROTOCOLS']['ALL']: 1 -> 0\n",
      "root['LINKS'][9]['PROTOCOLS']['ALL']: 1 -> 0\n",
      "root['LINKS'][10]['PROTOCOLS']['ALL']: 1 -> 0\n",
      "root['LINKS'][13]['PROTOCOLS']['ALL']: 1 -> 0\n",
      "root['LINKS'][20]['PROTOCOLS']['ALL']: 1 -> 0\n",
      "root['LINKS'][22]['PROTOCOLS']['ALL']: 1 -> 0\n",
      "root['LINKS'][29]['PROTOCOLS']['ALL']: 0 -> 1\n"
     ]
    }
   ],
   "source": [
    "propagate_obs_and_show(tap001, previous_obs=activate_obs_impact, propagate_obs_impact=PROJ_A_SITE_ping, timestep=env.game.step_counter)"
   ]
  },
  {
   "cell_type": "code",
   "execution_count": 21,
   "metadata": {
    "execution": {
     "iopub.execute_input": "2025-03-24T09:54:55.170449Z",
     "iopub.status.busy": "2025-03-24T09:54:55.170028Z",
     "iopub.status.idle": "2025-03-24T09:54:55.398725Z",
     "shell.execute_reply": "2025-03-24T09:54:55.397977Z"
    }
   },
   "outputs": [],
   "source": [
    "# Recon Scan\n",
    "for _ in range(5):\n",
    "    PROJ_A_SITE_recon, *_  = env.step(0);"
   ]
  },
  {
   "cell_type": "code",
   "execution_count": 22,
   "metadata": {
    "execution": {
     "iopub.execute_input": "2025-03-24T09:54:55.401765Z",
     "iopub.status.busy": "2025-03-24T09:54:55.401541Z",
     "iopub.status.idle": "2025-03-24T09:54:55.653339Z",
     "shell.execute_reply": "2025-03-24T09:54:55.652602Z"
    }
   },
   "outputs": [
    {
     "name": "stdout",
     "output_type": "stream",
     "text": [
      "+---------------------------------------------------------------------------------------------------------------------------------------------------------------+\n",
      "|                                                          TAP001 attacker's Current Network Knowledge                                                          |\n",
      "+--------------+--------------------+---------------+-----------------------------------------------------+-----------------------------------------------------+\n",
      "| Target Found |    Target Port     |   Target IP   |                 Previous Scan Target                |                Previous Scan Results                |\n",
      "+--------------+--------------------+---------------+-----------------------------------------------------+-----------------------------------------------------+\n",
      "|    False     | PortStatus.UNKNOWN | 192.168.220.3 | ['192.168.230.3', '192.168.230.4', '192.168.230.1'] | ['192.168.230.3', '192.168.230.4', '192.168.230.1'] |\n",
      "+--------------+--------------------+---------------+-----------------------------------------------------+-----------------------------------------------------+\n",
      "+---------------------------------------------------------------------------------------------------+\n",
      "|                              TAP001 attacker's Propagate Stage Status                             |\n",
      "+--------------------+----------------+----------------+------------------+-------------------------+\n",
      "| Last Scan Timestep | Last Scan Type | Scans Complete | Networks Scanned | Permitted Scan Attempts |\n",
      "+--------------------+----------------+----------------+------------------+-------------------------+\n",
      "|        [31]        |     Recon      |       2        |        0         |            20           |\n",
      "+--------------------+----------------+----------------+------------------+-------------------------+\n",
      "\n",
      "Observation space differences\n",
      "-----------------------------\n",
      "Step 32\n",
      "root['NODES']['HOST0']['NICS'][1]['TRAFFIC']['tcp'][80]['inbound']: 1 -> 0\n",
      "root['NODES']['HOST0']['NICS'][1]['TRAFFIC']['tcp'][80]['outbound']: 1 -> 0\n",
      "root['NODES']['HOST0']['NICS'][1]['TRAFFIC']['tcp'][5432]['inbound']: 0 -> 1\n",
      "root['NODES']['HOST0']['NICS'][1]['TRAFFIC']['tcp'][5432]['outbound']: 0 -> 1\n",
      "root['NODES']['HOST2']['APPLICATIONS'][2]['num_executions']: 0 -> 1\n",
      "root['NODES']['HOST2']['NICS'][1]['TRAFFIC']['tcp'][80]['inbound']: 1 -> 0\n",
      "root['NODES']['HOST2']['NICS'][1]['TRAFFIC']['tcp'][80]['outbound']: 1 -> 0\n",
      "root['NODES']['HOST2']['NICS'][1]['TRAFFIC']['tcp'][5432]['inbound']: 0 -> 1\n",
      "root['NODES']['HOST2']['NICS'][1]['TRAFFIC']['tcp'][5432]['outbound']: 0 -> 1\n",
      "root['LINKS'][1]['PROTOCOLS']['ALL']: 0 -> 1\n",
      "root['LINKS'][5]['PROTOCOLS']['ALL']: 0 -> 1\n",
      "root['LINKS'][13]['PROTOCOLS']['ALL']: 0 -> 1\n",
      "root['LINKS'][22]['PROTOCOLS']['ALL']: 0 -> 1\n",
      "root['LINKS'][24]['PROTOCOLS']['ALL']: 0 -> 1\n",
      "root['LINKS'][26]['PROTOCOLS']['ALL']: 1 -> 0\n"
     ]
    }
   ],
   "source": [
    "propagate_obs_and_show(tap001, PROJ_A_SITE_ping, PROJ_A_SITE_recon, env.game.step_counter)"
   ]
  },
  {
   "cell_type": "markdown",
   "metadata": {},
   "source": [
    "#### **Kill Chain** | PROPAGATE | REMOTE SITE\n",
    "\n",
    "<p align=\"center\">\n",
    "    <a href=\"./_package_data/uc7/uc7_tap001/uc7_tap001_propagate_2.png\" target=\"_blank\">\n",
    "        <img src=\"./_package_data/uc7/uc7_tap001/uc7_tap001_propagate_2.png\" alt=\"Image\" style=\"width:1000px;\">\n",
    "    </a>  \n",
    "    \n",
    "</p>"
   ]
  },
  {
   "cell_type": "code",
   "execution_count": 23,
   "metadata": {
    "execution": {
     "iopub.execute_input": "2025-03-24T09:54:55.656370Z",
     "iopub.status.busy": "2025-03-24T09:54:55.655850Z",
     "iopub.status.idle": "2025-03-24T09:54:59.814471Z",
     "shell.execute_reply": "2025-03-24T09:54:59.813807Z"
    }
   },
   "outputs": [],
   "source": [
    "# Ping Scan\n",
    "for _ in range(5):\n",
    "    REMOTE_SITE_ping, *_ = env.step(0)"
   ]
  },
  {
   "cell_type": "code",
   "execution_count": 24,
   "metadata": {
    "execution": {
     "iopub.execute_input": "2025-03-24T09:54:59.817440Z",
     "iopub.status.busy": "2025-03-24T09:54:59.817177Z",
     "iopub.status.idle": "2025-03-24T09:54:59.844716Z",
     "shell.execute_reply": "2025-03-24T09:54:59.844152Z"
    }
   },
   "outputs": [
    {
     "name": "stdout",
     "output_type": "stream",
     "text": [
      "+---------------------------------------------------------------------------------------------------------------+\n",
      "|                                  TAP001 attacker's Current Network Knowledge                                  |\n",
      "+--------------+--------------------+---------------+----------------------+------------------------------------+\n",
      "| Target Found |    Target Port     |   Target IP   | Previous Scan Target |       Previous Scan Results        |\n",
      "+--------------+--------------------+---------------+----------------------+------------------------------------+\n",
      "|    False     | PortStatus.UNKNOWN | 192.168.220.3 |   192.168.10.0/26    | ['192.168.230.4', '192.168.230.3'] |\n",
      "+--------------+--------------------+---------------+----------------------+------------------------------------+\n",
      "+---------------------------------------------------------------------------------------------------+\n",
      "|                              TAP001 attacker's Propagate Stage Status                             |\n",
      "+--------------------+----------------+----------------+------------------+-------------------------+\n",
      "| Last Scan Timestep | Last Scan Type | Scans Complete | Networks Scanned | Permitted Scan Attempts |\n",
      "+--------------------+----------------+----------------+------------------+-------------------------+\n",
      "|        [36]        |      Ping      |       3        |        1         |            20           |\n",
      "+--------------------+----------------+----------------+------------------+-------------------------+\n",
      "\n",
      "Observation space differences\n",
      "-----------------------------\n",
      "Step 37\n",
      "root['NODES']['HOST0']['APPLICATIONS'][1]['operating_status']: 3 -> 1\n",
      "root['NODES']['HOST0']['NICS'][1]['TRAFFIC']['tcp'][80]['inbound']: 0 -> 1\n",
      "root['NODES']['HOST0']['NICS'][1]['TRAFFIC']['tcp'][80]['outbound']: 0 -> 1\n",
      "root['NODES']['HOST0']['NICS'][1]['TRAFFIC']['icmp']['inbound']: 0 -> 1\n",
      "root['NODES']['HOST0']['NICS'][1]['TRAFFIC']['icmp']['outbound']: 0 -> 1\n",
      "root['LINKS'][1]['PROTOCOLS']['ALL']: 1 -> 0\n",
      "root['LINKS'][5]['PROTOCOLS']['ALL']: 1 -> 0\n",
      "root['LINKS'][15]['PROTOCOLS']['ALL']: 1 -> 3\n",
      "root['LINKS'][21]['PROTOCOLS']['ALL']: 1 -> 0\n",
      "root['LINKS'][22]['PROTOCOLS']['ALL']: 1 -> 0\n",
      "root['LINKS'][24]['PROTOCOLS']['ALL']: 0 -> 1\n",
      "root['LINKS'][25]['PROTOCOLS']['ALL']: 1 -> 0\n",
      "root['LINKS'][29]['PROTOCOLS']['ALL']: 0 -> 1\n"
     ]
    }
   ],
   "source": [
    "propagate_obs_and_show(tap001, previous_obs=activate_obs_impact, propagate_obs_impact=REMOTE_SITE_ping, timestep=env.game.step_counter)"
   ]
  },
  {
   "cell_type": "code",
   "execution_count": 25,
   "metadata": {
    "execution": {
     "iopub.execute_input": "2025-03-24T09:54:59.847701Z",
     "iopub.status.busy": "2025-03-24T09:54:59.847195Z",
     "iopub.status.idle": "2025-03-24T09:55:00.072855Z",
     "shell.execute_reply": "2025-03-24T09:55:00.072292Z"
    }
   },
   "outputs": [],
   "source": [
    "# Recon Scan\n",
    "for _ in range(5):\n",
    "    REMOTE_SITE_recon, *_  = env.step(0);"
   ]
  },
  {
   "cell_type": "code",
   "execution_count": 26,
   "metadata": {
    "execution": {
     "iopub.execute_input": "2025-03-24T09:55:00.075946Z",
     "iopub.status.busy": "2025-03-24T09:55:00.075705Z",
     "iopub.status.idle": "2025-03-24T09:55:00.103255Z",
     "shell.execute_reply": "2025-03-24T09:55:00.102545Z"
    }
   },
   "outputs": [
    {
     "name": "stdout",
     "output_type": "stream",
     "text": [
      "+-------------------------------------------------------------------------------------------------------------------------+\n",
      "|                                       TAP001 attacker's Current Network Knowledge                                       |\n",
      "+--------------+--------------------+---------------+----------------------------------+----------------------------------+\n",
      "| Target Found |    Target Port     |   Target IP   |       Previous Scan Target       |      Previous Scan Results       |\n",
      "+--------------+--------------------+---------------+----------------------------------+----------------------------------+\n",
      "|    False     | PortStatus.UNKNOWN | 192.168.220.3 | ['192.168.10.1', '192.168.10.2'] | ['192.168.10.1', '192.168.10.2'] |\n",
      "+--------------+--------------------+---------------+----------------------------------+----------------------------------+\n",
      "+---------------------------------------------------------------------------------------------------+\n",
      "|                              TAP001 attacker's Propagate Stage Status                             |\n",
      "+--------------------+----------------+----------------+------------------+-------------------------+\n",
      "| Last Scan Timestep | Last Scan Type | Scans Complete | Networks Scanned | Permitted Scan Attempts |\n",
      "+--------------------+----------------+----------------+------------------+-------------------------+\n",
      "|        [41]        |     Recon      |       4        |        1         |            20           |\n",
      "+--------------------+----------------+----------------+------------------+-------------------------+\n",
      "\n",
      "Observation space differences\n",
      "-----------------------------\n",
      "Step 42\n",
      "root['NODES']['HOST0']['APPLICATIONS'][2]['num_executions']: 0 -> 1\n",
      "root['NODES']['HOST0']['NICS'][1]['TRAFFIC']['tcp'][80]['inbound']: 1 -> 0\n",
      "root['NODES']['HOST0']['NICS'][1]['TRAFFIC']['tcp'][80]['outbound']: 1 -> 0\n",
      "root['NODES']['HOST0']['NICS'][1]['TRAFFIC']['tcp'][5432]['inbound']: 0 -> 1\n",
      "root['NODES']['HOST0']['NICS'][1]['TRAFFIC']['tcp'][5432]['outbound']: 0 -> 1\n",
      "root['NODES']['HOST1']['APPLICATIONS'][2]['num_executions']: 0 -> 1\n",
      "root['NODES']['HOST1']['NICS'][1]['TRAFFIC']['tcp'][5432]['inbound']: 0 -> 1\n",
      "root['NODES']['HOST1']['NICS'][1]['TRAFFIC']['tcp'][5432]['outbound']: 0 -> 1\n",
      "root['LINKS'][1]['PROTOCOLS']['ALL']: 0 -> 1\n",
      "root['LINKS'][5]['PROTOCOLS']['ALL']: 0 -> 1\n",
      "root['LINKS'][15]['PROTOCOLS']['ALL']: 3 -> 1\n",
      "root['LINKS'][22]['PROTOCOLS']['ALL']: 0 -> 1\n",
      "root['LINKS'][23]['PROTOCOLS']['ALL']: 1 -> 0\n",
      "root['LINKS'][24]['PROTOCOLS']['ALL']: 1 -> 0\n",
      "root['LINKS'][26]['PROTOCOLS']['ALL']: 1 -> 0\n"
     ]
    }
   ],
   "source": [
    "propagate_obs_and_show(tap001, REMOTE_SITE_ping, REMOTE_SITE_recon, env.game.step_counter)"
   ]
  },
  {
   "cell_type": "markdown",
   "metadata": {},
   "source": [
    "#### **Kill Chain** | PROPAGATE | REMOTE DMZ\n",
    "\n",
    "<p align=\"center\">\n",
    "    <a href=\"./_package_data/uc7/uc7_tap001/uc7_tap001_propagate_3.png\" target=\"_blank\">\n",
    "        <img src=\"./_package_data/uc7/uc7_tap001/uc7_tap001_propagate_3.png\" alt=\"Image\" style=\"width:700px;\">\n",
    "    </a>  \n",
    "    \n",
    "</p>"
   ]
  },
  {
   "cell_type": "code",
   "execution_count": 27,
   "metadata": {
    "execution": {
     "iopub.execute_input": "2025-03-24T09:55:00.106070Z",
     "iopub.status.busy": "2025-03-24T09:55:00.105661Z",
     "iopub.status.idle": "2025-03-24T09:55:00.357020Z",
     "shell.execute_reply": "2025-03-24T09:55:00.356406Z"
    }
   },
   "outputs": [],
   "source": [
    "# Ping Scan\n",
    "for _ in range(5):\n",
    "    REMOTE_DMZ_ping, *_ = env.step(0)"
   ]
  },
  {
   "cell_type": "code",
   "execution_count": 28,
   "metadata": {
    "execution": {
     "iopub.execute_input": "2025-03-24T09:55:00.359953Z",
     "iopub.status.busy": "2025-03-24T09:55:00.359711Z",
     "iopub.status.idle": "2025-03-24T09:55:00.387526Z",
     "shell.execute_reply": "2025-03-24T09:55:00.386913Z"
    }
   },
   "outputs": [
    {
     "name": "stdout",
     "output_type": "stream",
     "text": [
      "+--------------------------------------------------------------------------------------------------+\n",
      "|                           TAP001 attacker's Current Network Knowledge                            |\n",
      "+--------------+--------------------+---------------+----------------------+-----------------------+\n",
      "| Target Found |    Target Port     |   Target IP   | Previous Scan Target | Previous Scan Results |\n",
      "+--------------+--------------------+---------------+----------------------+-----------------------+\n",
      "|    False     | PortStatus.UNKNOWN | 192.168.220.3 |   192.168.20.0/30    |           []          |\n",
      "+--------------+--------------------+---------------+----------------------+-----------------------+\n",
      "+---------------------------------------------------------------------------------------------------+\n",
      "|                              TAP001 attacker's Propagate Stage Status                             |\n",
      "+--------------------+----------------+----------------+------------------+-------------------------+\n",
      "| Last Scan Timestep | Last Scan Type | Scans Complete | Networks Scanned | Permitted Scan Attempts |\n",
      "+--------------------+----------------+----------------+------------------+-------------------------+\n",
      "|        [46]        |      Ping      |       5        |        2         |            20           |\n",
      "+--------------------+----------------+----------------+------------------+-------------------------+\n",
      "\n",
      "Observation space differences\n",
      "-----------------------------\n",
      "Step 47\n",
      "root['NODES']['HOST0']['APPLICATIONS'][2]['num_executions']: 1 -> 0\n",
      "root['NODES']['HOST0']['NICS'][1]['TRAFFIC']['tcp'][80]['inbound']: 0 -> 1\n",
      "root['NODES']['HOST0']['NICS'][1]['TRAFFIC']['tcp'][80]['outbound']: 0 -> 1\n",
      "root['NODES']['HOST0']['NICS'][1]['TRAFFIC']['tcp'][5432]['inbound']: 1 -> 0\n",
      "root['NODES']['HOST0']['NICS'][1]['TRAFFIC']['tcp'][5432]['outbound']: 1 -> 0\n",
      "root['NODES']['HOST1']['APPLICATIONS'][2]['num_executions']: 1 -> 0\n",
      "root['NODES']['HOST1']['NICS'][1]['TRAFFIC']['tcp'][5432]['inbound']: 1 -> 0\n",
      "root['NODES']['HOST1']['NICS'][1]['TRAFFIC']['tcp'][5432]['outbound']: 1 -> 0\n",
      "root['LINKS'][11]['PROTOCOLS']['ALL']: 0 -> 1\n",
      "root['LINKS'][21]['PROTOCOLS']['ALL']: 0 -> 1\n",
      "root['LINKS'][23]['PROTOCOLS']['ALL']: 0 -> 1\n",
      "root['LINKS'][24]['PROTOCOLS']['ALL']: 0 -> 1\n",
      "root['LINKS'][25]['PROTOCOLS']['ALL']: 0 -> 1\n",
      "root['LINKS'][26]['PROTOCOLS']['ALL']: 0 -> 1\n",
      "root['LINKS'][37]['PROTOCOLS']['ALL']: 1 -> 0\n"
     ]
    }
   ],
   "source": [
    "propagate_obs_and_show(tap001, previous_obs=REMOTE_SITE_recon, propagate_obs_impact=REMOTE_DMZ_ping, timestep=env.game.step_counter)"
   ]
  },
  {
   "cell_type": "code",
   "execution_count": 29,
   "metadata": {
    "execution": {
     "iopub.execute_input": "2025-03-24T09:55:00.390218Z",
     "iopub.status.busy": "2025-03-24T09:55:00.389788Z",
     "iopub.status.idle": "2025-03-24T09:55:00.646120Z",
     "shell.execute_reply": "2025-03-24T09:55:00.645520Z"
    }
   },
   "outputs": [],
   "source": [
    "# Recon Scan\n",
    "for _ in range(5):\n",
    "    REMOTE_DMZ_recon, *_  = env.step(0);"
   ]
  },
  {
   "cell_type": "code",
   "execution_count": 30,
   "metadata": {
    "execution": {
     "iopub.execute_input": "2025-03-24T09:55:00.649278Z",
     "iopub.status.busy": "2025-03-24T09:55:00.648860Z",
     "iopub.status.idle": "2025-03-24T09:55:00.676764Z",
     "shell.execute_reply": "2025-03-24T09:55:00.676181Z"
    }
   },
   "outputs": [
    {
     "name": "stdout",
     "output_type": "stream",
     "text": [
      "+-------------------------------------------------------------------------------------------------------------------------+\n",
      "|                                       TAP001 attacker's Current Network Knowledge                                       |\n",
      "+--------------+--------------------+---------------+----------------------------------+----------------------------------+\n",
      "| Target Found |    Target Port     |   Target IP   |       Previous Scan Target       |      Previous Scan Results       |\n",
      "+--------------+--------------------+---------------+----------------------------------+----------------------------------+\n",
      "|    False     | PortStatus.UNKNOWN | 192.168.220.3 | ['192.168.20.1', '192.168.20.2'] | ['192.168.20.1', '192.168.20.2'] |\n",
      "+--------------+--------------------+---------------+----------------------------------+----------------------------------+\n",
      "+---------------------------------------------------------------------------------------------------+\n",
      "|                              TAP001 attacker's Propagate Stage Status                             |\n",
      "+--------------------+----------------+----------------+------------------+-------------------------+\n",
      "| Last Scan Timestep | Last Scan Type | Scans Complete | Networks Scanned | Permitted Scan Attempts |\n",
      "+--------------------+----------------+----------------+------------------+-------------------------+\n",
      "|        [51]        |     Recon      |       6        |        2         |            20           |\n",
      "+--------------------+----------------+----------------+------------------+-------------------------+\n",
      "\n",
      "Observation space differences\n",
      "-----------------------------\n",
      "Step 52\n",
      "root['NODES']['HOST0']['NICS'][1]['TRAFFIC']['tcp'][80]['inbound']: 1 -> 0\n",
      "root['NODES']['HOST0']['NICS'][1]['TRAFFIC']['tcp'][80]['outbound']: 1 -> 0\n",
      "root['NODES']['HOST0']['NICS'][1]['TRAFFIC']['tcp'][5432]['inbound']: 0 -> 1\n",
      "root['NODES']['HOST0']['NICS'][1]['TRAFFIC']['tcp'][5432]['outbound']: 0 -> 1\n",
      "root['NODES']['HOST1']['NICS'][1]['TRAFFIC']['tcp'][80]['inbound']: 0 -> 1\n",
      "root['NODES']['HOST1']['NICS'][1]['TRAFFIC']['tcp'][80]['outbound']: 0 -> 1\n",
      "root['LINKS'][11]['PROTOCOLS']['ALL']: 1 -> 0\n",
      "root['LINKS'][25]['PROTOCOLS']['ALL']: 1 -> 0\n",
      "root['LINKS'][26]['PROTOCOLS']['ALL']: 1 -> 0\n"
     ]
    }
   ],
   "source": [
    "propagate_obs_and_show(tap001, previous_obs=REMOTE_DMZ_ping, propagate_obs_impact=REMOTE_DMZ_recon, timestep=env.game.step_counter)"
   ]
  },
  {
   "cell_type": "markdown",
   "metadata": {},
   "source": [
    "#### **Kill Chain** | PROPAGATE | SOME_TECH DATA \n",
    "\n",
    "\n",
    "<p align=\"center\">\n",
    "    <a href=\"./_package_data/uc7/uc7_tap001/uc7_tap001_propagate_4.png\" target=\"_blank\">\n",
    "        <img src=\"./_package_data/uc7/uc7_tap001/uc7_tap001_propagate_4.png\" alt=\"Image\" style=\"width:700px;\">\n",
    "    </a>  \n",
    "    \n",
    "</p>"
   ]
  },
  {
   "cell_type": "code",
   "execution_count": 31,
   "metadata": {
    "execution": {
     "iopub.execute_input": "2025-03-24T09:55:00.679604Z",
     "iopub.status.busy": "2025-03-24T09:55:00.679196Z",
     "iopub.status.idle": "2025-03-24T09:55:00.932149Z",
     "shell.execute_reply": "2025-03-24T09:55:00.931470Z"
    }
   },
   "outputs": [],
   "source": [
    "# Ping Scan\n",
    "for _ in range(5):\n",
    "    ST_DATA_ping, *_ = env.step(0)"
   ]
  },
  {
   "cell_type": "code",
   "execution_count": 32,
   "metadata": {
    "execution": {
     "iopub.execute_input": "2025-03-24T09:55:00.935330Z",
     "iopub.status.busy": "2025-03-24T09:55:00.934853Z",
     "iopub.status.idle": "2025-03-24T09:55:00.962809Z",
     "shell.execute_reply": "2025-03-24T09:55:00.962203Z"
    }
   },
   "outputs": [
    {
     "name": "stdout",
     "output_type": "stream",
     "text": [
      "+--------------------------------------------------------------------------------------------------+\n",
      "|                           TAP001 attacker's Current Network Knowledge                            |\n",
      "+--------------+--------------------+---------------+----------------------+-----------------------+\n",
      "| Target Found |    Target Port     |   Target IP   | Previous Scan Target | Previous Scan Results |\n",
      "+--------------+--------------------+---------------+----------------------+-----------------------+\n",
      "|    False     | PortStatus.UNKNOWN | 192.168.220.3 |   192.168.220.0/29   |    ['192.168.20.2']   |\n",
      "+--------------+--------------------+---------------+----------------------+-----------------------+\n",
      "+---------------------------------------------------------------------------------------------------+\n",
      "|                              TAP001 attacker's Propagate Stage Status                             |\n",
      "+--------------------+----------------+----------------+------------------+-------------------------+\n",
      "| Last Scan Timestep | Last Scan Type | Scans Complete | Networks Scanned | Permitted Scan Attempts |\n",
      "+--------------------+----------------+----------------+------------------+-------------------------+\n",
      "|        [56]        |      Ping      |       7        |        3         |            20           |\n",
      "+--------------------+----------------+----------------+------------------+-------------------------+\n",
      "\n",
      "Observation space differences\n",
      "-----------------------------\n",
      "Step 57\n",
      "root['NODES']['HOST0']['NICS'][1]['TRAFFIC']['tcp'][5432]['inbound']: 1 -> 0\n",
      "root['NODES']['HOST0']['NICS'][1]['TRAFFIC']['tcp'][5432]['outbound']: 1 -> 0\n",
      "root['NODES']['HOST1']['NICS'][1]['TRAFFIC']['tcp'][80]['inbound']: 1 -> 0\n",
      "root['NODES']['HOST1']['NICS'][1]['TRAFFIC']['tcp'][80]['outbound']: 1 -> 0\n",
      "root['NODES']['HOST2']['NICS'][1]['TRAFFIC']['tcp'][80]['inbound']: 0 -> 1\n",
      "root['NODES']['HOST2']['NICS'][1]['TRAFFIC']['tcp'][80]['outbound']: 0 -> 1\n",
      "root['NODES']['HOST3']['NICS'][1]['TRAFFIC']['icmp']['inbound']: 0 -> 1\n",
      "root['NODES']['HOST3']['NICS'][1]['TRAFFIC']['icmp']['outbound']: 0 -> 1\n",
      "root['LINKS'][7]['PROTOCOLS']['ALL']: 1 -> 0\n",
      "root['LINKS'][8]['PROTOCOLS']['ALL']: 1 -> 0\n",
      "root['LINKS'][9]['PROTOCOLS']['ALL']: 1 -> 0\n",
      "root['LINKS'][10]['PROTOCOLS']['ALL']: 1 -> 0\n",
      "root['LINKS'][22]['PROTOCOLS']['ALL']: 1 -> 0\n",
      "root['LINKS'][24]['PROTOCOLS']['ALL']: 1 -> 0\n",
      "root['LINKS'][25]['PROTOCOLS']['ALL']: 0 -> 1\n",
      "root['LINKS'][26]['PROTOCOLS']['ALL']: 0 -> 1\n",
      "root['LINKS'][27]['PROTOCOLS']['ALL']: 0 -> 1\n",
      "root['LINKS'][33]['PROTOCOLS']['ALL']: 1 -> 0\n",
      "root['LINKS'][37]['PROTOCOLS']['ALL']: 0 -> 1\n"
     ]
    }
   ],
   "source": [
    "propagate_obs_and_show(tap001, previous_obs=REMOTE_DMZ_recon, propagate_obs_impact=ST_DATA_ping, timestep=env.game.step_counter)"
   ]
  },
  {
   "cell_type": "code",
   "execution_count": 33,
   "metadata": {
    "execution": {
     "iopub.execute_input": "2025-03-24T09:55:00.965525Z",
     "iopub.status.busy": "2025-03-24T09:55:00.965094Z",
     "iopub.status.idle": "2025-03-24T09:55:01.240807Z",
     "shell.execute_reply": "2025-03-24T09:55:01.240158Z"
    }
   },
   "outputs": [],
   "source": [
    "# Recon Scan\n",
    "for _ in range(5):\n",
    "    ST_DATA_recon, *_ = env.step(0)"
   ]
  },
  {
   "cell_type": "code",
   "execution_count": 34,
   "metadata": {
    "execution": {
     "iopub.execute_input": "2025-03-24T09:55:01.244014Z",
     "iopub.status.busy": "2025-03-24T09:55:01.243516Z",
     "iopub.status.idle": "2025-03-24T09:55:01.272310Z",
     "shell.execute_reply": "2025-03-24T09:55:01.271587Z"
    }
   },
   "outputs": [
    {
     "name": "stdout",
     "output_type": "stream",
     "text": [
      "+--------------------------------------------------------------------------------------------------+\n",
      "|                           TAP001 attacker's Current Network Knowledge                            |\n",
      "+--------------+--------------------+---------------+----------------------+-----------------------+\n",
      "| Target Found |    Target Port     |   Target IP   | Previous Scan Target | Previous Scan Results |\n",
      "+--------------+--------------------+---------------+----------------------+-----------------------+\n",
      "|     True     | PortStatus.UNKNOWN | 192.168.220.3 |    192.168.220.3     |    ['192.168.20.2']   |\n",
      "+--------------+--------------------+---------------+----------------------+-----------------------+\n",
      "+---------------------------------------------------------------------------------------------------+\n",
      "|                              TAP001 attacker's Propagate Stage Status                             |\n",
      "+--------------------+----------------+----------------+------------------+-------------------------+\n",
      "| Last Scan Timestep | Last Scan Type | Scans Complete | Networks Scanned | Permitted Scan Attempts |\n",
      "+--------------------+----------------+----------------+------------------+-------------------------+\n",
      "|        [61]        |      Port      |       7        |        3         |            20           |\n",
      "+--------------------+----------------+----------------+------------------+-------------------------+\n",
      "\n",
      "Observation space differences\n",
      "-----------------------------\n",
      "Step 62\n",
      "root['NODES']['HOST0']['APPLICATIONS'][2]['num_executions']: 0 -> 1\n",
      "root['NODES']['HOST0']['NICS'][1]['TRAFFIC']['tcp'][80]['inbound']: 0 -> 1\n",
      "root['NODES']['HOST0']['NICS'][1]['TRAFFIC']['tcp'][80]['outbound']: 0 -> 1\n",
      "root['NODES']['HOST0']['NICS'][1]['TRAFFIC']['tcp'][5432]['inbound']: 0 -> 1\n",
      "root['NODES']['HOST0']['NICS'][1]['TRAFFIC']['tcp'][5432]['outbound']: 0 -> 1\n",
      "root['NODES']['HOST0']['NICS'][1]['TRAFFIC']['icmp']['inbound']: 1 -> 0\n",
      "root['NODES']['HOST0']['NICS'][1]['TRAFFIC']['icmp']['outbound']: 1 -> 0\n",
      "root['NODES']['HOST1']['APPLICATIONS'][2]['num_executions']: 0 -> 1\n",
      "root['NODES']['HOST1']['NICS'][1]['TRAFFIC']['tcp'][5432]['inbound']: 0 -> 1\n",
      "root['NODES']['HOST1']['NICS'][1]['TRAFFIC']['tcp'][5432]['outbound']: 0 -> 1\n",
      "root['NODES']['HOST2']['NICS'][1]['TRAFFIC']['tcp'][80]['inbound']: 1 -> 0\n",
      "root['NODES']['HOST2']['NICS'][1]['TRAFFIC']['tcp'][80]['outbound']: 1 -> 0\n",
      "root['NODES']['HOST3']['NICS'][1]['TRAFFIC']['tcp'][80]['inbound']: 0 -> 1\n",
      "root['NODES']['HOST3']['NICS'][1]['TRAFFIC']['tcp'][80]['outbound']: 0 -> 1\n",
      "root['NODES']['HOST3']['NICS'][1]['TRAFFIC']['icmp']['inbound']: 1 -> 0\n",
      "root['NODES']['HOST3']['NICS'][1]['TRAFFIC']['icmp']['outbound']: 1 -> 0\n",
      "root['LINKS'][1]['PROTOCOLS']['ALL']: 1 -> 0\n",
      "root['LINKS'][5]['PROTOCOLS']['ALL']: 1 -> 0\n",
      "root['LINKS'][7]['PROTOCOLS']['ALL']: 0 -> 1\n",
      "root['LINKS'][8]['PROTOCOLS']['ALL']: 0 -> 1\n",
      "root['LINKS'][9]['PROTOCOLS']['ALL']: 0 -> 1\n",
      "root['LINKS'][11]['PROTOCOLS']['ALL']: 0 -> 1\n",
      "root['LINKS'][20]['PROTOCOLS']['ALL']: 1 -> 0\n",
      "root['LINKS'][21]['PROTOCOLS']['ALL']: 1 -> 0\n",
      "root['LINKS'][22]['PROTOCOLS']['ALL']: 0 -> 1\n",
      "root['LINKS'][24]['PROTOCOLS']['ALL']: 0 -> 1\n",
      "root['LINKS'][26]['PROTOCOLS']['ALL']: 1 -> 0\n",
      "root['LINKS'][27]['PROTOCOLS']['ALL']: 1 -> 0\n",
      "root['LINKS'][33]['PROTOCOLS']['ALL']: 0 -> 1\n"
     ]
    }
   ],
   "source": [
    "propagate_obs_and_show(tap001, previous_obs=ST_DATA_ping, propagate_obs_impact=ST_DATA_recon, timestep=env.game.step_counter)"
   ]
  },
  {
   "cell_type": "code",
   "execution_count": 35,
   "metadata": {
    "execution": {
     "iopub.execute_input": "2025-03-24T09:55:01.275086Z",
     "iopub.status.busy": "2025-03-24T09:55:01.274594Z",
     "iopub.status.idle": "2025-03-24T09:55:01.466720Z",
     "shell.execute_reply": "2025-03-24T09:55:01.465998Z"
    }
   },
   "outputs": [],
   "source": [
    "for _ in range(5):\n",
    "    propagate_obs_impact, *_  = env.step(0)"
   ]
  },
  {
   "cell_type": "code",
   "execution_count": 36,
   "metadata": {
    "execution": {
     "iopub.execute_input": "2025-03-24T09:55:01.470221Z",
     "iopub.status.busy": "2025-03-24T09:55:01.469632Z",
     "iopub.status.idle": "2025-03-24T09:55:01.474344Z",
     "shell.execute_reply": "2025-03-24T09:55:01.473713Z"
    }
   },
   "outputs": [
    {
     "name": "stdout",
     "output_type": "stream",
     "text": [
      "+-----------------------------------------------------------------------------------------------+\n",
      "|                          TAP001 attacker's Current Network Knowledge                          |\n",
      "+--------------+-----------------+---------------+----------------------+-----------------------+\n",
      "| Target Found |   Target Port   |   Target IP   | Previous Scan Target | Previous Scan Results |\n",
      "+--------------+-----------------+---------------+----------------------+-----------------------+\n",
      "|     True     | PortStatus.OPEN | 192.168.220.3 |    192.168.220.3     |    ['192.168.20.2']   |\n",
      "+--------------+-----------------+---------------+----------------------+-----------------------+\n",
      "+---------------------------------------------------------------------------------------------------+\n",
      "|                              TAP001 attacker's Propagate Stage Status                             |\n",
      "+--------------------+----------------+----------------+------------------+-------------------------+\n",
      "| Last Scan Timestep | Last Scan Type | Scans Complete | Networks Scanned | Permitted Scan Attempts |\n",
      "+--------------------+----------------+----------------+------------------+-------------------------+\n",
      "|        [66]        |      Port      |       7        |        3         |            20           |\n",
      "+--------------------+----------------+----------------+------------------+-------------------------+\n"
     ]
    }
   ],
   "source": [
    "tap001._show_scan()"
   ]
  },
  {
   "cell_type": "code",
   "execution_count": 37,
   "metadata": {
    "execution": {
     "iopub.execute_input": "2025-03-24T09:55:01.477076Z",
     "iopub.status.busy": "2025-03-24T09:55:01.476580Z",
     "iopub.status.idle": "2025-03-24T09:55:01.480678Z",
     "shell.execute_reply": "2025-03-24T09:55:01.480122Z"
    }
   },
   "outputs": [
    {
     "name": "stdout",
     "output_type": "stream",
     "text": [
      "+-----------------------------+\n",
      "|    attacker Behaviour Log   |\n",
      "+-----------+-------+---------+\n",
      "| Time Step | Level | Message |\n",
      "+-----------+-------+---------+\n",
      "+-----------+-------+---------+\n"
     ]
    }
   ],
   "source": [
    "tap001.logger.show()"
   ]
  },
  {
   "cell_type": "markdown",
   "metadata": {},
   "source": [
    "### **Kill Chain** | COMMAND_AND_CONTROL\n",
    "|Index|Attack Stage|OBS Impact|Narrative|\n",
    "|-----|------------|----------|---------|\n",
    "|5|Command and Control| **Starting Host** HOST:NICS:NIC:TRAFFIC:PROTOCOL:PORT:* HOST:APPLICATIONS:APPLICATION:* |The malware establishes a connection to an external command and control (C&C) server, receiving instructions and possibly exfiltrating data.|\n",
    "\n",
    "\n",
    "<p align=\"center\">\n",
    "    <a href=\"./_package_data/uc7/uc7_tap001/uc7_tap001_c2.png\" target=\"_blank\">\n",
    "        <img src=\"./_package_data/uc7/uc7_tap001/uc7_tap001_c2.png\" alt=\"Image\" style=\"width:700px;\">\n",
    "    </a>  \n",
    "    \n",
    "</p>\n",
    "\n",
    "\n",
    "For further details please refer to the [Command-and-Control-E2E-Demonstration notebook](./Command-and-Control-E2E-Demonstration.ipynb).\n",
    "\n",
    "_Note: The referenced notebook above uses the UC2 scenario for demonstration purposes, however all the OBS impacts and C2 suite functionality is equally applicable to UC7._\n",
    "\n"
   ]
  },
  {
   "cell_type": "code",
   "execution_count": 38,
   "metadata": {
    "execution": {
     "iopub.execute_input": "2025-03-24T09:55:01.483253Z",
     "iopub.status.busy": "2025-03-24T09:55:01.482846Z",
     "iopub.status.idle": "2025-03-24T09:55:02.132202Z",
     "shell.execute_reply": "2025-03-24T09:55:02.131545Z"
    }
   },
   "outputs": [
    {
     "name": "stdout",
     "output_type": "stream",
     "text": [
      "Current Environment Step: 67\n",
      "Current Kill Chain Stage: COMMAND_AND_CONTROL\n",
      "Next Execution Step: 71\n",
      "Next Kill Chain Stage PAYLOAD\n"
     ]
    }
   ],
   "source": [
    "print(f\"Current Environment Step: {env.game.step_counter}\")\n",
    "print(f\"Current Kill Chain Stage: {tap001.current_kill_chain_stage.name}\")\n",
    "print(f\"Next Execution Step: {tap001.next_execution_timestep}\")\n",
    "print(f\"Next Kill Chain Stage {tap001.next_kill_chain_stage.name}\")\n",
    "while(tap001.current_kill_chain_stage == MobileMalwareKillChain.COMMAND_AND_CONTROL):\n",
    "    c_and_c_obs_impact, _, _, _, _ = env.step(0)"
   ]
  },
  {
   "cell_type": "code",
   "execution_count": 39,
   "metadata": {
    "execution": {
     "iopub.execute_input": "2025-03-24T09:55:02.135110Z",
     "iopub.status.busy": "2025-03-24T09:55:02.134845Z",
     "iopub.status.idle": "2025-03-24T09:55:02.161769Z",
     "shell.execute_reply": "2025-03-24T09:55:02.161044Z"
    }
   },
   "outputs": [
    {
     "name": "stdout",
     "output_type": "stream",
     "text": [
      "\n",
      "Observation space differences\n",
      "-----------------------------\n",
      "Step 82\n",
      "root['NODES']['HOST0']['APPLICATIONS'][2]['num_executions']: 1 -> 0\n",
      "root['NODES']['HOST0']['NICS'][1]['TRAFFIC']['tcp'][80]['inbound']: 0 -> 1\n",
      "root['NODES']['HOST0']['NICS'][1]['TRAFFIC']['tcp'][80]['outbound']: 0 -> 1\n",
      "root['NODES']['HOST0']['NICS'][1]['TRAFFIC']['tcp'][5432]['inbound']: 1 -> 0\n",
      "root['NODES']['HOST0']['NICS'][1]['TRAFFIC']['tcp'][5432]['outbound']: 1 -> 0\n",
      "root['NODES']['HOST1']['NICS'][1]['TRAFFIC']['tcp'][80]['inbound']: 1 -> 0\n",
      "root['NODES']['HOST1']['NICS'][1]['TRAFFIC']['tcp'][80]['outbound']: 1 -> 0\n",
      "root['LINKS'][6]['PROTOCOLS']['ALL']: 0 -> 1\n",
      "root['LINKS'][10]['PROTOCOLS']['ALL']: 1 -> 0\n",
      "root['LINKS'][20]['PROTOCOLS']['ALL']: 1 -> 0\n",
      "root['LINKS'][24]['PROTOCOLS']['ALL']: 0 -> 1\n",
      "root['LINKS'][25]['PROTOCOLS']['ALL']: 1 -> 0\n"
     ]
    }
   ],
   "source": [
    "display_obs_diffs(propagate_obs_impact, c_and_c_obs_impact,env.game.step_counter)"
   ]
  },
  {
   "cell_type": "code",
   "execution_count": 40,
   "metadata": {
    "execution": {
     "iopub.execute_input": "2025-03-24T09:55:02.164298Z",
     "iopub.status.busy": "2025-03-24T09:55:02.164090Z",
     "iopub.status.idle": "2025-03-24T09:55:02.168123Z",
     "shell.execute_reply": "2025-03-24T09:55:02.167587Z"
    }
   },
   "outputs": [
    {
     "name": "stdout",
     "output_type": "stream",
     "text": [
      "+-----------------------------+\n",
      "|    attacker Behaviour Log   |\n",
      "+-----------+-------+---------+\n",
      "| Time Step | Level | Message |\n",
      "+-----------+-------+---------+\n",
      "+-----------+-------+---------+\n"
     ]
    }
   ],
   "source": [
    "tap001.logger.show()"
   ]
  },
  {
   "cell_type": "markdown",
   "metadata": {},
   "source": [
    "### **Kill Chain** | PAYLOAD - Corruption & Exfiltration\n",
    "|Index|Attack Stage|OBS Impact|Narrative|\n",
    "|-----|------------|----------|---------|\n",
    "|6A|Corruption| **Target Host** HOST:FOLDERS:FOLDER:FILES:FILE:num_access HOST:num_file_creations  HOST:num_file_deletions  HOST:FOLDERS:FOLDER:FILES:FILE:health_status | The attacker configures the ransomware script to target the IP address of the discovered database, then it performs it's intended malicious activities, allowing it to corrupt the Database whilst leaving the database service operable|\n",
    "|6B|Exfiltration| **Starting Host** HOST:FOLDER:FILES:FILE HOST:NICS:NIC:TRAFFIC:PROTOCOL:PORT:* HOST:APPLICATIONS:APPLICATION:* | The attacker remotely logins into the target host and exfiltrates the database.db file onto the starting host which then relays this file back to the C2 Server.|\n",
    "\n",
    "\n",
    "<p align=\"center\">\n",
    "    <a href=\"./_package_data/uc7/uc7_tap001/uc7_tap001_payload.png\" target=\"_blank\">\n",
    "        <img src=\"./_package_data/uc7/uc7_tap001/uc7_tap001_payload.png\" alt=\"Image\" style=\"width:700px;\">\n",
    "    </a>  \n",
    "    \n",
    "</p>\n"
   ]
  },
  {
   "cell_type": "code",
   "execution_count": 41,
   "metadata": {
    "execution": {
     "iopub.execute_input": "2025-03-24T09:55:02.170650Z",
     "iopub.status.busy": "2025-03-24T09:55:02.170282Z",
     "iopub.status.idle": "2025-03-24T09:55:02.868089Z",
     "shell.execute_reply": "2025-03-24T09:55:02.867308Z"
    }
   },
   "outputs": [
    {
     "name": "stdout",
     "output_type": "stream",
     "text": [
      "Current Environment Step: 82\n",
      "Current Kill Chain Stage: PAYLOAD\n",
      "Next Execution Step: 86\n",
      "Next Kill Chain Stage SUCCEEDED\n"
     ]
    }
   ],
   "source": [
    "print(f\"Current Environment Step: {env.game.step_counter}\")\n",
    "print(f\"Current Kill Chain Stage: {tap001.current_kill_chain_stage.name}\")\n",
    "print(f\"Next Execution Step: {tap001.next_execution_timestep}\")\n",
    "print(f\"Next Kill Chain Stage {tap001.next_kill_chain_stage.name}\")\n",
    "while(tap001.current_kill_chain_stage == MobileMalwareKillChain.PAYLOAD):\n",
    "    payload_obs_impact, _, _, _, _ = env.step(0)"
   ]
  },
  {
   "cell_type": "code",
   "execution_count": 42,
   "metadata": {
    "execution": {
     "iopub.execute_input": "2025-03-24T09:55:02.871619Z",
     "iopub.status.busy": "2025-03-24T09:55:02.871167Z",
     "iopub.status.idle": "2025-03-24T09:55:02.899558Z",
     "shell.execute_reply": "2025-03-24T09:55:02.898938Z"
    }
   },
   "outputs": [
    {
     "name": "stdout",
     "output_type": "stream",
     "text": [
      "+----------------------------------------------------------------------------------+\n",
      "|                          ST_DATA-PRV-SRV-DB File System                          |\n",
      "+----------------------+---------+---------------+-----------------------+---------+\n",
      "| File Path            | Size    | Health status | Visible health status | Deleted |\n",
      "+----------------------+---------+---------------+-----------------------+---------+\n",
      "| database/database.db | 4.77 MB | CORRUPT       | NONE                  | False   |\n",
      "| root                 | 0 B     | GOOD          | NONE                  | False   |\n",
      "+----------------------+---------+---------------+-----------------------+---------+\n",
      "\n",
      "Observation space differences\n",
      "-----------------------------\n",
      "Step 97\n",
      "root['NODES']['HOST0']['APPLICATIONS'][1]['num_executions']: 0 -> 1\n",
      "root['NODES']['HOST0']['APPLICATIONS'][2]['num_executions']: 0 -> 1\n",
      "root['NODES']['HOST0']['NICS'][1]['TRAFFIC']['tcp'][5432]['inbound']: 0 -> 1\n",
      "root['NODES']['HOST0']['NICS'][1]['TRAFFIC']['tcp'][5432]['outbound']: 0 -> 1\n",
      "root['NODES']['HOST0']['NICS'][1]['NMNE']['outbound']: 0 -> 1\n",
      "root['NODES']['HOST2']['APPLICATIONS'][2]['num_executions']: 0 -> 1\n",
      "root['NODES']['HOST2']['NICS'][1]['TRAFFIC']['tcp'][5432]['inbound']: 0 -> 1\n",
      "root['NODES']['HOST2']['NICS'][1]['TRAFFIC']['tcp'][5432]['outbound']: 0 -> 1\n",
      "root['NODES']['HOST3']['FOLDERS'][1]['FILES'][1]['num_access']: 0 -> 1\n",
      "root['NODES']['HOST3']['NICS'][1]['NMNE']['inbound']: 0 -> 1\n",
      "root['NODES']['HOST3']['num_file_creations']: 0 -> 1\n",
      "root['NODES']['HOST3']['num_file_deletions']: 0 -> 1\n",
      "root['NODES']['HOST3']['users']['remote_sessions']: 0 -> 1\n",
      "root['LINKS'][24]['PROTOCOLS']['ALL']: 1 -> 0\n",
      "root['LINKS'][25]['PROTOCOLS']['ALL']: 0 -> 1\n"
     ]
    }
   ],
   "source": [
    "target_host.file_system.show(full=True)\n",
    "display_obs_diffs(c_and_c_obs_impact, payload_obs_impact, env.game.step_counter)"
   ]
  },
  {
   "cell_type": "code",
   "execution_count": 43,
   "metadata": {
    "execution": {
     "iopub.execute_input": "2025-03-24T09:55:02.902347Z",
     "iopub.status.busy": "2025-03-24T09:55:02.901877Z",
     "iopub.status.idle": "2025-03-24T09:55:02.906179Z",
     "shell.execute_reply": "2025-03-24T09:55:02.905596Z"
    }
   },
   "outputs": [
    {
     "name": "stdout",
     "output_type": "stream",
     "text": [
      "+-----------------------------+\n",
      "|    attacker Behaviour Log   |\n",
      "+-----------+-------+---------+\n",
      "| Time Step | Level | Message |\n",
      "+-----------+-------+---------+\n",
      "+-----------+-------+---------+\n"
     ]
    }
   ],
   "source": [
    "tap001.logger.show()"
   ]
  },
  {
   "cell_type": "markdown",
   "metadata": {},
   "source": [
    "We can use the blue agent's NODE_FILE_SCAN action to scan the database file:\n",
    "\n",
    "```yaml\n",
    "# ST_DATA-PRV-SRV-DB | node-file-scan | Scans the database.db file (health status)\n",
    "49:\n",
    "    action: node-file-scan\n",
    "    options:\n",
    "        node_name: ST_DATA-PRV-SRV-DB\n",
    "        folder_name: database\n",
    "        file_name: database.db\n",
    "```\n",
    "\n",
    "*You should notice a file `health_status` change to a value of 3*"
   ]
  },
  {
   "cell_type": "code",
   "execution_count": 44,
   "metadata": {
    "execution": {
     "iopub.execute_input": "2025-03-24T09:55:02.908632Z",
     "iopub.status.busy": "2025-03-24T09:55:02.908434Z",
     "iopub.status.idle": "2025-03-24T09:55:03.023522Z",
     "shell.execute_reply": "2025-03-24T09:55:03.022770Z"
    }
   },
   "outputs": [
    {
     "name": "stdout",
     "output_type": "stream",
     "text": [
      "\n",
      "Observation space differences\n",
      "-----------------------------\n",
      "Step 99\n",
      "root['NODES']['HOST0']['APPLICATIONS'][1]['num_executions']: 1 -> 0\n",
      "root['NODES']['HOST0']['APPLICATIONS'][2]['num_executions']: 1 -> 0\n",
      "root['NODES']['HOST0']['NICS'][1]['TRAFFIC']['tcp'][80]['inbound']: 1 -> 0\n",
      "root['NODES']['HOST0']['NICS'][1]['TRAFFIC']['tcp'][80]['outbound']: 1 -> 0\n",
      "root['NODES']['HOST0']['NICS'][1]['TRAFFIC']['tcp'][5432]['inbound']: 1 -> 0\n",
      "root['NODES']['HOST0']['NICS'][1]['TRAFFIC']['tcp'][5432]['outbound']: 1 -> 0\n",
      "root['NODES']['HOST0']['NICS'][1]['NMNE']['outbound']: 1 -> 0\n",
      "root['NODES']['HOST1']['APPLICATIONS'][2]['num_executions']: 0 -> 1\n",
      "root['NODES']['HOST1']['NICS'][1]['TRAFFIC']['tcp'][5432]['inbound']: 0 -> 1\n",
      "root['NODES']['HOST1']['NICS'][1]['TRAFFIC']['tcp'][5432]['outbound']: 0 -> 1\n",
      "root['NODES']['HOST2']['APPLICATIONS'][2]['num_executions']: 1 -> 0\n",
      "root['NODES']['HOST2']['NICS'][1]['TRAFFIC']['tcp'][5432]['inbound']: 1 -> 0\n",
      "root['NODES']['HOST2']['NICS'][1]['TRAFFIC']['tcp'][5432]['outbound']: 1 -> 0\n",
      "root['NODES']['HOST3']['FOLDERS'][1]['FILES'][1]['health_status']: 0 -> 3\n",
      "root['NODES']['HOST3']['NICS'][1]['NMNE']['inbound']: 1 -> 0\n",
      "root['NODES']['HOST3']['num_file_creations']: 1 -> 0\n",
      "root['NODES']['HOST3']['num_file_deletions']: 1 -> 0\n",
      "root['LINKS'][6]['PROTOCOLS']['ALL']: 1 -> 0\n",
      "root['LINKS'][24]['PROTOCOLS']['ALL']: 0 -> 1\n",
      "root['LINKS'][25]['PROTOCOLS']['ALL']: 1 -> 0\n"
     ]
    }
   ],
   "source": [
    "env.step(0)\n",
    "post_scan_payload_impact, _, _, _, _ = env.step(49) # \n",
    "display_obs_diffs(payload_obs_impact, post_scan_payload_impact, env.game.step_counter)"
   ]
  },
  {
   "cell_type": "code",
   "execution_count": 45,
   "metadata": {
    "execution": {
     "iopub.execute_input": "2025-03-24T09:55:03.026542Z",
     "iopub.status.busy": "2025-03-24T09:55:03.026138Z",
     "iopub.status.idle": "2025-03-24T09:55:03.030482Z",
     "shell.execute_reply": "2025-03-24T09:55:03.029850Z"
    }
   },
   "outputs": [
    {
     "name": "stdout",
     "output_type": "stream",
     "text": [
      "+----------------------------------------------------------------------------------+\n",
      "|                          ST_DATA-PRV-SRV-DB File System                          |\n",
      "+----------------------+---------+---------------+-----------------------+---------+\n",
      "| File Path            | Size    | Health status | Visible health status | Deleted |\n",
      "+----------------------+---------+---------------+-----------------------+---------+\n",
      "| database/database.db | 4.77 MB | CORRUPT       | CORRUPT               | False   |\n",
      "| root                 | 0 B     | GOOD          | NONE                  | False   |\n",
      "+----------------------+---------+---------------+-----------------------+---------+\n"
     ]
    }
   ],
   "source": [
    "target_host.file_system.show(full=True)"
   ]
  },
  {
   "cell_type": "markdown",
   "metadata": {},
   "source": [
    "We can also see that the `database.db` file was successfully exfiltrated."
   ]
  },
  {
   "cell_type": "code",
   "execution_count": 46,
   "metadata": {
    "execution": {
     "iopub.execute_input": "2025-03-24T09:55:03.033246Z",
     "iopub.status.busy": "2025-03-24T09:55:03.032801Z",
     "iopub.status.idle": "2025-03-24T09:55:03.037856Z",
     "shell.execute_reply": "2025-03-24T09:55:03.037233Z"
    }
   },
   "outputs": [
    {
     "name": "stdout",
     "output_type": "stream",
     "text": [
      "+---------------------------------------------------------------------------------------------+\n",
      "|                                ST_PROJ-A-PRV-PC-1 File System                               |\n",
      "+---------------------------------+---------+---------------+-----------------------+---------+\n",
      "| File Path                       | Size    | Health status | Visible health status | Deleted |\n",
      "+---------------------------------+---------+---------------+-----------------------+---------+\n",
      "| downloads/malware_dropper.ps1   | 0 B     | GOOD          | NONE                  | False   |\n",
      "| exfiltration_folder/database.db | 4.77 MB | GOOD          | NONE                  | False   |\n",
      "| root                            | 0 B     | GOOD          | NONE                  | False   |\n",
      "+---------------------------------+---------+---------------+-----------------------+---------+\n",
      "+---------------------------------------------------------------------------------------------+\n",
      "|                                 ISP-PUB-SRV-DNS File System                                 |\n",
      "+---------------------------------+---------+---------------+-----------------------+---------+\n",
      "| File Path                       | Size    | Health status | Visible health status | Deleted |\n",
      "+---------------------------------+---------+---------------+-----------------------+---------+\n",
      "| exfiltration_folder/database.db | 4.77 MB | GOOD          | NONE                  | False   |\n",
      "| root                            | 0 B     | GOOD          | NONE                  | False   |\n",
      "+---------------------------------+---------+---------------+-----------------------+---------+\n"
     ]
    }
   ],
   "source": [
    "c2_server = env.game.simulation.network.get_node_by_hostname(tap001.c2_settings['c2_server'])\n",
    "starting_host.file_system.show(full=True)\n",
    "c2_server.file_system.show(full=True)"
   ]
  },
  {
   "cell_type": "code",
   "execution_count": 47,
   "metadata": {
    "execution": {
     "iopub.execute_input": "2025-03-24T09:55:03.040462Z",
     "iopub.status.busy": "2025-03-24T09:55:03.040080Z",
     "iopub.status.idle": "2025-03-24T09:55:03.044027Z",
     "shell.execute_reply": "2025-03-24T09:55:03.043444Z"
    }
   },
   "outputs": [
    {
     "name": "stdout",
     "output_type": "stream",
     "text": [
      "+-----------------------------+\n",
      "|    attacker Behaviour Log   |\n",
      "+-----------+-------+---------+\n",
      "| Time Step | Level | Message |\n",
      "+-----------+-------+---------+\n",
      "+-----------+-------+---------+\n"
     ]
    }
   ],
   "source": [
    "tap001.logger.show()"
   ]
  },
  {
   "cell_type": "markdown",
   "metadata": {},
   "source": [
    "### **Attack Configurations** "
   ]
  },
  {
   "cell_type": "markdown",
   "metadata": {},
   "source": [
    "All TAP's inherit the same general configurability shown in the following table:\n",
    "\n",
    "<details> <summary> TAP Agent Config Options </summary>\n",
    "\n",
    "|Option Field|Meaning|Expected Type|Required/Optional|\n",
    "|------------|-------|-------------|-----------------|\n",
    "|start_step|The initial kill chain starting step.|Int|_Required_|\n",
    "|frequency|The frequency of each kill chains starting steps.|Int|_Required_|\n",
    "|variance| The timestep variance between frequency|Int|_Required_|\n",
    "|repeat_kill_chain|Indicates whether the attack is repeated throughout the episode.|Bool|_Required_|\n",
    "|repeat_kill_chain_stages|Indicates if the kill_chain stage should reset upon failure or retry.|Bool|_Required_|\n",
    "|default_target_ip | The IP address of the target host |Str|_Required_|\n",
    "|default_target_node|The Target Host|Str|_Required_|\n",
    "|target_nodes|A list of Potential Target Hosts (database services) - Selected on per episode basis.|List|_Optional_|\n",
    "|default_starting_node|The Starting Host|Str|_Required_|\n",
    "|starting_nodes|A list of Potential Targets|List|_Optional_|\n",
    "|kill_chain|TAP001 Specific Config (_See the next notebook section_)|Dict|_Required_|\n",
    "|description|Free Text|Str|_Optional_|\n",
    "\n",
    "</details>"
   ]
  },
  {
   "cell_type": "markdown",
   "metadata": {},
   "source": [
    "```yaml\n",
    "\n",
    "  - ref: attacker\n",
    "    team: RED\n",
    "    type: TAP001\n",
    "    agent_settings:\n",
    "      start_step: 1\n",
    "      frequency: 3\n",
    "      variance: 0\n",
    "      repeat_kill_chain: false\n",
    "      repeat_kill_chain_stages: true\n",
    "      default_target_ip: *ST_SRV_DB_IP\n",
    "      default_starting_node: \"ST_PROJ-A-PRV-PC-1\"\n",
    "      # starting_nodes: [\"ST_PROJ-A-PRV-PC-1\", \"ST_PROJ-B-PRV-PC-2\", \"ST_PROJ-C-PRV-PC-3\"]\n",
    "      kill_chain:\n",
    "        ... # Next notebook section will cover this configuration option\n",
    "\n",
    "```"
   ]
  },
  {
   "cell_type": "markdown",
   "metadata": {},
   "source": [
    "This notebook assumes the reader is already familiar with the below `agent_settings` and won't provide any code snippet examples. \n",
    "\n",
    "|Option Field|Meaning|Expected Type|Required/Optional|\n",
    "|------------|-------|-------------|-----------------|\n",
    "|start_step|The initial kill chain starting step.|Int|_Required_|\n",
    "|frequency|The frequency of each kill chains starting steps.|Int|_Required_|\n",
    "|variance| The timestep variance between frequency|Int|_Required_|\n",
    "|repeat_kill_chain|Indicates whether the attack is repeated throughout the episode.|Bool|_Required_|\n",
    "|repeat_kill_chain_stages|Indicates if the kill_chain stage should reset upon failure or retry.|Bool|_Required_|\n",
    "|default_target_node|The Target Host|Str|_Required_|\n",
    "|starting_nodes|A list of Potential Targets|List|_Optional_|\n",
    "|kill_chain|_See the next notebook section_|Dict|_Required_||\n",
    "\n",
    "\n",
    "If you're unfamiliar with the above then refer to the equivalent `agent_settings` section within the [TAP003 Kill Chain E2E Demonstration notebook](./TAP003-Kill-Chain-E2E.ipynb). "
   ]
  },
  {
   "cell_type": "code",
   "execution_count": 48,
   "metadata": {
    "execution": {
     "iopub.execute_input": "2025-03-24T09:55:03.047048Z",
     "iopub.status.busy": "2025-03-24T09:55:03.046639Z",
     "iopub.status.idle": "2025-03-24T09:55:03.050390Z",
     "shell.execute_reply": "2025-03-24T09:55:03.049711Z"
    }
   },
   "outputs": [
    {
     "name": "stdout",
     "output_type": "stream",
     "text": [
      "start_step : 1\n",
      "frequency : 5\n",
      "variance : 0\n",
      "repeat_kill_chain : False\n",
      "repeat_kill_chain_stages : True\n",
      "starting_nodes : None\n",
      "default_starting_node : ST_PROJ-A-PRV-PC-1\n",
      "target_ips : []\n",
      "default_target_ip : 192.168.220.3\n"
     ]
    }
   ],
   "source": [
    "tap001 = env.game.agents.get(\"attacker\")\n",
    "for key,value in tap001.config.agent_settings:\n",
    "    if key == 'kill_chain':\n",
    "        pass\n",
    "    else:\n",
    "        print(f\"{key} : {value}\")"
   ]
  },
  {
   "cell_type": "markdown",
   "metadata": {},
   "source": [
    "### **Attack Configurations** | Kill Chain Settings\n",
    "\n",
    "Additionally, TAP001's Mobile Malware Kill Chain comes with some extra configuration options. \n",
    "\n",
    "These options can be configured to customise the behaviour of certain stages. \n",
    "\n",
    "The YAML snippet below is the current default configuration of the mobile malware kill chain:"
   ]
  },
  {
   "cell_type": "markdown",
   "metadata": {},
   "source": [
    "``` YAML\n",
    "  - ref: attacker\n",
    "    team: RED\n",
    "    type: TAP001\n",
    "    agent_settings:\n",
    "      kill_chain:\n",
    "        ACTIVATE:\n",
    "          probability: 1\n",
    "        PROPAGATE:\n",
    "          probability: 1\n",
    "          scan_attempts: 20\n",
    "          repeat_scan: false\n",
    "          network_addresses:\n",
    "            - 192.168.230.0/29 # ST Project A\n",
    "            - 192.168.10.0/26  # Remote Site\n",
    "            - 192.168.20.0/30  # Remote DMZ\n",
    "            # - 192.168.240.0/29 # ST Project B\n",
    "            # - 192.168.250.0/29 # ST Project C\n",
    "            - 192.168.220.0/29 # ST Data (Contains Target)\n",
    "        COMMAND_AND_CONTROL:\n",
    "          probability: 1\n",
    "          keep_alive_frequency: 5\n",
    "          masquerade_port: HTTP\n",
    "          masquerade_protocol: TCP\n",
    "          c2_server_name: ISP-PUB-SRV-DNS\n",
    "          c2_server_ip: *PUBLIC_DNS_IP\n",
    "        PAYLOAD:\n",
    "          probability: 1\n",
    "          exfiltrate: true\n",
    "          corrupt: true\n",
    "          exfiltration_folder_name:\n",
    "          target_username: admin\n",
    "          target_password: admin\n",
    "          continue_on_failed_exfil: True\n",
    "```"
   ]
  },
  {
   "cell_type": "markdown",
   "metadata": {},
   "source": [
    "#### **Attack Configurations** | Mobile Malware Kill Chain | General Settings"
   ]
  },
  {
   "cell_type": "markdown",
   "metadata": {},
   "source": [
    "TAP001's ``ACTIVATE``, ``PROPAGATE``, ``COMMAND_AND_CONTROL`` and ``PAYLOAD`` stages's probability of success can be configured.\n",
    "\n",
    "Similarly to other TAPs, the argument given to probability is the chance of action performing that stage of kill chain successfully. \n",
    "The argument given is expected to be between **0** - **1**.  \n",
    "\n",
    "_(With '1' equalling 100% chance of 'success')_\n",
    "\n",
    "It's important to note that the probabilities of success are calculated within the game layer meaning that if an TAP fails because of probability then the TAP will perform a ``DONOTHING`` action for that step. "
   ]
  },
  {
   "cell_type": "markdown",
   "metadata": {},
   "source": [
    "```yaml\n",
    "        kill_chain:\n",
    "          ACTIVATE:\n",
    "            probability: 1\n",
    "          PROPAGATE:\n",
    "            probability: 1\n",
    "          COMMAND_AND_CONTROL:\n",
    "            probability: 1\n",
    "          PAYLOAD:\n",
    "            probability: 1\n",
    "```"
   ]
  },
  {
   "cell_type": "markdown",
   "metadata": {},
   "source": [
    "#### **Attack Configurations** | Mobile Malware Kill Chain | Propagate Stage\n",
    "\n",
    "TAP001's propagate step leverages the NMAP application to scan the network. This kill chain stage is a considerably more complex than the other stages and thus has more configuration options.\n",
    "\n",
    "<details> <summary> Propagate Configuration Settings </summary>\n",
    "\n",
    "|Option Field |Meaning|Expected Type|Required/Optional|\n",
    "|------------|-------|-------------|-----------------|\n",
    "|probability|Action Probability - This is only calculated on the initial scan.|int|_Required_|\n",
    "|network_addresses|The network-addresses that are scanned during the propagate step. Scanned in the order they are defined.|list[str]|_Required_|\n",
    "|scan_attempts|The amount of permitted scan attempts.|int|_Required_|\n",
    "|repeat_scan|Should the scan repeat if the target is not found within the given network address|bool|_optional_|\n",
    "\n",
    "</details> "
   ]
  },
  {
   "cell_type": "markdown",
   "metadata": {},
   "source": [
    "**Probability**\n",
    "\n",
    "***\n",
    "\n",
    "|Option Field |Meaning|Expected Type|Required/Optional|\n",
    "|------------|-------|-------------|-----------------|\n",
    "|probability|Action Probability |Int|_Required_|\n",
    "\n",
    "Similarly, to every other stage, probability is the chance of success of TAP001 has to successfully perform the Propagate Stage.\n",
    "\n",
    "However, it's important to note that the **probability of success is only calculated once**. \n",
    "\n",
    "After the first scan is performed, the TAP agent will perform the rest of the stage without trialing probability."
   ]
  },
  {
   "cell_type": "markdown",
   "metadata": {},
   "source": [
    "**Network Addresses**\n",
    "\n",
    "***\n",
    "\n",
    "|Option Field |Meaning|Expected Type|Required/Optional|\n",
    "|------------|-------|-------------|-----------------|\n",
    "|network_addresses|The network-addresses that are scanned during the propagate step. Scanned in the order they are defined.|list[str]|_Required_|\n",
    "\n",
    "At present, TAPs cannot probe the simulation for routing information.\n",
    "\n",
    "Therefore, to scan multiple networks, the ``PROPAGATE`` stage must be provided a list of each network address.\n",
    "\n",
    "These network's are scanned in sequential order.\n",
    "\n",
    "For example; this notebook is configured with the following ``PROPAGATE`` network_address setting.\n",
    "\n",
    "| Network Address | Use Case 7 Subnet Name  |\n",
    "|-----------------|-------------------------|\n",
    "| 192.168.10.0/26  | REMOTE-SITE            |\n",
    "| 192.168.20.0/30  | REMOTE-DMZ             |\n",
    "| 192.168.220.0/29 | SOME_TECH_DATA         |\n",
    "\n",
    "\n",
    "Which when represented in the yaml config is as follows:\n",
    "\n",
    "```yaml\n",
    "      kill_chain:\n",
    "        PROPAGATE:\n",
    "          probability: 1\n",
    "          scan_attempts: 20\n",
    "          repeat_scan: false\n",
    "          network_addresses:\n",
    "            - 192.168.230.0/29 # ST Project A\n",
    "            - 192.168.10.0/26  # Remote Site\n",
    "            - 192.168.20.0/30  # Remote DMZ\n",
    "            # - 192.168.240.0/29 # ST Project B\n",
    "            # - 192.168.250.0/29 # ST Project C\n",
    "            - 192.168.220.0/29 # ST Data (Contains Target)\n",
    "```\n",
    "Which is loaded into the TAP001 agent as the following list:\n",
    "```Python\n",
    "[\"192.168.230.0/29\", \"192.168.10.0/26\", \"192.168.20.0/30\", \"192.168.220.0/29\"]\n",
    "```\n",
    "\n",
    "As PrimAITE expands and TAP agents are provided more ways of probing the simulation, then the ```PROPAGATE``` stage will be able to perform independently thus no longer requiring the network_address configuration option. "
   ]
  },
  {
   "cell_type": "markdown",
   "metadata": {},
   "source": [
    "**Scan Attempts**\n",
    "\n",
    "***\n",
    "|Option Field |Meaning|Expected Type|Required/Optional|\n",
    "|------------|-------|-------------|-----------------|\n",
    "|scan_attempts|The amount of permitted scan attempts.|int|_Required_|\n",
    "\n",
    "Simply, the ``scan_attempts`` configuration option indicates how many SCAN actions ``PROPAGATE`` stage is permitted to perform before the kill chain is considered to have failed. \n",
    "\n",
    "The ``scan_attempts`` option should mainly be kept higher than the length of the list provided in the previous ``network_address`` option.\n",
    "\n",
    "Currently, this setting is mainly used in conjunction with next setting: ```repeat_scan```.\n"
   ]
  },
  {
   "cell_type": "markdown",
   "metadata": {},
   "source": [
    "**Repeat Scan**\n",
    "\n",
    "***\n",
    "|Option Field |Meaning|Expected Type|Required/Optional|\n",
    "|------------|-------|-------------|-----------------|\n",
    "|repeat_scan|Should the scan repeat if the target is not found within the given network address|bool|_optional_|\n",
    "\n",
    "This boolean flag controls whether the ```PROPAGATE``` stage should repeat if the target is not found within the given ```network_addresses```.\n",
    "\n",
    "This setting used in conjunction with the ```permitted_scan``` option allows the Red Agent to continue scanning even if the target is not found. \n",
    "\n",
    "The network addresses will be selected at random after the first sequential scan(s) of the given ```network_addresses``` for further domain randomisation. "
   ]
  },
  {
   "cell_type": "code",
   "execution_count": 49,
   "metadata": {
    "execution": {
     "iopub.execute_input": "2025-03-24T09:55:03.054690Z",
     "iopub.status.busy": "2025-03-24T09:55:03.054259Z",
     "iopub.status.idle": "2025-03-24T09:55:45.661609Z",
     "shell.execute_reply": "2025-03-24T09:55:45.661022Z"
    }
   },
   "outputs": [
    {
     "name": "stderr",
     "output_type": "stream",
     "text": [
      "2025-03-24 09:55:03,494: PrimaiteGymEnv RNG seed = None\n"
     ]
    },
    {
     "name": "stderr",
     "output_type": "stream",
     "text": [
      "2025-03-24 09:55:03,496: Resetting environment, episode 0, avg. reward: 0.0\n"
     ]
    }
   ],
   "source": [
    "# Removing the target network address. (Thus the target will never be found)\n",
    "network_addresses = [\"192.168.10.0/26\", \"192.168.20.0/30\"]\n",
    "\n",
    "with open(_EXAMPLE_CFG/\"uc7_config.yaml\", mode=\"r\") as f:\n",
    "    cfg = yaml.safe_load(f)\n",
    "    cfg['io_settings']['save_sys_logs'] = True # Saving syslogs\n",
    "    cfg['agents'][32]['agent_settings']['repeat_kill_chain_stages'] = True\n",
    "    cfg['agents'][32]['agent_settings']['kill_chain']['PROPAGATE']['network_addresses'] = network_addresses\n",
    "    cfg['agents'][32]['agent_settings']['kill_chain']['PROPAGATE']['probability'] = 1\n",
    "    cfg['agents'][32]['agent_settings']['kill_chain']['PROPAGATE']['scan_attempts'] = 30\n",
    "    cfg['agents'][32]['agent_settings']['kill_chain']['PROPAGATE']['repeat_scan'] = True\n",
    "env = PrimaiteGymEnv(env_config = cfg)\n",
    "env.reset()\n",
    "for _ in range (256):\n",
    "    env.step(0)"
   ]
  },
  {
   "cell_type": "markdown",
   "metadata": {},
   "source": [
    "***\n",
    "\n",
    "<sup>[1]</sup> _PrimAITE does not actually enforce agent type (Red/Green/Blue) specific actions_\n",
    "\n",
    "_However, some actions such as `node-application-execute` and `node-nmap-network-service-recon` require an understanding of the simulation that is beyond the blue agent's current observation and thus are not suitable for use by reinforcement algorithms._\n",
    "\n",
    "_These actions are usually only leveraged by Green or Red agents; hence why they are commonly referenced as such._\n",
    "\n",
    "***"
   ]
  },
  {
   "cell_type": "markdown",
   "metadata": {},
   "source": [
    "#### **Attack Configurations** | Mobile Malware Kill Chain | Command and Control Stage\n",
    "\n",
    "TAP001's Command and Control stage leverages the `c2-beacon` which has it's own set of configuration options. In the case of TAP001 some of these settings are already pre-defined based on other settings such as ``target_node``. The table below details the currently available options.\n",
    "\n",
    "<details> <summary> Command and Control Configuration Settings </summary>\n",
    "\n",
    "|Option Field         | Meaning                                                                            |Expected Type  |Required/Optional|\n",
    "|---------------------|------------------------------------------------------------------------------------|---------------|-----------------|\n",
    "|probability          | Action Probability - This is only calculated once at this stage.                   |Int            | _Required_      |\n",
    "|c2_server            | What host should the C2 Beacon attempt to connect to as the chosen C2 Server       |Str            | _Required_      |\n",
    "|keep_alive_frequency | How often should the C2 Beacon confirm its connection in timesteps. Defaults to 5  |Int            | _Optional_      |\n",
    "|masquerade_port      | What port should the C2 traffic use? Defaults to TCP.                              |Str            | _Optional_      |\n",
    "|masquerade_protocol  | What protocol should the C2 traffic masquerade as? Defaults to HTTP.               |Str            | _Optional_      |\n",
    "\n",
    "</details> \n",
    "\n",
    "For further information around the configuration of the `c2-beacon` please refer to the [Command-&-Control-E2E-Demonstration notebook](./Command-and-Control-E2E-Demonstration.ipynb)'s last section on configurability."
   ]
  },
  {
   "cell_type": "code",
   "execution_count": 50,
   "metadata": {
    "execution": {
     "iopub.execute_input": "2025-03-24T09:55:45.664956Z",
     "iopub.status.busy": "2025-03-24T09:55:45.664490Z",
     "iopub.status.idle": "2025-03-24T09:55:54.750755Z",
     "shell.execute_reply": "2025-03-24T09:55:54.750068Z"
    }
   },
   "outputs": [
    {
     "name": "stderr",
     "output_type": "stream",
     "text": [
      "2025-03-24 09:55:46,030: PrimaiteGymEnv RNG seed = None\n"
     ]
    },
    {
     "name": "stderr",
     "output_type": "stream",
     "text": [
      "2025-03-24 09:55:46,032: Resetting environment, episode 0, avg. reward: 0.0\n"
     ]
    }
   ],
   "source": [
    "with open(_EXAMPLE_CFG/\"uc7_config.yaml\", mode=\"r\") as f:\n",
    "    cfg = yaml.safe_load(f)\n",
    "    # Adding the C2 Server to a different node (REM-PUB-PC-1)\n",
    "    cfg['simulation']['network']['nodes'][10].update(\n",
    "        {\"applications\": [\n",
    "            {\"type\": \"database-client\", \"options\":{\"db_server_ip\":\"192.168.220.3\"}},\n",
    "            {\"type\": \"web-browser\", \"options\":{\"target_url\": \"http://some_tech.com\"}},\n",
    "            {\"type\": \"c2-server\", \"options\":{\"listen_on_ports\":[21]}}]\n",
    "        })\n",
    "\n",
    "    # Configuring the C2 stage to use the REM-PUB-PC-1 as it's C2 Server and to use a different masquerade port.\n",
    "    cfg['agents'][32]['agent_settings']['kill_chain']['COMMAND_AND_CONTROL'][\"c2_server_name\"] = \"REM-PUB-PC-1\"\n",
    "    cfg['agents'][32]['agent_settings']['kill_chain']['COMMAND_AND_CONTROL'][\"c2_server_ip\"] = \"192.168.20.2\"\n",
    "    cfg['agents'][32]['agent_settings']['kill_chain']['COMMAND_AND_CONTROL'][\"keep_alive_frequency\"] = 3\n",
    "    cfg['agents'][32]['agent_settings']['kill_chain']['COMMAND_AND_CONTROL'][\"masquerade_port\"] = \"FTP\"\n",
    "    cfg['agents'][32]['agent_settings']['kill_chain']['COMMAND_AND_CONTROL'][\"masquerade_protocol\"] = \"TCP\"\n",
    "env = PrimaiteGymEnv(env_config = cfg)\n",
    "env.reset()\n",
    "# TAP001 requires around 110 timesteps using default TAP settings.\n",
    "for _ in range(110):\n",
    "    env.step(0)"
   ]
  },
  {
   "cell_type": "markdown",
   "metadata": {},
   "source": [
    "The code cells below use .show() methods to show that the configuration options have successfully altered the C2's suite configuration. For example the `c2-beacon`'s remote connection is now ``REM-PUB-PC-1``'s ip address which is ``192.168.20.2``."
   ]
  },
  {
   "cell_type": "code",
   "execution_count": 51,
   "metadata": {
    "execution": {
     "iopub.execute_input": "2025-03-24T09:55:54.753993Z",
     "iopub.status.busy": "2025-03-24T09:55:54.753528Z",
     "iopub.status.idle": "2025-03-24T09:55:54.758057Z",
     "shell.execute_reply": "2025-03-24T09:55:54.757395Z"
    }
   },
   "outputs": [
    {
     "name": "stdout",
     "output_type": "stream",
     "text": [
      "+----------------------------------------------------------------------------------------------------------------------------------------------------+\n",
      "|                                                              c2-beacon Running Status                                                              |\n",
      "+----------------------+----------------------+-----------------------+----------------------+-----------------------------+-------------------------+\n",
      "| C2 Connection Active | C2 Remote Connection | Keep Alive Inactivity | Keep Alive Frequency | Current Masquerade Protocol | Current Masquerade Port |\n",
      "+----------------------+----------------------+-----------------------+----------------------+-----------------------------+-------------------------+\n",
      "| True                 | 192.168.20.2         | 2                     | 3                    | tcp                         | 21                      |\n",
      "+----------------------+----------------------+-----------------------+----------------------+-----------------------------+-------------------------+\n"
     ]
    }
   ],
   "source": [
    "starting_host = env.game.simulation.network.get_node_by_hostname('ST_PROJ-A-PRV-PC-1')\n",
    "c2_beacon = starting_host.software_manager.software[\"c2-beacon\"]\n",
    "c2_beacon.show()"
   ]
  },
  {
   "cell_type": "code",
   "execution_count": 52,
   "metadata": {
    "execution": {
     "iopub.execute_input": "2025-03-24T09:55:54.760556Z",
     "iopub.status.busy": "2025-03-24T09:55:54.760189Z",
     "iopub.status.idle": "2025-03-24T09:55:54.764377Z",
     "shell.execute_reply": "2025-03-24T09:55:54.763771Z"
    }
   },
   "outputs": [
    {
     "name": "stdout",
     "output_type": "stream",
     "text": [
      "+-----------------------------------------------------------------------------------------------------+\n",
      "|                                       c2-server Running Status                                      |\n",
      "+----------------------+----------------------+-----------------------------+-------------------------+\n",
      "| C2 Connection Active | C2 Remote Connection | Current Masquerade Protocol | Current Masquerade Port |\n",
      "+----------------------+----------------------+-----------------------------+-------------------------+\n",
      "| True                 | 192.168.230.2        | tcp                         | 21                      |\n",
      "+----------------------+----------------------+-----------------------------+-------------------------+\n"
     ]
    }
   ],
   "source": [
    "c2_server_host = env.game.simulation.network.get_node_by_hostname('REM-PUB-PC-1')\n",
    "c2_server = c2_server_host.software_manager.software[\"c2-server\"]\n",
    "c2_server.show()"
   ]
  },
  {
   "cell_type": "markdown",
   "metadata": {},
   "source": [
    "#### **Attack Configurations** | Mobile Malware Kill Chain | Payload Stage\n",
    "\n",
    "<details> <summary> Payload Settings </summary>\n",
    "\n",
    "|Option Field         | Meaning                                                                            |Expected Type  |Required/Optional|\n",
    "|---------------------|------------------------------------------------------------------------------------|---------------|-----------------|\n",
    "|probability          | Action Probability - This is only calculated once at this stage.                   |Int            | _Required_      |\n",
    "|corrupt              | Should TAP001 launch the ransomware script against the target database?            |Boolean        | _Required_      |\n",
    "|exfiltrate           | Should TAP001 exfiltrate the target database.db file?                              |Boolean        | _Required_      |\n",
    "\n",
    "</details>"
   ]
  },
  {
   "cell_type": "markdown",
   "metadata": {},
   "source": [
    "**Probability**\n",
    "\n",
    "***\n",
    "\n",
    "|Option Field         | Meaning                                                                            |Expected Type  |Required/Optional|\n",
    "|---------------------|------------------------------------------------------------------------------------|---------------|-----------------|\n",
    "|probability          | Action Probability - This is only calculated once at this stage.                   |Int            | _Required_      |\n",
    "\n",
    "Similarly, to every other stage, probability is the chance of success of TAP001 has to successfully perform the Payload Stage.\n",
    "\n",
    "However, it's important to note that the **probability of success is only calculated once**. \n",
    "\n",
    "After the agent is successful once then the TAP agent will perform the rest of the stage without trialing any further."
   ]
  },
  {
   "cell_type": "markdown",
   "metadata": {},
   "source": [
    "**Corrupt**\n",
    "\n",
    "***\n",
    "\n",
    "|Option Field         | Meaning                                                                            |Expected Type  |Required/Optional|\n",
    "|---------------------|------------------------------------------------------------------------------------|---------------|-----------------|\n",
    "|corrupt              | Should TAP001 launch the ransomware script against the target database?            |Boolean        | _Required_      |\n",
    "\n",
    "This option is a boolean value which indicates if TAP001 should launch the ransomware script against the target database. \n",
    "\n",
    "By default this is enabled but if users wish to disable the ransomware attack for training purposes then this value can be set to ``False`` which will prevent the installed ``RansomwareScript`` from launching at the final step.\n",
    "\n"
   ]
  },
  {
   "cell_type": "markdown",
   "metadata": {},
   "source": [
    "**Exfiltrate**\n",
    "\n",
    "***\n",
    "\n",
    "|Option Field         | Meaning                                                                            |Expected Type  |Required/Optional|\n",
    "|---------------------|------------------------------------------------------------------------------------|---------------|-----------------|\n",
    "|exfiltrate           | Should TAP001 exfiltrate the target database.db file?                              |Boolean        | _Required_      |\n",
    "\n",
    "\n",
    "Similar to ``corrupt``, this option is a boolean value which indicates if TAP001 should attempt to exfiltrate the `database.db` file.\n",
    "\n",
    "By default this is enabled but if users wish to disable the exfiltration for training purposes then this value can be set to ``False`` which will prevent the TAP001 agent from attempting to exfiltrate the database.db file."
   ]
  },
  {
   "cell_type": "markdown",
   "metadata": {},
   "source": [
    "_If both ``exfiltrate`` and ``corrupt`` options are enabled then the TAP001 agent will exfiltrate the database.db and then launch the ``ransomware-script`` against the target._"
   ]
  },
  {
   "cell_type": "markdown",
   "metadata": {},
   "source": [
    "_yaml config example_\n",
    "\n",
    "```yaml\n",
    "      kill_chain:\n",
    "        PAYLOAD:\n",
    "          probability: 1\n",
    "          exfiltrate: true\n",
    "          corrupt: true\n",
    "          exfiltration_folder_name:\n",
    "          target_username: admin\n",
    "          target_password: admin\n",
    "          continue_on_failed_exfil: True\n",
    "```"
   ]
  },
  {
   "cell_type": "markdown",
   "metadata": {},
   "source": [
    "The following code cells demonstrate how ``corrupt`` and ``exfiltrate`` can be enabled/disabled and their effects on the environment. After each example the file systems of the target and starting hosts are displayed. If ``corrupt`` is enabled then the target database file will be encrypted and if the ``exfiltrate`` option is enabled then the target database.db will be present within the starting host's file system."
   ]
  },
  {
   "cell_type": "code",
   "execution_count": 53,
   "metadata": {
    "execution": {
     "iopub.execute_input": "2025-03-24T09:55:54.767442Z",
     "iopub.status.busy": "2025-03-24T09:55:54.767230Z",
     "iopub.status.idle": "2025-03-24T09:56:04.214822Z",
     "shell.execute_reply": "2025-03-24T09:56:04.214046Z"
    }
   },
   "outputs": [
    {
     "name": "stderr",
     "output_type": "stream",
     "text": [
      "2025-03-24 09:55:55,422: PrimaiteGymEnv RNG seed = None\n"
     ]
    },
    {
     "name": "stderr",
     "output_type": "stream",
     "text": [
      "2025-03-24 09:55:55,423: Resetting environment, episode 0, avg. reward: 0.0\n"
     ]
    }
   ],
   "source": [
    "with open(_EXAMPLE_CFG/\"uc7_config.yaml\", mode=\"r\") as f:\n",
    "    cfg = yaml.safe_load(f)\n",
    "    cfg['agents'][32]['agent_settings']['kill_chain']['PAYLOAD'][\"corrupt\"] = True\n",
    "    cfg['agents'][32]['agent_settings']['kill_chain']['PAYLOAD'][\"exfiltrate\"] = False\n",
    "env = PrimaiteGymEnv(env_config = cfg)\n",
    "env.reset()\n",
    "for _ in range(110):\n",
    "    env.step(0)"
   ]
  },
  {
   "cell_type": "code",
   "execution_count": 54,
   "metadata": {
    "execution": {
     "iopub.execute_input": "2025-03-24T09:56:04.218235Z",
     "iopub.status.busy": "2025-03-24T09:56:04.217978Z",
     "iopub.status.idle": "2025-03-24T09:56:04.223308Z",
     "shell.execute_reply": "2025-03-24T09:56:04.222647Z"
    }
   },
   "outputs": [
    {
     "name": "stdout",
     "output_type": "stream",
     "text": [
      "+----------------------------------------------------------------------------------+\n",
      "|                          ST_DATA-PRV-SRV-DB File System                          |\n",
      "+----------------------+---------+---------------+-----------------------+---------+\n",
      "| File Path            | Size    | Health status | Visible health status | Deleted |\n",
      "+----------------------+---------+---------------+-----------------------+---------+\n",
      "| database/database.db | 4.77 MB | CORRUPT       | NONE                  | False   |\n",
      "| root                 | 0 B     | GOOD          | NONE                  | False   |\n",
      "+----------------------+---------+---------------+-----------------------+---------+\n",
      "+----------------------------------------------------------------------------------------+\n",
      "|                             ST_PROJ-A-PRV-PC-1 File System                             |\n",
      "+-------------------------------+------+---------------+-----------------------+---------+\n",
      "| File Path                     | Size | Health status | Visible health status | Deleted |\n",
      "+-------------------------------+------+---------------+-----------------------+---------+\n",
      "| downloads/malware_dropper.ps1 | 0 B  | GOOD          | NONE                  | False   |\n",
      "| root                          | 0 B  | GOOD          | NONE                  | False   |\n",
      "+-------------------------------+------+---------------+-----------------------+---------+\n"
     ]
    }
   ],
   "source": [
    "starting_host = env.game.simulation.network.get_node_by_hostname('ST_PROJ-A-PRV-PC-1')\n",
    "target_host = env.game.simulation.network.get_node_by_hostname('ST_DATA-PRV-SRV-DB')\n",
    "target_host.file_system.show(full=True)\n",
    "starting_host.file_system.show(full=True)"
   ]
  },
  {
   "cell_type": "code",
   "execution_count": 55,
   "metadata": {
    "execution": {
     "iopub.execute_input": "2025-03-24T09:56:04.225970Z",
     "iopub.status.busy": "2025-03-24T09:56:04.225549Z",
     "iopub.status.idle": "2025-03-24T09:56:13.527371Z",
     "shell.execute_reply": "2025-03-24T09:56:13.526661Z"
    }
   },
   "outputs": [
    {
     "name": "stderr",
     "output_type": "stream",
     "text": [
      "2025-03-24 09:56:04,582: PrimaiteGymEnv RNG seed = None\n"
     ]
    },
    {
     "name": "stderr",
     "output_type": "stream",
     "text": [
      "2025-03-24 09:56:04,584: Resetting environment, episode 0, avg. reward: 0.0\n"
     ]
    }
   ],
   "source": [
    "with open(_EXAMPLE_CFG/\"uc7_config.yaml\", mode=\"r\") as f:\n",
    "    cfg = yaml.safe_load(f)\n",
    "    cfg['agents'][32]['agent_settings']['kill_chain']['PAYLOAD'][\"corrupt\"] = False\n",
    "    cfg['agents'][32]['agent_settings']['kill_chain']['PAYLOAD'][\"exfiltrate\"] = True\n",
    "env = PrimaiteGymEnv(env_config = cfg)\n",
    "env.reset()\n",
    "for _ in range(110):\n",
    "    env.step(0)\n"
   ]
  },
  {
   "cell_type": "code",
   "execution_count": 56,
   "metadata": {
    "execution": {
     "iopub.execute_input": "2025-03-24T09:56:13.530656Z",
     "iopub.status.busy": "2025-03-24T09:56:13.530182Z",
     "iopub.status.idle": "2025-03-24T09:56:13.535119Z",
     "shell.execute_reply": "2025-03-24T09:56:13.534420Z"
    }
   },
   "outputs": [
    {
     "name": "stdout",
     "output_type": "stream",
     "text": [
      "+----------------------------------------------------------------------------------+\n",
      "|                          ST_DATA-PRV-SRV-DB File System                          |\n",
      "+----------------------+---------+---------------+-----------------------+---------+\n",
      "| File Path            | Size    | Health status | Visible health status | Deleted |\n",
      "+----------------------+---------+---------------+-----------------------+---------+\n",
      "| database/database.db | 4.77 MB | GOOD          | NONE                  | False   |\n",
      "| root                 | 0 B     | GOOD          | NONE                  | False   |\n",
      "+----------------------+---------+---------------+-----------------------+---------+\n",
      "+---------------------------------------------------------------------------------------------+\n",
      "|                                ST_PROJ-A-PRV-PC-1 File System                               |\n",
      "+---------------------------------+---------+---------------+-----------------------+---------+\n",
      "| File Path                       | Size    | Health status | Visible health status | Deleted |\n",
      "+---------------------------------+---------+---------------+-----------------------+---------+\n",
      "| downloads/malware_dropper.ps1   | 0 B     | GOOD          | NONE                  | False   |\n",
      "| exfiltration_folder/database.db | 4.77 MB | GOOD          | NONE                  | False   |\n",
      "| root                            | 0 B     | GOOD          | NONE                  | False   |\n",
      "+---------------------------------+---------+---------------+-----------------------+---------+\n"
     ]
    }
   ],
   "source": [
    "starting_host = env.game.simulation.network.get_node_by_hostname('ST_PROJ-A-PRV-PC-1')\n",
    "target_host = env.game.simulation.network.get_node_by_hostname('ST_DATA-PRV-SRV-DB')\n",
    "target_host.file_system.show(full=True)\n",
    "starting_host.file_system.show(full=True)"
   ]
  },
  {
   "cell_type": "code",
   "execution_count": 57,
   "metadata": {
    "execution": {
     "iopub.execute_input": "2025-03-24T09:56:13.537845Z",
     "iopub.status.busy": "2025-03-24T09:56:13.537452Z",
     "iopub.status.idle": "2025-03-24T09:56:22.671490Z",
     "shell.execute_reply": "2025-03-24T09:56:22.670782Z"
    }
   },
   "outputs": [
    {
     "name": "stderr",
     "output_type": "stream",
     "text": [
      "2025-03-24 09:56:13,897: PrimaiteGymEnv RNG seed = None\n"
     ]
    },
    {
     "name": "stderr",
     "output_type": "stream",
     "text": [
      "2025-03-24 09:56:13,899: Resetting environment, episode 0, avg. reward: 0.0\n"
     ]
    }
   ],
   "source": [
    "with open(_EXAMPLE_CFG/\"uc7_config.yaml\", mode=\"r\") as f:\n",
    "    cfg = yaml.safe_load(f)\n",
    "    cfg['agents'][32]['agent_settings']['kill_chain']['PAYLOAD'][\"corrupt\"] = True\n",
    "    cfg['agents'][32]['agent_settings']['kill_chain']['PAYLOAD'][\"exfiltrate\"] = True\n",
    "env = PrimaiteGymEnv(env_config = cfg)\n",
    "env.reset()\n",
    "for _ in range(110):\n",
    "    env.step(0)"
   ]
  },
  {
   "cell_type": "code",
   "execution_count": 58,
   "metadata": {
    "execution": {
     "iopub.execute_input": "2025-03-24T09:56:22.674596Z",
     "iopub.status.busy": "2025-03-24T09:56:22.674153Z",
     "iopub.status.idle": "2025-03-24T09:56:22.679512Z",
     "shell.execute_reply": "2025-03-24T09:56:22.678864Z"
    }
   },
   "outputs": [
    {
     "name": "stdout",
     "output_type": "stream",
     "text": [
      "+----------------------------------------------------------------------------------+\n",
      "|                          ST_DATA-PRV-SRV-DB File System                          |\n",
      "+----------------------+---------+---------------+-----------------------+---------+\n",
      "| File Path            | Size    | Health status | Visible health status | Deleted |\n",
      "+----------------------+---------+---------------+-----------------------+---------+\n",
      "| database/database.db | 4.77 MB | CORRUPT       | NONE                  | False   |\n",
      "| root                 | 0 B     | GOOD          | NONE                  | False   |\n",
      "+----------------------+---------+---------------+-----------------------+---------+\n",
      "+---------------------------------------------------------------------------------------------+\n",
      "|                                ST_PROJ-A-PRV-PC-1 File System                               |\n",
      "+---------------------------------+---------+---------------+-----------------------+---------+\n",
      "| File Path                       | Size    | Health status | Visible health status | Deleted |\n",
      "+---------------------------------+---------+---------------+-----------------------+---------+\n",
      "| downloads/malware_dropper.ps1   | 0 B     | GOOD          | NONE                  | False   |\n",
      "| exfiltration_folder/database.db | 4.77 MB | GOOD          | NONE                  | False   |\n",
      "| root                            | 0 B     | GOOD          | NONE                  | False   |\n",
      "+---------------------------------+---------+---------------+-----------------------+---------+\n"
     ]
    }
   ],
   "source": [
    "starting_host = env.game.simulation.network.get_node_by_hostname('ST_PROJ-A-PRV-PC-1')\n",
    "target_host = env.game.simulation.network.get_node_by_hostname('ST_DATA-PRV-SRV-DB')\n",
    "target_host.file_system.show(full=True)\n",
    "starting_host.file_system.show(full=True)"
   ]
  },
  {
   "cell_type": "markdown",
   "metadata": {},
   "source": [
    "#### Payload Stage | Exfiltration Settings\n",
    "\n",
    "If TAP001 is configured to exfiltrate the database.db file then the following configuration options are relevant.\n",
    "\n",
    "<details> <summary> Exfiltration Settings </summary>\n",
    "\n",
    "|Option Field             | Meaning                                                                            |Expected Type  |Required/Optional|\n",
    "|-------------------------|------------------------------------------------------------------------------------|---------------|-----------------|\n",
    "|exfiltration_folder_name | The folder used to store the database.db file. Defaults to ``exfiltration_folder`` |Str            | _Optional_      |\n",
    "|target_username          | The username used to login into a target node. Defaults to ``admin``               |Str            | _Required_      |\n",
    "|target_password          | The password used to login into a target node. Defaults to ``admin``               |Str            | _Required_      |\n",
    "|continue_on_failed_exfil | Indicates if the attacker should encrypt the target even if the exfiltration fails |Bool           | _Required_      |\n",
    "\n",
    "</details> "
   ]
  },
  {
   "cell_type": "markdown",
   "metadata": {},
   "source": [
    "**exfiltration_folder_name**\n",
    "\n",
    "***\n",
    "\n",
    "|Option Field             | Meaning                                                                            |Expected Type  |Required/Optional|\n",
    "|-------------------------|------------------------------------------------------------------------------------|---------------|-----------------|\n",
    "|exfiltration_folder_name | The folder used to store the database.db file. Defaults to ``exfiltration_folder``.|str            | _Optional_      |\n",
    "\n",
    "Users are able to configure what folder the database.db is stored within after successful database exfiltration. For example, if this option was set to ``crown_jewels`` then the TAP001 agent would create a new folder on the starting node called ``crown_jewels`` and once the data-exfiltration is successful that folder will be populated with the ``database.db`` file from the target database. "
   ]
  },
  {
   "cell_type": "code",
   "execution_count": 59,
   "metadata": {
    "execution": {
     "iopub.execute_input": "2025-03-24T09:56:22.682133Z",
     "iopub.status.busy": "2025-03-24T09:56:22.681746Z",
     "iopub.status.idle": "2025-03-24T09:56:31.754537Z",
     "shell.execute_reply": "2025-03-24T09:56:31.753926Z"
    }
   },
   "outputs": [
    {
     "name": "stderr",
     "output_type": "stream",
     "text": [
      "2025-03-24 09:56:23,038: PrimaiteGymEnv RNG seed = None\n"
     ]
    },
    {
     "name": "stderr",
     "output_type": "stream",
     "text": [
      "2025-03-24 09:56:23,040: Resetting environment, episode 0, avg. reward: 0.0\n"
     ]
    }
   ],
   "source": [
    "with open(_EXAMPLE_CFG/\"uc7_config.yaml\", mode=\"r\") as f:\n",
    "    cfg = yaml.safe_load(f)\n",
    "    cfg['agents'][32]['agent_settings']['kill_chain']['PAYLOAD'][\"exfiltration_folder_name\"] = \"crown_jewels\"\n",
    "env = PrimaiteGymEnv(env_config = cfg)\n",
    "env.reset()\n",
    "for _ in range(110):\n",
    "    env.step(0)"
   ]
  },
  {
   "cell_type": "code",
   "execution_count": 60,
   "metadata": {
    "execution": {
     "iopub.execute_input": "2025-03-24T09:56:31.757422Z",
     "iopub.status.busy": "2025-03-24T09:56:31.757186Z",
     "iopub.status.idle": "2025-03-24T09:56:31.762598Z",
     "shell.execute_reply": "2025-03-24T09:56:31.761987Z"
    }
   },
   "outputs": [
    {
     "name": "stdout",
     "output_type": "stream",
     "text": [
      "+----------------------------------------------------------------------------------+\n",
      "|                          ST_DATA-PRV-SRV-DB File System                          |\n",
      "+----------------------+---------+---------------+-----------------------+---------+\n",
      "| File Path            | Size    | Health status | Visible health status | Deleted |\n",
      "+----------------------+---------+---------------+-----------------------+---------+\n",
      "| database/database.db | 4.77 MB | CORRUPT       | NONE                  | False   |\n",
      "| root                 | 0 B     | GOOD          | NONE                  | False   |\n",
      "+----------------------+---------+---------------+-----------------------+---------+\n",
      "+-------------------------------------------------------------------------------------------+\n",
      "|                               ST_PROJ-A-PRV-PC-1 File System                              |\n",
      "+-------------------------------+---------+---------------+-----------------------+---------+\n",
      "| File Path                     | Size    | Health status | Visible health status | Deleted |\n",
      "+-------------------------------+---------+---------------+-----------------------+---------+\n",
      "| crown_jewels/database.db      | 4.77 MB | GOOD          | NONE                  | False   |\n",
      "| downloads/malware_dropper.ps1 | 0 B     | GOOD          | NONE                  | False   |\n",
      "| root                          | 0 B     | GOOD          | NONE                  | False   |\n",
      "+-------------------------------+---------+---------------+-----------------------+---------+\n"
     ]
    }
   ],
   "source": [
    "starting_host = env.game.simulation.network.get_node_by_hostname('ST_PROJ-A-PRV-PC-1')\n",
    "target_host = env.game.simulation.network.get_node_by_hostname('ST_DATA-PRV-SRV-DB')\n",
    "target_host.file_system.show(full=True)\n",
    "starting_host.file_system.show(full=True)"
   ]
  },
  {
   "cell_type": "markdown",
   "metadata": {},
   "source": [
    "**target_username & target_password**\n",
    "\n",
    "***\n",
    "\n",
    "|Option Field             | Meaning                                                                            |Expected Type  |Required/Optional|\n",
    "|-------------------------|------------------------------------------------------------------------------------|---------------|-----------------|\n",
    "|target_username          | The username used to login into a target node. Defaults to ``admin``               |Str            | _required_      |\n",
    "|target_password          | The password used to login into a target node. Defaults to ``admin``               |Str            | _required_      |\n",
    "\n",
    "These fields indicate what user credentials the TAP001 agent will use when attempting to exfiltrate the `database.db` file from the target."
   ]
  },
  {
   "cell_type": "code",
   "execution_count": 61,
   "metadata": {
    "execution": {
     "iopub.execute_input": "2025-03-24T09:56:31.765054Z",
     "iopub.status.busy": "2025-03-24T09:56:31.764831Z",
     "iopub.status.idle": "2025-03-24T09:56:40.886960Z",
     "shell.execute_reply": "2025-03-24T09:56:40.886133Z"
    }
   },
   "outputs": [
    {
     "name": "stderr",
     "output_type": "stream",
     "text": [
      "2025-03-24 09:56:32,118: PrimaiteGymEnv RNG seed = None\n"
     ]
    },
    {
     "name": "stderr",
     "output_type": "stream",
     "text": [
      "2025-03-24 09:56:32,120: Resetting environment, episode 0, avg. reward: 0.0\n"
     ]
    }
   ],
   "source": [
    "# Creating a new user for the TAP001 to use.\n",
    "users = [{\n",
    "    \"username\": \"example_user\",\n",
    "    \"password\": \"example_pass\",\n",
    "    \"is_admin\": \"False\",\n",
    "}]\n",
    "with open(_EXAMPLE_CFG/\"uc7_config.yaml\", mode=\"r\") as f:\n",
    "    cfg = yaml.safe_load(f)\n",
    "    cfg['simulation']['network']['nodes'][28].update({\"users\":users}) # Adding this new user to the target\n",
    "    cfg['agents'][32]['agent_settings']['kill_chain']['PAYLOAD'][\"target_username\"] = \"example_user\" # Setting TAP001 to use the new user credentials.\n",
    "    cfg['agents'][32]['agent_settings']['kill_chain']['PAYLOAD'][\"target_password\"] = \"example_pass\"\n",
    "env = PrimaiteGymEnv(env_config = cfg)\n",
    "env.reset()\n",
    "for _ in range(110):\n",
    "    env.step(0)\n"
   ]
  },
  {
   "cell_type": "code",
   "execution_count": 62,
   "metadata": {
    "execution": {
     "iopub.execute_input": "2025-03-24T09:56:40.890464Z",
     "iopub.status.busy": "2025-03-24T09:56:40.889970Z",
     "iopub.status.idle": "2025-03-24T09:56:40.895315Z",
     "shell.execute_reply": "2025-03-24T09:56:40.894685Z"
    }
   },
   "outputs": [
    {
     "name": "stdout",
     "output_type": "stream",
     "text": [
      "+---------------------------------+\n",
      "| ST_DATA-PRV-SRV-DB User Manager |\n",
      "+--------------+-------+----------+\n",
      "| Username     | Admin | Disabled |\n",
      "+--------------+-------+----------+\n",
      "| admin        | True  | False    |\n",
      "| example_user | False | False    |\n",
      "+--------------+-------+----------+\n",
      "+----------------------------------------------------------------------+\n",
      "|                    ST_DATA-PRV-SRV-DB File System                    |\n",
      "+----------+---------+---------------+-----------------------+---------+\n",
      "| Folder   | Size    | Health status | Visible health status | Deleted |\n",
      "+----------+---------+---------------+-----------------------+---------+\n",
      "| database | 4.77 MB | CORRUPT       | NONE                  | False   |\n",
      "| root     | 0 B     | GOOD          | NONE                  | False   |\n",
      "+----------+---------+---------------+-----------------------+---------+\n",
      "+-----------------------------+\n",
      "|    attacker Behaviour Log   |\n",
      "+-----------+-------+---------+\n",
      "| Time Step | Level | Message |\n",
      "+-----------+-------+---------+\n",
      "+-----------+-------+---------+\n"
     ]
    }
   ],
   "source": [
    "target_host = env.game.simulation.network.get_node_by_hostname('ST_DATA-PRV-SRV-DB')\n",
    "target_host.user_manager.show()\n",
    "target_host.file_system.show()\n",
    "tap001.logger.show()"
   ]
  },
  {
   "cell_type": "markdown",
   "metadata": {},
   "source": [
    "**continue_on_failed_exfil**\n",
    "\n",
    "***\n",
    "|Option Field             | Meaning                                                                            |Expected Type  |Required/Optional|\n",
    "|-------------------------|------------------------------------------------------------------------------------|---------------|-----------------|\n",
    "|continue_on_failed_exfil | Indicates if the attacker should encrypt the target even if the exfiltration fails |Bool           | _Required_      |\n",
    "\n",
    "\n",
    "This option will affect how the TAP001 agent responds to failing the exfiltration. If this option is set to `True` then the TAP001 agent will attempt the final attack against the database even if the `database.db` exfiltration attempt is unsuccessful. Likewise, if this option is set to `False` then the TAP001 agent will consider it's attack failed if it cannot complete the exfiltration.\n",
    "\n",
    "The code cells below demonstrate the differences by using the blue agent to change the user account details on the target database before the exfiltration occurs using action 50\n",
    "\n",
    "```yaml\n",
    "    # ST_DATA-PRV-SRV-DB | node-account-change-password | Changes the password of a user account\n",
    "    50:\n",
    "        action: node-account-change-password\n",
    "        options:\n",
    "        node_name: ST_DATA-PRV-SRV-DB\n",
    "        username: admin   # default account\n",
    "        current_password: admin   # default password\n",
    "        new_password: thr33_alert_wolv3z # A more 'secure' password\n",
    "```\n"
   ]
  },
  {
   "cell_type": "markdown",
   "metadata": {},
   "source": [
    "If we set the `continue_on_failed_exfil` to true we can see that the despite the exfiltration failing the `database.db` still ends up corrupted by the end of the attack."
   ]
  },
  {
   "cell_type": "code",
   "execution_count": 63,
   "metadata": {
    "execution": {
     "iopub.execute_input": "2025-03-24T09:56:40.898038Z",
     "iopub.status.busy": "2025-03-24T09:56:40.897821Z",
     "iopub.status.idle": "2025-03-24T09:56:50.690280Z",
     "shell.execute_reply": "2025-03-24T09:56:50.689546Z"
    }
   },
   "outputs": [
    {
     "name": "stderr",
     "output_type": "stream",
     "text": [
      "2025-03-24 09:56:41,602: PrimaiteGymEnv RNG seed = None\n"
     ]
    },
    {
     "name": "stderr",
     "output_type": "stream",
     "text": [
      "2025-03-24 09:56:41,604: Resetting environment, episode 0, avg. reward: 0.0\n"
     ]
    },
    {
     "name": "stdout",
     "output_type": "stream",
     "text": [
      "+-----------------------------+\n",
      "|    attacker Behaviour Log   |\n",
      "+-----------+-------+---------+\n",
      "| Time Step | Level | Message |\n",
      "+-----------+-------+---------+\n",
      "+-----------+-------+---------+\n"
     ]
    }
   ],
   "source": [
    "with open(_EXAMPLE_CFG/\"uc7_config.yaml\", mode=\"r\") as f:\n",
    "    cfg = yaml.safe_load(f)\n",
    "    cfg['agents'][32]['agent_settings']['kill_chain']['PAYLOAD'][\"continue_on_failed_exfil\"] = True\n",
    "    cfg['agents'][32]['agent_settings']['repeat_kill_chain'] = False\n",
    "env = PrimaiteGymEnv(env_config = cfg)\n",
    "env.reset()\n",
    "\n",
    "# Changing the target database credentials:\n",
    "env.step(50)\n",
    "\n",
    "# Finishing the episode:\n",
    "for _ in range(127):\n",
    "    env.step(0)\n",
    "    \n",
    "tap001.logger.show()"
   ]
  },
  {
   "cell_type": "code",
   "execution_count": 64,
   "metadata": {
    "execution": {
     "iopub.execute_input": "2025-03-24T09:56:50.692850Z",
     "iopub.status.busy": "2025-03-24T09:56:50.692623Z",
     "iopub.status.idle": "2025-03-24T09:56:50.696633Z",
     "shell.execute_reply": "2025-03-24T09:56:50.695938Z"
    }
   },
   "outputs": [
    {
     "name": "stdout",
     "output_type": "stream",
     "text": [
      "+--------------------------------------------------------------------+\n",
      "|                   ST_PROJ-A-PRV-PC-1 File System                   |\n",
      "+-----------+------+---------------+-----------------------+---------+\n",
      "| Folder    | Size | Health status | Visible health status | Deleted |\n",
      "+-----------+------+---------------+-----------------------+---------+\n",
      "| downloads | 0 B  | GOOD          | NONE                  | False   |\n",
      "| root      | 0 B  | GOOD          | NONE                  | False   |\n",
      "+-----------+------+---------------+-----------------------+---------+\n"
     ]
    }
   ],
   "source": [
    "# The exfiltration was not successful\n",
    "starting_host = env.game.simulation.network.get_node_by_hostname(tap001.starting_node)\n",
    "\n",
    "starting_host.file_system.show()"
   ]
  },
  {
   "cell_type": "code",
   "execution_count": 65,
   "metadata": {
    "execution": {
     "iopub.execute_input": "2025-03-24T09:56:50.699155Z",
     "iopub.status.busy": "2025-03-24T09:56:50.698946Z",
     "iopub.status.idle": "2025-03-24T09:56:50.703043Z",
     "shell.execute_reply": "2025-03-24T09:56:50.702364Z"
    }
   },
   "outputs": [
    {
     "name": "stdout",
     "output_type": "stream",
     "text": [
      "+----------------------------------------------------------------------+\n",
      "|                    ST_DATA-PRV-SRV-DB File System                    |\n",
      "+----------+---------+---------------+-----------------------+---------+\n",
      "| Folder   | Size    | Health status | Visible health status | Deleted |\n",
      "+----------+---------+---------------+-----------------------+---------+\n",
      "| database | 4.77 MB | CORRUPT       | NONE                  | False   |\n",
      "| root     | 0 B     | GOOD          | NONE                  | False   |\n",
      "+----------+---------+---------------+-----------------------+---------+\n"
     ]
    }
   ],
   "source": [
    "# Yet the target database.db is still corrupt.\n",
    "\n",
    "target_host = env.game.simulation.network.get_node_by_hostname('ST_DATA-PRV-SRV-DB')\n",
    "target_host.file_system.show()"
   ]
  },
  {
   "cell_type": "markdown",
   "metadata": {},
   "source": [
    "Whereas now if we set `continue_on_failed_exfil` to false we can see that the attack failed and the database health status remains `GOOD`."
   ]
  },
  {
   "cell_type": "code",
   "execution_count": 66,
   "metadata": {
    "execution": {
     "iopub.execute_input": "2025-03-24T09:56:50.705490Z",
     "iopub.status.busy": "2025-03-24T09:56:50.705282Z",
     "iopub.status.idle": "2025-03-24T09:57:01.047417Z",
     "shell.execute_reply": "2025-03-24T09:57:01.046632Z"
    }
   },
   "outputs": [
    {
     "name": "stderr",
     "output_type": "stream",
     "text": [
      "2025-03-24 09:56:51,506: PrimaiteGymEnv RNG seed = None\n"
     ]
    },
    {
     "name": "stderr",
     "output_type": "stream",
     "text": [
      "2025-03-24 09:56:51,507: Resetting environment, episode 0, avg. reward: 0.0\n"
     ]
    },
    {
     "name": "stdout",
     "output_type": "stream",
     "text": [
      "+-----------------------------+\n",
      "|    attacker Behaviour Log   |\n",
      "+-----------+-------+---------+\n",
      "| Time Step | Level | Message |\n",
      "+-----------+-------+---------+\n",
      "+-----------+-------+---------+\n"
     ]
    }
   ],
   "source": [
    "with open(_EXAMPLE_CFG/\"uc7_config.yaml\", mode=\"r\") as f:\n",
    "    cfg = yaml.safe_load(f)\n",
    "    cfg['agents'][32]['agent_settings']['kill_chain']['PAYLOAD'][\"continue_on_failed_exfil\"] = False\n",
    "    cfg['agents'][32]['agent_settings']['repeat_kill_chain'] = False\n",
    "env = PrimaiteGymEnv(env_config = cfg)\n",
    "env.reset()\n",
    "\n",
    "# Changing the target database credentials:\n",
    "env.step(50)\n",
    "\n",
    "# Finishing the episode:\n",
    "for _ in range(127):\n",
    "    env.step(0)\n",
    "    \n",
    "tap001.logger.show()"
   ]
  },
  {
   "cell_type": "code",
   "execution_count": 67,
   "metadata": {
    "execution": {
     "iopub.execute_input": "2025-03-24T09:57:01.049986Z",
     "iopub.status.busy": "2025-03-24T09:57:01.049751Z",
     "iopub.status.idle": "2025-03-24T09:57:01.053801Z",
     "shell.execute_reply": "2025-03-24T09:57:01.053148Z"
    }
   },
   "outputs": [
    {
     "name": "stdout",
     "output_type": "stream",
     "text": [
      "+--------------------------------------------------------------------+\n",
      "|                   ST_PROJ-A-PRV-PC-1 File System                   |\n",
      "+-----------+------+---------------+-----------------------+---------+\n",
      "| Folder    | Size | Health status | Visible health status | Deleted |\n",
      "+-----------+------+---------------+-----------------------+---------+\n",
      "| downloads | 0 B  | GOOD          | NONE                  | False   |\n",
      "| root      | 0 B  | GOOD          | NONE                  | False   |\n",
      "+-----------+------+---------------+-----------------------+---------+\n"
     ]
    }
   ],
   "source": [
    "# The exfiltration was not successful\n",
    "starting_host = env.game.simulation.network.get_node_by_hostname(tap001.starting_node)\n",
    "\n",
    "starting_host.file_system.show()"
   ]
  },
  {
   "cell_type": "code",
   "execution_count": 68,
   "metadata": {
    "execution": {
     "iopub.execute_input": "2025-03-24T09:57:01.056217Z",
     "iopub.status.busy": "2025-03-24T09:57:01.056016Z",
     "iopub.status.idle": "2025-03-24T09:57:01.059799Z",
     "shell.execute_reply": "2025-03-24T09:57:01.059156Z"
    }
   },
   "outputs": [
    {
     "name": "stdout",
     "output_type": "stream",
     "text": [
      "+----------------------------------------------------------------------+\n",
      "|                    ST_DATA-PRV-SRV-DB File System                    |\n",
      "+----------+---------+---------------+-----------------------+---------+\n",
      "| Folder   | Size    | Health status | Visible health status | Deleted |\n",
      "+----------+---------+---------------+-----------------------+---------+\n",
      "| database | 4.77 MB | GOOD          | NONE                  | False   |\n",
      "| root     | 0 B     | GOOD          | NONE                  | False   |\n",
      "+----------+---------+---------------+-----------------------+---------+\n"
     ]
    }
   ],
   "source": [
    "# And the target database.db remains healthy.\n",
    "\n",
    "target_host = env.game.simulation.network.get_node_by_hostname('ST_DATA-PRV-SRV-DB')\n",
    "target_host.file_system.show()"
   ]
  }
 ],
 "metadata": {
  "kernelspec": {
   "display_name": "Python 3 (ipykernel)",
   "language": "python",
   "name": "python3"
  },
  "language_info": {
   "codemirror_mode": {
    "name": "ipython",
    "version": 3
   },
   "file_extension": ".py",
   "mimetype": "text/x-python",
   "name": "python",
   "nbconvert_exporter": "python",
   "pygments_lexer": "ipython3",
   "version": "3.10.16"
  }
 },
 "nbformat": 4,
 "nbformat_minor": 2
}
