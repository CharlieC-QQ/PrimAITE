{
 "cells": [
  {
   "cell_type": "markdown",
   "metadata": {},
   "source": [
    "# Build a simulation using the Python API\n",
    "\n",
    "© Crown-owned copyright 2025, Defence Science and Technology Laboratory UK\n",
    "\n",
    "Currently, this notebook manipulates the simulation by directly placing objects inside of the attributes of the network and domain. It should be refactored when proper methods exist for adding these objects."
   ]
  },
  {
   "cell_type": "markdown",
   "metadata": {},
   "source": [
    "Import the Simulation class"
   ]
  },
  {
   "cell_type": "code",
   "execution_count": 1,
   "metadata": {
    "execution": {
     "iopub.execute_input": "2025-03-24T10:01:47.876113Z",
     "iopub.status.busy": "2025-03-24T10:01:47.875532Z",
     "iopub.status.idle": "2025-03-24T10:01:48.918135Z",
     "shell.execute_reply": "2025-03-24T10:01:48.917363Z"
    }
   },
   "outputs": [],
   "source": [
    "from primaite.simulator.sim_container import Simulation\n"
   ]
  },
  {
   "cell_type": "markdown",
   "metadata": {},
   "source": [
    "Create an empty simulation. By default this has a network with no nodes or links, and a domain controller with no accounts.\n",
    "\n",
    "Let's use the simulation's `describe_state()` method to verify that it is empty."
   ]
  },
  {
   "cell_type": "code",
   "execution_count": 2,
   "metadata": {
    "execution": {
     "iopub.execute_input": "2025-03-24T10:01:48.921326Z",
     "iopub.status.busy": "2025-03-24T10:01:48.921006Z",
     "iopub.status.idle": "2025-03-24T10:01:48.930282Z",
     "shell.execute_reply": "2025-03-24T10:01:48.929631Z"
    }
   },
   "outputs": [
    {
     "data": {
      "text/plain": [
       "{'uuid': 'cfa100b7-7970-4370-a74d-8e5268db25ff',\n",
       " 'network': {'uuid': 'ddef284e-6c84-4a11-b398-794d55d1177b',\n",
       "  'nodes': {},\n",
       "  'links': {}},\n",
       " 'domain': {'uuid': '5ef25901-084d-42a3-b623-5126f996be2a', 'accounts': {}}}"
      ]
     },
     "execution_count": 2,
     "metadata": {},
     "output_type": "execute_result"
    }
   ],
   "source": [
    "my_sim = Simulation()\n",
    "net = my_sim.network\n",
    "my_sim.describe_state()"
   ]
  },
  {
   "cell_type": "markdown",
   "metadata": {},
   "source": [
    "## Add nodes"
   ]
  },
  {
   "cell_type": "code",
   "execution_count": 3,
   "metadata": {
    "execution": {
     "iopub.execute_input": "2025-03-24T10:01:48.932978Z",
     "iopub.status.busy": "2025-03-24T10:01:48.932487Z",
     "iopub.status.idle": "2025-03-24T10:01:48.979403Z",
     "shell.execute_reply": "2025-03-24T10:01:48.978781Z"
    }
   },
   "outputs": [],
   "source": [
    "from primaite.simulator.network.hardware.nodes.host.computer import Computer\n",
    "from primaite.simulator.network.hardware.nodes.host.server import Server"
   ]
  },
  {
   "cell_type": "code",
   "execution_count": 4,
   "metadata": {
    "execution": {
     "iopub.execute_input": "2025-03-24T10:01:48.982154Z",
     "iopub.status.busy": "2025-03-24T10:01:48.981948Z",
     "iopub.status.idle": "2025-03-24T10:01:49.021237Z",
     "shell.execute_reply": "2025-03-24T10:01:49.020502Z"
    }
   },
   "outputs": [],
   "source": [
    "my_pc = Computer.from_config(\n",
    "    config={\n",
    "        \"type\": \"computer\",\n",
    "        \"hostname\":\"pc_1\",\n",
    "        \"ip_address\":\"192.168.1.10\",\n",
    "        \"subnet_mask\":\"255.255.255.0\",\n",
    "    }\n",
    "   )\n",
    "net.add_node(my_pc)\n",
    "my_server = Server.from_config(\n",
    "    config={\n",
    "        \"type\": \"server\",\n",
    "        \"hostname\":\"Server\",\n",
    "        \"ip_address\":\"192.168.1.11\",\n",
    "        \"subnet_mask\":\"255.255.255.0\"\n",
    "    }\n",
    ")\n",
    "net.add_node(my_server)\n"
   ]
  },
  {
   "cell_type": "markdown",
   "metadata": {},
   "source": [
    "## Connect the nodes"
   ]
  },
  {
   "cell_type": "code",
   "execution_count": 5,
   "metadata": {
    "execution": {
     "iopub.execute_input": "2025-03-24T10:01:49.024009Z",
     "iopub.status.busy": "2025-03-24T10:01:49.023754Z",
     "iopub.status.idle": "2025-03-24T10:01:49.053168Z",
     "shell.execute_reply": "2025-03-24T10:01:49.052409Z"
    }
   },
   "outputs": [],
   "source": [
    "from primaite.simulator.network.hardware.nodes.host.host_node import NIC\n",
    "from primaite.simulator.network.hardware.nodes.network.switch import Switch\n"
   ]
  },
  {
   "cell_type": "code",
   "execution_count": 6,
   "metadata": {
    "execution": {
     "iopub.execute_input": "2025-03-24T10:01:49.056419Z",
     "iopub.status.busy": "2025-03-24T10:01:49.055943Z",
     "iopub.status.idle": "2025-03-24T10:01:49.065786Z",
     "shell.execute_reply": "2025-03-24T10:01:49.065135Z"
    }
   },
   "outputs": [
    {
     "data": {
      "text/plain": [
       "Link(uuid='6a5d9dc3-dab2-413b-a709-fa3c9d218b53', endpoint_a=NIC(ip_address=IPv4Address('130.1.1.2'), subnet_mask=IPv4Address('255.255.255.0'), uuid='86d99ed3-c0b8-4620-b309-25595acb817b', mac_address='e0:b4:28:49:f5:14', speed=100.0, mtu=1500, enabled=True, port_num=2, port_name=None, pcap=<primaite.simulator.system.core.packet_capture.PacketCapture object at 0x7fdcde7a49a0>, nmne={}, traffic={}, wake_on_lan=False, gateway='130.1.1.255'), endpoint_b=SwitchPort(uuid='fff219e1-3404-4a50-89a9-7afde9da1558', mac_address='75:b7:d6:ba:9a:b5', speed=100.0, mtu=1500, enabled=True, port_num=2, port_name=None, pcap=<primaite.simulator.system.core.packet_capture.PacketCapture object at 0x7fdcde7a4af0>, nmne={}, traffic={}), bandwidth=100.0, current_load=0.0)"
      ]
     },
     "execution_count": 6,
     "metadata": {},
     "output_type": "execute_result"
    }
   ],
   "source": [
    "my_switch = Switch.from_config(\n",
    "    config = {\n",
    "        \"type\":\"switch\",\n",
    "        \"hostname\":\"switch1\",\n",
    "        \"num_ports\":12\n",
    "    }\n",
    ")\n",
    "net.add_node(my_switch)\n",
    "\n",
    "pc_nic = NIC(ip_address=\"130.1.1.1\", gateway=\"130.1.1.255\", subnet_mask=\"255.255.255.0\")\n",
    "my_pc.connect_nic(pc_nic)\n",
    "\n",
    "server_nic = NIC(ip_address=\"130.1.1.2\", gateway=\"130.1.1.255\", subnet_mask=\"255.255.255.0\")\n",
    "my_server.connect_nic(server_nic)\n",
    "\n",
    "net.connect(pc_nic, my_switch.network_interface[1])\n",
    "net.connect(server_nic, my_switch.network_interface[2])\n"
   ]
  },
  {
   "cell_type": "markdown",
   "metadata": {},
   "source": [
    "## Add files and folders to nodes\n"
   ]
  },
  {
   "cell_type": "code",
   "execution_count": 7,
   "metadata": {
    "execution": {
     "iopub.execute_input": "2025-03-24T10:01:49.068699Z",
     "iopub.status.busy": "2025-03-24T10:01:49.068285Z",
     "iopub.status.idle": "2025-03-24T10:01:49.071526Z",
     "shell.execute_reply": "2025-03-24T10:01:49.070948Z"
    }
   },
   "outputs": [],
   "source": [
    "from primaite.simulator.file_system.file_type import FileType\n",
    "from primaite.simulator.file_system.file_system import File\n",
    "from primaite.simulator.system.core.sys_log import SysLog"
   ]
  },
  {
   "cell_type": "code",
   "execution_count": 8,
   "metadata": {
    "execution": {
     "iopub.execute_input": "2025-03-24T10:01:49.073976Z",
     "iopub.status.busy": "2025-03-24T10:01:49.073740Z",
     "iopub.status.idle": "2025-03-24T10:01:49.077684Z",
     "shell.execute_reply": "2025-03-24T10:01:49.077043Z"
    }
   },
   "outputs": [],
   "source": [
    "my_pc_downloads_folder = my_pc.file_system.create_folder(\"downloads\")\n",
    "my_pc_downloads_folder.add_file(File(name=\"firefox_installer.zip\",folder_id=\"Test\", folder_name=\"downloads\" ,file_type=FileType.ZIP, sys_log=SysLog(hostname=\"Test\")))"
   ]
  },
  {
   "cell_type": "code",
   "execution_count": 9,
   "metadata": {
    "execution": {
     "iopub.execute_input": "2025-03-24T10:01:49.080120Z",
     "iopub.status.busy": "2025-03-24T10:01:49.079731Z",
     "iopub.status.idle": "2025-03-24T10:01:49.086115Z",
     "shell.execute_reply": "2025-03-24T10:01:49.085500Z"
    }
   },
   "outputs": [
    {
     "data": {
      "text/plain": [
       "File(uuid='7dddaccf-0277-4442-b8a8-54fcf546f631', name='favicon.ico', health_status=<FileSystemItemHealthStatus.GOOD: 1>, visible_health_status=<FileSystemItemHealthStatus.NONE: 0>, previous_hash=None, revealed_to_red=False, sys_log=<primaite.simulator.system.core.sys_log.SysLog object at 0x7fdcdfd93fd0>, deleted=False, folder_id='17a128b7-66a4-497a-ac67-3e46dc32de16', folder_name='root', file_type=<FileType.UNKNOWN: 0>, sim_size=0, num_access=0, sim_root=PosixPath('/home/runner/primaite/4.0.0/sessions/2025-03-24/10-01-47/Server/fs'), folder=Folder(uuid='17a128b7-66a4-497a-ac67-3e46dc32de16', name='root', health_status=<FileSystemItemHealthStatus.GOOD: 1>, visible_health_status=<FileSystemItemHealthStatus.NONE: 0>, previous_hash=None, revealed_to_red=False, sys_log=<primaite.simulator.system.core.sys_log.SysLog object at 0x7fdcdfd93fd0>, deleted=False, files={'7dddaccf-0277-4442-b8a8-54fcf546f631': File(uuid='7dddaccf-0277-4442-b8a8-54fcf546f631', name='favicon.ico', health_status=<FileSystemItemHealthStatus.GOOD: 1>, visible_health_status=<FileSystemItemHealthStatus.NONE: 0>, previous_hash=None, revealed_to_red=False, sys_log=<primaite.simulator.system.core.sys_log.SysLog object at 0x7fdcdfd93fd0>, deleted=False, folder_id='17a128b7-66a4-497a-ac67-3e46dc32de16', folder_name='root', file_type=<FileType.UNKNOWN: 0>, sim_size=0, num_access=0, sim_root=PosixPath('/home/runner/primaite/4.0.0/sessions/2025-03-24/10-01-47/Server/fs'), folder=Folder(uuid='17a128b7-66a4-497a-ac67-3e46dc32de16', name='root', health_status=<FileSystemItemHealthStatus.GOOD: 1>, visible_health_status=<FileSystemItemHealthStatus.NONE: 0>, previous_hash=None, revealed_to_red=False, sys_log=<primaite.simulator.system.core.sys_log.SysLog object at 0x7fdcdfd93fd0>, deleted=False, files={...}, deleted_files={}, scan_duration=3, scan_countdown=0, red_scan_duration=3, red_scan_countdown=0, restore_duration=3, restore_countdown=0))}, deleted_files={}, scan_duration=3, scan_countdown=0, red_scan_duration=3, red_scan_countdown=0, restore_duration=3, restore_countdown=0))"
      ]
     },
     "execution_count": 9,
     "metadata": {},
     "output_type": "execute_result"
    }
   ],
   "source": [
    "my_server_folder = my_server.file_system.create_folder(\"static\")\n",
    "my_server.file_system.create_file(\"favicon.ico\", file_type=FileType.PNG)"
   ]
  },
  {
   "cell_type": "markdown",
   "metadata": {},
   "source": [
    "## Add applications to nodes"
   ]
  },
  {
   "cell_type": "code",
   "execution_count": 10,
   "metadata": {
    "execution": {
     "iopub.execute_input": "2025-03-24T10:01:49.088640Z",
     "iopub.status.busy": "2025-03-24T10:01:49.088437Z",
     "iopub.status.idle": "2025-03-24T10:01:49.103912Z",
     "shell.execute_reply": "2025-03-24T10:01:49.103142Z"
    }
   },
   "outputs": [],
   "source": [
    "from pydantic import Field\n",
    "\n",
    "from pathlib import Path\n",
    "from primaite.simulator.system.applications.application import Application, ApplicationOperatingState\n",
    "from primaite.simulator.system.software import SoftwareHealthState, SoftwareCriticality\n",
    "from primaite.simulator.file_system.file_system import FileSystem\n",
    "from primaite.utils.validation.ip_protocol import PROTOCOL_LOOKUP\n",
    "from primaite.utils.validation.port import PORT_LOOKUP\n",
    "from primaite.simulator.system.core.sys_log import SysLog\n",
    "\n",
    "\n",
    "# no applications exist yet so we will create our own.\n",
    "class MSPaint(Application, discriminator=\"MSPaint\"):\n",
    "    class ConfigSchema(Application.ConfigSchema):\n",
    "        type: str = \"MSPaint\"\n",
    "\n",
    "    config: ConfigSchema = Field(default_factory=lambda: MSPaint.ConfigSchema())\n",
    "\n",
    "    def __init__(self, **kwargs):\n",
    "        kwargs[\"name\"] = \"MSPaint\"\n",
    "        kwargs[\"port\"] = PORT_LOOKUP[\"HTTP\"]\n",
    "        kwargs[\"protocol\"] = PROTOCOL_LOOKUP[\"NONE\"]\n",
    "        super().__init__(**kwargs)\n",
    "\n",
    "    def describe_state(self):\n",
    "        return super().describe_state()"
   ]
  },
  {
   "cell_type": "code",
   "execution_count": 11,
   "metadata": {
    "execution": {
     "iopub.execute_input": "2025-03-24T10:01:49.106637Z",
     "iopub.status.busy": "2025-03-24T10:01:49.106261Z",
     "iopub.status.idle": "2025-03-24T10:01:49.109821Z",
     "shell.execute_reply": "2025-03-24T10:01:49.109176Z"
    }
   },
   "outputs": [],
   "source": [
    "my_pc.software_manager.install(MSPaint)\n",
    "mspaint = my_pc.software_manager.software.get(\"MSPaint\")"
   ]
  },
  {
   "cell_type": "code",
   "execution_count": 12,
   "metadata": {
    "execution": {
     "iopub.execute_input": "2025-03-24T10:01:49.112464Z",
     "iopub.status.busy": "2025-03-24T10:01:49.112088Z",
     "iopub.status.idle": "2025-03-24T10:01:49.115235Z",
     "shell.execute_reply": "2025-03-24T10:01:49.114619Z"
    }
   },
   "outputs": [],
   "source": [
    "my_pc.applications[mspaint.uuid] = mspaint"
   ]
  },
  {
   "cell_type": "markdown",
   "metadata": {},
   "source": [
    "## Create a domain account"
   ]
  },
  {
   "cell_type": "code",
   "execution_count": 13,
   "metadata": {
    "execution": {
     "iopub.execute_input": "2025-03-24T10:01:49.117818Z",
     "iopub.status.busy": "2025-03-24T10:01:49.117452Z",
     "iopub.status.idle": "2025-03-24T10:01:49.120543Z",
     "shell.execute_reply": "2025-03-24T10:01:49.119911Z"
    }
   },
   "outputs": [],
   "source": [
    "from primaite.simulator.domain.account import Account, AccountType\n"
   ]
  },
  {
   "cell_type": "code",
   "execution_count": 14,
   "metadata": {
    "execution": {
     "iopub.execute_input": "2025-03-24T10:01:49.122864Z",
     "iopub.status.busy": "2025-03-24T10:01:49.122507Z",
     "iopub.status.idle": "2025-03-24T10:01:49.125828Z",
     "shell.execute_reply": "2025-03-24T10:01:49.125178Z"
    }
   },
   "outputs": [],
   "source": [
    "acct = Account(username=\"admin\", password=\"admin12\", account_type=AccountType.USER)\n",
    "my_sim.domain.accounts[acct.uuid] = acct"
   ]
  },
  {
   "cell_type": "markdown",
   "metadata": {},
   "source": [
    "Verify that the state dictionary contains no non-serialisable objects."
   ]
  },
  {
   "cell_type": "code",
   "execution_count": 15,
   "metadata": {
    "execution": {
     "iopub.execute_input": "2025-03-24T10:01:49.128313Z",
     "iopub.status.busy": "2025-03-24T10:01:49.128003Z",
     "iopub.status.idle": "2025-03-24T10:01:49.144931Z",
     "shell.execute_reply": "2025-03-24T10:01:49.144255Z"
    }
   },
   "outputs": [
    {
     "data": {
      "text/plain": [
       "{'uuid': 'cfa100b7-7970-4370-a74d-8e5268db25ff',\n",
       " 'network': {'uuid': 'ddef284e-6c84-4a11-b398-794d55d1177b',\n",
       "  'nodes': {'pc_1': {'uuid': '0bab65e8-36a1-4a54-86c4-84b69e27bc34',\n",
       "    'hostname': 'pc_1',\n",
       "    'operating_state': 1,\n",
       "    'NICs': {1: {'uuid': '083c901e-753c-4e3e-a829-710e993d54a2',\n",
       "      'mac_address': 'f3:38:b8:0f:94:77',\n",
       "      'speed': 100.0,\n",
       "      'mtu': 1500,\n",
       "      'enabled': False,\n",
       "      'traffic': {},\n",
       "      'ip_address': '192.168.1.10',\n",
       "      'subnet_mask': '255.255.255.0',\n",
       "      'wake_on_lan': False},\n",
       "     2: {'uuid': '56518a14-9043-4f7f-8b35-0bd402ef829d',\n",
       "      'mac_address': '0a:7b:01:71:ac:ee',\n",
       "      'speed': 100.0,\n",
       "      'mtu': 1500,\n",
       "      'enabled': True,\n",
       "      'traffic': {},\n",
       "      'ip_address': '130.1.1.1',\n",
       "      'subnet_mask': '255.255.255.0',\n",
       "      'wake_on_lan': False}},\n",
       "    'file_system': {'uuid': '835b066c-0ee3-4979-901d-e65369d6f721',\n",
       "     'folders': {'root': {'uuid': 'efc0c3df-f942-49a1-bc76-95a8eb6b579e',\n",
       "       'name': 'root',\n",
       "       'health_status': 1,\n",
       "       'visible_status': 0,\n",
       "       'previous_hash': None,\n",
       "       'revealed_to_red': False,\n",
       "       'files': {},\n",
       "       'deleted_files': {},\n",
       "       'scanned_this_step': False},\n",
       "      'downloads': {'uuid': 'c3b62a62-a3f1-4b2c-9fa7-5b9f171a56f0',\n",
       "       'name': 'downloads',\n",
       "       'health_status': 1,\n",
       "       'visible_status': 0,\n",
       "       'previous_hash': None,\n",
       "       'revealed_to_red': False,\n",
       "       'files': {'firefox_installer.zip': {'uuid': '1b7fd706-9e29-4316-947c-b843df01dc0a',\n",
       "         'name': 'firefox_installer.zip',\n",
       "         'health_status': 1,\n",
       "         'visible_status': 0,\n",
       "         'previous_hash': None,\n",
       "         'revealed_to_red': False,\n",
       "         'size': 1024000,\n",
       "         'file_type': 'ZIP',\n",
       "         'num_access': 0}},\n",
       "       'deleted_files': {},\n",
       "       'scanned_this_step': False}},\n",
       "     'deleted_folders': {},\n",
       "     'num_file_creations': 0,\n",
       "     'num_file_deletions': 0},\n",
       "    'applications': {'web-browser': {'uuid': 'dd3daeb3-a3c5-4565-a286-29f74ad03be7',\n",
       "      'health_state_actual': 1,\n",
       "      'health_state_visible': 0,\n",
       "      'criticality': 1,\n",
       "      'fixing_count': 0,\n",
       "      'scanning_count': 0,\n",
       "      'revealed_to_red': False,\n",
       "      'installing_count': 0,\n",
       "      'max_sessions': 100,\n",
       "      'tcp': True,\n",
       "      'udp': True,\n",
       "      'port': 80,\n",
       "      'operating_state': 2,\n",
       "      'execution_control_status': 'manual',\n",
       "      'num_executions': 0,\n",
       "      'groups': [],\n",
       "      'history': []},\n",
       "     'nmap': {'uuid': 'a156b97d-f472-4e2b-b21a-5ff70e74d181',\n",
       "      'health_state_actual': 1,\n",
       "      'health_state_visible': 0,\n",
       "      'criticality': 1,\n",
       "      'fixing_count': 0,\n",
       "      'scanning_count': 0,\n",
       "      'revealed_to_red': False,\n",
       "      'installing_count': 0,\n",
       "      'max_sessions': 100,\n",
       "      'tcp': True,\n",
       "      'udp': True,\n",
       "      'port': 0,\n",
       "      'operating_state': 2,\n",
       "      'execution_control_status': 'manual',\n",
       "      'num_executions': 0,\n",
       "      'groups': []},\n",
       "     'MSPaint': {'uuid': '5d0ceb3b-3a58-41b9-b000-1c1b61be18d1',\n",
       "      'health_state_actual': 1,\n",
       "      'health_state_visible': 0,\n",
       "      'criticality': 1,\n",
       "      'fixing_count': 0,\n",
       "      'scanning_count': 0,\n",
       "      'revealed_to_red': False,\n",
       "      'installing_count': 0,\n",
       "      'max_sessions': 100,\n",
       "      'tcp': True,\n",
       "      'udp': True,\n",
       "      'port': 80,\n",
       "      'operating_state': 2,\n",
       "      'execution_control_status': 'manual',\n",
       "      'num_executions': 0,\n",
       "      'groups': []}},\n",
       "    'services': {'arp': {'uuid': '64b79e33-67c9-4bc5-a175-86abf0c9d1fd',\n",
       "      'health_state_actual': 1,\n",
       "      'health_state_visible': 0,\n",
       "      'criticality': 1,\n",
       "      'fixing_count': 0,\n",
       "      'scanning_count': 0,\n",
       "      'revealed_to_red': False,\n",
       "      'installing_count': 0,\n",
       "      'max_sessions': 100,\n",
       "      'tcp': True,\n",
       "      'udp': True,\n",
       "      'port': 219,\n",
       "      'operating_state': 1},\n",
       "     'icmp': {'uuid': '69218b05-5189-4e45-a113-e1b27112edb7',\n",
       "      'health_state_actual': 1,\n",
       "      'health_state_visible': 0,\n",
       "      'criticality': 1,\n",
       "      'fixing_count': 0,\n",
       "      'scanning_count': 0,\n",
       "      'revealed_to_red': False,\n",
       "      'installing_count': 0,\n",
       "      'max_sessions': 100,\n",
       "      'tcp': True,\n",
       "      'udp': True,\n",
       "      'port': 0,\n",
       "      'operating_state': 1},\n",
       "     'dns-client': {'uuid': 'aea74dac-c3db-44d3-9322-874cfe4081b0',\n",
       "      'health_state_actual': 1,\n",
       "      'health_state_visible': 0,\n",
       "      'criticality': 1,\n",
       "      'fixing_count': 0,\n",
       "      'scanning_count': 0,\n",
       "      'revealed_to_red': False,\n",
       "      'installing_count': 0,\n",
       "      'max_sessions': 100,\n",
       "      'tcp': True,\n",
       "      'udp': True,\n",
       "      'port': 53,\n",
       "      'operating_state': 1},\n",
       "     'ntp-client': {'uuid': '46aef833-ded8-405a-b492-9f769e90d984',\n",
       "      'health_state_actual': 1,\n",
       "      'health_state_visible': 0,\n",
       "      'criticality': 1,\n",
       "      'fixing_count': 0,\n",
       "      'scanning_count': 0,\n",
       "      'revealed_to_red': False,\n",
       "      'installing_count': 0,\n",
       "      'max_sessions': 100,\n",
       "      'tcp': True,\n",
       "      'udp': True,\n",
       "      'port': 123,\n",
       "      'operating_state': 1},\n",
       "     'user-session-manager': {'uuid': '775915cc-e291-4dbe-8c28-b9dbfa6f0ba4',\n",
       "      'health_state_actual': 1,\n",
       "      'health_state_visible': 0,\n",
       "      'criticality': 1,\n",
       "      'fixing_count': 0,\n",
       "      'scanning_count': 0,\n",
       "      'revealed_to_red': False,\n",
       "      'installing_count': 0,\n",
       "      'max_sessions': 100,\n",
       "      'tcp': True,\n",
       "      'udp': True,\n",
       "      'port': 0,\n",
       "      'operating_state': 1,\n",
       "      'current_local_user': None,\n",
       "      'active_remote_sessions': []},\n",
       "     'user-manager': {'uuid': '36fa5517-f0b9-4297-a88d-274f2668892d',\n",
       "      'health_state_actual': 1,\n",
       "      'health_state_visible': 0,\n",
       "      'criticality': 1,\n",
       "      'fixing_count': 0,\n",
       "      'scanning_count': 0,\n",
       "      'revealed_to_red': False,\n",
       "      'installing_count': 0,\n",
       "      'max_sessions': 100,\n",
       "      'tcp': True,\n",
       "      'udp': True,\n",
       "      'port': 0,\n",
       "      'operating_state': 1,\n",
       "      'total_users': 1,\n",
       "      'total_admins': 1,\n",
       "      'users': {'admin': {'uuid': '4834aad2-16b0-41ce-9098-c88b8db8386c',\n",
       "        'username': 'admin',\n",
       "        'password': 'admin',\n",
       "        'disabled': False,\n",
       "        'is_admin': True,\n",
       "        'num_of_logins': 0}}},\n",
       "     'terminal': {'uuid': '784d299f-4604-4903-beaa-4d4f80828efc',\n",
       "      'health_state_actual': 1,\n",
       "      'health_state_visible': 0,\n",
       "      'criticality': 1,\n",
       "      'fixing_count': 0,\n",
       "      'scanning_count': 0,\n",
       "      'revealed_to_red': False,\n",
       "      'installing_count': 0,\n",
       "      'max_sessions': 100,\n",
       "      'tcp': True,\n",
       "      'udp': True,\n",
       "      'port': 22,\n",
       "      'operating_state': 1},\n",
       "     'ftp-client': {'uuid': '006371f7-8b1c-4e2b-88f2-77baf790dd9d',\n",
       "      'health_state_actual': 1,\n",
       "      'health_state_visible': 0,\n",
       "      'criticality': 1,\n",
       "      'fixing_count': 0,\n",
       "      'scanning_count': 0,\n",
       "      'revealed_to_red': False,\n",
       "      'installing_count': 0,\n",
       "      'max_sessions': 100,\n",
       "      'tcp': True,\n",
       "      'udp': True,\n",
       "      'port': 21,\n",
       "      'operating_state': 2}},\n",
       "    'process': {},\n",
       "    'revealed_to_red': False},\n",
       "   'Server': {'uuid': '48c759a4-6e8c-41c5-a51d-d4aaae058d2a',\n",
       "    'hostname': 'Server',\n",
       "    'operating_state': 1,\n",
       "    'NICs': {1: {'uuid': '90f9e597-c9f9-4590-b587-95b638550054',\n",
       "      'mac_address': 'dc:90:9b:7f:4a:20',\n",
       "      'speed': 100.0,\n",
       "      'mtu': 1500,\n",
       "      'enabled': False,\n",
       "      'traffic': {},\n",
       "      'ip_address': '192.168.1.11',\n",
       "      'subnet_mask': '255.255.255.0',\n",
       "      'wake_on_lan': False},\n",
       "     2: {'uuid': '86d99ed3-c0b8-4620-b309-25595acb817b',\n",
       "      'mac_address': 'e0:b4:28:49:f5:14',\n",
       "      'speed': 100.0,\n",
       "      'mtu': 1500,\n",
       "      'enabled': True,\n",
       "      'traffic': {},\n",
       "      'ip_address': '130.1.1.2',\n",
       "      'subnet_mask': '255.255.255.0',\n",
       "      'wake_on_lan': False}},\n",
       "    'file_system': {'uuid': '7257cc8e-5007-4997-b048-998dde87609d',\n",
       "     'folders': {'root': {'uuid': '17a128b7-66a4-497a-ac67-3e46dc32de16',\n",
       "       'name': 'root',\n",
       "       'health_status': 1,\n",
       "       'visible_status': 0,\n",
       "       'previous_hash': None,\n",
       "       'revealed_to_red': False,\n",
       "       'files': {'favicon.ico': {'uuid': '7dddaccf-0277-4442-b8a8-54fcf546f631',\n",
       "         'name': 'favicon.ico',\n",
       "         'health_status': 1,\n",
       "         'visible_status': 0,\n",
       "         'previous_hash': None,\n",
       "         'revealed_to_red': False,\n",
       "         'size': 0,\n",
       "         'file_type': 'UNKNOWN',\n",
       "         'num_access': 0}},\n",
       "       'deleted_files': {},\n",
       "       'scanned_this_step': False},\n",
       "      'static': {'uuid': '31cb39e2-f9ab-4c4e-8fdf-b196e1d86a0b',\n",
       "       'name': 'static',\n",
       "       'health_status': 1,\n",
       "       'visible_status': 0,\n",
       "       'previous_hash': None,\n",
       "       'revealed_to_red': False,\n",
       "       'files': {},\n",
       "       'deleted_files': {},\n",
       "       'scanned_this_step': False}},\n",
       "     'deleted_folders': {},\n",
       "     'num_file_creations': 1,\n",
       "     'num_file_deletions': 0},\n",
       "    'applications': {'web-browser': {'uuid': 'caa7086f-adc4-41d2-9492-6375dc47130f',\n",
       "      'health_state_actual': 1,\n",
       "      'health_state_visible': 0,\n",
       "      'criticality': 1,\n",
       "      'fixing_count': 0,\n",
       "      'scanning_count': 0,\n",
       "      'revealed_to_red': False,\n",
       "      'installing_count': 0,\n",
       "      'max_sessions': 100,\n",
       "      'tcp': True,\n",
       "      'udp': True,\n",
       "      'port': 80,\n",
       "      'operating_state': 2,\n",
       "      'execution_control_status': 'manual',\n",
       "      'num_executions': 0,\n",
       "      'groups': [],\n",
       "      'history': []},\n",
       "     'nmap': {'uuid': 'e1b38efb-036b-49e4-839a-eec10af5a0c8',\n",
       "      'health_state_actual': 1,\n",
       "      'health_state_visible': 0,\n",
       "      'criticality': 1,\n",
       "      'fixing_count': 0,\n",
       "      'scanning_count': 0,\n",
       "      'revealed_to_red': False,\n",
       "      'installing_count': 0,\n",
       "      'max_sessions': 100,\n",
       "      'tcp': True,\n",
       "      'udp': True,\n",
       "      'port': 0,\n",
       "      'operating_state': 2,\n",
       "      'execution_control_status': 'manual',\n",
       "      'num_executions': 0,\n",
       "      'groups': []}},\n",
       "    'services': {'arp': {'uuid': 'da460aaf-1af5-438b-b53b-4985a6830041',\n",
       "      'health_state_actual': 1,\n",
       "      'health_state_visible': 0,\n",
       "      'criticality': 1,\n",
       "      'fixing_count': 0,\n",
       "      'scanning_count': 0,\n",
       "      'revealed_to_red': False,\n",
       "      'installing_count': 0,\n",
       "      'max_sessions': 100,\n",
       "      'tcp': True,\n",
       "      'udp': True,\n",
       "      'port': 219,\n",
       "      'operating_state': 1},\n",
       "     'icmp': {'uuid': 'e803d81f-deb1-44c2-8dd7-9973d4f324f5',\n",
       "      'health_state_actual': 1,\n",
       "      'health_state_visible': 0,\n",
       "      'criticality': 1,\n",
       "      'fixing_count': 0,\n",
       "      'scanning_count': 0,\n",
       "      'revealed_to_red': False,\n",
       "      'installing_count': 0,\n",
       "      'max_sessions': 100,\n",
       "      'tcp': True,\n",
       "      'udp': True,\n",
       "      'port': 0,\n",
       "      'operating_state': 1},\n",
       "     'dns-client': {'uuid': 'd097f01d-4549-4321-b07d-d3aebb796d71',\n",
       "      'health_state_actual': 1,\n",
       "      'health_state_visible': 0,\n",
       "      'criticality': 1,\n",
       "      'fixing_count': 0,\n",
       "      'scanning_count': 0,\n",
       "      'revealed_to_red': False,\n",
       "      'installing_count': 0,\n",
       "      'max_sessions': 100,\n",
       "      'tcp': True,\n",
       "      'udp': True,\n",
       "      'port': 53,\n",
       "      'operating_state': 1},\n",
       "     'ntp-client': {'uuid': 'be08b21d-a450-4f79-9b93-9efdf3f28be5',\n",
       "      'health_state_actual': 1,\n",
       "      'health_state_visible': 0,\n",
       "      'criticality': 1,\n",
       "      'fixing_count': 0,\n",
       "      'scanning_count': 0,\n",
       "      'revealed_to_red': False,\n",
       "      'installing_count': 0,\n",
       "      'max_sessions': 100,\n",
       "      'tcp': True,\n",
       "      'udp': True,\n",
       "      'port': 123,\n",
       "      'operating_state': 1},\n",
       "     'user-session-manager': {'uuid': '889fd3e6-71f5-4080-9b4e-6731bb621c9a',\n",
       "      'health_state_actual': 1,\n",
       "      'health_state_visible': 0,\n",
       "      'criticality': 1,\n",
       "      'fixing_count': 0,\n",
       "      'scanning_count': 0,\n",
       "      'revealed_to_red': False,\n",
       "      'installing_count': 0,\n",
       "      'max_sessions': 100,\n",
       "      'tcp': True,\n",
       "      'udp': True,\n",
       "      'port': 0,\n",
       "      'operating_state': 1,\n",
       "      'current_local_user': None,\n",
       "      'active_remote_sessions': []},\n",
       "     'user-manager': {'uuid': 'a1dc1160-1ffd-412c-ae65-8b2660562fd0',\n",
       "      'health_state_actual': 1,\n",
       "      'health_state_visible': 0,\n",
       "      'criticality': 1,\n",
       "      'fixing_count': 0,\n",
       "      'scanning_count': 0,\n",
       "      'revealed_to_red': False,\n",
       "      'installing_count': 0,\n",
       "      'max_sessions': 100,\n",
       "      'tcp': True,\n",
       "      'udp': True,\n",
       "      'port': 0,\n",
       "      'operating_state': 1,\n",
       "      'total_users': 1,\n",
       "      'total_admins': 1,\n",
       "      'users': {'admin': {'uuid': 'ff9d23d2-cfbd-4db6-9d2c-6ffaaa2a1b36',\n",
       "        'username': 'admin',\n",
       "        'password': 'admin',\n",
       "        'disabled': False,\n",
       "        'is_admin': True,\n",
       "        'num_of_logins': 0}}},\n",
       "     'terminal': {'uuid': '752e3151-d352-4380-99ed-f5b0bd4f3b56',\n",
       "      'health_state_actual': 1,\n",
       "      'health_state_visible': 0,\n",
       "      'criticality': 1,\n",
       "      'fixing_count': 0,\n",
       "      'scanning_count': 0,\n",
       "      'revealed_to_red': False,\n",
       "      'installing_count': 0,\n",
       "      'max_sessions': 100,\n",
       "      'tcp': True,\n",
       "      'udp': True,\n",
       "      'port': 22,\n",
       "      'operating_state': 1}},\n",
       "    'process': {},\n",
       "    'revealed_to_red': False},\n",
       "   'switch1': {'uuid': 'e60cdef4-81cc-4938-badf-ef56ca7ea4bb',\n",
       "    'hostname': 'switch1',\n",
       "    'operating_state': 1,\n",
       "    'NICs': {1: {'uuid': '3f9b5c40-6aa7-4f30-a763-260c1fa8a6d1',\n",
       "      'mac_address': '30:a7:88:69:8b:04',\n",
       "      'speed': 100.0,\n",
       "      'mtu': 1500,\n",
       "      'enabled': True,\n",
       "      'traffic': {}},\n",
       "     2: {'uuid': 'fff219e1-3404-4a50-89a9-7afde9da1558',\n",
       "      'mac_address': '75:b7:d6:ba:9a:b5',\n",
       "      'speed': 100.0,\n",
       "      'mtu': 1500,\n",
       "      'enabled': True,\n",
       "      'traffic': {}},\n",
       "     3: {'uuid': 'f8b65770-1832-4333-b26e-63e93fac74b2',\n",
       "      'mac_address': 'd4:a0:a0:66:37:e3',\n",
       "      'speed': 100.0,\n",
       "      'mtu': 1500,\n",
       "      'enabled': False,\n",
       "      'traffic': {}},\n",
       "     4: {'uuid': '96ddbcc8-b654-4223-8e55-945b59729f78',\n",
       "      'mac_address': '38:a1:08:df:b1:85',\n",
       "      'speed': 100.0,\n",
       "      'mtu': 1500,\n",
       "      'enabled': False,\n",
       "      'traffic': {}},\n",
       "     5: {'uuid': 'ff8a9b79-1265-4223-8cac-6ab94be965e6',\n",
       "      'mac_address': 'bb:79:54:6e:b6:66',\n",
       "      'speed': 100.0,\n",
       "      'mtu': 1500,\n",
       "      'enabled': False,\n",
       "      'traffic': {}},\n",
       "     6: {'uuid': 'b63fe86f-54ff-414a-891d-3f9cccd03a73',\n",
       "      'mac_address': '1f:c9:40:80:98:b1',\n",
       "      'speed': 100.0,\n",
       "      'mtu': 1500,\n",
       "      'enabled': False,\n",
       "      'traffic': {}},\n",
       "     7: {'uuid': '46984d95-3299-4140-8f80-2182ea64bdae',\n",
       "      'mac_address': '6f:6f:32:ce:08:7a',\n",
       "      'speed': 100.0,\n",
       "      'mtu': 1500,\n",
       "      'enabled': False,\n",
       "      'traffic': {}},\n",
       "     8: {'uuid': '6993b72f-df38-45c5-a8c4-202478f3b805',\n",
       "      'mac_address': '84:d7:f9:a6:a9:97',\n",
       "      'speed': 100.0,\n",
       "      'mtu': 1500,\n",
       "      'enabled': False,\n",
       "      'traffic': {}},\n",
       "     9: {'uuid': '831d6194-08fd-48f9-94ea-70a68e63b3c2',\n",
       "      'mac_address': 'c4:0a:62:2e:11:97',\n",
       "      'speed': 100.0,\n",
       "      'mtu': 1500,\n",
       "      'enabled': False,\n",
       "      'traffic': {}},\n",
       "     10: {'uuid': 'a06a4fd3-70d8-425e-8f68-f31794ab6c7c',\n",
       "      'mac_address': '34:fb:47:8c:a0:7b',\n",
       "      'speed': 100.0,\n",
       "      'mtu': 1500,\n",
       "      'enabled': False,\n",
       "      'traffic': {}},\n",
       "     11: {'uuid': 'e1d09974-4cb9-41ff-9e5d-57773afe91d4',\n",
       "      'mac_address': '43:a5:eb:1c:9c:47',\n",
       "      'speed': 100.0,\n",
       "      'mtu': 1500,\n",
       "      'enabled': False,\n",
       "      'traffic': {}},\n",
       "     12: {'uuid': '3b4c5be2-2762-44cd-ba47-47a3fa40ad1e',\n",
       "      'mac_address': 'b3:8a:91:a3:bd:ba',\n",
       "      'speed': 100.0,\n",
       "      'mtu': 1500,\n",
       "      'enabled': False,\n",
       "      'traffic': {}}},\n",
       "    'file_system': {'uuid': 'a550899e-bfa8-44d3-b4c3-3372c21f7149',\n",
       "     'folders': {'root': {'uuid': 'f517d6d5-f581-4ca1-a4ff-604eb35a988c',\n",
       "       'name': 'root',\n",
       "       'health_status': 1,\n",
       "       'visible_status': 0,\n",
       "       'previous_hash': None,\n",
       "       'revealed_to_red': False,\n",
       "       'files': {},\n",
       "       'deleted_files': {},\n",
       "       'scanned_this_step': False}},\n",
       "     'deleted_folders': {},\n",
       "     'num_file_creations': 0,\n",
       "     'num_file_deletions': 0},\n",
       "    'applications': {},\n",
       "    'services': {},\n",
       "    'process': {},\n",
       "    'revealed_to_red': False,\n",
       "    'ports': {1: {'uuid': '3f9b5c40-6aa7-4f30-a763-260c1fa8a6d1',\n",
       "      'mac_address': '30:a7:88:69:8b:04',\n",
       "      'speed': 100.0,\n",
       "      'mtu': 1500,\n",
       "      'enabled': True,\n",
       "      'traffic': {}},\n",
       "     2: {'uuid': 'fff219e1-3404-4a50-89a9-7afde9da1558',\n",
       "      'mac_address': '75:b7:d6:ba:9a:b5',\n",
       "      'speed': 100.0,\n",
       "      'mtu': 1500,\n",
       "      'enabled': True,\n",
       "      'traffic': {}},\n",
       "     3: {'uuid': 'f8b65770-1832-4333-b26e-63e93fac74b2',\n",
       "      'mac_address': 'd4:a0:a0:66:37:e3',\n",
       "      'speed': 100.0,\n",
       "      'mtu': 1500,\n",
       "      'enabled': False,\n",
       "      'traffic': {}},\n",
       "     4: {'uuid': '96ddbcc8-b654-4223-8e55-945b59729f78',\n",
       "      'mac_address': '38:a1:08:df:b1:85',\n",
       "      'speed': 100.0,\n",
       "      'mtu': 1500,\n",
       "      'enabled': False,\n",
       "      'traffic': {}},\n",
       "     5: {'uuid': 'ff8a9b79-1265-4223-8cac-6ab94be965e6',\n",
       "      'mac_address': 'bb:79:54:6e:b6:66',\n",
       "      'speed': 100.0,\n",
       "      'mtu': 1500,\n",
       "      'enabled': False,\n",
       "      'traffic': {}},\n",
       "     6: {'uuid': 'b63fe86f-54ff-414a-891d-3f9cccd03a73',\n",
       "      'mac_address': '1f:c9:40:80:98:b1',\n",
       "      'speed': 100.0,\n",
       "      'mtu': 1500,\n",
       "      'enabled': False,\n",
       "      'traffic': {}},\n",
       "     7: {'uuid': '46984d95-3299-4140-8f80-2182ea64bdae',\n",
       "      'mac_address': '6f:6f:32:ce:08:7a',\n",
       "      'speed': 100.0,\n",
       "      'mtu': 1500,\n",
       "      'enabled': False,\n",
       "      'traffic': {}},\n",
       "     8: {'uuid': '6993b72f-df38-45c5-a8c4-202478f3b805',\n",
       "      'mac_address': '84:d7:f9:a6:a9:97',\n",
       "      'speed': 100.0,\n",
       "      'mtu': 1500,\n",
       "      'enabled': False,\n",
       "      'traffic': {}},\n",
       "     9: {'uuid': '831d6194-08fd-48f9-94ea-70a68e63b3c2',\n",
       "      'mac_address': 'c4:0a:62:2e:11:97',\n",
       "      'speed': 100.0,\n",
       "      'mtu': 1500,\n",
       "      'enabled': False,\n",
       "      'traffic': {}},\n",
       "     10: {'uuid': 'a06a4fd3-70d8-425e-8f68-f31794ab6c7c',\n",
       "      'mac_address': '34:fb:47:8c:a0:7b',\n",
       "      'speed': 100.0,\n",
       "      'mtu': 1500,\n",
       "      'enabled': False,\n",
       "      'traffic': {}},\n",
       "     11: {'uuid': 'e1d09974-4cb9-41ff-9e5d-57773afe91d4',\n",
       "      'mac_address': '43:a5:eb:1c:9c:47',\n",
       "      'speed': 100.0,\n",
       "      'mtu': 1500,\n",
       "      'enabled': False,\n",
       "      'traffic': {}},\n",
       "     12: {'uuid': '3b4c5be2-2762-44cd-ba47-47a3fa40ad1e',\n",
       "      'mac_address': 'b3:8a:91:a3:bd:ba',\n",
       "      'speed': 100.0,\n",
       "      'mtu': 1500,\n",
       "      'enabled': False,\n",
       "      'traffic': {}}},\n",
       "    'mac_address_table': {}}},\n",
       "  'links': {'pc_1:eth-2<->switch1:eth-1': {'uuid': '1917f441-e42b-4981-bd99-bac437643632',\n",
       "    'endpoint_a': '56518a14-9043-4f7f-8b35-0bd402ef829d',\n",
       "    'endpoint_b': '3f9b5c40-6aa7-4f30-a763-260c1fa8a6d1',\n",
       "    'bandwidth': 100.0,\n",
       "    'current_load': 0.0,\n",
       "    'hostname_a': 'pc_1',\n",
       "    'hostname_b': 'switch1',\n",
       "    'port_a': 2,\n",
       "    'port_b': 1},\n",
       "   'Server:eth-2<->switch1:eth-2': {'uuid': '6a5d9dc3-dab2-413b-a709-fa3c9d218b53',\n",
       "    'endpoint_a': '86d99ed3-c0b8-4620-b309-25595acb817b',\n",
       "    'endpoint_b': 'fff219e1-3404-4a50-89a9-7afde9da1558',\n",
       "    'bandwidth': 100.0,\n",
       "    'current_load': 0.0,\n",
       "    'hostname_a': 'Server',\n",
       "    'hostname_b': 'switch1',\n",
       "    'port_a': 2,\n",
       "    'port_b': 2}}},\n",
       " 'domain': {'uuid': '5ef25901-084d-42a3-b623-5126f996be2a',\n",
       "  'accounts': {'admin': {'uuid': 'ed92d005-9305-4134-90d7-d7419dd37c47',\n",
       "    'num_logons': 0,\n",
       "    'num_logoffs': 0,\n",
       "    'num_group_changes': 0,\n",
       "    'username': 'admin',\n",
       "    'password': 'admin12',\n",
       "    'account_type': 2,\n",
       "    'enabled': True}}}}"
      ]
     },
     "execution_count": 15,
     "metadata": {},
     "output_type": "execute_result"
    }
   ],
   "source": [
    "my_sim.describe_state()"
   ]
  },
  {
   "cell_type": "code",
   "execution_count": 16,
   "metadata": {
    "execution": {
     "iopub.execute_input": "2025-03-24T10:01:49.147777Z",
     "iopub.status.busy": "2025-03-24T10:01:49.147288Z",
     "iopub.status.idle": "2025-03-24T10:01:49.152685Z",
     "shell.execute_reply": "2025-03-24T10:01:49.152092Z"
    }
   },
   "outputs": [
    {
     "data": {
      "text/plain": [
       "'{\"uuid\": \"cfa100b7-7970-4370-a74d-8e5268db25ff\", \"network\": {\"uuid\": \"ddef284e-6c84-4a11-b398-794d55d1177b\", \"nodes\": {\"pc_1\": {\"uuid\": \"0bab65e8-36a1-4a54-86c4-84b69e27bc34\", \"hostname\": \"pc_1\", \"operating_state\": 1, \"NICs\": {\"1\": {\"uuid\": \"083c901e-753c-4e3e-a829-710e993d54a2\", \"mac_address\": \"f3:38:b8:0f:94:77\", \"speed\": 100.0, \"mtu\": 1500, \"enabled\": false, \"traffic\": {}, \"ip_address\": \"192.168.1.10\", \"subnet_mask\": \"255.255.255.0\", \"wake_on_lan\": false}, \"2\": {\"uuid\": \"56518a14-9043-4f7f-8b35-0bd402ef829d\", \"mac_address\": \"0a:7b:01:71:ac:ee\", \"speed\": 100.0, \"mtu\": 1500, \"enabled\": true, \"traffic\": {}, \"ip_address\": \"130.1.1.1\", \"subnet_mask\": \"255.255.255.0\", \"wake_on_lan\": false}}, \"file_system\": {\"uuid\": \"835b066c-0ee3-4979-901d-e65369d6f721\", \"folders\": {\"root\": {\"uuid\": \"efc0c3df-f942-49a1-bc76-95a8eb6b579e\", \"name\": \"root\", \"health_status\": 1, \"visible_status\": 0, \"previous_hash\": null, \"revealed_to_red\": false, \"files\": {}, \"deleted_files\": {}, \"scanned_this_step\": false}, \"downloads\": {\"uuid\": \"c3b62a62-a3f1-4b2c-9fa7-5b9f171a56f0\", \"name\": \"downloads\", \"health_status\": 1, \"visible_status\": 0, \"previous_hash\": null, \"revealed_to_red\": false, \"files\": {\"firefox_installer.zip\": {\"uuid\": \"1b7fd706-9e29-4316-947c-b843df01dc0a\", \"name\": \"firefox_installer.zip\", \"health_status\": 1, \"visible_status\": 0, \"previous_hash\": null, \"revealed_to_red\": false, \"size\": 1024000, \"file_type\": \"ZIP\", \"num_access\": 0}}, \"deleted_files\": {}, \"scanned_this_step\": false}}, \"deleted_folders\": {}, \"num_file_creations\": 0, \"num_file_deletions\": 0}, \"applications\": {\"web-browser\": {\"uuid\": \"dd3daeb3-a3c5-4565-a286-29f74ad03be7\", \"health_state_actual\": 1, \"health_state_visible\": 0, \"criticality\": 1, \"fixing_count\": 0, \"scanning_count\": 0, \"revealed_to_red\": false, \"installing_count\": 0, \"max_sessions\": 100, \"tcp\": true, \"udp\": true, \"port\": 80, \"operating_state\": 2, \"execution_control_status\": \"manual\", \"num_executions\": 0, \"groups\": [], \"history\": []}, \"nmap\": {\"uuid\": \"a156b97d-f472-4e2b-b21a-5ff70e74d181\", \"health_state_actual\": 1, \"health_state_visible\": 0, \"criticality\": 1, \"fixing_count\": 0, \"scanning_count\": 0, \"revealed_to_red\": false, \"installing_count\": 0, \"max_sessions\": 100, \"tcp\": true, \"udp\": true, \"port\": 0, \"operating_state\": 2, \"execution_control_status\": \"manual\", \"num_executions\": 0, \"groups\": []}, \"MSPaint\": {\"uuid\": \"5d0ceb3b-3a58-41b9-b000-1c1b61be18d1\", \"health_state_actual\": 1, \"health_state_visible\": 0, \"criticality\": 1, \"fixing_count\": 0, \"scanning_count\": 0, \"revealed_to_red\": false, \"installing_count\": 0, \"max_sessions\": 100, \"tcp\": true, \"udp\": true, \"port\": 80, \"operating_state\": 2, \"execution_control_status\": \"manual\", \"num_executions\": 0, \"groups\": []}}, \"services\": {\"arp\": {\"uuid\": \"64b79e33-67c9-4bc5-a175-86abf0c9d1fd\", \"health_state_actual\": 1, \"health_state_visible\": 0, \"criticality\": 1, \"fixing_count\": 0, \"scanning_count\": 0, \"revealed_to_red\": false, \"installing_count\": 0, \"max_sessions\": 100, \"tcp\": true, \"udp\": true, \"port\": 219, \"operating_state\": 1}, \"icmp\": {\"uuid\": \"69218b05-5189-4e45-a113-e1b27112edb7\", \"health_state_actual\": 1, \"health_state_visible\": 0, \"criticality\": 1, \"fixing_count\": 0, \"scanning_count\": 0, \"revealed_to_red\": false, \"installing_count\": 0, \"max_sessions\": 100, \"tcp\": true, \"udp\": true, \"port\": 0, \"operating_state\": 1}, \"dns-client\": {\"uuid\": \"aea74dac-c3db-44d3-9322-874cfe4081b0\", \"health_state_actual\": 1, \"health_state_visible\": 0, \"criticality\": 1, \"fixing_count\": 0, \"scanning_count\": 0, \"revealed_to_red\": false, \"installing_count\": 0, \"max_sessions\": 100, \"tcp\": true, \"udp\": true, \"port\": 53, \"operating_state\": 1}, \"ntp-client\": {\"uuid\": \"46aef833-ded8-405a-b492-9f769e90d984\", \"health_state_actual\": 1, \"health_state_visible\": 0, \"criticality\": 1, \"fixing_count\": 0, \"scanning_count\": 0, \"revealed_to_red\": false, \"installing_count\": 0, \"max_sessions\": 100, \"tcp\": true, \"udp\": true, \"port\": 123, \"operating_state\": 1}, \"user-session-manager\": {\"uuid\": \"775915cc-e291-4dbe-8c28-b9dbfa6f0ba4\", \"health_state_actual\": 1, \"health_state_visible\": 0, \"criticality\": 1, \"fixing_count\": 0, \"scanning_count\": 0, \"revealed_to_red\": false, \"installing_count\": 0, \"max_sessions\": 100, \"tcp\": true, \"udp\": true, \"port\": 0, \"operating_state\": 1, \"current_local_user\": null, \"active_remote_sessions\": []}, \"user-manager\": {\"uuid\": \"36fa5517-f0b9-4297-a88d-274f2668892d\", \"health_state_actual\": 1, \"health_state_visible\": 0, \"criticality\": 1, \"fixing_count\": 0, \"scanning_count\": 0, \"revealed_to_red\": false, \"installing_count\": 0, \"max_sessions\": 100, \"tcp\": true, \"udp\": true, \"port\": 0, \"operating_state\": 1, \"total_users\": 1, \"total_admins\": 1, \"users\": {\"admin\": {\"uuid\": \"4834aad2-16b0-41ce-9098-c88b8db8386c\", \"username\": \"admin\", \"password\": \"admin\", \"disabled\": false, \"is_admin\": true, \"num_of_logins\": 0}}}, \"terminal\": {\"uuid\": \"784d299f-4604-4903-beaa-4d4f80828efc\", \"health_state_actual\": 1, \"health_state_visible\": 0, \"criticality\": 1, \"fixing_count\": 0, \"scanning_count\": 0, \"revealed_to_red\": false, \"installing_count\": 0, \"max_sessions\": 100, \"tcp\": true, \"udp\": true, \"port\": 22, \"operating_state\": 1}, \"ftp-client\": {\"uuid\": \"006371f7-8b1c-4e2b-88f2-77baf790dd9d\", \"health_state_actual\": 1, \"health_state_visible\": 0, \"criticality\": 1, \"fixing_count\": 0, \"scanning_count\": 0, \"revealed_to_red\": false, \"installing_count\": 0, \"max_sessions\": 100, \"tcp\": true, \"udp\": true, \"port\": 21, \"operating_state\": 2}}, \"process\": {}, \"revealed_to_red\": false}, \"Server\": {\"uuid\": \"48c759a4-6e8c-41c5-a51d-d4aaae058d2a\", \"hostname\": \"Server\", \"operating_state\": 1, \"NICs\": {\"1\": {\"uuid\": \"90f9e597-c9f9-4590-b587-95b638550054\", \"mac_address\": \"dc:90:9b:7f:4a:20\", \"speed\": 100.0, \"mtu\": 1500, \"enabled\": false, \"traffic\": {}, \"ip_address\": \"192.168.1.11\", \"subnet_mask\": \"255.255.255.0\", \"wake_on_lan\": false}, \"2\": {\"uuid\": \"86d99ed3-c0b8-4620-b309-25595acb817b\", \"mac_address\": \"e0:b4:28:49:f5:14\", \"speed\": 100.0, \"mtu\": 1500, \"enabled\": true, \"traffic\": {}, \"ip_address\": \"130.1.1.2\", \"subnet_mask\": \"255.255.255.0\", \"wake_on_lan\": false}}, \"file_system\": {\"uuid\": \"7257cc8e-5007-4997-b048-998dde87609d\", \"folders\": {\"root\": {\"uuid\": \"17a128b7-66a4-497a-ac67-3e46dc32de16\", \"name\": \"root\", \"health_status\": 1, \"visible_status\": 0, \"previous_hash\": null, \"revealed_to_red\": false, \"files\": {\"favicon.ico\": {\"uuid\": \"7dddaccf-0277-4442-b8a8-54fcf546f631\", \"name\": \"favicon.ico\", \"health_status\": 1, \"visible_status\": 0, \"previous_hash\": null, \"revealed_to_red\": false, \"size\": 0, \"file_type\": \"UNKNOWN\", \"num_access\": 0}}, \"deleted_files\": {}, \"scanned_this_step\": false}, \"static\": {\"uuid\": \"31cb39e2-f9ab-4c4e-8fdf-b196e1d86a0b\", \"name\": \"static\", \"health_status\": 1, \"visible_status\": 0, \"previous_hash\": null, \"revealed_to_red\": false, \"files\": {}, \"deleted_files\": {}, \"scanned_this_step\": false}}, \"deleted_folders\": {}, \"num_file_creations\": 1, \"num_file_deletions\": 0}, \"applications\": {\"web-browser\": {\"uuid\": \"caa7086f-adc4-41d2-9492-6375dc47130f\", \"health_state_actual\": 1, \"health_state_visible\": 0, \"criticality\": 1, \"fixing_count\": 0, \"scanning_count\": 0, \"revealed_to_red\": false, \"installing_count\": 0, \"max_sessions\": 100, \"tcp\": true, \"udp\": true, \"port\": 80, \"operating_state\": 2, \"execution_control_status\": \"manual\", \"num_executions\": 0, \"groups\": [], \"history\": []}, \"nmap\": {\"uuid\": \"e1b38efb-036b-49e4-839a-eec10af5a0c8\", \"health_state_actual\": 1, \"health_state_visible\": 0, \"criticality\": 1, \"fixing_count\": 0, \"scanning_count\": 0, \"revealed_to_red\": false, \"installing_count\": 0, \"max_sessions\": 100, \"tcp\": true, \"udp\": true, \"port\": 0, \"operating_state\": 2, \"execution_control_status\": \"manual\", \"num_executions\": 0, \"groups\": []}}, \"services\": {\"arp\": {\"uuid\": \"da460aaf-1af5-438b-b53b-4985a6830041\", \"health_state_actual\": 1, \"health_state_visible\": 0, \"criticality\": 1, \"fixing_count\": 0, \"scanning_count\": 0, \"revealed_to_red\": false, \"installing_count\": 0, \"max_sessions\": 100, \"tcp\": true, \"udp\": true, \"port\": 219, \"operating_state\": 1}, \"icmp\": {\"uuid\": \"e803d81f-deb1-44c2-8dd7-9973d4f324f5\", \"health_state_actual\": 1, \"health_state_visible\": 0, \"criticality\": 1, \"fixing_count\": 0, \"scanning_count\": 0, \"revealed_to_red\": false, \"installing_count\": 0, \"max_sessions\": 100, \"tcp\": true, \"udp\": true, \"port\": 0, \"operating_state\": 1}, \"dns-client\": {\"uuid\": \"d097f01d-4549-4321-b07d-d3aebb796d71\", \"health_state_actual\": 1, \"health_state_visible\": 0, \"criticality\": 1, \"fixing_count\": 0, \"scanning_count\": 0, \"revealed_to_red\": false, \"installing_count\": 0, \"max_sessions\": 100, \"tcp\": true, \"udp\": true, \"port\": 53, \"operating_state\": 1}, \"ntp-client\": {\"uuid\": \"be08b21d-a450-4f79-9b93-9efdf3f28be5\", \"health_state_actual\": 1, \"health_state_visible\": 0, \"criticality\": 1, \"fixing_count\": 0, \"scanning_count\": 0, \"revealed_to_red\": false, \"installing_count\": 0, \"max_sessions\": 100, \"tcp\": true, \"udp\": true, \"port\": 123, \"operating_state\": 1}, \"user-session-manager\": {\"uuid\": \"889fd3e6-71f5-4080-9b4e-6731bb621c9a\", \"health_state_actual\": 1, \"health_state_visible\": 0, \"criticality\": 1, \"fixing_count\": 0, \"scanning_count\": 0, \"revealed_to_red\": false, \"installing_count\": 0, \"max_sessions\": 100, \"tcp\": true, \"udp\": true, \"port\": 0, \"operating_state\": 1, \"current_local_user\": null, \"active_remote_sessions\": []}, \"user-manager\": {\"uuid\": \"a1dc1160-1ffd-412c-ae65-8b2660562fd0\", \"health_state_actual\": 1, \"health_state_visible\": 0, \"criticality\": 1, \"fixing_count\": 0, \"scanning_count\": 0, \"revealed_to_red\": false, \"installing_count\": 0, \"max_sessions\": 100, \"tcp\": true, \"udp\": true, \"port\": 0, \"operating_state\": 1, \"total_users\": 1, \"total_admins\": 1, \"users\": {\"admin\": {\"uuid\": \"ff9d23d2-cfbd-4db6-9d2c-6ffaaa2a1b36\", \"username\": \"admin\", \"password\": \"admin\", \"disabled\": false, \"is_admin\": true, \"num_of_logins\": 0}}}, \"terminal\": {\"uuid\": \"752e3151-d352-4380-99ed-f5b0bd4f3b56\", \"health_state_actual\": 1, \"health_state_visible\": 0, \"criticality\": 1, \"fixing_count\": 0, \"scanning_count\": 0, \"revealed_to_red\": false, \"installing_count\": 0, \"max_sessions\": 100, \"tcp\": true, \"udp\": true, \"port\": 22, \"operating_state\": 1}}, \"process\": {}, \"revealed_to_red\": false}, \"switch1\": {\"uuid\": \"e60cdef4-81cc-4938-badf-ef56ca7ea4bb\", \"hostname\": \"switch1\", \"operating_state\": 1, \"NICs\": {\"1\": {\"uuid\": \"3f9b5c40-6aa7-4f30-a763-260c1fa8a6d1\", \"mac_address\": \"30:a7:88:69:8b:04\", \"speed\": 100.0, \"mtu\": 1500, \"enabled\": true, \"traffic\": {}}, \"2\": {\"uuid\": \"fff219e1-3404-4a50-89a9-7afde9da1558\", \"mac_address\": \"75:b7:d6:ba:9a:b5\", \"speed\": 100.0, \"mtu\": 1500, \"enabled\": true, \"traffic\": {}}, \"3\": {\"uuid\": \"f8b65770-1832-4333-b26e-63e93fac74b2\", \"mac_address\": \"d4:a0:a0:66:37:e3\", \"speed\": 100.0, \"mtu\": 1500, \"enabled\": false, \"traffic\": {}}, \"4\": {\"uuid\": \"96ddbcc8-b654-4223-8e55-945b59729f78\", \"mac_address\": \"38:a1:08:df:b1:85\", \"speed\": 100.0, \"mtu\": 1500, \"enabled\": false, \"traffic\": {}}, \"5\": {\"uuid\": \"ff8a9b79-1265-4223-8cac-6ab94be965e6\", \"mac_address\": \"bb:79:54:6e:b6:66\", \"speed\": 100.0, \"mtu\": 1500, \"enabled\": false, \"traffic\": {}}, \"6\": {\"uuid\": \"b63fe86f-54ff-414a-891d-3f9cccd03a73\", \"mac_address\": \"1f:c9:40:80:98:b1\", \"speed\": 100.0, \"mtu\": 1500, \"enabled\": false, \"traffic\": {}}, \"7\": {\"uuid\": \"46984d95-3299-4140-8f80-2182ea64bdae\", \"mac_address\": \"6f:6f:32:ce:08:7a\", \"speed\": 100.0, \"mtu\": 1500, \"enabled\": false, \"traffic\": {}}, \"8\": {\"uuid\": \"6993b72f-df38-45c5-a8c4-202478f3b805\", \"mac_address\": \"84:d7:f9:a6:a9:97\", \"speed\": 100.0, \"mtu\": 1500, \"enabled\": false, \"traffic\": {}}, \"9\": {\"uuid\": \"831d6194-08fd-48f9-94ea-70a68e63b3c2\", \"mac_address\": \"c4:0a:62:2e:11:97\", \"speed\": 100.0, \"mtu\": 1500, \"enabled\": false, \"traffic\": {}}, \"10\": {\"uuid\": \"a06a4fd3-70d8-425e-8f68-f31794ab6c7c\", \"mac_address\": \"34:fb:47:8c:a0:7b\", \"speed\": 100.0, \"mtu\": 1500, \"enabled\": false, \"traffic\": {}}, \"11\": {\"uuid\": \"e1d09974-4cb9-41ff-9e5d-57773afe91d4\", \"mac_address\": \"43:a5:eb:1c:9c:47\", \"speed\": 100.0, \"mtu\": 1500, \"enabled\": false, \"traffic\": {}}, \"12\": {\"uuid\": \"3b4c5be2-2762-44cd-ba47-47a3fa40ad1e\", \"mac_address\": \"b3:8a:91:a3:bd:ba\", \"speed\": 100.0, \"mtu\": 1500, \"enabled\": false, \"traffic\": {}}}, \"file_system\": {\"uuid\": \"a550899e-bfa8-44d3-b4c3-3372c21f7149\", \"folders\": {\"root\": {\"uuid\": \"f517d6d5-f581-4ca1-a4ff-604eb35a988c\", \"name\": \"root\", \"health_status\": 1, \"visible_status\": 0, \"previous_hash\": null, \"revealed_to_red\": false, \"files\": {}, \"deleted_files\": {}, \"scanned_this_step\": false}}, \"deleted_folders\": {}, \"num_file_creations\": 0, \"num_file_deletions\": 0}, \"applications\": {}, \"services\": {}, \"process\": {}, \"revealed_to_red\": false, \"ports\": {\"1\": {\"uuid\": \"3f9b5c40-6aa7-4f30-a763-260c1fa8a6d1\", \"mac_address\": \"30:a7:88:69:8b:04\", \"speed\": 100.0, \"mtu\": 1500, \"enabled\": true, \"traffic\": {}}, \"2\": {\"uuid\": \"fff219e1-3404-4a50-89a9-7afde9da1558\", \"mac_address\": \"75:b7:d6:ba:9a:b5\", \"speed\": 100.0, \"mtu\": 1500, \"enabled\": true, \"traffic\": {}}, \"3\": {\"uuid\": \"f8b65770-1832-4333-b26e-63e93fac74b2\", \"mac_address\": \"d4:a0:a0:66:37:e3\", \"speed\": 100.0, \"mtu\": 1500, \"enabled\": false, \"traffic\": {}}, \"4\": {\"uuid\": \"96ddbcc8-b654-4223-8e55-945b59729f78\", \"mac_address\": \"38:a1:08:df:b1:85\", \"speed\": 100.0, \"mtu\": 1500, \"enabled\": false, \"traffic\": {}}, \"5\": {\"uuid\": \"ff8a9b79-1265-4223-8cac-6ab94be965e6\", \"mac_address\": \"bb:79:54:6e:b6:66\", \"speed\": 100.0, \"mtu\": 1500, \"enabled\": false, \"traffic\": {}}, \"6\": {\"uuid\": \"b63fe86f-54ff-414a-891d-3f9cccd03a73\", \"mac_address\": \"1f:c9:40:80:98:b1\", \"speed\": 100.0, \"mtu\": 1500, \"enabled\": false, \"traffic\": {}}, \"7\": {\"uuid\": \"46984d95-3299-4140-8f80-2182ea64bdae\", \"mac_address\": \"6f:6f:32:ce:08:7a\", \"speed\": 100.0, \"mtu\": 1500, \"enabled\": false, \"traffic\": {}}, \"8\": {\"uuid\": \"6993b72f-df38-45c5-a8c4-202478f3b805\", \"mac_address\": \"84:d7:f9:a6:a9:97\", \"speed\": 100.0, \"mtu\": 1500, \"enabled\": false, \"traffic\": {}}, \"9\": {\"uuid\": \"831d6194-08fd-48f9-94ea-70a68e63b3c2\", \"mac_address\": \"c4:0a:62:2e:11:97\", \"speed\": 100.0, \"mtu\": 1500, \"enabled\": false, \"traffic\": {}}, \"10\": {\"uuid\": \"a06a4fd3-70d8-425e-8f68-f31794ab6c7c\", \"mac_address\": \"34:fb:47:8c:a0:7b\", \"speed\": 100.0, \"mtu\": 1500, \"enabled\": false, \"traffic\": {}}, \"11\": {\"uuid\": \"e1d09974-4cb9-41ff-9e5d-57773afe91d4\", \"mac_address\": \"43:a5:eb:1c:9c:47\", \"speed\": 100.0, \"mtu\": 1500, \"enabled\": false, \"traffic\": {}}, \"12\": {\"uuid\": \"3b4c5be2-2762-44cd-ba47-47a3fa40ad1e\", \"mac_address\": \"b3:8a:91:a3:bd:ba\", \"speed\": 100.0, \"mtu\": 1500, \"enabled\": false, \"traffic\": {}}}, \"mac_address_table\": {}}}, \"links\": {\"pc_1:eth-2<->switch1:eth-1\": {\"uuid\": \"1917f441-e42b-4981-bd99-bac437643632\", \"endpoint_a\": \"56518a14-9043-4f7f-8b35-0bd402ef829d\", \"endpoint_b\": \"3f9b5c40-6aa7-4f30-a763-260c1fa8a6d1\", \"bandwidth\": 100.0, \"current_load\": 0.0, \"hostname_a\": \"pc_1\", \"hostname_b\": \"switch1\", \"port_a\": 2, \"port_b\": 1}, \"Server:eth-2<->switch1:eth-2\": {\"uuid\": \"6a5d9dc3-dab2-413b-a709-fa3c9d218b53\", \"endpoint_a\": \"86d99ed3-c0b8-4620-b309-25595acb817b\", \"endpoint_b\": \"fff219e1-3404-4a50-89a9-7afde9da1558\", \"bandwidth\": 100.0, \"current_load\": 0.0, \"hostname_a\": \"Server\", \"hostname_b\": \"switch1\", \"port_a\": 2, \"port_b\": 2}}}, \"domain\": {\"uuid\": \"5ef25901-084d-42a3-b623-5126f996be2a\", \"accounts\": {\"admin\": {\"uuid\": \"ed92d005-9305-4134-90d7-d7419dd37c47\", \"num_logons\": 0, \"num_logoffs\": 0, \"num_group_changes\": 0, \"username\": \"admin\", \"password\": \"admin12\", \"account_type\": 2, \"enabled\": true}}}}'"
      ]
     },
     "execution_count": 16,
     "metadata": {},
     "output_type": "execute_result"
    }
   ],
   "source": [
    "import json\n",
    "json.dumps(my_sim.describe_state())"
   ]
  }
 ],
 "metadata": {
  "kernelspec": {
   "display_name": "Python 3 (ipykernel)",
   "language": "python",
   "name": "python3"
  },
  "language_info": {
   "codemirror_mode": {
    "name": "ipython",
    "version": 3
   },
   "file_extension": ".py",
   "mimetype": "text/x-python",
   "name": "python",
   "nbconvert_exporter": "python",
   "pygments_lexer": "ipython3",
   "version": "3.10.16"
  }
 },
 "nbformat": 4,
 "nbformat_minor": 2
}
