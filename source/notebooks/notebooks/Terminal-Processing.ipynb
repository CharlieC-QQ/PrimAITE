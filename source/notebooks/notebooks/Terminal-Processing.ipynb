{
 "cells": [
  {
   "cell_type": "markdown",
   "metadata": {},
   "source": [
    "# Terminal Processing\n",
    "\n",
    "© Crown-owned copyright 2025, Defence Science and Technology Laboratory UK"
   ]
  },
  {
   "cell_type": "markdown",
   "metadata": {},
   "source": [
    "This notebook serves as a guide on the functionality and use of the `terminal` service from both the simulation and game layers."
   ]
  },
  {
   "cell_type": "code",
   "execution_count": 1,
   "metadata": {
    "execution": {
     "iopub.execute_input": "2025-03-24T09:52:26.716625Z",
     "iopub.status.busy": "2025-03-24T09:52:26.716108Z",
     "iopub.status.idle": "2025-03-24T09:52:27.141137Z",
     "shell.execute_reply": "2025-03-24T09:52:27.140445Z"
    }
   },
   "outputs": [
    {
     "name": "stdout",
     "output_type": "stream",
     "text": [
      "2025-03-24 09:52:26,983: Performing the PrimAITE first-time setup...\r\n",
      "2025-03-24 09:52:26,983: Building the PrimAITE app directories...\r\n",
      "2025-03-24 09:52:26,983: Building primaite_config.yaml...\r\n",
      "2025-03-24 09:52:26,983: Rebuilding the demo notebooks...\r\n",
      "2025-03-24 09:52:27,005: Rebuilding the example notebooks...\r\n",
      "2025-03-24 09:52:27,007: PrimAITE setup complete!\r\n"
     ]
    }
   ],
   "source": [
    "!primaite setup"
   ]
  },
  {
   "cell_type": "code",
   "execution_count": 2,
   "metadata": {
    "execution": {
     "iopub.execute_input": "2025-03-24T09:52:27.144400Z",
     "iopub.status.busy": "2025-03-24T09:52:27.143928Z",
     "iopub.status.idle": "2025-03-24T09:52:28.272440Z",
     "shell.execute_reply": "2025-03-24T09:52:28.271675Z"
    }
   },
   "outputs": [],
   "source": [
    "from primaite.simulator.system.services.terminal.terminal import Terminal\n",
    "from primaite.simulator.network.container import Network\n",
    "from primaite.simulator.network.hardware.nodes.host.computer import Computer\n",
    "from primaite.simulator.system.applications.red_applications.ransomware_script import RansomwareScript\n",
    "from primaite.simulator.system.services.terminal.terminal import RemoteTerminalConnection\n"
   ]
  },
  {
   "cell_type": "markdown",
   "metadata": {},
   "source": [
    "## Simulation Layer Implementation."
   ]
  },
  {
   "cell_type": "markdown",
   "metadata": {},
   "source": [
    "The `terminal` service comes pre-installed on most node types. \n",
    "\n",
    "_The only exception to this being `switches` network nodes, this is because PrimAITE currently only implements 'dumb' switches. `routers` and `firewalls` however all support the `terminal`._"
   ]
  },
  {
   "cell_type": "code",
   "execution_count": 3,
   "metadata": {
    "execution": {
     "iopub.execute_input": "2025-03-24T09:52:28.275845Z",
     "iopub.status.busy": "2025-03-24T09:52:28.275535Z",
     "iopub.status.idle": "2025-03-24T09:52:28.696169Z",
     "shell.execute_reply": "2025-03-24T09:52:28.695319Z"
    }
   },
   "outputs": [
    {
     "name": "stdout",
     "output_type": "stream",
     "text": [
      "2025-03-24 09:52:28,538: Performing the PrimAITE first-time setup...\r\n"
     ]
    },
    {
     "name": "stdout",
     "output_type": "stream",
     "text": [
      "2025-03-24 09:52:28,538: Building the PrimAITE app directories...\r\n",
      "2025-03-24 09:52:28,538: Building primaite_config.yaml...\r\n",
      "2025-03-24 09:52:28,538: Rebuilding the demo notebooks...\r\n",
      "2025-03-24 09:52:28,561: Rebuilding the example notebooks...\r\n",
      "2025-03-24 09:52:28,563: PrimAITE setup complete!\r\n"
     ]
    }
   ],
   "source": [
    "!primaite setup"
   ]
  },
  {
   "cell_type": "markdown",
   "metadata": {},
   "source": [
    "In this notebook, the terminal is demoed on a basic network consisting of two computers, connected together via a link to form a basic LAN network which can be seen by the `basic_network()` method defined below."
   ]
  },
  {
   "cell_type": "code",
   "execution_count": 4,
   "metadata": {
    "execution": {
     "iopub.execute_input": "2025-03-24T09:52:28.699632Z",
     "iopub.status.busy": "2025-03-24T09:52:28.699385Z",
     "iopub.status.idle": "2025-03-24T09:52:28.704686Z",
     "shell.execute_reply": "2025-03-24T09:52:28.704027Z"
    }
   },
   "outputs": [],
   "source": [
    "def basic_network() -> Network:\n",
    "    \"\"\"Utility function for creating a default network to demonstrate Terminal functionality\"\"\"\n",
    "    network = Network()\n",
    "    node_a = Computer.from_config(\n",
    "            config = {\n",
    "            \"type\": \"computer\",\n",
    "            \"hostname\": \"node_a\",\n",
    "            \"ip_address\": \"192.168.0.10\",\n",
    "            \"subnet_mask\": \"255.255.255.0\",\n",
    "            # \"startup_duration\": 0,\n",
    "        }\n",
    "    )\n",
    "    node_a.power_on()\n",
    "    node_b = Computer.from_config(\n",
    "        config = {\n",
    "            \"type\": \"computer\",\n",
    "            \"hostname\": \"node_b\",\n",
    "            \"ip_address\": \"192.168.0.11\",\n",
    "            \"subnet_mask\": \"255.255.255.0\",\n",
    "            # \"startup_duration\": 0,\n",
    "        }\n",
    "    )\n",
    "    node_b.power_on()\n",
    "    network.connect(node_a.network_interface[1], node_b.network_interface[1])\n",
    "    return network"
   ]
  },
  {
   "cell_type": "markdown",
   "metadata": {},
   "source": [
    "After setting up the network, the terminal can be accessed from a `Node` via the `software_manager`:"
   ]
  },
  {
   "cell_type": "code",
   "execution_count": 5,
   "metadata": {
    "execution": {
     "iopub.execute_input": "2025-03-24T09:52:28.707352Z",
     "iopub.status.busy": "2025-03-24T09:52:28.706796Z",
     "iopub.status.idle": "2025-03-24T09:52:28.752514Z",
     "shell.execute_reply": "2025-03-24T09:52:28.751824Z"
    }
   },
   "outputs": [],
   "source": [
    "network: Network = basic_network()\n",
    "computer_a: Computer = network.get_node_by_hostname(\"node_a\")\n",
    "terminal_a: Terminal = computer_a.software_manager.software.get(\"terminal\")\n",
    "computer_b: Computer = network.get_node_by_hostname(\"node_b\")\n",
    "terminal_b: Terminal = computer_b.software_manager.software.get(\"terminal\")"
   ]
  },
  {
   "cell_type": "markdown",
   "metadata": {},
   "source": [
    "However, before we're able to send commands from `node_a` to `node_b`, you will need to `login` to `node_b` first, using valid user credentials. \n",
    "\n",
    "After providing successful credentials, the login method will return type of `TerminalClientConnection` object which can then be used for sending commands to the node. \n",
    "\n",
    "In the example below, we are remotely logging in to the default ***'admin'*** account on `node_b`, from `node_a` (If you are not logged in, any commands sent will be rejected by the remote).\n"
   ]
  },
  {
   "cell_type": "code",
   "execution_count": 6,
   "metadata": {
    "execution": {
     "iopub.execute_input": "2025-03-24T09:52:28.755696Z",
     "iopub.status.busy": "2025-03-24T09:52:28.755464Z",
     "iopub.status.idle": "2025-03-24T09:52:28.764790Z",
     "shell.execute_reply": "2025-03-24T09:52:28.764167Z"
    }
   },
   "outputs": [],
   "source": [
    "# Login to the remote (node_b) from local (node_a)\n",
    "term_a_term_b_remote_connection: RemoteTerminalConnection = terminal_a.login(username=\"admin\", password=\"admin\", ip_address=\"192.168.0.11\")"
   ]
  },
  {
   "cell_type": "markdown",
   "metadata": {},
   "source": [
    "You can view all active connections to a terminal through use of the `show()` method."
   ]
  },
  {
   "cell_type": "code",
   "execution_count": 7,
   "metadata": {
    "execution": {
     "iopub.execute_input": "2025-03-24T09:52:28.767352Z",
     "iopub.status.busy": "2025-03-24T09:52:28.767149Z",
     "iopub.status.idle": "2025-03-24T09:52:28.771390Z",
     "shell.execute_reply": "2025-03-24T09:52:28.770743Z"
    }
   },
   "outputs": [
    {
     "name": "stdout",
     "output_type": "stream",
     "text": [
      "+----------------------------------------------------------------------------------+\n",
      "|                           node_b terminal Connections                            |\n",
      "+--------------+--------------------------------------+----------------------------+\n",
      "| IP Address   | Connection ID                        | Creation Timestamp         |\n",
      "+--------------+--------------------------------------+----------------------------+\n",
      "| 192.168.0.10 | c15aa71c-461c-42dd-a2bd-0fa1cefd57dc | 2025-03-24 09:52:28.758503 |\n",
      "+--------------+--------------------------------------+----------------------------+\n"
     ]
    }
   ],
   "source": [
    "terminal_b.show()"
   ]
  },
  {
   "cell_type": "markdown",
   "metadata": {},
   "source": [
    "As we logged into a remote node, the login method return a `RemoteTerminalConnection` which allows us to forward commands to be executed on the target node. \n",
    "\n",
    "The example below demonstrates how you can remotely install an application on the target node."
   ]
  },
  {
   "cell_type": "code",
   "execution_count": 8,
   "metadata": {
    "execution": {
     "iopub.execute_input": "2025-03-24T09:52:28.774020Z",
     "iopub.status.busy": "2025-03-24T09:52:28.773650Z",
     "iopub.status.idle": "2025-03-24T09:52:28.781693Z",
     "shell.execute_reply": "2025-03-24T09:52:28.781127Z"
    }
   },
   "outputs": [
    {
     "data": {
      "text/plain": [
       "True"
      ]
     },
     "execution_count": 8,
     "metadata": {},
     "output_type": "execute_result"
    }
   ],
   "source": [
    "term_a_term_b_remote_connection.execute([\"software_manager\", \"application\", \"install\", \"ransomware-script\"])"
   ]
  },
  {
   "cell_type": "code",
   "execution_count": 9,
   "metadata": {
    "execution": {
     "iopub.execute_input": "2025-03-24T09:52:28.784208Z",
     "iopub.status.busy": "2025-03-24T09:52:28.783803Z",
     "iopub.status.idle": "2025-03-24T09:52:28.788779Z",
     "shell.execute_reply": "2025-03-24T09:52:28.788190Z"
    }
   },
   "outputs": [
    {
     "name": "stdout",
     "output_type": "stream",
     "text": [
      "+---------------------------------------------------------------------------------------+\n",
      "|                                node_b Software Manager                                |\n",
      "+----------------------+-------------+-----------------+--------------+------+----------+\n",
      "| Name                 | Type        | Operating State | Health State | Port | Protocol |\n",
      "+----------------------+-------------+-----------------+--------------+------+----------+\n",
      "| arp                  | Service     | RUNNING         | GOOD         | 219  | udp      |\n",
      "| icmp                 | Service     | RUNNING         | GOOD         | None | icmp     |\n",
      "| dns-client           | Service     | RUNNING         | GOOD         | 53   | tcp      |\n",
      "| ntp-client           | Service     | RUNNING         | GOOD         | 123  | udp      |\n",
      "| web-browser          | Application | CLOSED          | GOOD         | 80   | tcp      |\n",
      "| nmap                 | Application | CLOSED          | GOOD         | None | none     |\n",
      "| user-session-manager | Service     | RUNNING         | GOOD         | None | none     |\n",
      "| user-manager         | Service     | RUNNING         | GOOD         | None | none     |\n",
      "| terminal             | Service     | RUNNING         | GOOD         | 22   | tcp      |\n",
      "| ftp-client           | Service     | RUNNING         | GOOD         | 21   | tcp      |\n",
      "| ransomware-script    | Application | INSTALLING      | GOOD         | None | none     |\n",
      "+----------------------+-------------+-----------------+--------------+------+----------+\n"
     ]
    }
   ],
   "source": [
    "computer_b.software_manager.show()"
   ]
  },
  {
   "cell_type": "markdown",
   "metadata": {},
   "source": [
    "As the terminal allows us to leverage the [request system](./Requests-and-Responses.ipynb) we have full access to the request manager on any simulation component. For example, the code snippet below demonstrates how we the `terminal` allows the user of `terminal_a`, on `computer_a`, to send a command (in the form of a request) to `computer_b` to create a downloads folder. \n"
   ]
  },
  {
   "cell_type": "code",
   "execution_count": 10,
   "metadata": {
    "execution": {
     "iopub.execute_input": "2025-03-24T09:52:28.791075Z",
     "iopub.status.busy": "2025-03-24T09:52:28.790850Z",
     "iopub.status.idle": "2025-03-24T09:52:28.797382Z",
     "shell.execute_reply": "2025-03-24T09:52:28.796706Z"
    }
   },
   "outputs": [
    {
     "name": "stdout",
     "output_type": "stream",
     "text": [
      "+-----------------------------------------------------------------+\n",
      "|                        node_b File System                       |\n",
      "+--------+------+---------------+-----------------------+---------+\n",
      "| Folder | Size | Health status | Visible health status | Deleted |\n",
      "+--------+------+---------------+-----------------------+---------+\n",
      "| root   | 0 B  | GOOD          | NONE                  | False   |\n",
      "+--------+------+---------------+-----------------------+---------+\n"
     ]
    },
    {
     "data": {
      "text/plain": [
       "True"
      ]
     },
     "execution_count": 10,
     "metadata": {},
     "output_type": "execute_result"
    }
   ],
   "source": [
    "# Display the current state of the file system on computer_b\n",
    "computer_b.file_system.show()\n",
    "\n",
    "# Send command\n",
    "term_a_term_b_remote_connection.execute([\"file_system\", \"create\", \"folder\", \"downloads\"])"
   ]
  },
  {
   "cell_type": "markdown",
   "metadata": {},
   "source": [
    "The resultant call to `computer_b.file_system.show()` shows that the new folder has been created."
   ]
  },
  {
   "cell_type": "code",
   "execution_count": 11,
   "metadata": {
    "execution": {
     "iopub.execute_input": "2025-03-24T09:52:28.800186Z",
     "iopub.status.busy": "2025-03-24T09:52:28.799793Z",
     "iopub.status.idle": "2025-03-24T09:52:28.803387Z",
     "shell.execute_reply": "2025-03-24T09:52:28.802735Z"
    }
   },
   "outputs": [
    {
     "name": "stdout",
     "output_type": "stream",
     "text": [
      "+--------------------------------------------------------------------+\n",
      "|                         node_b File System                         |\n",
      "+-----------+------+---------------+-----------------------+---------+\n",
      "| Folder    | Size | Health status | Visible health status | Deleted |\n",
      "+-----------+------+---------------+-----------------------+---------+\n",
      "| downloads | 0 B  | GOOD          | NONE                  | False   |\n",
      "| root      | 0 B  | GOOD          | NONE                  | False   |\n",
      "+-----------+------+---------------+-----------------------+---------+\n"
     ]
    }
   ],
   "source": [
    "computer_b.file_system.show()"
   ]
  },
  {
   "cell_type": "markdown",
   "metadata": {},
   "source": [
    "Information about the latest response when executing a remote command can be seen by calling the `last_response` attribute within `Terminal`"
   ]
  },
  {
   "cell_type": "code",
   "execution_count": 12,
   "metadata": {
    "execution": {
     "iopub.execute_input": "2025-03-24T09:52:28.806322Z",
     "iopub.status.busy": "2025-03-24T09:52:28.805719Z",
     "iopub.status.idle": "2025-03-24T09:52:28.809236Z",
     "shell.execute_reply": "2025-03-24T09:52:28.808594Z"
    }
   },
   "outputs": [
    {
     "name": "stdout",
     "output_type": "stream",
     "text": [
      "status='success' data={'folder_name': 'downloads'}\n"
     ]
    }
   ],
   "source": [
    "print(terminal_a.last_response)"
   ]
  },
  {
   "cell_type": "markdown",
   "metadata": {},
   "source": [
    "When finished, the connection can be closed by calling the `disconnect` function of the Remote Client object"
   ]
  },
  {
   "cell_type": "code",
   "execution_count": 13,
   "metadata": {
    "execution": {
     "iopub.execute_input": "2025-03-24T09:52:28.811706Z",
     "iopub.status.busy": "2025-03-24T09:52:28.811504Z",
     "iopub.status.idle": "2025-03-24T09:52:28.817231Z",
     "shell.execute_reply": "2025-03-24T09:52:28.816563Z"
    }
   },
   "outputs": [
    {
     "name": "stdout",
     "output_type": "stream",
     "text": [
      "+----------------------------------------------------------------------------------+\n",
      "|                           node_a terminal Connections                            |\n",
      "+--------------+--------------------------------------+----------------------------+\n",
      "| IP Address   | Connection ID                        | Creation Timestamp         |\n",
      "+--------------+--------------------------------------+----------------------------+\n",
      "| 192.168.0.11 | c15aa71c-461c-42dd-a2bd-0fa1cefd57dc | 2025-03-24 09:52:28.762285 |\n",
      "+--------------+--------------------------------------+----------------------------+\n",
      "+----------------------------------------------------------------------------------+\n",
      "|                           node_b terminal Connections                            |\n",
      "+--------------+--------------------------------------+----------------------------+\n",
      "| IP Address   | Connection ID                        | Creation Timestamp         |\n",
      "+--------------+--------------------------------------+----------------------------+\n",
      "| 192.168.0.10 | c15aa71c-461c-42dd-a2bd-0fa1cefd57dc | 2025-03-24 09:52:28.758503 |\n",
      "+--------------+--------------------------------------+----------------------------+\n",
      "+-------------------------------------------------+\n",
      "|           node_a terminal Connections           |\n",
      "+------------+---------------+--------------------+\n",
      "| IP Address | Connection ID | Creation Timestamp |\n",
      "+------------+---------------+--------------------+\n",
      "+------------+---------------+--------------------+\n",
      "+-------------------------------------------------+\n",
      "|           node_b terminal Connections           |\n",
      "+------------+---------------+--------------------+\n",
      "| IP Address | Connection ID | Creation Timestamp |\n",
      "+------------+---------------+--------------------+\n",
      "+------------+---------------+--------------------+\n"
     ]
    }
   ],
   "source": [
    "# Display active connection\n",
    "terminal_a.show()\n",
    "terminal_b.show()\n",
    "\n",
    "term_a_term_b_remote_connection.disconnect()\n",
    "\n",
    "terminal_a.show()\n",
    "terminal_b.show()"
   ]
  },
  {
   "cell_type": "markdown",
   "metadata": {},
   "source": [
    "Disconnected Terminal sessions will no longer show in the node's Terminal connection list, but will be under the historic sessions in the `user_session_manager`."
   ]
  },
  {
   "cell_type": "code",
   "execution_count": 14,
   "metadata": {
    "execution": {
     "iopub.execute_input": "2025-03-24T09:52:28.820025Z",
     "iopub.status.busy": "2025-03-24T09:52:28.819612Z",
     "iopub.status.idle": "2025-03-24T09:52:28.823314Z",
     "shell.execute_reply": "2025-03-24T09:52:28.822635Z"
    }
   },
   "outputs": [
    {
     "name": "stdout",
     "output_type": "stream",
     "text": [
      "+--------------------------------------------------------------------------------------------------------------------+\n",
      "|                                                node_b User Sessions                                                |\n",
      "+--------------------------------------+----------+--------+--------------+------------+------------------+----------+\n",
      "| Session ID                           | Username | Type   | Remote IP    | Start Step | Step Last Active | End Step |\n",
      "+--------------------------------------+----------+--------+--------------+------------+------------------+----------+\n",
      "| c15aa71c-461c-42dd-a2bd-0fa1cefd57dc | admin    | remote | 192.168.0.10 | 0          | 0                |          |\n",
      "+--------------------------------------+----------+--------+--------------+------------+------------------+----------+\n"
     ]
    }
   ],
   "source": [
    "computer_b.user_session_manager.show(include_historic=True, include_session_id=True)"
   ]
  },
  {
   "cell_type": "markdown",
   "metadata": {},
   "source": [
    "## Game Layer Implementation\n",
    "\n",
    "This notebook section will detail the implementation of how the game layer utilises the terminal to support different agent actions.\n",
    "\n",
    "The ``terminal`` is directly leveraged to implement the following agent actions.\n",
    "\n",
    "\n",
    "|  Game Layer Action                | Simulation Layer         |\n",
    "|-----------------------------------|--------------------------|\n",
    "| ``node-send-local-command``       | Uses the given user credentials, creates a ``LocalTerminalSession`` and executes the given command and returns the ``RequestResponse``.\n",
    "| ``node-session-remote-login``                 | Uses the given user credentials and remote IP to create a ``RemoteTerminalSession``.\n",
    "| ``node-send-remote-command``      | Uses the given remote IP to locate the correct ``RemoteTerminalSession``, executes the given command and returns the ``RequestsResponse``.\n",
    "\n",
    "Additionally, the `terminal` is utilised extensively by the [c2 suite](./Command-and-Control-E2E-Demonstration.ipynb) and it's related actions. "
   ]
  },
  {
   "cell_type": "markdown",
   "metadata": {},
   "source": [
    "### Game Layer Setup\n",
    "\n",
    "Similar to other notebooks, the next code cells create a custom proxy agent to demonstrate how these commands can be leveraged by agents in the ``UC2`` network environment.\n",
    "\n",
    "If you're unfamiliar with ``UC2`` then please refer to the [UC2-E2E-Demo notebook for further reference](./Data-Manipulation-E2E-Demonstration.ipynb)."
   ]
  },
  {
   "cell_type": "code",
   "execution_count": 15,
   "metadata": {
    "execution": {
     "iopub.execute_input": "2025-03-24T09:52:28.825818Z",
     "iopub.status.busy": "2025-03-24T09:52:28.825622Z",
     "iopub.status.idle": "2025-03-24T09:52:30.952361Z",
     "shell.execute_reply": "2025-03-24T09:52:30.951686Z"
    }
   },
   "outputs": [],
   "source": [
    "import yaml\n",
    "from primaite.config.load import data_manipulation_config_path\n",
    "from primaite.session.environment import PrimaiteGymEnv"
   ]
  },
  {
   "cell_type": "code",
   "execution_count": 16,
   "metadata": {
    "execution": {
     "iopub.execute_input": "2025-03-24T09:52:30.955353Z",
     "iopub.status.busy": "2025-03-24T09:52:30.955128Z",
     "iopub.status.idle": "2025-03-24T09:52:30.962290Z",
     "shell.execute_reply": "2025-03-24T09:52:30.961718Z"
    }
   },
   "outputs": [],
   "source": [
    "custom_terminal_agent = \"\"\"\n",
    "  - ref: CustomTerminalAgent\n",
    "    team: RED\n",
    "    type: proxy-agent\n",
    "    action_space:\n",
    "      action_map:\n",
    "        0:\n",
    "          action: do-nothing\n",
    "          options: {}\n",
    "        1:\n",
    "          action: node-send-local-command\n",
    "          options:\n",
    "            node_name: client_1\n",
    "            username: admin\n",
    "            password: admin\n",
    "            command:\n",
    "                - file_system\n",
    "                - create\n",
    "                - file\n",
    "                - downloads\n",
    "                - dog.png\n",
    "                - False\n",
    "        2:\n",
    "          action: node-session-remote-login\n",
    "          options:\n",
    "            node_name: client_1\n",
    "            username: admin\n",
    "            password: admin\n",
    "            remote_ip: 192.168.10.22\n",
    "        3:\n",
    "          action: node-send-remote-command\n",
    "          options:\n",
    "            node_name: client_1\n",
    "            remote_ip: 192.168.10.22\n",
    "            command:\n",
    "                - file_system\n",
    "                - create\n",
    "                - file\n",
    "                - downloads\n",
    "                - cat.png\n",
    "                - False\n",
    "\"\"\"\n",
    "custom_terminal_agent_yaml = yaml.safe_load(custom_terminal_agent)"
   ]
  },
  {
   "cell_type": "code",
   "execution_count": 17,
   "metadata": {
    "execution": {
     "iopub.execute_input": "2025-03-24T09:52:30.964622Z",
     "iopub.status.busy": "2025-03-24T09:52:30.964421Z",
     "iopub.status.idle": "2025-03-24T09:52:31.100296Z",
     "shell.execute_reply": "2025-03-24T09:52:31.099693Z"
    }
   },
   "outputs": [
    {
     "name": "stderr",
     "output_type": "stream",
     "text": [
      "2025-03-24 09:52:31,097: PrimaiteGymEnv RNG seed = None\n"
     ]
    }
   ],
   "source": [
    "with open(data_manipulation_config_path()) as f:\n",
    "    cfg = yaml.safe_load(f)\n",
    "    # removing all agents & adding the custom agent.\n",
    "    cfg['agents'] = {}\n",
    "    cfg['agents'] = custom_terminal_agent_yaml\n",
    "\n",
    "env = PrimaiteGymEnv(env_config=cfg)\n",
    "\n",
    "client_1: Computer = env.game.simulation.network.get_node_by_hostname(\"client_1\")\n",
    "client_2: Computer = env.game.simulation.network.get_node_by_hostname(\"client_2\")"
   ]
  },
  {
   "cell_type": "markdown",
   "metadata": {},
   "source": [
    "### Terminal Action | ``node-send-local-command`` \n",
    "\n",
    "The yaml snippet below shows all the relevant agent options for this action:\n",
    "\n",
    "```yaml\n",
    "      action_map:\n",
    "        1:\n",
    "          action: node-send-local-command\n",
    "          options:\n",
    "            node_name: client_1\n",
    "            username: admin\n",
    "            password: admin\n",
    "            command:\n",
    "                - file_system\n",
    "                - create\n",
    "                - file\n",
    "                - downloads\n",
    "                - dog.png\n",
    "                - False\n",
    "```"
   ]
  },
  {
   "cell_type": "code",
   "execution_count": 18,
   "metadata": {
    "execution": {
     "iopub.execute_input": "2025-03-24T09:52:31.103042Z",
     "iopub.status.busy": "2025-03-24T09:52:31.102813Z",
     "iopub.status.idle": "2025-03-24T09:52:31.118352Z",
     "shell.execute_reply": "2025-03-24T09:52:31.117643Z"
    }
   },
   "outputs": [
    {
     "name": "stdout",
     "output_type": "stream",
     "text": [
      "+-------------------------------------------------------------------------------+\n",
      "|                              client_1 File System                             |\n",
      "+-------------------+---------+---------------+-----------------------+---------+\n",
      "| File Path         | Size    | Health status | Visible health status | Deleted |\n",
      "+-------------------+---------+---------------+-----------------------+---------+\n",
      "| downloads/dog.png | 40.0 KB | GOOD          | NONE                  | False   |\n",
      "| root              | 0 B     | GOOD          | NONE                  | False   |\n",
      "+-------------------+---------+---------------+-----------------------+---------+\n"
     ]
    }
   ],
   "source": [
    "env.step(1)\n",
    "client_1.file_system.show(full=True)"
   ]
  },
  {
   "cell_type": "markdown",
   "metadata": {},
   "source": [
    "### Terminal Action | ``node-session-remote-login``  \n",
    "\n",
    "The yaml snippet below shows all the relevant agent options for this action:\n",
    "\n",
    "```yaml\n",
    "      action_map:\n",
    "        2:\n",
    "          action: node-session-remote-login\n",
    "          options:\n",
    "            node_name: client_1\n",
    "            username: admin\n",
    "            password: admin\n",
    "            remote_ip: 192.168.10.22 # client_2's ip address.\n",
    "```"
   ]
  },
  {
   "cell_type": "code",
   "execution_count": 19,
   "metadata": {
    "execution": {
     "iopub.execute_input": "2025-03-24T09:52:31.121207Z",
     "iopub.status.busy": "2025-03-24T09:52:31.120805Z",
     "iopub.status.idle": "2025-03-24T09:52:31.130040Z",
     "shell.execute_reply": "2025-03-24T09:52:31.129373Z"
    }
   },
   "outputs": [
    {
     "name": "stdout",
     "output_type": "stream",
     "text": [
      "+----------------------------------+\n",
      "|     client_2 Session Manager     |\n",
      "+----------------+------+----------+\n",
      "| Destination IP | Port | Protocol |\n",
      "+----------------+------+----------+\n",
      "| 192.168.10.1   | 219  | udp      |\n",
      "| 192.168.10.21  | 219  | udp      |\n",
      "| 192.168.10.21  | 22   | tcp      |\n",
      "+----------------+------+----------+\n"
     ]
    }
   ],
   "source": [
    "env.step(2)\n",
    "client_2.session_manager.show()"
   ]
  },
  {
   "cell_type": "markdown",
   "metadata": {},
   "source": [
    "### Terminal Action |  ``node-send-remote-command``\n",
    "\n",
    "The yaml snippet below shows all the relevant agent options for this action:\n",
    "\n",
    "```yaml\n",
    "      action_map:\n",
    "        3:\n",
    "          action: node-send-remote-command\n",
    "          options:\n",
    "            node_name: client_1\n",
    "            remote_ip: 192.168.10.22 # client_2's ip address.\n",
    "            command:\n",
    "                - file_system\n",
    "                - create\n",
    "                - file\n",
    "                - downloads\n",
    "                - cat.png\n",
    "                - False\n",
    "```"
   ]
  },
  {
   "cell_type": "code",
   "execution_count": 20,
   "metadata": {
    "execution": {
     "iopub.execute_input": "2025-03-24T09:52:31.132848Z",
     "iopub.status.busy": "2025-03-24T09:52:31.132332Z",
     "iopub.status.idle": "2025-03-24T09:52:31.139809Z",
     "shell.execute_reply": "2025-03-24T09:52:31.139168Z"
    }
   },
   "outputs": [
    {
     "name": "stdout",
     "output_type": "stream",
     "text": [
      "+-------------------------------------------------------------------------------+\n",
      "|                              client_2 File System                             |\n",
      "+-------------------+---------+---------------+-----------------------+---------+\n",
      "| File Path         | Size    | Health status | Visible health status | Deleted |\n",
      "+-------------------+---------+---------------+-----------------------+---------+\n",
      "| downloads/cat.png | 40.0 KB | GOOD          | NONE                  | False   |\n",
      "| root              | 0 B     | GOOD          | NONE                  | False   |\n",
      "+-------------------+---------+---------------+-----------------------+---------+\n"
     ]
    }
   ],
   "source": [
    "env.step(3)\n",
    "client_2.file_system.show(full=True)"
   ]
  }
 ],
 "metadata": {
  "kernelspec": {
   "display_name": "Python 3 (ipykernel)",
   "language": "python",
   "name": "python3"
  },
  "language_info": {
   "codemirror_mode": {
    "name": "ipython",
    "version": 3
   },
   "file_extension": ".py",
   "mimetype": "text/x-python",
   "name": "python",
   "nbconvert_exporter": "python",
   "pygments_lexer": "ipython3",
   "version": "3.10.16"
  }
 },
 "nbformat": 4,
 "nbformat_minor": 2
}
