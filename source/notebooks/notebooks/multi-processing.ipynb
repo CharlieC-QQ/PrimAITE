{
 "cells": [
  {
   "cell_type": "markdown",
   "metadata": {},
   "source": [
    "# Simple multi-processing demonstration\n",
    "\n",
    "© Crown-owned copyright 2025, Defence Science and Technology Laboratory UK\n",
    "\n",
    "This notebook uses **SubprocVecEnv** from **SB3** to train an agent on the [UC2 scenario](./Data-Manipulation-E2E-Demonstration.ipynb)."
   ]
  },
  {
   "cell_type": "markdown",
   "metadata": {},
   "source": [
    "Import packages and read config file."
   ]
  },
  {
   "cell_type": "code",
   "execution_count": 1,
   "metadata": {
    "execution": {
     "iopub.execute_input": "2025-03-24T10:01:51.091232Z",
     "iopub.status.busy": "2025-03-24T10:01:51.091031Z",
     "iopub.status.idle": "2025-03-24T10:01:51.519729Z",
     "shell.execute_reply": "2025-03-24T10:01:51.518955Z"
    }
   },
   "outputs": [
    {
     "name": "stdout",
     "output_type": "stream",
     "text": [
      "2025-03-24 10:01:51,360: Performing the PrimAITE first-time setup...\r\n",
      "2025-03-24 10:01:51,360: Building the PrimAITE app directories...\r\n",
      "2025-03-24 10:01:51,361: Building primaite_config.yaml...\r\n",
      "2025-03-24 10:01:51,361: Rebuilding the demo notebooks...\r\n",
      "2025-03-24 10:01:51,384: Rebuilding the example notebooks...\r\n",
      "2025-03-24 10:01:51,386: PrimAITE setup complete!\r\n"
     ]
    }
   ],
   "source": [
    "!primaite setup"
   ]
  },
  {
   "cell_type": "code",
   "execution_count": 2,
   "metadata": {
    "execution": {
     "iopub.execute_input": "2025-03-24T10:01:51.523154Z",
     "iopub.status.busy": "2025-03-24T10:01:51.522721Z",
     "iopub.status.idle": "2025-03-24T10:01:57.104762Z",
     "shell.execute_reply": "2025-03-24T10:01:57.104098Z"
    }
   },
   "outputs": [
    {
     "name": "stderr",
     "output_type": "stream",
     "text": [
      "WARNING: All log messages before absl::InitializeLog() is called are written to STDERR\n",
      "E0000 00:00:1742810513.186970   10091 cuda_dnn.cc:8579] Unable to register cuDNN factory: Attempting to register factory for plugin cuDNN when one has already been registered\n",
      "E0000 00:00:1742810513.191516   10091 cuda_blas.cc:1407] Unable to register cuBLAS factory: Attempting to register factory for plugin cuBLAS when one has already been registered\n",
      "W0000 00:00:1742810513.203916   10091 computation_placer.cc:177] computation placer already registered. Please check linkage and avoid linking the same target more than once.\n",
      "W0000 00:00:1742810513.203928   10091 computation_placer.cc:177] computation placer already registered. Please check linkage and avoid linking the same target more than once.\n",
      "W0000 00:00:1742810513.203930   10091 computation_placer.cc:177] computation placer already registered. Please check linkage and avoid linking the same target more than once.\n",
      "W0000 00:00:1742810513.203931   10091 computation_placer.cc:177] computation placer already registered. Please check linkage and avoid linking the same target more than once.\n"
     ]
    }
   ],
   "source": [
    "import yaml\n",
    "from stable_baselines3 import PPO\n",
    "from stable_baselines3.common.utils import set_random_seed\n",
    "from stable_baselines3.common.vec_env import SubprocVecEnv\n",
    "from primaite.session.environment import PrimaiteGymEnv\n",
    "from primaite.config.load import data_manipulation_config_path"
   ]
  },
  {
   "cell_type": "code",
   "execution_count": 3,
   "metadata": {
    "execution": {
     "iopub.execute_input": "2025-03-24T10:01:57.107813Z",
     "iopub.status.busy": "2025-03-24T10:01:57.107383Z",
     "iopub.status.idle": "2025-03-24T10:01:57.182659Z",
     "shell.execute_reply": "2025-03-24T10:01:57.181878Z"
    }
   },
   "outputs": [],
   "source": [
    "with open(data_manipulation_config_path(), 'r') as f:\n",
    "    cfg = yaml.safe_load(f)"
   ]
  },
  {
   "cell_type": "markdown",
   "metadata": {},
   "source": [
    "Set up training data."
   ]
  },
  {
   "cell_type": "code",
   "execution_count": 4,
   "metadata": {
    "execution": {
     "iopub.execute_input": "2025-03-24T10:01:57.185774Z",
     "iopub.status.busy": "2025-03-24T10:01:57.185550Z",
     "iopub.status.idle": "2025-03-24T10:01:57.188979Z",
     "shell.execute_reply": "2025-03-24T10:01:57.188315Z"
    }
   },
   "outputs": [],
   "source": [
    "EPISODE_LEN = 128\n",
    "NUM_EPISODES = 10\n",
    "NO_STEPS = EPISODE_LEN * NUM_EPISODES\n",
    "BATCH_SIZE = 32\n",
    "LEARNING_RATE = 3e-4"
   ]
  },
  {
   "cell_type": "markdown",
   "metadata": {},
   "source": [
    "Define an environment function."
   ]
  },
  {
   "cell_type": "code",
   "execution_count": 5,
   "metadata": {
    "execution": {
     "iopub.execute_input": "2025-03-24T10:01:57.191656Z",
     "iopub.status.busy": "2025-03-24T10:01:57.191297Z",
     "iopub.status.idle": "2025-03-24T10:01:57.195751Z",
     "shell.execute_reply": "2025-03-24T10:01:57.195174Z"
    }
   },
   "outputs": [],
   "source": [
    "\n",
    "\n",
    "def make_env(rank: int, seed: int = 0) -> callable:\n",
    "    \"\"\"Wrapper script for _init function.\"\"\"\n",
    "\n",
    "    def _init() -> PrimaiteGymEnv:\n",
    "        env = PrimaiteGymEnv(env_config=cfg)\n",
    "        env.reset(seed=seed + rank)\n",
    "        model = PPO(\n",
    "            \"MlpPolicy\",\n",
    "            env,\n",
    "            learning_rate=LEARNING_RATE,\n",
    "            n_steps=NO_STEPS,\n",
    "            batch_size=BATCH_SIZE,\n",
    "            verbose=0,\n",
    "            tensorboard_log=\"./PPO_UC2/\",\n",
    "        )\n",
    "        model.learn(total_timesteps=NO_STEPS)\n",
    "        return env\n",
    "\n",
    "    set_random_seed(seed)\n",
    "    return _init\n"
   ]
  },
  {
   "cell_type": "markdown",
   "metadata": {},
   "source": [
    "Run experiment."
   ]
  },
  {
   "cell_type": "code",
   "execution_count": 6,
   "metadata": {
    "execution": {
     "iopub.execute_input": "2025-03-24T10:01:57.198299Z",
     "iopub.status.busy": "2025-03-24T10:01:57.197919Z",
     "iopub.status.idle": "2025-03-24T10:02:19.671391Z",
     "shell.execute_reply": "2025-03-24T10:02:19.670762Z"
    }
   },
   "outputs": [
    {
     "name": "stderr",
     "output_type": "stream",
     "text": [
      "WARNING: All log messages before absl::InitializeLog() is called are written to STDERR\n",
      "WARNING: All log messages before absl::InitializeLog() is called are written to STDERR\n",
      "E0000 00:00:1742810518.973632   10120 cuda_dnn.cc:8579] Unable to register cuDNN factory: Attempting to register factory for plugin cuDNN when one has already been registered\n",
      "E0000 00:00:1742810518.973625   10121 cuda_dnn.cc:8579] Unable to register cuDNN factory: Attempting to register factory for plugin cuDNN when one has already been registered\n",
      "E0000 00:00:1742810518.978458   10121 cuda_blas.cc:1407] Unable to register cuBLAS factory: Attempting to register factory for plugin cuBLAS when one has already been registered\n",
      "E0000 00:00:1742810518.978546   10120 cuda_blas.cc:1407] Unable to register cuBLAS factory: Attempting to register factory for plugin cuBLAS when one has already been registered\n",
      "W0000 00:00:1742810518.990903   10121 computation_placer.cc:177] computation placer already registered. Please check linkage and avoid linking the same target more than once.\n",
      "W0000 00:00:1742810518.990902   10120 computation_placer.cc:177] computation placer already registered. Please check linkage and avoid linking the same target more than once.\n",
      "W0000 00:00:1742810518.990922   10121 computation_placer.cc:177] computation placer already registered. Please check linkage and avoid linking the same target more than once.\n",
      "W0000 00:00:1742810518.990923   10120 computation_placer.cc:177] computation placer already registered. Please check linkage and avoid linking the same target more than once.\n",
      "W0000 00:00:1742810518.990925   10121 computation_placer.cc:177] computation placer already registered. Please check linkage and avoid linking the same target more than once.\n",
      "W0000 00:00:1742810518.990926   10121 computation_placer.cc:177] computation placer already registered. Please check linkage and avoid linking the same target more than once.\n",
      "W0000 00:00:1742810518.990926   10120 computation_placer.cc:177] computation placer already registered. Please check linkage and avoid linking the same target more than once.\n",
      "W0000 00:00:1742810518.990929   10120 computation_placer.cc:177] computation placer already registered. Please check linkage and avoid linking the same target more than once.\n"
     ]
    },
    {
     "name": "stderr",
     "output_type": "stream",
     "text": [
      "2025-03-24 10:02:03,392: PrimaiteGymEnv RNG seed = None\n",
      "2025-03-24 10:02:03,392: Resetting environment, episode 0, avg. reward: 0.0\n",
      "2025-03-24 10:02:03,393: Saving agent action log to /home/runner/primaite/4.0.0/sessions/2025-03-24/10-02-02/agent_actions/episode_0.json\n",
      "2025-03-24 10:02:03,402: PrimaiteGymEnv RNG seed = None\n",
      "2025-03-24 10:02:03,402: Resetting environment, episode 0, avg. reward: 0.0\n",
      "2025-03-24 10:02:03,403: Saving agent action log to /home/runner/primaite/4.0.0/sessions/2025-03-24/10-02-02/agent_actions/episode_0.json\n"
     ]
    },
    {
     "name": "stderr",
     "output_type": "stream",
     "text": [
      "2025-03-24 10:02:04,848: Resetting environment, episode 1, avg. reward: 0.0\n",
      "2025-03-24 10:02:04,848: Saving agent action log to /home/runner/primaite/4.0.0/sessions/2025-03-24/10-02-02/agent_actions/episode_1.json\n",
      "2025-03-24 10:02:04,873: Resetting environment, episode 1, avg. reward: 0.0\n",
      "2025-03-24 10:02:04,874: Saving agent action log to /home/runner/primaite/4.0.0/sessions/2025-03-24/10-02-02/agent_actions/episode_1.json\n"
     ]
    },
    {
     "name": "stderr",
     "output_type": "stream",
     "text": [
      "2025-03-24 10:02:05,899: Resetting environment, episode 2, avg. reward: -94.15\n",
      "2025-03-24 10:02:05,900: Saving agent action log to /home/runner/primaite/4.0.0/sessions/2025-03-24/10-02-02/agent_actions/episode_2.json\n",
      "2025-03-24 10:02:05,919: Resetting environment, episode 2, avg. reward: -18.699999999999967\n",
      "2025-03-24 10:02:05,919: Saving agent action log to /home/runner/primaite/4.0.0/sessions/2025-03-24/10-02-02/agent_actions/episode_2.json\n"
     ]
    },
    {
     "name": "stderr",
     "output_type": "stream",
     "text": [
      "2025-03-24 10:02:07,130: Resetting environment, episode 3, avg. reward: -21.299999999999997\n",
      "2025-03-24 10:02:07,131: Saving agent action log to /home/runner/primaite/4.0.0/sessions/2025-03-24/10-02-02/agent_actions/episode_3.json\n",
      "2025-03-24 10:02:07,169: Resetting environment, episode 3, avg. reward: -34.60000000000002\n",
      "2025-03-24 10:02:07,170: Saving agent action log to /home/runner/primaite/4.0.0/sessions/2025-03-24/10-02-02/agent_actions/episode_3.json\n"
     ]
    },
    {
     "name": "stderr",
     "output_type": "stream",
     "text": [
      "2025-03-24 10:02:08,611: Resetting environment, episode 4, avg. reward: -20.999999999999957\n",
      "2025-03-24 10:02:08,611: Saving agent action log to /home/runner/primaite/4.0.0/sessions/2025-03-24/10-02-02/agent_actions/episode_4.json\n",
      "2025-03-24 10:02:08,725: Resetting environment, episode 4, avg. reward: -19.79999999999996\n",
      "2025-03-24 10:02:08,725: Saving agent action log to /home/runner/primaite/4.0.0/sessions/2025-03-24/10-02-02/agent_actions/episode_4.json\n"
     ]
    },
    {
     "name": "stderr",
     "output_type": "stream",
     "text": [
      "2025-03-24 10:02:09,783: Resetting environment, episode 5, avg. reward: -20.94999999999996\n",
      "2025-03-24 10:02:09,783: Saving agent action log to /home/runner/primaite/4.0.0/sessions/2025-03-24/10-02-02/agent_actions/episode_5.json\n",
      "2025-03-24 10:02:09,952: Resetting environment, episode 5, avg. reward: -54.99999999999999\n",
      "2025-03-24 10:02:09,952: Saving agent action log to /home/runner/primaite/4.0.0/sessions/2025-03-24/10-02-02/agent_actions/episode_5.json\n"
     ]
    },
    {
     "name": "stderr",
     "output_type": "stream",
     "text": [
      "2025-03-24 10:02:10,988: Resetting environment, episode 6, avg. reward: -44.400000000000084\n",
      "2025-03-24 10:02:10,989: Saving agent action log to /home/runner/primaite/4.0.0/sessions/2025-03-24/10-02-02/agent_actions/episode_6.json\n",
      "2025-03-24 10:02:11,131: Resetting environment, episode 6, avg. reward: -18.749999999999968\n",
      "2025-03-24 10:02:11,132: Saving agent action log to /home/runner/primaite/4.0.0/sessions/2025-03-24/10-02-02/agent_actions/episode_6.json\n"
     ]
    },
    {
     "name": "stderr",
     "output_type": "stream",
     "text": [
      "2025-03-24 10:02:12,278: Resetting environment, episode 7, avg. reward: -59.5000000000001\n",
      "2025-03-24 10:02:12,278: Saving agent action log to /home/runner/primaite/4.0.0/sessions/2025-03-24/10-02-02/agent_actions/episode_7.json\n",
      "2025-03-24 10:02:12,364: Resetting environment, episode 7, avg. reward: -36.200000000000024\n",
      "2025-03-24 10:02:12,365: Saving agent action log to /home/runner/primaite/4.0.0/sessions/2025-03-24/10-02-02/agent_actions/episode_7.json\n"
     ]
    },
    {
     "name": "stderr",
     "output_type": "stream",
     "text": [
      "2025-03-24 10:02:13,440: Resetting environment, episode 8, avg. reward: -51.300000000000075\n",
      "2025-03-24 10:02:13,440: Saving agent action log to /home/runner/primaite/4.0.0/sessions/2025-03-24/10-02-02/agent_actions/episode_8.json\n",
      "2025-03-24 10:02:13,575: Resetting environment, episode 8, avg. reward: -46.400000000000055\n",
      "2025-03-24 10:02:13,576: Saving agent action log to /home/runner/primaite/4.0.0/sessions/2025-03-24/10-02-02/agent_actions/episode_8.json\n"
     ]
    },
    {
     "name": "stderr",
     "output_type": "stream",
     "text": [
      "2025-03-24 10:02:14,635: Resetting environment, episode 9, avg. reward: -20.299999999999997\n",
      "2025-03-24 10:02:14,636: Saving agent action log to /home/runner/primaite/4.0.0/sessions/2025-03-24/10-02-02/agent_actions/episode_9.json\n",
      "2025-03-24 10:02:14,824: Resetting environment, episode 9, avg. reward: -36.250000000000036\n",
      "2025-03-24 10:02:14,825: Saving agent action log to /home/runner/primaite/4.0.0/sessions/2025-03-24/10-02-02/agent_actions/episode_9.json\n"
     ]
    },
    {
     "name": "stderr",
     "output_type": "stream",
     "text": [
      "2025-03-24 10:02:16,250: Resetting environment, episode 10, avg. reward: -19.050000000000026\n",
      "2025-03-24 10:02:16,250: Saving agent action log to /home/runner/primaite/4.0.0/sessions/2025-03-24/10-02-02/agent_actions/episode_10.json\n",
      "2025-03-24 10:02:16,324: Resetting environment, episode 10, avg. reward: -55.650000000000084\n",
      "2025-03-24 10:02:16,325: Saving agent action log to /home/runner/primaite/4.0.0/sessions/2025-03-24/10-02-02/agent_actions/episode_10.json\n"
     ]
    },
    {
     "name": "stderr",
     "output_type": "stream",
     "text": [
      "2025-03-24 10:02:17,453: Resetting environment, episode 11, avg. reward: -10.299999999999999\n",
      "2025-03-24 10:02:17,454: Saving agent action log to /home/runner/primaite/4.0.0/sessions/2025-03-24/10-02-02/agent_actions/episode_11.json\n",
      "2025-03-24 10:02:17,541: Resetting environment, episode 11, avg. reward: -46.6500000000002\n",
      "2025-03-24 10:02:17,542: Saving agent action log to /home/runner/primaite/4.0.0/sessions/2025-03-24/10-02-02/agent_actions/episode_11.json\n"
     ]
    }
   ],
   "source": [
    "n_procs = 2\n",
    "train_env = SubprocVecEnv([make_env(i + n_procs) for i in range(n_procs)])\n"
   ]
  }
 ],
 "metadata": {
  "kernelspec": {
   "display_name": "Python 3 (ipykernel)",
   "language": "python",
   "name": "python3"
  },
  "language_info": {
   "codemirror_mode": {
    "name": "ipython",
    "version": 3
   },
   "file_extension": ".py",
   "mimetype": "text/x-python",
   "name": "python",
   "nbconvert_exporter": "python",
   "pygments_lexer": "ipython3",
   "version": "3.10.16"
  }
 },
 "nbformat": 4,
 "nbformat_minor": 2
}
