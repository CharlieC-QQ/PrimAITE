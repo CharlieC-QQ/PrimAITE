{
 "cells": [
  {
   "cell_type": "markdown",
   "metadata": {},
   "source": [
    "# Command and Control Application Suite E2E Demonstration\n",
    "\n",
    "© Crown-owned copyright 2025, Defence Science and Technology Laboratory UK\n",
    "\n",
    "This notebook demonstrates the current implementation of the command and control (C2) server and beacon applications in primAITE."
   ]
  },
  {
   "cell_type": "code",
   "execution_count": 1,
   "metadata": {
    "execution": {
     "iopub.execute_input": "2025-03-24T09:51:15.608805Z",
     "iopub.status.busy": "2025-03-24T09:51:15.608610Z",
     "iopub.status.idle": "2025-03-24T09:51:16.030283Z",
     "shell.execute_reply": "2025-03-24T09:51:16.029467Z"
    }
   },
   "outputs": [
    {
     "name": "stdout",
     "output_type": "stream",
     "text": [
      "2025-03-24 09:51:15,873: Performing the PrimAITE first-time setup...\r\n",
      "2025-03-24 09:51:15,874: Building the PrimAITE app directories...\r\n",
      "2025-03-24 09:51:15,874: Building primaite_config.yaml...\r\n"
     ]
    },
    {
     "name": "stdout",
     "output_type": "stream",
     "text": [
      "2025-03-24 09:51:15,874: Rebuilding the demo notebooks...\r\n",
      "2025-03-24 09:51:15,897: Rebuilding the example notebooks...\r\n",
      "2025-03-24 09:51:15,898: PrimAITE setup complete!\r\n"
     ]
    }
   ],
   "source": [
    "!primaite setup"
   ]
  },
  {
   "cell_type": "code",
   "execution_count": 2,
   "metadata": {
    "execution": {
     "iopub.execute_input": "2025-03-24T09:51:16.033622Z",
     "iopub.status.busy": "2025-03-24T09:51:16.033184Z",
     "iopub.status.idle": "2025-03-24T09:51:19.289801Z",
     "shell.execute_reply": "2025-03-24T09:51:19.289141Z"
    }
   },
   "outputs": [],
   "source": [
    "# Imports\n",
    "import yaml\n",
    "from primaite.config.load import data_manipulation_config_path\n",
    "from primaite.session.environment import PrimaiteGymEnv\n",
    "from primaite.simulator.network.hardware.nodes.network.router import Router\n",
    "from primaite.simulator.system.applications.red_applications.c2.c2_beacon import C2Beacon\n",
    "from primaite.simulator.system.applications.red_applications.c2.c2_server import C2Server\n",
    "from primaite.simulator.system.applications.red_applications.c2.abstract_c2 import C2Command\n",
    "from primaite.simulator.system.applications.red_applications.ransomware_script import RansomwareScript\n",
    "from primaite.simulator.network.hardware.nodes.host.computer import Computer\n",
    "from primaite.simulator.network.hardware.nodes.host.server import Server"
   ]
  },
  {
   "cell_type": "markdown",
   "metadata": {},
   "source": [
    "## **Notebook Setup** | **Network Configuration:**\n",
    "\n",
    "This notebook uses the same network setup as UC2. Please refer to the main [UC2-E2E-Demo notebook for further reference](./Data-Manipulation-E2E-Demonstration.ipynb).\n",
    "\n",
    "However, this notebook replaces the red agent used in UC2 with a custom proxy red agent built for this notebook. This allows us to control the red agent manually via `env.step()` in the same way that other notebooks use the blue agent."
   ]
  },
  {
   "cell_type": "code",
   "execution_count": 3,
   "metadata": {
    "execution": {
     "iopub.execute_input": "2025-03-24T09:51:19.293108Z",
     "iopub.status.busy": "2025-03-24T09:51:19.292575Z",
     "iopub.status.idle": "2025-03-24T09:51:19.304551Z",
     "shell.execute_reply": "2025-03-24T09:51:19.303976Z"
    }
   },
   "outputs": [],
   "source": [
    "custom_c2_agent = \"\"\"\n",
    "  - ref: CustomC2Agent\n",
    "    team: RED\n",
    "    type: proxy-agent\n",
    "\n",
    "    action_space:\n",
    "      action_map:\n",
    "        0:\n",
    "          action: do-nothing\n",
    "          options: {}\n",
    "        1:\n",
    "          action: node-application-install\n",
    "          options:\n",
    "            node_name: web_server\n",
    "            application_name: c2-beacon\n",
    "        2:\n",
    "          action: configure-c2-beacon\n",
    "          options:\n",
    "            node_name: web_server\n",
    "            c2_server_ip_address: 192.168.10.21\n",
    "        3:\n",
    "          action: node-application-execute\n",
    "          options:\n",
    "            node_name: web_server\n",
    "            application_name: c2-beacon\n",
    "        4:\n",
    "          action: c2-server-terminal-command\n",
    "          options:\n",
    "            node_name: client_1\n",
    "            ip_address:\n",
    "            username: admin\n",
    "            password: admin\n",
    "            commands:\n",
    "              -\n",
    "                - software_manager\n",
    "                - application\n",
    "                - install\n",
    "                - ransomware-script\n",
    "        5:\n",
    "          action: c2-server-ransomware-configure\n",
    "          options:\n",
    "            node_name: client_1\n",
    "            server_ip_address: 192.168.1.14\n",
    "            payload: ENCRYPT\n",
    "        6:\n",
    "          action: c2-server-data-exfiltrate\n",
    "          options:\n",
    "            node_name: client_1\n",
    "            target_file_name: \"database.db\"\n",
    "            target_folder_name: \"database\"\n",
    "            exfiltration_folder_name: \"spoils\"\n",
    "            target_ip_address: 192.168.1.14\n",
    "            username: admin\n",
    "            password: admin\n",
    "\n",
    "        7:\n",
    "          action: c2-server-ransomware-launch\n",
    "          options:\n",
    "            node_name: client_1\n",
    "        8:\n",
    "          action: configure-c2-beacon\n",
    "          options:\n",
    "            node_name: web_server\n",
    "            c2_server_ip_address: 192.168.10.21\n",
    "            keep_alive_frequency: 10\n",
    "            masquerade_protocol: tcp\n",
    "            masquerade_port: dns\n",
    "        9:\n",
    "          action: configure-c2-beacon\n",
    "          options:\n",
    "            node_name: web_server\n",
    "            c2_server_ip_address: 192.168.10.22\n",
    "\n",
    "    reward_function:\n",
    "      reward_components:\n",
    "        - type: dummy\n",
    "\"\"\"\n",
    "c2_agent_yaml = yaml.safe_load(custom_c2_agent)"
   ]
  },
  {
   "cell_type": "code",
   "execution_count": 4,
   "metadata": {
    "execution": {
     "iopub.execute_input": "2025-03-24T09:51:19.306966Z",
     "iopub.status.busy": "2025-03-24T09:51:19.306741Z",
     "iopub.status.idle": "2025-03-24T09:51:19.473803Z",
     "shell.execute_reply": "2025-03-24T09:51:19.473212Z"
    }
   },
   "outputs": [
    {
     "name": "stderr",
     "output_type": "stream",
     "text": [
      "2025-03-24 09:51:19,470: PrimaiteGymEnv RNG seed = None\n"
     ]
    }
   ],
   "source": [
    "with open(data_manipulation_config_path()) as f:\n",
    "    cfg = yaml.safe_load(f)\n",
    "    # removing all agents & adding the custom agent.\n",
    "    cfg['agents'] = {}\n",
    "    cfg['agents'] = c2_agent_yaml\n",
    "\n",
    "\n",
    "env = PrimaiteGymEnv(env_config=cfg)"
   ]
  },
  {
   "cell_type": "markdown",
   "metadata": {},
   "source": [
    "## **Notebook Setup** | Network Prerequisites\n",
    "\n",
    "Before the Red Agent is able to perform any C2 specific actions, the C2 Server needs to be installed and run.\n",
    "This is because in higher fidelity environments (and the real-world) a C2 server would not be accessible by a private network blue agent and the C2 Server would already be in place before an adversary (red agent) began it's direct attack.\n",
    "\n",
    "The cells below install and run the C2 Server on **client_1** directly via the simulation API."
   ]
  },
  {
   "cell_type": "code",
   "execution_count": 5,
   "metadata": {
    "execution": {
     "iopub.execute_input": "2025-03-24T09:51:19.476635Z",
     "iopub.status.busy": "2025-03-24T09:51:19.476229Z",
     "iopub.status.idle": "2025-03-24T09:51:19.481971Z",
     "shell.execute_reply": "2025-03-24T09:51:19.481295Z"
    }
   },
   "outputs": [
    {
     "name": "stdout",
     "output_type": "stream",
     "text": [
      "+----------------------------------------------------------------------------------------+\n",
      "|                               client_1 Software Manager                                |\n",
      "+-----------------------+-------------+-----------------+--------------+------+----------+\n",
      "| Name                  | Type        | Operating State | Health State | Port | Protocol |\n",
      "+-----------------------+-------------+-----------------+--------------+------+----------+\n",
      "| arp                   | Service     | RUNNING         | GOOD         | 219  | udp      |\n",
      "| icmp                  | Service     | RUNNING         | GOOD         | None | icmp     |\n",
      "| dns-client            | Service     | RUNNING         | GOOD         | 53   | tcp      |\n",
      "| ntp-client            | Service     | RUNNING         | GOOD         | 123  | udp      |\n",
      "| web-browser           | Application | RUNNING         | GOOD         | 80   | tcp      |\n",
      "| nmap                  | Application | RUNNING         | GOOD         | None | none     |\n",
      "| user-session-manager  | Service     | RUNNING         | GOOD         | None | none     |\n",
      "| user-manager          | Service     | RUNNING         | GOOD         | None | none     |\n",
      "| terminal              | Service     | RUNNING         | GOOD         | 22   | tcp      |\n",
      "| ftp-client            | Service     | RUNNING         | GOOD         | 21   | tcp      |\n",
      "| data-manipulation-bot | Application | RUNNING         | GOOD         | None | none     |\n",
      "| database-client       | Application | RUNNING         | GOOD         | 5432 | tcp      |\n",
      "| c2-server             | Application | RUNNING         | GOOD         | None | tcp      |\n",
      "+-----------------------+-------------+-----------------+--------------+------+----------+\n"
     ]
    }
   ],
   "source": [
    "client_1: Computer = env.game.simulation.network.get_node_by_hostname(\"client_1\")\n",
    "client_1.software_manager.install(C2Server)\n",
    "c2_server: C2Server = client_1.software_manager.software[\"c2-server\"]\n",
    "c2_server.run()\n",
    "client_1.software_manager.show()"
   ]
  },
  {
   "cell_type": "markdown",
   "metadata": {},
   "source": [
    "## **Command and Control** | C2 Beacon Actions\n",
    "\n",
    "Before a C2 Server can accept any commands it must first establish connection with a C2 Beacon.\n",
    "\n",
    "A red agent is able to install, configure and establish a C2 beacon at any point in an episode. The code cells below demonstrate the actions and option parameters that are needed to perform this."
   ]
  },
  {
   "cell_type": "markdown",
   "metadata": {},
   "source": [
    "### **Command and Control** | C2 Beacon Actions | `node-application-install`\n",
    "\n",
    "The custom proxy red agent defined at the start of this notebook has been configured to install the C2 Beacon as action ``1`` in it's action map: \n",
    "\n",
    "```yaml\n",
    "    action_space:\n",
    "      action_map:\n",
    "        1:\n",
    "          action: node-application-install\n",
    "          options:\n",
    "            node_name: web_server\n",
    "            application_name: c2-beacon\n",
    "```"
   ]
  },
  {
   "cell_type": "code",
   "execution_count": 6,
   "metadata": {
    "execution": {
     "iopub.execute_input": "2025-03-24T09:51:19.484778Z",
     "iopub.status.busy": "2025-03-24T09:51:19.484396Z",
     "iopub.status.idle": "2025-03-24T09:51:19.496569Z",
     "shell.execute_reply": "2025-03-24T09:51:19.495910Z"
    }
   },
   "outputs": [
    {
     "name": "stdout",
     "output_type": "stream",
     "text": [
      "+---------------------------------------------------------------------------------------+\n",
      "|                              web_server Software Manager                              |\n",
      "+----------------------+-------------+-----------------+--------------+------+----------+\n",
      "| Name                 | Type        | Operating State | Health State | Port | Protocol |\n",
      "+----------------------+-------------+-----------------+--------------+------+----------+\n",
      "| arp                  | Service     | RUNNING         | GOOD         | 219  | udp      |\n",
      "| icmp                 | Service     | RUNNING         | GOOD         | None | icmp     |\n",
      "| dns-client           | Service     | RUNNING         | GOOD         | 53   | tcp      |\n",
      "| ntp-client           | Service     | RUNNING         | GOOD         | 123  | udp      |\n",
      "| web-browser          | Application | RUNNING         | GOOD         | 80   | tcp      |\n",
      "| nmap                 | Application | RUNNING         | GOOD         | None | none     |\n",
      "| user-session-manager | Service     | RUNNING         | GOOD         | None | none     |\n",
      "| user-manager         | Service     | RUNNING         | GOOD         | None | none     |\n",
      "| terminal             | Service     | RUNNING         | GOOD         | 22   | tcp      |\n",
      "| web-server           | Service     | RUNNING         | GOOD         | 80   | tcp      |\n",
      "| database-client      | Application | RUNNING         | GOOD         | 5432 | tcp      |\n",
      "| c2-beacon            | Application | INSTALLING      | GOOD         | None | tcp      |\n",
      "+----------------------+-------------+-----------------+--------------+------+----------+\n"
     ]
    }
   ],
   "source": [
    "env.step(1)\n",
    "web_server: Computer = env.game.simulation.network.get_node_by_hostname(\"web_server\")\n",
    "web_server.software_manager.show()"
   ]
  },
  {
   "cell_type": "markdown",
   "metadata": {},
   "source": [
    "### **Command and Control** | C2 Beacon Actions | `configure-c2-beacon` \n",
    "\n",
    "The custom proxy red agent defined at the start of this notebook can configure the C2 Beacon via action ``2`` in it's action map:\n",
    "\n",
    "```yaml\n",
    "\n",
    "    action_space:\n",
    "      action_map:\n",
    "        2:\n",
    "          action: configure-c2-beacon\n",
    "          options:\n",
    "            node_name: web_server\n",
    "            c2_server_ip_address: 192.168.10.21 # Further information about these config options can be found at the bottom of this notebook.\n",
    "            keep_alive_frequency:\n",
    "            masquerade_protocol:\n",
    "            masquerade_port:\n",
    "\n",
    "```"
   ]
  },
  {
   "cell_type": "code",
   "execution_count": 7,
   "metadata": {
    "execution": {
     "iopub.execute_input": "2025-03-24T09:51:19.499326Z",
     "iopub.status.busy": "2025-03-24T09:51:19.498946Z",
     "iopub.status.idle": "2025-03-24T09:51:19.506060Z",
     "shell.execute_reply": "2025-03-24T09:51:19.505396Z"
    }
   },
   "outputs": [
    {
     "name": "stdout",
     "output_type": "stream",
     "text": [
      "+---------------------------------------------------------------------------------------+\n",
      "|                              web_server Software Manager                              |\n",
      "+----------------------+-------------+-----------------+--------------+------+----------+\n",
      "| Name                 | Type        | Operating State | Health State | Port | Protocol |\n",
      "+----------------------+-------------+-----------------+--------------+------+----------+\n",
      "| arp                  | Service     | RUNNING         | GOOD         | 219  | udp      |\n",
      "| icmp                 | Service     | RUNNING         | GOOD         | None | icmp     |\n",
      "| dns-client           | Service     | RUNNING         | GOOD         | 53   | tcp      |\n",
      "| ntp-client           | Service     | RUNNING         | GOOD         | 123  | udp      |\n",
      "| web-browser          | Application | RUNNING         | GOOD         | 80   | tcp      |\n",
      "| nmap                 | Application | RUNNING         | GOOD         | None | none     |\n",
      "| user-session-manager | Service     | RUNNING         | GOOD         | None | none     |\n",
      "| user-manager         | Service     | RUNNING         | GOOD         | None | none     |\n",
      "| terminal             | Service     | RUNNING         | GOOD         | 22   | tcp      |\n",
      "| web-server           | Service     | RUNNING         | GOOD         | 80   | tcp      |\n",
      "| database-client      | Application | RUNNING         | GOOD         | 5432 | tcp      |\n",
      "| c2-beacon            | Application | RUNNING         | GOOD         | None | tcp      |\n",
      "+----------------------+-------------+-----------------+--------------+------+----------+\n",
      "+----------------------------------------------------------------------------------------------------------------------------------------------------+\n",
      "|                                                              c2-beacon Running Status                                                              |\n",
      "+----------------------+----------------------+-----------------------+----------------------+-----------------------------+-------------------------+\n",
      "| C2 Connection Active | C2 Remote Connection | Keep Alive Inactivity | Keep Alive Frequency | Current Masquerade Protocol | Current Masquerade Port |\n",
      "+----------------------+----------------------+-----------------------+----------------------+-----------------------------+-------------------------+\n",
      "| False                | 192.168.10.21        | 0                     | 5                    | tcp                         | 80                      |\n",
      "+----------------------+----------------------+-----------------------+----------------------+-----------------------------+-------------------------+\n"
     ]
    }
   ],
   "source": [
    "env.step(2)\n",
    "c2_beacon: C2Beacon = web_server.software_manager.software[\"c2-beacon\"]\n",
    "web_server.software_manager.show()\n",
    "c2_beacon.show()"
   ]
  },
  {
   "cell_type": "markdown",
   "metadata": {},
   "source": [
    "### **Command and Control** | C2 Beacon Actions | ``node-application-execute``\n",
    "\n",
    "The final action is ``node-application-execute`` which is used to establish a connection for the C2 application. This action can be called by the Red Agent via action ``3`` in it's action map:\n",
    "\n",
    "```yaml\n",
    "    action_space:\n",
    "      action_map:\n",
    "        3:\n",
    "          action: node-application-execute\n",
    "          options:\n",
    "            node_name: web_server\n",
    "            application_name: c2-beacon\n",
    "```"
   ]
  },
  {
   "cell_type": "code",
   "execution_count": 8,
   "metadata": {
    "execution": {
     "iopub.execute_input": "2025-03-24T09:51:19.508467Z",
     "iopub.status.busy": "2025-03-24T09:51:19.508265Z",
     "iopub.status.idle": "2025-03-24T09:51:19.521008Z",
     "shell.execute_reply": "2025-03-24T09:51:19.520437Z"
    }
   },
   "outputs": [
    {
     "data": {
      "text/plain": [
       "(0,\n",
       " 0.0,\n",
       " False,\n",
       " False,\n",
       " {'agent_actions': {'CustomC2Agent': AgentHistoryItem(timestep=2, action='node-application-execute', parameters={'node_name': 'web_server', 'application_name': 'c2-beacon'}, request=['network', 'node', 'web_server', 'application', 'c2-beacon', 'execute'], response=RequestResponse(status='success', data={}), reward=0.0, reward_info={}, observation=0)}})"
      ]
     },
     "execution_count": 8,
     "metadata": {},
     "output_type": "execute_result"
    }
   ],
   "source": [
    "env.step(3)"
   ]
  },
  {
   "cell_type": "code",
   "execution_count": 9,
   "metadata": {
    "execution": {
     "iopub.execute_input": "2025-03-24T09:51:19.523318Z",
     "iopub.status.busy": "2025-03-24T09:51:19.523118Z",
     "iopub.status.idle": "2025-03-24T09:51:19.527412Z",
     "shell.execute_reply": "2025-03-24T09:51:19.526746Z"
    }
   },
   "outputs": [
    {
     "name": "stdout",
     "output_type": "stream",
     "text": [
      "+----------------------------------------------------------------------------------------------------------------------------------------------------+\n",
      "|                                                              c2-beacon Running Status                                                              |\n",
      "+----------------------+----------------------+-----------------------+----------------------+-----------------------------+-------------------------+\n",
      "| C2 Connection Active | C2 Remote Connection | Keep Alive Inactivity | Keep Alive Frequency | Current Masquerade Protocol | Current Masquerade Port |\n",
      "+----------------------+----------------------+-----------------------+----------------------+-----------------------------+-------------------------+\n",
      "| True                 | 192.168.10.21        | 1                     | 5                    | tcp                         | 80                      |\n",
      "+----------------------+----------------------+-----------------------+----------------------+-----------------------------+-------------------------+\n",
      "+-----------------------------------------------------------------------------------------------------+\n",
      "|                                       c2-server Running Status                                      |\n",
      "+----------------------+----------------------+-----------------------------+-------------------------+\n",
      "| C2 Connection Active | C2 Remote Connection | Current Masquerade Protocol | Current Masquerade Port |\n",
      "+----------------------+----------------------+-----------------------------+-------------------------+\n",
      "| True                 | 192.168.1.12         | tcp                         | 80                      |\n",
      "+----------------------+----------------------+-----------------------------+-------------------------+\n"
     ]
    }
   ],
   "source": [
    "c2_beacon.show()\n",
    "c2_server.show()"
   ]
  },
  {
   "cell_type": "markdown",
   "metadata": {},
   "source": [
    "## **Command and Control** | C2 Server Actions\n",
    "\n",
    "Once the C2 suite has been successfully established, the C2 Server based actions become available to the Red Agent. \n",
    "\n",
    "\n",
    "This next section will demonstrate the different actions that become available to a red agent after establishing a C2 connection:"
   ]
  },
  {
   "cell_type": "markdown",
   "metadata": {},
   "source": [
    "### **Command and Control** | C2 Server Actions | `c2-server-terminal-command`\n",
    "\n",
    "The C2 Server's terminal action: ``c2-server-terminal-command`` is indexed at  ``4`` in it's action map. \n",
    "\n",
    "This action leverages the terminal service that is installed by default on all nodes to grant red agents a lot more configurability. If you're unfamiliar with terminals then it's recommended that you refer to the [Terminal-Processing notebook](./Terminal-Processing.ipynb) for more info.\n",
    "\n",
    "It's worth noting that an additional benefit a red agent has when using the terminal service via the C2 Server is that you can execute multiple commands in one action. \n",
    "\n",
    "In this notebook, the ``c2-server-terminal-command`` is used to install a RansomwareScript application on the ``web_server`` node.\n",
    "\n",
    "``` yaml\n",
    "    action_space:\n",
    "        action_map:\n",
    "           4:\n",
    "            action: c2-server-terminal-command\n",
    "            options:\n",
    "              node_name: client_1\n",
    "              ip_address:\n",
    "              username: admin\n",
    "              password: admin\n",
    "              commands:\n",
    "              - \n",
    "                  - software_manager\n",
    "                  - application\n",
    "                  - install\n",
    "                  - ransomware-script\n",
    "```"
   ]
  },
  {
   "cell_type": "code",
   "execution_count": 10,
   "metadata": {
    "execution": {
     "iopub.execute_input": "2025-03-24T09:51:19.529854Z",
     "iopub.status.busy": "2025-03-24T09:51:19.529657Z",
     "iopub.status.idle": "2025-03-24T09:51:19.542822Z",
     "shell.execute_reply": "2025-03-24T09:51:19.542099Z"
    }
   },
   "outputs": [
    {
     "data": {
      "text/plain": [
       "(0,\n",
       " 0.0,\n",
       " False,\n",
       " False,\n",
       " {'agent_actions': {'CustomC2Agent': AgentHistoryItem(timestep=3, action='c2-server-terminal-command', parameters={'node_name': 'client_1', 'ip_address': None, 'username': 'admin', 'password': 'admin', 'commands': [['software_manager', 'application', 'install', 'ransomware-script']]}, request=['network', 'node', 'client_1', 'application', 'c2-server', 'terminal_command', {'commands': [['software_manager', 'application', 'install', 'ransomware-script']], 'ip_address': None, 'username': 'admin', 'password': 'admin'}], response=RequestResponse(status='success', data={0: RequestResponse(status='success', data={})}), reward=0.0, reward_info={}, observation=0)}})"
      ]
     },
     "execution_count": 10,
     "metadata": {},
     "output_type": "execute_result"
    }
   ],
   "source": [
    "env.step(4)"
   ]
  },
  {
   "cell_type": "code",
   "execution_count": 11,
   "metadata": {
    "execution": {
     "iopub.execute_input": "2025-03-24T09:51:19.545231Z",
     "iopub.status.busy": "2025-03-24T09:51:19.545023Z",
     "iopub.status.idle": "2025-03-24T09:51:19.550098Z",
     "shell.execute_reply": "2025-03-24T09:51:19.549482Z"
    }
   },
   "outputs": [
    {
     "name": "stdout",
     "output_type": "stream",
     "text": [
      "+----------------------------------------------------------------------------------------+\n",
      "|                               client_1 Software Manager                                |\n",
      "+-----------------------+-------------+-----------------+--------------+------+----------+\n",
      "| Name                  | Type        | Operating State | Health State | Port | Protocol |\n",
      "+-----------------------+-------------+-----------------+--------------+------+----------+\n",
      "| arp                   | Service     | RUNNING         | GOOD         | 219  | udp      |\n",
      "| icmp                  | Service     | RUNNING         | GOOD         | None | icmp     |\n",
      "| dns-client            | Service     | RUNNING         | GOOD         | 53   | tcp      |\n",
      "| ntp-client            | Service     | RUNNING         | GOOD         | 123  | udp      |\n",
      "| web-browser           | Application | RUNNING         | GOOD         | 80   | tcp      |\n",
      "| nmap                  | Application | RUNNING         | GOOD         | None | none     |\n",
      "| user-session-manager  | Service     | RUNNING         | GOOD         | None | none     |\n",
      "| user-manager          | Service     | RUNNING         | GOOD         | None | none     |\n",
      "| terminal              | Service     | RUNNING         | GOOD         | 22   | tcp      |\n",
      "| ftp-client            | Service     | RUNNING         | GOOD         | 21   | tcp      |\n",
      "| data-manipulation-bot | Application | RUNNING         | GOOD         | None | none     |\n",
      "| database-client       | Application | RUNNING         | GOOD         | 5432 | tcp      |\n",
      "| c2-server             | Application | RUNNING         | GOOD         | None | tcp      |\n",
      "+-----------------------+-------------+-----------------+--------------+------+----------+\n"
     ]
    }
   ],
   "source": [
    "client_1.software_manager.show()"
   ]
  },
  {
   "cell_type": "markdown",
   "metadata": {},
   "source": [
    "### **Command and Control** | C2 Server Actions | c2-server-ransomware-configure\n",
    "\n",
    "Another action offered by the C2 server grants a red agent the ability to configure the `RansomwareScript` via the C2 Server rather than the node directly.\n",
    "\n",
    "This action is indexed as action ``5``\n",
    "\n",
    "``` yaml\n",
    "    action_space:\n",
    "        action_map:\n",
    "           5:\n",
    "            action: c2-server-ransomware-configure\n",
    "            options:\n",
    "              node_name: client_1\n",
    "              server_ip_address: 192.168.1.14\n",
    "              payload: ENCRYPT\n",
    "```\n"
   ]
  },
  {
   "cell_type": "code",
   "execution_count": 12,
   "metadata": {
    "execution": {
     "iopub.execute_input": "2025-03-24T09:51:19.552501Z",
     "iopub.status.busy": "2025-03-24T09:51:19.552300Z",
     "iopub.status.idle": "2025-03-24T09:51:19.561393Z",
     "shell.execute_reply": "2025-03-24T09:51:19.560712Z"
    }
   },
   "outputs": [
    {
     "data": {
      "text/plain": [
       "(0,\n",
       " 0.0,\n",
       " False,\n",
       " False,\n",
       " {'agent_actions': {'CustomC2Agent': AgentHistoryItem(timestep=4, action='c2-server-ransomware-configure', parameters={'node_name': 'client_1', 'server_ip_address': '192.168.1.14', 'payload': 'ENCRYPT'}, request=['network', 'node', 'client_1', 'application', 'c2-server', 'ransomware_configure', {'server_ip_address': '192.168.1.14', 'server_password': None, 'payload': 'ENCRYPT'}], response=RequestResponse(status='success', data={}), reward=0.0, reward_info={}, observation=0)}})"
      ]
     },
     "execution_count": 12,
     "metadata": {},
     "output_type": "execute_result"
    }
   ],
   "source": [
    "env.step(5)"
   ]
  },
  {
   "cell_type": "code",
   "execution_count": 13,
   "metadata": {
    "execution": {
     "iopub.execute_input": "2025-03-24T09:51:19.564218Z",
     "iopub.status.busy": "2025-03-24T09:51:19.564013Z",
     "iopub.status.idle": "2025-03-24T09:51:19.569434Z",
     "shell.execute_reply": "2025-03-24T09:51:19.568697Z"
    }
   },
   "outputs": [
    {
     "name": "stdout",
     "output_type": "stream",
     "text": [
      "+---------------------------------------------------------------------------------------+\n",
      "|                              web_server Software Manager                              |\n",
      "+----------------------+-------------+-----------------+--------------+------+----------+\n",
      "| Name                 | Type        | Operating State | Health State | Port | Protocol |\n",
      "+----------------------+-------------+-----------------+--------------+------+----------+\n",
      "| arp                  | Service     | RUNNING         | GOOD         | 219  | udp      |\n",
      "| icmp                 | Service     | RUNNING         | GOOD         | None | icmp     |\n",
      "| dns-client           | Service     | RUNNING         | GOOD         | 53   | tcp      |\n",
      "| ntp-client           | Service     | RUNNING         | GOOD         | 123  | udp      |\n",
      "| web-browser          | Application | RUNNING         | GOOD         | 80   | tcp      |\n",
      "| nmap                 | Application | RUNNING         | GOOD         | None | none     |\n",
      "| user-session-manager | Service     | RUNNING         | GOOD         | None | none     |\n",
      "| user-manager         | Service     | RUNNING         | GOOD         | None | none     |\n",
      "| terminal             | Service     | RUNNING         | GOOD         | 22   | tcp      |\n",
      "| web-server           | Service     | RUNNING         | GOOD         | 80   | tcp      |\n",
      "| database-client      | Application | RUNNING         | GOOD         | 5432 | tcp      |\n",
      "| c2-beacon            | Application | RUNNING         | GOOD         | None | tcp      |\n",
      "| ransomware-script    | Application | RUNNING         | GOOD         | None | none     |\n",
      "+----------------------+-------------+-----------------+--------------+------+----------+\n",
      "+------------------------------------+\n",
      "|  ransomware-script Running Status  |\n",
      "+--------------------------+---------+\n",
      "| Target Server IP Address | Payload |\n",
      "+--------------------------+---------+\n",
      "| 192.168.1.14             | ENCRYPT |\n",
      "+--------------------------+---------+\n"
     ]
    }
   ],
   "source": [
    "ransomware_script: RansomwareScript = web_server.software_manager.software[\"ransomware-script\"]\n",
    "web_server.software_manager.show()\n",
    "ransomware_script.show()"
   ]
  },
  {
   "cell_type": "markdown",
   "metadata": {},
   "source": [
    "### **Command and Control** | C2 Server Actions | ``c2-server-data-exfiltrate``\n",
    "\n",
    "The second to last action available is the ``c2-server-data-exfiltrate`` which is indexed as action ``6`` in the action map.\n",
    "\n",
    "This action can be used to exfiltrate a target file on a remote node to the C2 Beacon and the C2 Server's host file system via the ``FTP`` services.\n",
    "\n",
    "``` yaml\n",
    "    action_space:\n",
    "        action_map:\n",
    "          6:\n",
    "            action: c2-server-data-exfiltrate\n",
    "            options:\n",
    "              node_name: client_1\n",
    "              target_file_name: \"database.db\"\n",
    "              target_folder_name: \"database\"\n",
    "              exfiltration_folder_name: \"spoils\"\n",
    "              target_ip_address: 192.168.1.14\n",
    "              username: admin\n",
    "              password: admin\n",
    "\n",
    "```"
   ]
  },
  {
   "cell_type": "code",
   "execution_count": 14,
   "metadata": {
    "execution": {
     "iopub.execute_input": "2025-03-24T09:51:19.572126Z",
     "iopub.status.busy": "2025-03-24T09:51:19.571747Z",
     "iopub.status.idle": "2025-03-24T09:51:19.600512Z",
     "shell.execute_reply": "2025-03-24T09:51:19.599805Z"
    }
   },
   "outputs": [
    {
     "data": {
      "text/plain": [
       "(0,\n",
       " 0.0,\n",
       " False,\n",
       " False,\n",
       " {'agent_actions': {'CustomC2Agent': AgentHistoryItem(timestep=5, action='c2-server-data-exfiltrate', parameters={'node_name': 'client_1', 'target_file_name': 'database.db', 'target_folder_name': 'database', 'exfiltration_folder_name': 'spoils', 'target_ip_address': '192.168.1.14', 'username': 'admin', 'password': 'admin'}, request=['network', 'node', 'client_1', 'application', 'c2-server', 'exfiltrate', {'target_file_name': 'database.db', 'target_folder_name': 'database', 'exfiltration_folder_name': 'spoils', 'target_ip_address': '192.168.1.14', 'username': 'admin', 'password': 'admin'}], response=RequestResponse(status='success', data={}), reward=0.0, reward_info={}, observation=0)}})"
      ]
     },
     "execution_count": 14,
     "metadata": {},
     "output_type": "execute_result"
    }
   ],
   "source": [
    "env.step(6)"
   ]
  },
  {
   "cell_type": "code",
   "execution_count": 15,
   "metadata": {
    "execution": {
     "iopub.execute_input": "2025-03-24T09:51:19.603096Z",
     "iopub.status.busy": "2025-03-24T09:51:19.602858Z",
     "iopub.status.idle": "2025-03-24T09:51:19.606926Z",
     "shell.execute_reply": "2025-03-24T09:51:19.606254Z"
    }
   },
   "outputs": [
    {
     "name": "stdout",
     "output_type": "stream",
     "text": [
      "+--------------------------------------------------------------------------------+\n",
      "|                              client_1 File System                              |\n",
      "+--------------------+---------+---------------+-----------------------+---------+\n",
      "| File Path          | Size    | Health status | Visible health status | Deleted |\n",
      "+--------------------+---------+---------------+-----------------------+---------+\n",
      "| root               | 0 B     | GOOD          | NONE                  | False   |\n",
      "| spoils/database.db | 4.77 MB | GOOD          | NONE                  | False   |\n",
      "+--------------------+---------+---------------+-----------------------+---------+\n"
     ]
    }
   ],
   "source": [
    "client_1: Computer = env.game.simulation.network.get_node_by_hostname(\"client_1\")\n",
    "client_1.software_manager.file_system.show(full=True)"
   ]
  },
  {
   "cell_type": "code",
   "execution_count": 16,
   "metadata": {
    "execution": {
     "iopub.execute_input": "2025-03-24T09:51:19.609458Z",
     "iopub.status.busy": "2025-03-24T09:51:19.609070Z",
     "iopub.status.idle": "2025-03-24T09:51:19.612926Z",
     "shell.execute_reply": "2025-03-24T09:51:19.612259Z"
    }
   },
   "outputs": [
    {
     "name": "stdout",
     "output_type": "stream",
     "text": [
      "+---------------------------------------------------------------------------------+\n",
      "|                              web_server File System                             |\n",
      "+---------------------+---------+---------------+-----------------------+---------+\n",
      "| File Path           | Size    | Health status | Visible health status | Deleted |\n",
      "+---------------------+---------+---------------+-----------------------+---------+\n",
      "| primaite/index.html | 15.0 KB | GOOD          | NONE                  | False   |\n",
      "| root                | 0 B     | GOOD          | NONE                  | False   |\n",
      "| spoils/database.db  | 4.77 MB | GOOD          | NONE                  | False   |\n",
      "+---------------------+---------+---------------+-----------------------+---------+\n"
     ]
    }
   ],
   "source": [
    "web_server: Computer = env.game.simulation.network.get_node_by_hostname(\"web_server\")\n",
    "web_server.software_manager.file_system.show(full=True)"
   ]
  },
  {
   "cell_type": "markdown",
   "metadata": {},
   "source": [
    "### **Command and Control** | C2 Server Actions | ``c2-server-ransomware-launch``\n",
    "\n",
    "Finally, the last available action is for the c2-server-ransomware-launch to start the ransomware script installed previously:\n",
    "\n",
    "``` yaml\n",
    "    action_space:\n",
    "        action_map:\n",
    "          7:\n",
    "            action: c2-server-ransomware-launch\n",
    "            options:\n",
    "              node_name: client_1\n",
    "```\n"
   ]
  },
  {
   "cell_type": "code",
   "execution_count": 17,
   "metadata": {
    "execution": {
     "iopub.execute_input": "2025-03-24T09:51:19.615709Z",
     "iopub.status.busy": "2025-03-24T09:51:19.615334Z",
     "iopub.status.idle": "2025-03-24T09:51:19.629289Z",
     "shell.execute_reply": "2025-03-24T09:51:19.628604Z"
    }
   },
   "outputs": [
    {
     "data": {
      "text/plain": [
       "(0,\n",
       " 0.0,\n",
       " False,\n",
       " False,\n",
       " {'agent_actions': {'CustomC2Agent': AgentHistoryItem(timestep=6, action='c2-server-ransomware-launch', parameters={'node_name': 'client_1'}, request=['network', 'node', 'client_1', 'application', 'c2-server', 'ransomware_launch'], response=RequestResponse(status='success', data={}), reward=0.0, reward_info={}, observation=0)}})"
      ]
     },
     "execution_count": 17,
     "metadata": {},
     "output_type": "execute_result"
    }
   ],
   "source": [
    "env.step(7)"
   ]
  },
  {
   "cell_type": "code",
   "execution_count": 18,
   "metadata": {
    "execution": {
     "iopub.execute_input": "2025-03-24T09:51:19.631567Z",
     "iopub.status.busy": "2025-03-24T09:51:19.631367Z",
     "iopub.status.idle": "2025-03-24T09:51:19.635174Z",
     "shell.execute_reply": "2025-03-24T09:51:19.634501Z"
    }
   },
   "outputs": [
    {
     "name": "stdout",
     "output_type": "stream",
     "text": [
      "+----------------------------------------------------------------------------------+\n",
      "|                           database_server File System                            |\n",
      "+----------------------+---------+---------------+-----------------------+---------+\n",
      "| File Path            | Size    | Health status | Visible health status | Deleted |\n",
      "+----------------------+---------+---------------+-----------------------+---------+\n",
      "| database/database.db | 4.77 MB | CORRUPT       | NONE                  | False   |\n",
      "| root                 | 0 B     | GOOD          | NONE                  | False   |\n",
      "+----------------------+---------+---------------+-----------------------+---------+\n"
     ]
    }
   ],
   "source": [
    "database_server: Server = env.game.simulation.network.get_node_by_hostname(\"database_server\")\n",
    "database_server.software_manager.file_system.show(full=True)"
   ]
  },
  {
   "cell_type": "markdown",
   "metadata": {},
   "source": [
    "## **Command and Control** | Blue Agent Relevance\n",
    "\n",
    "The next section of the notebook will demonstrate the impact the command and control suite has on the Blue Agent's observation space as well as some potential actions that can be used to prevent the attack from being successful.\n",
    "\n",
    "The code cell below recreates the UC2 network and swaps out the previous custom red agent with a custom blue agent. "
   ]
  },
  {
   "cell_type": "code",
   "execution_count": 19,
   "metadata": {
    "execution": {
     "iopub.execute_input": "2025-03-24T09:51:19.637761Z",
     "iopub.status.busy": "2025-03-24T09:51:19.637400Z",
     "iopub.status.idle": "2025-03-24T09:51:19.651700Z",
     "shell.execute_reply": "2025-03-24T09:51:19.651028Z"
    }
   },
   "outputs": [],
   "source": [
    "custom_blue_agent_yaml = \"\"\"\n",
    "  - ref: defender\n",
    "    team: BLUE\n",
    "    type: proxy-agent\n",
    "\n",
    "    observation_space:\n",
    "      type: custom\n",
    "      options:\n",
    "        components:\n",
    "          - type: nodes\n",
    "            label: nodes\n",
    "            options:\n",
    "              hosts:\n",
    "                - hostname: web_server\n",
    "                  applications:\n",
    "                    - application_name: c2-beacon\n",
    "                    - application_name: ransomware-script\n",
    "                  folders:\n",
    "                    - folder_name: exfiltration_folder\n",
    "                      files:\n",
    "                      - file_name: database.db\n",
    "                - hostname: database_server\n",
    "                  folders:\n",
    "                    - folder_name: exfiltration_folder\n",
    "                      files:\n",
    "                      - file_name: database.db\n",
    "                - hostname: client_1\n",
    "                - hostname: client_2\n",
    "              num_services: 0\n",
    "              num_applications: 2\n",
    "              num_folders: 1\n",
    "              num_files: 1\n",
    "              num_nics: 1\n",
    "              include_num_access: true\n",
    "              include_nmne: false\n",
    "              monitored_traffic:\n",
    "                icmp:\n",
    "                    - NONE\n",
    "                tcp:\n",
    "                    - HTTP\n",
    "                    - DNS\n",
    "                    - FTP\n",
    "              routers:\n",
    "                - hostname: router_1\n",
    "              num_ports: 3\n",
    "              ip_list:\n",
    "                - 192.168.1.10\n",
    "                - 192.168.1.12\n",
    "                - 192.168.1.14\n",
    "                - 192.168.1.16\n",
    "                - 192.168.1.110\n",
    "                - 192.168.10.21\n",
    "                - 192.168.10.22\n",
    "                - 192.168.10.110\n",
    "              wildcard_list:\n",
    "                - 0.0.0.1\n",
    "              port_list:\n",
    "                - 80\n",
    "                - 53\n",
    "                - 21\n",
    "              protocol_list:\n",
    "                - ICMP\n",
    "                - TCP\n",
    "                - UDP\n",
    "              num_rules: 10\n",
    "\n",
    "          - type: links\n",
    "            label: LINKS\n",
    "            options:\n",
    "              link_references:\n",
    "                - router_1:eth-1<->switch_1:eth-8\n",
    "                - router_1:eth-2<->switch_2:eth-8\n",
    "                - switch_1:eth-1<->web_server:eth-1\n",
    "                - switch_1:eth-2<->web_server:eth-1\n",
    "                - switch_1:eth-3<->database_server:eth-1\n",
    "                - switch_1:eth-4<->backup_server:eth-1\n",
    "                - switch_1:eth-7<->security_suite:eth-1\n",
    "                - switch_2:eth-1<->client_1:eth-1\n",
    "                - switch_2:eth-2<->client_2:eth-1\n",
    "                - switch_2:eth-7<->security_suite:eth-2\n",
    "          - type: \"none\"\n",
    "            label: ICS\n",
    "            options: {}\n",
    "\n",
    "    action_space:\n",
    "      action_map:\n",
    "          0:\n",
    "            action: do-nothing\n",
    "            options: {}\n",
    "          1:\n",
    "            action: node-application-remove\n",
    "            options:\n",
    "              node_name: web_server\n",
    "              application_name: c2-beacon\n",
    "          2:\n",
    "            action: node-shutdown\n",
    "            options:\n",
    "              node_name: web_server\n",
    "          3:\n",
    "            action: router-acl-add-rule\n",
    "            options:\n",
    "              target_router: router_1\n",
    "              position: 1\n",
    "              permission: DENY\n",
    "              src_ip: 192.168.10.21\n",
    "              dst_ip: 192.168.1.12\n",
    "              src_port: HTTP\n",
    "              dst_port: HTTP\n",
    "              protocol_name: ALL\n",
    "              src_wildcard: 0.0.0.1\n",
    "              dst_wildcard: 0.0.0.1\n",
    "\n",
    "    reward_function:\n",
    "      reward_components:\n",
    "        - type: dummy\n",
    "\n",
    "    agent_settings:\n",
    "      flatten_obs: False\n",
    "\"\"\"\n",
    "custom_blue = yaml.safe_load(custom_blue_agent_yaml)"
   ]
  },
  {
   "cell_type": "code",
   "execution_count": 20,
   "metadata": {
    "execution": {
     "iopub.execute_input": "2025-03-24T09:51:19.654345Z",
     "iopub.status.busy": "2025-03-24T09:51:19.653957Z",
     "iopub.status.idle": "2025-03-24T09:51:19.900034Z",
     "shell.execute_reply": "2025-03-24T09:51:19.899411Z"
    }
   },
   "outputs": [
    {
     "name": "stderr",
     "output_type": "stream",
     "text": [
      "2025-03-24 09:51:19,896: PrimaiteGymEnv RNG seed = None\n"
     ]
    }
   ],
   "source": [
    "with open(data_manipulation_config_path()) as f:\n",
    "    cfg = yaml.safe_load(f)\n",
    "    # removing all agents & adding the custom agent.\n",
    "    cfg['agents'] = {}\n",
    "    cfg['agents'] = custom_blue\n",
    "\n",
    "\n",
    "blue_env = PrimaiteGymEnv(env_config=cfg)"
   ]
  },
  {
   "cell_type": "code",
   "execution_count": 21,
   "metadata": {
    "execution": {
     "iopub.execute_input": "2025-03-24T09:51:19.902722Z",
     "iopub.status.busy": "2025-03-24T09:51:19.902508Z",
     "iopub.status.idle": "2025-03-24T09:51:20.205140Z",
     "shell.execute_reply": "2025-03-24T09:51:20.204430Z"
    }
   },
   "outputs": [],
   "source": [
    "# Utility function for showing OBS changes between each time step.\n",
    "\n",
    "from deepdiff.diff import DeepDiff\n",
    "\n",
    "def display_obs_diffs(old, new, step_counter):\n",
    "    \"\"\"\n",
    "    Use DeepDiff to extract and display differences in old and new instances of\n",
    "    the observation space.\n",
    "\n",
    "    :param old: observation space instance.\n",
    "    :param new: observation space instance.\n",
    "    :param step_counter: current step counter.\n",
    "    \"\"\"\n",
    "    print(\"\\nObservation space differences\")\n",
    "    print(\"-----------------------------\")\n",
    "    diff = DeepDiff(old, new)\n",
    "    print(f\"Step {step_counter}\")\n",
    "    for d,v in diff.get('values_changed', {}).items():\n",
    "        print(f\"{d}: {v['old_value']} -> {v['new_value']}\")"
   ]
  },
  {
   "cell_type": "markdown",
   "metadata": {},
   "source": [
    "### **Command and Control** | Blue Agent Relevance | Observation Space\n",
    "\n",
    "This section demonstrates the impacts that each of that the C2 Beacon and the C2 Server's commands cause on the observation space (OBS)."
   ]
  },
  {
   "cell_type": "markdown",
   "metadata": {},
   "source": [
    "#### **Command and Control** | OBS Impact | C2 Beacon | Installation & Configuration"
   ]
  },
  {
   "cell_type": "code",
   "execution_count": 22,
   "metadata": {
    "execution": {
     "iopub.execute_input": "2025-03-24T09:51:20.208467Z",
     "iopub.status.busy": "2025-03-24T09:51:20.208064Z",
     "iopub.status.idle": "2025-03-24T09:51:20.266263Z",
     "shell.execute_reply": "2025-03-24T09:51:20.265625Z"
    }
   },
   "outputs": [
    {
     "name": "stderr",
     "output_type": "stream",
     "text": [
      "2025-03-24 09:51:20,209: Resetting environment, episode 0, avg. reward: 0.0\n"
     ]
    },
    {
     "name": "stderr",
     "output_type": "stream",
     "text": [
      "2025-03-24 09:51:20,210: Saving agent action log to /home/runner/primaite/4.0.0/sessions/2025-03-24/09-51-16/agent_actions/episode_0.json\n"
     ]
    }
   ],
   "source": [
    "# Resetting the environment and capturing the default observation space.\n",
    "blue_env.reset()\n",
    "default_obs, _, _, _, _ = blue_env.step(0)"
   ]
  },
  {
   "cell_type": "code",
   "execution_count": 23,
   "metadata": {
    "execution": {
     "iopub.execute_input": "2025-03-24T09:51:20.269531Z",
     "iopub.status.busy": "2025-03-24T09:51:20.269252Z",
     "iopub.status.idle": "2025-03-24T09:51:20.281670Z",
     "shell.execute_reply": "2025-03-24T09:51:20.281093Z"
    }
   },
   "outputs": [
    {
     "data": {
      "text/plain": [
       "True"
      ]
     },
     "execution_count": 23,
     "metadata": {},
     "output_type": "execute_result"
    }
   ],
   "source": [
    "# Setting up the C2 Suite via the simulation API.\n",
    "\n",
    "client_1: Computer = blue_env.game.simulation.network.get_node_by_hostname(\"client_1\")\n",
    "web_server: Server = blue_env.game.simulation.network.get_node_by_hostname(\"web_server\")\n",
    "\n",
    "# Installing the C2 Server.\n",
    "client_1.software_manager.install(C2Server)\n",
    "c2_server: C2Server = client_1.software_manager.software[\"c2-server\"]\n",
    "c2_server.run()\n",
    "\n",
    "# Installing the C2 Beacon.\n",
    "web_server.software_manager.install(C2Beacon)\n",
    "c2_beacon: C2Beacon = web_server.software_manager.software[\"c2-beacon\"]\n",
    "c2_beacon.configure(c2_server_ip_address=\"192.168.10.21\")\n",
    "c2_beacon.establish()"
   ]
  },
  {
   "cell_type": "code",
   "execution_count": 24,
   "metadata": {
    "execution": {
     "iopub.execute_input": "2025-03-24T09:51:20.284537Z",
     "iopub.status.busy": "2025-03-24T09:51:20.284124Z",
     "iopub.status.idle": "2025-03-24T09:51:20.289530Z",
     "shell.execute_reply": "2025-03-24T09:51:20.288968Z"
    }
   },
   "outputs": [],
   "source": [
    "# Capturing the observation impacts of the previous code cell: C2 Suite setup.\n",
    "c2_configuration_obs, _, _, _, _ = blue_env.step(0)"
   ]
  },
  {
   "cell_type": "code",
   "execution_count": 25,
   "metadata": {
    "execution": {
     "iopub.execute_input": "2025-03-24T09:51:20.292115Z",
     "iopub.status.busy": "2025-03-24T09:51:20.291692Z",
     "iopub.status.idle": "2025-03-24T09:51:20.310429Z",
     "shell.execute_reply": "2025-03-24T09:51:20.309825Z"
    }
   },
   "outputs": [
    {
     "name": "stdout",
     "output_type": "stream",
     "text": [
      "\n",
      "Observation space differences\n",
      "-----------------------------\n",
      "Step 2\n",
      "root['nodes']['HOST0']['APPLICATIONS'][1]['operating_status']: 0 -> 1\n",
      "root['nodes']['HOST1']['NICS'][1]['TRAFFIC']['tcp'][21]['inbound']: 1 -> 0\n",
      "root['nodes']['HOST1']['NICS'][1]['TRAFFIC']['tcp'][21]['outbound']: 4 -> 0\n",
      "root['LINKS'][1]['PROTOCOLS']['ALL']: 1 -> 0\n",
      "root['LINKS'][5]['PROTOCOLS']['ALL']: 4 -> 0\n",
      "root['LINKS'][6]['PROTOCOLS']['ALL']: 4 -> 0\n"
     ]
    }
   ],
   "source": [
    "display_obs_diffs(default_obs, c2_configuration_obs, blue_env.game.step_counter)"
   ]
  },
  {
   "cell_type": "markdown",
   "metadata": {},
   "source": [
    "#### **Command and Control** | OBS Impact | C2 Server | Terminal Command\n",
    "\n",
    "As shown, we can use the C2 Server to install the ``RansomwareScript`` application onto the C2 Beacon's host.\n",
    "\n",
    "The below code cells perform this as well as capturing the OBS impacts.\n",
    "\n",
    "It's important to note that the ``c2-server-terminal-command`` action is not limited to just installing software as shown in the [Terminal-Processing](./Terminal-Processing.ipynb) notebook."
   ]
  },
  {
   "cell_type": "code",
   "execution_count": 26,
   "metadata": {
    "execution": {
     "iopub.execute_input": "2025-03-24T09:51:20.313076Z",
     "iopub.status.busy": "2025-03-24T09:51:20.312840Z",
     "iopub.status.idle": "2025-03-24T09:51:20.320956Z",
     "shell.execute_reply": "2025-03-24T09:51:20.320367Z"
    }
   },
   "outputs": [
    {
     "data": {
      "text/plain": [
       "RequestResponse(status='success', data={0: RequestResponse(status='success', data={})})"
      ]
     },
     "execution_count": 26,
     "metadata": {},
     "output_type": "execute_result"
    }
   ],
   "source": [
    "# Installing RansomwareScript via C2 Terminal Commands (This is via the PrimAITE simulation rather than the c2-server-terminal-command action)\n",
    "ransomware_install_command = {\"commands\":[[\"software_manager\", \"application\", \"install\", \"ransomware-script\"]],\n",
    "                              \"username\": \"admin\",\n",
    "                              \"password\": \"admin\"}\n",
    "c2_server.send_command(C2Command.TERMINAL, command_options=ransomware_install_command)\n"
   ]
  },
  {
   "cell_type": "code",
   "execution_count": 27,
   "metadata": {
    "execution": {
     "iopub.execute_input": "2025-03-24T09:51:20.323497Z",
     "iopub.status.busy": "2025-03-24T09:51:20.323094Z",
     "iopub.status.idle": "2025-03-24T09:51:20.329968Z",
     "shell.execute_reply": "2025-03-24T09:51:20.329380Z"
    }
   },
   "outputs": [
    {
     "data": {
      "text/plain": [
       "RequestResponse(status='success', data={})"
      ]
     },
     "execution_count": 27,
     "metadata": {},
     "output_type": "execute_result"
    }
   ],
   "source": [
    "# Configuring the RansomwareScript\n",
    "ransomware_config = {\"server_ip_address\": \"192.168.1.14\", \"payload\": \"ENCRYPT\"}\n",
    "c2_server.send_command(C2Command.RANSOMWARE_CONFIGURE, command_options=ransomware_config)"
   ]
  },
  {
   "cell_type": "code",
   "execution_count": 28,
   "metadata": {
    "execution": {
     "iopub.execute_input": "2025-03-24T09:51:20.332556Z",
     "iopub.status.busy": "2025-03-24T09:51:20.332076Z",
     "iopub.status.idle": "2025-03-24T09:51:20.337563Z",
     "shell.execute_reply": "2025-03-24T09:51:20.336919Z"
    }
   },
   "outputs": [],
   "source": [
    "# Capturing the observation impacts of the previous code cell: Ransomware installation & configuration.\n",
    "c2_ransomware_obs, _, _, _, _ = blue_env.step(0)"
   ]
  },
  {
   "cell_type": "code",
   "execution_count": 29,
   "metadata": {
    "execution": {
     "iopub.execute_input": "2025-03-24T09:51:20.340153Z",
     "iopub.status.busy": "2025-03-24T09:51:20.339738Z",
     "iopub.status.idle": "2025-03-24T09:51:20.358788Z",
     "shell.execute_reply": "2025-03-24T09:51:20.358177Z"
    }
   },
   "outputs": [
    {
     "name": "stdout",
     "output_type": "stream",
     "text": [
      "\n",
      "Observation space differences\n",
      "-----------------------------\n",
      "Step 7\n",
      "root['nodes']['HOST0']['APPLICATIONS'][1]['operating_status']: 0 -> 1\n",
      "root['nodes']['HOST0']['APPLICATIONS'][2]['operating_status']: 0 -> 3\n",
      "root['nodes']['HOST0']['users']['local_login']: 0 -> 1\n",
      "root['nodes']['HOST1']['NICS'][1]['TRAFFIC']['tcp'][21]['inbound']: 1 -> 0\n",
      "root['nodes']['HOST1']['NICS'][1]['TRAFFIC']['tcp'][21]['outbound']: 4 -> 0\n",
      "root['LINKS'][1]['PROTOCOLS']['ALL']: 1 -> 0\n",
      "root['LINKS'][5]['PROTOCOLS']['ALL']: 4 -> 0\n",
      "root['LINKS'][6]['PROTOCOLS']['ALL']: 4 -> 0\n"
     ]
    }
   ],
   "source": [
    "display_obs_diffs(default_obs, c2_ransomware_obs, env.game.step_counter)"
   ]
  },
  {
   "cell_type": "markdown",
   "metadata": {},
   "source": [
    "#### **Command and Control** | OBS Impact | C2 Server | Data Exfiltration\n",
    "\n",
    "Before encrypting the database.db file, we can use the exfiltration command to copy the database.db file onto both the C2 Server and the C2 Beacon's file systems:"
   ]
  },
  {
   "cell_type": "code",
   "execution_count": 30,
   "metadata": {
    "execution": {
     "iopub.execute_input": "2025-03-24T09:51:20.361700Z",
     "iopub.status.busy": "2025-03-24T09:51:20.361309Z",
     "iopub.status.idle": "2025-03-24T09:51:20.364466Z",
     "shell.execute_reply": "2025-03-24T09:51:20.363908Z"
    }
   },
   "outputs": [],
   "source": [
    "exfil_options={\n",
    "    \"username\": \"admin\",\n",
    "    \"password\": \"admin\",\n",
    "    \"target_ip_address\": \"192.168.1.14\",\n",
    "    \"target_folder_name\": \"database\",\n",
    "    \"exfiltration_folder_name\": \"exfiltration_folder\",\n",
    "    \"target_file_name\": \"database.db\",\n",
    "}"
   ]
  },
  {
   "cell_type": "code",
   "execution_count": 31,
   "metadata": {
    "execution": {
     "iopub.execute_input": "2025-03-24T09:51:20.367118Z",
     "iopub.status.busy": "2025-03-24T09:51:20.366558Z",
     "iopub.status.idle": "2025-03-24T09:51:20.386519Z",
     "shell.execute_reply": "2025-03-24T09:51:20.385827Z"
    }
   },
   "outputs": [
    {
     "data": {
      "text/plain": [
       "RequestResponse(status='success', data={})"
      ]
     },
     "execution_count": 31,
     "metadata": {},
     "output_type": "execute_result"
    }
   ],
   "source": [
    "c2_server.send_command(given_command=C2Command.DATA_EXFILTRATION, command_options=exfil_options)"
   ]
  },
  {
   "cell_type": "code",
   "execution_count": 32,
   "metadata": {
    "execution": {
     "iopub.execute_input": "2025-03-24T09:51:20.389265Z",
     "iopub.status.busy": "2025-03-24T09:51:20.388770Z",
     "iopub.status.idle": "2025-03-24T09:51:20.394413Z",
     "shell.execute_reply": "2025-03-24T09:51:20.393740Z"
    }
   },
   "outputs": [],
   "source": [
    "c2_exfil_obs, _, _, _, _ = blue_env.step(0)"
   ]
  },
  {
   "cell_type": "code",
   "execution_count": 33,
   "metadata": {
    "execution": {
     "iopub.execute_input": "2025-03-24T09:51:20.396642Z",
     "iopub.status.busy": "2025-03-24T09:51:20.396435Z",
     "iopub.status.idle": "2025-03-24T09:51:20.414407Z",
     "shell.execute_reply": "2025-03-24T09:51:20.413709Z"
    }
   },
   "outputs": [
    {
     "name": "stdout",
     "output_type": "stream",
     "text": [
      "\n",
      "Observation space differences\n",
      "-----------------------------\n",
      "Step 7\n",
      "root['nodes']['HOST0']['APPLICATIONS'][2]['operating_status']: 3 -> 1\n",
      "root['nodes']['HOST1']['users']['remote_sessions']: 0 -> 1\n"
     ]
    }
   ],
   "source": [
    "display_obs_diffs(c2_ransomware_obs, c2_exfil_obs, env.game.step_counter)"
   ]
  },
  {
   "cell_type": "markdown",
   "metadata": {},
   "source": [
    "#### **Command and Control** | OBS Impact | C2 Server | Ransomware Commands\n",
    "\n",
    "The code cell below demonstrates the differences between the ransomware script installation obs and the impact of RansomwareScript upon the database."
   ]
  },
  {
   "cell_type": "code",
   "execution_count": 34,
   "metadata": {
    "execution": {
     "iopub.execute_input": "2025-03-24T09:51:20.417128Z",
     "iopub.status.busy": "2025-03-24T09:51:20.416727Z",
     "iopub.status.idle": "2025-03-24T09:51:20.423556Z",
     "shell.execute_reply": "2025-03-24T09:51:20.422925Z"
    }
   },
   "outputs": [
    {
     "data": {
      "text/plain": [
       "RequestResponse(status='success', data={})"
      ]
     },
     "execution_count": 34,
     "metadata": {},
     "output_type": "execute_result"
    }
   ],
   "source": [
    "# Configuring the RansomwareScript\n",
    "ransomware_config = {\"server_ip_address\": \"192.168.1.14\", \"payload\": \"ENCRYPT\"}\n",
    "c2_server.send_command(C2Command.RANSOMWARE_CONFIGURE, command_options=ransomware_config)"
   ]
  },
  {
   "cell_type": "code",
   "execution_count": 35,
   "metadata": {
    "execution": {
     "iopub.execute_input": "2025-03-24T09:51:20.426032Z",
     "iopub.status.busy": "2025-03-24T09:51:20.425631Z",
     "iopub.status.idle": "2025-03-24T09:51:20.436481Z",
     "shell.execute_reply": "2025-03-24T09:51:20.435778Z"
    }
   },
   "outputs": [
    {
     "data": {
      "text/plain": [
       "RequestResponse(status='success', data={})"
      ]
     },
     "execution_count": 35,
     "metadata": {},
     "output_type": "execute_result"
    }
   ],
   "source": [
    "# Waiting for the ransomware to finish installing and then launching the RansomwareScript.\n",
    "blue_env.step(0)\n",
    "c2_server.send_command(C2Command.RANSOMWARE_LAUNCH, command_options={})"
   ]
  },
  {
   "cell_type": "code",
   "execution_count": 36,
   "metadata": {
    "execution": {
     "iopub.execute_input": "2025-03-24T09:51:20.439081Z",
     "iopub.status.busy": "2025-03-24T09:51:20.438684Z",
     "iopub.status.idle": "2025-03-24T09:51:20.447869Z",
     "shell.execute_reply": "2025-03-24T09:51:20.447310Z"
    }
   },
   "outputs": [],
   "source": [
    "# Capturing the observation impacts of the previous code cell: Launching the RansomwareScript.\n",
    "c2_final_obs, _, _, _, _ = blue_env.step(0)"
   ]
  },
  {
   "cell_type": "code",
   "execution_count": 37,
   "metadata": {
    "execution": {
     "iopub.execute_input": "2025-03-24T09:51:20.450200Z",
     "iopub.status.busy": "2025-03-24T09:51:20.450009Z",
     "iopub.status.idle": "2025-03-24T09:51:20.468734Z",
     "shell.execute_reply": "2025-03-24T09:51:20.468065Z"
    }
   },
   "outputs": [
    {
     "name": "stdout",
     "output_type": "stream",
     "text": [
      "\n",
      "Observation space differences\n",
      "-----------------------------\n",
      "Step 6\n",
      "root['nodes']['HOST0']['APPLICATIONS'][2]['operating_status']: 3 -> 1\n",
      "root['nodes']['HOST0']['NICS'][1]['TRAFFIC']['tcp'][80]['inbound']: 0 -> 1\n",
      "root['nodes']['HOST0']['NICS'][1]['TRAFFIC']['tcp'][80]['outbound']: 0 -> 1\n",
      "root['nodes']['HOST1']['users']['remote_sessions']: 0 -> 1\n",
      "root['nodes']['HOST2']['NICS'][1]['TRAFFIC']['tcp'][80]['inbound']: 0 -> 1\n",
      "root['nodes']['HOST2']['NICS'][1]['TRAFFIC']['tcp'][80]['outbound']: 0 -> 1\n",
      "root['LINKS'][1]['PROTOCOLS']['ALL']: 0 -> 1\n",
      "root['LINKS'][2]['PROTOCOLS']['ALL']: 0 -> 1\n",
      "root['LINKS'][4]['PROTOCOLS']['ALL']: 0 -> 1\n",
      "root['LINKS'][8]['PROTOCOLS']['ALL']: 0 -> 1\n"
     ]
    }
   ],
   "source": [
    "display_obs_diffs(c2_ransomware_obs, c2_final_obs, blue_env.game.step_counter)"
   ]
  },
  {
   "cell_type": "markdown",
   "metadata": {},
   "source": [
    "### **Command and Control** | Blue Agent Relevance | Action Space\n",
    "\n",
    "The next section of this notebook will go over some potential blue agent actions that could be use to thwart the previously demonstrated attack."
   ]
  },
  {
   "cell_type": "code",
   "execution_count": 38,
   "metadata": {
    "execution": {
     "iopub.execute_input": "2025-03-24T09:51:20.471253Z",
     "iopub.status.busy": "2025-03-24T09:51:20.471051Z",
     "iopub.status.idle": "2025-03-24T09:51:20.475460Z",
     "shell.execute_reply": "2025-03-24T09:51:20.474755Z"
    }
   },
   "outputs": [],
   "source": [
    "# This method is used to simplify setting up the C2Server and the C2 Beacon.\n",
    "def c2_setup(given_env: PrimaiteGymEnv):\n",
    "    client_1: Computer = given_env.game.simulation.network.get_node_by_hostname(\"client_1\")\n",
    "    web_server: Server = given_env.game.simulation.network.get_node_by_hostname(\"web_server\")\n",
    "\n",
    "    client_1.software_manager.install(C2Server)\n",
    "    c2_server: C2Server = client_1.software_manager.software[\"c2-server\"]\n",
    "    c2_server.run()\n",
    "\n",
    "    web_server.software_manager.install(C2Beacon)\n",
    "    c2_beacon: C2Beacon = web_server.software_manager.software[\"c2-beacon\"]\n",
    "    c2_beacon.configure(c2_server_ip_address=\"192.168.10.21\")\n",
    "    c2_beacon.establish()\n",
    "\n",
    "    return given_env, c2_server, c2_beacon, client_1, web_server"
   ]
  },
  {
   "cell_type": "markdown",
   "metadata": {},
   "source": [
    "#### Removing the C2 Beacon.\n",
    "\n",
    "The simplest way a blue agent could prevent the C2 suite is by simply removing the C2 beacon from it's installation point. "
   ]
  },
  {
   "cell_type": "code",
   "execution_count": 39,
   "metadata": {
    "execution": {
     "iopub.execute_input": "2025-03-24T09:51:20.478098Z",
     "iopub.status.busy": "2025-03-24T09:51:20.477759Z",
     "iopub.status.idle": "2025-03-24T09:51:20.539355Z",
     "shell.execute_reply": "2025-03-24T09:51:20.538629Z"
    }
   },
   "outputs": [
    {
     "name": "stderr",
     "output_type": "stream",
     "text": [
      "2025-03-24 09:51:20,478: Resetting environment, episode 1, avg. reward: 0.0\n"
     ]
    },
    {
     "name": "stderr",
     "output_type": "stream",
     "text": [
      "2025-03-24 09:51:20,480: Saving agent action log to /home/runner/primaite/4.0.0/sessions/2025-03-24/09-51-16/agent_actions/episode_1.json\n"
     ]
    },
    {
     "data": {
      "text/plain": [
       "({'nodes': {'HOST0': {'APPLICATIONS': {1: {'operating_status': 0,\n",
       "      'health_status': 0,\n",
       "      'num_executions': 0},\n",
       "     2: {'operating_status': 0, 'health_status': 0, 'num_executions': 0}},\n",
       "    'FOLDERS': {1: {'health_status': 0,\n",
       "      'FILES': {1: {'health_status': 0, 'num_access': 0}}}},\n",
       "    'NICS': {1: {'nic_status': 1,\n",
       "      'TRAFFIC': {'icmp': {'inbound': 0, 'outbound': 0},\n",
       "       'tcp': {80: {'inbound': 0, 'outbound': 0},\n",
       "        53: {'inbound': 0, 'outbound': 0},\n",
       "        21: {'inbound': 0, 'outbound': 0}}}}},\n",
       "    'num_file_creations': 1,\n",
       "    'num_file_deletions': 0,\n",
       "    'users': {'local_login': 0, 'remote_sessions': 0},\n",
       "    'operating_status': 1},\n",
       "   'HOST1': {'APPLICATIONS': {1: {'operating_status': 0,\n",
       "      'health_status': 0,\n",
       "      'num_executions': 0},\n",
       "     2: {'operating_status': 0, 'health_status': 0, 'num_executions': 0}},\n",
       "    'FOLDERS': {1: {'health_status': 0,\n",
       "      'FILES': {1: {'health_status': 0, 'num_access': 0}}}},\n",
       "    'NICS': {1: {'nic_status': 1,\n",
       "      'TRAFFIC': {'icmp': {'inbound': 0, 'outbound': 0},\n",
       "       'tcp': {80: {'inbound': 0, 'outbound': 0},\n",
       "        53: {'inbound': 0, 'outbound': 0},\n",
       "        21: {'inbound': 0, 'outbound': 0}}}}},\n",
       "    'num_file_creations': 1,\n",
       "    'num_file_deletions': 0,\n",
       "    'users': {'local_login': 0, 'remote_sessions': 0},\n",
       "    'operating_status': 1},\n",
       "   'HOST2': {'APPLICATIONS': {1: {'operating_status': 0,\n",
       "      'health_status': 0,\n",
       "      'num_executions': 0},\n",
       "     2: {'operating_status': 0, 'health_status': 0, 'num_executions': 0}},\n",
       "    'FOLDERS': {1: {'health_status': 0,\n",
       "      'FILES': {1: {'health_status': 0, 'num_access': 0}}}},\n",
       "    'NICS': {1: {'nic_status': 1,\n",
       "      'TRAFFIC': {'icmp': {'inbound': 0, 'outbound': 0},\n",
       "       'tcp': {80: {'inbound': 0, 'outbound': 0},\n",
       "        53: {'inbound': 0, 'outbound': 0},\n",
       "        21: {'inbound': 0, 'outbound': 0}}}}},\n",
       "    'num_file_creations': 0,\n",
       "    'num_file_deletions': 0,\n",
       "    'users': {'local_login': 0, 'remote_sessions': 0},\n",
       "    'operating_status': 1},\n",
       "   'HOST3': {'APPLICATIONS': {1: {'operating_status': 0,\n",
       "      'health_status': 0,\n",
       "      'num_executions': 0},\n",
       "     2: {'operating_status': 0, 'health_status': 0, 'num_executions': 0}},\n",
       "    'FOLDERS': {1: {'health_status': 0,\n",
       "      'FILES': {1: {'health_status': 0, 'num_access': 0}}}},\n",
       "    'NICS': {1: {'nic_status': 1,\n",
       "      'TRAFFIC': {'icmp': {'inbound': 0, 'outbound': 0},\n",
       "       'tcp': {80: {'inbound': 0, 'outbound': 0},\n",
       "        53: {'inbound': 0, 'outbound': 0},\n",
       "        21: {'inbound': 0, 'outbound': 0}}}}},\n",
       "    'num_file_creations': 0,\n",
       "    'num_file_deletions': 0,\n",
       "    'users': {'local_login': 0, 'remote_sessions': 0},\n",
       "    'operating_status': 1},\n",
       "   'ROUTER0': {'ACL': {0: {'position': 0,\n",
       "      'permission': 0,\n",
       "      'source_ip_id': 0,\n",
       "      'source_wildcard_id': 0,\n",
       "      'source_port_id': 0,\n",
       "      'dest_ip_id': 0,\n",
       "      'dest_wildcard_id': 0,\n",
       "      'dest_port_id': 0,\n",
       "      'protocol_id': 0},\n",
       "     1: {'position': 1,\n",
       "      'permission': 0,\n",
       "      'source_ip_id': 0,\n",
       "      'source_wildcard_id': 0,\n",
       "      'source_port_id': 0,\n",
       "      'dest_ip_id': 0,\n",
       "      'dest_wildcard_id': 0,\n",
       "      'dest_port_id': 0,\n",
       "      'protocol_id': 0},\n",
       "     2: {'position': 2,\n",
       "      'permission': 0,\n",
       "      'source_ip_id': 0,\n",
       "      'source_wildcard_id': 0,\n",
       "      'source_port_id': 0,\n",
       "      'dest_ip_id': 0,\n",
       "      'dest_wildcard_id': 0,\n",
       "      'dest_port_id': 0,\n",
       "      'protocol_id': 0},\n",
       "     3: {'position': 3,\n",
       "      'permission': 0,\n",
       "      'source_ip_id': 0,\n",
       "      'source_wildcard_id': 0,\n",
       "      'source_port_id': 0,\n",
       "      'dest_ip_id': 0,\n",
       "      'dest_wildcard_id': 0,\n",
       "      'dest_port_id': 0,\n",
       "      'protocol_id': 0},\n",
       "     4: {'position': 4,\n",
       "      'permission': 0,\n",
       "      'source_ip_id': 0,\n",
       "      'source_wildcard_id': 0,\n",
       "      'source_port_id': 0,\n",
       "      'dest_ip_id': 0,\n",
       "      'dest_wildcard_id': 0,\n",
       "      'dest_port_id': 0,\n",
       "      'protocol_id': 0},\n",
       "     5: {'position': 5,\n",
       "      'permission': 0,\n",
       "      'source_ip_id': 0,\n",
       "      'source_wildcard_id': 0,\n",
       "      'source_port_id': 0,\n",
       "      'dest_ip_id': 0,\n",
       "      'dest_wildcard_id': 0,\n",
       "      'dest_port_id': 0,\n",
       "      'protocol_id': 0},\n",
       "     6: {'position': 6,\n",
       "      'permission': 0,\n",
       "      'source_ip_id': 0,\n",
       "      'source_wildcard_id': 0,\n",
       "      'source_port_id': 0,\n",
       "      'dest_ip_id': 0,\n",
       "      'dest_wildcard_id': 0,\n",
       "      'dest_port_id': 0,\n",
       "      'protocol_id': 0},\n",
       "     7: {'position': 7,\n",
       "      'permission': 0,\n",
       "      'source_ip_id': 0,\n",
       "      'source_wildcard_id': 0,\n",
       "      'source_port_id': 0,\n",
       "      'dest_ip_id': 0,\n",
       "      'dest_wildcard_id': 0,\n",
       "      'dest_port_id': 0,\n",
       "      'protocol_id': 0},\n",
       "     8: {'position': 8,\n",
       "      'permission': 0,\n",
       "      'source_ip_id': 0,\n",
       "      'source_wildcard_id': 0,\n",
       "      'source_port_id': 0,\n",
       "      'dest_ip_id': 0,\n",
       "      'dest_wildcard_id': 0,\n",
       "      'dest_port_id': 0,\n",
       "      'protocol_id': 0},\n",
       "     9: {'position': 9,\n",
       "      'permission': 0,\n",
       "      'source_ip_id': 0,\n",
       "      'source_wildcard_id': 0,\n",
       "      'source_port_id': 0,\n",
       "      'dest_ip_id': 0,\n",
       "      'dest_wildcard_id': 0,\n",
       "      'dest_port_id': 0,\n",
       "      'protocol_id': 0}},\n",
       "    'PORTS': {1: {'operating_status': 1},\n",
       "     2: {'operating_status': 1},\n",
       "     3: {'operating_status': 2}},\n",
       "    'users': {'local_login': 0, 'remote_sessions': 0}}},\n",
       "  'LINKS': {1: {'PROTOCOLS': {'ALL': 1}},\n",
       "   2: {'PROTOCOLS': {'ALL': 1}},\n",
       "   3: {'PROTOCOLS': {'ALL': 0}},\n",
       "   4: {'PROTOCOLS': {'ALL': 1}},\n",
       "   5: {'PROTOCOLS': {'ALL': 1}},\n",
       "   6: {'PROTOCOLS': {'ALL': 1}},\n",
       "   7: {'PROTOCOLS': {'ALL': 1}},\n",
       "   8: {'PROTOCOLS': {'ALL': 1}},\n",
       "   9: {'PROTOCOLS': {'ALL': 1}},\n",
       "   10: {'PROTOCOLS': {'ALL': 0}}},\n",
       "  'ICS': 0},\n",
       " {})"
      ]
     },
     "execution_count": 39,
     "metadata": {},
     "output_type": "execute_result"
    }
   ],
   "source": [
    "blue_env.reset()"
   ]
  },
  {
   "cell_type": "code",
   "execution_count": 40,
   "metadata": {
    "execution": {
     "iopub.execute_input": "2025-03-24T09:51:20.542201Z",
     "iopub.status.busy": "2025-03-24T09:51:20.541832Z",
     "iopub.status.idle": "2025-03-24T09:51:20.559811Z",
     "shell.execute_reply": "2025-03-24T09:51:20.559218Z"
    }
   },
   "outputs": [],
   "source": [
    "# Setting up the C2 Suite using the c2_setup method & capturing the OBS impacts\n",
    "\n",
    "blue_env, c2_server, c2_beacon, client_1, web_server = c2_setup(given_env=blue_env)\n",
    "pre_blue_action_obs, _, _, _, _ = blue_env.step(0)"
   ]
  },
  {
   "cell_type": "markdown",
   "metadata": {},
   "source": [
    "The code cell below uses the custom blue agent defined at the start of this section perform a `node_application_remove` on the C2 beacon:\n",
    "\n",
    "```yaml\n",
    "    action_space:\n",
    "      action_map:\n",
    "          1:\n",
    "            action: node-application-remove\n",
    "            options:\n",
    "              node_name: web_server\n",
    "              application_name: c2-beacon\n",
    "```"
   ]
  },
  {
   "cell_type": "code",
   "execution_count": 41,
   "metadata": {
    "execution": {
     "iopub.execute_input": "2025-03-24T09:51:20.562260Z",
     "iopub.status.busy": "2025-03-24T09:51:20.562054Z",
     "iopub.status.idle": "2025-03-24T09:51:20.567336Z",
     "shell.execute_reply": "2025-03-24T09:51:20.566658Z"
    }
   },
   "outputs": [],
   "source": [
    "# Using CAOS ACTION: node_application_remove & capturing the OBS\n",
    "post_blue_action_obs, _, _, _, _ = blue_env.step(1)"
   ]
  },
  {
   "cell_type": "markdown",
   "metadata": {},
   "source": [
    "Which we can see after the effects of after stepping another timestep and looking at the **web_server**'s software manager and the OBS differences."
   ]
  },
  {
   "cell_type": "code",
   "execution_count": 42,
   "metadata": {
    "execution": {
     "iopub.execute_input": "2025-03-24T09:51:20.570097Z",
     "iopub.status.busy": "2025-03-24T09:51:20.569697Z",
     "iopub.status.idle": "2025-03-24T09:51:20.576414Z",
     "shell.execute_reply": "2025-03-24T09:51:20.575753Z"
    }
   },
   "outputs": [
    {
     "name": "stdout",
     "output_type": "stream",
     "text": [
      "+---------------------------------------------------------------------------------------+\n",
      "|                              web_server Software Manager                              |\n",
      "+----------------------+-------------+-----------------+--------------+------+----------+\n",
      "| Name                 | Type        | Operating State | Health State | Port | Protocol |\n",
      "+----------------------+-------------+-----------------+--------------+------+----------+\n",
      "| arp                  | Service     | RUNNING         | GOOD         | 219  | udp      |\n",
      "| icmp                 | Service     | RUNNING         | GOOD         | None | icmp     |\n",
      "| dns-client           | Service     | RUNNING         | GOOD         | 53   | tcp      |\n",
      "| ntp-client           | Service     | RUNNING         | GOOD         | 123  | udp      |\n",
      "| web-browser          | Application | RUNNING         | GOOD         | 80   | tcp      |\n",
      "| nmap                 | Application | RUNNING         | GOOD         | None | none     |\n",
      "| user-session-manager | Service     | RUNNING         | GOOD         | None | none     |\n",
      "| user-manager         | Service     | RUNNING         | GOOD         | None | none     |\n",
      "| terminal             | Service     | RUNNING         | GOOD         | 22   | tcp      |\n",
      "| web-server           | Service     | RUNNING         | GOOD         | 80   | tcp      |\n",
      "| database-client      | Application | RUNNING         | GOOD         | 5432 | tcp      |\n",
      "+----------------------+-------------+-----------------+--------------+------+----------+\n"
     ]
    }
   ],
   "source": [
    "blue_env.step(0)\n",
    "web_server.software_manager.show()"
   ]
  },
  {
   "cell_type": "code",
   "execution_count": 43,
   "metadata": {
    "execution": {
     "iopub.execute_input": "2025-03-24T09:51:20.578763Z",
     "iopub.status.busy": "2025-03-24T09:51:20.578567Z",
     "iopub.status.idle": "2025-03-24T09:51:20.596823Z",
     "shell.execute_reply": "2025-03-24T09:51:20.596169Z"
    }
   },
   "outputs": [
    {
     "name": "stdout",
     "output_type": "stream",
     "text": [
      "\n",
      "Observation space differences\n",
      "-----------------------------\n",
      "Step 3\n",
      "root['nodes']['HOST0']['APPLICATIONS'][1]['operating_status']: 1 -> 0\n",
      "root['nodes']['HOST1']['NICS'][1]['TRAFFIC']['tcp'][21]['inbound']: 1 -> 0\n",
      "root['nodes']['HOST1']['NICS'][1]['TRAFFIC']['tcp'][21]['outbound']: 4 -> 0\n",
      "root['LINKS'][1]['PROTOCOLS']['ALL']: 1 -> 0\n",
      "root['LINKS'][5]['PROTOCOLS']['ALL']: 4 -> 0\n",
      "root['LINKS'][6]['PROTOCOLS']['ALL']: 4 -> 0\n"
     ]
    }
   ],
   "source": [
    "display_obs_diffs(pre_blue_action_obs, post_blue_action_obs, blue_env.game.step_counter)"
   ]
  },
  {
   "cell_type": "markdown",
   "metadata": {},
   "source": [
    "Now we are unable to do so as the C2 Server has lost its connection to the C2 Beacon:"
   ]
  },
  {
   "cell_type": "code",
   "execution_count": 44,
   "metadata": {
    "execution": {
     "iopub.execute_input": "2025-03-24T09:51:20.599627Z",
     "iopub.status.busy": "2025-03-24T09:51:20.599419Z",
     "iopub.status.idle": "2025-03-24T09:51:20.606033Z",
     "shell.execute_reply": "2025-03-24T09:51:20.605320Z"
    }
   },
   "outputs": [
    {
     "data": {
      "text/plain": [
       "RequestResponse(status='failure', data={'Reason': 'Command sent to the C2 Beacon but no response was ever received.'})"
      ]
     },
     "execution_count": 44,
     "metadata": {},
     "output_type": "execute_result"
    }
   ],
   "source": [
    "# Attempting to install the C2 RansomwareScript\n",
    "ransomware_install_command = {\"commands\":[[\"software_manager\", \"application\", \"install\", \"ransomware-script\"]],\n",
    "                            \"username\": \"admin\",\n",
    "                            \"password\": \"admin\"}\n",
    "\n",
    "c2_server: C2Server = client_1.software_manager.software[\"c2-server\"]\n",
    "c2_server.send_command(C2Command.TERMINAL, command_options=ransomware_install_command)"
   ]
  },
  {
   "cell_type": "markdown",
   "metadata": {},
   "source": [
    "#### Shutting down the node infected with a C2 Beacon.\n",
    "\n",
    "Another way a blue agent can prevent the C2 suite is by shutting down the C2 beacon's host node. Whilst not as effective as the previous option, depending on the situation (such as multiple malicious applications) or other scenarios it may be more timestep efficient for a blue agent to shut down a node directly."
   ]
  },
  {
   "cell_type": "code",
   "execution_count": 45,
   "metadata": {
    "execution": {
     "iopub.execute_input": "2025-03-24T09:51:20.608602Z",
     "iopub.status.busy": "2025-03-24T09:51:20.608391Z",
     "iopub.status.idle": "2025-03-24T09:51:20.668738Z",
     "shell.execute_reply": "2025-03-24T09:51:20.668033Z"
    }
   },
   "outputs": [
    {
     "name": "stderr",
     "output_type": "stream",
     "text": [
      "2025-03-24 09:51:20,609: Resetting environment, episode 2, avg. reward: 0.0\n"
     ]
    },
    {
     "name": "stderr",
     "output_type": "stream",
     "text": [
      "2025-03-24 09:51:20,610: Saving agent action log to /home/runner/primaite/4.0.0/sessions/2025-03-24/09-51-16/agent_actions/episode_2.json\n"
     ]
    },
    {
     "data": {
      "text/plain": [
       "({'nodes': {'HOST0': {'APPLICATIONS': {1: {'operating_status': 0,\n",
       "      'health_status': 0,\n",
       "      'num_executions': 0},\n",
       "     2: {'operating_status': 0, 'health_status': 0, 'num_executions': 0}},\n",
       "    'FOLDERS': {1: {'health_status': 0,\n",
       "      'FILES': {1: {'health_status': 0, 'num_access': 0}}}},\n",
       "    'NICS': {1: {'nic_status': 1,\n",
       "      'TRAFFIC': {'icmp': {'inbound': 0, 'outbound': 0},\n",
       "       'tcp': {80: {'inbound': 0, 'outbound': 0},\n",
       "        53: {'inbound': 0, 'outbound': 0},\n",
       "        21: {'inbound': 0, 'outbound': 0}}}}},\n",
       "    'num_file_creations': 1,\n",
       "    'num_file_deletions': 0,\n",
       "    'users': {'local_login': 0, 'remote_sessions': 0},\n",
       "    'operating_status': 1},\n",
       "   'HOST1': {'APPLICATIONS': {1: {'operating_status': 0,\n",
       "      'health_status': 0,\n",
       "      'num_executions': 0},\n",
       "     2: {'operating_status': 0, 'health_status': 0, 'num_executions': 0}},\n",
       "    'FOLDERS': {1: {'health_status': 0,\n",
       "      'FILES': {1: {'health_status': 0, 'num_access': 0}}}},\n",
       "    'NICS': {1: {'nic_status': 1,\n",
       "      'TRAFFIC': {'icmp': {'inbound': 0, 'outbound': 0},\n",
       "       'tcp': {80: {'inbound': 0, 'outbound': 0},\n",
       "        53: {'inbound': 0, 'outbound': 0},\n",
       "        21: {'inbound': 0, 'outbound': 0}}}}},\n",
       "    'num_file_creations': 1,\n",
       "    'num_file_deletions': 0,\n",
       "    'users': {'local_login': 0, 'remote_sessions': 0},\n",
       "    'operating_status': 1},\n",
       "   'HOST2': {'APPLICATIONS': {1: {'operating_status': 0,\n",
       "      'health_status': 0,\n",
       "      'num_executions': 0},\n",
       "     2: {'operating_status': 0, 'health_status': 0, 'num_executions': 0}},\n",
       "    'FOLDERS': {1: {'health_status': 0,\n",
       "      'FILES': {1: {'health_status': 0, 'num_access': 0}}}},\n",
       "    'NICS': {1: {'nic_status': 1,\n",
       "      'TRAFFIC': {'icmp': {'inbound': 0, 'outbound': 0},\n",
       "       'tcp': {80: {'inbound': 0, 'outbound': 0},\n",
       "        53: {'inbound': 0, 'outbound': 0},\n",
       "        21: {'inbound': 0, 'outbound': 0}}}}},\n",
       "    'num_file_creations': 0,\n",
       "    'num_file_deletions': 0,\n",
       "    'users': {'local_login': 0, 'remote_sessions': 0},\n",
       "    'operating_status': 1},\n",
       "   'HOST3': {'APPLICATIONS': {1: {'operating_status': 0,\n",
       "      'health_status': 0,\n",
       "      'num_executions': 0},\n",
       "     2: {'operating_status': 0, 'health_status': 0, 'num_executions': 0}},\n",
       "    'FOLDERS': {1: {'health_status': 0,\n",
       "      'FILES': {1: {'health_status': 0, 'num_access': 0}}}},\n",
       "    'NICS': {1: {'nic_status': 1,\n",
       "      'TRAFFIC': {'icmp': {'inbound': 0, 'outbound': 0},\n",
       "       'tcp': {80: {'inbound': 0, 'outbound': 0},\n",
       "        53: {'inbound': 0, 'outbound': 0},\n",
       "        21: {'inbound': 0, 'outbound': 0}}}}},\n",
       "    'num_file_creations': 0,\n",
       "    'num_file_deletions': 0,\n",
       "    'users': {'local_login': 0, 'remote_sessions': 0},\n",
       "    'operating_status': 1},\n",
       "   'ROUTER0': {'ACL': {0: {'position': 0,\n",
       "      'permission': 0,\n",
       "      'source_ip_id': 0,\n",
       "      'source_wildcard_id': 0,\n",
       "      'source_port_id': 0,\n",
       "      'dest_ip_id': 0,\n",
       "      'dest_wildcard_id': 0,\n",
       "      'dest_port_id': 0,\n",
       "      'protocol_id': 0},\n",
       "     1: {'position': 1,\n",
       "      'permission': 0,\n",
       "      'source_ip_id': 0,\n",
       "      'source_wildcard_id': 0,\n",
       "      'source_port_id': 0,\n",
       "      'dest_ip_id': 0,\n",
       "      'dest_wildcard_id': 0,\n",
       "      'dest_port_id': 0,\n",
       "      'protocol_id': 0},\n",
       "     2: {'position': 2,\n",
       "      'permission': 0,\n",
       "      'source_ip_id': 0,\n",
       "      'source_wildcard_id': 0,\n",
       "      'source_port_id': 0,\n",
       "      'dest_ip_id': 0,\n",
       "      'dest_wildcard_id': 0,\n",
       "      'dest_port_id': 0,\n",
       "      'protocol_id': 0},\n",
       "     3: {'position': 3,\n",
       "      'permission': 0,\n",
       "      'source_ip_id': 0,\n",
       "      'source_wildcard_id': 0,\n",
       "      'source_port_id': 0,\n",
       "      'dest_ip_id': 0,\n",
       "      'dest_wildcard_id': 0,\n",
       "      'dest_port_id': 0,\n",
       "      'protocol_id': 0},\n",
       "     4: {'position': 4,\n",
       "      'permission': 0,\n",
       "      'source_ip_id': 0,\n",
       "      'source_wildcard_id': 0,\n",
       "      'source_port_id': 0,\n",
       "      'dest_ip_id': 0,\n",
       "      'dest_wildcard_id': 0,\n",
       "      'dest_port_id': 0,\n",
       "      'protocol_id': 0},\n",
       "     5: {'position': 5,\n",
       "      'permission': 0,\n",
       "      'source_ip_id': 0,\n",
       "      'source_wildcard_id': 0,\n",
       "      'source_port_id': 0,\n",
       "      'dest_ip_id': 0,\n",
       "      'dest_wildcard_id': 0,\n",
       "      'dest_port_id': 0,\n",
       "      'protocol_id': 0},\n",
       "     6: {'position': 6,\n",
       "      'permission': 0,\n",
       "      'source_ip_id': 0,\n",
       "      'source_wildcard_id': 0,\n",
       "      'source_port_id': 0,\n",
       "      'dest_ip_id': 0,\n",
       "      'dest_wildcard_id': 0,\n",
       "      'dest_port_id': 0,\n",
       "      'protocol_id': 0},\n",
       "     7: {'position': 7,\n",
       "      'permission': 0,\n",
       "      'source_ip_id': 0,\n",
       "      'source_wildcard_id': 0,\n",
       "      'source_port_id': 0,\n",
       "      'dest_ip_id': 0,\n",
       "      'dest_wildcard_id': 0,\n",
       "      'dest_port_id': 0,\n",
       "      'protocol_id': 0},\n",
       "     8: {'position': 8,\n",
       "      'permission': 0,\n",
       "      'source_ip_id': 0,\n",
       "      'source_wildcard_id': 0,\n",
       "      'source_port_id': 0,\n",
       "      'dest_ip_id': 0,\n",
       "      'dest_wildcard_id': 0,\n",
       "      'dest_port_id': 0,\n",
       "      'protocol_id': 0},\n",
       "     9: {'position': 9,\n",
       "      'permission': 0,\n",
       "      'source_ip_id': 0,\n",
       "      'source_wildcard_id': 0,\n",
       "      'source_port_id': 0,\n",
       "      'dest_ip_id': 0,\n",
       "      'dest_wildcard_id': 0,\n",
       "      'dest_port_id': 0,\n",
       "      'protocol_id': 0}},\n",
       "    'PORTS': {1: {'operating_status': 1},\n",
       "     2: {'operating_status': 1},\n",
       "     3: {'operating_status': 2}},\n",
       "    'users': {'local_login': 0, 'remote_sessions': 0}}},\n",
       "  'LINKS': {1: {'PROTOCOLS': {'ALL': 1}},\n",
       "   2: {'PROTOCOLS': {'ALL': 1}},\n",
       "   3: {'PROTOCOLS': {'ALL': 0}},\n",
       "   4: {'PROTOCOLS': {'ALL': 1}},\n",
       "   5: {'PROTOCOLS': {'ALL': 1}},\n",
       "   6: {'PROTOCOLS': {'ALL': 1}},\n",
       "   7: {'PROTOCOLS': {'ALL': 1}},\n",
       "   8: {'PROTOCOLS': {'ALL': 1}},\n",
       "   9: {'PROTOCOLS': {'ALL': 1}},\n",
       "   10: {'PROTOCOLS': {'ALL': 0}}},\n",
       "  'ICS': 0},\n",
       " {})"
      ]
     },
     "execution_count": 45,
     "metadata": {},
     "output_type": "execute_result"
    }
   ],
   "source": [
    "blue_env.reset()"
   ]
  },
  {
   "cell_type": "code",
   "execution_count": 46,
   "metadata": {
    "execution": {
     "iopub.execute_input": "2025-03-24T09:51:20.671660Z",
     "iopub.status.busy": "2025-03-24T09:51:20.671243Z",
     "iopub.status.idle": "2025-03-24T09:51:20.690248Z",
     "shell.execute_reply": "2025-03-24T09:51:20.689643Z"
    }
   },
   "outputs": [],
   "source": [
    "# Setting up the C2 Suite using the c2_setup method & capturing the OBS impacts\n",
    "\n",
    "blue_env, c2_server, c2_beacon, client_1, web_server = c2_setup(given_env=blue_env)\n",
    "pre_blue_action_obs, _, _, _, _ = blue_env.step(0)"
   ]
  },
  {
   "cell_type": "markdown",
   "metadata": {},
   "source": [
    "The code cell below uses the custom blue agent defined at the start of this section to perform a ``node_shut_down`` action on the web server.\n",
    "\n",
    "```yaml\n",
    "    action_space:\n",
    "      action_map:\n",
    "          2:\n",
    "            action: node-shutdown\n",
    "            options:\n",
    "              node_name: web_server\n",
    "```"
   ]
  },
  {
   "cell_type": "code",
   "execution_count": 47,
   "metadata": {
    "execution": {
     "iopub.execute_input": "2025-03-24T09:51:20.692838Z",
     "iopub.status.busy": "2025-03-24T09:51:20.692586Z",
     "iopub.status.idle": "2025-03-24T09:51:20.697818Z",
     "shell.execute_reply": "2025-03-24T09:51:20.697199Z"
    }
   },
   "outputs": [],
   "source": [
    "# Using CAOS ACTION: node_shut_down & capturing the OBS\n",
    "post_blue_action_obs, _, _, _, _ = blue_env.step(2)"
   ]
  },
  {
   "cell_type": "markdown",
   "metadata": {},
   "source": [
    "Which we can see the effects of after another timestep and looking at the web server's operating state & the OBS differences."
   ]
  },
  {
   "cell_type": "code",
   "execution_count": 48,
   "metadata": {
    "execution": {
     "iopub.execute_input": "2025-03-24T09:51:20.700507Z",
     "iopub.status.busy": "2025-03-24T09:51:20.700126Z",
     "iopub.status.idle": "2025-03-24T09:51:20.703579Z",
     "shell.execute_reply": "2025-03-24T09:51:20.702926Z"
    }
   },
   "outputs": [
    {
     "name": "stdout",
     "output_type": "stream",
     "text": [
      "NodeOperatingState.SHUTTING_DOWN\n"
     ]
    }
   ],
   "source": [
    "web_server = blue_env.game.simulation.network.get_node_by_hostname(\"web_server\")\n",
    "print(web_server.operating_state)"
   ]
  },
  {
   "cell_type": "code",
   "execution_count": 49,
   "metadata": {
    "execution": {
     "iopub.execute_input": "2025-03-24T09:51:20.706191Z",
     "iopub.status.busy": "2025-03-24T09:51:20.705789Z",
     "iopub.status.idle": "2025-03-24T09:51:20.902109Z",
     "shell.execute_reply": "2025-03-24T09:51:20.901313Z"
    }
   },
   "outputs": [
    {
     "name": "stdout",
     "output_type": "stream",
     "text": [
      "\n",
      "Observation space differences\n",
      "-----------------------------\n",
      "Step 2\n",
      "root['nodes']['HOST0']['operating_status']: 1 -> 4\n",
      "root['nodes']['HOST0']['APPLICATIONS'][1]['operating_status']: 1 -> 0\n",
      "root['nodes']['HOST0']['NICS'][1]['nic_status']: 1 -> 0\n",
      "root['nodes']['HOST1']['NICS'][1]['TRAFFIC']['tcp'][21]['inbound']: 1 -> 0\n",
      "root['nodes']['HOST1']['NICS'][1]['TRAFFIC']['tcp'][21]['outbound']: 4 -> 0\n",
      "root['LINKS'][1]['PROTOCOLS']['ALL']: 1 -> 0\n",
      "root['LINKS'][5]['PROTOCOLS']['ALL']: 4 -> 0\n",
      "root['LINKS'][6]['PROTOCOLS']['ALL']: 4 -> 0\n"
     ]
    }
   ],
   "source": [
    "display_obs_diffs(pre_blue_action_obs, post_blue_action_obs, blue_env.game.step_counter)"
   ]
  },
  {
   "cell_type": "code",
   "execution_count": 50,
   "metadata": {
    "execution": {
     "iopub.execute_input": "2025-03-24T09:51:20.905048Z",
     "iopub.status.busy": "2025-03-24T09:51:20.904615Z",
     "iopub.status.idle": "2025-03-24T09:51:20.910988Z",
     "shell.execute_reply": "2025-03-24T09:51:20.910293Z"
    }
   },
   "outputs": [
    {
     "data": {
      "text/plain": [
       "RequestResponse(status='failure', data={'Reason': 'Command sent to the C2 Beacon but no response was ever received.'})"
      ]
     },
     "execution_count": 50,
     "metadata": {},
     "output_type": "execute_result"
    }
   ],
   "source": [
    "# Attempting to install the C2 RansomwareScript\n",
    "ransomware_install_command = {\"commands\":[\"software_manager\", \"application\", \"install\", \"ransomware-script\"],\n",
    "                            \"username\": \"admin\",\n",
    "                            \"password\": \"admin\"}\n",
    "\n",
    "c2_server: C2Server = client_1.software_manager.software[\"c2-server\"]\n",
    "c2_server.send_command(C2Command.TERMINAL, command_options=ransomware_install_command)"
   ]
  },
  {
   "cell_type": "markdown",
   "metadata": {},
   "source": [
    "#### Blocking C2 Traffic via ACL.\n",
    "\n",
    "Another potential option a blue agent could take is by placing an ACL rule which blocks traffic between the C2 Server and C2 Beacon.\n",
    "\n",
    "It's worth noting the potential effectiveness of this approach is connected to the current green agent traffic on the network. For example, if there are multiple green agents using the C2 Beacon's host node then blocking all traffic would lead to a negative reward. The same applies for the previous example."
   ]
  },
  {
   "cell_type": "code",
   "execution_count": 51,
   "metadata": {
    "execution": {
     "iopub.execute_input": "2025-03-24T09:51:20.913690Z",
     "iopub.status.busy": "2025-03-24T09:51:20.913315Z",
     "iopub.status.idle": "2025-03-24T09:51:20.968800Z",
     "shell.execute_reply": "2025-03-24T09:51:20.968089Z"
    }
   },
   "outputs": [
    {
     "name": "stderr",
     "output_type": "stream",
     "text": [
      "2025-03-24 09:51:20,914: Resetting environment, episode 3, avg. reward: 0.0\n"
     ]
    },
    {
     "name": "stderr",
     "output_type": "stream",
     "text": [
      "2025-03-24 09:51:20,915: Saving agent action log to /home/runner/primaite/4.0.0/sessions/2025-03-24/09-51-16/agent_actions/episode_3.json\n"
     ]
    },
    {
     "data": {
      "text/plain": [
       "({'nodes': {'HOST0': {'APPLICATIONS': {1: {'operating_status': 0,\n",
       "      'health_status': 0,\n",
       "      'num_executions': 0},\n",
       "     2: {'operating_status': 0, 'health_status': 0, 'num_executions': 0}},\n",
       "    'FOLDERS': {1: {'health_status': 0,\n",
       "      'FILES': {1: {'health_status': 0, 'num_access': 0}}}},\n",
       "    'NICS': {1: {'nic_status': 1,\n",
       "      'TRAFFIC': {'icmp': {'inbound': 0, 'outbound': 0},\n",
       "       'tcp': {80: {'inbound': 0, 'outbound': 0},\n",
       "        53: {'inbound': 0, 'outbound': 0},\n",
       "        21: {'inbound': 0, 'outbound': 0}}}}},\n",
       "    'num_file_creations': 1,\n",
       "    'num_file_deletions': 0,\n",
       "    'users': {'local_login': 0, 'remote_sessions': 0},\n",
       "    'operating_status': 1},\n",
       "   'HOST1': {'APPLICATIONS': {1: {'operating_status': 0,\n",
       "      'health_status': 0,\n",
       "      'num_executions': 0},\n",
       "     2: {'operating_status': 0, 'health_status': 0, 'num_executions': 0}},\n",
       "    'FOLDERS': {1: {'health_status': 0,\n",
       "      'FILES': {1: {'health_status': 0, 'num_access': 0}}}},\n",
       "    'NICS': {1: {'nic_status': 1,\n",
       "      'TRAFFIC': {'icmp': {'inbound': 0, 'outbound': 0},\n",
       "       'tcp': {80: {'inbound': 0, 'outbound': 0},\n",
       "        53: {'inbound': 0, 'outbound': 0},\n",
       "        21: {'inbound': 0, 'outbound': 0}}}}},\n",
       "    'num_file_creations': 1,\n",
       "    'num_file_deletions': 0,\n",
       "    'users': {'local_login': 0, 'remote_sessions': 0},\n",
       "    'operating_status': 1},\n",
       "   'HOST2': {'APPLICATIONS': {1: {'operating_status': 0,\n",
       "      'health_status': 0,\n",
       "      'num_executions': 0},\n",
       "     2: {'operating_status': 0, 'health_status': 0, 'num_executions': 0}},\n",
       "    'FOLDERS': {1: {'health_status': 0,\n",
       "      'FILES': {1: {'health_status': 0, 'num_access': 0}}}},\n",
       "    'NICS': {1: {'nic_status': 1,\n",
       "      'TRAFFIC': {'icmp': {'inbound': 0, 'outbound': 0},\n",
       "       'tcp': {80: {'inbound': 0, 'outbound': 0},\n",
       "        53: {'inbound': 0, 'outbound': 0},\n",
       "        21: {'inbound': 0, 'outbound': 0}}}}},\n",
       "    'num_file_creations': 0,\n",
       "    'num_file_deletions': 0,\n",
       "    'users': {'local_login': 0, 'remote_sessions': 0},\n",
       "    'operating_status': 1},\n",
       "   'HOST3': {'APPLICATIONS': {1: {'operating_status': 0,\n",
       "      'health_status': 0,\n",
       "      'num_executions': 0},\n",
       "     2: {'operating_status': 0, 'health_status': 0, 'num_executions': 0}},\n",
       "    'FOLDERS': {1: {'health_status': 0,\n",
       "      'FILES': {1: {'health_status': 0, 'num_access': 0}}}},\n",
       "    'NICS': {1: {'nic_status': 1,\n",
       "      'TRAFFIC': {'icmp': {'inbound': 0, 'outbound': 0},\n",
       "       'tcp': {80: {'inbound': 0, 'outbound': 0},\n",
       "        53: {'inbound': 0, 'outbound': 0},\n",
       "        21: {'inbound': 0, 'outbound': 0}}}}},\n",
       "    'num_file_creations': 0,\n",
       "    'num_file_deletions': 0,\n",
       "    'users': {'local_login': 0, 'remote_sessions': 0},\n",
       "    'operating_status': 1},\n",
       "   'ROUTER0': {'ACL': {0: {'position': 0,\n",
       "      'permission': 0,\n",
       "      'source_ip_id': 0,\n",
       "      'source_wildcard_id': 0,\n",
       "      'source_port_id': 0,\n",
       "      'dest_ip_id': 0,\n",
       "      'dest_wildcard_id': 0,\n",
       "      'dest_port_id': 0,\n",
       "      'protocol_id': 0},\n",
       "     1: {'position': 1,\n",
       "      'permission': 0,\n",
       "      'source_ip_id': 0,\n",
       "      'source_wildcard_id': 0,\n",
       "      'source_port_id': 0,\n",
       "      'dest_ip_id': 0,\n",
       "      'dest_wildcard_id': 0,\n",
       "      'dest_port_id': 0,\n",
       "      'protocol_id': 0},\n",
       "     2: {'position': 2,\n",
       "      'permission': 0,\n",
       "      'source_ip_id': 0,\n",
       "      'source_wildcard_id': 0,\n",
       "      'source_port_id': 0,\n",
       "      'dest_ip_id': 0,\n",
       "      'dest_wildcard_id': 0,\n",
       "      'dest_port_id': 0,\n",
       "      'protocol_id': 0},\n",
       "     3: {'position': 3,\n",
       "      'permission': 0,\n",
       "      'source_ip_id': 0,\n",
       "      'source_wildcard_id': 0,\n",
       "      'source_port_id': 0,\n",
       "      'dest_ip_id': 0,\n",
       "      'dest_wildcard_id': 0,\n",
       "      'dest_port_id': 0,\n",
       "      'protocol_id': 0},\n",
       "     4: {'position': 4,\n",
       "      'permission': 0,\n",
       "      'source_ip_id': 0,\n",
       "      'source_wildcard_id': 0,\n",
       "      'source_port_id': 0,\n",
       "      'dest_ip_id': 0,\n",
       "      'dest_wildcard_id': 0,\n",
       "      'dest_port_id': 0,\n",
       "      'protocol_id': 0},\n",
       "     5: {'position': 5,\n",
       "      'permission': 0,\n",
       "      'source_ip_id': 0,\n",
       "      'source_wildcard_id': 0,\n",
       "      'source_port_id': 0,\n",
       "      'dest_ip_id': 0,\n",
       "      'dest_wildcard_id': 0,\n",
       "      'dest_port_id': 0,\n",
       "      'protocol_id': 0},\n",
       "     6: {'position': 6,\n",
       "      'permission': 0,\n",
       "      'source_ip_id': 0,\n",
       "      'source_wildcard_id': 0,\n",
       "      'source_port_id': 0,\n",
       "      'dest_ip_id': 0,\n",
       "      'dest_wildcard_id': 0,\n",
       "      'dest_port_id': 0,\n",
       "      'protocol_id': 0},\n",
       "     7: {'position': 7,\n",
       "      'permission': 0,\n",
       "      'source_ip_id': 0,\n",
       "      'source_wildcard_id': 0,\n",
       "      'source_port_id': 0,\n",
       "      'dest_ip_id': 0,\n",
       "      'dest_wildcard_id': 0,\n",
       "      'dest_port_id': 0,\n",
       "      'protocol_id': 0},\n",
       "     8: {'position': 8,\n",
       "      'permission': 0,\n",
       "      'source_ip_id': 0,\n",
       "      'source_wildcard_id': 0,\n",
       "      'source_port_id': 0,\n",
       "      'dest_ip_id': 0,\n",
       "      'dest_wildcard_id': 0,\n",
       "      'dest_port_id': 0,\n",
       "      'protocol_id': 0},\n",
       "     9: {'position': 9,\n",
       "      'permission': 0,\n",
       "      'source_ip_id': 0,\n",
       "      'source_wildcard_id': 0,\n",
       "      'source_port_id': 0,\n",
       "      'dest_ip_id': 0,\n",
       "      'dest_wildcard_id': 0,\n",
       "      'dest_port_id': 0,\n",
       "      'protocol_id': 0}},\n",
       "    'PORTS': {1: {'operating_status': 1},\n",
       "     2: {'operating_status': 1},\n",
       "     3: {'operating_status': 2}},\n",
       "    'users': {'local_login': 0, 'remote_sessions': 0}}},\n",
       "  'LINKS': {1: {'PROTOCOLS': {'ALL': 1}},\n",
       "   2: {'PROTOCOLS': {'ALL': 1}},\n",
       "   3: {'PROTOCOLS': {'ALL': 0}},\n",
       "   4: {'PROTOCOLS': {'ALL': 1}},\n",
       "   5: {'PROTOCOLS': {'ALL': 1}},\n",
       "   6: {'PROTOCOLS': {'ALL': 1}},\n",
       "   7: {'PROTOCOLS': {'ALL': 1}},\n",
       "   8: {'PROTOCOLS': {'ALL': 1}},\n",
       "   9: {'PROTOCOLS': {'ALL': 1}},\n",
       "   10: {'PROTOCOLS': {'ALL': 0}}},\n",
       "  'ICS': 0},\n",
       " {})"
      ]
     },
     "execution_count": 51,
     "metadata": {},
     "output_type": "execute_result"
    }
   ],
   "source": [
    "blue_env.reset()"
   ]
  },
  {
   "cell_type": "code",
   "execution_count": 52,
   "metadata": {
    "execution": {
     "iopub.execute_input": "2025-03-24T09:51:20.971685Z",
     "iopub.status.busy": "2025-03-24T09:51:20.971352Z",
     "iopub.status.idle": "2025-03-24T09:51:20.989137Z",
     "shell.execute_reply": "2025-03-24T09:51:20.988526Z"
    }
   },
   "outputs": [],
   "source": [
    "# Setting up the C2 Suite using the c2_setup method & capturing the OBS impacts\n",
    "\n",
    "blue_env, c2_server, c2_beacon, client_1, web_server = c2_setup(given_env=blue_env)\n",
    "pre_blue_action_obs, _, _, _, _ = blue_env.step(0)"
   ]
  },
  {
   "cell_type": "markdown",
   "metadata": {},
   "source": [
    "The code cell below uses the custom blue agent defined at the start of this section to perform a `router_acl_add_rule` on router 1.\n",
    "\n",
    "\n",
    "```yaml\n",
    "\n",
    "    action_space:\n",
    "      action_map:\n",
    "          3:\n",
    "            action: router-acl-add-rule\n",
    "            options:\n",
    "              target_router: router_1\n",
    "              position: 1\n",
    "              permission: DENY\n",
    "              src_ip: 192.168.10.21\n",
    "              dst_ip: 192.168.1.12\n",
    "              src_port: HTTP\n",
    "              dst_port: HTTP\n",
    "              protocol_name: ALL\n",
    "              src_wildcard: 0.0.0.1\n",
    "              dst_wildcard: 0.0.0.1\n",
    "```"
   ]
  },
  {
   "cell_type": "code",
   "execution_count": 53,
   "metadata": {
    "execution": {
     "iopub.execute_input": "2025-03-24T09:51:20.991678Z",
     "iopub.status.busy": "2025-03-24T09:51:20.991468Z",
     "iopub.status.idle": "2025-03-24T09:51:20.996816Z",
     "shell.execute_reply": "2025-03-24T09:51:20.996282Z"
    }
   },
   "outputs": [],
   "source": [
    "# Using CAOS ACTION: router_acl_add_rule & capturing the OBS\n",
    "post_blue_action_obs, _, _, _, _ = blue_env.step(3)"
   ]
  },
  {
   "cell_type": "markdown",
   "metadata": {},
   "source": [
    "Which we can see the effects of after another timestep and looking at router 1's ACLs and the OBS differences."
   ]
  },
  {
   "cell_type": "code",
   "execution_count": 54,
   "metadata": {
    "execution": {
     "iopub.execute_input": "2025-03-24T09:51:20.999511Z",
     "iopub.status.busy": "2025-03-24T09:51:20.999127Z",
     "iopub.status.idle": "2025-03-24T09:51:21.003737Z",
     "shell.execute_reply": "2025-03-24T09:51:21.003094Z"
    }
   },
   "outputs": [
    {
     "name": "stdout",
     "output_type": "stream",
     "text": [
      "+------------------------------------------------------------------------------------------------------------------------+\n",
      "|                                              router_1 Access Control List                                              |\n",
      "+-------+--------+----------+---------------+--------------+----------+--------------+--------------+----------+---------+\n",
      "| Index | Action | Protocol | Src IP        | Src Wildcard | Src Port | Dst IP       | Dst Wildcard | Dst Port | Matched |\n",
      "+-------+--------+----------+---------------+--------------+----------+--------------+--------------+----------+---------+\n",
      "| 1     | DENY   | ANY      | 192.168.10.21 | 0.0.0.1      | 80       | 192.168.1.12 | 0.0.0.1      | 80       | 0       |\n",
      "| 18    | PERMIT | ANY      | ANY           | ANY          | 5432     | ANY          | ANY          | 5432     | 0       |\n",
      "| 19    | PERMIT | ANY      | ANY           | ANY          | 53       | ANY          | ANY          | 53       | 0       |\n",
      "| 20    | PERMIT | ANY      | ANY           | ANY          | 21       | ANY          | ANY          | 21       | 0       |\n",
      "| 21    | PERMIT | ANY      | ANY           | ANY          | 80       | ANY          | ANY          | 80       | 4       |\n",
      "| 22    | PERMIT | ANY      | ANY           | ANY          | 219      | ANY          | ANY          | 219      | 0       |\n",
      "| 23    | PERMIT | icmp     | ANY           | ANY          | ANY      | ANY          | ANY          | ANY      | 0       |\n",
      "| 24    | DENY   | ANY      | ANY           | ANY          | ANY      | ANY          | ANY          | ANY      | 0       |\n",
      "+-------+--------+----------+---------------+--------------+----------+--------------+--------------+----------+---------+\n"
     ]
    }
   ],
   "source": [
    "router_1: Router = blue_env.game.simulation.network.get_node_by_hostname(\"router_1\")\n",
    "router_1.acl.show()"
   ]
  },
  {
   "cell_type": "markdown",
   "metadata": {},
   "source": [
    "Now we can see that the C2 applications are unable to maintain connection - thus being unable to execute correctly."
   ]
  },
  {
   "cell_type": "code",
   "execution_count": 55,
   "metadata": {
    "execution": {
     "iopub.execute_input": "2025-03-24T09:51:21.006561Z",
     "iopub.status.busy": "2025-03-24T09:51:21.006181Z",
     "iopub.status.idle": "2025-03-24T09:51:21.014242Z",
     "shell.execute_reply": "2025-03-24T09:51:21.013584Z"
    }
   },
   "outputs": [
    {
     "data": {
      "text/plain": [
       "RequestResponse(status='failure', data={'Reason': 'Command sent to the C2 Beacon but no response was ever received.'})"
      ]
     },
     "execution_count": 55,
     "metadata": {},
     "output_type": "execute_result"
    }
   ],
   "source": [
    "blue_env.step(0)\n",
    "\n",
    "# Attempting to install and execute the ransomware script\n",
    "c2_server.send_command(C2Command.TERMINAL, command_options=ransomware_install_command)\n",
    "c2_server.send_command(C2Command.RANSOMWARE_LAUNCH, command_options={})"
   ]
  },
  {
   "cell_type": "code",
   "execution_count": 56,
   "metadata": {
    "execution": {
     "iopub.execute_input": "2025-03-24T09:51:21.016804Z",
     "iopub.status.busy": "2025-03-24T09:51:21.016424Z",
     "iopub.status.idle": "2025-03-24T09:51:21.020989Z",
     "shell.execute_reply": "2025-03-24T09:51:21.020350Z"
    }
   },
   "outputs": [
    {
     "name": "stdout",
     "output_type": "stream",
     "text": [
      "+------------------------------------------------------------------------------------------------------------------------+\n",
      "|                                              router_1 Access Control List                                              |\n",
      "+-------+--------+----------+---------------+--------------+----------+--------------+--------------+----------+---------+\n",
      "| Index | Action | Protocol | Src IP        | Src Wildcard | Src Port | Dst IP       | Dst Wildcard | Dst Port | Matched |\n",
      "+-------+--------+----------+---------------+--------------+----------+--------------+--------------+----------+---------+\n",
      "| 1     | DENY   | ANY      | 192.168.10.21 | 0.0.0.1      | 80       | 192.168.1.12 | 0.0.0.1      | 80       | 2       |\n",
      "| 18    | PERMIT | ANY      | ANY           | ANY          | 5432     | ANY          | ANY          | 5432     | 0       |\n",
      "| 19    | PERMIT | ANY      | ANY           | ANY          | 53       | ANY          | ANY          | 53       | 0       |\n",
      "| 20    | PERMIT | ANY      | ANY           | ANY          | 21       | ANY          | ANY          | 21       | 0       |\n",
      "| 21    | PERMIT | ANY      | ANY           | ANY          | 80       | ANY          | ANY          | 80       | 4       |\n",
      "| 22    | PERMIT | ANY      | ANY           | ANY          | 219      | ANY          | ANY          | 219      | 0       |\n",
      "| 23    | PERMIT | icmp     | ANY           | ANY          | ANY      | ANY          | ANY          | ANY      | 0       |\n",
      "| 24    | DENY   | ANY      | ANY           | ANY          | ANY      | ANY          | ANY          | ANY      | 0       |\n",
      "+-------+--------+----------+---------------+--------------+----------+--------------+--------------+----------+---------+\n"
     ]
    }
   ],
   "source": [
    "router_1.acl.show()"
   ]
  },
  {
   "cell_type": "markdown",
   "metadata": {},
   "source": [
    "Because of the ACL rule the C2 beacon never receives the ransomware installation and execute commands from the C2 server:"
   ]
  },
  {
   "cell_type": "code",
   "execution_count": 57,
   "metadata": {
    "execution": {
     "iopub.execute_input": "2025-03-24T09:51:21.023689Z",
     "iopub.status.busy": "2025-03-24T09:51:21.023321Z",
     "iopub.status.idle": "2025-03-24T09:51:21.027994Z",
     "shell.execute_reply": "2025-03-24T09:51:21.027334Z"
    }
   },
   "outputs": [
    {
     "name": "stdout",
     "output_type": "stream",
     "text": [
      "+---------------------------------------------------------------------------------------+\n",
      "|                              web_server Software Manager                              |\n",
      "+----------------------+-------------+-----------------+--------------+------+----------+\n",
      "| Name                 | Type        | Operating State | Health State | Port | Protocol |\n",
      "+----------------------+-------------+-----------------+--------------+------+----------+\n",
      "| arp                  | Service     | RUNNING         | GOOD         | 219  | udp      |\n",
      "| icmp                 | Service     | RUNNING         | GOOD         | None | icmp     |\n",
      "| dns-client           | Service     | RUNNING         | GOOD         | 53   | tcp      |\n",
      "| ntp-client           | Service     | RUNNING         | GOOD         | 123  | udp      |\n",
      "| web-browser          | Application | RUNNING         | GOOD         | 80   | tcp      |\n",
      "| nmap                 | Application | RUNNING         | GOOD         | None | none     |\n",
      "| user-session-manager | Service     | RUNNING         | GOOD         | None | none     |\n",
      "| user-manager         | Service     | RUNNING         | GOOD         | None | none     |\n",
      "| terminal             | Service     | RUNNING         | GOOD         | 22   | tcp      |\n",
      "| web-server           | Service     | RUNNING         | GOOD         | 80   | tcp      |\n",
      "| database-client      | Application | RUNNING         | GOOD         | 5432 | tcp      |\n",
      "| c2-beacon            | Application | RUNNING         | GOOD         | None | tcp      |\n",
      "+----------------------+-------------+-----------------+--------------+------+----------+\n"
     ]
    }
   ],
   "source": [
    "web_server.software_manager.show()"
   ]
  },
  {
   "cell_type": "code",
   "execution_count": 58,
   "metadata": {
    "execution": {
     "iopub.execute_input": "2025-03-24T09:51:21.030510Z",
     "iopub.status.busy": "2025-03-24T09:51:21.030138Z",
     "iopub.status.idle": "2025-03-24T09:51:21.034118Z",
     "shell.execute_reply": "2025-03-24T09:51:21.033430Z"
    }
   },
   "outputs": [
    {
     "name": "stdout",
     "output_type": "stream",
     "text": [
      "+----------------------------------------------------------------------------------+\n",
      "|                           database_server File System                            |\n",
      "+----------------------+---------+---------------+-----------------------+---------+\n",
      "| File Path            | Size    | Health status | Visible health status | Deleted |\n",
      "+----------------------+---------+---------------+-----------------------+---------+\n",
      "| database/database.db | 4.77 MB | GOOD          | NONE                  | False   |\n",
      "| root                 | 0 B     | GOOD          | NONE                  | False   |\n",
      "+----------------------+---------+---------------+-----------------------+---------+\n"
     ]
    }
   ],
   "source": [
    "database_server: Server = blue_env.game.simulation.network.get_node_by_hostname(\"database_server\")\n",
    "database_server.software_manager.file_system.show(full=True)"
   ]
  },
  {
   "cell_type": "code",
   "execution_count": 59,
   "metadata": {
    "execution": {
     "iopub.execute_input": "2025-03-24T09:51:21.036821Z",
     "iopub.status.busy": "2025-03-24T09:51:21.036630Z",
     "iopub.status.idle": "2025-03-24T09:51:21.055141Z",
     "shell.execute_reply": "2025-03-24T09:51:21.054474Z"
    }
   },
   "outputs": [
    {
     "name": "stdout",
     "output_type": "stream",
     "text": [
      "\n",
      "Observation space differences\n",
      "-----------------------------\n",
      "Step 3\n",
      "root['nodes']['HOST1']['NICS'][1]['TRAFFIC']['tcp'][21]['inbound']: 1 -> 0\n",
      "root['nodes']['HOST1']['NICS'][1]['TRAFFIC']['tcp'][21]['outbound']: 4 -> 0\n",
      "root['nodes']['ROUTER0']['ACL'][1]['permission']: 0 -> 2\n",
      "root['nodes']['ROUTER0']['ACL'][1]['source_ip_id']: 0 -> 7\n",
      "root['nodes']['ROUTER0']['ACL'][1]['source_wildcard_id']: 0 -> 2\n",
      "root['nodes']['ROUTER0']['ACL'][1]['source_port_id']: 0 -> 2\n",
      "root['nodes']['ROUTER0']['ACL'][1]['dest_ip_id']: 0 -> 3\n",
      "root['nodes']['ROUTER0']['ACL'][1]['dest_wildcard_id']: 0 -> 2\n",
      "root['nodes']['ROUTER0']['ACL'][1]['dest_port_id']: 0 -> 2\n",
      "root['nodes']['ROUTER0']['ACL'][1]['protocol_id']: 0 -> 1\n",
      "root['LINKS'][1]['PROTOCOLS']['ALL']: 1 -> 0\n",
      "root['LINKS'][5]['PROTOCOLS']['ALL']: 4 -> 0\n",
      "root['LINKS'][6]['PROTOCOLS']['ALL']: 4 -> 0\n"
     ]
    }
   ],
   "source": [
    "display_obs_diffs(pre_blue_action_obs, post_blue_action_obs, blue_env.game.step_counter)"
   ]
  },
  {
   "cell_type": "markdown",
   "metadata": {},
   "source": [
    "## **Command and Control** | Configurability \n",
    "\n",
    "This section of the notebook demonstrates the C2 configuration options and their impact on the simulation layer and the game layer."
   ]
  },
  {
   "cell_type": "markdown",
   "metadata": {},
   "source": [
    "The table below is the currently offered C2 Beacon configuration options:\n",
    "\n",
    "|Configuration Option | Option Meaning                                                            |Default Option | Type    | _Optional_ |\n",
    "|---------------------|---------------------------------------------------------------------------|---------------|---------|------------|\n",
    "|c2_server_ip_address | The IP Address of the C2 Server. (The C2 Server must be running)          |_None_         |str (IP) | _No_       |\n",
    "|keep_alive_frequency | How often should the C2 Beacon confirm it's connection in timesteps.      |5              |Int      | _Yes_      |\n",
    "|masquerade_port      | What port should the C2 traffic use? (TCP or UDP)                         |TCP            |Str      | _Yes_      |\n",
    "|masquerade_protocol  | What protocol should the C2 traffic masquerade as? (HTTP, FTP or DNS)     |HTTP           |Str      | _Yes_      |\n",
    "\n",
    "The C2 Server currently does not offer any unique configuration options. The C2 Server aligns itself with the C2 Beacon's configuration options once connection is established."
   ]
  },
  {
   "cell_type": "markdown",
   "metadata": {},
   "source": [
    "As demonstrated earlier, red agents can use the ``configure-c2-beacon`` action to configure these settings mid episode through the configuration options:\n",
    "\n",
    "```YAML\n",
    "\n",
    "    action_space:\n",
    "      action_map:\n",
    "        8:\n",
    "          action: configure-c2-beacon\n",
    "          options:\n",
    "            node_name: web_server\n",
    "            c2_server_ip_address: 192.168.10.21\n",
    "            keep_alive_frequency: 10\n",
    "            masquerade_protocol: tcp\n",
    "            masquerade_port: dns\n",
    "```"
   ]
  },
  {
   "cell_type": "markdown",
   "metadata": {},
   "source": [
    "### **Command and Control** | Configurability | `c2_server_ip_address`\n",
    "\n",
    "As with a majority of client and server based application configurations in primaite, the remote IP of a server must be supplied.\n",
    "\n",
    "In the case of the C2 Beacon, the C2 Server's IP address must be supplied before the C2 beacon will be able to perform any other actions.\n",
    "\n",
    "If the network contains multiple C2 Servers then it's also possible to switch to a different C2 server mid-episode which is demonstrated in the below code cells."
   ]
  },
  {
   "cell_type": "code",
   "execution_count": 60,
   "metadata": {
    "execution": {
     "iopub.execute_input": "2025-03-24T09:51:21.058313Z",
     "iopub.status.busy": "2025-03-24T09:51:21.057877Z",
     "iopub.status.idle": "2025-03-24T09:51:21.169535Z",
     "shell.execute_reply": "2025-03-24T09:51:21.168950Z"
    }
   },
   "outputs": [
    {
     "name": "stderr",
     "output_type": "stream",
     "text": [
      "2025-03-24 09:51:21,166: PrimaiteGymEnv RNG seed = None\n"
     ]
    }
   ],
   "source": [
    "with open(data_manipulation_config_path()) as f:\n",
    "    cfg = yaml.safe_load(f)\n",
    "    # removing all agents & adding the custom agent.\n",
    "    cfg['agents'] = {}\n",
    "    cfg['agents'] = c2_agent_yaml\n",
    "\n",
    "\n",
    "c2_config_env = PrimaiteGymEnv(env_config=cfg)"
   ]
  },
  {
   "cell_type": "markdown",
   "metadata": {},
   "source": [
    "Installing the C2 Server on both client 1 and client 2."
   ]
  },
  {
   "cell_type": "code",
   "execution_count": 61,
   "metadata": {
    "execution": {
     "iopub.execute_input": "2025-03-24T09:51:21.172519Z",
     "iopub.status.busy": "2025-03-24T09:51:21.172118Z",
     "iopub.status.idle": "2025-03-24T09:51:21.177320Z",
     "shell.execute_reply": "2025-03-24T09:51:21.176722Z"
    }
   },
   "outputs": [],
   "source": [
    "web_server: Server = c2_config_env.game.simulation.network.get_node_by_hostname(\"web_server\")\n",
    "web_server.software_manager.install(C2Beacon)\n",
    "c2_beacon: C2Beacon = web_server.software_manager.software[\"c2-beacon\"]\n",
    "\n",
    "client_1: Computer = c2_config_env.game.simulation.network.get_node_by_hostname(\"client_1\")\n",
    "client_1.software_manager.install(C2Server)\n",
    "c2_server_1: C2Server = client_1.software_manager.software[\"c2-server\"]\n",
    "c2_server_1.run()\n",
    "\n",
    "client_2: Computer = c2_config_env.game.simulation.network.get_node_by_hostname(\"client_2\")\n",
    "client_2.software_manager.install(C2Server)\n",
    "c2_server_2: C2Server = client_2.software_manager.software[\"c2-server\"]\n",
    "c2_server_2.run()"
   ]
  },
  {
   "cell_type": "markdown",
   "metadata": {},
   "source": [
    "Configuring the C2 Beacon to establish connection to the C2 Server on **client_1** (*192.168.10.21)*"
   ]
  },
  {
   "cell_type": "code",
   "execution_count": 62,
   "metadata": {
    "execution": {
     "iopub.execute_input": "2025-03-24T09:51:21.180283Z",
     "iopub.status.busy": "2025-03-24T09:51:21.179508Z",
     "iopub.status.idle": "2025-03-24T09:51:21.196736Z",
     "shell.execute_reply": "2025-03-24T09:51:21.196126Z"
    }
   },
   "outputs": [
    {
     "name": "stdout",
     "output_type": "stream",
     "text": [
      "+----------------------------------------------------------------------------------------------------------------------------------------------------+\n",
      "|                                                              c2-beacon Running Status                                                              |\n",
      "+----------------------+----------------------+-----------------------+----------------------+-----------------------------+-------------------------+\n",
      "| C2 Connection Active | C2 Remote Connection | Keep Alive Inactivity | Keep Alive Frequency | Current Masquerade Protocol | Current Masquerade Port |\n",
      "+----------------------+----------------------+-----------------------+----------------------+-----------------------------+-------------------------+\n",
      "| False                | None                 | 0                     | 5                    | tcp                         | 80                      |\n",
      "+----------------------+----------------------+-----------------------+----------------------+-----------------------------+-------------------------+\n",
      "+-----------------------------------------------------------------------------------------------------+\n",
      "|                                       c2-server Running Status                                      |\n",
      "+----------------------+----------------------+-----------------------------+-------------------------+\n",
      "| C2 Connection Active | C2 Remote Connection | Current Masquerade Protocol | Current Masquerade Port |\n",
      "+----------------------+----------------------+-----------------------------+-------------------------+\n",
      "| False                | None                 | tcp                         | 80                      |\n",
      "+----------------------+----------------------+-----------------------------+-------------------------+\n"
     ]
    }
   ],
   "source": [
    "env.step(2) # Agent Action Equivalent to c2_beacon.configure(c2_server_ip_address=\"192.168.10.21\")\n",
    "env.step(3) # Agent action Equivalent to c2_beacon.establish()\n",
    "c2_beacon.show()\n",
    "c2_server_1.show()"
   ]
  },
  {
   "cell_type": "markdown",
   "metadata": {},
   "source": [
    "Now reconfiguring the C2 Beacon to establish connection to the C2 Server on **client_2** (*192.168.10.22*)"
   ]
  },
  {
   "cell_type": "code",
   "execution_count": 63,
   "metadata": {
    "execution": {
     "iopub.execute_input": "2025-03-24T09:51:21.199643Z",
     "iopub.status.busy": "2025-03-24T09:51:21.199241Z",
     "iopub.status.idle": "2025-03-24T09:51:21.212582Z",
     "shell.execute_reply": "2025-03-24T09:51:21.212031Z"
    }
   },
   "outputs": [
    {
     "name": "stdout",
     "output_type": "stream",
     "text": [
      "+----------------------------------------------------------------------------------------------------------------------------------------------------+\n",
      "|                                                              c2-beacon Running Status                                                              |\n",
      "+----------------------+----------------------+-----------------------+----------------------+-----------------------------+-------------------------+\n",
      "| C2 Connection Active | C2 Remote Connection | Keep Alive Inactivity | Keep Alive Frequency | Current Masquerade Protocol | Current Masquerade Port |\n",
      "+----------------------+----------------------+-----------------------+----------------------+-----------------------------+-------------------------+\n",
      "| False                | None                 | 0                     | 5                    | tcp                         | 80                      |\n",
      "+----------------------+----------------------+-----------------------+----------------------+-----------------------------+-------------------------+\n",
      "+-----------------------------------------------------------------------------------------------------+\n",
      "|                                       c2-server Running Status                                      |\n",
      "+----------------------+----------------------+-----------------------------+-------------------------+\n",
      "| C2 Connection Active | C2 Remote Connection | Current Masquerade Protocol | Current Masquerade Port |\n",
      "+----------------------+----------------------+-----------------------------+-------------------------+\n",
      "| False                | None                 | tcp                         | 80                      |\n",
      "+----------------------+----------------------+-----------------------------+-------------------------+\n"
     ]
    }
   ],
   "source": [
    "env.step(9) # Equivalent of to c2_beacon.configure(c2_server_ip_address=\"192.168.10.22\")\n",
    "env.step(3)\n",
    "\n",
    "c2_beacon.show()\n",
    "c2_server_2.show()"
   ]
  },
  {
   "cell_type": "markdown",
   "metadata": {},
   "source": [
    "After six timesteps the client_1 server will recognise the C2 beacon's previous connection as dead and clear its connections. (This is dependent on the ``keep_alive_frequency`` setting.)"
   ]
  },
  {
   "cell_type": "code",
   "execution_count": 64,
   "metadata": {
    "execution": {
     "iopub.execute_input": "2025-03-24T09:51:21.215337Z",
     "iopub.status.busy": "2025-03-24T09:51:21.214953Z",
     "iopub.status.idle": "2025-03-24T09:51:21.234048Z",
     "shell.execute_reply": "2025-03-24T09:51:21.233394Z"
    }
   },
   "outputs": [
    {
     "name": "stdout",
     "output_type": "stream",
     "text": [
      "+-----------------------------------------------------------------------------------------------------+\n",
      "|                                       c2-server Running Status                                      |\n",
      "+----------------------+----------------------+-----------------------------+-------------------------+\n",
      "| C2 Connection Active | C2 Remote Connection | Current Masquerade Protocol | Current Masquerade Port |\n",
      "+----------------------+----------------------+-----------------------------+-------------------------+\n",
      "| False                | None                 | tcp                         | 80                      |\n",
      "+----------------------+----------------------+-----------------------------+-------------------------+\n"
     ]
    }
   ],
   "source": [
    "for i in range(6):\n",
    "    env.step(0)\n",
    "\n",
    "c2_server_1.show()"
   ]
  },
  {
   "cell_type": "markdown",
   "metadata": {},
   "source": [
    "### **Command and Control** | Configurability | `keep_alive_frequency`\n",
    "\n",
    "In order to confirm it's connection the C2 Beacon will send out a keep alive packet to the C2 Server and expects a keep alive sent back. \n",
    "\n",
    "By default, this occurs every 5 timesteps. However, this setting can be configured to be much more infrequent or as frequent as every timestep. \n",
    "\n",
    "The next set of code cells below demonstrate the impact that this setting has on blue agent observation space."
   ]
  },
  {
   "cell_type": "code",
   "execution_count": 65,
   "metadata": {
    "execution": {
     "iopub.execute_input": "2025-03-24T09:51:21.236567Z",
     "iopub.status.busy": "2025-03-24T09:51:21.236366Z",
     "iopub.status.idle": "2025-03-24T09:51:21.349339Z",
     "shell.execute_reply": "2025-03-24T09:51:21.348620Z"
    }
   },
   "outputs": [
    {
     "name": "stderr",
     "output_type": "stream",
     "text": [
      "2025-03-24 09:51:21,346: PrimaiteGymEnv RNG seed = None\n"
     ]
    }
   ],
   "source": [
    "with open(data_manipulation_config_path()) as f:\n",
    "    cfg = yaml.safe_load(f)\n",
    "    # removing all agents & adding the custom agent.\n",
    "    cfg['agents'] = {}\n",
    "    cfg['agents'] = custom_blue\n",
    "    cfg['agents'][0]['observation_space']['options']['components'][0]['options']['num_ports'] = 3\n",
    "    cfg['agents'][0]['observation_space']['options']['components'][0]['options']['monitored_traffic'].update({\"tcp\": [\"HTTP\",\"FTP\"]})\n",
    "    cfg['agents'][0]['observation_space']['options']['components'][0]['options']['monitored_traffic'].update({\"udp\": [\"DNS\"]})\n",
    "\n",
    "blue_config_env = PrimaiteGymEnv(env_config=cfg)"
   ]
  },
  {
   "cell_type": "code",
   "execution_count": 66,
   "metadata": {
    "execution": {
     "iopub.execute_input": "2025-03-24T09:51:21.352276Z",
     "iopub.status.busy": "2025-03-24T09:51:21.351843Z",
     "iopub.status.idle": "2025-03-24T09:51:21.371528Z",
     "shell.execute_reply": "2025-03-24T09:51:21.370779Z"
    }
   },
   "outputs": [],
   "source": [
    "# Performing the usual c2 setup:\n",
    "blue_config_env, c2_server, c2_beacon, client_1, web_server = c2_setup(given_env=blue_config_env)\n",
    "\n",
    "# Flushing out the OBS impacts from setting up the C2 suite.\n",
    "blue_config_env.step(0)\n",
    "blue_config_env.step(0)\n",
    "\n",
    "# Capturing the 'default' obs (Post C2 installation and configuration):\n",
    "default_obs, _, _, _, _ = blue_config_env.step(0)"
   ]
  },
  {
   "cell_type": "markdown",
   "metadata": {},
   "source": [
    "The next code cells capture the obs impact of the default `keep_alive_frequency` which is 5 timesteps:"
   ]
  },
  {
   "cell_type": "code",
   "execution_count": 67,
   "metadata": {
    "execution": {
     "iopub.execute_input": "2025-03-24T09:51:21.374493Z",
     "iopub.status.busy": "2025-03-24T09:51:21.374003Z",
     "iopub.status.idle": "2025-03-24T09:51:21.385737Z",
     "shell.execute_reply": "2025-03-24T09:51:21.385065Z"
    }
   },
   "outputs": [
    {
     "name": "stdout",
     "output_type": "stream",
     "text": [
      "+----------------------------------------------------------------------------------------------------------------------------------------------------+\n",
      "|                                                              c2-beacon Running Status                                                              |\n",
      "+----------------------+----------------------+-----------------------+----------------------+-----------------------------+-------------------------+\n",
      "| C2 Connection Active | C2 Remote Connection | Keep Alive Inactivity | Keep Alive Frequency | Current Masquerade Protocol | Current Masquerade Port |\n",
      "+----------------------+----------------------+-----------------------+----------------------+-----------------------------+-------------------------+\n",
      "| True                 | 192.168.10.21        | 0                     | 5                    | tcp                         | 80                      |\n",
      "+----------------------+----------------------+-----------------------+----------------------+-----------------------------+-------------------------+\n"
     ]
    }
   ],
   "source": [
    "c2_beacon.configure(c2_server_ip_address=\"192.168.10.21\")\n",
    "c2_beacon.establish()\n",
    "c2_beacon.show()"
   ]
  },
  {
   "cell_type": "markdown",
   "metadata": {},
   "source": [
    "The code cell below executes 10 timesteps and displays the differences between the default and the current timestep.\n",
    "\n",
    "You will notice that the only two timesteps displayed observation space differences. This is due to the C2 Suite confirming their connection through sending ``Keep Alive`` traffic across the network every 5 timesteps."
   ]
  },
  {
   "cell_type": "code",
   "execution_count": 68,
   "metadata": {
    "execution": {
     "iopub.execute_input": "2025-03-24T09:51:21.388447Z",
     "iopub.status.busy": "2025-03-24T09:51:21.388229Z",
     "iopub.status.idle": "2025-03-24T09:51:21.557187Z",
     "shell.execute_reply": "2025-03-24T09:51:21.556461Z"
    }
   },
   "outputs": [
    {
     "name": "stdout",
     "output_type": "stream",
     "text": [
      "\n",
      "Observation space differences\n",
      "-----------------------------\n",
      "Step 4\n",
      "\n",
      "Observation space differences\n",
      "-----------------------------\n",
      "Step 5\n",
      "\n",
      "Observation space differences\n",
      "-----------------------------\n"
     ]
    },
    {
     "name": "stdout",
     "output_type": "stream",
     "text": [
      "Step 6\n",
      "\n",
      "Observation space differences\n",
      "-----------------------------\n"
     ]
    },
    {
     "name": "stdout",
     "output_type": "stream",
     "text": [
      "Step 7\n",
      "\n",
      "Observation space differences\n",
      "-----------------------------\n",
      "Step 8\n",
      "root['nodes']['HOST0']['NICS'][1]['TRAFFIC']['tcp'][80]['inbound']: 0 -> 1\n",
      "root['nodes']['HOST0']['NICS'][1]['TRAFFIC']['tcp'][80]['outbound']: 0 -> 1\n",
      "root['nodes']['HOST2']['NICS'][1]['TRAFFIC']['tcp'][80]['inbound']: 0 -> 1\n",
      "root['nodes']['HOST2']['NICS'][1]['TRAFFIC']['tcp'][80]['outbound']: 0 -> 1\n",
      "root['LINKS'][1]['PROTOCOLS']['ALL']: 0 -> 1\n",
      "root['LINKS'][2]['PROTOCOLS']['ALL']: 0 -> 1\n",
      "root['LINKS'][4]['PROTOCOLS']['ALL']: 0 -> 1\n",
      "root['LINKS'][8]['PROTOCOLS']['ALL']: 0 -> 1\n",
      "\n",
      "Observation space differences\n",
      "-----------------------------\n",
      "Step 9\n",
      "\n",
      "Observation space differences\n",
      "-----------------------------\n",
      "Step 10\n",
      "\n",
      "Observation space differences\n",
      "-----------------------------\n",
      "Step 11\n",
      "\n",
      "Observation space differences\n",
      "-----------------------------\n",
      "Step 12\n",
      "\n",
      "Observation space differences\n",
      "-----------------------------\n",
      "Step 13\n",
      "root['nodes']['HOST0']['NICS'][1]['TRAFFIC']['tcp'][80]['inbound']: 0 -> 1\n",
      "root['nodes']['HOST0']['NICS'][1]['TRAFFIC']['tcp'][80]['outbound']: 0 -> 1\n",
      "root['nodes']['HOST2']['NICS'][1]['TRAFFIC']['tcp'][80]['inbound']: 0 -> 1\n",
      "root['nodes']['HOST2']['NICS'][1]['TRAFFIC']['tcp'][80]['outbound']: 0 -> 1\n",
      "root['LINKS'][1]['PROTOCOLS']['ALL']: 0 -> 1\n",
      "root['LINKS'][2]['PROTOCOLS']['ALL']: 0 -> 1\n",
      "root['LINKS'][4]['PROTOCOLS']['ALL']: 0 -> 1\n",
      "root['LINKS'][8]['PROTOCOLS']['ALL']: 0 -> 1\n"
     ]
    }
   ],
   "source": [
    "for i in range(10):\n",
    "    keep_alive_obs, _, _, _, _ = blue_config_env.step(0)\n",
    "    display_obs_diffs(default_obs, keep_alive_obs, blue_config_env.game.step_counter)"
   ]
  },
  {
   "cell_type": "markdown",
   "metadata": {},
   "source": [
    "Next, the code cells below configure the C2 Beacon to confirm connection on every timestep via changing the ``keep_alive_frequency`` to ``1``."
   ]
  },
  {
   "cell_type": "code",
   "execution_count": 69,
   "metadata": {
    "execution": {
     "iopub.execute_input": "2025-03-24T09:51:21.560245Z",
     "iopub.status.busy": "2025-03-24T09:51:21.559730Z",
     "iopub.status.idle": "2025-03-24T09:51:21.571394Z",
     "shell.execute_reply": "2025-03-24T09:51:21.570703Z"
    }
   },
   "outputs": [
    {
     "name": "stdout",
     "output_type": "stream",
     "text": [
      "+----------------------------------------------------------------------------------------------------------------------------------------------------+\n",
      "|                                                              c2-beacon Running Status                                                              |\n",
      "+----------------------+----------------------+-----------------------+----------------------+-----------------------------+-------------------------+\n",
      "| C2 Connection Active | C2 Remote Connection | Keep Alive Inactivity | Keep Alive Frequency | Current Masquerade Protocol | Current Masquerade Port |\n",
      "+----------------------+----------------------+-----------------------+----------------------+-----------------------------+-------------------------+\n",
      "| True                 | 192.168.10.21        | 0                     | 1                    | tcp                         | 80                      |\n",
      "+----------------------+----------------------+-----------------------+----------------------+-----------------------------+-------------------------+\n"
     ]
    }
   ],
   "source": [
    "c2_beacon.configure(c2_server_ip_address=\"192.168.10.21\", keep_alive_frequency=1)\n",
    "c2_beacon.establish()\n",
    "c2_beacon.show()"
   ]
  },
  {
   "cell_type": "markdown",
   "metadata": {},
   "source": [
    "Now the keep alive's observation impacts can be seen on every timestep:"
   ]
  },
  {
   "cell_type": "code",
   "execution_count": 70,
   "metadata": {
    "execution": {
     "iopub.execute_input": "2025-03-24T09:51:21.574388Z",
     "iopub.status.busy": "2025-03-24T09:51:21.573701Z",
     "iopub.status.idle": "2025-03-24T09:51:21.618576Z",
     "shell.execute_reply": "2025-03-24T09:51:21.617924Z"
    }
   },
   "outputs": [
    {
     "name": "stdout",
     "output_type": "stream",
     "text": [
      "\n",
      "Observation space differences\n",
      "-----------------------------\n"
     ]
    },
    {
     "name": "stdout",
     "output_type": "stream",
     "text": [
      "Step 14\n",
      "root['nodes']['HOST0']['NICS'][1]['TRAFFIC']['tcp'][80]['inbound']: 0 -> 1\n",
      "root['nodes']['HOST0']['NICS'][1]['TRAFFIC']['tcp'][80]['outbound']: 0 -> 1\n",
      "root['nodes']['HOST2']['NICS'][1]['TRAFFIC']['tcp'][80]['inbound']: 0 -> 1\n",
      "root['nodes']['HOST2']['NICS'][1]['TRAFFIC']['tcp'][80]['outbound']: 0 -> 1\n",
      "root['LINKS'][1]['PROTOCOLS']['ALL']: 0 -> 1\n",
      "root['LINKS'][2]['PROTOCOLS']['ALL']: 0 -> 1\n",
      "root['LINKS'][4]['PROTOCOLS']['ALL']: 0 -> 1\n",
      "root['LINKS'][8]['PROTOCOLS']['ALL']: 0 -> 1\n",
      "\n",
      "Observation space differences\n",
      "-----------------------------\n",
      "Step 15\n",
      "root['nodes']['HOST0']['NICS'][1]['TRAFFIC']['tcp'][80]['inbound']: 0 -> 1\n",
      "root['nodes']['HOST0']['NICS'][1]['TRAFFIC']['tcp'][80]['outbound']: 0 -> 1\n",
      "root['nodes']['HOST2']['NICS'][1]['TRAFFIC']['tcp'][80]['inbound']: 0 -> 1\n",
      "root['nodes']['HOST2']['NICS'][1]['TRAFFIC']['tcp'][80]['outbound']: 0 -> 1\n",
      "root['LINKS'][1]['PROTOCOLS']['ALL']: 0 -> 1\n",
      "root['LINKS'][2]['PROTOCOLS']['ALL']: 0 -> 1\n",
      "root['LINKS'][4]['PROTOCOLS']['ALL']: 0 -> 1\n",
      "root['LINKS'][8]['PROTOCOLS']['ALL']: 0 -> 1\n"
     ]
    }
   ],
   "source": [
    "# Comparing the OBS of the default frequency to a timestep frequency of 1\n",
    "for i in range(2):\n",
    "    keep_alive_obs, _, _, _, _ = blue_config_env.step(0)\n",
    "    display_obs_diffs(default_obs, keep_alive_obs, blue_config_env.game.step_counter)"
   ]
  },
  {
   "cell_type": "markdown",
   "metadata": {},
   "source": [
    "Lastly, the `keep_alive_frequency` can also be used to configure the C2 Beacon to confirm connection less frequently. \n",
    "\n",
    "The code cells below demonstrate the impacts of changing the frequency rate to ``7`` timesteps."
   ]
  },
  {
   "cell_type": "code",
   "execution_count": 71,
   "metadata": {
    "execution": {
     "iopub.execute_input": "2025-03-24T09:51:21.621582Z",
     "iopub.status.busy": "2025-03-24T09:51:21.621172Z",
     "iopub.status.idle": "2025-03-24T09:51:21.747284Z",
     "shell.execute_reply": "2025-03-24T09:51:21.746565Z"
    }
   },
   "outputs": [
    {
     "name": "stdout",
     "output_type": "stream",
     "text": [
      "\n",
      "Observation space differences\n",
      "-----------------------------\n"
     ]
    },
    {
     "name": "stdout",
     "output_type": "stream",
     "text": [
      "Step 16\n",
      "\n",
      "Observation space differences\n",
      "-----------------------------\n",
      "Step 17\n",
      "\n",
      "Observation space differences\n",
      "-----------------------------\n"
     ]
    },
    {
     "name": "stdout",
     "output_type": "stream",
     "text": [
      "Step 18\n",
      "\n",
      "Observation space differences\n",
      "-----------------------------\n",
      "Step 19\n",
      "\n",
      "Observation space differences\n",
      "-----------------------------\n",
      "Step 20\n",
      "\n",
      "Observation space differences\n",
      "-----------------------------\n",
      "Step 21\n",
      "\n",
      "Observation space differences\n",
      "-----------------------------\n",
      "Step 22\n",
      "root['nodes']['HOST0']['NICS'][1]['TRAFFIC']['tcp'][80]['inbound']: 0 -> 1\n",
      "root['nodes']['HOST0']['NICS'][1]['TRAFFIC']['tcp'][80]['outbound']: 0 -> 1\n",
      "root['nodes']['HOST2']['NICS'][1]['TRAFFIC']['tcp'][80]['inbound']: 0 -> 1\n",
      "root['nodes']['HOST2']['NICS'][1]['TRAFFIC']['tcp'][80]['outbound']: 0 -> 1\n",
      "root['LINKS'][1]['PROTOCOLS']['ALL']: 0 -> 1\n",
      "root['LINKS'][2]['PROTOCOLS']['ALL']: 0 -> 1\n",
      "root['LINKS'][4]['PROTOCOLS']['ALL']: 0 -> 1\n",
      "root['LINKS'][8]['PROTOCOLS']['ALL']: 0 -> 1\n"
     ]
    }
   ],
   "source": [
    "c2_beacon.configure(c2_server_ip_address=\"192.168.10.21\", keep_alive_frequency=7)\n",
    "\n",
    "# Comparing the OBS of the default frequency to a timestep frequency of 7\n",
    "for i in range(7):\n",
    "    keep_alive_obs, _, _, _, _ = blue_config_env.step(0)\n",
    "    display_obs_diffs(default_obs, keep_alive_obs, blue_config_env.game.step_counter)"
   ]
  },
  {
   "cell_type": "markdown",
   "metadata": {},
   "source": [
    "### **Command and Control** | Configurability | `masquerade_port` & `masquerade_protocol`\n",
    "\n",
    "The final configurable options are ``Masquerade Port`` & ``Masquerade Protocol``. These options can be used to control the networking IP Protocol and Port the C2 traffic is currently using.\n",
    "\n",
    "In the real world, adversaries take defensive steps to reduce the chance that an installed C2 Beacon is discovered. One of the most commonly used methods is to masquerade C2 traffic as other commonly used networking protocols.\n",
    "\n",
    "In primAITE, red agents can begin to simulate stealth behaviour by configuring C2 traffic to use different protocols mid episode or between episodes.\n",
    "\n",
    "Currently, the C2 Suite support the following port and protocol options:\n",
    "\n",
    "| Supported Ports  | Supported Protocols |\n",
    "|------------------|---------------------|\n",
    "|``DNS``           | ``UDP``             |\n",
    "|``FTP``           | ``TCP``             |\n",
    "|``HTTP``          |                     |\n",
    "\n",
    "\n",
    "\n",
    "The next set of code cells will demonstrate the impact of this option from a blue agent perspective."
   ]
  },
  {
   "cell_type": "code",
   "execution_count": 72,
   "metadata": {
    "execution": {
     "iopub.execute_input": "2025-03-24T09:51:21.750093Z",
     "iopub.status.busy": "2025-03-24T09:51:21.749690Z",
     "iopub.status.idle": "2025-03-24T09:51:21.832768Z",
     "shell.execute_reply": "2025-03-24T09:51:21.831968Z"
    }
   },
   "outputs": [
    {
     "name": "stderr",
     "output_type": "stream",
     "text": [
      "2025-03-24 09:51:21,751: Resetting environment, episode 0, avg. reward: 0.0\n"
     ]
    },
    {
     "name": "stderr",
     "output_type": "stream",
     "text": [
      "2025-03-24 09:51:21,752: Saving agent action log to /home/runner/primaite/4.0.0/sessions/2025-03-24/09-51-16/agent_actions/episode_0.json\n"
     ]
    }
   ],
   "source": [
    "blue_config_env.reset()\n",
    "\n",
    "# Performing the usual c2 setup:\n",
    "blue_config_env, c2_server, c2_beacon, client_1, web_server = c2_setup(given_env=blue_config_env)\n",
    "\n",
    "blue_config_env.step(0)\n",
    "\n",
    "# Capturing the 'default' obs (Post C2 installation and configuration):\n",
    "default_obs, _, _, _, _ = blue_config_env.step(0)"
   ]
  },
  {
   "cell_type": "markdown",
   "metadata": {},
   "source": [
    "By default, the C2 suite will masquerade a Web Browser, meaning C2 Traffic will opt to use ``TCP`` and ``HTTP`` (Port 80):"
   ]
  },
  {
   "cell_type": "code",
   "execution_count": 73,
   "metadata": {
    "execution": {
     "iopub.execute_input": "2025-03-24T09:51:21.836170Z",
     "iopub.status.busy": "2025-03-24T09:51:21.835642Z",
     "iopub.status.idle": "2025-03-24T09:51:21.864317Z",
     "shell.execute_reply": "2025-03-24T09:51:21.863644Z"
    }
   },
   "outputs": [
    {
     "name": "stdout",
     "output_type": "stream",
     "text": [
      "\n",
      "Observation space differences\n",
      "-----------------------------\n",
      "Step 5\n",
      "root['nodes']['HOST0']['NICS'][1]['TRAFFIC']['tcp'][80]['inbound']: 0 -> 1\n",
      "root['nodes']['HOST0']['NICS'][1]['TRAFFIC']['tcp'][80]['outbound']: 0 -> 1\n",
      "root['nodes']['HOST2']['NICS'][1]['TRAFFIC']['tcp'][80]['inbound']: 0 -> 1\n",
      "root['nodes']['HOST2']['NICS'][1]['TRAFFIC']['tcp'][80]['outbound']: 0 -> 1\n",
      "root['LINKS'][1]['PROTOCOLS']['ALL']: 0 -> 1\n",
      "root['LINKS'][2]['PROTOCOLS']['ALL']: 0 -> 1\n",
      "root['LINKS'][4]['PROTOCOLS']['ALL']: 0 -> 1\n",
      "root['LINKS'][8]['PROTOCOLS']['ALL']: 0 -> 1\n"
     ]
    }
   ],
   "source": [
    "# Capturing default C2 Traffic\n",
    "for i in range(3):\n",
    "    tcp_c2_obs, _, _, _, _ = blue_config_env.step(0)\n",
    "\n",
    "display_obs_diffs(default_obs, tcp_c2_obs, blue_config_env.game.step_counter)"
   ]
  },
  {
   "cell_type": "markdown",
   "metadata": {},
   "source": [
    "But we can use the aforementioned options to configure the C2 Beacon to use different protocol and port such as a `UDP` and `DNS`.  "
   ]
  },
  {
   "cell_type": "code",
   "execution_count": 74,
   "metadata": {
    "execution": {
     "iopub.execute_input": "2025-03-24T09:51:21.866991Z",
     "iopub.status.busy": "2025-03-24T09:51:21.866761Z",
     "iopub.status.idle": "2025-03-24T09:51:21.879211Z",
     "shell.execute_reply": "2025-03-24T09:51:21.878530Z"
    }
   },
   "outputs": [
    {
     "name": "stdout",
     "output_type": "stream",
     "text": [
      "+----------------------------------------------------------------------------------------------------------------------------------------------------+\n",
      "|                                                              c2-beacon Running Status                                                              |\n",
      "+----------------------+----------------------+-----------------------+----------------------+-----------------------------+-------------------------+\n",
      "| C2 Connection Active | C2 Remote Connection | Keep Alive Inactivity | Keep Alive Frequency | Current Masquerade Protocol | Current Masquerade Port |\n",
      "+----------------------+----------------------+-----------------------+----------------------+-----------------------------+-------------------------+\n",
      "| True                 | 192.168.10.21        | 0                     | 5                    | udp                         | 53                      |\n",
      "+----------------------+----------------------+-----------------------+----------------------+-----------------------------+-------------------------+\n"
     ]
    }
   ],
   "source": [
    "from primaite.utils.validation.ip_protocol import PROTOCOL_LOOKUP\n",
    "from primaite.utils.validation.port import PORT_LOOKUP\n",
    "\n",
    "# As we're configuring via the PrimAITE API we need to pass the actual IPProtocol/Port (Agents leverage the simulation via the game layer and thus can pass strings).\n",
    "c2_beacon.configure(c2_server_ip_address=\"192.168.10.21\", masquerade_protocol=PROTOCOL_LOOKUP[\"UDP\"],  masquerade_port=PORT_LOOKUP[\"DNS\"])\n",
    "c2_beacon.establish()\n",
    "c2_beacon.show()"
   ]
  },
  {
   "cell_type": "code",
   "execution_count": 75,
   "metadata": {
    "execution": {
     "iopub.execute_input": "2025-03-24T09:51:21.881762Z",
     "iopub.status.busy": "2025-03-24T09:51:21.881410Z",
     "iopub.status.idle": "2025-03-24T09:51:21.913163Z",
     "shell.execute_reply": "2025-03-24T09:51:21.912436Z"
    }
   },
   "outputs": [
    {
     "name": "stdout",
     "output_type": "stream",
     "text": [
      "\n",
      "Observation space differences\n",
      "-----------------------------\n",
      "Step 10\n",
      "root['nodes']['HOST0']['NICS'][1]['TRAFFIC']['tcp'][80]['inbound']: 1 -> 0\n",
      "root['nodes']['HOST0']['NICS'][1]['TRAFFIC']['tcp'][80]['outbound']: 1 -> 0\n",
      "root['nodes']['HOST0']['NICS'][1]['TRAFFIC']['udp'][53]['inbound']: 0 -> 1\n",
      "root['nodes']['HOST0']['NICS'][1]['TRAFFIC']['udp'][53]['outbound']: 0 -> 1\n",
      "root['nodes']['HOST2']['NICS'][1]['TRAFFIC']['tcp'][80]['inbound']: 1 -> 0\n",
      "root['nodes']['HOST2']['NICS'][1]['TRAFFIC']['tcp'][80]['outbound']: 1 -> 0\n",
      "root['nodes']['HOST2']['NICS'][1]['TRAFFIC']['udp'][53]['inbound']: 0 -> 1\n",
      "root['nodes']['HOST2']['NICS'][1]['TRAFFIC']['udp'][53]['outbound']: 0 -> 1\n"
     ]
    }
   ],
   "source": [
    "# Capturing UDP C2 Traffic\n",
    "for i in range(5):\n",
    "    udp_c2_obs, _, _, _, _ = blue_config_env.step(0)\n",
    "\n",
    "display_obs_diffs(tcp_c2_obs, udp_c2_obs, blue_config_env.game.step_counter)"
   ]
  },
  {
   "cell_type": "code",
   "execution_count": 76,
   "metadata": {
    "execution": {
     "iopub.execute_input": "2025-03-24T09:51:21.915717Z",
     "iopub.status.busy": "2025-03-24T09:51:21.915502Z",
     "iopub.status.idle": "2025-03-24T09:51:21.921486Z",
     "shell.execute_reply": "2025-03-24T09:51:21.920808Z"
    }
   },
   "outputs": [
    {
     "name": "stdout",
     "output_type": "stream",
     "text": [
      "Actions for 'CustomC2Agent':\n",
      "+------+--------------------------------+---------------------------------------------------------------------------------+----------+-----------------------------+\n",
      "| Step |             Action             |                                      Params                                     | Response |        Response Data        |\n",
      "+------+--------------------------------+---------------------------------------------------------------------------------+----------+-----------------------------+\n",
      "|  0   |    node-application-install    |                              node_name: web_server                              | success  |                             |\n",
      "|      |                                |                           application_name: c2-beacon                           |          |                             |\n",
      "|      |                                |                                                                                 |          |                             |\n",
      "|  1   |      configure-c2-beacon       |                              node_name: web_server                              | success  |                             |\n",
      "|      |                                |                       c2_server_ip_address: 192.168.10.21                       |          |                             |\n",
      "|      |                                |                                                                                 |          |                             |\n",
      "|  2   |    node-application-execute    |                              node_name: web_server                              | success  |                             |\n",
      "|      |                                |                           application_name: c2-beacon                           |          |                             |\n",
      "|      |                                |                                                                                 |          |                             |\n",
      "|  3   |   c2-server-terminal-command   |                               node_name: client_1                               | success  | 0: status='success' data={} |\n",
      "|      |                                |                                 ip_address: None                                |          |                             |\n",
      "|      |                                |                                 username: admin                                 |          |                             |\n",
      "|      |                                |                                 password: admin                                 |          |                             |\n",
      "|      |                                | commands: [['software_manager', 'application', 'install', 'ransomware-script']] |          |                             |\n",
      "|      |                                |                                                                                 |          |                             |\n",
      "|  4   | c2-server-ransomware-configure |                               node_name: client_1                               | success  |                             |\n",
      "|      |                                |                         server_ip_address: 192.168.1.14                         |          |                             |\n",
      "|      |                                |                                 payload: ENCRYPT                                |          |                             |\n",
      "|      |                                |                                                                                 |          |                             |\n",
      "|  5   |   c2-server-data-exfiltrate    |                               node_name: client_1                               | success  |                             |\n",
      "|      |                                |                          target_file_name: database.db                          |          |                             |\n",
      "|      |                                |                           target_folder_name: database                          |          |                             |\n",
      "|      |                                |                         exfiltration_folder_name: spoils                        |          |                             |\n",
      "|      |                                |                         target_ip_address: 192.168.1.14                         |          |                             |\n",
      "|      |                                |                                 username: admin                                 |          |                             |\n",
      "|      |                                |                                 password: admin                                 |          |                             |\n",
      "|      |                                |                                                                                 |          |                             |\n",
      "|  6   |  c2-server-ransomware-launch   |                               node_name: client_1                               | success  |                             |\n",
      "|      |                                |                                                                                 |          |                             |\n",
      "|  7   |      configure-c2-beacon       |                              node_name: web_server                              | success  |                             |\n",
      "|      |                                |                       c2_server_ip_address: 192.168.10.21                       |          |                             |\n",
      "|      |                                |                                                                                 |          |                             |\n",
      "|  8   |    node-application-execute    |                              node_name: web_server                              | success  |                             |\n",
      "|      |                                |                           application_name: c2-beacon                           |          |                             |\n",
      "|      |                                |                                                                                 |          |                             |\n",
      "|  9   |      configure-c2-beacon       |                              node_name: web_server                              | success  |                             |\n",
      "|      |                                |                       c2_server_ip_address: 192.168.10.22                       |          |                             |\n",
      "|      |                                |                                                                                 |          |                             |\n",
      "|  10  |    node-application-execute    |                              node_name: web_server                              | success  |                             |\n",
      "|      |                                |                           application_name: c2-beacon                           |          |                             |\n",
      "|      |                                |                                                                                 |          |                             |\n",
      "+------+--------------------------------+---------------------------------------------------------------------------------+----------+-----------------------------+\n"
     ]
    }
   ],
   "source": [
    "env.game.agents[\"CustomC2Agent\"].show_history()"
   ]
  }
 ],
 "metadata": {
  "kernelspec": {
   "display_name": ".venv",
   "language": "python",
   "name": "python3"
  },
  "language_info": {
   "codemirror_mode": {
    "name": "ipython",
    "version": 3
   },
   "file_extension": ".py",
   "mimetype": "text/x-python",
   "name": "python",
   "nbconvert_exporter": "python",
   "pygments_lexer": "ipython3",
   "version": "3.10.16"
  }
 },
 "nbformat": 4,
 "nbformat_minor": 2
}
