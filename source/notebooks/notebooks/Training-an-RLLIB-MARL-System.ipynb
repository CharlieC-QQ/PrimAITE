{
 "cells": [
  {
   "cell_type": "markdown",
   "metadata": {},
   "source": [
    "# Train a Multi agent system using RLLIB\n",
    "\n",
    "© Crown-owned copyright 2025, Defence Science and Technology Laboratory UK\n",
    "\n",
    "This notebook will demonstrate how to use the `PrimaiteRayMARLEnv` to train a very basic system with two PPO agents on the [UC2 scenario](./Data-Manipulation-E2E-Demonstration.ipynb)."
   ]
  },
  {
   "cell_type": "markdown",
   "metadata": {},
   "source": [
    "#### First, Import packages and read our config file."
   ]
  },
  {
   "cell_type": "code",
   "execution_count": 1,
   "metadata": {
    "execution": {
     "iopub.execute_input": "2025-03-24T09:52:33.634502Z",
     "iopub.status.busy": "2025-03-24T09:52:33.633981Z",
     "iopub.status.idle": "2025-03-24T09:52:34.062003Z",
     "shell.execute_reply": "2025-03-24T09:52:34.061284Z"
    }
   },
   "outputs": [
    {
     "name": "stdout",
     "output_type": "stream",
     "text": [
      "2025-03-24 09:52:33,903: Performing the PrimAITE first-time setup...\r\n",
      "2025-03-24 09:52:33,903: Building the PrimAITE app directories...\r\n",
      "2025-03-24 09:52:33,903: Building primaite_config.yaml...\r\n",
      "2025-03-24 09:52:33,903: Rebuilding the demo notebooks...\r\n",
      "2025-03-24 09:52:33,927: Rebuilding the example notebooks...\r\n",
      "2025-03-24 09:52:33,928: PrimAITE setup complete!\r\n"
     ]
    }
   ],
   "source": [
    "!primaite setup"
   ]
  },
  {
   "cell_type": "code",
   "execution_count": 2,
   "metadata": {
    "execution": {
     "iopub.execute_input": "2025-03-24T09:52:34.065234Z",
     "iopub.status.busy": "2025-03-24T09:52:34.064974Z",
     "iopub.status.idle": "2025-03-24T09:52:40.819260Z",
     "shell.execute_reply": "2025-03-24T09:52:40.818574Z"
    }
   },
   "outputs": [
    {
     "name": "stderr",
     "output_type": "stream",
     "text": [
      "WARNING: All log messages before absl::InitializeLog() is called are written to STDERR\n",
      "E0000 00:00:1742809954.807608    6703 cuda_dnn.cc:8579] Unable to register cuDNN factory: Attempting to register factory for plugin cuDNN when one has already been registered\n",
      "E0000 00:00:1742809954.812034    6703 cuda_blas.cc:1407] Unable to register cuBLAS factory: Attempting to register factory for plugin cuBLAS when one has already been registered\n",
      "W0000 00:00:1742809954.824305    6703 computation_placer.cc:177] computation placer already registered. Please check linkage and avoid linking the same target more than once.\n",
      "W0000 00:00:1742809954.824315    6703 computation_placer.cc:177] computation placer already registered. Please check linkage and avoid linking the same target more than once.\n",
      "W0000 00:00:1742809954.824317    6703 computation_placer.cc:177] computation placer already registered. Please check linkage and avoid linking the same target more than once.\n",
      "W0000 00:00:1742809954.824319    6703 computation_placer.cc:177] computation placer already registered. Please check linkage and avoid linking the same target more than once.\n"
     ]
    }
   ],
   "source": [
    "import yaml\n",
    "import ray\n",
    "from primaite import PRIMAITE_PATHS\n",
    "from ray.rllib.algorithms.ppo import PPOConfig\n",
    "from primaite.session.ray_envs import PrimaiteRayMARLEnv"
   ]
  },
  {
   "cell_type": "code",
   "execution_count": 3,
   "metadata": {
    "execution": {
     "iopub.execute_input": "2025-03-24T09:52:40.822667Z",
     "iopub.status.busy": "2025-03-24T09:52:40.822015Z",
     "iopub.status.idle": "2025-03-24T09:52:44.868453Z",
     "shell.execute_reply": "2025-03-24T09:52:44.867774Z"
    }
   },
   "outputs": [
    {
     "name": "stderr",
     "output_type": "stream",
     "text": [
      "2025-03-24 09:52:43,871\tINFO worker.py:1788 -- Started a local Ray instance.\n"
     ]
    },
    {
     "data": {
      "application/vnd.jupyter.widget-view+json": {
       "model_id": "ebdb870b709b4216ba712aae081cdcbf",
       "version_major": 2,
       "version_minor": 0
      },
      "text/html": [
       "<div class=\"lm-Widget p-Widget lm-Panel p-Panel jp-Cell-outputWrapper\">\n",
       "    <div style=\"margin-left: 50px;display: flex;flex-direction: row;align-items: center\">\n",
       "        <div class=\"jp-RenderedHTMLCommon\" style=\"display: flex; flex-direction: row;\">\n",
       "  <svg viewBox=\"0 0 567 224\" fill=\"none\" xmlns=\"http://www.w3.org/2000/svg\" style=\"height: 3em;\">\n",
       "    <g clip-path=\"url(#clip0_4338_178347)\">\n",
       "        <path d=\"M341.29 165.561H355.29L330.13 129.051C345.63 123.991 354.21 112.051 354.21 94.2307C354.21 71.3707 338.72 58.1807 311.88 58.1807H271V165.561H283.27V131.661H311.8C314.25 131.661 316.71 131.501 319.01 131.351L341.25 165.561H341.29ZM283.29 119.851V70.0007H311.82C331.3 70.0007 342.34 78.2907 342.34 94.5507C342.34 111.271 331.34 119.861 311.82 119.861L283.29 119.851ZM451.4 138.411L463.4 165.561H476.74L428.74 58.1807H416L367.83 165.561H380.83L392.83 138.411H451.4ZM446.19 126.601H398L422 72.1407L446.24 126.601H446.19ZM526.11 128.741L566.91 58.1807H554.35L519.99 114.181L485.17 58.1807H472.44L514.01 129.181V165.541H526.13V128.741H526.11Z\" fill=\"var(--jp-ui-font-color0)\"/>\n",
       "        <path d=\"M82.35 104.44C84.0187 97.8827 87.8248 92.0678 93.1671 87.9146C98.5094 83.7614 105.083 81.5067 111.85 81.5067C118.617 81.5067 125.191 83.7614 130.533 87.9146C135.875 92.0678 139.681 97.8827 141.35 104.44H163.75C164.476 101.562 165.622 98.8057 167.15 96.2605L127.45 56.5605C121.071 60.3522 113.526 61.6823 106.235 60.3005C98.9443 58.9187 92.4094 54.9203 87.8602 49.0574C83.3109 43.1946 81.0609 35.8714 81.5332 28.4656C82.0056 21.0599 85.1679 14.0819 90.4252 8.8446C95.6824 3.60726 102.672 0.471508 110.08 0.0272655C117.487 -0.416977 124.802 1.86091 130.647 6.4324C136.493 11.0039 140.467 17.5539 141.821 24.8501C143.175 32.1463 141.816 39.6859 138 46.0505L177.69 85.7505C182.31 82.9877 187.58 81.4995 192.962 81.4375C198.345 81.3755 203.648 82.742 208.33 85.3976C213.012 88.0532 216.907 91.9029 219.616 96.5544C222.326 101.206 223.753 106.492 223.753 111.875C223.753 117.258 222.326 122.545 219.616 127.197C216.907 131.848 213.012 135.698 208.33 138.353C203.648 141.009 198.345 142.375 192.962 142.313C187.58 142.251 182.31 140.763 177.69 138L138 177.7C141.808 184.071 143.155 191.614 141.79 198.91C140.424 206.205 136.44 212.75 130.585 217.313C124.731 221.875 117.412 224.141 110.004 223.683C102.596 223.226 95.6103 220.077 90.3621 214.828C85.1139 209.58 81.9647 202.595 81.5072 195.187C81.0497 187.779 83.3154 180.459 87.878 174.605C92.4405 168.751 98.9853 164.766 106.281 163.401C113.576 162.035 121.119 163.383 127.49 167.19L167.19 127.49C165.664 124.941 164.518 122.182 163.79 119.3H141.39C139.721 125.858 135.915 131.673 130.573 135.826C125.231 139.98 118.657 142.234 111.89 142.234C105.123 142.234 98.5494 139.98 93.2071 135.826C87.8648 131.673 84.0587 125.858 82.39 119.3H60C58.1878 126.495 53.8086 132.78 47.6863 136.971C41.5641 141.163 34.1211 142.972 26.7579 142.059C19.3947 141.146 12.6191 137.574 7.70605 132.014C2.79302 126.454 0.0813599 119.29 0.0813599 111.87C0.0813599 104.451 2.79302 97.2871 7.70605 91.7272C12.6191 86.1673 19.3947 82.5947 26.7579 81.6817C34.1211 80.7686 41.5641 82.5781 47.6863 86.7696C53.8086 90.9611 58.1878 97.2456 60 104.44H82.35ZM100.86 204.32C103.407 206.868 106.759 208.453 110.345 208.806C113.93 209.159 117.527 208.258 120.522 206.256C123.517 204.254 125.725 201.276 126.771 197.828C127.816 194.38 127.633 190.677 126.253 187.349C124.874 184.021 122.383 181.274 119.205 179.577C116.027 177.88 112.359 177.337 108.826 178.042C105.293 178.746 102.113 180.654 99.8291 183.44C97.5451 186.226 96.2979 189.718 96.3 193.32C96.2985 195.364 96.7006 197.388 97.4831 199.275C98.2656 201.163 99.4132 202.877 100.86 204.32ZM204.32 122.88C206.868 120.333 208.453 116.981 208.806 113.396C209.159 109.811 208.258 106.214 206.256 103.219C204.254 100.223 201.275 98.0151 197.827 96.97C194.38 95.9249 190.676 96.1077 187.348 97.4873C184.02 98.8669 181.274 101.358 179.577 104.536C177.879 107.714 177.337 111.382 178.041 114.915C178.746 118.448 180.653 121.627 183.439 123.911C186.226 126.195 189.717 127.443 193.32 127.44C195.364 127.443 197.388 127.042 199.275 126.259C201.163 125.476 202.878 124.328 204.32 122.88ZM122.88 19.4205C120.333 16.8729 116.981 15.2876 113.395 14.9347C109.81 14.5817 106.213 15.483 103.218 17.4849C100.223 19.4868 98.0146 22.4654 96.9696 25.9131C95.9245 29.3608 96.1073 33.0642 97.4869 36.3922C98.8665 39.7202 101.358 42.4668 104.535 44.1639C107.713 45.861 111.381 46.4036 114.914 45.6992C118.447 44.9949 121.627 43.0871 123.911 40.301C126.195 37.515 127.442 34.0231 127.44 30.4205C127.44 28.3772 127.038 26.3539 126.255 24.4664C125.473 22.5788 124.326 20.8642 122.88 19.4205ZM19.42 100.86C16.8725 103.408 15.2872 106.76 14.9342 110.345C14.5813 113.93 15.4826 117.527 17.4844 120.522C19.4863 123.518 22.4649 125.726 25.9127 126.771C29.3604 127.816 33.0638 127.633 36.3918 126.254C39.7198 124.874 42.4664 122.383 44.1635 119.205C45.8606 116.027 46.4032 112.359 45.6988 108.826C44.9944 105.293 43.0866 102.114 40.3006 99.8296C37.5145 97.5455 34.0227 96.2983 30.42 96.3005C26.2938 96.3018 22.337 97.9421 19.42 100.86ZM100.86 100.86C98.3125 103.408 96.7272 106.76 96.3742 110.345C96.0213 113.93 96.9226 117.527 98.9244 120.522C100.926 123.518 103.905 125.726 107.353 126.771C110.8 127.816 114.504 127.633 117.832 126.254C121.16 124.874 123.906 122.383 125.604 119.205C127.301 116.027 127.843 112.359 127.139 108.826C126.434 105.293 124.527 102.114 121.741 99.8296C118.955 97.5455 115.463 96.2983 111.86 96.3005C109.817 96.299 107.793 96.701 105.905 97.4835C104.018 98.2661 102.303 99.4136 100.86 100.86Z\" fill=\"#00AEEF\"/>\n",
       "    </g>\n",
       "    <defs>\n",
       "        <clipPath id=\"clip0_4338_178347\">\n",
       "            <rect width=\"566.93\" height=\"223.75\" fill=\"white\"/>\n",
       "        </clipPath>\n",
       "    </defs>\n",
       "  </svg>\n",
       "</div>\n",
       "\n",
       "        <table class=\"jp-RenderedHTMLCommon\" style=\"border-collapse: collapse;color: var(--jp-ui-font-color1);font-size: var(--jp-ui-font-size1);\">\n",
       "    <tr>\n",
       "        <td style=\"text-align: left\"><b>Python version:</b></td>\n",
       "        <td style=\"text-align: left\"><b>3.10.16</b></td>\n",
       "    </tr>\n",
       "    <tr>\n",
       "        <td style=\"text-align: left\"><b>Ray version:</b></td>\n",
       "        <td style=\"text-align: left\"><b>2.32.0</b></td>\n",
       "    </tr>\n",
       "    \n",
       "</table>\n",
       "\n",
       "    </div>\n",
       "</div>\n"
      ],
      "text/plain": [
       "RayContext(dashboard_url='', python_version='3.10.16', ray_version='2.32.0', ray_commit='607f2f30f5f21543b6a5568ee77ea779eeba30a8')"
      ]
     },
     "execution_count": 3,
     "metadata": {},
     "output_type": "execute_result"
    }
   ],
   "source": [
    "with open(PRIMAITE_PATHS.user_config_path / 'example_config/data_manipulation_marl.yaml', 'r') as f:\n",
    "    cfg = yaml.safe_load(f)\n",
    "ray.init(local_mode=True)"
   ]
  },
  {
   "cell_type": "markdown",
   "metadata": {},
   "source": [
    "#### Create a Ray algorithm config which accepts our two agents"
   ]
  },
  {
   "cell_type": "code",
   "execution_count": 4,
   "metadata": {
    "execution": {
     "iopub.execute_input": "2025-03-24T09:52:44.871467Z",
     "iopub.status.busy": "2025-03-24T09:52:44.871245Z",
     "iopub.status.idle": "2025-03-24T09:52:44.875835Z",
     "shell.execute_reply": "2025-03-24T09:52:44.875280Z"
    }
   },
   "outputs": [],
   "source": [
    "config = (\n",
    "    PPOConfig()\n",
    "    .multi_agent(\n",
    "        policies={'defender_1','defender_2'}, # These names are the same as the agents defined in the example config.\n",
    "        policy_mapping_fn=lambda agent_id, episode, worker, **kw: agent_id,\n",
    "        )\n",
    "    .environment(env=PrimaiteRayMARLEnv, env_config=cfg)\n",
    "    .env_runners(num_env_runners=0)\n",
    "    .training(train_batch_size=128)\n",
    "    .evaluation(evaluation_duration=1)\n",
    "    )\n"
   ]
  },
  {
   "cell_type": "markdown",
   "metadata": {},
   "source": [
    "#### Start the training\n",
    "This example will save outputs to a default Ray directory and use mostly default settings."
   ]
  },
  {
   "cell_type": "code",
   "execution_count": 5,
   "metadata": {
    "execution": {
     "iopub.execute_input": "2025-03-24T09:52:44.878664Z",
     "iopub.status.busy": "2025-03-24T09:52:44.878457Z",
     "iopub.status.idle": "2025-03-24T09:52:49.244241Z",
     "shell.execute_reply": "2025-03-24T09:52:49.243584Z"
    }
   },
   "outputs": [
    {
     "name": "stderr",
     "output_type": "stream",
     "text": [
      "/opt/hostedtoolcache/Python/3.10.16/x64/lib/python3.10/site-packages/ray/rllib/algorithms/algorithm.py:516: RayDeprecationWarning: This API is deprecated and may be removed in future Ray releases. You could suppress this warning by setting env variable PYTHONWARNINGS=\"ignore::DeprecationWarning\"\n",
      "`UnifiedLogger` will be removed in Ray 2.7.\n",
      "  return UnifiedLogger(config, logdir, loggers=None)\n",
      "/opt/hostedtoolcache/Python/3.10.16/x64/lib/python3.10/site-packages/ray/tune/logger/unified.py:53: RayDeprecationWarning: This API is deprecated and may be removed in future Ray releases. You could suppress this warning by setting env variable PYTHONWARNINGS=\"ignore::DeprecationWarning\"\n",
      "The `JsonLogger interface is deprecated in favor of the `ray.tune.json.JsonLoggerCallback` interface and will be removed in Ray 2.7.\n",
      "  self._loggers.append(cls(self.config, self.logdir, self.trial))\n",
      "/opt/hostedtoolcache/Python/3.10.16/x64/lib/python3.10/site-packages/ray/tune/logger/unified.py:53: RayDeprecationWarning: This API is deprecated and may be removed in future Ray releases. You could suppress this warning by setting env variable PYTHONWARNINGS=\"ignore::DeprecationWarning\"\n",
      "The `CSVLogger interface is deprecated in favor of the `ray.tune.csv.CSVLoggerCallback` interface and will be removed in Ray 2.7.\n",
      "  self._loggers.append(cls(self.config, self.logdir, self.trial))\n",
      "/opt/hostedtoolcache/Python/3.10.16/x64/lib/python3.10/site-packages/ray/tune/logger/unified.py:53: RayDeprecationWarning: This API is deprecated and may be removed in future Ray releases. You could suppress this warning by setting env variable PYTHONWARNINGS=\"ignore::DeprecationWarning\"\n",
      "The `TBXLogger interface is deprecated in favor of the `ray.tune.tensorboardx.TBXLoggerCallback` interface and will be removed in Ray 2.7.\n",
      "  self._loggers.append(cls(self.config, self.logdir, self.trial))\n"
     ]
    },
    {
     "name": "stderr",
     "output_type": "stream",
     "text": [
      "2025-03-24 09:52:46,372: Resetting environment, episode 0, avg. reward: {'defender_1': 0.0, 'defender_2': 0.0}\n"
     ]
    },
    {
     "name": "stderr",
     "output_type": "stream",
     "text": [
      "2025-03-24 09:52:46,376: Saving agent action log to /home/runner/primaite/4.0.0/sessions/2025-03-24/09-52-39/agent_actions/episode_0.json\n"
     ]
    },
    {
     "name": "stderr",
     "output_type": "stream",
     "text": [
      "2025-03-24 09:52:46,498: step: 1, Rewards: {'defender_1': 0.65, 'defender_2': 0.65}\n"
     ]
    },
    {
     "name": "stderr",
     "output_type": "stream",
     "text": [
      "2025-03-24 09:52:46,519: step: 2, Rewards: {'defender_1': -0.09999999999999998, 'defender_2': -0.09999999999999998}\n"
     ]
    },
    {
     "name": "stderr",
     "output_type": "stream",
     "text": [
      "2025-03-24 09:52:46,538: step: 3, Rewards: {'defender_1': -0.04999999999999999, 'defender_2': -0.04999999999999999}\n"
     ]
    },
    {
     "name": "stderr",
     "output_type": "stream",
     "text": [
      "2025-03-24 09:52:46,554: step: 4, Rewards: {'defender_1': -0.04999999999999999, 'defender_2': -0.04999999999999999}\n"
     ]
    },
    {
     "name": "stderr",
     "output_type": "stream",
     "text": [
      "2025-03-24 09:52:46,568: step: 5, Rewards: {'defender_1': -0.04999999999999999, 'defender_2': -0.04999999999999999}\n"
     ]
    },
    {
     "name": "stderr",
     "output_type": "stream",
     "text": [
      "2025-03-24 09:52:46,583: step: 6, Rewards: {'defender_1': -0.04999999999999999, 'defender_2': -0.04999999999999999}\n"
     ]
    },
    {
     "name": "stderr",
     "output_type": "stream",
     "text": [
      "2025-03-24 09:52:46,596: step: 7, Rewards: {'defender_1': -0.04999999999999999, 'defender_2': -0.04999999999999999}\n"
     ]
    },
    {
     "name": "stderr",
     "output_type": "stream",
     "text": [
      "2025-03-24 09:52:46,610: step: 8, Rewards: {'defender_1': -0.04999999999999999, 'defender_2': -0.04999999999999999}\n"
     ]
    },
    {
     "name": "stderr",
     "output_type": "stream",
     "text": [
      "2025-03-24 09:52:46,623: step: 9, Rewards: {'defender_1': -0.04999999999999999, 'defender_2': -0.04999999999999999}\n"
     ]
    },
    {
     "name": "stderr",
     "output_type": "stream",
     "text": [
      "2025-03-24 09:52:46,637: step: 10, Rewards: {'defender_1': -0.04999999999999999, 'defender_2': -0.04999999999999999}\n"
     ]
    },
    {
     "name": "stderr",
     "output_type": "stream",
     "text": [
      "2025-03-24 09:52:46,650: step: 11, Rewards: {'defender_1': -0.04999999999999999, 'defender_2': -0.04999999999999999}\n"
     ]
    },
    {
     "name": "stderr",
     "output_type": "stream",
     "text": [
      "2025-03-24 09:52:46,665: step: 12, Rewards: {'defender_1': -0.04999999999999999, 'defender_2': -0.04999999999999999}\n"
     ]
    },
    {
     "name": "stderr",
     "output_type": "stream",
     "text": [
      "2025-03-24 09:52:46,678: step: 13, Rewards: {'defender_1': -0.04999999999999999, 'defender_2': -0.04999999999999999}\n"
     ]
    },
    {
     "name": "stderr",
     "output_type": "stream",
     "text": [
      "2025-03-24 09:52:46,693: step: 14, Rewards: {'defender_1': -0.14999999999999997, 'defender_2': -0.14999999999999997}\n"
     ]
    },
    {
     "name": "stderr",
     "output_type": "stream",
     "text": [
      "2025-03-24 09:52:46,707: step: 15, Rewards: {'defender_1': -0.14999999999999997, 'defender_2': -0.14999999999999997}\n"
     ]
    },
    {
     "name": "stderr",
     "output_type": "stream",
     "text": [
      "2025-03-24 09:52:46,721: step: 16, Rewards: {'defender_1': -0.14999999999999997, 'defender_2': -0.14999999999999997}\n"
     ]
    },
    {
     "name": "stderr",
     "output_type": "stream",
     "text": [
      "2025-03-24 09:52:46,734: step: 17, Rewards: {'defender_1': -0.14999999999999997, 'defender_2': -0.14999999999999997}\n"
     ]
    },
    {
     "name": "stderr",
     "output_type": "stream",
     "text": [
      "2025-03-24 09:52:46,747: step: 18, Rewards: {'defender_1': -0.14999999999999997, 'defender_2': -0.14999999999999997}\n"
     ]
    },
    {
     "name": "stderr",
     "output_type": "stream",
     "text": [
      "2025-03-24 09:52:46,760: step: 19, Rewards: {'defender_1': -0.14999999999999997, 'defender_2': -0.14999999999999997}\n"
     ]
    },
    {
     "name": "stderr",
     "output_type": "stream",
     "text": [
      "2025-03-24 09:52:46,775: step: 20, Rewards: {'defender_1': -0.14999999999999997, 'defender_2': -0.14999999999999997}\n"
     ]
    },
    {
     "name": "stderr",
     "output_type": "stream",
     "text": [
      "2025-03-24 09:52:46,789: step: 21, Rewards: {'defender_1': -0.14999999999999997, 'defender_2': -0.14999999999999997}\n"
     ]
    },
    {
     "name": "stderr",
     "output_type": "stream",
     "text": [
      "2025-03-24 09:52:46,802: step: 22, Rewards: {'defender_1': -0.14999999999999997, 'defender_2': -0.14999999999999997}\n"
     ]
    },
    {
     "name": "stderr",
     "output_type": "stream",
     "text": [
      "2025-03-24 09:52:46,815: step: 23, Rewards: {'defender_1': -0.14999999999999997, 'defender_2': -0.14999999999999997}\n"
     ]
    },
    {
     "name": "stderr",
     "output_type": "stream",
     "text": [
      "2025-03-24 09:52:46,829: step: 24, Rewards: {'defender_1': -0.14999999999999997, 'defender_2': -0.14999999999999997}\n"
     ]
    },
    {
     "name": "stderr",
     "output_type": "stream",
     "text": [
      "2025-03-24 09:52:46,843: step: 25, Rewards: {'defender_1': -0.14999999999999997, 'defender_2': -0.14999999999999997}\n"
     ]
    },
    {
     "name": "stderr",
     "output_type": "stream",
     "text": [
      "2025-03-24 09:52:46,857: step: 26, Rewards: {'defender_1': -0.14999999999999997, 'defender_2': -0.14999999999999997}\n"
     ]
    },
    {
     "name": "stderr",
     "output_type": "stream",
     "text": [
      "2025-03-24 09:52:46,870: step: 27, Rewards: {'defender_1': -0.14999999999999997, 'defender_2': -0.14999999999999997}\n"
     ]
    },
    {
     "name": "stderr",
     "output_type": "stream",
     "text": [
      "2025-03-24 09:52:46,883: step: 28, Rewards: {'defender_1': -0.14999999999999997, 'defender_2': -0.14999999999999997}\n"
     ]
    },
    {
     "name": "stderr",
     "output_type": "stream",
     "text": [
      "2025-03-24 09:52:46,897: step: 29, Rewards: {'defender_1': -0.14999999999999997, 'defender_2': -0.14999999999999997}\n"
     ]
    },
    {
     "name": "stderr",
     "output_type": "stream",
     "text": [
      "2025-03-24 09:52:46,910: step: 30, Rewards: {'defender_1': -0.14999999999999997, 'defender_2': -0.14999999999999997}\n"
     ]
    },
    {
     "name": "stderr",
     "output_type": "stream",
     "text": [
      "2025-03-24 09:52:46,923: step: 31, Rewards: {'defender_1': -0.14999999999999997, 'defender_2': -0.14999999999999997}\n"
     ]
    },
    {
     "name": "stderr",
     "output_type": "stream",
     "text": [
      "2025-03-24 09:52:46,935: step: 32, Rewards: {'defender_1': -0.14999999999999997, 'defender_2': -0.14999999999999997}\n"
     ]
    },
    {
     "name": "stderr",
     "output_type": "stream",
     "text": [
      "2025-03-24 09:52:46,953: step: 33, Rewards: {'defender_1': -0.14999999999999997, 'defender_2': -0.14999999999999997}\n"
     ]
    },
    {
     "name": "stderr",
     "output_type": "stream",
     "text": [
      "2025-03-24 09:52:46,966: step: 34, Rewards: {'defender_1': -0.14999999999999997, 'defender_2': -0.14999999999999997}\n"
     ]
    },
    {
     "name": "stderr",
     "output_type": "stream",
     "text": [
      "2025-03-24 09:52:46,979: step: 35, Rewards: {'defender_1': -0.14999999999999997, 'defender_2': -0.14999999999999997}\n"
     ]
    },
    {
     "name": "stderr",
     "output_type": "stream",
     "text": [
      "2025-03-24 09:52:46,993: step: 36, Rewards: {'defender_1': -0.14999999999999997, 'defender_2': -0.14999999999999997}\n"
     ]
    },
    {
     "name": "stderr",
     "output_type": "stream",
     "text": [
      "2025-03-24 09:52:47,007: step: 37, Rewards: {'defender_1': -0.14999999999999997, 'defender_2': -0.14999999999999997}\n"
     ]
    },
    {
     "name": "stderr",
     "output_type": "stream",
     "text": [
      "2025-03-24 09:52:47,019: step: 38, Rewards: {'defender_1': -0.14999999999999997, 'defender_2': -0.14999999999999997}\n"
     ]
    },
    {
     "name": "stderr",
     "output_type": "stream",
     "text": [
      "2025-03-24 09:52:47,032: step: 39, Rewards: {'defender_1': -0.14999999999999997, 'defender_2': -0.14999999999999997}\n"
     ]
    },
    {
     "name": "stderr",
     "output_type": "stream",
     "text": [
      "2025-03-24 09:52:47,045: step: 40, Rewards: {'defender_1': -0.14999999999999997, 'defender_2': -0.14999999999999997}\n"
     ]
    },
    {
     "name": "stderr",
     "output_type": "stream",
     "text": [
      "2025-03-24 09:52:47,058: step: 41, Rewards: {'defender_1': -0.14999999999999997, 'defender_2': -0.14999999999999997}\n"
     ]
    },
    {
     "name": "stderr",
     "output_type": "stream",
     "text": [
      "2025-03-24 09:52:47,071: step: 42, Rewards: {'defender_1': -0.14999999999999997, 'defender_2': -0.14999999999999997}\n"
     ]
    },
    {
     "name": "stderr",
     "output_type": "stream",
     "text": [
      "2025-03-24 09:52:47,086: step: 43, Rewards: {'defender_1': -0.14999999999999997, 'defender_2': -0.14999999999999997}\n"
     ]
    },
    {
     "name": "stderr",
     "output_type": "stream",
     "text": [
      "2025-03-24 09:52:47,099: step: 44, Rewards: {'defender_1': -0.14999999999999997, 'defender_2': -0.14999999999999997}\n"
     ]
    },
    {
     "name": "stderr",
     "output_type": "stream",
     "text": [
      "2025-03-24 09:52:47,112: step: 45, Rewards: {'defender_1': -0.14999999999999997, 'defender_2': -0.14999999999999997}\n"
     ]
    },
    {
     "name": "stderr",
     "output_type": "stream",
     "text": [
      "2025-03-24 09:52:47,126: step: 46, Rewards: {'defender_1': -0.14999999999999997, 'defender_2': -0.14999999999999997}\n"
     ]
    },
    {
     "name": "stderr",
     "output_type": "stream",
     "text": [
      "2025-03-24 09:52:47,139: step: 47, Rewards: {'defender_1': -0.14999999999999997, 'defender_2': -0.14999999999999997}\n"
     ]
    },
    {
     "name": "stderr",
     "output_type": "stream",
     "text": [
      "2025-03-24 09:52:47,151: step: 48, Rewards: {'defender_1': -0.14999999999999997, 'defender_2': -0.14999999999999997}\n"
     ]
    },
    {
     "name": "stderr",
     "output_type": "stream",
     "text": [
      "2025-03-24 09:52:47,164: step: 49, Rewards: {'defender_1': -0.14999999999999997, 'defender_2': -0.14999999999999997}\n"
     ]
    },
    {
     "name": "stderr",
     "output_type": "stream",
     "text": [
      "2025-03-24 09:52:47,178: step: 50, Rewards: {'defender_1': -0.14999999999999997, 'defender_2': -0.14999999999999997}\n"
     ]
    },
    {
     "name": "stderr",
     "output_type": "stream",
     "text": [
      "2025-03-24 09:52:47,191: step: 51, Rewards: {'defender_1': -0.14999999999999997, 'defender_2': -0.14999999999999997}\n"
     ]
    },
    {
     "name": "stderr",
     "output_type": "stream",
     "text": [
      "2025-03-24 09:52:47,204: step: 52, Rewards: {'defender_1': -0.14999999999999997, 'defender_2': -0.14999999999999997}\n"
     ]
    },
    {
     "name": "stderr",
     "output_type": "stream",
     "text": [
      "2025-03-24 09:52:47,217: step: 53, Rewards: {'defender_1': -0.14999999999999997, 'defender_2': -0.14999999999999997}\n"
     ]
    },
    {
     "name": "stderr",
     "output_type": "stream",
     "text": [
      "2025-03-24 09:52:47,231: step: 54, Rewards: {'defender_1': -0.14999999999999997, 'defender_2': -0.14999999999999997}\n"
     ]
    },
    {
     "name": "stderr",
     "output_type": "stream",
     "text": [
      "2025-03-24 09:52:47,245: step: 55, Rewards: {'defender_1': -0.14999999999999997, 'defender_2': -0.14999999999999997}\n"
     ]
    },
    {
     "name": "stderr",
     "output_type": "stream",
     "text": [
      "2025-03-24 09:52:47,260: step: 56, Rewards: {'defender_1': -0.14999999999999997, 'defender_2': -0.14999999999999997}\n"
     ]
    },
    {
     "name": "stderr",
     "output_type": "stream",
     "text": [
      "2025-03-24 09:52:47,274: step: 57, Rewards: {'defender_1': -0.14999999999999997, 'defender_2': -0.14999999999999997}\n"
     ]
    },
    {
     "name": "stderr",
     "output_type": "stream",
     "text": [
      "2025-03-24 09:52:47,288: step: 58, Rewards: {'defender_1': -0.14999999999999997, 'defender_2': -0.14999999999999997}\n"
     ]
    },
    {
     "name": "stderr",
     "output_type": "stream",
     "text": [
      "2025-03-24 09:52:47,301: step: 59, Rewards: {'defender_1': -0.14999999999999997, 'defender_2': -0.14999999999999997}\n"
     ]
    },
    {
     "name": "stderr",
     "output_type": "stream",
     "text": [
      "2025-03-24 09:52:47,315: step: 60, Rewards: {'defender_1': -0.14999999999999997, 'defender_2': -0.14999999999999997}\n"
     ]
    },
    {
     "name": "stderr",
     "output_type": "stream",
     "text": [
      "2025-03-24 09:52:47,329: step: 61, Rewards: {'defender_1': -0.14999999999999997, 'defender_2': -0.14999999999999997}\n"
     ]
    },
    {
     "name": "stderr",
     "output_type": "stream",
     "text": [
      "2025-03-24 09:52:47,343: step: 62, Rewards: {'defender_1': -0.14999999999999997, 'defender_2': -0.14999999999999997}\n"
     ]
    },
    {
     "name": "stderr",
     "output_type": "stream",
     "text": [
      "2025-03-24 09:52:47,357: step: 63, Rewards: {'defender_1': -0.14999999999999997, 'defender_2': -0.14999999999999997}\n"
     ]
    },
    {
     "name": "stderr",
     "output_type": "stream",
     "text": [
      "2025-03-24 09:52:47,371: step: 64, Rewards: {'defender_1': -0.14999999999999997, 'defender_2': -0.14999999999999997}\n"
     ]
    },
    {
     "name": "stderr",
     "output_type": "stream",
     "text": [
      "2025-03-24 09:52:47,385: step: 65, Rewards: {'defender_1': -0.14999999999999997, 'defender_2': -0.14999999999999997}\n"
     ]
    },
    {
     "name": "stderr",
     "output_type": "stream",
     "text": [
      "2025-03-24 09:52:47,399: step: 66, Rewards: {'defender_1': -0.14999999999999997, 'defender_2': -0.14999999999999997}\n"
     ]
    },
    {
     "name": "stderr",
     "output_type": "stream",
     "text": [
      "2025-03-24 09:52:47,413: step: 67, Rewards: {'defender_1': -0.14999999999999997, 'defender_2': -0.14999999999999997}\n"
     ]
    },
    {
     "name": "stderr",
     "output_type": "stream",
     "text": [
      "2025-03-24 09:52:47,426: step: 68, Rewards: {'defender_1': -0.14999999999999997, 'defender_2': -0.14999999999999997}\n"
     ]
    },
    {
     "name": "stderr",
     "output_type": "stream",
     "text": [
      "2025-03-24 09:52:47,440: step: 69, Rewards: {'defender_1': -0.14999999999999997, 'defender_2': -0.14999999999999997}\n"
     ]
    },
    {
     "name": "stderr",
     "output_type": "stream",
     "text": [
      "2025-03-24 09:52:47,453: step: 70, Rewards: {'defender_1': -0.14999999999999997, 'defender_2': -0.14999999999999997}\n"
     ]
    },
    {
     "name": "stderr",
     "output_type": "stream",
     "text": [
      "2025-03-24 09:52:47,467: step: 71, Rewards: {'defender_1': -0.14999999999999997, 'defender_2': -0.14999999999999997}\n"
     ]
    },
    {
     "name": "stderr",
     "output_type": "stream",
     "text": [
      "2025-03-24 09:52:47,481: step: 72, Rewards: {'defender_1': -0.14999999999999997, 'defender_2': -0.14999999999999997}\n"
     ]
    },
    {
     "name": "stderr",
     "output_type": "stream",
     "text": [
      "2025-03-24 09:52:47,495: step: 73, Rewards: {'defender_1': -0.14999999999999997, 'defender_2': -0.14999999999999997}\n"
     ]
    },
    {
     "name": "stderr",
     "output_type": "stream",
     "text": [
      "2025-03-24 09:52:47,509: step: 74, Rewards: {'defender_1': -0.14999999999999997, 'defender_2': -0.14999999999999997}\n"
     ]
    },
    {
     "name": "stderr",
     "output_type": "stream",
     "text": [
      "2025-03-24 09:52:47,523: step: 75, Rewards: {'defender_1': -0.14999999999999997, 'defender_2': -0.14999999999999997}\n"
     ]
    },
    {
     "name": "stderr",
     "output_type": "stream",
     "text": [
      "2025-03-24 09:52:47,538: step: 76, Rewards: {'defender_1': -0.14999999999999997, 'defender_2': -0.14999999999999997}\n"
     ]
    },
    {
     "name": "stderr",
     "output_type": "stream",
     "text": [
      "2025-03-24 09:52:47,553: step: 77, Rewards: {'defender_1': -0.14999999999999997, 'defender_2': -0.14999999999999997}\n"
     ]
    },
    {
     "name": "stderr",
     "output_type": "stream",
     "text": [
      "2025-03-24 09:52:47,571: step: 78, Rewards: {'defender_1': -0.14999999999999997, 'defender_2': -0.14999999999999997}\n"
     ]
    },
    {
     "name": "stderr",
     "output_type": "stream",
     "text": [
      "2025-03-24 09:52:47,586: step: 79, Rewards: {'defender_1': -0.14999999999999997, 'defender_2': -0.14999999999999997}\n"
     ]
    },
    {
     "name": "stderr",
     "output_type": "stream",
     "text": [
      "2025-03-24 09:52:47,601: step: 80, Rewards: {'defender_1': -0.14999999999999997, 'defender_2': -0.14999999999999997}\n"
     ]
    },
    {
     "name": "stderr",
     "output_type": "stream",
     "text": [
      "2025-03-24 09:52:47,616: step: 81, Rewards: {'defender_1': -0.14999999999999997, 'defender_2': -0.14999999999999997}\n"
     ]
    },
    {
     "name": "stderr",
     "output_type": "stream",
     "text": [
      "2025-03-24 09:52:47,629: step: 82, Rewards: {'defender_1': -0.14999999999999997, 'defender_2': -0.14999999999999997}\n"
     ]
    },
    {
     "name": "stderr",
     "output_type": "stream",
     "text": [
      "2025-03-24 09:52:47,643: step: 83, Rewards: {'defender_1': -0.14999999999999997, 'defender_2': -0.14999999999999997}\n"
     ]
    },
    {
     "name": "stderr",
     "output_type": "stream",
     "text": [
      "2025-03-24 09:52:47,656: step: 84, Rewards: {'defender_1': -0.14999999999999997, 'defender_2': -0.14999999999999997}\n"
     ]
    },
    {
     "name": "stderr",
     "output_type": "stream",
     "text": [
      "2025-03-24 09:52:47,669: step: 85, Rewards: {'defender_1': -0.14999999999999997, 'defender_2': -0.14999999999999997}\n"
     ]
    },
    {
     "name": "stderr",
     "output_type": "stream",
     "text": [
      "2025-03-24 09:52:47,682: step: 86, Rewards: {'defender_1': -0.14999999999999997, 'defender_2': -0.14999999999999997}\n"
     ]
    },
    {
     "name": "stderr",
     "output_type": "stream",
     "text": [
      "2025-03-24 09:52:47,697: step: 87, Rewards: {'defender_1': -0.14999999999999997, 'defender_2': -0.14999999999999997}\n"
     ]
    },
    {
     "name": "stderr",
     "output_type": "stream",
     "text": [
      "2025-03-24 09:52:47,711: step: 88, Rewards: {'defender_1': -0.14999999999999997, 'defender_2': -0.14999999999999997}\n"
     ]
    },
    {
     "name": "stderr",
     "output_type": "stream",
     "text": [
      "2025-03-24 09:52:47,725: step: 89, Rewards: {'defender_1': -0.14999999999999997, 'defender_2': -0.14999999999999997}\n"
     ]
    },
    {
     "name": "stderr",
     "output_type": "stream",
     "text": [
      "2025-03-24 09:52:47,738: step: 90, Rewards: {'defender_1': -0.14999999999999997, 'defender_2': -0.14999999999999997}\n"
     ]
    },
    {
     "name": "stderr",
     "output_type": "stream",
     "text": [
      "2025-03-24 09:52:47,753: step: 91, Rewards: {'defender_1': -0.14999999999999997, 'defender_2': -0.14999999999999997}\n"
     ]
    },
    {
     "name": "stderr",
     "output_type": "stream",
     "text": [
      "2025-03-24 09:52:47,767: step: 92, Rewards: {'defender_1': -0.14999999999999997, 'defender_2': -0.14999999999999997}\n"
     ]
    },
    {
     "name": "stderr",
     "output_type": "stream",
     "text": [
      "2025-03-24 09:52:47,781: step: 93, Rewards: {'defender_1': -0.14999999999999997, 'defender_2': -0.14999999999999997}\n"
     ]
    },
    {
     "name": "stderr",
     "output_type": "stream",
     "text": [
      "2025-03-24 09:52:47,796: step: 94, Rewards: {'defender_1': -0.14999999999999997, 'defender_2': -0.14999999999999997}\n"
     ]
    },
    {
     "name": "stderr",
     "output_type": "stream",
     "text": [
      "2025-03-24 09:52:47,809: step: 95, Rewards: {'defender_1': -0.14999999999999997, 'defender_2': -0.14999999999999997}\n"
     ]
    },
    {
     "name": "stderr",
     "output_type": "stream",
     "text": [
      "2025-03-24 09:52:47,824: step: 96, Rewards: {'defender_1': -0.14999999999999997, 'defender_2': -0.14999999999999997}\n"
     ]
    },
    {
     "name": "stderr",
     "output_type": "stream",
     "text": [
      "2025-03-24 09:52:47,837: step: 97, Rewards: {'defender_1': -0.14999999999999997, 'defender_2': -0.14999999999999997}\n"
     ]
    },
    {
     "name": "stderr",
     "output_type": "stream",
     "text": [
      "2025-03-24 09:52:47,851: step: 98, Rewards: {'defender_1': -0.14999999999999997, 'defender_2': -0.14999999999999997}\n"
     ]
    },
    {
     "name": "stderr",
     "output_type": "stream",
     "text": [
      "2025-03-24 09:52:47,864: step: 99, Rewards: {'defender_1': -0.14999999999999997, 'defender_2': -0.14999999999999997}\n"
     ]
    },
    {
     "name": "stderr",
     "output_type": "stream",
     "text": [
      "2025-03-24 09:52:47,878: step: 100, Rewards: {'defender_1': -0.14999999999999997, 'defender_2': -0.14999999999999997}\n"
     ]
    },
    {
     "name": "stderr",
     "output_type": "stream",
     "text": [
      "2025-03-24 09:52:47,891: step: 101, Rewards: {'defender_1': -0.14999999999999997, 'defender_2': -0.14999999999999997}\n"
     ]
    },
    {
     "name": "stderr",
     "output_type": "stream",
     "text": [
      "2025-03-24 09:52:47,904: step: 102, Rewards: {'defender_1': -0.14999999999999997, 'defender_2': -0.14999999999999997}\n"
     ]
    },
    {
     "name": "stderr",
     "output_type": "stream",
     "text": [
      "2025-03-24 09:52:47,917: step: 103, Rewards: {'defender_1': -0.14999999999999997, 'defender_2': -0.14999999999999997}\n"
     ]
    },
    {
     "name": "stderr",
     "output_type": "stream",
     "text": [
      "2025-03-24 09:52:47,930: step: 104, Rewards: {'defender_1': -0.14999999999999997, 'defender_2': -0.14999999999999997}\n"
     ]
    },
    {
     "name": "stderr",
     "output_type": "stream",
     "text": [
      "2025-03-24 09:52:47,943: step: 105, Rewards: {'defender_1': -0.14999999999999997, 'defender_2': -0.14999999999999997}\n"
     ]
    },
    {
     "name": "stderr",
     "output_type": "stream",
     "text": [
      "2025-03-24 09:52:47,958: step: 106, Rewards: {'defender_1': -0.14999999999999997, 'defender_2': -0.14999999999999997}\n"
     ]
    },
    {
     "name": "stderr",
     "output_type": "stream",
     "text": [
      "2025-03-24 09:52:47,970: step: 107, Rewards: {'defender_1': -0.14999999999999997, 'defender_2': -0.14999999999999997}\n"
     ]
    },
    {
     "name": "stderr",
     "output_type": "stream",
     "text": [
      "2025-03-24 09:52:47,982: step: 108, Rewards: {'defender_1': -0.14999999999999997, 'defender_2': -0.14999999999999997}\n"
     ]
    },
    {
     "name": "stderr",
     "output_type": "stream",
     "text": [
      "2025-03-24 09:52:47,995: step: 109, Rewards: {'defender_1': -0.14999999999999997, 'defender_2': -0.14999999999999997}\n"
     ]
    },
    {
     "name": "stderr",
     "output_type": "stream",
     "text": [
      "2025-03-24 09:52:48,007: step: 110, Rewards: {'defender_1': -0.14999999999999997, 'defender_2': -0.14999999999999997}\n"
     ]
    },
    {
     "name": "stderr",
     "output_type": "stream",
     "text": [
      "2025-03-24 09:52:48,020: step: 111, Rewards: {'defender_1': -0.14999999999999997, 'defender_2': -0.14999999999999997}\n"
     ]
    },
    {
     "name": "stderr",
     "output_type": "stream",
     "text": [
      "2025-03-24 09:52:48,033: step: 112, Rewards: {'defender_1': -0.14999999999999997, 'defender_2': -0.14999999999999997}\n"
     ]
    },
    {
     "name": "stderr",
     "output_type": "stream",
     "text": [
      "2025-03-24 09:52:48,045: step: 113, Rewards: {'defender_1': -0.14999999999999997, 'defender_2': -0.14999999999999997}\n"
     ]
    },
    {
     "name": "stderr",
     "output_type": "stream",
     "text": [
      "2025-03-24 09:52:48,058: step: 114, Rewards: {'defender_1': -0.14999999999999997, 'defender_2': -0.14999999999999997}\n"
     ]
    },
    {
     "name": "stderr",
     "output_type": "stream",
     "text": [
      "2025-03-24 09:52:48,071: step: 115, Rewards: {'defender_1': -0.14999999999999997, 'defender_2': -0.14999999999999997}\n"
     ]
    },
    {
     "name": "stderr",
     "output_type": "stream",
     "text": [
      "2025-03-24 09:52:48,085: step: 116, Rewards: {'defender_1': -0.14999999999999997, 'defender_2': -0.14999999999999997}\n"
     ]
    },
    {
     "name": "stderr",
     "output_type": "stream",
     "text": [
      "2025-03-24 09:52:48,098: step: 117, Rewards: {'defender_1': -0.14999999999999997, 'defender_2': -0.14999999999999997}\n"
     ]
    },
    {
     "name": "stderr",
     "output_type": "stream",
     "text": [
      "2025-03-24 09:52:48,111: step: 118, Rewards: {'defender_1': -0.14999999999999997, 'defender_2': -0.14999999999999997}\n"
     ]
    },
    {
     "name": "stderr",
     "output_type": "stream",
     "text": [
      "2025-03-24 09:52:48,124: step: 119, Rewards: {'defender_1': -0.14999999999999997, 'defender_2': -0.14999999999999997}\n"
     ]
    },
    {
     "name": "stderr",
     "output_type": "stream",
     "text": [
      "2025-03-24 09:52:48,138: step: 120, Rewards: {'defender_1': -0.14999999999999997, 'defender_2': -0.14999999999999997}\n"
     ]
    },
    {
     "name": "stderr",
     "output_type": "stream",
     "text": [
      "2025-03-24 09:52:48,152: step: 121, Rewards: {'defender_1': -0.14999999999999997, 'defender_2': -0.14999999999999997}\n"
     ]
    },
    {
     "name": "stderr",
     "output_type": "stream",
     "text": [
      "2025-03-24 09:52:48,165: step: 122, Rewards: {'defender_1': -0.14999999999999997, 'defender_2': -0.14999999999999997}\n"
     ]
    },
    {
     "name": "stderr",
     "output_type": "stream",
     "text": [
      "2025-03-24 09:52:48,178: step: 123, Rewards: {'defender_1': -0.14999999999999997, 'defender_2': -0.14999999999999997}\n"
     ]
    },
    {
     "name": "stderr",
     "output_type": "stream",
     "text": [
      "2025-03-24 09:52:48,191: step: 124, Rewards: {'defender_1': -0.14999999999999997, 'defender_2': -0.14999999999999997}\n"
     ]
    },
    {
     "name": "stderr",
     "output_type": "stream",
     "text": [
      "2025-03-24 09:52:48,204: step: 125, Rewards: {'defender_1': -0.14999999999999997, 'defender_2': -0.14999999999999997}\n"
     ]
    },
    {
     "name": "stderr",
     "output_type": "stream",
     "text": [
      "2025-03-24 09:52:48,219: step: 126, Rewards: {'defender_1': -0.14999999999999997, 'defender_2': -0.14999999999999997}\n"
     ]
    },
    {
     "name": "stderr",
     "output_type": "stream",
     "text": [
      "2025-03-24 09:52:48,233: step: 127, Rewards: {'defender_1': -0.14999999999999997, 'defender_2': -0.14999999999999997}\n"
     ]
    },
    {
     "name": "stderr",
     "output_type": "stream",
     "text": [
      "2025-03-24 09:52:48,247: step: 128, Rewards: {'defender_1': -0.14999999999999997, 'defender_2': -0.14999999999999997}\n"
     ]
    },
    {
     "name": "stderr",
     "output_type": "stream",
     "text": [
      "2025-03-24 09:52:48,270: Resetting environment, episode 1, avg. reward: {'defender_1': -17.250000000000014, 'defender_2': -17.250000000000014}\n"
     ]
    },
    {
     "name": "stderr",
     "output_type": "stream",
     "text": [
      "2025-03-24 09:52:48,271: Saving agent action log to /home/runner/primaite/4.0.0/sessions/2025-03-24/09-52-39/agent_actions/episode_1.json\n"
     ]
    },
    {
     "name": "stderr",
     "output_type": "stream",
     "text": [
      "2025-03-24 09:52:48,627: step: 1, Rewards: {'defender_1': 0.65, 'defender_2': 0.65}\n"
     ]
    },
    {
     "name": "stderr",
     "output_type": "stream",
     "text": [
      "2025-03-24 09:52:48,639\tWARNING deprecation.py:50 -- DeprecationWarning: `_get_slice_indices` has been deprecated. This will raise an error in the future!\n"
     ]
    }
   ],
   "source": [
    "algo = config.build()\n",
    "results = algo.train()"
   ]
  },
  {
   "cell_type": "markdown",
   "metadata": {},
   "source": [
    "### Evaluate the results"
   ]
  },
  {
   "cell_type": "code",
   "execution_count": 6,
   "metadata": {
    "execution": {
     "iopub.execute_input": "2025-03-24T09:52:49.247470Z",
     "iopub.status.busy": "2025-03-24T09:52:49.247054Z",
     "iopub.status.idle": "2025-03-24T09:52:51.397178Z",
     "shell.execute_reply": "2025-03-24T09:52:51.396442Z"
    }
   },
   "outputs": [
    {
     "name": "stderr",
     "output_type": "stream",
     "text": [
      "2025-03-24 09:52:49,266: step: 2, Rewards: {'defender_1': 0.65, 'defender_2': 0.65}\n"
     ]
    },
    {
     "name": "stderr",
     "output_type": "stream",
     "text": [
      "2025-03-24 09:52:49,285: step: 3, Rewards: {'defender_1': 0.4, 'defender_2': 0.4}\n"
     ]
    },
    {
     "name": "stderr",
     "output_type": "stream",
     "text": [
      "2025-03-24 09:52:49,297: step: 4, Rewards: {'defender_1': 0.4, 'defender_2': 0.4}\n"
     ]
    },
    {
     "name": "stderr",
     "output_type": "stream",
     "text": [
      "2025-03-24 09:52:49,310: step: 5, Rewards: {'defender_1': -0.09999999999999998, 'defender_2': -0.09999999999999998}\n"
     ]
    },
    {
     "name": "stderr",
     "output_type": "stream",
     "text": [
      "2025-03-24 09:52:49,323: step: 6, Rewards: {'defender_1': -0.09999999999999998, 'defender_2': -0.09999999999999998}\n"
     ]
    },
    {
     "name": "stderr",
     "output_type": "stream",
     "text": [
      "2025-03-24 09:52:49,336: step: 7, Rewards: {'defender_1': -0.09999999999999998, 'defender_2': -0.09999999999999998}\n"
     ]
    },
    {
     "name": "stderr",
     "output_type": "stream",
     "text": [
      "2025-03-24 09:52:49,350: step: 8, Rewards: {'defender_1': -0.09999999999999998, 'defender_2': -0.09999999999999998}\n"
     ]
    },
    {
     "name": "stderr",
     "output_type": "stream",
     "text": [
      "2025-03-24 09:52:49,364: step: 9, Rewards: {'defender_1': -0.09999999999999998, 'defender_2': -0.09999999999999998}\n"
     ]
    },
    {
     "name": "stderr",
     "output_type": "stream",
     "text": [
      "2025-03-24 09:52:49,376: step: 10, Rewards: {'defender_1': -0.14999999999999997, 'defender_2': -0.14999999999999997}\n"
     ]
    },
    {
     "name": "stderr",
     "output_type": "stream",
     "text": [
      "2025-03-24 09:52:49,389: step: 11, Rewards: {'defender_1': -0.14999999999999997, 'defender_2': -0.14999999999999997}\n"
     ]
    },
    {
     "name": "stderr",
     "output_type": "stream",
     "text": [
      "2025-03-24 09:52:49,402: step: 12, Rewards: {'defender_1': -0.14999999999999997, 'defender_2': -0.14999999999999997}\n"
     ]
    },
    {
     "name": "stderr",
     "output_type": "stream",
     "text": [
      "2025-03-24 09:52:49,416: step: 13, Rewards: {'defender_1': -0.14999999999999997, 'defender_2': -0.14999999999999997}\n"
     ]
    },
    {
     "name": "stderr",
     "output_type": "stream",
     "text": [
      "2025-03-24 09:52:49,429: step: 14, Rewards: {'defender_1': -0.14999999999999997, 'defender_2': -0.14999999999999997}\n"
     ]
    },
    {
     "name": "stderr",
     "output_type": "stream",
     "text": [
      "2025-03-24 09:52:49,443: step: 15, Rewards: {'defender_1': -0.14999999999999997, 'defender_2': -0.14999999999999997}\n"
     ]
    },
    {
     "name": "stderr",
     "output_type": "stream",
     "text": [
      "2025-03-24 09:52:49,455: step: 16, Rewards: {'defender_1': -0.14999999999999997, 'defender_2': -0.14999999999999997}\n"
     ]
    },
    {
     "name": "stderr",
     "output_type": "stream",
     "text": [
      "2025-03-24 09:52:49,468: step: 17, Rewards: {'defender_1': -0.14999999999999997, 'defender_2': -0.14999999999999997}\n"
     ]
    },
    {
     "name": "stderr",
     "output_type": "stream",
     "text": [
      "2025-03-24 09:52:49,481: step: 18, Rewards: {'defender_1': -0.14999999999999997, 'defender_2': -0.14999999999999997}\n"
     ]
    },
    {
     "name": "stderr",
     "output_type": "stream",
     "text": [
      "2025-03-24 09:52:49,495: step: 19, Rewards: {'defender_1': -0.14999999999999997, 'defender_2': -0.14999999999999997}\n"
     ]
    },
    {
     "name": "stderr",
     "output_type": "stream",
     "text": [
      "2025-03-24 09:52:49,507: step: 20, Rewards: {'defender_1': -0.14999999999999997, 'defender_2': -0.14999999999999997}\n"
     ]
    },
    {
     "name": "stderr",
     "output_type": "stream",
     "text": [
      "2025-03-24 09:52:49,520: step: 21, Rewards: {'defender_1': -0.14999999999999997, 'defender_2': -0.14999999999999997}\n"
     ]
    },
    {
     "name": "stderr",
     "output_type": "stream",
     "text": [
      "2025-03-24 09:52:49,534: step: 22, Rewards: {'defender_1': -0.14999999999999997, 'defender_2': -0.14999999999999997}\n"
     ]
    },
    {
     "name": "stderr",
     "output_type": "stream",
     "text": [
      "2025-03-24 09:52:49,549: step: 23, Rewards: {'defender_1': -0.14999999999999997, 'defender_2': -0.14999999999999997}\n"
     ]
    },
    {
     "name": "stderr",
     "output_type": "stream",
     "text": [
      "2025-03-24 09:52:49,562: step: 24, Rewards: {'defender_1': -0.14999999999999997, 'defender_2': -0.14999999999999997}\n"
     ]
    },
    {
     "name": "stderr",
     "output_type": "stream",
     "text": [
      "2025-03-24 09:52:49,576: step: 25, Rewards: {'defender_1': -0.14999999999999997, 'defender_2': -0.14999999999999997}\n"
     ]
    },
    {
     "name": "stderr",
     "output_type": "stream",
     "text": [
      "2025-03-24 09:52:49,589: step: 26, Rewards: {'defender_1': -0.14999999999999997, 'defender_2': -0.14999999999999997}\n"
     ]
    },
    {
     "name": "stderr",
     "output_type": "stream",
     "text": [
      "2025-03-24 09:52:49,602: step: 27, Rewards: {'defender_1': -0.14999999999999997, 'defender_2': -0.14999999999999997}\n"
     ]
    },
    {
     "name": "stderr",
     "output_type": "stream",
     "text": [
      "2025-03-24 09:52:49,615: step: 28, Rewards: {'defender_1': -0.14999999999999997, 'defender_2': -0.14999999999999997}\n"
     ]
    },
    {
     "name": "stderr",
     "output_type": "stream",
     "text": [
      "2025-03-24 09:52:49,629: step: 29, Rewards: {'defender_1': -0.14999999999999997, 'defender_2': -0.14999999999999997}\n"
     ]
    },
    {
     "name": "stderr",
     "output_type": "stream",
     "text": [
      "2025-03-24 09:52:49,643: step: 30, Rewards: {'defender_1': -0.14999999999999997, 'defender_2': -0.14999999999999997}\n"
     ]
    },
    {
     "name": "stderr",
     "output_type": "stream",
     "text": [
      "2025-03-24 09:52:49,657: step: 31, Rewards: {'defender_1': -0.14999999999999997, 'defender_2': -0.14999999999999997}\n"
     ]
    },
    {
     "name": "stderr",
     "output_type": "stream",
     "text": [
      "2025-03-24 09:52:49,677: step: 32, Rewards: {'defender_1': -0.14999999999999997, 'defender_2': -0.14999999999999997}\n"
     ]
    },
    {
     "name": "stderr",
     "output_type": "stream",
     "text": [
      "2025-03-24 09:52:49,692: step: 33, Rewards: {'defender_1': -0.14999999999999997, 'defender_2': -0.14999999999999997}\n"
     ]
    },
    {
     "name": "stderr",
     "output_type": "stream",
     "text": [
      "2025-03-24 09:52:49,707: step: 34, Rewards: {'defender_1': -0.14999999999999997, 'defender_2': -0.14999999999999997}\n"
     ]
    },
    {
     "name": "stderr",
     "output_type": "stream",
     "text": [
      "2025-03-24 09:52:49,722: step: 35, Rewards: {'defender_1': -0.14999999999999997, 'defender_2': -0.14999999999999997}\n"
     ]
    },
    {
     "name": "stderr",
     "output_type": "stream",
     "text": [
      "2025-03-24 09:52:49,735: step: 36, Rewards: {'defender_1': -0.14999999999999997, 'defender_2': -0.14999999999999997}\n"
     ]
    },
    {
     "name": "stderr",
     "output_type": "stream",
     "text": [
      "2025-03-24 09:52:49,750: step: 37, Rewards: {'defender_1': -0.14999999999999997, 'defender_2': -0.14999999999999997}\n"
     ]
    },
    {
     "name": "stderr",
     "output_type": "stream",
     "text": [
      "2025-03-24 09:52:49,766: step: 38, Rewards: {'defender_1': -0.14999999999999997, 'defender_2': -0.14999999999999997}\n"
     ]
    },
    {
     "name": "stderr",
     "output_type": "stream",
     "text": [
      "2025-03-24 09:52:49,781: step: 39, Rewards: {'defender_1': -0.14999999999999997, 'defender_2': -0.14999999999999997}\n"
     ]
    },
    {
     "name": "stderr",
     "output_type": "stream",
     "text": [
      "2025-03-24 09:52:49,796: step: 40, Rewards: {'defender_1': -0.14999999999999997, 'defender_2': -0.14999999999999997}\n"
     ]
    },
    {
     "name": "stderr",
     "output_type": "stream",
     "text": [
      "2025-03-24 09:52:49,810: step: 41, Rewards: {'defender_1': -0.14999999999999997, 'defender_2': -0.14999999999999997}\n"
     ]
    },
    {
     "name": "stderr",
     "output_type": "stream",
     "text": [
      "2025-03-24 09:52:49,824: step: 42, Rewards: {'defender_1': -0.14999999999999997, 'defender_2': -0.14999999999999997}\n"
     ]
    },
    {
     "name": "stderr",
     "output_type": "stream",
     "text": [
      "2025-03-24 09:52:49,838: step: 43, Rewards: {'defender_1': -0.14999999999999997, 'defender_2': -0.14999999999999997}\n"
     ]
    },
    {
     "name": "stderr",
     "output_type": "stream",
     "text": [
      "2025-03-24 09:52:49,853: step: 44, Rewards: {'defender_1': -0.14999999999999997, 'defender_2': -0.14999999999999997}\n"
     ]
    },
    {
     "name": "stderr",
     "output_type": "stream",
     "text": [
      "2025-03-24 09:52:49,869: step: 45, Rewards: {'defender_1': -0.14999999999999997, 'defender_2': -0.14999999999999997}\n"
     ]
    },
    {
     "name": "stderr",
     "output_type": "stream",
     "text": [
      "2025-03-24 09:52:49,885: step: 46, Rewards: {'defender_1': -0.14999999999999997, 'defender_2': -0.14999999999999997}\n"
     ]
    },
    {
     "name": "stderr",
     "output_type": "stream",
     "text": [
      "2025-03-24 09:52:49,902: step: 47, Rewards: {'defender_1': -0.14999999999999997, 'defender_2': -0.14999999999999997}\n"
     ]
    },
    {
     "name": "stderr",
     "output_type": "stream",
     "text": [
      "2025-03-24 09:52:49,916: step: 48, Rewards: {'defender_1': -0.14999999999999997, 'defender_2': -0.14999999999999997}\n"
     ]
    },
    {
     "name": "stderr",
     "output_type": "stream",
     "text": [
      "2025-03-24 09:52:49,930: step: 49, Rewards: {'defender_1': -0.14999999999999997, 'defender_2': -0.14999999999999997}\n"
     ]
    },
    {
     "name": "stderr",
     "output_type": "stream",
     "text": [
      "2025-03-24 09:52:49,945: step: 50, Rewards: {'defender_1': -0.14999999999999997, 'defender_2': -0.14999999999999997}\n"
     ]
    },
    {
     "name": "stderr",
     "output_type": "stream",
     "text": [
      "2025-03-24 09:52:49,959: step: 51, Rewards: {'defender_1': -0.14999999999999997, 'defender_2': -0.14999999999999997}\n"
     ]
    },
    {
     "name": "stderr",
     "output_type": "stream",
     "text": [
      "2025-03-24 09:52:49,973: step: 52, Rewards: {'defender_1': -0.14999999999999997, 'defender_2': -0.14999999999999997}\n"
     ]
    },
    {
     "name": "stderr",
     "output_type": "stream",
     "text": [
      "2025-03-24 09:52:49,987: step: 53, Rewards: {'defender_1': -0.14999999999999997, 'defender_2': -0.14999999999999997}\n"
     ]
    },
    {
     "name": "stderr",
     "output_type": "stream",
     "text": [
      "2025-03-24 09:52:50,002: step: 54, Rewards: {'defender_1': -0.14999999999999997, 'defender_2': -0.14999999999999997}\n"
     ]
    },
    {
     "name": "stderr",
     "output_type": "stream",
     "text": [
      "2025-03-24 09:52:50,016: step: 55, Rewards: {'defender_1': -0.14999999999999997, 'defender_2': -0.14999999999999997}\n"
     ]
    },
    {
     "name": "stderr",
     "output_type": "stream",
     "text": [
      "2025-03-24 09:52:50,030: step: 56, Rewards: {'defender_1': -0.14999999999999997, 'defender_2': -0.14999999999999997}\n"
     ]
    },
    {
     "name": "stderr",
     "output_type": "stream",
     "text": [
      "2025-03-24 09:52:50,044: step: 57, Rewards: {'defender_1': -0.14999999999999997, 'defender_2': -0.14999999999999997}\n"
     ]
    },
    {
     "name": "stderr",
     "output_type": "stream",
     "text": [
      "2025-03-24 09:52:50,058: step: 58, Rewards: {'defender_1': -0.14999999999999997, 'defender_2': -0.14999999999999997}\n"
     ]
    },
    {
     "name": "stderr",
     "output_type": "stream",
     "text": [
      "2025-03-24 09:52:50,071: step: 59, Rewards: {'defender_1': -0.14999999999999997, 'defender_2': -0.14999999999999997}\n"
     ]
    },
    {
     "name": "stderr",
     "output_type": "stream",
     "text": [
      "2025-03-24 09:52:50,085: step: 60, Rewards: {'defender_1': -0.14999999999999997, 'defender_2': -0.14999999999999997}\n"
     ]
    },
    {
     "name": "stderr",
     "output_type": "stream",
     "text": [
      "2025-03-24 09:52:50,099: step: 61, Rewards: {'defender_1': -0.14999999999999997, 'defender_2': -0.14999999999999997}\n"
     ]
    },
    {
     "name": "stderr",
     "output_type": "stream",
     "text": [
      "2025-03-24 09:52:50,112: step: 62, Rewards: {'defender_1': -0.14999999999999997, 'defender_2': -0.14999999999999997}\n"
     ]
    },
    {
     "name": "stderr",
     "output_type": "stream",
     "text": [
      "2025-03-24 09:52:50,126: step: 63, Rewards: {'defender_1': -0.14999999999999997, 'defender_2': -0.14999999999999997}\n"
     ]
    },
    {
     "name": "stderr",
     "output_type": "stream",
     "text": [
      "2025-03-24 09:52:50,139: step: 64, Rewards: {'defender_1': -0.14999999999999997, 'defender_2': -0.14999999999999997}\n"
     ]
    },
    {
     "name": "stderr",
     "output_type": "stream",
     "text": [
      "2025-03-24 09:52:50,153: step: 65, Rewards: {'defender_1': -0.14999999999999997, 'defender_2': -0.14999999999999997}\n"
     ]
    },
    {
     "name": "stderr",
     "output_type": "stream",
     "text": [
      "2025-03-24 09:52:50,167: step: 66, Rewards: {'defender_1': -0.14999999999999997, 'defender_2': -0.14999999999999997}\n"
     ]
    },
    {
     "name": "stderr",
     "output_type": "stream",
     "text": [
      "2025-03-24 09:52:50,180: step: 67, Rewards: {'defender_1': -0.14999999999999997, 'defender_2': -0.14999999999999997}\n"
     ]
    },
    {
     "name": "stderr",
     "output_type": "stream",
     "text": [
      "2025-03-24 09:52:50,194: step: 68, Rewards: {'defender_1': -0.14999999999999997, 'defender_2': -0.14999999999999997}\n"
     ]
    },
    {
     "name": "stderr",
     "output_type": "stream",
     "text": [
      "2025-03-24 09:52:50,208: step: 69, Rewards: {'defender_1': -0.14999999999999997, 'defender_2': -0.14999999999999997}\n"
     ]
    },
    {
     "name": "stderr",
     "output_type": "stream",
     "text": [
      "2025-03-24 09:52:50,221: step: 70, Rewards: {'defender_1': -0.14999999999999997, 'defender_2': -0.14999999999999997}\n"
     ]
    },
    {
     "name": "stderr",
     "output_type": "stream",
     "text": [
      "2025-03-24 09:52:50,234: step: 71, Rewards: {'defender_1': -0.14999999999999997, 'defender_2': -0.14999999999999997}\n"
     ]
    },
    {
     "name": "stderr",
     "output_type": "stream",
     "text": [
      "2025-03-24 09:52:50,248: step: 72, Rewards: {'defender_1': -0.14999999999999997, 'defender_2': -0.14999999999999997}\n"
     ]
    },
    {
     "name": "stderr",
     "output_type": "stream",
     "text": [
      "2025-03-24 09:52:50,261: step: 73, Rewards: {'defender_1': -0.14999999999999997, 'defender_2': -0.14999999999999997}\n"
     ]
    },
    {
     "name": "stderr",
     "output_type": "stream",
     "text": [
      "2025-03-24 09:52:50,274: step: 74, Rewards: {'defender_1': -0.14999999999999997, 'defender_2': -0.14999999999999997}\n"
     ]
    },
    {
     "name": "stderr",
     "output_type": "stream",
     "text": [
      "2025-03-24 09:52:50,286: step: 75, Rewards: {'defender_1': -0.14999999999999997, 'defender_2': -0.14999999999999997}\n"
     ]
    },
    {
     "name": "stderr",
     "output_type": "stream",
     "text": [
      "2025-03-24 09:52:50,300: step: 76, Rewards: {'defender_1': -0.14999999999999997, 'defender_2': -0.14999999999999997}\n"
     ]
    },
    {
     "name": "stderr",
     "output_type": "stream",
     "text": [
      "2025-03-24 09:52:50,312: step: 77, Rewards: {'defender_1': -0.14999999999999997, 'defender_2': -0.14999999999999997}\n"
     ]
    },
    {
     "name": "stderr",
     "output_type": "stream",
     "text": [
      "2025-03-24 09:52:50,324: step: 78, Rewards: {'defender_1': -0.14999999999999997, 'defender_2': -0.14999999999999997}\n"
     ]
    },
    {
     "name": "stderr",
     "output_type": "stream",
     "text": [
      "2025-03-24 09:52:50,337: step: 79, Rewards: {'defender_1': -0.14999999999999997, 'defender_2': -0.14999999999999997}\n"
     ]
    },
    {
     "name": "stderr",
     "output_type": "stream",
     "text": [
      "2025-03-24 09:52:50,350: step: 80, Rewards: {'defender_1': -0.14999999999999997, 'defender_2': -0.14999999999999997}\n"
     ]
    },
    {
     "name": "stderr",
     "output_type": "stream",
     "text": [
      "2025-03-24 09:52:50,363: step: 81, Rewards: {'defender_1': -0.14999999999999997, 'defender_2': -0.14999999999999997}\n"
     ]
    },
    {
     "name": "stderr",
     "output_type": "stream",
     "text": [
      "2025-03-24 09:52:50,376: step: 82, Rewards: {'defender_1': -0.14999999999999997, 'defender_2': -0.14999999999999997}\n"
     ]
    },
    {
     "name": "stderr",
     "output_type": "stream",
     "text": [
      "2025-03-24 09:52:50,389: step: 83, Rewards: {'defender_1': -0.14999999999999997, 'defender_2': -0.14999999999999997}\n"
     ]
    },
    {
     "name": "stderr",
     "output_type": "stream",
     "text": [
      "2025-03-24 09:52:50,403: step: 84, Rewards: {'defender_1': -0.14999999999999997, 'defender_2': -0.14999999999999997}\n"
     ]
    },
    {
     "name": "stderr",
     "output_type": "stream",
     "text": [
      "2025-03-24 09:52:50,415: step: 85, Rewards: {'defender_1': -0.14999999999999997, 'defender_2': -0.14999999999999997}\n"
     ]
    },
    {
     "name": "stderr",
     "output_type": "stream",
     "text": [
      "2025-03-24 09:52:50,428: step: 86, Rewards: {'defender_1': -0.14999999999999997, 'defender_2': -0.14999999999999997}\n"
     ]
    },
    {
     "name": "stderr",
     "output_type": "stream",
     "text": [
      "2025-03-24 09:52:50,442: step: 87, Rewards: {'defender_1': -0.14999999999999997, 'defender_2': -0.14999999999999997}\n"
     ]
    },
    {
     "name": "stderr",
     "output_type": "stream",
     "text": [
      "2025-03-24 09:52:50,456: step: 88, Rewards: {'defender_1': -0.14999999999999997, 'defender_2': -0.14999999999999997}\n"
     ]
    },
    {
     "name": "stderr",
     "output_type": "stream",
     "text": [
      "2025-03-24 09:52:50,469: step: 89, Rewards: {'defender_1': -0.14999999999999997, 'defender_2': -0.14999999999999997}\n"
     ]
    },
    {
     "name": "stderr",
     "output_type": "stream",
     "text": [
      "2025-03-24 09:52:50,482: step: 90, Rewards: {'defender_1': -0.14999999999999997, 'defender_2': -0.14999999999999997}\n"
     ]
    },
    {
     "name": "stderr",
     "output_type": "stream",
     "text": [
      "2025-03-24 09:52:50,494: step: 91, Rewards: {'defender_1': -0.14999999999999997, 'defender_2': -0.14999999999999997}\n"
     ]
    },
    {
     "name": "stderr",
     "output_type": "stream",
     "text": [
      "2025-03-24 09:52:50,507: step: 92, Rewards: {'defender_1': -0.14999999999999997, 'defender_2': -0.14999999999999997}\n"
     ]
    },
    {
     "name": "stderr",
     "output_type": "stream",
     "text": [
      "2025-03-24 09:52:50,521: step: 93, Rewards: {'defender_1': -0.14999999999999997, 'defender_2': -0.14999999999999997}\n"
     ]
    },
    {
     "name": "stderr",
     "output_type": "stream",
     "text": [
      "2025-03-24 09:52:50,534: step: 94, Rewards: {'defender_1': -0.14999999999999997, 'defender_2': -0.14999999999999997}\n"
     ]
    },
    {
     "name": "stderr",
     "output_type": "stream",
     "text": [
      "2025-03-24 09:52:50,546: step: 95, Rewards: {'defender_1': -0.14999999999999997, 'defender_2': -0.14999999999999997}\n"
     ]
    },
    {
     "name": "stderr",
     "output_type": "stream",
     "text": [
      "2025-03-24 09:52:50,560: step: 96, Rewards: {'defender_1': -0.14999999999999997, 'defender_2': -0.14999999999999997}\n"
     ]
    },
    {
     "name": "stderr",
     "output_type": "stream",
     "text": [
      "2025-03-24 09:52:50,575: step: 97, Rewards: {'defender_1': -0.14999999999999997, 'defender_2': -0.14999999999999997}\n"
     ]
    },
    {
     "name": "stderr",
     "output_type": "stream",
     "text": [
      "2025-03-24 09:52:50,589: step: 98, Rewards: {'defender_1': -0.14999999999999997, 'defender_2': -0.14999999999999997}\n"
     ]
    },
    {
     "name": "stderr",
     "output_type": "stream",
     "text": [
      "2025-03-24 09:52:50,605: step: 99, Rewards: {'defender_1': -0.14999999999999997, 'defender_2': -0.14999999999999997}\n"
     ]
    },
    {
     "name": "stderr",
     "output_type": "stream",
     "text": [
      "2025-03-24 09:52:50,620: step: 100, Rewards: {'defender_1': -0.14999999999999997, 'defender_2': -0.14999999999999997}\n"
     ]
    },
    {
     "name": "stderr",
     "output_type": "stream",
     "text": [
      "2025-03-24 09:52:50,632: step: 101, Rewards: {'defender_1': -0.14999999999999997, 'defender_2': -0.14999999999999997}\n"
     ]
    },
    {
     "name": "stderr",
     "output_type": "stream",
     "text": [
      "2025-03-24 09:52:50,646: step: 102, Rewards: {'defender_1': -0.14999999999999997, 'defender_2': -0.14999999999999997}\n"
     ]
    },
    {
     "name": "stderr",
     "output_type": "stream",
     "text": [
      "2025-03-24 09:52:50,659: step: 103, Rewards: {'defender_1': -0.14999999999999997, 'defender_2': -0.14999999999999997}\n"
     ]
    },
    {
     "name": "stderr",
     "output_type": "stream",
     "text": [
      "2025-03-24 09:52:50,672: step: 104, Rewards: {'defender_1': -0.14999999999999997, 'defender_2': -0.14999999999999997}\n"
     ]
    },
    {
     "name": "stderr",
     "output_type": "stream",
     "text": [
      "2025-03-24 09:52:50,686: step: 105, Rewards: {'defender_1': -0.14999999999999997, 'defender_2': -0.14999999999999997}\n"
     ]
    },
    {
     "name": "stderr",
     "output_type": "stream",
     "text": [
      "2025-03-24 09:52:50,702: step: 106, Rewards: {'defender_1': -0.14999999999999997, 'defender_2': -0.14999999999999997}\n"
     ]
    },
    {
     "name": "stderr",
     "output_type": "stream",
     "text": [
      "2025-03-24 09:52:50,718: step: 107, Rewards: {'defender_1': -0.14999999999999997, 'defender_2': -0.14999999999999997}\n"
     ]
    },
    {
     "name": "stderr",
     "output_type": "stream",
     "text": [
      "2025-03-24 09:52:50,733: step: 108, Rewards: {'defender_1': -0.14999999999999997, 'defender_2': -0.14999999999999997}\n"
     ]
    },
    {
     "name": "stderr",
     "output_type": "stream",
     "text": [
      "2025-03-24 09:52:50,749: step: 109, Rewards: {'defender_1': -0.14999999999999997, 'defender_2': -0.14999999999999997}\n"
     ]
    },
    {
     "name": "stderr",
     "output_type": "stream",
     "text": [
      "2025-03-24 09:52:50,763: step: 110, Rewards: {'defender_1': -0.14999999999999997, 'defender_2': -0.14999999999999997}\n"
     ]
    },
    {
     "name": "stderr",
     "output_type": "stream",
     "text": [
      "2025-03-24 09:52:50,777: step: 111, Rewards: {'defender_1': -0.14999999999999997, 'defender_2': -0.14999999999999997}\n"
     ]
    },
    {
     "name": "stderr",
     "output_type": "stream",
     "text": [
      "2025-03-24 09:52:50,791: step: 112, Rewards: {'defender_1': -0.14999999999999997, 'defender_2': -0.14999999999999997}\n"
     ]
    },
    {
     "name": "stderr",
     "output_type": "stream",
     "text": [
      "2025-03-24 09:52:50,805: step: 113, Rewards: {'defender_1': -0.14999999999999997, 'defender_2': -0.14999999999999997}\n"
     ]
    },
    {
     "name": "stderr",
     "output_type": "stream",
     "text": [
      "2025-03-24 09:52:50,817: step: 114, Rewards: {'defender_1': -0.14999999999999997, 'defender_2': -0.14999999999999997}\n"
     ]
    },
    {
     "name": "stderr",
     "output_type": "stream",
     "text": [
      "2025-03-24 09:52:50,830: step: 115, Rewards: {'defender_1': -0.14999999999999997, 'defender_2': -0.14999999999999997}\n"
     ]
    },
    {
     "name": "stderr",
     "output_type": "stream",
     "text": [
      "2025-03-24 09:52:50,844: step: 116, Rewards: {'defender_1': -0.14999999999999997, 'defender_2': -0.14999999999999997}\n"
     ]
    },
    {
     "name": "stderr",
     "output_type": "stream",
     "text": [
      "2025-03-24 09:52:50,860: step: 117, Rewards: {'defender_1': -0.14999999999999997, 'defender_2': -0.14999999999999997}\n"
     ]
    },
    {
     "name": "stderr",
     "output_type": "stream",
     "text": [
      "2025-03-24 09:52:50,873: step: 118, Rewards: {'defender_1': -0.14999999999999997, 'defender_2': -0.14999999999999997}\n"
     ]
    },
    {
     "name": "stderr",
     "output_type": "stream",
     "text": [
      "2025-03-24 09:52:50,886: step: 119, Rewards: {'defender_1': -0.14999999999999997, 'defender_2': -0.14999999999999997}\n"
     ]
    },
    {
     "name": "stderr",
     "output_type": "stream",
     "text": [
      "2025-03-24 09:52:50,900: step: 120, Rewards: {'defender_1': -0.14999999999999997, 'defender_2': -0.14999999999999997}\n"
     ]
    },
    {
     "name": "stderr",
     "output_type": "stream",
     "text": [
      "2025-03-24 09:52:50,913: step: 121, Rewards: {'defender_1': -0.14999999999999997, 'defender_2': -0.14999999999999997}\n"
     ]
    },
    {
     "name": "stderr",
     "output_type": "stream",
     "text": [
      "2025-03-24 09:52:50,928: step: 122, Rewards: {'defender_1': -0.14999999999999997, 'defender_2': -0.14999999999999997}\n"
     ]
    },
    {
     "name": "stderr",
     "output_type": "stream",
     "text": [
      "2025-03-24 09:52:50,942: step: 123, Rewards: {'defender_1': -0.14999999999999997, 'defender_2': -0.14999999999999997}\n"
     ]
    },
    {
     "name": "stderr",
     "output_type": "stream",
     "text": [
      "2025-03-24 09:52:50,954: step: 124, Rewards: {'defender_1': -0.14999999999999997, 'defender_2': -0.14999999999999997}\n"
     ]
    },
    {
     "name": "stderr",
     "output_type": "stream",
     "text": [
      "2025-03-24 09:52:50,969: step: 125, Rewards: {'defender_1': -0.14999999999999997, 'defender_2': -0.14999999999999997}\n"
     ]
    },
    {
     "name": "stderr",
     "output_type": "stream",
     "text": [
      "2025-03-24 09:52:50,982: step: 126, Rewards: {'defender_1': -0.14999999999999997, 'defender_2': -0.14999999999999997}\n"
     ]
    },
    {
     "name": "stderr",
     "output_type": "stream",
     "text": [
      "2025-03-24 09:52:50,997: step: 127, Rewards: {'defender_1': -0.14999999999999997, 'defender_2': -0.14999999999999997}\n"
     ]
    },
    {
     "name": "stderr",
     "output_type": "stream",
     "text": [
      "2025-03-24 09:52:51,010: step: 128, Rewards: {'defender_1': -0.14999999999999997, 'defender_2': -0.14999999999999997}\n"
     ]
    },
    {
     "name": "stderr",
     "output_type": "stream",
     "text": [
      "2025-03-24 09:52:51,033: Resetting environment, episode 2, avg. reward: {'defender_1': -16.250000000000025, 'defender_2': -16.250000000000025}\n"
     ]
    },
    {
     "name": "stderr",
     "output_type": "stream",
     "text": [
      "2025-03-24 09:52:51,034: Saving agent action log to /home/runner/primaite/4.0.0/sessions/2025-03-24/09-52-39/agent_actions/episode_2.json\n"
     ]
    },
    {
     "name": "stderr",
     "output_type": "stream",
     "text": [
      "2025-03-24 09:52:51,392: step: 1, Rewards: {'defender_1': 0.65, 'defender_2': 0.65}\n"
     ]
    }
   ],
   "source": [
    "eval = algo.evaluate()"
   ]
  }
 ],
 "metadata": {
  "kernelspec": {
   "display_name": "Python 3 (ipykernel)",
   "language": "python",
   "name": "python3"
  },
  "language_info": {
   "codemirror_mode": {
    "name": "ipython",
    "version": 3
   },
   "file_extension": ".py",
   "mimetype": "text/x-python",
   "name": "python",
   "nbconvert_exporter": "python",
   "pygments_lexer": "ipython3",
   "version": "3.10.16"
  },
  "widgets": {
   "application/vnd.jupyter.widget-state+json": {
    "state": {
     "157c918b9db144fa940ed678858ad9d8": {
      "model_module": "@jupyter-widgets/controls",
      "model_module_version": "2.0.0",
      "model_name": "HTMLStyleModel",
      "state": {
       "_model_module": "@jupyter-widgets/controls",
       "_model_module_version": "2.0.0",
       "_model_name": "HTMLStyleModel",
       "_view_count": null,
       "_view_module": "@jupyter-widgets/base",
       "_view_module_version": "2.0.0",
       "_view_name": "StyleView",
       "background": null,
       "description_width": "",
       "font_size": null,
       "text_color": null
      }
     },
     "17cf94ef70e645e3926706dbb041da13": {
      "model_module": "@jupyter-widgets/controls",
      "model_module_version": "2.0.0",
      "model_name": "HTMLModel",
      "state": {
       "_dom_classes": [],
       "_model_module": "@jupyter-widgets/controls",
       "_model_module_version": "2.0.0",
       "_model_name": "HTMLModel",
       "_view_count": null,
       "_view_module": "@jupyter-widgets/controls",
       "_view_module_version": "2.0.0",
       "_view_name": "HTMLView",
       "description": "",
       "description_allow_html": false,
       "layout": "IPY_MODEL_70ffdccb32e84800af189daa4cc159db",
       "placeholder": "​",
       "style": "IPY_MODEL_157c918b9db144fa940ed678858ad9d8",
       "tabbable": null,
       "tooltip": null,
       "value": "<table class=\"jp-RenderedHTMLCommon\" style=\"border-collapse: collapse;color: var(--jp-ui-font-color1);font-size: var(--jp-ui-font-size1);\">\n    <tr>\n        <td style=\"text-align: left\"><b>Python version:</b></td>\n        <td style=\"text-align: left\"><b>3.10.16</b></td>\n    </tr>\n    <tr>\n        <td style=\"text-align: left\"><b>Ray version:</b></td>\n        <td style=\"text-align: left\"><b>2.32.0</b></td>\n    </tr>\n    \n</table>\n"
      }
     },
     "2c70823779f843edba4f861c6a998b0d": {
      "model_module": "@jupyter-widgets/base",
      "model_module_version": "2.0.0",
      "model_name": "LayoutModel",
      "state": {
       "_model_module": "@jupyter-widgets/base",
       "_model_module_version": "2.0.0",
       "_model_name": "LayoutModel",
       "_view_count": null,
       "_view_module": "@jupyter-widgets/base",
       "_view_module_version": "2.0.0",
       "_view_name": "LayoutView",
       "align_content": null,
       "align_items": null,
       "align_self": null,
       "border_bottom": null,
       "border_left": null,
       "border_right": null,
       "border_top": null,
       "bottom": null,
       "display": null,
       "flex": null,
       "flex_flow": null,
       "grid_area": null,
       "grid_auto_columns": null,
       "grid_auto_flow": null,
       "grid_auto_rows": null,
       "grid_column": null,
       "grid_gap": null,
       "grid_row": null,
       "grid_template_areas": null,
       "grid_template_columns": null,
       "grid_template_rows": null,
       "height": null,
       "justify_content": null,
       "justify_items": null,
       "left": null,
       "margin": "auto 0px 0px 0px",
       "max_height": null,
       "max_width": null,
       "min_height": null,
       "min_width": null,
       "object_fit": null,
       "object_position": null,
       "order": null,
       "overflow": null,
       "padding": null,
       "right": null,
       "top": null,
       "visibility": null,
       "width": null
      }
     },
     "675af54bebe84cb3babb3bf33c9e8133": {
      "model_module": "@jupyter-widgets/controls",
      "model_module_version": "2.0.0",
      "model_name": "ButtonStyleModel",
      "state": {
       "_model_module": "@jupyter-widgets/controls",
       "_model_module_version": "2.0.0",
       "_model_name": "ButtonStyleModel",
       "_view_count": null,
       "_view_module": "@jupyter-widgets/base",
       "_view_module_version": "2.0.0",
       "_view_name": "StyleView",
       "button_color": null,
       "font_family": null,
       "font_size": null,
       "font_style": null,
       "font_variant": null,
       "font_weight": null,
       "text_color": null,
       "text_decoration": null
      }
     },
     "70ffdccb32e84800af189daa4cc159db": {
      "model_module": "@jupyter-widgets/base",
      "model_module_version": "2.0.0",
      "model_name": "LayoutModel",
      "state": {
       "_model_module": "@jupyter-widgets/base",
       "_model_module_version": "2.0.0",
       "_model_name": "LayoutModel",
       "_view_count": null,
       "_view_module": "@jupyter-widgets/base",
       "_view_module_version": "2.0.0",
       "_view_name": "LayoutView",
       "align_content": null,
       "align_items": null,
       "align_self": null,
       "border_bottom": null,
       "border_left": null,
       "border_right": null,
       "border_top": null,
       "bottom": null,
       "display": null,
       "flex": null,
       "flex_flow": null,
       "grid_area": null,
       "grid_auto_columns": null,
       "grid_auto_flow": null,
       "grid_auto_rows": null,
       "grid_column": null,
       "grid_gap": null,
       "grid_row": null,
       "grid_template_areas": null,
       "grid_template_columns": null,
       "grid_template_rows": null,
       "height": null,
       "justify_content": null,
       "justify_items": null,
       "left": null,
       "margin": null,
       "max_height": null,
       "max_width": null,
       "min_height": null,
       "min_width": null,
       "object_fit": null,
       "object_position": null,
       "order": null,
       "overflow": null,
       "padding": null,
       "right": null,
       "top": null,
       "visibility": null,
       "width": null
      }
     },
     "7edd889f1a364565a75cc0b5b9141ee9": {
      "model_module": "@jupyter-widgets/base",
      "model_module_version": "2.0.0",
      "model_name": "LayoutModel",
      "state": {
       "_model_module": "@jupyter-widgets/base",
       "_model_module_version": "2.0.0",
       "_model_name": "LayoutModel",
       "_view_count": null,
       "_view_module": "@jupyter-widgets/base",
       "_view_module_version": "2.0.0",
       "_view_name": "LayoutView",
       "align_content": null,
       "align_items": null,
       "align_self": null,
       "border_bottom": null,
       "border_left": null,
       "border_right": null,
       "border_top": null,
       "bottom": null,
       "display": null,
       "flex": null,
       "flex_flow": null,
       "grid_area": null,
       "grid_auto_columns": null,
       "grid_auto_flow": null,
       "grid_auto_rows": null,
       "grid_column": null,
       "grid_gap": null,
       "grid_row": null,
       "grid_template_areas": null,
       "grid_template_columns": null,
       "grid_template_rows": null,
       "height": null,
       "justify_content": null,
       "justify_items": null,
       "left": null,
       "margin": null,
       "max_height": null,
       "max_width": null,
       "min_height": null,
       "min_width": null,
       "object_fit": null,
       "object_position": null,
       "order": null,
       "overflow": null,
       "padding": null,
       "right": null,
       "top": null,
       "visibility": null,
       "width": null
      }
     },
     "8089e6c8b5ea42149fff4539d519a456": {
      "model_module": "@jupyter-widgets/base",
      "model_module_version": "2.0.0",
      "model_name": "LayoutModel",
      "state": {
       "_model_module": "@jupyter-widgets/base",
       "_model_module_version": "2.0.0",
       "_model_name": "LayoutModel",
       "_view_count": null,
       "_view_module": "@jupyter-widgets/base",
       "_view_module_version": "2.0.0",
       "_view_name": "LayoutView",
       "align_content": null,
       "align_items": null,
       "align_self": null,
       "border_bottom": null,
       "border_left": null,
       "border_right": null,
       "border_top": null,
       "bottom": null,
       "display": null,
       "flex": null,
       "flex_flow": null,
       "grid_area": null,
       "grid_auto_columns": null,
       "grid_auto_flow": null,
       "grid_auto_rows": null,
       "grid_column": null,
       "grid_gap": null,
       "grid_row": null,
       "grid_template_areas": null,
       "grid_template_columns": null,
       "grid_template_rows": null,
       "height": null,
       "justify_content": null,
       "justify_items": null,
       "left": null,
       "margin": null,
       "max_height": null,
       "max_width": null,
       "min_height": null,
       "min_width": null,
       "object_fit": null,
       "object_position": null,
       "order": null,
       "overflow": null,
       "padding": null,
       "right": null,
       "top": null,
       "visibility": null,
       "width": "100%"
      }
     },
     "8bf4c68d517b4b52a11595991bf3c17d": {
      "model_module": "@jupyter-widgets/controls",
      "model_module_version": "2.0.0",
      "model_name": "HTMLStyleModel",
      "state": {
       "_model_module": "@jupyter-widgets/controls",
       "_model_module_version": "2.0.0",
       "_model_name": "HTMLStyleModel",
       "_view_count": null,
       "_view_module": "@jupyter-widgets/base",
       "_view_module_version": "2.0.0",
       "_view_name": "StyleView",
       "background": null,
       "description_width": "",
       "font_size": null,
       "text_color": null
      }
     },
     "8fd3d151fb1b46c3a4d5cc4506b5c664": {
      "model_module": "@jupyter-widgets/controls",
      "model_module_version": "2.0.0",
      "model_name": "VBoxModel",
      "state": {
       "_dom_classes": [],
       "_model_module": "@jupyter-widgets/controls",
       "_model_module_version": "2.0.0",
       "_model_name": "VBoxModel",
       "_view_count": null,
       "_view_module": "@jupyter-widgets/controls",
       "_view_module_version": "2.0.0",
       "_view_name": "VBoxView",
       "box_style": "",
       "children": [
        "IPY_MODEL_c9cea9c472d340efb6e3500d93e38ec2",
        "IPY_MODEL_a7e58841cf4a48baa6af0a0c2d6c315a"
       ],
       "layout": "IPY_MODEL_ea56a5c93bc141daa729df5b63c954af",
       "tabbable": null,
       "tooltip": null
      }
     },
     "a7e58841cf4a48baa6af0a0c2d6c315a": {
      "model_module": "@jupyter-widgets/controls",
      "model_module_version": "2.0.0",
      "model_name": "ButtonModel",
      "state": {
       "_dom_classes": [],
       "_model_module": "@jupyter-widgets/controls",
       "_model_module_version": "2.0.0",
       "_model_name": "ButtonModel",
       "_view_count": null,
       "_view_module": "@jupyter-widgets/controls",
       "_view_module_version": "2.0.0",
       "_view_name": "ButtonView",
       "button_style": "",
       "description": "Disconnect",
       "disabled": false,
       "icon": "",
       "layout": "IPY_MODEL_2c70823779f843edba4f861c6a998b0d",
       "style": "IPY_MODEL_675af54bebe84cb3babb3bf33c9e8133",
       "tabbable": null,
       "tooltip": "Disconnect from the Ray cluster"
      }
     },
     "c9cea9c472d340efb6e3500d93e38ec2": {
      "model_module": "@jupyter-widgets/controls",
      "model_module_version": "2.0.0",
      "model_name": "HTMLModel",
      "state": {
       "_dom_classes": [],
       "_model_module": "@jupyter-widgets/controls",
       "_model_module_version": "2.0.0",
       "_model_name": "HTMLModel",
       "_view_count": null,
       "_view_module": "@jupyter-widgets/controls",
       "_view_module_version": "2.0.0",
       "_view_name": "HTMLView",
       "description": "",
       "description_allow_html": false,
       "layout": "IPY_MODEL_7edd889f1a364565a75cc0b5b9141ee9",
       "placeholder": "​",
       "style": "IPY_MODEL_8bf4c68d517b4b52a11595991bf3c17d",
       "tabbable": null,
       "tooltip": null,
       "value": "<div class=\"jp-RenderedHTMLCommon\" style=\"display: flex; flex-direction: row;\">\n  <svg viewBox=\"0 0 567 224\" fill=\"none\" xmlns=\"http://www.w3.org/2000/svg\" style=\"height: 3em;\">\n    <g clip-path=\"url(#clip0_4338_178347)\">\n        <path d=\"M341.29 165.561H355.29L330.13 129.051C345.63 123.991 354.21 112.051 354.21 94.2307C354.21 71.3707 338.72 58.1807 311.88 58.1807H271V165.561H283.27V131.661H311.8C314.25 131.661 316.71 131.501 319.01 131.351L341.25 165.561H341.29ZM283.29 119.851V70.0007H311.82C331.3 70.0007 342.34 78.2907 342.34 94.5507C342.34 111.271 331.34 119.861 311.82 119.861L283.29 119.851ZM451.4 138.411L463.4 165.561H476.74L428.74 58.1807H416L367.83 165.561H380.83L392.83 138.411H451.4ZM446.19 126.601H398L422 72.1407L446.24 126.601H446.19ZM526.11 128.741L566.91 58.1807H554.35L519.99 114.181L485.17 58.1807H472.44L514.01 129.181V165.541H526.13V128.741H526.11Z\" fill=\"var(--jp-ui-font-color0)\"/>\n        <path d=\"M82.35 104.44C84.0187 97.8827 87.8248 92.0678 93.1671 87.9146C98.5094 83.7614 105.083 81.5067 111.85 81.5067C118.617 81.5067 125.191 83.7614 130.533 87.9146C135.875 92.0678 139.681 97.8827 141.35 104.44H163.75C164.476 101.562 165.622 98.8057 167.15 96.2605L127.45 56.5605C121.071 60.3522 113.526 61.6823 106.235 60.3005C98.9443 58.9187 92.4094 54.9203 87.8602 49.0574C83.3109 43.1946 81.0609 35.8714 81.5332 28.4656C82.0056 21.0599 85.1679 14.0819 90.4252 8.8446C95.6824 3.60726 102.672 0.471508 110.08 0.0272655C117.487 -0.416977 124.802 1.86091 130.647 6.4324C136.493 11.0039 140.467 17.5539 141.821 24.8501C143.175 32.1463 141.816 39.6859 138 46.0505L177.69 85.7505C182.31 82.9877 187.58 81.4995 192.962 81.4375C198.345 81.3755 203.648 82.742 208.33 85.3976C213.012 88.0532 216.907 91.9029 219.616 96.5544C222.326 101.206 223.753 106.492 223.753 111.875C223.753 117.258 222.326 122.545 219.616 127.197C216.907 131.848 213.012 135.698 208.33 138.353C203.648 141.009 198.345 142.375 192.962 142.313C187.58 142.251 182.31 140.763 177.69 138L138 177.7C141.808 184.071 143.155 191.614 141.79 198.91C140.424 206.205 136.44 212.75 130.585 217.313C124.731 221.875 117.412 224.141 110.004 223.683C102.596 223.226 95.6103 220.077 90.3621 214.828C85.1139 209.58 81.9647 202.595 81.5072 195.187C81.0497 187.779 83.3154 180.459 87.878 174.605C92.4405 168.751 98.9853 164.766 106.281 163.401C113.576 162.035 121.119 163.383 127.49 167.19L167.19 127.49C165.664 124.941 164.518 122.182 163.79 119.3H141.39C139.721 125.858 135.915 131.673 130.573 135.826C125.231 139.98 118.657 142.234 111.89 142.234C105.123 142.234 98.5494 139.98 93.2071 135.826C87.8648 131.673 84.0587 125.858 82.39 119.3H60C58.1878 126.495 53.8086 132.78 47.6863 136.971C41.5641 141.163 34.1211 142.972 26.7579 142.059C19.3947 141.146 12.6191 137.574 7.70605 132.014C2.79302 126.454 0.0813599 119.29 0.0813599 111.87C0.0813599 104.451 2.79302 97.2871 7.70605 91.7272C12.6191 86.1673 19.3947 82.5947 26.7579 81.6817C34.1211 80.7686 41.5641 82.5781 47.6863 86.7696C53.8086 90.9611 58.1878 97.2456 60 104.44H82.35ZM100.86 204.32C103.407 206.868 106.759 208.453 110.345 208.806C113.93 209.159 117.527 208.258 120.522 206.256C123.517 204.254 125.725 201.276 126.771 197.828C127.816 194.38 127.633 190.677 126.253 187.349C124.874 184.021 122.383 181.274 119.205 179.577C116.027 177.88 112.359 177.337 108.826 178.042C105.293 178.746 102.113 180.654 99.8291 183.44C97.5451 186.226 96.2979 189.718 96.3 193.32C96.2985 195.364 96.7006 197.388 97.4831 199.275C98.2656 201.163 99.4132 202.877 100.86 204.32ZM204.32 122.88C206.868 120.333 208.453 116.981 208.806 113.396C209.159 109.811 208.258 106.214 206.256 103.219C204.254 100.223 201.275 98.0151 197.827 96.97C194.38 95.9249 190.676 96.1077 187.348 97.4873C184.02 98.8669 181.274 101.358 179.577 104.536C177.879 107.714 177.337 111.382 178.041 114.915C178.746 118.448 180.653 121.627 183.439 123.911C186.226 126.195 189.717 127.443 193.32 127.44C195.364 127.443 197.388 127.042 199.275 126.259C201.163 125.476 202.878 124.328 204.32 122.88ZM122.88 19.4205C120.333 16.8729 116.981 15.2876 113.395 14.9347C109.81 14.5817 106.213 15.483 103.218 17.4849C100.223 19.4868 98.0146 22.4654 96.9696 25.9131C95.9245 29.3608 96.1073 33.0642 97.4869 36.3922C98.8665 39.7202 101.358 42.4668 104.535 44.1639C107.713 45.861 111.381 46.4036 114.914 45.6992C118.447 44.9949 121.627 43.0871 123.911 40.301C126.195 37.515 127.442 34.0231 127.44 30.4205C127.44 28.3772 127.038 26.3539 126.255 24.4664C125.473 22.5788 124.326 20.8642 122.88 19.4205ZM19.42 100.86C16.8725 103.408 15.2872 106.76 14.9342 110.345C14.5813 113.93 15.4826 117.527 17.4844 120.522C19.4863 123.518 22.4649 125.726 25.9127 126.771C29.3604 127.816 33.0638 127.633 36.3918 126.254C39.7198 124.874 42.4664 122.383 44.1635 119.205C45.8606 116.027 46.4032 112.359 45.6988 108.826C44.9944 105.293 43.0866 102.114 40.3006 99.8296C37.5145 97.5455 34.0227 96.2983 30.42 96.3005C26.2938 96.3018 22.337 97.9421 19.42 100.86ZM100.86 100.86C98.3125 103.408 96.7272 106.76 96.3742 110.345C96.0213 113.93 96.9226 117.527 98.9244 120.522C100.926 123.518 103.905 125.726 107.353 126.771C110.8 127.816 114.504 127.633 117.832 126.254C121.16 124.874 123.906 122.383 125.604 119.205C127.301 116.027 127.843 112.359 127.139 108.826C126.434 105.293 124.527 102.114 121.741 99.8296C118.955 97.5455 115.463 96.2983 111.86 96.3005C109.817 96.299 107.793 96.701 105.905 97.4835C104.018 98.2661 102.303 99.4136 100.86 100.86Z\" fill=\"#00AEEF\"/>\n    </g>\n    <defs>\n        <clipPath id=\"clip0_4338_178347\">\n            <rect width=\"566.93\" height=\"223.75\" fill=\"white\"/>\n        </clipPath>\n    </defs>\n  </svg>\n</div>\n"
      }
     },
     "ea56a5c93bc141daa729df5b63c954af": {
      "model_module": "@jupyter-widgets/base",
      "model_module_version": "2.0.0",
      "model_name": "LayoutModel",
      "state": {
       "_model_module": "@jupyter-widgets/base",
       "_model_module_version": "2.0.0",
       "_model_name": "LayoutModel",
       "_view_count": null,
       "_view_module": "@jupyter-widgets/base",
       "_view_module_version": "2.0.0",
       "_view_name": "LayoutView",
       "align_content": null,
       "align_items": null,
       "align_self": null,
       "border_bottom": null,
       "border_left": null,
       "border_right": null,
       "border_top": null,
       "bottom": null,
       "display": null,
       "flex": null,
       "flex_flow": null,
       "grid_area": null,
       "grid_auto_columns": null,
       "grid_auto_flow": null,
       "grid_auto_rows": null,
       "grid_column": null,
       "grid_gap": null,
       "grid_row": null,
       "grid_template_areas": null,
       "grid_template_columns": null,
       "grid_template_rows": null,
       "height": null,
       "justify_content": null,
       "justify_items": null,
       "left": null,
       "margin": null,
       "max_height": null,
       "max_width": null,
       "min_height": null,
       "min_width": null,
       "object_fit": null,
       "object_position": null,
       "order": null,
       "overflow": null,
       "padding": null,
       "right": null,
       "top": null,
       "visibility": null,
       "width": null
      }
     },
     "ebdb870b709b4216ba712aae081cdcbf": {
      "model_module": "@jupyter-widgets/controls",
      "model_module_version": "2.0.0",
      "model_name": "HBoxModel",
      "state": {
       "_dom_classes": [],
       "_model_module": "@jupyter-widgets/controls",
       "_model_module_version": "2.0.0",
       "_model_name": "HBoxModel",
       "_view_count": null,
       "_view_module": "@jupyter-widgets/controls",
       "_view_module_version": "2.0.0",
       "_view_name": "HBoxView",
       "box_style": "",
       "children": [
        "IPY_MODEL_8fd3d151fb1b46c3a4d5cc4506b5c664",
        "IPY_MODEL_17cf94ef70e645e3926706dbb041da13"
       ],
       "layout": "IPY_MODEL_8089e6c8b5ea42149fff4539d519a456",
       "tabbable": null,
       "tooltip": null
      }
     }
    },
    "version_major": 2,
    "version_minor": 0
   }
  }
 },
 "nbformat": 4,
 "nbformat_minor": 2
}
