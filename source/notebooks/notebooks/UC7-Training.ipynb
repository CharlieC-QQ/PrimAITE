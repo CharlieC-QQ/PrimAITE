{
 "cells": [
  {
   "cell_type": "markdown",
   "metadata": {
    "vscode": {
     "languageId": "plaintext"
    }
   },
   "source": [
    "# Training an Agent on UC7\n",
    "\n",
    "© Crown-owned copyright 2025, Defence Science and Technology Laboratory UK\n",
    "\n",
    "This notebook is identical in content to the [training an SB3 agent](./Training-an-SB3-Agent.ipynb) except this notebook trains an agent on the [use case 7 scenario](./UC7-E2E-Demo.ipynb) rather than [use case 2](./Data-Manipulation-E2E-Demonstration.ipynb). By default, the `uc7_config.yaml` blue agent (`defender`) is setup to defend against Threat Actor Profile (TAP) 001 which can be explored in more detail [here](./UC7-TAP001-Kill-Chain-E2E.ipynb).\n"
   ]
  },
  {
   "cell_type": "markdown",
   "metadata": {},
   "source": [
    "#### First, we import the inital packages and read in our configuration file."
   ]
  },
  {
   "cell_type": "code",
   "execution_count": 1,
   "metadata": {
    "execution": {
     "iopub.execute_input": "2025-03-24T09:57:44.371525Z",
     "iopub.status.busy": "2025-03-24T09:57:44.371071Z",
     "iopub.status.idle": "2025-03-24T09:57:44.794355Z",
     "shell.execute_reply": "2025-03-24T09:57:44.793522Z"
    }
   },
   "outputs": [
    {
     "name": "stdout",
     "output_type": "stream",
     "text": [
      "2025-03-24 09:57:44,637: Performing the PrimAITE first-time setup...\r\n",
      "2025-03-24 09:57:44,637: Building the PrimAITE app directories...\r\n",
      "2025-03-24 09:57:44,637: Building primaite_config.yaml...\r\n",
      "2025-03-24 09:57:44,638: Rebuilding the demo notebooks...\r\n",
      "2025-03-24 09:57:44,660: Rebuilding the example notebooks...\r\n",
      "2025-03-24 09:57:44,662: PrimAITE setup complete!\r\n"
     ]
    }
   ],
   "source": [
    "!primaite setup"
   ]
  },
  {
   "cell_type": "code",
   "execution_count": 2,
   "metadata": {
    "execution": {
     "iopub.execute_input": "2025-03-24T09:57:44.797558Z",
     "iopub.status.busy": "2025-03-24T09:57:44.797287Z",
     "iopub.status.idle": "2025-03-24T09:57:48.469718Z",
     "shell.execute_reply": "2025-03-24T09:57:48.469068Z"
    }
   },
   "outputs": [],
   "source": [
    "import yaml\n",
    "from primaite.session.environment import PrimaiteGymEnv\n",
    "from primaite import PRIMAITE_PATHS\n",
    "from prettytable import PrettyTable\n",
    "from deepdiff.diff import DeepDiff\n",
    "scenario_path = PRIMAITE_PATHS.user_config_path / \"example_config/uc7_config.yaml\""
   ]
  },
  {
   "cell_type": "code",
   "execution_count": 3,
   "metadata": {
    "execution": {
     "iopub.execute_input": "2025-03-24T09:57:48.472676Z",
     "iopub.status.busy": "2025-03-24T09:57:48.472333Z",
     "iopub.status.idle": "2025-03-24T09:57:48.903485Z",
     "shell.execute_reply": "2025-03-24T09:57:48.902924Z"
    }
   },
   "outputs": [
    {
     "name": "stderr",
     "output_type": "stream",
     "text": [
      "2025-03-24 09:57:48,900: PrimaiteGymEnv RNG seed = None\n"
     ]
    }
   ],
   "source": [
    "gym = PrimaiteGymEnv(env_config=scenario_path)"
   ]
  },
  {
   "cell_type": "code",
   "execution_count": 4,
   "metadata": {
    "execution": {
     "iopub.execute_input": "2025-03-24T09:57:48.906253Z",
     "iopub.status.busy": "2025-03-24T09:57:48.905840Z",
     "iopub.status.idle": "2025-03-24T09:57:51.042617Z",
     "shell.execute_reply": "2025-03-24T09:57:51.041930Z"
    }
   },
   "outputs": [
    {
     "name": "stderr",
     "output_type": "stream",
     "text": [
      "WARNING: All log messages before absl::InitializeLog() is called are written to STDERR\n",
      "E0000 00:00:1742810269.217227    9203 cuda_dnn.cc:8579] Unable to register cuDNN factory: Attempting to register factory for plugin cuDNN when one has already been registered\n",
      "E0000 00:00:1742810269.221691    9203 cuda_blas.cc:1407] Unable to register cuBLAS factory: Attempting to register factory for plugin cuBLAS when one has already been registered\n",
      "W0000 00:00:1742810269.233774    9203 computation_placer.cc:177] computation placer already registered. Please check linkage and avoid linking the same target more than once.\n",
      "W0000 00:00:1742810269.233786    9203 computation_placer.cc:177] computation placer already registered. Please check linkage and avoid linking the same target more than once.\n",
      "W0000 00:00:1742810269.233788    9203 computation_placer.cc:177] computation placer already registered. Please check linkage and avoid linking the same target more than once.\n",
      "W0000 00:00:1742810269.233789    9203 computation_placer.cc:177] computation placer already registered. Please check linkage and avoid linking the same target more than once.\n"
     ]
    }
   ],
   "source": [
    "from stable_baselines3 import PPO\n",
    "\n",
    "# EPISODE_LEN = 128\n",
    "EPISODE_LEN = 128\n",
    "NUM_EPISODES = 10\n",
    "NO_STEPS = EPISODE_LEN * NUM_EPISODES\n",
    "BATCH_SIZE = 32\n",
    "LEARNING_RATE = 3e-4"
   ]
  },
  {
   "cell_type": "code",
   "execution_count": 5,
   "metadata": {
    "execution": {
     "iopub.execute_input": "2025-03-24T09:57:51.046124Z",
     "iopub.status.busy": "2025-03-24T09:57:51.045366Z",
     "iopub.status.idle": "2025-03-24T09:57:52.379713Z",
     "shell.execute_reply": "2025-03-24T09:57:52.378975Z"
    }
   },
   "outputs": [],
   "source": [
    "model = PPO('MlpPolicy', gym, learning_rate=LEARNING_RATE,  n_steps=NO_STEPS, batch_size=BATCH_SIZE, verbose=0, tensorboard_log=\"./PPO_UC7/\")"
   ]
  },
  {
   "cell_type": "code",
   "execution_count": 6,
   "metadata": {
    "execution": {
     "iopub.execute_input": "2025-03-24T09:57:52.383171Z",
     "iopub.status.busy": "2025-03-24T09:57:52.382519Z",
     "iopub.status.idle": "2025-03-24T09:59:44.523546Z",
     "shell.execute_reply": "2025-03-24T09:59:44.522780Z"
    }
   },
   "outputs": [
    {
     "name": "stderr",
     "output_type": "stream",
     "text": [
      "2025-03-24 09:57:52,384: Resetting environment, episode 0, avg. reward: 0.0\n"
     ]
    },
    {
     "name": "stderr",
     "output_type": "stream",
     "text": [
      "2025-03-24 09:58:05,306: Resetting environment, episode 1, avg. reward: 120.30312499999992\n"
     ]
    },
    {
     "name": "stderr",
     "output_type": "stream",
     "text": [
      "2025-03-24 09:58:14,320: Resetting environment, episode 2, avg. reward: 120.14375000000013\n"
     ]
    },
    {
     "name": "stderr",
     "output_type": "stream",
     "text": [
      "2025-03-24 09:58:27,043: Resetting environment, episode 3, avg. reward: 121.4515624999999\n"
     ]
    },
    {
     "name": "stderr",
     "output_type": "stream",
     "text": [
      "2025-03-24 09:58:36,466: Resetting environment, episode 4, avg. reward: 132.703125\n"
     ]
    },
    {
     "name": "stderr",
     "output_type": "stream",
     "text": [
      "2025-03-24 09:58:49,621: Resetting environment, episode 5, avg. reward: 130.85625000000016\n"
     ]
    },
    {
     "name": "stderr",
     "output_type": "stream",
     "text": [
      "2025-03-24 09:58:58,545: Resetting environment, episode 6, avg. reward: 123.87812500000005\n"
     ]
    },
    {
     "name": "stderr",
     "output_type": "stream",
     "text": [
      "2025-03-24 09:59:07,254: Resetting environment, episode 7, avg. reward: 124.36250000000038\n"
     ]
    },
    {
     "name": "stderr",
     "output_type": "stream",
     "text": [
      "2025-03-24 09:59:16,760: Resetting environment, episode 8, avg. reward: 140.02500000000006\n"
     ]
    },
    {
     "name": "stderr",
     "output_type": "stream",
     "text": [
      "2025-03-24 09:59:29,817: Resetting environment, episode 9, avg. reward: 127.27187499999992\n"
     ]
    },
    {
     "name": "stderr",
     "output_type": "stream",
     "text": [
      "2025-03-24 09:59:42,874: Resetting environment, episode 10, avg. reward: 122.03124999999993\n"
     ]
    },
    {
     "data": {
      "text/plain": [
       "<stable_baselines3.ppo.ppo.PPO at 0x7f94e9134280>"
      ]
     },
     "execution_count": 6,
     "metadata": {},
     "output_type": "execute_result"
    }
   ],
   "source": [
    "model.learn(total_timesteps=NO_STEPS)"
   ]
  },
  {
   "cell_type": "code",
   "execution_count": 7,
   "metadata": {
    "execution": {
     "iopub.execute_input": "2025-03-24T09:59:44.526637Z",
     "iopub.status.busy": "2025-03-24T09:59:44.526212Z",
     "iopub.status.idle": "2025-03-24T09:59:44.541348Z",
     "shell.execute_reply": "2025-03-24T09:59:44.540774Z"
    }
   },
   "outputs": [],
   "source": [
    "model.save(\"PrimAITE-PPO-UC7-example-agent\")"
   ]
  },
  {
   "cell_type": "code",
   "execution_count": 8,
   "metadata": {
    "execution": {
     "iopub.execute_input": "2025-03-24T09:59:44.544116Z",
     "iopub.status.busy": "2025-03-24T09:59:44.543871Z",
     "iopub.status.idle": "2025-03-24T09:59:44.716460Z",
     "shell.execute_reply": "2025-03-24T09:59:44.715766Z"
    }
   },
   "outputs": [],
   "source": [
    "eval_model = PPO(\"MlpPolicy\", gym)\n",
    "eval_model = PPO.load(\"PrimAITE-PPO-UC7-example-agent\", gym)"
   ]
  },
  {
   "cell_type": "code",
   "execution_count": 9,
   "metadata": {
    "execution": {
     "iopub.execute_input": "2025-03-24T09:59:44.719990Z",
     "iopub.status.busy": "2025-03-24T09:59:44.719476Z",
     "iopub.status.idle": "2025-03-24T09:59:54.909627Z",
     "shell.execute_reply": "2025-03-24T09:59:54.908984Z"
    }
   },
   "outputs": [
    {
     "name": "stderr",
     "output_type": "stream",
     "text": [
      "/opt/hostedtoolcache/Python/3.10.16/x64/lib/python3.10/site-packages/stable_baselines3/common/evaluation.py:67: UserWarning: Evaluation environment is not wrapped with a ``Monitor`` wrapper. This may result in reporting modified episode lengths and rewards, if other wrappers happen to modify these. Consider wrapping environment first with ``Monitor`` wrapper.\n",
      "  warnings.warn(\n",
      "2025-03-24 09:59:44,792: Resetting environment, episode 11, avg. reward: 0.0\n"
     ]
    },
    {
     "name": "stderr",
     "output_type": "stream",
     "text": [
      "2025-03-24 09:59:54,727: Resetting environment, episode 12, avg. reward: 140.51406249999997\n"
     ]
    },
    {
     "data": {
      "text/plain": [
       "(140.51406466960907, 0.0)"
      ]
     },
     "execution_count": 9,
     "metadata": {},
     "output_type": "execute_result"
    }
   ],
   "source": [
    "from stable_baselines3.common.evaluation import evaluate_policy\n",
    "\n",
    "evaluate_policy(eval_model, gym, n_eval_episodes=1)"
   ]
  }
 ],
 "metadata": {
  "kernelspec": {
   "display_name": "Python 3 (ipykernel)",
   "language": "python",
   "name": "python3"
  },
  "language_info": {
   "codemirror_mode": {
    "name": "ipython",
    "version": 3
   },
   "file_extension": ".py",
   "mimetype": "text/x-python",
   "name": "python",
   "nbconvert_exporter": "python",
   "pygments_lexer": "ipython3",
   "version": "3.10.16"
  }
 },
 "nbformat": 4,
 "nbformat_minor": 2
}
